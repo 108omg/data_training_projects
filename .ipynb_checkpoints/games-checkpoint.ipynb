{
 "cells": [
  {
   "cell_type": "markdown",
   "metadata": {},
   "source": [
    "<h1>Content<span class=\"tocSkip\"></span></h1>"
   ]
  },
  {
   "cell_type": "markdown",
   "metadata": {},
   "source": [
    "We are working in internet shop, which is selling video games all around the world. We have data about games sales, critic and user scores, genres and platforms from open sources. We need to define success patterns for games.It can help us to bet on potentially popular product and to plan ad campaign."
   ]
  },
  {
   "cell_type": "markdown",
   "metadata": {},
   "source": [
    "## The review of the data"
   ]
  },
  {
   "cell_type": "code",
   "execution_count": 1,
   "metadata": {},
   "outputs": [],
   "source": [
    "#let's define libraries\n",
    "import pandas as pd\n",
    "games = pd.read_csv('')\n",
    "import math\n",
    "import matplotlib as mpl\n",
    "from matplotlib import cm\n",
    "import matplotlib.pyplot as plt\n",
    "import seaborn as sns\n",
    "import numpy as np\n",
    "from mpl_toolkits.mplot3d import Axes3D\n",
    "from scipy import stats as st\n"
   ]
  },
  {
   "cell_type": "code",
   "execution_count": 2,
   "metadata": {},
   "outputs": [
    {
     "data": {
      "text/html": [
       "<div>\n",
       "<style scoped>\n",
       "    .dataframe tbody tr th:only-of-type {\n",
       "        vertical-align: middle;\n",
       "    }\n",
       "\n",
       "    .dataframe tbody tr th {\n",
       "        vertical-align: top;\n",
       "    }\n",
       "\n",
       "    .dataframe thead th {\n",
       "        text-align: right;\n",
       "    }\n",
       "</style>\n",
       "<table border=\"1\" class=\"dataframe\">\n",
       "  <thead>\n",
       "    <tr style=\"text-align: right;\">\n",
       "      <th></th>\n",
       "      <th>Name</th>\n",
       "      <th>Platform</th>\n",
       "      <th>Year_of_Release</th>\n",
       "      <th>Genre</th>\n",
       "      <th>NA_sales</th>\n",
       "      <th>EU_sales</th>\n",
       "      <th>JP_sales</th>\n",
       "      <th>Other_sales</th>\n",
       "      <th>Critic_Score</th>\n",
       "      <th>User_Score</th>\n",
       "      <th>Rating</th>\n",
       "    </tr>\n",
       "  </thead>\n",
       "  <tbody>\n",
       "    <tr>\n",
       "      <th>0</th>\n",
       "      <td>Wii Sports</td>\n",
       "      <td>Wii</td>\n",
       "      <td>2006.0</td>\n",
       "      <td>Sports</td>\n",
       "      <td>41.36</td>\n",
       "      <td>28.96</td>\n",
       "      <td>3.77</td>\n",
       "      <td>8.45</td>\n",
       "      <td>76.0</td>\n",
       "      <td>8</td>\n",
       "      <td>E</td>\n",
       "    </tr>\n",
       "    <tr>\n",
       "      <th>1</th>\n",
       "      <td>Super Mario Bros.</td>\n",
       "      <td>NES</td>\n",
       "      <td>1985.0</td>\n",
       "      <td>Platform</td>\n",
       "      <td>29.08</td>\n",
       "      <td>3.58</td>\n",
       "      <td>6.81</td>\n",
       "      <td>0.77</td>\n",
       "      <td>NaN</td>\n",
       "      <td>NaN</td>\n",
       "      <td>NaN</td>\n",
       "    </tr>\n",
       "    <tr>\n",
       "      <th>2</th>\n",
       "      <td>Mario Kart Wii</td>\n",
       "      <td>Wii</td>\n",
       "      <td>2008.0</td>\n",
       "      <td>Racing</td>\n",
       "      <td>15.68</td>\n",
       "      <td>12.76</td>\n",
       "      <td>3.79</td>\n",
       "      <td>3.29</td>\n",
       "      <td>82.0</td>\n",
       "      <td>8.3</td>\n",
       "      <td>E</td>\n",
       "    </tr>\n",
       "    <tr>\n",
       "      <th>3</th>\n",
       "      <td>Wii Sports Resort</td>\n",
       "      <td>Wii</td>\n",
       "      <td>2009.0</td>\n",
       "      <td>Sports</td>\n",
       "      <td>15.61</td>\n",
       "      <td>10.93</td>\n",
       "      <td>3.28</td>\n",
       "      <td>2.95</td>\n",
       "      <td>80.0</td>\n",
       "      <td>8</td>\n",
       "      <td>E</td>\n",
       "    </tr>\n",
       "    <tr>\n",
       "      <th>4</th>\n",
       "      <td>Pokemon Red/Pokemon Blue</td>\n",
       "      <td>GB</td>\n",
       "      <td>1996.0</td>\n",
       "      <td>Role-Playing</td>\n",
       "      <td>11.27</td>\n",
       "      <td>8.89</td>\n",
       "      <td>10.22</td>\n",
       "      <td>1.00</td>\n",
       "      <td>NaN</td>\n",
       "      <td>NaN</td>\n",
       "      <td>NaN</td>\n",
       "    </tr>\n",
       "    <tr>\n",
       "      <th>5</th>\n",
       "      <td>Tetris</td>\n",
       "      <td>GB</td>\n",
       "      <td>1989.0</td>\n",
       "      <td>Puzzle</td>\n",
       "      <td>23.20</td>\n",
       "      <td>2.26</td>\n",
       "      <td>4.22</td>\n",
       "      <td>0.58</td>\n",
       "      <td>NaN</td>\n",
       "      <td>NaN</td>\n",
       "      <td>NaN</td>\n",
       "    </tr>\n",
       "    <tr>\n",
       "      <th>6</th>\n",
       "      <td>New Super Mario Bros.</td>\n",
       "      <td>DS</td>\n",
       "      <td>2006.0</td>\n",
       "      <td>Platform</td>\n",
       "      <td>11.28</td>\n",
       "      <td>9.14</td>\n",
       "      <td>6.50</td>\n",
       "      <td>2.88</td>\n",
       "      <td>89.0</td>\n",
       "      <td>8.5</td>\n",
       "      <td>E</td>\n",
       "    </tr>\n",
       "    <tr>\n",
       "      <th>7</th>\n",
       "      <td>Wii Play</td>\n",
       "      <td>Wii</td>\n",
       "      <td>2006.0</td>\n",
       "      <td>Misc</td>\n",
       "      <td>13.96</td>\n",
       "      <td>9.18</td>\n",
       "      <td>2.93</td>\n",
       "      <td>2.84</td>\n",
       "      <td>58.0</td>\n",
       "      <td>6.6</td>\n",
       "      <td>E</td>\n",
       "    </tr>\n",
       "    <tr>\n",
       "      <th>8</th>\n",
       "      <td>New Super Mario Bros. Wii</td>\n",
       "      <td>Wii</td>\n",
       "      <td>2009.0</td>\n",
       "      <td>Platform</td>\n",
       "      <td>14.44</td>\n",
       "      <td>6.94</td>\n",
       "      <td>4.70</td>\n",
       "      <td>2.24</td>\n",
       "      <td>87.0</td>\n",
       "      <td>8.4</td>\n",
       "      <td>E</td>\n",
       "    </tr>\n",
       "    <tr>\n",
       "      <th>9</th>\n",
       "      <td>Duck Hunt</td>\n",
       "      <td>NES</td>\n",
       "      <td>1984.0</td>\n",
       "      <td>Shooter</td>\n",
       "      <td>26.93</td>\n",
       "      <td>0.63</td>\n",
       "      <td>0.28</td>\n",
       "      <td>0.47</td>\n",
       "      <td>NaN</td>\n",
       "      <td>NaN</td>\n",
       "      <td>NaN</td>\n",
       "    </tr>\n",
       "  </tbody>\n",
       "</table>\n",
       "</div>"
      ],
      "text/plain": [
       "                        Name Platform  Year_of_Release         Genre  \\\n",
       "0                 Wii Sports      Wii           2006.0        Sports   \n",
       "1          Super Mario Bros.      NES           1985.0      Platform   \n",
       "2             Mario Kart Wii      Wii           2008.0        Racing   \n",
       "3          Wii Sports Resort      Wii           2009.0        Sports   \n",
       "4   Pokemon Red/Pokemon Blue       GB           1996.0  Role-Playing   \n",
       "5                     Tetris       GB           1989.0        Puzzle   \n",
       "6      New Super Mario Bros.       DS           2006.0      Platform   \n",
       "7                   Wii Play      Wii           2006.0          Misc   \n",
       "8  New Super Mario Bros. Wii      Wii           2009.0      Platform   \n",
       "9                  Duck Hunt      NES           1984.0       Shooter   \n",
       "\n",
       "   NA_sales  EU_sales  JP_sales  Other_sales  Critic_Score User_Score Rating  \n",
       "0     41.36     28.96      3.77         8.45          76.0          8      E  \n",
       "1     29.08      3.58      6.81         0.77           NaN        NaN    NaN  \n",
       "2     15.68     12.76      3.79         3.29          82.0        8.3      E  \n",
       "3     15.61     10.93      3.28         2.95          80.0          8      E  \n",
       "4     11.27      8.89     10.22         1.00           NaN        NaN    NaN  \n",
       "5     23.20      2.26      4.22         0.58           NaN        NaN    NaN  \n",
       "6     11.28      9.14      6.50         2.88          89.0        8.5      E  \n",
       "7     13.96      9.18      2.93         2.84          58.0        6.6      E  \n",
       "8     14.44      6.94      4.70         2.24          87.0        8.4      E  \n",
       "9     26.93      0.63      0.28         0.47           NaN        NaN    NaN  "
      ]
     },
     "metadata": {},
     "output_type": "display_data"
    },
    {
     "name": "stdout",
     "output_type": "stream",
     "text": [
      "<class 'pandas.core.frame.DataFrame'>\n",
      "RangeIndex: 16715 entries, 0 to 16714\n",
      "Data columns (total 11 columns):\n",
      " #   Column           Non-Null Count  Dtype  \n",
      "---  ------           --------------  -----  \n",
      " 0   Name             16713 non-null  object \n",
      " 1   Platform         16715 non-null  object \n",
      " 2   Year_of_Release  16446 non-null  float64\n",
      " 3   Genre            16713 non-null  object \n",
      " 4   NA_sales         16715 non-null  float64\n",
      " 5   EU_sales         16715 non-null  float64\n",
      " 6   JP_sales         16715 non-null  float64\n",
      " 7   Other_sales      16715 non-null  float64\n",
      " 8   Critic_Score     8137 non-null   float64\n",
      " 9   User_Score       10014 non-null  object \n",
      " 10  Rating           9949 non-null   object \n",
      "dtypes: float64(6), object(5)\n",
      "memory usage: 1.4+ MB\n"
     ]
    }
   ],
   "source": [
    "\n",
    "display(games.head(10))\n",
    "games.info()"
   ]
  },
  {
   "cell_type": "markdown",
   "metadata": {},
   "source": [
    "### Summary:\n",
    "\n",
    "In dataset <b>games</b> there are folowing fields:\n",
    "<ul>\n",
    "<li> Name — name of a game</li>\n",
    "<li>Platform — a platform, on which a game was released</li>\n",
    "<li>Year_of_Release — year of a game realease</li>\n",
    "<li>Genre — genre of a game</li>  \n",
    "<li>NA_sales — sales in North America (millions of sold copies)</li>\n",
    "<li>EU_sales — sales in Europe (millions of sold copies)</li>\n",
    "<li>JP_sales — sales in Japan (millions of sold copies)</li>\n",
    "<li>Other_sales — sales in other countries (millions of sold copies)</li>\n",
    "<li>Critic_Score — scores by critics (maximum 100)</li>\n",
    "<li>User_Score — scores by users (maximum 10)</li>\n",
    "<li>Rating — rating by ESRB organization (Entertainment Software Rating Board). This organization defines a rating of computer games and categorizes them by age.</li></ul>\n",
    "\n",
    "\n",
    "There are 11 columns in dataset, 16715 entries. <ul>\n",
    "<li>Column Name has an object format, there are 2 missing values. </li>\n",
    "<li>Column Platform has an object format, there aren't missing values.</li>\n",
    "<li>Column Year_of_Release has float64 format, there are 269 missing values in it.</li> \n",
    "    <li>Column Genre has an object format, there are 2 missing values.</li> \n",
    "    <li>Column NA_sales  имеет формат float64, there aren't missing values.</li>\n",
    "    <li>Column EU_sales имеет формат float64, there aren't missing values.</li>\n",
    "    <li>Column JP_sales имеет формат float64, there aren't missing values. </li>\n",
    "    <li>Column Other_sales имеет формат float64, there aren't missing values. </li>\n",
    "    <li>Column Critic_Score имеет формат float64, there are 8578 missing values. </li>\n",
    "    <li>Column User_Score has an object format, there are 6701 missing values.\n",
    "    <li>Column Rating has an object format, there are 6773 missing values. </li></ul>\n",
    "    \n",
    "When studying the initial information, the following problews were found in a dataset: Name of columns are not unified and begin with capital letters, there are missing values in columns Name, Year_of_Release, Genre, Critic_Score, User_Score, Raiting. Besides that, a column with numeric values User_Score  has an object format.\n",
    " \n",
    "    "
   ]
  },
  {
   "cell_type": "markdown",
   "metadata": {},
   "source": [
    "## Preparing to data processing\n"
   ]
  },
  {
   "cell_type": "markdown",
   "metadata": {},
   "source": [
    "To process the data in dataset correctly, we need to do:\n",
    "<ul>\n",
    "<li>To change names in columns</li>\n",
    "<li>To convert data to correct types </li>\n",
    "<li>To process missing values, if it's necessary.</li>\n",
    "<li>To describe the reasons of missing values</li>\n",
    "<li>To calculate total sales in all regions and record them in a new column.</li>"
   ]
  },
  {
   "cell_type": "markdown",
   "metadata": {},
   "source": [
    "### Changing names in columns\n"
   ]
  },
  {
   "cell_type": "code",
   "execution_count": 3,
   "metadata": {
    "scrolled": true
   },
   "outputs": [
    {
     "data": {
      "text/html": [
       "<div>\n",
       "<style scoped>\n",
       "    .dataframe tbody tr th:only-of-type {\n",
       "        vertical-align: middle;\n",
       "    }\n",
       "\n",
       "    .dataframe tbody tr th {\n",
       "        vertical-align: top;\n",
       "    }\n",
       "\n",
       "    .dataframe thead th {\n",
       "        text-align: right;\n",
       "    }\n",
       "</style>\n",
       "<table border=\"1\" class=\"dataframe\">\n",
       "  <thead>\n",
       "    <tr style=\"text-align: right;\">\n",
       "      <th></th>\n",
       "      <th>name</th>\n",
       "      <th>platform</th>\n",
       "      <th>year_of_release</th>\n",
       "      <th>genre</th>\n",
       "      <th>na_sales</th>\n",
       "      <th>eu_sales</th>\n",
       "      <th>jp_sales</th>\n",
       "      <th>other_sales</th>\n",
       "      <th>critic_score</th>\n",
       "      <th>user_score</th>\n",
       "      <th>rating</th>\n",
       "    </tr>\n",
       "  </thead>\n",
       "  <tbody>\n",
       "    <tr>\n",
       "      <th>0</th>\n",
       "      <td>Wii Sports</td>\n",
       "      <td>Wii</td>\n",
       "      <td>2006.0</td>\n",
       "      <td>Sports</td>\n",
       "      <td>41.36</td>\n",
       "      <td>28.96</td>\n",
       "      <td>3.77</td>\n",
       "      <td>8.45</td>\n",
       "      <td>76.0</td>\n",
       "      <td>8</td>\n",
       "      <td>E</td>\n",
       "    </tr>\n",
       "    <tr>\n",
       "      <th>1</th>\n",
       "      <td>Super Mario Bros.</td>\n",
       "      <td>NES</td>\n",
       "      <td>1985.0</td>\n",
       "      <td>Platform</td>\n",
       "      <td>29.08</td>\n",
       "      <td>3.58</td>\n",
       "      <td>6.81</td>\n",
       "      <td>0.77</td>\n",
       "      <td>NaN</td>\n",
       "      <td>NaN</td>\n",
       "      <td>NaN</td>\n",
       "    </tr>\n",
       "    <tr>\n",
       "      <th>2</th>\n",
       "      <td>Mario Kart Wii</td>\n",
       "      <td>Wii</td>\n",
       "      <td>2008.0</td>\n",
       "      <td>Racing</td>\n",
       "      <td>15.68</td>\n",
       "      <td>12.76</td>\n",
       "      <td>3.79</td>\n",
       "      <td>3.29</td>\n",
       "      <td>82.0</td>\n",
       "      <td>8.3</td>\n",
       "      <td>E</td>\n",
       "    </tr>\n",
       "    <tr>\n",
       "      <th>3</th>\n",
       "      <td>Wii Sports Resort</td>\n",
       "      <td>Wii</td>\n",
       "      <td>2009.0</td>\n",
       "      <td>Sports</td>\n",
       "      <td>15.61</td>\n",
       "      <td>10.93</td>\n",
       "      <td>3.28</td>\n",
       "      <td>2.95</td>\n",
       "      <td>80.0</td>\n",
       "      <td>8</td>\n",
       "      <td>E</td>\n",
       "    </tr>\n",
       "    <tr>\n",
       "      <th>4</th>\n",
       "      <td>Pokemon Red/Pokemon Blue</td>\n",
       "      <td>GB</td>\n",
       "      <td>1996.0</td>\n",
       "      <td>Role-Playing</td>\n",
       "      <td>11.27</td>\n",
       "      <td>8.89</td>\n",
       "      <td>10.22</td>\n",
       "      <td>1.00</td>\n",
       "      <td>NaN</td>\n",
       "      <td>NaN</td>\n",
       "      <td>NaN</td>\n",
       "    </tr>\n",
       "  </tbody>\n",
       "</table>\n",
       "</div>"
      ],
      "text/plain": [
       "                       name platform  year_of_release         genre  na_sales  \\\n",
       "0                Wii Sports      Wii           2006.0        Sports     41.36   \n",
       "1         Super Mario Bros.      NES           1985.0      Platform     29.08   \n",
       "2            Mario Kart Wii      Wii           2008.0        Racing     15.68   \n",
       "3         Wii Sports Resort      Wii           2009.0        Sports     15.61   \n",
       "4  Pokemon Red/Pokemon Blue       GB           1996.0  Role-Playing     11.27   \n",
       "\n",
       "   eu_sales  jp_sales  other_sales  critic_score user_score rating  \n",
       "0     28.96      3.77         8.45          76.0          8      E  \n",
       "1      3.58      6.81         0.77           NaN        NaN    NaN  \n",
       "2     12.76      3.79         3.29          82.0        8.3      E  \n",
       "3     10.93      3.28         2.95          80.0          8      E  \n",
       "4      8.89     10.22         1.00           NaN        NaN    NaN  "
      ]
     },
     "metadata": {},
     "output_type": "display_data"
    }
   ],
   "source": [
    "games.columns = map(str.lower, games.columns)\n",
    "display(games.head(5))"
   ]
  },
  {
   "cell_type": "markdown",
   "metadata": {},
   "source": [
    "### Converting data to correct types"
   ]
  },
  {
   "cell_type": "code",
   "execution_count": 4,
   "metadata": {},
   "outputs": [],
   "source": [
    "games['critic_score'] = pd.to_numeric(games['critic_score'], errors='coerce')"
   ]
  },
  {
   "cell_type": "markdown",
   "metadata": {},
   "source": [
    "\n",
    "When converting the user_score column from object to float8, there is a problem with the column, which in addition to numerical values, contains the tbd value.\n",
    "There was also a problem when converting the year_of_release column to int32, because there are blank spaces.\n",
    "\n"
   ]
  },
  {
   "cell_type": "markdown",
   "metadata": {},
   "source": [
    "### Processing missing values\n"
   ]
  },
  {
   "cell_type": "code",
   "execution_count": 5,
   "metadata": {},
   "outputs": [
    {
     "data": {
      "text/html": [
       "<div>\n",
       "<style scoped>\n",
       "    .dataframe tbody tr th:only-of-type {\n",
       "        vertical-align: middle;\n",
       "    }\n",
       "\n",
       "    .dataframe tbody tr th {\n",
       "        vertical-align: top;\n",
       "    }\n",
       "\n",
       "    .dataframe thead th {\n",
       "        text-align: right;\n",
       "    }\n",
       "</style>\n",
       "<table border=\"1\" class=\"dataframe\">\n",
       "  <thead>\n",
       "    <tr style=\"text-align: right;\">\n",
       "      <th></th>\n",
       "      <th>name</th>\n",
       "      <th>platform</th>\n",
       "      <th>year_of_release</th>\n",
       "      <th>genre</th>\n",
       "      <th>na_sales</th>\n",
       "      <th>eu_sales</th>\n",
       "      <th>jp_sales</th>\n",
       "      <th>other_sales</th>\n",
       "      <th>critic_score</th>\n",
       "      <th>user_score</th>\n",
       "      <th>rating</th>\n",
       "    </tr>\n",
       "  </thead>\n",
       "  <tbody>\n",
       "    <tr>\n",
       "      <th>659</th>\n",
       "      <td>NaN</td>\n",
       "      <td>GEN</td>\n",
       "      <td>1993.0</td>\n",
       "      <td>NaN</td>\n",
       "      <td>1.78</td>\n",
       "      <td>0.53</td>\n",
       "      <td>0.00</td>\n",
       "      <td>0.08</td>\n",
       "      <td>NaN</td>\n",
       "      <td>NaN</td>\n",
       "      <td>NaN</td>\n",
       "    </tr>\n",
       "    <tr>\n",
       "      <th>14244</th>\n",
       "      <td>NaN</td>\n",
       "      <td>GEN</td>\n",
       "      <td>1993.0</td>\n",
       "      <td>NaN</td>\n",
       "      <td>0.00</td>\n",
       "      <td>0.00</td>\n",
       "      <td>0.03</td>\n",
       "      <td>0.00</td>\n",
       "      <td>NaN</td>\n",
       "      <td>NaN</td>\n",
       "      <td>NaN</td>\n",
       "    </tr>\n",
       "  </tbody>\n",
       "</table>\n",
       "</div>"
      ],
      "text/plain": [
       "      name platform  year_of_release genre  na_sales  eu_sales  jp_sales  \\\n",
       "659    NaN      GEN           1993.0   NaN      1.78      0.53      0.00   \n",
       "14244  NaN      GEN           1993.0   NaN      0.00      0.00      0.03   \n",
       "\n",
       "       other_sales  critic_score user_score rating  \n",
       "659           0.08           NaN        NaN    NaN  \n",
       "14244         0.00           NaN        NaN    NaN  "
      ]
     },
     "metadata": {},
     "output_type": "display_data"
    }
   ],
   "source": [
    "display(games[games['name'].isnull()])"
   ]
  },
  {
   "cell_type": "markdown",
   "metadata": {},
   "source": [
    "It seems, that the games with null values hadn't official name, because it is 1993 year of release. We should delete these two entries from dataset, because there are no name of games and genre, and a year of release is 1993 - this data is not interesting for us."
   ]
  },
  {
   "cell_type": "code",
   "execution_count": 6,
   "metadata": {},
   "outputs": [
    {
     "name": "stdout",
     "output_type": "stream",
     "text": [
      "<class 'pandas.core.frame.DataFrame'>\n",
      "RangeIndex: 16713 entries, 0 to 16712\n",
      "Data columns (total 11 columns):\n",
      " #   Column           Non-Null Count  Dtype  \n",
      "---  ------           --------------  -----  \n",
      " 0   name             16713 non-null  object \n",
      " 1   platform         16713 non-null  object \n",
      " 2   year_of_release  16444 non-null  float64\n",
      " 3   genre            16713 non-null  object \n",
      " 4   na_sales         16713 non-null  float64\n",
      " 5   eu_sales         16713 non-null  float64\n",
      " 6   jp_sales         16713 non-null  float64\n",
      " 7   other_sales      16713 non-null  float64\n",
      " 8   critic_score     8137 non-null   float64\n",
      " 9   user_score       10014 non-null  object \n",
      " 10  rating           9949 non-null   object \n",
      "dtypes: float64(6), object(5)\n",
      "memory usage: 1.4+ MB\n"
     ]
    }
   ],
   "source": [
    "games = games.drop(games[games['name'].isnull()].index)\n",
    "games = games.reset_index(drop=True)\n",
    "games.info()"
   ]
  },
  {
   "cell_type": "markdown",
   "metadata": {},
   "source": [
    "Let's fill null values, replace missing values with 0 and convert the data to int in the year_of_release column."
   ]
  },
  {
   "cell_type": "code",
   "execution_count": 7,
   "metadata": {},
   "outputs": [
    {
     "name": "stdout",
     "output_type": "stream",
     "text": [
      "<class 'pandas.core.frame.DataFrame'>\n",
      "RangeIndex: 16713 entries, 0 to 16712\n",
      "Data columns (total 11 columns):\n",
      " #   Column           Non-Null Count  Dtype  \n",
      "---  ------           --------------  -----  \n",
      " 0   name             16713 non-null  object \n",
      " 1   platform         16713 non-null  object \n",
      " 2   year_of_release  16713 non-null  float64\n",
      " 3   genre            16713 non-null  object \n",
      " 4   na_sales         16713 non-null  float64\n",
      " 5   eu_sales         16713 non-null  float64\n",
      " 6   jp_sales         16713 non-null  float64\n",
      " 7   other_sales      16713 non-null  float64\n",
      " 8   critic_score     8137 non-null   float64\n",
      " 9   user_score       10014 non-null  object \n",
      " 10  rating           9949 non-null   object \n",
      "dtypes: float64(6), object(5)\n",
      "memory usage: 1.4+ MB\n"
     ]
    },
    {
     "data": {
      "text/html": [
       "<div>\n",
       "<style scoped>\n",
       "    .dataframe tbody tr th:only-of-type {\n",
       "        vertical-align: middle;\n",
       "    }\n",
       "\n",
       "    .dataframe tbody tr th {\n",
       "        vertical-align: top;\n",
       "    }\n",
       "\n",
       "    .dataframe thead th {\n",
       "        text-align: right;\n",
       "    }\n",
       "</style>\n",
       "<table border=\"1\" class=\"dataframe\">\n",
       "  <thead>\n",
       "    <tr style=\"text-align: right;\">\n",
       "      <th></th>\n",
       "      <th>name</th>\n",
       "      <th>platform</th>\n",
       "      <th>year_of_release</th>\n",
       "      <th>genre</th>\n",
       "      <th>na_sales</th>\n",
       "      <th>eu_sales</th>\n",
       "      <th>jp_sales</th>\n",
       "      <th>other_sales</th>\n",
       "      <th>critic_score</th>\n",
       "      <th>user_score</th>\n",
       "      <th>rating</th>\n",
       "    </tr>\n",
       "  </thead>\n",
       "  <tbody>\n",
       "    <tr>\n",
       "      <th>183</th>\n",
       "      <td>Madden NFL 2004</td>\n",
       "      <td>PS2</td>\n",
       "      <td>0.0</td>\n",
       "      <td>Sports</td>\n",
       "      <td>4.26</td>\n",
       "      <td>0.26</td>\n",
       "      <td>0.01</td>\n",
       "      <td>0.71</td>\n",
       "      <td>94.0</td>\n",
       "      <td>8.5</td>\n",
       "      <td>E</td>\n",
       "    </tr>\n",
       "    <tr>\n",
       "      <th>377</th>\n",
       "      <td>FIFA Soccer 2004</td>\n",
       "      <td>PS2</td>\n",
       "      <td>0.0</td>\n",
       "      <td>Sports</td>\n",
       "      <td>0.59</td>\n",
       "      <td>2.36</td>\n",
       "      <td>0.04</td>\n",
       "      <td>0.51</td>\n",
       "      <td>84.0</td>\n",
       "      <td>6.4</td>\n",
       "      <td>E</td>\n",
       "    </tr>\n",
       "    <tr>\n",
       "      <th>456</th>\n",
       "      <td>LEGO Batman: The Videogame</td>\n",
       "      <td>Wii</td>\n",
       "      <td>0.0</td>\n",
       "      <td>Action</td>\n",
       "      <td>1.80</td>\n",
       "      <td>0.97</td>\n",
       "      <td>0.00</td>\n",
       "      <td>0.29</td>\n",
       "      <td>74.0</td>\n",
       "      <td>7.9</td>\n",
       "      <td>E10+</td>\n",
       "    </tr>\n",
       "    <tr>\n",
       "      <th>475</th>\n",
       "      <td>wwe Smackdown vs. Raw 2006</td>\n",
       "      <td>PS2</td>\n",
       "      <td>0.0</td>\n",
       "      <td>Fighting</td>\n",
       "      <td>1.57</td>\n",
       "      <td>1.02</td>\n",
       "      <td>0.00</td>\n",
       "      <td>0.41</td>\n",
       "      <td>NaN</td>\n",
       "      <td>NaN</td>\n",
       "      <td>NaN</td>\n",
       "    </tr>\n",
       "    <tr>\n",
       "      <th>609</th>\n",
       "      <td>Space Invaders</td>\n",
       "      <td>2600</td>\n",
       "      <td>0.0</td>\n",
       "      <td>Shooter</td>\n",
       "      <td>2.36</td>\n",
       "      <td>0.14</td>\n",
       "      <td>0.00</td>\n",
       "      <td>0.03</td>\n",
       "      <td>NaN</td>\n",
       "      <td>NaN</td>\n",
       "      <td>NaN</td>\n",
       "    </tr>\n",
       "    <tr>\n",
       "      <th>...</th>\n",
       "      <td>...</td>\n",
       "      <td>...</td>\n",
       "      <td>...</td>\n",
       "      <td>...</td>\n",
       "      <td>...</td>\n",
       "      <td>...</td>\n",
       "      <td>...</td>\n",
       "      <td>...</td>\n",
       "      <td>...</td>\n",
       "      <td>...</td>\n",
       "      <td>...</td>\n",
       "    </tr>\n",
       "    <tr>\n",
       "      <th>16371</th>\n",
       "      <td>PDC World Championship Darts 2008</td>\n",
       "      <td>PSP</td>\n",
       "      <td>0.0</td>\n",
       "      <td>Sports</td>\n",
       "      <td>0.01</td>\n",
       "      <td>0.00</td>\n",
       "      <td>0.00</td>\n",
       "      <td>0.00</td>\n",
       "      <td>43.0</td>\n",
       "      <td>tbd</td>\n",
       "      <td>E10+</td>\n",
       "    </tr>\n",
       "    <tr>\n",
       "      <th>16403</th>\n",
       "      <td>Freaky Flyers</td>\n",
       "      <td>GC</td>\n",
       "      <td>0.0</td>\n",
       "      <td>Racing</td>\n",
       "      <td>0.01</td>\n",
       "      <td>0.00</td>\n",
       "      <td>0.00</td>\n",
       "      <td>0.00</td>\n",
       "      <td>69.0</td>\n",
       "      <td>6.5</td>\n",
       "      <td>T</td>\n",
       "    </tr>\n",
       "    <tr>\n",
       "      <th>16446</th>\n",
       "      <td>Inversion</td>\n",
       "      <td>PC</td>\n",
       "      <td>0.0</td>\n",
       "      <td>Shooter</td>\n",
       "      <td>0.01</td>\n",
       "      <td>0.00</td>\n",
       "      <td>0.00</td>\n",
       "      <td>0.00</td>\n",
       "      <td>59.0</td>\n",
       "      <td>6.7</td>\n",
       "      <td>M</td>\n",
       "    </tr>\n",
       "    <tr>\n",
       "      <th>16456</th>\n",
       "      <td>Hakuouki: Shinsengumi Kitan</td>\n",
       "      <td>PS3</td>\n",
       "      <td>0.0</td>\n",
       "      <td>Adventure</td>\n",
       "      <td>0.01</td>\n",
       "      <td>0.00</td>\n",
       "      <td>0.00</td>\n",
       "      <td>0.00</td>\n",
       "      <td>NaN</td>\n",
       "      <td>NaN</td>\n",
       "      <td>NaN</td>\n",
       "    </tr>\n",
       "    <tr>\n",
       "      <th>16520</th>\n",
       "      <td>Virtua Quest</td>\n",
       "      <td>GC</td>\n",
       "      <td>0.0</td>\n",
       "      <td>Role-Playing</td>\n",
       "      <td>0.01</td>\n",
       "      <td>0.00</td>\n",
       "      <td>0.00</td>\n",
       "      <td>0.00</td>\n",
       "      <td>55.0</td>\n",
       "      <td>5.5</td>\n",
       "      <td>T</td>\n",
       "    </tr>\n",
       "  </tbody>\n",
       "</table>\n",
       "<p>269 rows × 11 columns</p>\n",
       "</div>"
      ],
      "text/plain": [
       "                                    name platform  year_of_release  \\\n",
       "183                      Madden NFL 2004      PS2              0.0   \n",
       "377                     FIFA Soccer 2004      PS2              0.0   \n",
       "456           LEGO Batman: The Videogame      Wii              0.0   \n",
       "475           wwe Smackdown vs. Raw 2006      PS2              0.0   \n",
       "609                       Space Invaders     2600              0.0   \n",
       "...                                  ...      ...              ...   \n",
       "16371  PDC World Championship Darts 2008      PSP              0.0   \n",
       "16403                      Freaky Flyers       GC              0.0   \n",
       "16446                          Inversion       PC              0.0   \n",
       "16456        Hakuouki: Shinsengumi Kitan      PS3              0.0   \n",
       "16520                       Virtua Quest       GC              0.0   \n",
       "\n",
       "              genre  na_sales  eu_sales  jp_sales  other_sales  critic_score  \\\n",
       "183          Sports      4.26      0.26      0.01         0.71          94.0   \n",
       "377          Sports      0.59      2.36      0.04         0.51          84.0   \n",
       "456          Action      1.80      0.97      0.00         0.29          74.0   \n",
       "475        Fighting      1.57      1.02      0.00         0.41           NaN   \n",
       "609         Shooter      2.36      0.14      0.00         0.03           NaN   \n",
       "...             ...       ...       ...       ...          ...           ...   \n",
       "16371        Sports      0.01      0.00      0.00         0.00          43.0   \n",
       "16403        Racing      0.01      0.00      0.00         0.00          69.0   \n",
       "16446       Shooter      0.01      0.00      0.00         0.00          59.0   \n",
       "16456     Adventure      0.01      0.00      0.00         0.00           NaN   \n",
       "16520  Role-Playing      0.01      0.00      0.00         0.00          55.0   \n",
       "\n",
       "      user_score rating  \n",
       "183          8.5      E  \n",
       "377          6.4      E  \n",
       "456          7.9   E10+  \n",
       "475          NaN    NaN  \n",
       "609          NaN    NaN  \n",
       "...          ...    ...  \n",
       "16371        tbd   E10+  \n",
       "16403        6.5      T  \n",
       "16446        6.7      M  \n",
       "16456        NaN    NaN  \n",
       "16520        5.5      T  \n",
       "\n",
       "[269 rows x 11 columns]"
      ]
     },
     "metadata": {},
     "output_type": "display_data"
    },
    {
     "data": {
      "text/html": [
       "<div>\n",
       "<style scoped>\n",
       "    .dataframe tbody tr th:only-of-type {\n",
       "        vertical-align: middle;\n",
       "    }\n",
       "\n",
       "    .dataframe tbody tr th {\n",
       "        vertical-align: top;\n",
       "    }\n",
       "\n",
       "    .dataframe thead th {\n",
       "        text-align: right;\n",
       "    }\n",
       "</style>\n",
       "<table border=\"1\" class=\"dataframe\">\n",
       "  <thead>\n",
       "    <tr style=\"text-align: right;\">\n",
       "      <th></th>\n",
       "      <th>name</th>\n",
       "      <th>platform</th>\n",
       "      <th>year_of_release</th>\n",
       "      <th>genre</th>\n",
       "      <th>na_sales</th>\n",
       "      <th>eu_sales</th>\n",
       "      <th>jp_sales</th>\n",
       "      <th>other_sales</th>\n",
       "      <th>critic_score</th>\n",
       "      <th>user_score</th>\n",
       "      <th>rating</th>\n",
       "      <th>year</th>\n",
       "    </tr>\n",
       "  </thead>\n",
       "  <tbody>\n",
       "    <tr>\n",
       "      <th>183</th>\n",
       "      <td>Madden NFL 2004</td>\n",
       "      <td>PS2</td>\n",
       "      <td>0.0</td>\n",
       "      <td>Sports</td>\n",
       "      <td>4.26</td>\n",
       "      <td>0.26</td>\n",
       "      <td>0.01</td>\n",
       "      <td>0.71</td>\n",
       "      <td>94.0</td>\n",
       "      <td>8.5</td>\n",
       "      <td>E</td>\n",
       "      <td>2004</td>\n",
       "    </tr>\n",
       "    <tr>\n",
       "      <th>377</th>\n",
       "      <td>FIFA Soccer 2004</td>\n",
       "      <td>PS2</td>\n",
       "      <td>0.0</td>\n",
       "      <td>Sports</td>\n",
       "      <td>0.59</td>\n",
       "      <td>2.36</td>\n",
       "      <td>0.04</td>\n",
       "      <td>0.51</td>\n",
       "      <td>84.0</td>\n",
       "      <td>6.4</td>\n",
       "      <td>E</td>\n",
       "      <td>2004</td>\n",
       "    </tr>\n",
       "    <tr>\n",
       "      <th>456</th>\n",
       "      <td>LEGO Batman: The Videogame</td>\n",
       "      <td>Wii</td>\n",
       "      <td>0.0</td>\n",
       "      <td>Action</td>\n",
       "      <td>1.80</td>\n",
       "      <td>0.97</td>\n",
       "      <td>0.00</td>\n",
       "      <td>0.29</td>\n",
       "      <td>74.0</td>\n",
       "      <td>7.9</td>\n",
       "      <td>E10+</td>\n",
       "      <td>NaN</td>\n",
       "    </tr>\n",
       "    <tr>\n",
       "      <th>475</th>\n",
       "      <td>wwe Smackdown vs. Raw 2006</td>\n",
       "      <td>PS2</td>\n",
       "      <td>0.0</td>\n",
       "      <td>Fighting</td>\n",
       "      <td>1.57</td>\n",
       "      <td>1.02</td>\n",
       "      <td>0.00</td>\n",
       "      <td>0.41</td>\n",
       "      <td>NaN</td>\n",
       "      <td>NaN</td>\n",
       "      <td>NaN</td>\n",
       "      <td>2006</td>\n",
       "    </tr>\n",
       "    <tr>\n",
       "      <th>609</th>\n",
       "      <td>Space Invaders</td>\n",
       "      <td>2600</td>\n",
       "      <td>0.0</td>\n",
       "      <td>Shooter</td>\n",
       "      <td>2.36</td>\n",
       "      <td>0.14</td>\n",
       "      <td>0.00</td>\n",
       "      <td>0.03</td>\n",
       "      <td>NaN</td>\n",
       "      <td>NaN</td>\n",
       "      <td>NaN</td>\n",
       "      <td>NaN</td>\n",
       "    </tr>\n",
       "    <tr>\n",
       "      <th>...</th>\n",
       "      <td>...</td>\n",
       "      <td>...</td>\n",
       "      <td>...</td>\n",
       "      <td>...</td>\n",
       "      <td>...</td>\n",
       "      <td>...</td>\n",
       "      <td>...</td>\n",
       "      <td>...</td>\n",
       "      <td>...</td>\n",
       "      <td>...</td>\n",
       "      <td>...</td>\n",
       "      <td>...</td>\n",
       "    </tr>\n",
       "    <tr>\n",
       "      <th>16371</th>\n",
       "      <td>PDC World Championship Darts 2008</td>\n",
       "      <td>PSP</td>\n",
       "      <td>0.0</td>\n",
       "      <td>Sports</td>\n",
       "      <td>0.01</td>\n",
       "      <td>0.00</td>\n",
       "      <td>0.00</td>\n",
       "      <td>0.00</td>\n",
       "      <td>43.0</td>\n",
       "      <td>tbd</td>\n",
       "      <td>E10+</td>\n",
       "      <td>2008</td>\n",
       "    </tr>\n",
       "    <tr>\n",
       "      <th>16403</th>\n",
       "      <td>Freaky Flyers</td>\n",
       "      <td>GC</td>\n",
       "      <td>0.0</td>\n",
       "      <td>Racing</td>\n",
       "      <td>0.01</td>\n",
       "      <td>0.00</td>\n",
       "      <td>0.00</td>\n",
       "      <td>0.00</td>\n",
       "      <td>69.0</td>\n",
       "      <td>6.5</td>\n",
       "      <td>T</td>\n",
       "      <td>NaN</td>\n",
       "    </tr>\n",
       "    <tr>\n",
       "      <th>16446</th>\n",
       "      <td>Inversion</td>\n",
       "      <td>PC</td>\n",
       "      <td>0.0</td>\n",
       "      <td>Shooter</td>\n",
       "      <td>0.01</td>\n",
       "      <td>0.00</td>\n",
       "      <td>0.00</td>\n",
       "      <td>0.00</td>\n",
       "      <td>59.0</td>\n",
       "      <td>6.7</td>\n",
       "      <td>M</td>\n",
       "      <td>NaN</td>\n",
       "    </tr>\n",
       "    <tr>\n",
       "      <th>16456</th>\n",
       "      <td>Hakuouki: Shinsengumi Kitan</td>\n",
       "      <td>PS3</td>\n",
       "      <td>0.0</td>\n",
       "      <td>Adventure</td>\n",
       "      <td>0.01</td>\n",
       "      <td>0.00</td>\n",
       "      <td>0.00</td>\n",
       "      <td>0.00</td>\n",
       "      <td>NaN</td>\n",
       "      <td>NaN</td>\n",
       "      <td>NaN</td>\n",
       "      <td>NaN</td>\n",
       "    </tr>\n",
       "    <tr>\n",
       "      <th>16520</th>\n",
       "      <td>Virtua Quest</td>\n",
       "      <td>GC</td>\n",
       "      <td>0.0</td>\n",
       "      <td>Role-Playing</td>\n",
       "      <td>0.01</td>\n",
       "      <td>0.00</td>\n",
       "      <td>0.00</td>\n",
       "      <td>0.00</td>\n",
       "      <td>55.0</td>\n",
       "      <td>5.5</td>\n",
       "      <td>T</td>\n",
       "      <td>NaN</td>\n",
       "    </tr>\n",
       "  </tbody>\n",
       "</table>\n",
       "<p>269 rows × 12 columns</p>\n",
       "</div>"
      ],
      "text/plain": [
       "                                    name platform  year_of_release  \\\n",
       "183                      Madden NFL 2004      PS2              0.0   \n",
       "377                     FIFA Soccer 2004      PS2              0.0   \n",
       "456           LEGO Batman: The Videogame      Wii              0.0   \n",
       "475           wwe Smackdown vs. Raw 2006      PS2              0.0   \n",
       "609                       Space Invaders     2600              0.0   \n",
       "...                                  ...      ...              ...   \n",
       "16371  PDC World Championship Darts 2008      PSP              0.0   \n",
       "16403                      Freaky Flyers       GC              0.0   \n",
       "16446                          Inversion       PC              0.0   \n",
       "16456        Hakuouki: Shinsengumi Kitan      PS3              0.0   \n",
       "16520                       Virtua Quest       GC              0.0   \n",
       "\n",
       "              genre  na_sales  eu_sales  jp_sales  other_sales  critic_score  \\\n",
       "183          Sports      4.26      0.26      0.01         0.71          94.0   \n",
       "377          Sports      0.59      2.36      0.04         0.51          84.0   \n",
       "456          Action      1.80      0.97      0.00         0.29          74.0   \n",
       "475        Fighting      1.57      1.02      0.00         0.41           NaN   \n",
       "609         Shooter      2.36      0.14      0.00         0.03           NaN   \n",
       "...             ...       ...       ...       ...          ...           ...   \n",
       "16371        Sports      0.01      0.00      0.00         0.00          43.0   \n",
       "16403        Racing      0.01      0.00      0.00         0.00          69.0   \n",
       "16446       Shooter      0.01      0.00      0.00         0.00          59.0   \n",
       "16456     Adventure      0.01      0.00      0.00         0.00           NaN   \n",
       "16520  Role-Playing      0.01      0.00      0.00         0.00          55.0   \n",
       "\n",
       "      user_score rating  year  \n",
       "183          8.5      E  2004  \n",
       "377          6.4      E  2004  \n",
       "456          7.9   E10+   NaN  \n",
       "475          NaN    NaN  2006  \n",
       "609          NaN    NaN   NaN  \n",
       "...          ...    ...   ...  \n",
       "16371        tbd   E10+  2008  \n",
       "16403        6.5      T   NaN  \n",
       "16446        6.7      M   NaN  \n",
       "16456        NaN    NaN   NaN  \n",
       "16520        5.5      T   NaN  \n",
       "\n",
       "[269 rows x 12 columns]"
      ]
     },
     "metadata": {},
     "output_type": "display_data"
    },
    {
     "name": "stdout",
     "output_type": "stream",
     "text": [
      "<class 'pandas.core.frame.DataFrame'>\n",
      "RangeIndex: 16713 entries, 0 to 16712\n",
      "Data columns (total 12 columns):\n",
      " #   Column           Non-Null Count  Dtype  \n",
      "---  ------           --------------  -----  \n",
      " 0   name             16713 non-null  object \n",
      " 1   platform         16713 non-null  object \n",
      " 2   year_of_release  16713 non-null  object \n",
      " 3   genre            16713 non-null  object \n",
      " 4   na_sales         16713 non-null  float64\n",
      " 5   eu_sales         16713 non-null  float64\n",
      " 6   jp_sales         16713 non-null  float64\n",
      " 7   other_sales      16713 non-null  float64\n",
      " 8   critic_score     8137 non-null   float64\n",
      " 9   user_score       10014 non-null  object \n",
      " 10  rating           9949 non-null   object \n",
      " 11  year             16713 non-null  object \n",
      "dtypes: float64(5), object(7)\n",
      "memory usage: 1.5+ MB\n"
     ]
    },
    {
     "data": {
      "text/html": [
       "<div>\n",
       "<style scoped>\n",
       "    .dataframe tbody tr th:only-of-type {\n",
       "        vertical-align: middle;\n",
       "    }\n",
       "\n",
       "    .dataframe tbody tr th {\n",
       "        vertical-align: top;\n",
       "    }\n",
       "\n",
       "    .dataframe thead th {\n",
       "        text-align: right;\n",
       "    }\n",
       "</style>\n",
       "<table border=\"1\" class=\"dataframe\">\n",
       "  <thead>\n",
       "    <tr style=\"text-align: right;\">\n",
       "      <th></th>\n",
       "      <th>name</th>\n",
       "      <th>platform</th>\n",
       "      <th>year_of_release</th>\n",
       "      <th>genre</th>\n",
       "      <th>na_sales</th>\n",
       "      <th>eu_sales</th>\n",
       "      <th>jp_sales</th>\n",
       "      <th>other_sales</th>\n",
       "      <th>critic_score</th>\n",
       "      <th>user_score</th>\n",
       "      <th>rating</th>\n",
       "    </tr>\n",
       "  </thead>\n",
       "  <tbody>\n",
       "    <tr>\n",
       "      <th>456</th>\n",
       "      <td>LEGO Batman: The Videogame</td>\n",
       "      <td>Wii</td>\n",
       "      <td>0</td>\n",
       "      <td>Action</td>\n",
       "      <td>1.80</td>\n",
       "      <td>0.97</td>\n",
       "      <td>0.00</td>\n",
       "      <td>0.29</td>\n",
       "      <td>74.0</td>\n",
       "      <td>7.9</td>\n",
       "      <td>E10+</td>\n",
       "    </tr>\n",
       "    <tr>\n",
       "      <th>609</th>\n",
       "      <td>Space Invaders</td>\n",
       "      <td>2600</td>\n",
       "      <td>0</td>\n",
       "      <td>Shooter</td>\n",
       "      <td>2.36</td>\n",
       "      <td>0.14</td>\n",
       "      <td>0.00</td>\n",
       "      <td>0.03</td>\n",
       "      <td>NaN</td>\n",
       "      <td>NaN</td>\n",
       "      <td>NaN</td>\n",
       "    </tr>\n",
       "    <tr>\n",
       "      <th>627</th>\n",
       "      <td>Rock Band</td>\n",
       "      <td>X360</td>\n",
       "      <td>0</td>\n",
       "      <td>Misc</td>\n",
       "      <td>1.93</td>\n",
       "      <td>0.33</td>\n",
       "      <td>0.00</td>\n",
       "      <td>0.21</td>\n",
       "      <td>92.0</td>\n",
       "      <td>8.2</td>\n",
       "      <td>T</td>\n",
       "    </tr>\n",
       "    <tr>\n",
       "      <th>657</th>\n",
       "      <td>Frogger's Adventures: Temple of the Frog</td>\n",
       "      <td>GBA</td>\n",
       "      <td>0</td>\n",
       "      <td>Adventure</td>\n",
       "      <td>2.15</td>\n",
       "      <td>0.18</td>\n",
       "      <td>0.00</td>\n",
       "      <td>0.07</td>\n",
       "      <td>73.0</td>\n",
       "      <td>tbd</td>\n",
       "      <td>E</td>\n",
       "    </tr>\n",
       "    <tr>\n",
       "      <th>677</th>\n",
       "      <td>LEGO Indiana Jones: The Original Adventures</td>\n",
       "      <td>Wii</td>\n",
       "      <td>0</td>\n",
       "      <td>Action</td>\n",
       "      <td>1.51</td>\n",
       "      <td>0.61</td>\n",
       "      <td>0.00</td>\n",
       "      <td>0.21</td>\n",
       "      <td>78.0</td>\n",
       "      <td>6.6</td>\n",
       "      <td>E10+</td>\n",
       "    </tr>\n",
       "    <tr>\n",
       "      <th>...</th>\n",
       "      <td>...</td>\n",
       "      <td>...</td>\n",
       "      <td>...</td>\n",
       "      <td>...</td>\n",
       "      <td>...</td>\n",
       "      <td>...</td>\n",
       "      <td>...</td>\n",
       "      <td>...</td>\n",
       "      <td>...</td>\n",
       "      <td>...</td>\n",
       "      <td>...</td>\n",
       "    </tr>\n",
       "    <tr>\n",
       "      <th>16346</th>\n",
       "      <td>Agarest Senki: Re-appearance</td>\n",
       "      <td>PS3</td>\n",
       "      <td>0</td>\n",
       "      <td>Role-Playing</td>\n",
       "      <td>0.00</td>\n",
       "      <td>0.00</td>\n",
       "      <td>0.01</td>\n",
       "      <td>0.00</td>\n",
       "      <td>NaN</td>\n",
       "      <td>NaN</td>\n",
       "      <td>NaN</td>\n",
       "    </tr>\n",
       "    <tr>\n",
       "      <th>16403</th>\n",
       "      <td>Freaky Flyers</td>\n",
       "      <td>GC</td>\n",
       "      <td>0</td>\n",
       "      <td>Racing</td>\n",
       "      <td>0.01</td>\n",
       "      <td>0.00</td>\n",
       "      <td>0.00</td>\n",
       "      <td>0.00</td>\n",
       "      <td>69.0</td>\n",
       "      <td>6.5</td>\n",
       "      <td>T</td>\n",
       "    </tr>\n",
       "    <tr>\n",
       "      <th>16446</th>\n",
       "      <td>Inversion</td>\n",
       "      <td>PC</td>\n",
       "      <td>0</td>\n",
       "      <td>Shooter</td>\n",
       "      <td>0.01</td>\n",
       "      <td>0.00</td>\n",
       "      <td>0.00</td>\n",
       "      <td>0.00</td>\n",
       "      <td>59.0</td>\n",
       "      <td>6.7</td>\n",
       "      <td>M</td>\n",
       "    </tr>\n",
       "    <tr>\n",
       "      <th>16456</th>\n",
       "      <td>Hakuouki: Shinsengumi Kitan</td>\n",
       "      <td>PS3</td>\n",
       "      <td>0</td>\n",
       "      <td>Adventure</td>\n",
       "      <td>0.01</td>\n",
       "      <td>0.00</td>\n",
       "      <td>0.00</td>\n",
       "      <td>0.00</td>\n",
       "      <td>NaN</td>\n",
       "      <td>NaN</td>\n",
       "      <td>NaN</td>\n",
       "    </tr>\n",
       "    <tr>\n",
       "      <th>16520</th>\n",
       "      <td>Virtua Quest</td>\n",
       "      <td>GC</td>\n",
       "      <td>0</td>\n",
       "      <td>Role-Playing</td>\n",
       "      <td>0.01</td>\n",
       "      <td>0.00</td>\n",
       "      <td>0.00</td>\n",
       "      <td>0.00</td>\n",
       "      <td>55.0</td>\n",
       "      <td>5.5</td>\n",
       "      <td>T</td>\n",
       "    </tr>\n",
       "  </tbody>\n",
       "</table>\n",
       "<p>252 rows × 11 columns</p>\n",
       "</div>"
      ],
      "text/plain": [
       "                                              name platform year_of_release  \\\n",
       "456                     LEGO Batman: The Videogame      Wii               0   \n",
       "609                                 Space Invaders     2600               0   \n",
       "627                                      Rock Band     X360               0   \n",
       "657       Frogger's Adventures: Temple of the Frog      GBA               0   \n",
       "677    LEGO Indiana Jones: The Original Adventures      Wii               0   \n",
       "...                                            ...      ...             ...   \n",
       "16346                 Agarest Senki: Re-appearance      PS3               0   \n",
       "16403                                Freaky Flyers       GC               0   \n",
       "16446                                    Inversion       PC               0   \n",
       "16456                  Hakuouki: Shinsengumi Kitan      PS3               0   \n",
       "16520                                 Virtua Quest       GC               0   \n",
       "\n",
       "              genre  na_sales  eu_sales  jp_sales  other_sales  critic_score  \\\n",
       "456          Action      1.80      0.97      0.00         0.29          74.0   \n",
       "609         Shooter      2.36      0.14      0.00         0.03           NaN   \n",
       "627            Misc      1.93      0.33      0.00         0.21          92.0   \n",
       "657       Adventure      2.15      0.18      0.00         0.07          73.0   \n",
       "677          Action      1.51      0.61      0.00         0.21          78.0   \n",
       "...             ...       ...       ...       ...          ...           ...   \n",
       "16346  Role-Playing      0.00      0.00      0.01         0.00           NaN   \n",
       "16403        Racing      0.01      0.00      0.00         0.00          69.0   \n",
       "16446       Shooter      0.01      0.00      0.00         0.00          59.0   \n",
       "16456     Adventure      0.01      0.00      0.00         0.00           NaN   \n",
       "16520  Role-Playing      0.01      0.00      0.00         0.00          55.0   \n",
       "\n",
       "      user_score rating  \n",
       "456          7.9   E10+  \n",
       "609          NaN    NaN  \n",
       "627          8.2      T  \n",
       "657          tbd      E  \n",
       "677          6.6   E10+  \n",
       "...          ...    ...  \n",
       "16346        NaN    NaN  \n",
       "16403        6.5      T  \n",
       "16446        6.7      M  \n",
       "16456        NaN    NaN  \n",
       "16520        5.5      T  \n",
       "\n",
       "[252 rows x 11 columns]"
      ]
     },
     "metadata": {},
     "output_type": "display_data"
    }
   ],
   "source": [
    "games['year_of_release']=games['year_of_release'].fillna(0)\n",
    "games.info()\n",
    "display(games[games['year_of_release']==0])\n",
    "\n",
    "#from the sample we can see that some games contain the year of release in the title. \n",
    "#Let's extract the year of release using a mask of 4 digits to a new column.\n",
    "\n",
    "games['year'] = games.loc[(games['year_of_release']==0), 'name'].str.extract(\"(\\d\\d\\d\\d)\", expand=True)\n",
    "display(games[games['year_of_release']==0])\n",
    "\n",
    "games['year']=games['year'].fillna(0)\n",
    "games.loc[(games['year_of_release']==0), 'year_of_release'] = games['year']\n",
    "\n",
    "games.info()\n",
    "#let's delete unnecessary column\n",
    "games = games.drop(columns='year')\n",
    "display(games[games['year_of_release']==0])"
   ]
  },
  {
   "cell_type": "code",
   "execution_count": 8,
   "metadata": {},
   "outputs": [
    {
     "name": "stdout",
     "output_type": "stream",
     "text": [
      "<class 'pandas.core.frame.DataFrame'>\n",
      "RangeIndex: 16713 entries, 0 to 16712\n",
      "Data columns (total 11 columns):\n",
      " #   Column           Non-Null Count  Dtype  \n",
      "---  ------           --------------  -----  \n",
      " 0   name             16713 non-null  object \n",
      " 1   platform         16713 non-null  object \n",
      " 2   year_of_release  16713 non-null  int32  \n",
      " 3   genre            16713 non-null  object \n",
      " 4   na_sales         16713 non-null  float64\n",
      " 5   eu_sales         16713 non-null  float64\n",
      " 6   jp_sales         16713 non-null  float64\n",
      " 7   other_sales      16713 non-null  float64\n",
      " 8   critic_score     8137 non-null   float64\n",
      " 9   user_score       10014 non-null  object \n",
      " 10  rating           9949 non-null   object \n",
      "dtypes: float64(5), int32(1), object(5)\n",
      "memory usage: 1.3+ MB\n"
     ]
    },
    {
     "data": {
      "text/html": [
       "<div>\n",
       "<style scoped>\n",
       "    .dataframe tbody tr th:only-of-type {\n",
       "        vertical-align: middle;\n",
       "    }\n",
       "\n",
       "    .dataframe tbody tr th {\n",
       "        vertical-align: top;\n",
       "    }\n",
       "\n",
       "    .dataframe thead th {\n",
       "        text-align: right;\n",
       "    }\n",
       "</style>\n",
       "<table border=\"1\" class=\"dataframe\">\n",
       "  <thead>\n",
       "    <tr style=\"text-align: right;\">\n",
       "      <th></th>\n",
       "      <th>name</th>\n",
       "      <th>platform</th>\n",
       "      <th>year_of_release</th>\n",
       "      <th>genre</th>\n",
       "      <th>na_sales</th>\n",
       "      <th>eu_sales</th>\n",
       "      <th>jp_sales</th>\n",
       "      <th>other_sales</th>\n",
       "      <th>critic_score</th>\n",
       "      <th>user_score</th>\n",
       "      <th>rating</th>\n",
       "    </tr>\n",
       "  </thead>\n",
       "  <tbody>\n",
       "    <tr>\n",
       "      <th>0</th>\n",
       "      <td>Wii Sports</td>\n",
       "      <td>Wii</td>\n",
       "      <td>2006</td>\n",
       "      <td>Sports</td>\n",
       "      <td>41.36</td>\n",
       "      <td>28.96</td>\n",
       "      <td>3.77</td>\n",
       "      <td>8.45</td>\n",
       "      <td>76.0</td>\n",
       "      <td>8</td>\n",
       "      <td>E</td>\n",
       "    </tr>\n",
       "    <tr>\n",
       "      <th>1</th>\n",
       "      <td>Super Mario Bros.</td>\n",
       "      <td>NES</td>\n",
       "      <td>1985</td>\n",
       "      <td>Platform</td>\n",
       "      <td>29.08</td>\n",
       "      <td>3.58</td>\n",
       "      <td>6.81</td>\n",
       "      <td>0.77</td>\n",
       "      <td>NaN</td>\n",
       "      <td>NaN</td>\n",
       "      <td>NaN</td>\n",
       "    </tr>\n",
       "    <tr>\n",
       "      <th>2</th>\n",
       "      <td>Mario Kart Wii</td>\n",
       "      <td>Wii</td>\n",
       "      <td>2008</td>\n",
       "      <td>Racing</td>\n",
       "      <td>15.68</td>\n",
       "      <td>12.76</td>\n",
       "      <td>3.79</td>\n",
       "      <td>3.29</td>\n",
       "      <td>82.0</td>\n",
       "      <td>8.3</td>\n",
       "      <td>E</td>\n",
       "    </tr>\n",
       "    <tr>\n",
       "      <th>3</th>\n",
       "      <td>Wii Sports Resort</td>\n",
       "      <td>Wii</td>\n",
       "      <td>2009</td>\n",
       "      <td>Sports</td>\n",
       "      <td>15.61</td>\n",
       "      <td>10.93</td>\n",
       "      <td>3.28</td>\n",
       "      <td>2.95</td>\n",
       "      <td>80.0</td>\n",
       "      <td>8</td>\n",
       "      <td>E</td>\n",
       "    </tr>\n",
       "    <tr>\n",
       "      <th>4</th>\n",
       "      <td>Pokemon Red/Pokemon Blue</td>\n",
       "      <td>GB</td>\n",
       "      <td>1996</td>\n",
       "      <td>Role-Playing</td>\n",
       "      <td>11.27</td>\n",
       "      <td>8.89</td>\n",
       "      <td>10.22</td>\n",
       "      <td>1.00</td>\n",
       "      <td>NaN</td>\n",
       "      <td>NaN</td>\n",
       "      <td>NaN</td>\n",
       "    </tr>\n",
       "    <tr>\n",
       "      <th>5</th>\n",
       "      <td>Tetris</td>\n",
       "      <td>GB</td>\n",
       "      <td>1989</td>\n",
       "      <td>Puzzle</td>\n",
       "      <td>23.20</td>\n",
       "      <td>2.26</td>\n",
       "      <td>4.22</td>\n",
       "      <td>0.58</td>\n",
       "      <td>NaN</td>\n",
       "      <td>NaN</td>\n",
       "      <td>NaN</td>\n",
       "    </tr>\n",
       "    <tr>\n",
       "      <th>6</th>\n",
       "      <td>New Super Mario Bros.</td>\n",
       "      <td>DS</td>\n",
       "      <td>2006</td>\n",
       "      <td>Platform</td>\n",
       "      <td>11.28</td>\n",
       "      <td>9.14</td>\n",
       "      <td>6.50</td>\n",
       "      <td>2.88</td>\n",
       "      <td>89.0</td>\n",
       "      <td>8.5</td>\n",
       "      <td>E</td>\n",
       "    </tr>\n",
       "    <tr>\n",
       "      <th>7</th>\n",
       "      <td>Wii Play</td>\n",
       "      <td>Wii</td>\n",
       "      <td>2006</td>\n",
       "      <td>Misc</td>\n",
       "      <td>13.96</td>\n",
       "      <td>9.18</td>\n",
       "      <td>2.93</td>\n",
       "      <td>2.84</td>\n",
       "      <td>58.0</td>\n",
       "      <td>6.6</td>\n",
       "      <td>E</td>\n",
       "    </tr>\n",
       "    <tr>\n",
       "      <th>8</th>\n",
       "      <td>New Super Mario Bros. Wii</td>\n",
       "      <td>Wii</td>\n",
       "      <td>2009</td>\n",
       "      <td>Platform</td>\n",
       "      <td>14.44</td>\n",
       "      <td>6.94</td>\n",
       "      <td>4.70</td>\n",
       "      <td>2.24</td>\n",
       "      <td>87.0</td>\n",
       "      <td>8.4</td>\n",
       "      <td>E</td>\n",
       "    </tr>\n",
       "    <tr>\n",
       "      <th>9</th>\n",
       "      <td>Duck Hunt</td>\n",
       "      <td>NES</td>\n",
       "      <td>1984</td>\n",
       "      <td>Shooter</td>\n",
       "      <td>26.93</td>\n",
       "      <td>0.63</td>\n",
       "      <td>0.28</td>\n",
       "      <td>0.47</td>\n",
       "      <td>NaN</td>\n",
       "      <td>NaN</td>\n",
       "      <td>NaN</td>\n",
       "    </tr>\n",
       "  </tbody>\n",
       "</table>\n",
       "</div>"
      ],
      "text/plain": [
       "                        name platform  year_of_release         genre  \\\n",
       "0                 Wii Sports      Wii             2006        Sports   \n",
       "1          Super Mario Bros.      NES             1985      Platform   \n",
       "2             Mario Kart Wii      Wii             2008        Racing   \n",
       "3          Wii Sports Resort      Wii             2009        Sports   \n",
       "4   Pokemon Red/Pokemon Blue       GB             1996  Role-Playing   \n",
       "5                     Tetris       GB             1989        Puzzle   \n",
       "6      New Super Mario Bros.       DS             2006      Platform   \n",
       "7                   Wii Play      Wii             2006          Misc   \n",
       "8  New Super Mario Bros. Wii      Wii             2009      Platform   \n",
       "9                  Duck Hunt      NES             1984       Shooter   \n",
       "\n",
       "   na_sales  eu_sales  jp_sales  other_sales  critic_score user_score rating  \n",
       "0     41.36     28.96      3.77         8.45          76.0          8      E  \n",
       "1     29.08      3.58      6.81         0.77           NaN        NaN    NaN  \n",
       "2     15.68     12.76      3.79         3.29          82.0        8.3      E  \n",
       "3     15.61     10.93      3.28         2.95          80.0          8      E  \n",
       "4     11.27      8.89     10.22         1.00           NaN        NaN    NaN  \n",
       "5     23.20      2.26      4.22         0.58           NaN        NaN    NaN  \n",
       "6     11.28      9.14      6.50         2.88          89.0        8.5      E  \n",
       "7     13.96      9.18      2.93         2.84          58.0        6.6      E  \n",
       "8     14.44      6.94      4.70         2.24          87.0        8.4      E  \n",
       "9     26.93      0.63      0.28         0.47           NaN        NaN    NaN  "
      ]
     },
     "metadata": {},
     "output_type": "display_data"
    }
   ],
   "source": [
    "games['year_of_release'] = games['year_of_release'].astype('int32')\n",
    "games.info()\n",
    "display(games.head(10))"
   ]
  },
  {
   "cell_type": "code",
   "execution_count": 9,
   "metadata": {},
   "outputs": [
    {
     "data": {
      "text/html": [
       "<div>\n",
       "<style scoped>\n",
       "    .dataframe tbody tr th:only-of-type {\n",
       "        vertical-align: middle;\n",
       "    }\n",
       "\n",
       "    .dataframe tbody tr th {\n",
       "        vertical-align: top;\n",
       "    }\n",
       "\n",
       "    .dataframe thead th {\n",
       "        text-align: right;\n",
       "    }\n",
       "</style>\n",
       "<table border=\"1\" class=\"dataframe\">\n",
       "  <thead>\n",
       "    <tr style=\"text-align: right;\">\n",
       "      <th></th>\n",
       "      <th>name</th>\n",
       "      <th>platform</th>\n",
       "      <th>year_of_release</th>\n",
       "      <th>genre</th>\n",
       "      <th>na_sales</th>\n",
       "      <th>eu_sales</th>\n",
       "      <th>jp_sales</th>\n",
       "      <th>other_sales</th>\n",
       "      <th>critic_score</th>\n",
       "      <th>user_score</th>\n",
       "      <th>rating</th>\n",
       "    </tr>\n",
       "  </thead>\n",
       "  <tbody>\n",
       "    <tr>\n",
       "      <th>1</th>\n",
       "      <td>Super Mario Bros.</td>\n",
       "      <td>NES</td>\n",
       "      <td>1985</td>\n",
       "      <td>Platform</td>\n",
       "      <td>29.08</td>\n",
       "      <td>3.58</td>\n",
       "      <td>6.81</td>\n",
       "      <td>0.77</td>\n",
       "      <td>NaN</td>\n",
       "      <td>NaN</td>\n",
       "      <td>NaN</td>\n",
       "    </tr>\n",
       "    <tr>\n",
       "      <th>4</th>\n",
       "      <td>Pokemon Red/Pokemon Blue</td>\n",
       "      <td>GB</td>\n",
       "      <td>1996</td>\n",
       "      <td>Role-Playing</td>\n",
       "      <td>11.27</td>\n",
       "      <td>8.89</td>\n",
       "      <td>10.22</td>\n",
       "      <td>1.00</td>\n",
       "      <td>NaN</td>\n",
       "      <td>NaN</td>\n",
       "      <td>NaN</td>\n",
       "    </tr>\n",
       "    <tr>\n",
       "      <th>5</th>\n",
       "      <td>Tetris</td>\n",
       "      <td>GB</td>\n",
       "      <td>1989</td>\n",
       "      <td>Puzzle</td>\n",
       "      <td>23.20</td>\n",
       "      <td>2.26</td>\n",
       "      <td>4.22</td>\n",
       "      <td>0.58</td>\n",
       "      <td>NaN</td>\n",
       "      <td>NaN</td>\n",
       "      <td>NaN</td>\n",
       "    </tr>\n",
       "    <tr>\n",
       "      <th>9</th>\n",
       "      <td>Duck Hunt</td>\n",
       "      <td>NES</td>\n",
       "      <td>1984</td>\n",
       "      <td>Shooter</td>\n",
       "      <td>26.93</td>\n",
       "      <td>0.63</td>\n",
       "      <td>0.28</td>\n",
       "      <td>0.47</td>\n",
       "      <td>NaN</td>\n",
       "      <td>NaN</td>\n",
       "      <td>NaN</td>\n",
       "    </tr>\n",
       "    <tr>\n",
       "      <th>10</th>\n",
       "      <td>Nintendogs</td>\n",
       "      <td>DS</td>\n",
       "      <td>2005</td>\n",
       "      <td>Simulation</td>\n",
       "      <td>9.05</td>\n",
       "      <td>10.95</td>\n",
       "      <td>1.93</td>\n",
       "      <td>2.74</td>\n",
       "      <td>NaN</td>\n",
       "      <td>NaN</td>\n",
       "      <td>NaN</td>\n",
       "    </tr>\n",
       "    <tr>\n",
       "      <th>...</th>\n",
       "      <td>...</td>\n",
       "      <td>...</td>\n",
       "      <td>...</td>\n",
       "      <td>...</td>\n",
       "      <td>...</td>\n",
       "      <td>...</td>\n",
       "      <td>...</td>\n",
       "      <td>...</td>\n",
       "      <td>...</td>\n",
       "      <td>...</td>\n",
       "      <td>...</td>\n",
       "    </tr>\n",
       "    <tr>\n",
       "      <th>16708</th>\n",
       "      <td>Samurai Warriors: Sanada Maru</td>\n",
       "      <td>PS3</td>\n",
       "      <td>2016</td>\n",
       "      <td>Action</td>\n",
       "      <td>0.00</td>\n",
       "      <td>0.00</td>\n",
       "      <td>0.01</td>\n",
       "      <td>0.00</td>\n",
       "      <td>NaN</td>\n",
       "      <td>NaN</td>\n",
       "      <td>NaN</td>\n",
       "    </tr>\n",
       "    <tr>\n",
       "      <th>16709</th>\n",
       "      <td>LMA Manager 2007</td>\n",
       "      <td>X360</td>\n",
       "      <td>2006</td>\n",
       "      <td>Sports</td>\n",
       "      <td>0.00</td>\n",
       "      <td>0.01</td>\n",
       "      <td>0.00</td>\n",
       "      <td>0.00</td>\n",
       "      <td>NaN</td>\n",
       "      <td>NaN</td>\n",
       "      <td>NaN</td>\n",
       "    </tr>\n",
       "    <tr>\n",
       "      <th>16710</th>\n",
       "      <td>Haitaka no Psychedelica</td>\n",
       "      <td>PSV</td>\n",
       "      <td>2016</td>\n",
       "      <td>Adventure</td>\n",
       "      <td>0.00</td>\n",
       "      <td>0.00</td>\n",
       "      <td>0.01</td>\n",
       "      <td>0.00</td>\n",
       "      <td>NaN</td>\n",
       "      <td>NaN</td>\n",
       "      <td>NaN</td>\n",
       "    </tr>\n",
       "    <tr>\n",
       "      <th>16711</th>\n",
       "      <td>Spirits &amp; Spells</td>\n",
       "      <td>GBA</td>\n",
       "      <td>2003</td>\n",
       "      <td>Platform</td>\n",
       "      <td>0.01</td>\n",
       "      <td>0.00</td>\n",
       "      <td>0.00</td>\n",
       "      <td>0.00</td>\n",
       "      <td>NaN</td>\n",
       "      <td>NaN</td>\n",
       "      <td>NaN</td>\n",
       "    </tr>\n",
       "    <tr>\n",
       "      <th>16712</th>\n",
       "      <td>Winning Post 8 2016</td>\n",
       "      <td>PSV</td>\n",
       "      <td>2016</td>\n",
       "      <td>Simulation</td>\n",
       "      <td>0.00</td>\n",
       "      <td>0.00</td>\n",
       "      <td>0.01</td>\n",
       "      <td>0.00</td>\n",
       "      <td>NaN</td>\n",
       "      <td>NaN</td>\n",
       "      <td>NaN</td>\n",
       "    </tr>\n",
       "  </tbody>\n",
       "</table>\n",
       "<p>8576 rows × 11 columns</p>\n",
       "</div>"
      ],
      "text/plain": [
       "                                name platform  year_of_release         genre  \\\n",
       "1                  Super Mario Bros.      NES             1985      Platform   \n",
       "4           Pokemon Red/Pokemon Blue       GB             1996  Role-Playing   \n",
       "5                             Tetris       GB             1989        Puzzle   \n",
       "9                          Duck Hunt      NES             1984       Shooter   \n",
       "10                        Nintendogs       DS             2005    Simulation   \n",
       "...                              ...      ...              ...           ...   \n",
       "16708  Samurai Warriors: Sanada Maru      PS3             2016        Action   \n",
       "16709               LMA Manager 2007     X360             2006        Sports   \n",
       "16710        Haitaka no Psychedelica      PSV             2016     Adventure   \n",
       "16711               Spirits & Spells      GBA             2003      Platform   \n",
       "16712            Winning Post 8 2016      PSV             2016    Simulation   \n",
       "\n",
       "       na_sales  eu_sales  jp_sales  other_sales  critic_score user_score  \\\n",
       "1         29.08      3.58      6.81         0.77           NaN        NaN   \n",
       "4         11.27      8.89     10.22         1.00           NaN        NaN   \n",
       "5         23.20      2.26      4.22         0.58           NaN        NaN   \n",
       "9         26.93      0.63      0.28         0.47           NaN        NaN   \n",
       "10         9.05     10.95      1.93         2.74           NaN        NaN   \n",
       "...         ...       ...       ...          ...           ...        ...   \n",
       "16708      0.00      0.00      0.01         0.00           NaN        NaN   \n",
       "16709      0.00      0.01      0.00         0.00           NaN        NaN   \n",
       "16710      0.00      0.00      0.01         0.00           NaN        NaN   \n",
       "16711      0.01      0.00      0.00         0.00           NaN        NaN   \n",
       "16712      0.00      0.00      0.01         0.00           NaN        NaN   \n",
       "\n",
       "      rating  \n",
       "1        NaN  \n",
       "4        NaN  \n",
       "5        NaN  \n",
       "9        NaN  \n",
       "10       NaN  \n",
       "...      ...  \n",
       "16708    NaN  \n",
       "16709    NaN  \n",
       "16710    NaN  \n",
       "16711    NaN  \n",
       "16712    NaN  \n",
       "\n",
       "[8576 rows x 11 columns]"
      ]
     },
     "metadata": {},
     "output_type": "display_data"
    },
    {
     "data": {
      "text/html": [
       "<div>\n",
       "<style scoped>\n",
       "    .dataframe tbody tr th:only-of-type {\n",
       "        vertical-align: middle;\n",
       "    }\n",
       "\n",
       "    .dataframe tbody tr th {\n",
       "        vertical-align: top;\n",
       "    }\n",
       "\n",
       "    .dataframe thead th {\n",
       "        text-align: right;\n",
       "    }\n",
       "</style>\n",
       "<table border=\"1\" class=\"dataframe\">\n",
       "  <thead>\n",
       "    <tr style=\"text-align: right;\">\n",
       "      <th></th>\n",
       "      <th>name</th>\n",
       "      <th>platform</th>\n",
       "      <th>year_of_release</th>\n",
       "      <th>genre</th>\n",
       "      <th>na_sales</th>\n",
       "      <th>eu_sales</th>\n",
       "      <th>jp_sales</th>\n",
       "      <th>other_sales</th>\n",
       "      <th>critic_score</th>\n",
       "      <th>user_score</th>\n",
       "      <th>rating</th>\n",
       "    </tr>\n",
       "  </thead>\n",
       "  <tbody>\n",
       "    <tr>\n",
       "      <th>108</th>\n",
       "      <td>Pokemon Sun/Moon</td>\n",
       "      <td>3DS</td>\n",
       "      <td>2016</td>\n",
       "      <td>Role-Playing</td>\n",
       "      <td>2.98</td>\n",
       "      <td>1.45</td>\n",
       "      <td>2.26</td>\n",
       "      <td>0.45</td>\n",
       "      <td>NaN</td>\n",
       "      <td>NaN</td>\n",
       "      <td>NaN</td>\n",
       "    </tr>\n",
       "    <tr>\n",
       "      <th>1215</th>\n",
       "      <td>Ratchet &amp; Clank (2016)</td>\n",
       "      <td>PS4</td>\n",
       "      <td>2016</td>\n",
       "      <td>Platform</td>\n",
       "      <td>0.50</td>\n",
       "      <td>0.76</td>\n",
       "      <td>0.04</td>\n",
       "      <td>0.24</td>\n",
       "      <td>NaN</td>\n",
       "      <td>NaN</td>\n",
       "      <td>NaN</td>\n",
       "    </tr>\n",
       "    <tr>\n",
       "      <th>1274</th>\n",
       "      <td>Doom (2016)</td>\n",
       "      <td>PS4</td>\n",
       "      <td>2016</td>\n",
       "      <td>Shooter</td>\n",
       "      <td>0.54</td>\n",
       "      <td>0.69</td>\n",
       "      <td>0.02</td>\n",
       "      <td>0.24</td>\n",
       "      <td>NaN</td>\n",
       "      <td>NaN</td>\n",
       "      <td>NaN</td>\n",
       "    </tr>\n",
       "    <tr>\n",
       "      <th>1465</th>\n",
       "      <td>Yokai Watch 3</td>\n",
       "      <td>3DS</td>\n",
       "      <td>2016</td>\n",
       "      <td>Action</td>\n",
       "      <td>0.00</td>\n",
       "      <td>0.00</td>\n",
       "      <td>1.33</td>\n",
       "      <td>0.00</td>\n",
       "      <td>NaN</td>\n",
       "      <td>NaN</td>\n",
       "      <td>NaN</td>\n",
       "    </tr>\n",
       "    <tr>\n",
       "      <th>1474</th>\n",
       "      <td>The Elder Scrolls V: Skyrim</td>\n",
       "      <td>PS4</td>\n",
       "      <td>2016</td>\n",
       "      <td>Role-Playing</td>\n",
       "      <td>0.48</td>\n",
       "      <td>0.59</td>\n",
       "      <td>0.04</td>\n",
       "      <td>0.21</td>\n",
       "      <td>NaN</td>\n",
       "      <td>NaN</td>\n",
       "      <td>NaN</td>\n",
       "    </tr>\n",
       "    <tr>\n",
       "      <th>...</th>\n",
       "      <td>...</td>\n",
       "      <td>...</td>\n",
       "      <td>...</td>\n",
       "      <td>...</td>\n",
       "      <td>...</td>\n",
       "      <td>...</td>\n",
       "      <td>...</td>\n",
       "      <td>...</td>\n",
       "      <td>...</td>\n",
       "      <td>...</td>\n",
       "      <td>...</td>\n",
       "    </tr>\n",
       "    <tr>\n",
       "      <th>16697</th>\n",
       "      <td>The Longest 5 Minutes</td>\n",
       "      <td>PSV</td>\n",
       "      <td>2016</td>\n",
       "      <td>Action</td>\n",
       "      <td>0.00</td>\n",
       "      <td>0.00</td>\n",
       "      <td>0.01</td>\n",
       "      <td>0.00</td>\n",
       "      <td>NaN</td>\n",
       "      <td>NaN</td>\n",
       "      <td>NaN</td>\n",
       "    </tr>\n",
       "    <tr>\n",
       "      <th>16701</th>\n",
       "      <td>Strawberry Nauts</td>\n",
       "      <td>PSV</td>\n",
       "      <td>2016</td>\n",
       "      <td>Adventure</td>\n",
       "      <td>0.00</td>\n",
       "      <td>0.00</td>\n",
       "      <td>0.01</td>\n",
       "      <td>0.00</td>\n",
       "      <td>NaN</td>\n",
       "      <td>NaN</td>\n",
       "      <td>NaN</td>\n",
       "    </tr>\n",
       "    <tr>\n",
       "      <th>16708</th>\n",
       "      <td>Samurai Warriors: Sanada Maru</td>\n",
       "      <td>PS3</td>\n",
       "      <td>2016</td>\n",
       "      <td>Action</td>\n",
       "      <td>0.00</td>\n",
       "      <td>0.00</td>\n",
       "      <td>0.01</td>\n",
       "      <td>0.00</td>\n",
       "      <td>NaN</td>\n",
       "      <td>NaN</td>\n",
       "      <td>NaN</td>\n",
       "    </tr>\n",
       "    <tr>\n",
       "      <th>16710</th>\n",
       "      <td>Haitaka no Psychedelica</td>\n",
       "      <td>PSV</td>\n",
       "      <td>2016</td>\n",
       "      <td>Adventure</td>\n",
       "      <td>0.00</td>\n",
       "      <td>0.00</td>\n",
       "      <td>0.01</td>\n",
       "      <td>0.00</td>\n",
       "      <td>NaN</td>\n",
       "      <td>NaN</td>\n",
       "      <td>NaN</td>\n",
       "    </tr>\n",
       "    <tr>\n",
       "      <th>16712</th>\n",
       "      <td>Winning Post 8 2016</td>\n",
       "      <td>PSV</td>\n",
       "      <td>2016</td>\n",
       "      <td>Simulation</td>\n",
       "      <td>0.00</td>\n",
       "      <td>0.00</td>\n",
       "      <td>0.01</td>\n",
       "      <td>0.00</td>\n",
       "      <td>NaN</td>\n",
       "      <td>NaN</td>\n",
       "      <td>NaN</td>\n",
       "    </tr>\n",
       "  </tbody>\n",
       "</table>\n",
       "<p>270 rows × 11 columns</p>\n",
       "</div>"
      ],
      "text/plain": [
       "                                name platform  year_of_release         genre  \\\n",
       "108                 Pokemon Sun/Moon      3DS             2016  Role-Playing   \n",
       "1215          Ratchet & Clank (2016)      PS4             2016      Platform   \n",
       "1274                     Doom (2016)      PS4             2016       Shooter   \n",
       "1465                   Yokai Watch 3      3DS             2016        Action   \n",
       "1474     The Elder Scrolls V: Skyrim      PS4             2016  Role-Playing   \n",
       "...                              ...      ...              ...           ...   \n",
       "16697          The Longest 5 Minutes      PSV             2016        Action   \n",
       "16701               Strawberry Nauts      PSV             2016     Adventure   \n",
       "16708  Samurai Warriors: Sanada Maru      PS3             2016        Action   \n",
       "16710        Haitaka no Psychedelica      PSV             2016     Adventure   \n",
       "16712            Winning Post 8 2016      PSV             2016    Simulation   \n",
       "\n",
       "       na_sales  eu_sales  jp_sales  other_sales  critic_score user_score  \\\n",
       "108        2.98      1.45      2.26         0.45           NaN        NaN   \n",
       "1215       0.50      0.76      0.04         0.24           NaN        NaN   \n",
       "1274       0.54      0.69      0.02         0.24           NaN        NaN   \n",
       "1465       0.00      0.00      1.33         0.00           NaN        NaN   \n",
       "1474       0.48      0.59      0.04         0.21           NaN        NaN   \n",
       "...         ...       ...       ...          ...           ...        ...   \n",
       "16697      0.00      0.00      0.01         0.00           NaN        NaN   \n",
       "16701      0.00      0.00      0.01         0.00           NaN        NaN   \n",
       "16708      0.00      0.00      0.01         0.00           NaN        NaN   \n",
       "16710      0.00      0.00      0.01         0.00           NaN        NaN   \n",
       "16712      0.00      0.00      0.01         0.00           NaN        NaN   \n",
       "\n",
       "      rating  \n",
       "108      NaN  \n",
       "1215     NaN  \n",
       "1274     NaN  \n",
       "1465     NaN  \n",
       "1474     NaN  \n",
       "...      ...  \n",
       "16697    NaN  \n",
       "16701    NaN  \n",
       "16708    NaN  \n",
       "16710    NaN  \n",
       "16712    NaN  \n",
       "\n",
       "[270 rows x 11 columns]"
      ]
     },
     "metadata": {},
     "output_type": "display_data"
    }
   ],
   "source": [
    "display(games[games['critic_score'].isnull()])\n",
    "display(games[(games['critic_score'].isnull())&(games['year_of_release']==2016)])"
   ]
  },
  {
   "cell_type": "markdown",
   "metadata": {},
   "source": [
    "As we can see, in rows, which contain null data in column 'critic_score', there is no data in 'user_score' and 'raiting'. Perhaps, in this dataframe there was no data about it initially. Also, 270 rows contain data with games of 2016 year of release, so maybe this data was received partly before publishing."
   ]
  },
  {
   "cell_type": "markdown",
   "metadata": {},
   "source": [
    "it's necessaty to decide,  how we can fill missing values in columns 'critic_score', 'user_score' and 'raiting'. We think, that the rating can be left as it is, and for plotting it is better to convert column 'user_score' from object to float. \n",
    "To do this, it is necessary to solve the issue of the tbd value.\n",
    "Let's consider th unique values of 'critic_score' and 'user_score'."
   ]
  },
  {
   "cell_type": "code",
   "execution_count": 10,
   "metadata": {},
   "outputs": [
    {
     "data": {
      "text/plain": [
       "array([76., nan, 82., 80., 89., 58., 87., 91., 61., 97., 95., 77., 88.,\n",
       "       83., 94., 93., 85., 86., 98., 96., 90., 84., 73., 74., 78., 92.,\n",
       "       71., 72., 68., 62., 49., 67., 81., 66., 56., 79., 70., 59., 64.,\n",
       "       75., 60., 63., 69., 50., 25., 42., 44., 55., 48., 57., 29., 47.,\n",
       "       65., 54., 20., 53., 37., 38., 33., 52., 30., 32., 43., 45., 51.,\n",
       "       40., 46., 39., 34., 35., 41., 36., 28., 31., 27., 26., 19., 23.,\n",
       "       24., 21., 17., 22., 13.])"
      ]
     },
     "metadata": {},
     "output_type": "display_data"
    },
    {
     "data": {
      "text/plain": [
       "array(['8', nan, '8.3', '8.5', '6.6', '8.4', '8.6', '7.7', '6.3', '7.4',\n",
       "       '8.2', '9', '7.9', '8.1', '8.7', '7.1', '3.4', '5.3', '4.8', '3.2',\n",
       "       '8.9', '6.4', '7.8', '7.5', '2.6', '7.2', '9.2', '7', '7.3', '4.3',\n",
       "       '7.6', '5.7', '5', '9.1', '6.5', 'tbd', '8.8', '6.9', '9.4', '6.8',\n",
       "       '6.1', '6.7', '5.4', '4', '4.9', '4.5', '9.3', '6.2', '4.2', '6',\n",
       "       '3.7', '4.1', '5.8', '5.6', '5.5', '4.4', '4.6', '5.9', '3.9',\n",
       "       '3.1', '2.9', '5.2', '3.3', '4.7', '5.1', '3.5', '2.5', '1.9', '3',\n",
       "       '2.7', '2.2', '2', '9.5', '2.1', '3.6', '2.8', '1.8', '3.8', '0',\n",
       "       '1.6', '9.6', '2.4', '1.7', '1.1', '0.3', '1.5', '0.7', '1.2',\n",
       "       '2.3', '0.5', '1.3', '0.2', '0.6', '1.4', '0.9', '1', '9.7'],\n",
       "      dtype=object)"
      ]
     },
     "metadata": {},
     "output_type": "display_data"
    }
   ],
   "source": [
    "display(games['critic_score'].unique())\n",
    "display(games['user_score'].unique())"
   ]
  },
  {
   "cell_type": "markdown",
   "metadata": {},
   "source": [
    "The abbreviation 'tbd' there is in the column with user_score only. Tbd means \"to be determined\", the user rating has not yet been determined. So, it does not exist yet. Based on this, we can easily replace omissions and tbd with zeros, and when plotting graphs, only data greater than zero should be taken.\n"
   ]
  },
  {
   "cell_type": "code",
   "execution_count": 11,
   "metadata": {
    "scrolled": false
   },
   "outputs": [
    {
     "name": "stdout",
     "output_type": "stream",
     "text": [
      "<class 'pandas.core.frame.DataFrame'>\n",
      "RangeIndex: 16713 entries, 0 to 16712\n",
      "Data columns (total 11 columns):\n",
      " #   Column           Non-Null Count  Dtype  \n",
      "---  ------           --------------  -----  \n",
      " 0   name             16713 non-null  object \n",
      " 1   platform         16713 non-null  object \n",
      " 2   year_of_release  16713 non-null  int32  \n",
      " 3   genre            16713 non-null  object \n",
      " 4   na_sales         16713 non-null  float64\n",
      " 5   eu_sales         16713 non-null  float64\n",
      " 6   jp_sales         16713 non-null  float64\n",
      " 7   other_sales      16713 non-null  float64\n",
      " 8   critic_score     16713 non-null  float64\n",
      " 9   user_score       16713 non-null  float64\n",
      " 10  rating           9949 non-null   object \n",
      "dtypes: float64(6), int32(1), object(4)\n",
      "memory usage: 1.3+ MB\n"
     ]
    },
    {
     "data": {
      "text/html": [
       "<div>\n",
       "<style scoped>\n",
       "    .dataframe tbody tr th:only-of-type {\n",
       "        vertical-align: middle;\n",
       "    }\n",
       "\n",
       "    .dataframe tbody tr th {\n",
       "        vertical-align: top;\n",
       "    }\n",
       "\n",
       "    .dataframe thead th {\n",
       "        text-align: right;\n",
       "    }\n",
       "</style>\n",
       "<table border=\"1\" class=\"dataframe\">\n",
       "  <thead>\n",
       "    <tr style=\"text-align: right;\">\n",
       "      <th></th>\n",
       "      <th>name</th>\n",
       "      <th>platform</th>\n",
       "      <th>year_of_release</th>\n",
       "      <th>genre</th>\n",
       "      <th>na_sales</th>\n",
       "      <th>eu_sales</th>\n",
       "      <th>jp_sales</th>\n",
       "      <th>other_sales</th>\n",
       "      <th>critic_score</th>\n",
       "      <th>user_score</th>\n",
       "      <th>rating</th>\n",
       "    </tr>\n",
       "  </thead>\n",
       "  <tbody>\n",
       "    <tr>\n",
       "      <th>0</th>\n",
       "      <td>Wii Sports</td>\n",
       "      <td>Wii</td>\n",
       "      <td>2006</td>\n",
       "      <td>Sports</td>\n",
       "      <td>41.36</td>\n",
       "      <td>28.96</td>\n",
       "      <td>3.77</td>\n",
       "      <td>8.45</td>\n",
       "      <td>76.0</td>\n",
       "      <td>8.0</td>\n",
       "      <td>E</td>\n",
       "    </tr>\n",
       "    <tr>\n",
       "      <th>1</th>\n",
       "      <td>Super Mario Bros.</td>\n",
       "      <td>NES</td>\n",
       "      <td>1985</td>\n",
       "      <td>Platform</td>\n",
       "      <td>29.08</td>\n",
       "      <td>3.58</td>\n",
       "      <td>6.81</td>\n",
       "      <td>0.77</td>\n",
       "      <td>0.0</td>\n",
       "      <td>0.0</td>\n",
       "      <td>NaN</td>\n",
       "    </tr>\n",
       "    <tr>\n",
       "      <th>2</th>\n",
       "      <td>Mario Kart Wii</td>\n",
       "      <td>Wii</td>\n",
       "      <td>2008</td>\n",
       "      <td>Racing</td>\n",
       "      <td>15.68</td>\n",
       "      <td>12.76</td>\n",
       "      <td>3.79</td>\n",
       "      <td>3.29</td>\n",
       "      <td>82.0</td>\n",
       "      <td>8.3</td>\n",
       "      <td>E</td>\n",
       "    </tr>\n",
       "    <tr>\n",
       "      <th>3</th>\n",
       "      <td>Wii Sports Resort</td>\n",
       "      <td>Wii</td>\n",
       "      <td>2009</td>\n",
       "      <td>Sports</td>\n",
       "      <td>15.61</td>\n",
       "      <td>10.93</td>\n",
       "      <td>3.28</td>\n",
       "      <td>2.95</td>\n",
       "      <td>80.0</td>\n",
       "      <td>8.0</td>\n",
       "      <td>E</td>\n",
       "    </tr>\n",
       "    <tr>\n",
       "      <th>4</th>\n",
       "      <td>Pokemon Red/Pokemon Blue</td>\n",
       "      <td>GB</td>\n",
       "      <td>1996</td>\n",
       "      <td>Role-Playing</td>\n",
       "      <td>11.27</td>\n",
       "      <td>8.89</td>\n",
       "      <td>10.22</td>\n",
       "      <td>1.00</td>\n",
       "      <td>0.0</td>\n",
       "      <td>0.0</td>\n",
       "      <td>NaN</td>\n",
       "    </tr>\n",
       "    <tr>\n",
       "      <th>5</th>\n",
       "      <td>Tetris</td>\n",
       "      <td>GB</td>\n",
       "      <td>1989</td>\n",
       "      <td>Puzzle</td>\n",
       "      <td>23.20</td>\n",
       "      <td>2.26</td>\n",
       "      <td>4.22</td>\n",
       "      <td>0.58</td>\n",
       "      <td>0.0</td>\n",
       "      <td>0.0</td>\n",
       "      <td>NaN</td>\n",
       "    </tr>\n",
       "    <tr>\n",
       "      <th>6</th>\n",
       "      <td>New Super Mario Bros.</td>\n",
       "      <td>DS</td>\n",
       "      <td>2006</td>\n",
       "      <td>Platform</td>\n",
       "      <td>11.28</td>\n",
       "      <td>9.14</td>\n",
       "      <td>6.50</td>\n",
       "      <td>2.88</td>\n",
       "      <td>89.0</td>\n",
       "      <td>8.5</td>\n",
       "      <td>E</td>\n",
       "    </tr>\n",
       "    <tr>\n",
       "      <th>7</th>\n",
       "      <td>Wii Play</td>\n",
       "      <td>Wii</td>\n",
       "      <td>2006</td>\n",
       "      <td>Misc</td>\n",
       "      <td>13.96</td>\n",
       "      <td>9.18</td>\n",
       "      <td>2.93</td>\n",
       "      <td>2.84</td>\n",
       "      <td>58.0</td>\n",
       "      <td>6.6</td>\n",
       "      <td>E</td>\n",
       "    </tr>\n",
       "    <tr>\n",
       "      <th>8</th>\n",
       "      <td>New Super Mario Bros. Wii</td>\n",
       "      <td>Wii</td>\n",
       "      <td>2009</td>\n",
       "      <td>Platform</td>\n",
       "      <td>14.44</td>\n",
       "      <td>6.94</td>\n",
       "      <td>4.70</td>\n",
       "      <td>2.24</td>\n",
       "      <td>87.0</td>\n",
       "      <td>8.4</td>\n",
       "      <td>E</td>\n",
       "    </tr>\n",
       "    <tr>\n",
       "      <th>9</th>\n",
       "      <td>Duck Hunt</td>\n",
       "      <td>NES</td>\n",
       "      <td>1984</td>\n",
       "      <td>Shooter</td>\n",
       "      <td>26.93</td>\n",
       "      <td>0.63</td>\n",
       "      <td>0.28</td>\n",
       "      <td>0.47</td>\n",
       "      <td>0.0</td>\n",
       "      <td>0.0</td>\n",
       "      <td>NaN</td>\n",
       "    </tr>\n",
       "    <tr>\n",
       "      <th>10</th>\n",
       "      <td>Nintendogs</td>\n",
       "      <td>DS</td>\n",
       "      <td>2005</td>\n",
       "      <td>Simulation</td>\n",
       "      <td>9.05</td>\n",
       "      <td>10.95</td>\n",
       "      <td>1.93</td>\n",
       "      <td>2.74</td>\n",
       "      <td>0.0</td>\n",
       "      <td>0.0</td>\n",
       "      <td>NaN</td>\n",
       "    </tr>\n",
       "    <tr>\n",
       "      <th>11</th>\n",
       "      <td>Mario Kart DS</td>\n",
       "      <td>DS</td>\n",
       "      <td>2005</td>\n",
       "      <td>Racing</td>\n",
       "      <td>9.71</td>\n",
       "      <td>7.47</td>\n",
       "      <td>4.13</td>\n",
       "      <td>1.90</td>\n",
       "      <td>91.0</td>\n",
       "      <td>8.6</td>\n",
       "      <td>E</td>\n",
       "    </tr>\n",
       "    <tr>\n",
       "      <th>12</th>\n",
       "      <td>Pokemon Gold/Pokemon Silver</td>\n",
       "      <td>GB</td>\n",
       "      <td>1999</td>\n",
       "      <td>Role-Playing</td>\n",
       "      <td>9.00</td>\n",
       "      <td>6.18</td>\n",
       "      <td>7.20</td>\n",
       "      <td>0.71</td>\n",
       "      <td>0.0</td>\n",
       "      <td>0.0</td>\n",
       "      <td>NaN</td>\n",
       "    </tr>\n",
       "    <tr>\n",
       "      <th>13</th>\n",
       "      <td>Wii Fit</td>\n",
       "      <td>Wii</td>\n",
       "      <td>2007</td>\n",
       "      <td>Sports</td>\n",
       "      <td>8.92</td>\n",
       "      <td>8.03</td>\n",
       "      <td>3.60</td>\n",
       "      <td>2.15</td>\n",
       "      <td>80.0</td>\n",
       "      <td>7.7</td>\n",
       "      <td>E</td>\n",
       "    </tr>\n",
       "    <tr>\n",
       "      <th>14</th>\n",
       "      <td>Kinect Adventures!</td>\n",
       "      <td>X360</td>\n",
       "      <td>2010</td>\n",
       "      <td>Misc</td>\n",
       "      <td>15.00</td>\n",
       "      <td>4.89</td>\n",
       "      <td>0.24</td>\n",
       "      <td>1.69</td>\n",
       "      <td>61.0</td>\n",
       "      <td>6.3</td>\n",
       "      <td>E</td>\n",
       "    </tr>\n",
       "    <tr>\n",
       "      <th>15</th>\n",
       "      <td>Wii Fit Plus</td>\n",
       "      <td>Wii</td>\n",
       "      <td>2009</td>\n",
       "      <td>Sports</td>\n",
       "      <td>9.01</td>\n",
       "      <td>8.49</td>\n",
       "      <td>2.53</td>\n",
       "      <td>1.77</td>\n",
       "      <td>80.0</td>\n",
       "      <td>7.4</td>\n",
       "      <td>E</td>\n",
       "    </tr>\n",
       "    <tr>\n",
       "      <th>16</th>\n",
       "      <td>Grand Theft Auto V</td>\n",
       "      <td>PS3</td>\n",
       "      <td>2013</td>\n",
       "      <td>Action</td>\n",
       "      <td>7.02</td>\n",
       "      <td>9.09</td>\n",
       "      <td>0.98</td>\n",
       "      <td>3.96</td>\n",
       "      <td>97.0</td>\n",
       "      <td>8.2</td>\n",
       "      <td>M</td>\n",
       "    </tr>\n",
       "    <tr>\n",
       "      <th>17</th>\n",
       "      <td>Grand Theft Auto: San Andreas</td>\n",
       "      <td>PS2</td>\n",
       "      <td>2004</td>\n",
       "      <td>Action</td>\n",
       "      <td>9.43</td>\n",
       "      <td>0.40</td>\n",
       "      <td>0.41</td>\n",
       "      <td>10.57</td>\n",
       "      <td>95.0</td>\n",
       "      <td>9.0</td>\n",
       "      <td>M</td>\n",
       "    </tr>\n",
       "    <tr>\n",
       "      <th>18</th>\n",
       "      <td>Super Mario World</td>\n",
       "      <td>SNES</td>\n",
       "      <td>1990</td>\n",
       "      <td>Platform</td>\n",
       "      <td>12.78</td>\n",
       "      <td>3.75</td>\n",
       "      <td>3.54</td>\n",
       "      <td>0.55</td>\n",
       "      <td>0.0</td>\n",
       "      <td>0.0</td>\n",
       "      <td>NaN</td>\n",
       "    </tr>\n",
       "    <tr>\n",
       "      <th>19</th>\n",
       "      <td>Brain Age: Train Your Brain in Minutes a Day</td>\n",
       "      <td>DS</td>\n",
       "      <td>2005</td>\n",
       "      <td>Misc</td>\n",
       "      <td>4.74</td>\n",
       "      <td>9.20</td>\n",
       "      <td>4.16</td>\n",
       "      <td>2.04</td>\n",
       "      <td>77.0</td>\n",
       "      <td>7.9</td>\n",
       "      <td>E</td>\n",
       "    </tr>\n",
       "  </tbody>\n",
       "</table>\n",
       "</div>"
      ],
      "text/plain": [
       "                                            name platform  year_of_release  \\\n",
       "0                                     Wii Sports      Wii             2006   \n",
       "1                              Super Mario Bros.      NES             1985   \n",
       "2                                 Mario Kart Wii      Wii             2008   \n",
       "3                              Wii Sports Resort      Wii             2009   \n",
       "4                       Pokemon Red/Pokemon Blue       GB             1996   \n",
       "5                                         Tetris       GB             1989   \n",
       "6                          New Super Mario Bros.       DS             2006   \n",
       "7                                       Wii Play      Wii             2006   \n",
       "8                      New Super Mario Bros. Wii      Wii             2009   \n",
       "9                                      Duck Hunt      NES             1984   \n",
       "10                                    Nintendogs       DS             2005   \n",
       "11                                 Mario Kart DS       DS             2005   \n",
       "12                   Pokemon Gold/Pokemon Silver       GB             1999   \n",
       "13                                       Wii Fit      Wii             2007   \n",
       "14                            Kinect Adventures!     X360             2010   \n",
       "15                                  Wii Fit Plus      Wii             2009   \n",
       "16                            Grand Theft Auto V      PS3             2013   \n",
       "17                 Grand Theft Auto: San Andreas      PS2             2004   \n",
       "18                             Super Mario World     SNES             1990   \n",
       "19  Brain Age: Train Your Brain in Minutes a Day       DS             2005   \n",
       "\n",
       "           genre  na_sales  eu_sales  jp_sales  other_sales  critic_score  \\\n",
       "0         Sports     41.36     28.96      3.77         8.45          76.0   \n",
       "1       Platform     29.08      3.58      6.81         0.77           0.0   \n",
       "2         Racing     15.68     12.76      3.79         3.29          82.0   \n",
       "3         Sports     15.61     10.93      3.28         2.95          80.0   \n",
       "4   Role-Playing     11.27      8.89     10.22         1.00           0.0   \n",
       "5         Puzzle     23.20      2.26      4.22         0.58           0.0   \n",
       "6       Platform     11.28      9.14      6.50         2.88          89.0   \n",
       "7           Misc     13.96      9.18      2.93         2.84          58.0   \n",
       "8       Platform     14.44      6.94      4.70         2.24          87.0   \n",
       "9        Shooter     26.93      0.63      0.28         0.47           0.0   \n",
       "10    Simulation      9.05     10.95      1.93         2.74           0.0   \n",
       "11        Racing      9.71      7.47      4.13         1.90          91.0   \n",
       "12  Role-Playing      9.00      6.18      7.20         0.71           0.0   \n",
       "13        Sports      8.92      8.03      3.60         2.15          80.0   \n",
       "14          Misc     15.00      4.89      0.24         1.69          61.0   \n",
       "15        Sports      9.01      8.49      2.53         1.77          80.0   \n",
       "16        Action      7.02      9.09      0.98         3.96          97.0   \n",
       "17        Action      9.43      0.40      0.41        10.57          95.0   \n",
       "18      Platform     12.78      3.75      3.54         0.55           0.0   \n",
       "19          Misc      4.74      9.20      4.16         2.04          77.0   \n",
       "\n",
       "    user_score rating  \n",
       "0          8.0      E  \n",
       "1          0.0    NaN  \n",
       "2          8.3      E  \n",
       "3          8.0      E  \n",
       "4          0.0    NaN  \n",
       "5          0.0    NaN  \n",
       "6          8.5      E  \n",
       "7          6.6      E  \n",
       "8          8.4      E  \n",
       "9          0.0    NaN  \n",
       "10         0.0    NaN  \n",
       "11         8.6      E  \n",
       "12         0.0    NaN  \n",
       "13         7.7      E  \n",
       "14         6.3      E  \n",
       "15         7.4      E  \n",
       "16         8.2      M  \n",
       "17         9.0      M  \n",
       "18         0.0    NaN  \n",
       "19         7.9      E  "
      ]
     },
     "metadata": {},
     "output_type": "display_data"
    }
   ],
   "source": [
    "games['critic_score']=games['critic_score'].fillna(0)\n",
    "\n",
    "\n",
    "games.loc[(games['user_score']=='tbd'), 'user_score'] = 0\n",
    "\n",
    "games['user_score'] = games['user_score'].astype('float64')\n",
    "\n",
    "games['user_score'] = games['user_score'].fillna(0)\n",
    "games.info()\n",
    "display(games.head(20))"
   ]
  },
  {
   "cell_type": "markdown",
   "metadata": {},
   "source": [
    "### Calculating total sales"
   ]
  },
  {
   "cell_type": "code",
   "execution_count": 12,
   "metadata": {},
   "outputs": [
    {
     "data": {
      "text/html": [
       "<div>\n",
       "<style scoped>\n",
       "    .dataframe tbody tr th:only-of-type {\n",
       "        vertical-align: middle;\n",
       "    }\n",
       "\n",
       "    .dataframe tbody tr th {\n",
       "        vertical-align: top;\n",
       "    }\n",
       "\n",
       "    .dataframe thead th {\n",
       "        text-align: right;\n",
       "    }\n",
       "</style>\n",
       "<table border=\"1\" class=\"dataframe\">\n",
       "  <thead>\n",
       "    <tr style=\"text-align: right;\">\n",
       "      <th></th>\n",
       "      <th>name</th>\n",
       "      <th>platform</th>\n",
       "      <th>year_of_release</th>\n",
       "      <th>genre</th>\n",
       "      <th>na_sales</th>\n",
       "      <th>eu_sales</th>\n",
       "      <th>jp_sales</th>\n",
       "      <th>other_sales</th>\n",
       "      <th>critic_score</th>\n",
       "      <th>user_score</th>\n",
       "      <th>rating</th>\n",
       "      <th>total_sales</th>\n",
       "    </tr>\n",
       "  </thead>\n",
       "  <tbody>\n",
       "    <tr>\n",
       "      <th>0</th>\n",
       "      <td>Wii Sports</td>\n",
       "      <td>Wii</td>\n",
       "      <td>2006</td>\n",
       "      <td>Sports</td>\n",
       "      <td>41.36</td>\n",
       "      <td>28.96</td>\n",
       "      <td>3.77</td>\n",
       "      <td>8.45</td>\n",
       "      <td>76.0</td>\n",
       "      <td>8.0</td>\n",
       "      <td>E</td>\n",
       "      <td>82.54</td>\n",
       "    </tr>\n",
       "    <tr>\n",
       "      <th>1</th>\n",
       "      <td>Super Mario Bros.</td>\n",
       "      <td>NES</td>\n",
       "      <td>1985</td>\n",
       "      <td>Platform</td>\n",
       "      <td>29.08</td>\n",
       "      <td>3.58</td>\n",
       "      <td>6.81</td>\n",
       "      <td>0.77</td>\n",
       "      <td>0.0</td>\n",
       "      <td>0.0</td>\n",
       "      <td>NaN</td>\n",
       "      <td>40.24</td>\n",
       "    </tr>\n",
       "    <tr>\n",
       "      <th>2</th>\n",
       "      <td>Mario Kart Wii</td>\n",
       "      <td>Wii</td>\n",
       "      <td>2008</td>\n",
       "      <td>Racing</td>\n",
       "      <td>15.68</td>\n",
       "      <td>12.76</td>\n",
       "      <td>3.79</td>\n",
       "      <td>3.29</td>\n",
       "      <td>82.0</td>\n",
       "      <td>8.3</td>\n",
       "      <td>E</td>\n",
       "      <td>35.52</td>\n",
       "    </tr>\n",
       "    <tr>\n",
       "      <th>3</th>\n",
       "      <td>Wii Sports Resort</td>\n",
       "      <td>Wii</td>\n",
       "      <td>2009</td>\n",
       "      <td>Sports</td>\n",
       "      <td>15.61</td>\n",
       "      <td>10.93</td>\n",
       "      <td>3.28</td>\n",
       "      <td>2.95</td>\n",
       "      <td>80.0</td>\n",
       "      <td>8.0</td>\n",
       "      <td>E</td>\n",
       "      <td>32.77</td>\n",
       "    </tr>\n",
       "    <tr>\n",
       "      <th>4</th>\n",
       "      <td>Pokemon Red/Pokemon Blue</td>\n",
       "      <td>GB</td>\n",
       "      <td>1996</td>\n",
       "      <td>Role-Playing</td>\n",
       "      <td>11.27</td>\n",
       "      <td>8.89</td>\n",
       "      <td>10.22</td>\n",
       "      <td>1.00</td>\n",
       "      <td>0.0</td>\n",
       "      <td>0.0</td>\n",
       "      <td>NaN</td>\n",
       "      <td>31.38</td>\n",
       "    </tr>\n",
       "    <tr>\n",
       "      <th>5</th>\n",
       "      <td>Tetris</td>\n",
       "      <td>GB</td>\n",
       "      <td>1989</td>\n",
       "      <td>Puzzle</td>\n",
       "      <td>23.20</td>\n",
       "      <td>2.26</td>\n",
       "      <td>4.22</td>\n",
       "      <td>0.58</td>\n",
       "      <td>0.0</td>\n",
       "      <td>0.0</td>\n",
       "      <td>NaN</td>\n",
       "      <td>30.26</td>\n",
       "    </tr>\n",
       "    <tr>\n",
       "      <th>6</th>\n",
       "      <td>New Super Mario Bros.</td>\n",
       "      <td>DS</td>\n",
       "      <td>2006</td>\n",
       "      <td>Platform</td>\n",
       "      <td>11.28</td>\n",
       "      <td>9.14</td>\n",
       "      <td>6.50</td>\n",
       "      <td>2.88</td>\n",
       "      <td>89.0</td>\n",
       "      <td>8.5</td>\n",
       "      <td>E</td>\n",
       "      <td>29.80</td>\n",
       "    </tr>\n",
       "    <tr>\n",
       "      <th>7</th>\n",
       "      <td>Wii Play</td>\n",
       "      <td>Wii</td>\n",
       "      <td>2006</td>\n",
       "      <td>Misc</td>\n",
       "      <td>13.96</td>\n",
       "      <td>9.18</td>\n",
       "      <td>2.93</td>\n",
       "      <td>2.84</td>\n",
       "      <td>58.0</td>\n",
       "      <td>6.6</td>\n",
       "      <td>E</td>\n",
       "      <td>28.91</td>\n",
       "    </tr>\n",
       "    <tr>\n",
       "      <th>8</th>\n",
       "      <td>New Super Mario Bros. Wii</td>\n",
       "      <td>Wii</td>\n",
       "      <td>2009</td>\n",
       "      <td>Platform</td>\n",
       "      <td>14.44</td>\n",
       "      <td>6.94</td>\n",
       "      <td>4.70</td>\n",
       "      <td>2.24</td>\n",
       "      <td>87.0</td>\n",
       "      <td>8.4</td>\n",
       "      <td>E</td>\n",
       "      <td>28.32</td>\n",
       "    </tr>\n",
       "    <tr>\n",
       "      <th>9</th>\n",
       "      <td>Duck Hunt</td>\n",
       "      <td>NES</td>\n",
       "      <td>1984</td>\n",
       "      <td>Shooter</td>\n",
       "      <td>26.93</td>\n",
       "      <td>0.63</td>\n",
       "      <td>0.28</td>\n",
       "      <td>0.47</td>\n",
       "      <td>0.0</td>\n",
       "      <td>0.0</td>\n",
       "      <td>NaN</td>\n",
       "      <td>28.31</td>\n",
       "    </tr>\n",
       "    <tr>\n",
       "      <th>10</th>\n",
       "      <td>Nintendogs</td>\n",
       "      <td>DS</td>\n",
       "      <td>2005</td>\n",
       "      <td>Simulation</td>\n",
       "      <td>9.05</td>\n",
       "      <td>10.95</td>\n",
       "      <td>1.93</td>\n",
       "      <td>2.74</td>\n",
       "      <td>0.0</td>\n",
       "      <td>0.0</td>\n",
       "      <td>NaN</td>\n",
       "      <td>24.67</td>\n",
       "    </tr>\n",
       "    <tr>\n",
       "      <th>11</th>\n",
       "      <td>Mario Kart DS</td>\n",
       "      <td>DS</td>\n",
       "      <td>2005</td>\n",
       "      <td>Racing</td>\n",
       "      <td>9.71</td>\n",
       "      <td>7.47</td>\n",
       "      <td>4.13</td>\n",
       "      <td>1.90</td>\n",
       "      <td>91.0</td>\n",
       "      <td>8.6</td>\n",
       "      <td>E</td>\n",
       "      <td>23.21</td>\n",
       "    </tr>\n",
       "    <tr>\n",
       "      <th>12</th>\n",
       "      <td>Pokemon Gold/Pokemon Silver</td>\n",
       "      <td>GB</td>\n",
       "      <td>1999</td>\n",
       "      <td>Role-Playing</td>\n",
       "      <td>9.00</td>\n",
       "      <td>6.18</td>\n",
       "      <td>7.20</td>\n",
       "      <td>0.71</td>\n",
       "      <td>0.0</td>\n",
       "      <td>0.0</td>\n",
       "      <td>NaN</td>\n",
       "      <td>23.09</td>\n",
       "    </tr>\n",
       "    <tr>\n",
       "      <th>13</th>\n",
       "      <td>Wii Fit</td>\n",
       "      <td>Wii</td>\n",
       "      <td>2007</td>\n",
       "      <td>Sports</td>\n",
       "      <td>8.92</td>\n",
       "      <td>8.03</td>\n",
       "      <td>3.60</td>\n",
       "      <td>2.15</td>\n",
       "      <td>80.0</td>\n",
       "      <td>7.7</td>\n",
       "      <td>E</td>\n",
       "      <td>22.70</td>\n",
       "    </tr>\n",
       "    <tr>\n",
       "      <th>14</th>\n",
       "      <td>Kinect Adventures!</td>\n",
       "      <td>X360</td>\n",
       "      <td>2010</td>\n",
       "      <td>Misc</td>\n",
       "      <td>15.00</td>\n",
       "      <td>4.89</td>\n",
       "      <td>0.24</td>\n",
       "      <td>1.69</td>\n",
       "      <td>61.0</td>\n",
       "      <td>6.3</td>\n",
       "      <td>E</td>\n",
       "      <td>21.82</td>\n",
       "    </tr>\n",
       "    <tr>\n",
       "      <th>15</th>\n",
       "      <td>Wii Fit Plus</td>\n",
       "      <td>Wii</td>\n",
       "      <td>2009</td>\n",
       "      <td>Sports</td>\n",
       "      <td>9.01</td>\n",
       "      <td>8.49</td>\n",
       "      <td>2.53</td>\n",
       "      <td>1.77</td>\n",
       "      <td>80.0</td>\n",
       "      <td>7.4</td>\n",
       "      <td>E</td>\n",
       "      <td>21.80</td>\n",
       "    </tr>\n",
       "    <tr>\n",
       "      <th>16</th>\n",
       "      <td>Grand Theft Auto V</td>\n",
       "      <td>PS3</td>\n",
       "      <td>2013</td>\n",
       "      <td>Action</td>\n",
       "      <td>7.02</td>\n",
       "      <td>9.09</td>\n",
       "      <td>0.98</td>\n",
       "      <td>3.96</td>\n",
       "      <td>97.0</td>\n",
       "      <td>8.2</td>\n",
       "      <td>M</td>\n",
       "      <td>21.05</td>\n",
       "    </tr>\n",
       "    <tr>\n",
       "      <th>17</th>\n",
       "      <td>Grand Theft Auto: San Andreas</td>\n",
       "      <td>PS2</td>\n",
       "      <td>2004</td>\n",
       "      <td>Action</td>\n",
       "      <td>9.43</td>\n",
       "      <td>0.40</td>\n",
       "      <td>0.41</td>\n",
       "      <td>10.57</td>\n",
       "      <td>95.0</td>\n",
       "      <td>9.0</td>\n",
       "      <td>M</td>\n",
       "      <td>20.81</td>\n",
       "    </tr>\n",
       "    <tr>\n",
       "      <th>18</th>\n",
       "      <td>Super Mario World</td>\n",
       "      <td>SNES</td>\n",
       "      <td>1990</td>\n",
       "      <td>Platform</td>\n",
       "      <td>12.78</td>\n",
       "      <td>3.75</td>\n",
       "      <td>3.54</td>\n",
       "      <td>0.55</td>\n",
       "      <td>0.0</td>\n",
       "      <td>0.0</td>\n",
       "      <td>NaN</td>\n",
       "      <td>20.62</td>\n",
       "    </tr>\n",
       "    <tr>\n",
       "      <th>19</th>\n",
       "      <td>Brain Age: Train Your Brain in Minutes a Day</td>\n",
       "      <td>DS</td>\n",
       "      <td>2005</td>\n",
       "      <td>Misc</td>\n",
       "      <td>4.74</td>\n",
       "      <td>9.20</td>\n",
       "      <td>4.16</td>\n",
       "      <td>2.04</td>\n",
       "      <td>77.0</td>\n",
       "      <td>7.9</td>\n",
       "      <td>E</td>\n",
       "      <td>20.14</td>\n",
       "    </tr>\n",
       "  </tbody>\n",
       "</table>\n",
       "</div>"
      ],
      "text/plain": [
       "                                            name platform  year_of_release  \\\n",
       "0                                     Wii Sports      Wii             2006   \n",
       "1                              Super Mario Bros.      NES             1985   \n",
       "2                                 Mario Kart Wii      Wii             2008   \n",
       "3                              Wii Sports Resort      Wii             2009   \n",
       "4                       Pokemon Red/Pokemon Blue       GB             1996   \n",
       "5                                         Tetris       GB             1989   \n",
       "6                          New Super Mario Bros.       DS             2006   \n",
       "7                                       Wii Play      Wii             2006   \n",
       "8                      New Super Mario Bros. Wii      Wii             2009   \n",
       "9                                      Duck Hunt      NES             1984   \n",
       "10                                    Nintendogs       DS             2005   \n",
       "11                                 Mario Kart DS       DS             2005   \n",
       "12                   Pokemon Gold/Pokemon Silver       GB             1999   \n",
       "13                                       Wii Fit      Wii             2007   \n",
       "14                            Kinect Adventures!     X360             2010   \n",
       "15                                  Wii Fit Plus      Wii             2009   \n",
       "16                            Grand Theft Auto V      PS3             2013   \n",
       "17                 Grand Theft Auto: San Andreas      PS2             2004   \n",
       "18                             Super Mario World     SNES             1990   \n",
       "19  Brain Age: Train Your Brain in Minutes a Day       DS             2005   \n",
       "\n",
       "           genre  na_sales  eu_sales  jp_sales  other_sales  critic_score  \\\n",
       "0         Sports     41.36     28.96      3.77         8.45          76.0   \n",
       "1       Platform     29.08      3.58      6.81         0.77           0.0   \n",
       "2         Racing     15.68     12.76      3.79         3.29          82.0   \n",
       "3         Sports     15.61     10.93      3.28         2.95          80.0   \n",
       "4   Role-Playing     11.27      8.89     10.22         1.00           0.0   \n",
       "5         Puzzle     23.20      2.26      4.22         0.58           0.0   \n",
       "6       Platform     11.28      9.14      6.50         2.88          89.0   \n",
       "7           Misc     13.96      9.18      2.93         2.84          58.0   \n",
       "8       Platform     14.44      6.94      4.70         2.24          87.0   \n",
       "9        Shooter     26.93      0.63      0.28         0.47           0.0   \n",
       "10    Simulation      9.05     10.95      1.93         2.74           0.0   \n",
       "11        Racing      9.71      7.47      4.13         1.90          91.0   \n",
       "12  Role-Playing      9.00      6.18      7.20         0.71           0.0   \n",
       "13        Sports      8.92      8.03      3.60         2.15          80.0   \n",
       "14          Misc     15.00      4.89      0.24         1.69          61.0   \n",
       "15        Sports      9.01      8.49      2.53         1.77          80.0   \n",
       "16        Action      7.02      9.09      0.98         3.96          97.0   \n",
       "17        Action      9.43      0.40      0.41        10.57          95.0   \n",
       "18      Platform     12.78      3.75      3.54         0.55           0.0   \n",
       "19          Misc      4.74      9.20      4.16         2.04          77.0   \n",
       "\n",
       "    user_score rating  total_sales  \n",
       "0          8.0      E        82.54  \n",
       "1          0.0    NaN        40.24  \n",
       "2          8.3      E        35.52  \n",
       "3          8.0      E        32.77  \n",
       "4          0.0    NaN        31.38  \n",
       "5          0.0    NaN        30.26  \n",
       "6          8.5      E        29.80  \n",
       "7          6.6      E        28.91  \n",
       "8          8.4      E        28.32  \n",
       "9          0.0    NaN        28.31  \n",
       "10         0.0    NaN        24.67  \n",
       "11         8.6      E        23.21  \n",
       "12         0.0    NaN        23.09  \n",
       "13         7.7      E        22.70  \n",
       "14         6.3      E        21.82  \n",
       "15         7.4      E        21.80  \n",
       "16         8.2      M        21.05  \n",
       "17         9.0      M        20.81  \n",
       "18         0.0    NaN        20.62  \n",
       "19         7.9      E        20.14  "
      ]
     },
     "metadata": {},
     "output_type": "display_data"
    },
    {
     "data": {
      "text/plain": [
       "array([8.254e+01, 4.024e+01, 3.552e+01, ..., 2.000e-02, 1.000e-02,\n",
       "       0.000e+00])"
      ]
     },
     "execution_count": 12,
     "metadata": {},
     "output_type": "execute_result"
    }
   ],
   "source": [
    "games['total_sales'] = games[['na_sales','eu_sales','jp_sales','other_sales']].sum(axis=1)\n",
    "display(games.head(20))\n",
    "games['total_sales'].unique()"
   ]
  },
  {
   "cell_type": "markdown",
   "metadata": {},
   "source": [
    "### Summary\n",
    "\n",
    "We studied the missing values and made assumptions about the reasons for their appearance in the dataset. The data format has been changed, and the 'tbd' tag has been removed from the user_score column. Added a new total_sales column with the total amount. We found out that the entire dataset is sorted in descending order of total sales.\n",
    "\n"
   ]
  },
  {
   "cell_type": "markdown",
   "metadata": {},
   "source": [
    "## Research data analysis\n",
    "\n",
    "\n",
    "\n",
    "Let's check how many games were released in different years. \n",
    "We are going to determine how sales by platform have changed. We will choose the platforms with the highest total sales and build a distribution by year. \n",
    "Let's take the data for the relevant current period and determine which platforms are leading in sales, growing or falling. We will choose several potentially profitable platforms.\n",
    "\n",
    "Let's build a box plot for global game sales by platform.\n",
    "We are going to see how the reviews of users and critics affect sales within one popular platform. Let's build a scatter plot and calculate the correlation between reviews and sales. \n",
    "\n",
    "\n",
    "Let's look at the general allocation of games by genre. What can we say about the most profitable genres? Are genres with high and low sales outstanding?\n"
   ]
  },
  {
   "cell_type": "markdown",
   "metadata": {},
   "source": [
    "### Analysis of games by year of release"
   ]
  },
  {
   "cell_type": "code",
   "execution_count": 13,
   "metadata": {},
   "outputs": [
    {
     "data": {
      "text/html": [
       "<div>\n",
       "<style scoped>\n",
       "    .dataframe tbody tr th:only-of-type {\n",
       "        vertical-align: middle;\n",
       "    }\n",
       "\n",
       "    .dataframe tbody tr th {\n",
       "        vertical-align: top;\n",
       "    }\n",
       "\n",
       "    .dataframe thead th {\n",
       "        text-align: right;\n",
       "    }\n",
       "</style>\n",
       "<table border=\"1\" class=\"dataframe\">\n",
       "  <thead>\n",
       "    <tr style=\"text-align: right;\">\n",
       "      <th></th>\n",
       "      <th>year_of_release</th>\n",
       "      <th>name</th>\n",
       "    </tr>\n",
       "  </thead>\n",
       "  <tbody>\n",
       "    <tr>\n",
       "      <th>0</th>\n",
       "      <td>1980</td>\n",
       "      <td>9</td>\n",
       "    </tr>\n",
       "    <tr>\n",
       "      <th>1</th>\n",
       "      <td>1981</td>\n",
       "      <td>46</td>\n",
       "    </tr>\n",
       "    <tr>\n",
       "      <th>2</th>\n",
       "      <td>1982</td>\n",
       "      <td>36</td>\n",
       "    </tr>\n",
       "    <tr>\n",
       "      <th>3</th>\n",
       "      <td>1983</td>\n",
       "      <td>17</td>\n",
       "    </tr>\n",
       "    <tr>\n",
       "      <th>4</th>\n",
       "      <td>1984</td>\n",
       "      <td>14</td>\n",
       "    </tr>\n",
       "    <tr>\n",
       "      <th>5</th>\n",
       "      <td>1985</td>\n",
       "      <td>14</td>\n",
       "    </tr>\n",
       "    <tr>\n",
       "      <th>6</th>\n",
       "      <td>1986</td>\n",
       "      <td>21</td>\n",
       "    </tr>\n",
       "    <tr>\n",
       "      <th>7</th>\n",
       "      <td>1987</td>\n",
       "      <td>16</td>\n",
       "    </tr>\n",
       "    <tr>\n",
       "      <th>8</th>\n",
       "      <td>1988</td>\n",
       "      <td>15</td>\n",
       "    </tr>\n",
       "    <tr>\n",
       "      <th>9</th>\n",
       "      <td>1989</td>\n",
       "      <td>17</td>\n",
       "    </tr>\n",
       "    <tr>\n",
       "      <th>10</th>\n",
       "      <td>1990</td>\n",
       "      <td>16</td>\n",
       "    </tr>\n",
       "    <tr>\n",
       "      <th>11</th>\n",
       "      <td>1991</td>\n",
       "      <td>41</td>\n",
       "    </tr>\n",
       "    <tr>\n",
       "      <th>12</th>\n",
       "      <td>1992</td>\n",
       "      <td>43</td>\n",
       "    </tr>\n",
       "    <tr>\n",
       "      <th>13</th>\n",
       "      <td>1993</td>\n",
       "      <td>60</td>\n",
       "    </tr>\n",
       "    <tr>\n",
       "      <th>14</th>\n",
       "      <td>1994</td>\n",
       "      <td>121</td>\n",
       "    </tr>\n",
       "    <tr>\n",
       "      <th>15</th>\n",
       "      <td>1995</td>\n",
       "      <td>219</td>\n",
       "    </tr>\n",
       "    <tr>\n",
       "      <th>16</th>\n",
       "      <td>1996</td>\n",
       "      <td>263</td>\n",
       "    </tr>\n",
       "    <tr>\n",
       "      <th>17</th>\n",
       "      <td>1997</td>\n",
       "      <td>289</td>\n",
       "    </tr>\n",
       "    <tr>\n",
       "      <th>18</th>\n",
       "      <td>1998</td>\n",
       "      <td>379</td>\n",
       "    </tr>\n",
       "    <tr>\n",
       "      <th>19</th>\n",
       "      <td>1999</td>\n",
       "      <td>338</td>\n",
       "    </tr>\n",
       "    <tr>\n",
       "      <th>20</th>\n",
       "      <td>2000</td>\n",
       "      <td>350</td>\n",
       "    </tr>\n",
       "    <tr>\n",
       "      <th>21</th>\n",
       "      <td>2001</td>\n",
       "      <td>482</td>\n",
       "    </tr>\n",
       "    <tr>\n",
       "      <th>22</th>\n",
       "      <td>2002</td>\n",
       "      <td>830</td>\n",
       "    </tr>\n",
       "    <tr>\n",
       "      <th>23</th>\n",
       "      <td>2003</td>\n",
       "      <td>779</td>\n",
       "    </tr>\n",
       "    <tr>\n",
       "      <th>24</th>\n",
       "      <td>2004</td>\n",
       "      <td>764</td>\n",
       "    </tr>\n",
       "    <tr>\n",
       "      <th>25</th>\n",
       "      <td>2005</td>\n",
       "      <td>941</td>\n",
       "    </tr>\n",
       "    <tr>\n",
       "      <th>26</th>\n",
       "      <td>2006</td>\n",
       "      <td>1008</td>\n",
       "    </tr>\n",
       "    <tr>\n",
       "      <th>27</th>\n",
       "      <td>2007</td>\n",
       "      <td>1198</td>\n",
       "    </tr>\n",
       "    <tr>\n",
       "      <th>28</th>\n",
       "      <td>2008</td>\n",
       "      <td>1429</td>\n",
       "    </tr>\n",
       "    <tr>\n",
       "      <th>29</th>\n",
       "      <td>2009</td>\n",
       "      <td>1427</td>\n",
       "    </tr>\n",
       "    <tr>\n",
       "      <th>30</th>\n",
       "      <td>2010</td>\n",
       "      <td>1255</td>\n",
       "    </tr>\n",
       "    <tr>\n",
       "      <th>31</th>\n",
       "      <td>2011</td>\n",
       "      <td>1137</td>\n",
       "    </tr>\n",
       "    <tr>\n",
       "      <th>32</th>\n",
       "      <td>2012</td>\n",
       "      <td>653</td>\n",
       "    </tr>\n",
       "    <tr>\n",
       "      <th>33</th>\n",
       "      <td>2013</td>\n",
       "      <td>545</td>\n",
       "    </tr>\n",
       "    <tr>\n",
       "      <th>34</th>\n",
       "      <td>2014</td>\n",
       "      <td>581</td>\n",
       "    </tr>\n",
       "    <tr>\n",
       "      <th>35</th>\n",
       "      <td>2015</td>\n",
       "      <td>606</td>\n",
       "    </tr>\n",
       "    <tr>\n",
       "      <th>36</th>\n",
       "      <td>2016</td>\n",
       "      <td>502</td>\n",
       "    </tr>\n",
       "  </tbody>\n",
       "</table>\n",
       "</div>"
      ],
      "text/plain": [
       "    year_of_release  name\n",
       "0              1980     9\n",
       "1              1981    46\n",
       "2              1982    36\n",
       "3              1983    17\n",
       "4              1984    14\n",
       "5              1985    14\n",
       "6              1986    21\n",
       "7              1987    16\n",
       "8              1988    15\n",
       "9              1989    17\n",
       "10             1990    16\n",
       "11             1991    41\n",
       "12             1992    43\n",
       "13             1993    60\n",
       "14             1994   121\n",
       "15             1995   219\n",
       "16             1996   263\n",
       "17             1997   289\n",
       "18             1998   379\n",
       "19             1999   338\n",
       "20             2000   350\n",
       "21             2001   482\n",
       "22             2002   830\n",
       "23             2003   779\n",
       "24             2004   764\n",
       "25             2005   941\n",
       "26             2006  1008\n",
       "27             2007  1198\n",
       "28             2008  1429\n",
       "29             2009  1427\n",
       "30             2010  1255\n",
       "31             2011  1137\n",
       "32             2012   653\n",
       "33             2013   545\n",
       "34             2014   581\n",
       "35             2015   606\n",
       "36             2016   502"
      ]
     },
     "metadata": {},
     "output_type": "display_data"
    }
   ],
   "source": [
    "games_count = games[games['year_of_release']>0].pivot_table(values = ['name'], index = ['year_of_release'],\\\n",
    "                                                            aggfunc = 'count').reset_index()\n",
    "display(games_count)\n"
   ]
  },
  {
   "cell_type": "markdown",
   "metadata": {},
   "source": [
    "### Game sales analysis by platform"
   ]
  },
  {
   "cell_type": "markdown",
   "metadata": {},
   "source": [
    "Let's find the platforms with the highest total sales.\n",
    "To do this, we will make a pivot table with platforms.\n"
   ]
  },
  {
   "cell_type": "code",
   "execution_count": 14,
   "metadata": {},
   "outputs": [
    {
     "data": {
      "text/html": [
       "<div>\n",
       "<style scoped>\n",
       "    .dataframe tbody tr th:only-of-type {\n",
       "        vertical-align: middle;\n",
       "    }\n",
       "\n",
       "    .dataframe tbody tr th {\n",
       "        vertical-align: top;\n",
       "    }\n",
       "\n",
       "    .dataframe thead th {\n",
       "        text-align: right;\n",
       "    }\n",
       "</style>\n",
       "<table border=\"1\" class=\"dataframe\">\n",
       "  <thead>\n",
       "    <tr style=\"text-align: right;\">\n",
       "      <th></th>\n",
       "      <th>total_sales</th>\n",
       "    </tr>\n",
       "    <tr>\n",
       "      <th>platform</th>\n",
       "      <th></th>\n",
       "    </tr>\n",
       "  </thead>\n",
       "  <tbody>\n",
       "    <tr>\n",
       "      <th>2600</th>\n",
       "      <td>96.98</td>\n",
       "    </tr>\n",
       "    <tr>\n",
       "      <th>3DO</th>\n",
       "      <td>0.10</td>\n",
       "    </tr>\n",
       "    <tr>\n",
       "      <th>3DS</th>\n",
       "      <td>259.00</td>\n",
       "    </tr>\n",
       "    <tr>\n",
       "      <th>DC</th>\n",
       "      <td>15.95</td>\n",
       "    </tr>\n",
       "    <tr>\n",
       "      <th>DS</th>\n",
       "      <td>806.12</td>\n",
       "    </tr>\n",
       "    <tr>\n",
       "      <th>GB</th>\n",
       "      <td>255.46</td>\n",
       "    </tr>\n",
       "    <tr>\n",
       "      <th>GBA</th>\n",
       "      <td>317.85</td>\n",
       "    </tr>\n",
       "    <tr>\n",
       "      <th>GC</th>\n",
       "      <td>198.93</td>\n",
       "    </tr>\n",
       "    <tr>\n",
       "      <th>GEN</th>\n",
       "      <td>28.35</td>\n",
       "    </tr>\n",
       "    <tr>\n",
       "      <th>GG</th>\n",
       "      <td>0.04</td>\n",
       "    </tr>\n",
       "    <tr>\n",
       "      <th>N64</th>\n",
       "      <td>218.68</td>\n",
       "    </tr>\n",
       "    <tr>\n",
       "      <th>NES</th>\n",
       "      <td>251.05</td>\n",
       "    </tr>\n",
       "    <tr>\n",
       "      <th>NG</th>\n",
       "      <td>1.44</td>\n",
       "    </tr>\n",
       "    <tr>\n",
       "      <th>PC</th>\n",
       "      <td>259.52</td>\n",
       "    </tr>\n",
       "    <tr>\n",
       "      <th>PCFX</th>\n",
       "      <td>0.03</td>\n",
       "    </tr>\n",
       "    <tr>\n",
       "      <th>PS</th>\n",
       "      <td>730.86</td>\n",
       "    </tr>\n",
       "    <tr>\n",
       "      <th>PS2</th>\n",
       "      <td>1255.77</td>\n",
       "    </tr>\n",
       "    <tr>\n",
       "      <th>PS3</th>\n",
       "      <td>939.65</td>\n",
       "    </tr>\n",
       "    <tr>\n",
       "      <th>PS4</th>\n",
       "      <td>314.14</td>\n",
       "    </tr>\n",
       "    <tr>\n",
       "      <th>PSP</th>\n",
       "      <td>294.05</td>\n",
       "    </tr>\n",
       "    <tr>\n",
       "      <th>PSV</th>\n",
       "      <td>54.07</td>\n",
       "    </tr>\n",
       "    <tr>\n",
       "      <th>SAT</th>\n",
       "      <td>33.59</td>\n",
       "    </tr>\n",
       "    <tr>\n",
       "      <th>SCD</th>\n",
       "      <td>1.86</td>\n",
       "    </tr>\n",
       "    <tr>\n",
       "      <th>SNES</th>\n",
       "      <td>200.04</td>\n",
       "    </tr>\n",
       "    <tr>\n",
       "      <th>TG16</th>\n",
       "      <td>0.16</td>\n",
       "    </tr>\n",
       "    <tr>\n",
       "      <th>WS</th>\n",
       "      <td>1.42</td>\n",
       "    </tr>\n",
       "    <tr>\n",
       "      <th>Wii</th>\n",
       "      <td>907.51</td>\n",
       "    </tr>\n",
       "    <tr>\n",
       "      <th>WiiU</th>\n",
       "      <td>82.19</td>\n",
       "    </tr>\n",
       "    <tr>\n",
       "      <th>X360</th>\n",
       "      <td>971.42</td>\n",
       "    </tr>\n",
       "    <tr>\n",
       "      <th>XB</th>\n",
       "      <td>257.74</td>\n",
       "    </tr>\n",
       "    <tr>\n",
       "      <th>XOne</th>\n",
       "      <td>159.32</td>\n",
       "    </tr>\n",
       "  </tbody>\n",
       "</table>\n",
       "</div>"
      ],
      "text/plain": [
       "          total_sales\n",
       "platform             \n",
       "2600            96.98\n",
       "3DO              0.10\n",
       "3DS            259.00\n",
       "DC              15.95\n",
       "DS             806.12\n",
       "GB             255.46\n",
       "GBA            317.85\n",
       "GC             198.93\n",
       "GEN             28.35\n",
       "GG               0.04\n",
       "N64            218.68\n",
       "NES            251.05\n",
       "NG               1.44\n",
       "PC             259.52\n",
       "PCFX             0.03\n",
       "PS             730.86\n",
       "PS2           1255.77\n",
       "PS3            939.65\n",
       "PS4            314.14\n",
       "PSP            294.05\n",
       "PSV             54.07\n",
       "SAT             33.59\n",
       "SCD              1.86\n",
       "SNES           200.04\n",
       "TG16             0.16\n",
       "WS               1.42\n",
       "Wii            907.51\n",
       "WiiU            82.19\n",
       "X360           971.42\n",
       "XB             257.74\n",
       "XOne           159.32"
      ]
     },
     "metadata": {},
     "output_type": "display_data"
    },
    {
     "data": {
      "text/html": [
       "<div>\n",
       "<style scoped>\n",
       "    .dataframe tbody tr th:only-of-type {\n",
       "        vertical-align: middle;\n",
       "    }\n",
       "\n",
       "    .dataframe tbody tr th {\n",
       "        vertical-align: top;\n",
       "    }\n",
       "\n",
       "    .dataframe thead th {\n",
       "        text-align: right;\n",
       "    }\n",
       "</style>\n",
       "<table border=\"1\" class=\"dataframe\">\n",
       "  <thead>\n",
       "    <tr style=\"text-align: right;\">\n",
       "      <th></th>\n",
       "      <th>platform</th>\n",
       "      <th>total_sales</th>\n",
       "    </tr>\n",
       "  </thead>\n",
       "  <tbody>\n",
       "    <tr>\n",
       "      <th>16</th>\n",
       "      <td>PS2</td>\n",
       "      <td>1255.77</td>\n",
       "    </tr>\n",
       "    <tr>\n",
       "      <th>28</th>\n",
       "      <td>X360</td>\n",
       "      <td>971.42</td>\n",
       "    </tr>\n",
       "    <tr>\n",
       "      <th>17</th>\n",
       "      <td>PS3</td>\n",
       "      <td>939.65</td>\n",
       "    </tr>\n",
       "    <tr>\n",
       "      <th>26</th>\n",
       "      <td>Wii</td>\n",
       "      <td>907.51</td>\n",
       "    </tr>\n",
       "    <tr>\n",
       "      <th>4</th>\n",
       "      <td>DS</td>\n",
       "      <td>806.12</td>\n",
       "    </tr>\n",
       "    <tr>\n",
       "      <th>15</th>\n",
       "      <td>PS</td>\n",
       "      <td>730.86</td>\n",
       "    </tr>\n",
       "    <tr>\n",
       "      <th>6</th>\n",
       "      <td>GBA</td>\n",
       "      <td>317.85</td>\n",
       "    </tr>\n",
       "    <tr>\n",
       "      <th>18</th>\n",
       "      <td>PS4</td>\n",
       "      <td>314.14</td>\n",
       "    </tr>\n",
       "    <tr>\n",
       "      <th>19</th>\n",
       "      <td>PSP</td>\n",
       "      <td>294.05</td>\n",
       "    </tr>\n",
       "    <tr>\n",
       "      <th>13</th>\n",
       "      <td>PC</td>\n",
       "      <td>259.52</td>\n",
       "    </tr>\n",
       "    <tr>\n",
       "      <th>2</th>\n",
       "      <td>3DS</td>\n",
       "      <td>259.00</td>\n",
       "    </tr>\n",
       "    <tr>\n",
       "      <th>29</th>\n",
       "      <td>XB</td>\n",
       "      <td>257.74</td>\n",
       "    </tr>\n",
       "    <tr>\n",
       "      <th>5</th>\n",
       "      <td>GB</td>\n",
       "      <td>255.46</td>\n",
       "    </tr>\n",
       "    <tr>\n",
       "      <th>11</th>\n",
       "      <td>NES</td>\n",
       "      <td>251.05</td>\n",
       "    </tr>\n",
       "    <tr>\n",
       "      <th>10</th>\n",
       "      <td>N64</td>\n",
       "      <td>218.68</td>\n",
       "    </tr>\n",
       "    <tr>\n",
       "      <th>23</th>\n",
       "      <td>SNES</td>\n",
       "      <td>200.04</td>\n",
       "    </tr>\n",
       "    <tr>\n",
       "      <th>7</th>\n",
       "      <td>GC</td>\n",
       "      <td>198.93</td>\n",
       "    </tr>\n",
       "    <tr>\n",
       "      <th>30</th>\n",
       "      <td>XOne</td>\n",
       "      <td>159.32</td>\n",
       "    </tr>\n",
       "    <tr>\n",
       "      <th>0</th>\n",
       "      <td>2600</td>\n",
       "      <td>96.98</td>\n",
       "    </tr>\n",
       "    <tr>\n",
       "      <th>27</th>\n",
       "      <td>WiiU</td>\n",
       "      <td>82.19</td>\n",
       "    </tr>\n",
       "    <tr>\n",
       "      <th>20</th>\n",
       "      <td>PSV</td>\n",
       "      <td>54.07</td>\n",
       "    </tr>\n",
       "    <tr>\n",
       "      <th>21</th>\n",
       "      <td>SAT</td>\n",
       "      <td>33.59</td>\n",
       "    </tr>\n",
       "    <tr>\n",
       "      <th>8</th>\n",
       "      <td>GEN</td>\n",
       "      <td>28.35</td>\n",
       "    </tr>\n",
       "    <tr>\n",
       "      <th>3</th>\n",
       "      <td>DC</td>\n",
       "      <td>15.95</td>\n",
       "    </tr>\n",
       "    <tr>\n",
       "      <th>22</th>\n",
       "      <td>SCD</td>\n",
       "      <td>1.86</td>\n",
       "    </tr>\n",
       "    <tr>\n",
       "      <th>12</th>\n",
       "      <td>NG</td>\n",
       "      <td>1.44</td>\n",
       "    </tr>\n",
       "    <tr>\n",
       "      <th>25</th>\n",
       "      <td>WS</td>\n",
       "      <td>1.42</td>\n",
       "    </tr>\n",
       "    <tr>\n",
       "      <th>24</th>\n",
       "      <td>TG16</td>\n",
       "      <td>0.16</td>\n",
       "    </tr>\n",
       "    <tr>\n",
       "      <th>1</th>\n",
       "      <td>3DO</td>\n",
       "      <td>0.10</td>\n",
       "    </tr>\n",
       "    <tr>\n",
       "      <th>9</th>\n",
       "      <td>GG</td>\n",
       "      <td>0.04</td>\n",
       "    </tr>\n",
       "    <tr>\n",
       "      <th>14</th>\n",
       "      <td>PCFX</td>\n",
       "      <td>0.03</td>\n",
       "    </tr>\n",
       "  </tbody>\n",
       "</table>\n",
       "</div>"
      ],
      "text/plain": [
       "   platform  total_sales\n",
       "16      PS2      1255.77\n",
       "28     X360       971.42\n",
       "17      PS3       939.65\n",
       "26      Wii       907.51\n",
       "4        DS       806.12\n",
       "15       PS       730.86\n",
       "6       GBA       317.85\n",
       "18      PS4       314.14\n",
       "19      PSP       294.05\n",
       "13       PC       259.52\n",
       "2       3DS       259.00\n",
       "29       XB       257.74\n",
       "5        GB       255.46\n",
       "11      NES       251.05\n",
       "10      N64       218.68\n",
       "23     SNES       200.04\n",
       "7        GC       198.93\n",
       "30     XOne       159.32\n",
       "0      2600        96.98\n",
       "27     WiiU        82.19\n",
       "20      PSV        54.07\n",
       "21      SAT        33.59\n",
       "8       GEN        28.35\n",
       "3        DC        15.95\n",
       "22      SCD         1.86\n",
       "12       NG         1.44\n",
       "25       WS         1.42\n",
       "24     TG16         0.16\n",
       "1       3DO         0.10\n",
       "9        GG         0.04\n",
       "14     PCFX         0.03"
      ]
     },
     "metadata": {},
     "output_type": "display_data"
    }
   ],
   "source": [
    "platform_rating = games.pivot_table(values = ['total_sales'], index = ['platform'],aggfunc = 'sum')\n",
    "display(platform_rating)\n",
    "platform_rating = platform_rating.reset_index()\\\n",
    "      .sort_values(['total_sales'], ascending= 0)\n",
    "display(platform_rating)\n",
    "\n",
    "platform_rating.columns = ['platform','total_sales']\n",
    "\n"
   ]
  },
  {
   "cell_type": "code",
   "execution_count": 15,
   "metadata": {
    "scrolled": false
   },
   "outputs": [
    {
     "data": {
      "text/html": [
       "<div>\n",
       "<style scoped>\n",
       "    .dataframe tbody tr th:only-of-type {\n",
       "        vertical-align: middle;\n",
       "    }\n",
       "\n",
       "    .dataframe tbody tr th {\n",
       "        vertical-align: top;\n",
       "    }\n",
       "\n",
       "    .dataframe thead th {\n",
       "        text-align: right;\n",
       "    }\n",
       "</style>\n",
       "<table border=\"1\" class=\"dataframe\">\n",
       "  <thead>\n",
       "    <tr style=\"text-align: right;\">\n",
       "      <th></th>\n",
       "      <th>platform</th>\n",
       "      <th>total_sales</th>\n",
       "    </tr>\n",
       "  </thead>\n",
       "  <tbody>\n",
       "    <tr>\n",
       "      <th>16</th>\n",
       "      <td>PS2</td>\n",
       "      <td>1255.77</td>\n",
       "    </tr>\n",
       "    <tr>\n",
       "      <th>28</th>\n",
       "      <td>X360</td>\n",
       "      <td>971.42</td>\n",
       "    </tr>\n",
       "    <tr>\n",
       "      <th>17</th>\n",
       "      <td>PS3</td>\n",
       "      <td>939.65</td>\n",
       "    </tr>\n",
       "    <tr>\n",
       "      <th>26</th>\n",
       "      <td>Wii</td>\n",
       "      <td>907.51</td>\n",
       "    </tr>\n",
       "    <tr>\n",
       "      <th>4</th>\n",
       "      <td>DS</td>\n",
       "      <td>806.12</td>\n",
       "    </tr>\n",
       "    <tr>\n",
       "      <th>15</th>\n",
       "      <td>PS</td>\n",
       "      <td>730.86</td>\n",
       "    </tr>\n",
       "    <tr>\n",
       "      <th>6</th>\n",
       "      <td>GBA</td>\n",
       "      <td>317.85</td>\n",
       "    </tr>\n",
       "    <tr>\n",
       "      <th>18</th>\n",
       "      <td>PS4</td>\n",
       "      <td>314.14</td>\n",
       "    </tr>\n",
       "    <tr>\n",
       "      <th>19</th>\n",
       "      <td>PSP</td>\n",
       "      <td>294.05</td>\n",
       "    </tr>\n",
       "    <tr>\n",
       "      <th>13</th>\n",
       "      <td>PC</td>\n",
       "      <td>259.52</td>\n",
       "    </tr>\n",
       "    <tr>\n",
       "      <th>2</th>\n",
       "      <td>3DS</td>\n",
       "      <td>259.00</td>\n",
       "    </tr>\n",
       "    <tr>\n",
       "      <th>29</th>\n",
       "      <td>XB</td>\n",
       "      <td>257.74</td>\n",
       "    </tr>\n",
       "    <tr>\n",
       "      <th>5</th>\n",
       "      <td>GB</td>\n",
       "      <td>255.46</td>\n",
       "    </tr>\n",
       "    <tr>\n",
       "      <th>11</th>\n",
       "      <td>NES</td>\n",
       "      <td>251.05</td>\n",
       "    </tr>\n",
       "  </tbody>\n",
       "</table>\n",
       "</div>"
      ],
      "text/plain": [
       "   platform  total_sales\n",
       "16      PS2      1255.77\n",
       "28     X360       971.42\n",
       "17      PS3       939.65\n",
       "26      Wii       907.51\n",
       "4        DS       806.12\n",
       "15       PS       730.86\n",
       "6       GBA       317.85\n",
       "18      PS4       314.14\n",
       "19      PSP       294.05\n",
       "13       PC       259.52\n",
       "2       3DS       259.00\n",
       "29       XB       257.74\n",
       "5        GB       255.46\n",
       "11      NES       251.05"
      ]
     },
     "metadata": {},
     "output_type": "display_data"
    },
    {
     "data": {
      "text/html": [
       "<div>\n",
       "<style scoped>\n",
       "    .dataframe tbody tr th:only-of-type {\n",
       "        vertical-align: middle;\n",
       "    }\n",
       "\n",
       "    .dataframe tbody tr th {\n",
       "        vertical-align: top;\n",
       "    }\n",
       "\n",
       "    .dataframe thead th {\n",
       "        text-align: right;\n",
       "    }\n",
       "</style>\n",
       "<table border=\"1\" class=\"dataframe\">\n",
       "  <thead>\n",
       "    <tr style=\"text-align: right;\">\n",
       "      <th></th>\n",
       "      <th>name</th>\n",
       "      <th>platform</th>\n",
       "      <th>year_of_release</th>\n",
       "      <th>genre</th>\n",
       "      <th>na_sales</th>\n",
       "      <th>eu_sales</th>\n",
       "      <th>jp_sales</th>\n",
       "      <th>other_sales</th>\n",
       "      <th>critic_score</th>\n",
       "      <th>user_score</th>\n",
       "      <th>rating</th>\n",
       "      <th>total_sales</th>\n",
       "    </tr>\n",
       "  </thead>\n",
       "  <tbody>\n",
       "    <tr>\n",
       "      <th>0</th>\n",
       "      <td>Wii Sports</td>\n",
       "      <td>Wii</td>\n",
       "      <td>2006</td>\n",
       "      <td>Sports</td>\n",
       "      <td>41.36</td>\n",
       "      <td>28.96</td>\n",
       "      <td>3.77</td>\n",
       "      <td>8.45</td>\n",
       "      <td>76.0</td>\n",
       "      <td>8.0</td>\n",
       "      <td>E</td>\n",
       "      <td>82.54</td>\n",
       "    </tr>\n",
       "    <tr>\n",
       "      <th>1</th>\n",
       "      <td>Super Mario Bros.</td>\n",
       "      <td>NES</td>\n",
       "      <td>1985</td>\n",
       "      <td>Platform</td>\n",
       "      <td>29.08</td>\n",
       "      <td>3.58</td>\n",
       "      <td>6.81</td>\n",
       "      <td>0.77</td>\n",
       "      <td>0.0</td>\n",
       "      <td>0.0</td>\n",
       "      <td>NaN</td>\n",
       "      <td>40.24</td>\n",
       "    </tr>\n",
       "    <tr>\n",
       "      <th>2</th>\n",
       "      <td>Mario Kart Wii</td>\n",
       "      <td>Wii</td>\n",
       "      <td>2008</td>\n",
       "      <td>Racing</td>\n",
       "      <td>15.68</td>\n",
       "      <td>12.76</td>\n",
       "      <td>3.79</td>\n",
       "      <td>3.29</td>\n",
       "      <td>82.0</td>\n",
       "      <td>8.3</td>\n",
       "      <td>E</td>\n",
       "      <td>35.52</td>\n",
       "    </tr>\n",
       "    <tr>\n",
       "      <th>3</th>\n",
       "      <td>Wii Sports Resort</td>\n",
       "      <td>Wii</td>\n",
       "      <td>2009</td>\n",
       "      <td>Sports</td>\n",
       "      <td>15.61</td>\n",
       "      <td>10.93</td>\n",
       "      <td>3.28</td>\n",
       "      <td>2.95</td>\n",
       "      <td>80.0</td>\n",
       "      <td>8.0</td>\n",
       "      <td>E</td>\n",
       "      <td>32.77</td>\n",
       "    </tr>\n",
       "    <tr>\n",
       "      <th>4</th>\n",
       "      <td>Pokemon Red/Pokemon Blue</td>\n",
       "      <td>GB</td>\n",
       "      <td>1996</td>\n",
       "      <td>Role-Playing</td>\n",
       "      <td>11.27</td>\n",
       "      <td>8.89</td>\n",
       "      <td>10.22</td>\n",
       "      <td>1.00</td>\n",
       "      <td>0.0</td>\n",
       "      <td>0.0</td>\n",
       "      <td>NaN</td>\n",
       "      <td>31.38</td>\n",
       "    </tr>\n",
       "  </tbody>\n",
       "</table>\n",
       "</div>"
      ],
      "text/plain": [
       "                       name platform  year_of_release         genre  na_sales  \\\n",
       "0                Wii Sports      Wii             2006        Sports     41.36   \n",
       "1         Super Mario Bros.      NES             1985      Platform     29.08   \n",
       "2            Mario Kart Wii      Wii             2008        Racing     15.68   \n",
       "3         Wii Sports Resort      Wii             2009        Sports     15.61   \n",
       "4  Pokemon Red/Pokemon Blue       GB             1996  Role-Playing     11.27   \n",
       "\n",
       "   eu_sales  jp_sales  other_sales  critic_score  user_score rating  \\\n",
       "0     28.96      3.77         8.45          76.0         8.0      E   \n",
       "1      3.58      6.81         0.77           0.0         0.0    NaN   \n",
       "2     12.76      3.79         3.29          82.0         8.3      E   \n",
       "3     10.93      3.28         2.95          80.0         8.0      E   \n",
       "4      8.89     10.22         1.00           0.0         0.0    NaN   \n",
       "\n",
       "   total_sales  \n",
       "0        82.54  \n",
       "1        40.24  \n",
       "2        35.52  \n",
       "3        32.77  \n",
       "4        31.38  "
      ]
     },
     "metadata": {},
     "output_type": "display_data"
    }
   ],
   "source": [
    "#Let's choose a top of the most popular platforms\n",
    "top_platform = platform_rating[(platform_rating['total_sales']>250)]\n",
    "display(top_platform)\n",
    "names_top = top_platform['platform'].tolist()\n",
    "\n",
    "#Based on this list, select data from the general dataset\n",
    "filtered_platform_data = games[(games['platform'].isin(names_top))]\n",
    "display(filtered_platform_data.head(5))\n",
    "\n",
    "\n"
   ]
  },
  {
   "cell_type": "code",
   "execution_count": 16,
   "metadata": {},
   "outputs": [
    {
     "data": {
      "text/html": [
       "<div>\n",
       "<style scoped>\n",
       "    .dataframe tbody tr th:only-of-type {\n",
       "        vertical-align: middle;\n",
       "    }\n",
       "\n",
       "    .dataframe tbody tr th {\n",
       "        vertical-align: top;\n",
       "    }\n",
       "\n",
       "    .dataframe thead th {\n",
       "        text-align: right;\n",
       "    }\n",
       "</style>\n",
       "<table border=\"1\" class=\"dataframe\">\n",
       "  <thead>\n",
       "    <tr style=\"text-align: right;\">\n",
       "      <th></th>\n",
       "      <th>3DS</th>\n",
       "      <th>DS</th>\n",
       "      <th>GB</th>\n",
       "      <th>GBA</th>\n",
       "      <th>NES</th>\n",
       "      <th>PC</th>\n",
       "      <th>PS</th>\n",
       "      <th>PS2</th>\n",
       "      <th>PS3</th>\n",
       "      <th>PS4</th>\n",
       "      <th>PSP</th>\n",
       "      <th>Wii</th>\n",
       "      <th>X360</th>\n",
       "      <th>XB</th>\n",
       "    </tr>\n",
       "    <tr>\n",
       "      <th>year_of_release</th>\n",
       "      <th></th>\n",
       "      <th></th>\n",
       "      <th></th>\n",
       "      <th></th>\n",
       "      <th></th>\n",
       "      <th></th>\n",
       "      <th></th>\n",
       "      <th></th>\n",
       "      <th></th>\n",
       "      <th></th>\n",
       "      <th></th>\n",
       "      <th></th>\n",
       "      <th></th>\n",
       "      <th></th>\n",
       "    </tr>\n",
       "  </thead>\n",
       "  <tbody>\n",
       "    <tr>\n",
       "      <th>0</th>\n",
       "      <td>1.19</td>\n",
       "      <td>3.33</td>\n",
       "      <td>1.03</td>\n",
       "      <td>4.97</td>\n",
       "      <td>NaN</td>\n",
       "      <td>3.41</td>\n",
       "      <td>3.28</td>\n",
       "      <td>8.49</td>\n",
       "      <td>8.31</td>\n",
       "      <td>NaN</td>\n",
       "      <td>3.71</td>\n",
       "      <td>16.33</td>\n",
       "      <td>10.12</td>\n",
       "      <td>5.08</td>\n",
       "    </tr>\n",
       "    <tr>\n",
       "      <th>1983</th>\n",
       "      <td>NaN</td>\n",
       "      <td>NaN</td>\n",
       "      <td>NaN</td>\n",
       "      <td>NaN</td>\n",
       "      <td>10.96</td>\n",
       "      <td>NaN</td>\n",
       "      <td>NaN</td>\n",
       "      <td>NaN</td>\n",
       "      <td>NaN</td>\n",
       "      <td>NaN</td>\n",
       "      <td>NaN</td>\n",
       "      <td>NaN</td>\n",
       "      <td>NaN</td>\n",
       "      <td>NaN</td>\n",
       "    </tr>\n",
       "    <tr>\n",
       "      <th>1984</th>\n",
       "      <td>NaN</td>\n",
       "      <td>NaN</td>\n",
       "      <td>NaN</td>\n",
       "      <td>NaN</td>\n",
       "      <td>50.08</td>\n",
       "      <td>NaN</td>\n",
       "      <td>NaN</td>\n",
       "      <td>NaN</td>\n",
       "      <td>NaN</td>\n",
       "      <td>NaN</td>\n",
       "      <td>NaN</td>\n",
       "      <td>NaN</td>\n",
       "      <td>NaN</td>\n",
       "      <td>NaN</td>\n",
       "    </tr>\n",
       "    <tr>\n",
       "      <th>1985</th>\n",
       "      <td>NaN</td>\n",
       "      <td>0.02</td>\n",
       "      <td>NaN</td>\n",
       "      <td>NaN</td>\n",
       "      <td>53.44</td>\n",
       "      <td>0.04</td>\n",
       "      <td>NaN</td>\n",
       "      <td>NaN</td>\n",
       "      <td>NaN</td>\n",
       "      <td>NaN</td>\n",
       "      <td>NaN</td>\n",
       "      <td>NaN</td>\n",
       "      <td>NaN</td>\n",
       "      <td>NaN</td>\n",
       "    </tr>\n",
       "    <tr>\n",
       "      <th>1986</th>\n",
       "      <td>NaN</td>\n",
       "      <td>NaN</td>\n",
       "      <td>NaN</td>\n",
       "      <td>NaN</td>\n",
       "      <td>36.41</td>\n",
       "      <td>NaN</td>\n",
       "      <td>NaN</td>\n",
       "      <td>NaN</td>\n",
       "      <td>NaN</td>\n",
       "      <td>NaN</td>\n",
       "      <td>NaN</td>\n",
       "      <td>NaN</td>\n",
       "      <td>NaN</td>\n",
       "      <td>NaN</td>\n",
       "    </tr>\n",
       "    <tr>\n",
       "      <th>1987</th>\n",
       "      <td>NaN</td>\n",
       "      <td>NaN</td>\n",
       "      <td>NaN</td>\n",
       "      <td>NaN</td>\n",
       "      <td>19.76</td>\n",
       "      <td>NaN</td>\n",
       "      <td>NaN</td>\n",
       "      <td>NaN</td>\n",
       "      <td>NaN</td>\n",
       "      <td>NaN</td>\n",
       "      <td>NaN</td>\n",
       "      <td>NaN</td>\n",
       "      <td>NaN</td>\n",
       "      <td>NaN</td>\n",
       "    </tr>\n",
       "    <tr>\n",
       "      <th>1988</th>\n",
       "      <td>NaN</td>\n",
       "      <td>NaN</td>\n",
       "      <td>1.43</td>\n",
       "      <td>NaN</td>\n",
       "      <td>45.01</td>\n",
       "      <td>0.03</td>\n",
       "      <td>NaN</td>\n",
       "      <td>NaN</td>\n",
       "      <td>NaN</td>\n",
       "      <td>NaN</td>\n",
       "      <td>NaN</td>\n",
       "      <td>NaN</td>\n",
       "      <td>NaN</td>\n",
       "      <td>NaN</td>\n",
       "    </tr>\n",
       "    <tr>\n",
       "      <th>1989</th>\n",
       "      <td>NaN</td>\n",
       "      <td>NaN</td>\n",
       "      <td>64.97</td>\n",
       "      <td>NaN</td>\n",
       "      <td>7.85</td>\n",
       "      <td>NaN</td>\n",
       "      <td>NaN</td>\n",
       "      <td>NaN</td>\n",
       "      <td>NaN</td>\n",
       "      <td>NaN</td>\n",
       "      <td>NaN</td>\n",
       "      <td>NaN</td>\n",
       "      <td>NaN</td>\n",
       "      <td>NaN</td>\n",
       "    </tr>\n",
       "    <tr>\n",
       "      <th>1990</th>\n",
       "      <td>NaN</td>\n",
       "      <td>NaN</td>\n",
       "      <td>4.89</td>\n",
       "      <td>NaN</td>\n",
       "      <td>15.73</td>\n",
       "      <td>NaN</td>\n",
       "      <td>NaN</td>\n",
       "      <td>NaN</td>\n",
       "      <td>NaN</td>\n",
       "      <td>NaN</td>\n",
       "      <td>NaN</td>\n",
       "      <td>NaN</td>\n",
       "      <td>NaN</td>\n",
       "      <td>NaN</td>\n",
       "    </tr>\n",
       "    <tr>\n",
       "      <th>1991</th>\n",
       "      <td>NaN</td>\n",
       "      <td>NaN</td>\n",
       "      <td>5.57</td>\n",
       "      <td>NaN</td>\n",
       "      <td>6.11</td>\n",
       "      <td>NaN</td>\n",
       "      <td>NaN</td>\n",
       "      <td>NaN</td>\n",
       "      <td>NaN</td>\n",
       "      <td>NaN</td>\n",
       "      <td>NaN</td>\n",
       "      <td>NaN</td>\n",
       "      <td>NaN</td>\n",
       "      <td>NaN</td>\n",
       "    </tr>\n",
       "    <tr>\n",
       "      <th>1992</th>\n",
       "      <td>NaN</td>\n",
       "      <td>NaN</td>\n",
       "      <td>25.49</td>\n",
       "      <td>NaN</td>\n",
       "      <td>1.98</td>\n",
       "      <td>3.03</td>\n",
       "      <td>NaN</td>\n",
       "      <td>NaN</td>\n",
       "      <td>NaN</td>\n",
       "      <td>NaN</td>\n",
       "      <td>NaN</td>\n",
       "      <td>NaN</td>\n",
       "      <td>NaN</td>\n",
       "      <td>NaN</td>\n",
       "    </tr>\n",
       "    <tr>\n",
       "      <th>1993</th>\n",
       "      <td>NaN</td>\n",
       "      <td>NaN</td>\n",
       "      <td>NaN</td>\n",
       "      <td>NaN</td>\n",
       "      <td>3.61</td>\n",
       "      <td>NaN</td>\n",
       "      <td>NaN</td>\n",
       "      <td>NaN</td>\n",
       "      <td>NaN</td>\n",
       "      <td>NaN</td>\n",
       "      <td>NaN</td>\n",
       "      <td>NaN</td>\n",
       "      <td>NaN</td>\n",
       "      <td>NaN</td>\n",
       "    </tr>\n",
       "    <tr>\n",
       "      <th>1994</th>\n",
       "      <td>NaN</td>\n",
       "      <td>NaN</td>\n",
       "      <td>12.18</td>\n",
       "      <td>NaN</td>\n",
       "      <td>0.11</td>\n",
       "      <td>12.87</td>\n",
       "      <td>6.03</td>\n",
       "      <td>NaN</td>\n",
       "      <td>NaN</td>\n",
       "      <td>NaN</td>\n",
       "      <td>NaN</td>\n",
       "      <td>NaN</td>\n",
       "      <td>NaN</td>\n",
       "      <td>NaN</td>\n",
       "    </tr>\n",
       "    <tr>\n",
       "      <th>1995</th>\n",
       "      <td>NaN</td>\n",
       "      <td>NaN</td>\n",
       "      <td>3.60</td>\n",
       "      <td>NaN</td>\n",
       "      <td>NaN</td>\n",
       "      <td>4.22</td>\n",
       "      <td>35.96</td>\n",
       "      <td>NaN</td>\n",
       "      <td>NaN</td>\n",
       "      <td>NaN</td>\n",
       "      <td>NaN</td>\n",
       "      <td>NaN</td>\n",
       "      <td>NaN</td>\n",
       "      <td>NaN</td>\n",
       "    </tr>\n",
       "    <tr>\n",
       "      <th>1996</th>\n",
       "      <td>NaN</td>\n",
       "      <td>NaN</td>\n",
       "      <td>36.03</td>\n",
       "      <td>NaN</td>\n",
       "      <td>NaN</td>\n",
       "      <td>10.58</td>\n",
       "      <td>94.70</td>\n",
       "      <td>NaN</td>\n",
       "      <td>NaN</td>\n",
       "      <td>NaN</td>\n",
       "      <td>NaN</td>\n",
       "      <td>NaN</td>\n",
       "      <td>NaN</td>\n",
       "      <td>NaN</td>\n",
       "    </tr>\n",
       "    <tr>\n",
       "      <th>1997</th>\n",
       "      <td>NaN</td>\n",
       "      <td>NaN</td>\n",
       "      <td>6.37</td>\n",
       "      <td>NaN</td>\n",
       "      <td>NaN</td>\n",
       "      <td>11.27</td>\n",
       "      <td>136.17</td>\n",
       "      <td>NaN</td>\n",
       "      <td>NaN</td>\n",
       "      <td>NaN</td>\n",
       "      <td>NaN</td>\n",
       "      <td>NaN</td>\n",
       "      <td>NaN</td>\n",
       "      <td>NaN</td>\n",
       "    </tr>\n",
       "    <tr>\n",
       "      <th>1998</th>\n",
       "      <td>NaN</td>\n",
       "      <td>NaN</td>\n",
       "      <td>26.90</td>\n",
       "      <td>NaN</td>\n",
       "      <td>NaN</td>\n",
       "      <td>3.26</td>\n",
       "      <td>169.49</td>\n",
       "      <td>NaN</td>\n",
       "      <td>NaN</td>\n",
       "      <td>NaN</td>\n",
       "      <td>NaN</td>\n",
       "      <td>NaN</td>\n",
       "      <td>NaN</td>\n",
       "      <td>NaN</td>\n",
       "    </tr>\n",
       "    <tr>\n",
       "      <th>1999</th>\n",
       "      <td>NaN</td>\n",
       "      <td>NaN</td>\n",
       "      <td>38.00</td>\n",
       "      <td>NaN</td>\n",
       "      <td>NaN</td>\n",
       "      <td>4.74</td>\n",
       "      <td>144.53</td>\n",
       "      <td>NaN</td>\n",
       "      <td>NaN</td>\n",
       "      <td>NaN</td>\n",
       "      <td>NaN</td>\n",
       "      <td>NaN</td>\n",
       "      <td>NaN</td>\n",
       "      <td>NaN</td>\n",
       "    </tr>\n",
       "    <tr>\n",
       "      <th>2000</th>\n",
       "      <td>NaN</td>\n",
       "      <td>NaN</td>\n",
       "      <td>19.76</td>\n",
       "      <td>0.07</td>\n",
       "      <td>NaN</td>\n",
       "      <td>4.66</td>\n",
       "      <td>96.37</td>\n",
       "      <td>39.17</td>\n",
       "      <td>NaN</td>\n",
       "      <td>NaN</td>\n",
       "      <td>NaN</td>\n",
       "      <td>NaN</td>\n",
       "      <td>NaN</td>\n",
       "      <td>0.99</td>\n",
       "    </tr>\n",
       "    <tr>\n",
       "      <th>2001</th>\n",
       "      <td>NaN</td>\n",
       "      <td>NaN</td>\n",
       "      <td>9.24</td>\n",
       "      <td>61.53</td>\n",
       "      <td>NaN</td>\n",
       "      <td>5.47</td>\n",
       "      <td>35.59</td>\n",
       "      <td>166.43</td>\n",
       "      <td>NaN</td>\n",
       "      <td>NaN</td>\n",
       "      <td>NaN</td>\n",
       "      <td>NaN</td>\n",
       "      <td>NaN</td>\n",
       "      <td>22.26</td>\n",
       "    </tr>\n",
       "    <tr>\n",
       "      <th>2002</th>\n",
       "      <td>NaN</td>\n",
       "      <td>NaN</td>\n",
       "      <td>NaN</td>\n",
       "      <td>74.16</td>\n",
       "      <td>NaN</td>\n",
       "      <td>8.57</td>\n",
       "      <td>6.67</td>\n",
       "      <td>205.38</td>\n",
       "      <td>NaN</td>\n",
       "      <td>NaN</td>\n",
       "      <td>NaN</td>\n",
       "      <td>NaN</td>\n",
       "      <td>NaN</td>\n",
       "      <td>48.59</td>\n",
       "    </tr>\n",
       "    <tr>\n",
       "      <th>2003</th>\n",
       "      <td>NaN</td>\n",
       "      <td>NaN</td>\n",
       "      <td>NaN</td>\n",
       "      <td>56.67</td>\n",
       "      <td>NaN</td>\n",
       "      <td>8.84</td>\n",
       "      <td>2.07</td>\n",
       "      <td>185.93</td>\n",
       "      <td>NaN</td>\n",
       "      <td>NaN</td>\n",
       "      <td>NaN</td>\n",
       "      <td>NaN</td>\n",
       "      <td>NaN</td>\n",
       "      <td>55.40</td>\n",
       "    </tr>\n",
       "    <tr>\n",
       "      <th>2004</th>\n",
       "      <td>NaN</td>\n",
       "      <td>17.27</td>\n",
       "      <td>NaN</td>\n",
       "      <td>77.91</td>\n",
       "      <td>NaN</td>\n",
       "      <td>10.39</td>\n",
       "      <td>NaN</td>\n",
       "      <td>220.55</td>\n",
       "      <td>NaN</td>\n",
       "      <td>NaN</td>\n",
       "      <td>7.06</td>\n",
       "      <td>NaN</td>\n",
       "      <td>NaN</td>\n",
       "      <td>65.42</td>\n",
       "    </tr>\n",
       "    <tr>\n",
       "      <th>2005</th>\n",
       "      <td>NaN</td>\n",
       "      <td>130.14</td>\n",
       "      <td>NaN</td>\n",
       "      <td>33.86</td>\n",
       "      <td>NaN</td>\n",
       "      <td>4.37</td>\n",
       "      <td>NaN</td>\n",
       "      <td>160.98</td>\n",
       "      <td>NaN</td>\n",
       "      <td>NaN</td>\n",
       "      <td>43.84</td>\n",
       "      <td>NaN</td>\n",
       "      <td>8.25</td>\n",
       "      <td>49.23</td>\n",
       "    </tr>\n",
       "    <tr>\n",
       "      <th>2006</th>\n",
       "      <td>NaN</td>\n",
       "      <td>119.81</td>\n",
       "      <td>NaN</td>\n",
       "      <td>5.28</td>\n",
       "      <td>NaN</td>\n",
       "      <td>2.85</td>\n",
       "      <td>NaN</td>\n",
       "      <td>106.46</td>\n",
       "      <td>20.96</td>\n",
       "      <td>NaN</td>\n",
       "      <td>55.32</td>\n",
       "      <td>137.15</td>\n",
       "      <td>51.62</td>\n",
       "      <td>10.04</td>\n",
       "    </tr>\n",
       "    <tr>\n",
       "      <th>2007</th>\n",
       "      <td>NaN</td>\n",
       "      <td>146.94</td>\n",
       "      <td>NaN</td>\n",
       "      <td>3.40</td>\n",
       "      <td>NaN</td>\n",
       "      <td>9.28</td>\n",
       "      <td>NaN</td>\n",
       "      <td>75.99</td>\n",
       "      <td>73.19</td>\n",
       "      <td>NaN</td>\n",
       "      <td>46.93</td>\n",
       "      <td>152.77</td>\n",
       "      <td>95.42</td>\n",
       "      <td>0.55</td>\n",
       "    </tr>\n",
       "    <tr>\n",
       "      <th>2008</th>\n",
       "      <td>NaN</td>\n",
       "      <td>145.32</td>\n",
       "      <td>NaN</td>\n",
       "      <td>NaN</td>\n",
       "      <td>NaN</td>\n",
       "      <td>12.42</td>\n",
       "      <td>NaN</td>\n",
       "      <td>53.90</td>\n",
       "      <td>118.52</td>\n",
       "      <td>NaN</td>\n",
       "      <td>34.56</td>\n",
       "      <td>171.32</td>\n",
       "      <td>135.26</td>\n",
       "      <td>0.18</td>\n",
       "    </tr>\n",
       "    <tr>\n",
       "      <th>2009</th>\n",
       "      <td>NaN</td>\n",
       "      <td>119.54</td>\n",
       "      <td>NaN</td>\n",
       "      <td>NaN</td>\n",
       "      <td>NaN</td>\n",
       "      <td>16.91</td>\n",
       "      <td>NaN</td>\n",
       "      <td>26.40</td>\n",
       "      <td>130.93</td>\n",
       "      <td>NaN</td>\n",
       "      <td>38.58</td>\n",
       "      <td>206.97</td>\n",
       "      <td>120.29</td>\n",
       "      <td>NaN</td>\n",
       "    </tr>\n",
       "    <tr>\n",
       "      <th>2010</th>\n",
       "      <td>NaN</td>\n",
       "      <td>85.02</td>\n",
       "      <td>NaN</td>\n",
       "      <td>NaN</td>\n",
       "      <td>NaN</td>\n",
       "      <td>24.28</td>\n",
       "      <td>NaN</td>\n",
       "      <td>5.64</td>\n",
       "      <td>142.17</td>\n",
       "      <td>NaN</td>\n",
       "      <td>35.04</td>\n",
       "      <td>127.95</td>\n",
       "      <td>170.03</td>\n",
       "      <td>NaN</td>\n",
       "    </tr>\n",
       "    <tr>\n",
       "      <th>2011</th>\n",
       "      <td>63.20</td>\n",
       "      <td>26.18</td>\n",
       "      <td>NaN</td>\n",
       "      <td>NaN</td>\n",
       "      <td>NaN</td>\n",
       "      <td>35.03</td>\n",
       "      <td>NaN</td>\n",
       "      <td>0.45</td>\n",
       "      <td>156.78</td>\n",
       "      <td>NaN</td>\n",
       "      <td>17.82</td>\n",
       "      <td>59.65</td>\n",
       "      <td>143.89</td>\n",
       "      <td>NaN</td>\n",
       "    </tr>\n",
       "    <tr>\n",
       "      <th>2012</th>\n",
       "      <td>51.36</td>\n",
       "      <td>11.01</td>\n",
       "      <td>NaN</td>\n",
       "      <td>NaN</td>\n",
       "      <td>NaN</td>\n",
       "      <td>23.22</td>\n",
       "      <td>NaN</td>\n",
       "      <td>NaN</td>\n",
       "      <td>107.36</td>\n",
       "      <td>NaN</td>\n",
       "      <td>7.69</td>\n",
       "      <td>21.71</td>\n",
       "      <td>99.74</td>\n",
       "      <td>NaN</td>\n",
       "    </tr>\n",
       "    <tr>\n",
       "      <th>2013</th>\n",
       "      <td>56.57</td>\n",
       "      <td>1.54</td>\n",
       "      <td>NaN</td>\n",
       "      <td>NaN</td>\n",
       "      <td>NaN</td>\n",
       "      <td>12.73</td>\n",
       "      <td>NaN</td>\n",
       "      <td>NaN</td>\n",
       "      <td>113.25</td>\n",
       "      <td>25.99</td>\n",
       "      <td>3.14</td>\n",
       "      <td>8.59</td>\n",
       "      <td>88.58</td>\n",
       "      <td>NaN</td>\n",
       "    </tr>\n",
       "    <tr>\n",
       "      <th>2014</th>\n",
       "      <td>43.76</td>\n",
       "      <td>NaN</td>\n",
       "      <td>NaN</td>\n",
       "      <td>NaN</td>\n",
       "      <td>NaN</td>\n",
       "      <td>13.28</td>\n",
       "      <td>NaN</td>\n",
       "      <td>NaN</td>\n",
       "      <td>47.76</td>\n",
       "      <td>100.00</td>\n",
       "      <td>0.24</td>\n",
       "      <td>3.75</td>\n",
       "      <td>34.74</td>\n",
       "      <td>NaN</td>\n",
       "    </tr>\n",
       "    <tr>\n",
       "      <th>2015</th>\n",
       "      <td>27.78</td>\n",
       "      <td>NaN</td>\n",
       "      <td>NaN</td>\n",
       "      <td>NaN</td>\n",
       "      <td>NaN</td>\n",
       "      <td>8.52</td>\n",
       "      <td>NaN</td>\n",
       "      <td>NaN</td>\n",
       "      <td>16.82</td>\n",
       "      <td>118.90</td>\n",
       "      <td>0.12</td>\n",
       "      <td>1.14</td>\n",
       "      <td>11.96</td>\n",
       "      <td>NaN</td>\n",
       "    </tr>\n",
       "    <tr>\n",
       "      <th>2016</th>\n",
       "      <td>15.14</td>\n",
       "      <td>NaN</td>\n",
       "      <td>NaN</td>\n",
       "      <td>NaN</td>\n",
       "      <td>NaN</td>\n",
       "      <td>5.25</td>\n",
       "      <td>NaN</td>\n",
       "      <td>NaN</td>\n",
       "      <td>3.60</td>\n",
       "      <td>69.25</td>\n",
       "      <td>NaN</td>\n",
       "      <td>0.18</td>\n",
       "      <td>1.52</td>\n",
       "      <td>NaN</td>\n",
       "    </tr>\n",
       "  </tbody>\n",
       "</table>\n",
       "</div>"
      ],
      "text/plain": [
       "                   3DS      DS     GB    GBA    NES     PC      PS     PS2  \\\n",
       "year_of_release                                                              \n",
       "0                 1.19    3.33   1.03   4.97    NaN   3.41    3.28    8.49   \n",
       "1983               NaN     NaN    NaN    NaN  10.96    NaN     NaN     NaN   \n",
       "1984               NaN     NaN    NaN    NaN  50.08    NaN     NaN     NaN   \n",
       "1985               NaN    0.02    NaN    NaN  53.44   0.04     NaN     NaN   \n",
       "1986               NaN     NaN    NaN    NaN  36.41    NaN     NaN     NaN   \n",
       "1987               NaN     NaN    NaN    NaN  19.76    NaN     NaN     NaN   \n",
       "1988               NaN     NaN   1.43    NaN  45.01   0.03     NaN     NaN   \n",
       "1989               NaN     NaN  64.97    NaN   7.85    NaN     NaN     NaN   \n",
       "1990               NaN     NaN   4.89    NaN  15.73    NaN     NaN     NaN   \n",
       "1991               NaN     NaN   5.57    NaN   6.11    NaN     NaN     NaN   \n",
       "1992               NaN     NaN  25.49    NaN   1.98   3.03     NaN     NaN   \n",
       "1993               NaN     NaN    NaN    NaN   3.61    NaN     NaN     NaN   \n",
       "1994               NaN     NaN  12.18    NaN   0.11  12.87    6.03     NaN   \n",
       "1995               NaN     NaN   3.60    NaN    NaN   4.22   35.96     NaN   \n",
       "1996               NaN     NaN  36.03    NaN    NaN  10.58   94.70     NaN   \n",
       "1997               NaN     NaN   6.37    NaN    NaN  11.27  136.17     NaN   \n",
       "1998               NaN     NaN  26.90    NaN    NaN   3.26  169.49     NaN   \n",
       "1999               NaN     NaN  38.00    NaN    NaN   4.74  144.53     NaN   \n",
       "2000               NaN     NaN  19.76   0.07    NaN   4.66   96.37   39.17   \n",
       "2001               NaN     NaN   9.24  61.53    NaN   5.47   35.59  166.43   \n",
       "2002               NaN     NaN    NaN  74.16    NaN   8.57    6.67  205.38   \n",
       "2003               NaN     NaN    NaN  56.67    NaN   8.84    2.07  185.93   \n",
       "2004               NaN   17.27    NaN  77.91    NaN  10.39     NaN  220.55   \n",
       "2005               NaN  130.14    NaN  33.86    NaN   4.37     NaN  160.98   \n",
       "2006               NaN  119.81    NaN   5.28    NaN   2.85     NaN  106.46   \n",
       "2007               NaN  146.94    NaN   3.40    NaN   9.28     NaN   75.99   \n",
       "2008               NaN  145.32    NaN    NaN    NaN  12.42     NaN   53.90   \n",
       "2009               NaN  119.54    NaN    NaN    NaN  16.91     NaN   26.40   \n",
       "2010               NaN   85.02    NaN    NaN    NaN  24.28     NaN    5.64   \n",
       "2011             63.20   26.18    NaN    NaN    NaN  35.03     NaN    0.45   \n",
       "2012             51.36   11.01    NaN    NaN    NaN  23.22     NaN     NaN   \n",
       "2013             56.57    1.54    NaN    NaN    NaN  12.73     NaN     NaN   \n",
       "2014             43.76     NaN    NaN    NaN    NaN  13.28     NaN     NaN   \n",
       "2015             27.78     NaN    NaN    NaN    NaN   8.52     NaN     NaN   \n",
       "2016             15.14     NaN    NaN    NaN    NaN   5.25     NaN     NaN   \n",
       "\n",
       "                    PS3     PS4    PSP     Wii    X360     XB  \n",
       "year_of_release                                                \n",
       "0                  8.31     NaN   3.71   16.33   10.12   5.08  \n",
       "1983                NaN     NaN    NaN     NaN     NaN    NaN  \n",
       "1984                NaN     NaN    NaN     NaN     NaN    NaN  \n",
       "1985                NaN     NaN    NaN     NaN     NaN    NaN  \n",
       "1986                NaN     NaN    NaN     NaN     NaN    NaN  \n",
       "1987                NaN     NaN    NaN     NaN     NaN    NaN  \n",
       "1988                NaN     NaN    NaN     NaN     NaN    NaN  \n",
       "1989                NaN     NaN    NaN     NaN     NaN    NaN  \n",
       "1990                NaN     NaN    NaN     NaN     NaN    NaN  \n",
       "1991                NaN     NaN    NaN     NaN     NaN    NaN  \n",
       "1992                NaN     NaN    NaN     NaN     NaN    NaN  \n",
       "1993                NaN     NaN    NaN     NaN     NaN    NaN  \n",
       "1994                NaN     NaN    NaN     NaN     NaN    NaN  \n",
       "1995                NaN     NaN    NaN     NaN     NaN    NaN  \n",
       "1996                NaN     NaN    NaN     NaN     NaN    NaN  \n",
       "1997                NaN     NaN    NaN     NaN     NaN    NaN  \n",
       "1998                NaN     NaN    NaN     NaN     NaN    NaN  \n",
       "1999                NaN     NaN    NaN     NaN     NaN    NaN  \n",
       "2000                NaN     NaN    NaN     NaN     NaN   0.99  \n",
       "2001                NaN     NaN    NaN     NaN     NaN  22.26  \n",
       "2002                NaN     NaN    NaN     NaN     NaN  48.59  \n",
       "2003                NaN     NaN    NaN     NaN     NaN  55.40  \n",
       "2004                NaN     NaN   7.06     NaN     NaN  65.42  \n",
       "2005                NaN     NaN  43.84     NaN    8.25  49.23  \n",
       "2006              20.96     NaN  55.32  137.15   51.62  10.04  \n",
       "2007              73.19     NaN  46.93  152.77   95.42   0.55  \n",
       "2008             118.52     NaN  34.56  171.32  135.26   0.18  \n",
       "2009             130.93     NaN  38.58  206.97  120.29    NaN  \n",
       "2010             142.17     NaN  35.04  127.95  170.03    NaN  \n",
       "2011             156.78     NaN  17.82   59.65  143.89    NaN  \n",
       "2012             107.36     NaN   7.69   21.71   99.74    NaN  \n",
       "2013             113.25   25.99   3.14    8.59   88.58    NaN  \n",
       "2014              47.76  100.00   0.24    3.75   34.74    NaN  \n",
       "2015              16.82  118.90   0.12    1.14   11.96    NaN  \n",
       "2016               3.60   69.25    NaN    0.18    1.52    NaN  "
      ]
     },
     "metadata": {},
     "output_type": "display_data"
    },
    {
     "data": {
      "image/png": "[encoded data removed]",
      "text/plain": [
       "<Figure size 432x288 with 1 Axes>"
      ]
     },
     "metadata": {
      "needs_background": "light"
     },
     "output_type": "display_data"
    }
   ],
   "source": [
    "# we will make a pivot table with distribution of popular platforms by year\n",
    "platform_rating_top = filtered_platform_data.pivot_table(values = ['total_sales'], columns = ['platform'], index = ['year_of_release'],aggfunc = 'sum')\n",
    "platform_rating_top.columns = platform_rating_top.columns.droplevel(0)\n",
    "platform_rating_top = platform_rating_top.rename_axis(None, axis=1)\n",
    "display(platform_rating_top)\n",
    "\n",
    "cmap = cm.get_cmap('Spectral')\n",
    "\n",
    "platform_rating_top.plot(kind='bar', stacked=True, width=0.85)\n",
    "plt.title(\"Sales distribution of popular platforms by years\")\n",
    "plt.xlabel(\"Years\")\n",
    "plt.ylabel(\"Number of copies sold, million\")\n",
    "\n",
    "\n",
    "\n",
    "plt.legend(bbox_to_anchor=(1, 1))\n",
    "plt.show()"
   ]
  },
  {
   "cell_type": "markdown",
   "metadata": {},
   "source": [
    "We selected the most popular platforms and compared sales by year. From the graphs, we see that the average \"life\" of the platform is 8-10 years. So if we take a half of \"life\" of the platform, 5 years, it will be clear from this sample, whether the platform is at the peak of popularity, gaining or losing the popularity."
   ]
  },
  {
   "cell_type": "markdown",
   "metadata": {},
   "source": [
    "Let's make a sample for all platforms for the previous 5 years"
   ]
  },
  {
   "cell_type": "code",
   "execution_count": 17,
   "metadata": {},
   "outputs": [
    {
     "data": {
      "text/html": [
       "<div>\n",
       "<style scoped>\n",
       "    .dataframe tbody tr th:only-of-type {\n",
       "        vertical-align: middle;\n",
       "    }\n",
       "\n",
       "    .dataframe tbody tr th {\n",
       "        vertical-align: top;\n",
       "    }\n",
       "\n",
       "    .dataframe thead th {\n",
       "        text-align: right;\n",
       "    }\n",
       "</style>\n",
       "<table border=\"1\" class=\"dataframe\">\n",
       "  <thead>\n",
       "    <tr style=\"text-align: right;\">\n",
       "      <th></th>\n",
       "      <th>3DS</th>\n",
       "      <th>DS</th>\n",
       "      <th>PC</th>\n",
       "      <th>PS3</th>\n",
       "      <th>PS4</th>\n",
       "      <th>PSP</th>\n",
       "      <th>PSV</th>\n",
       "      <th>Wii</th>\n",
       "      <th>WiiU</th>\n",
       "      <th>X360</th>\n",
       "      <th>XOne</th>\n",
       "    </tr>\n",
       "    <tr>\n",
       "      <th>year_of_release</th>\n",
       "      <th></th>\n",
       "      <th></th>\n",
       "      <th></th>\n",
       "      <th></th>\n",
       "      <th></th>\n",
       "      <th></th>\n",
       "      <th></th>\n",
       "      <th></th>\n",
       "      <th></th>\n",
       "      <th></th>\n",
       "      <th></th>\n",
       "    </tr>\n",
       "  </thead>\n",
       "  <tbody>\n",
       "    <tr>\n",
       "      <th>2012</th>\n",
       "      <td>51.36</td>\n",
       "      <td>11.01</td>\n",
       "      <td>23.22</td>\n",
       "      <td>107.36</td>\n",
       "      <td>NaN</td>\n",
       "      <td>7.69</td>\n",
       "      <td>16.19</td>\n",
       "      <td>21.71</td>\n",
       "      <td>17.56</td>\n",
       "      <td>99.74</td>\n",
       "      <td>NaN</td>\n",
       "    </tr>\n",
       "    <tr>\n",
       "      <th>2013</th>\n",
       "      <td>56.57</td>\n",
       "      <td>1.54</td>\n",
       "      <td>12.73</td>\n",
       "      <td>113.25</td>\n",
       "      <td>25.99</td>\n",
       "      <td>3.14</td>\n",
       "      <td>10.59</td>\n",
       "      <td>8.59</td>\n",
       "      <td>21.65</td>\n",
       "      <td>88.58</td>\n",
       "      <td>18.96</td>\n",
       "    </tr>\n",
       "    <tr>\n",
       "      <th>2014</th>\n",
       "      <td>43.76</td>\n",
       "      <td>NaN</td>\n",
       "      <td>13.28</td>\n",
       "      <td>47.76</td>\n",
       "      <td>100.00</td>\n",
       "      <td>0.24</td>\n",
       "      <td>11.90</td>\n",
       "      <td>3.75</td>\n",
       "      <td>22.03</td>\n",
       "      <td>34.74</td>\n",
       "      <td>54.07</td>\n",
       "    </tr>\n",
       "    <tr>\n",
       "      <th>2015</th>\n",
       "      <td>27.78</td>\n",
       "      <td>NaN</td>\n",
       "      <td>8.52</td>\n",
       "      <td>16.82</td>\n",
       "      <td>118.90</td>\n",
       "      <td>0.12</td>\n",
       "      <td>6.25</td>\n",
       "      <td>1.14</td>\n",
       "      <td>16.35</td>\n",
       "      <td>11.96</td>\n",
       "      <td>60.14</td>\n",
       "    </tr>\n",
       "    <tr>\n",
       "      <th>2016</th>\n",
       "      <td>15.14</td>\n",
       "      <td>NaN</td>\n",
       "      <td>5.25</td>\n",
       "      <td>3.60</td>\n",
       "      <td>69.25</td>\n",
       "      <td>NaN</td>\n",
       "      <td>4.25</td>\n",
       "      <td>0.18</td>\n",
       "      <td>4.60</td>\n",
       "      <td>1.52</td>\n",
       "      <td>26.15</td>\n",
       "    </tr>\n",
       "  </tbody>\n",
       "</table>\n",
       "</div>"
      ],
      "text/plain": [
       "                   3DS     DS     PC     PS3     PS4   PSP    PSV    Wii  \\\n",
       "year_of_release                                                            \n",
       "2012             51.36  11.01  23.22  107.36     NaN  7.69  16.19  21.71   \n",
       "2013             56.57   1.54  12.73  113.25   25.99  3.14  10.59   8.59   \n",
       "2014             43.76    NaN  13.28   47.76  100.00  0.24  11.90   3.75   \n",
       "2015             27.78    NaN   8.52   16.82  118.90  0.12   6.25   1.14   \n",
       "2016             15.14    NaN   5.25    3.60   69.25   NaN   4.25   0.18   \n",
       "\n",
       "                  WiiU   X360   XOne  \n",
       "year_of_release                       \n",
       "2012             17.56  99.74    NaN  \n",
       "2013             21.65  88.58  18.96  \n",
       "2014             22.03  34.74  54.07  \n",
       "2015             16.35  11.96  60.14  \n",
       "2016              4.60   1.52  26.15  "
      ]
     },
     "metadata": {},
     "output_type": "display_data"
    },
    {
     "data": {
      "text/plain": [
       "Index(['3DS', 'DS', 'PC', 'PS3', 'PS4', 'PSP', 'PSV', 'Wii', 'WiiU', 'X360',\n",
       "       'XOne'],\n",
       "      dtype='object')"
      ]
     },
     "metadata": {},
     "output_type": "display_data"
    },
    {
     "data": {
      "image/png": "[encoded data removed]",
      "text/plain": [
       "<Figure size 432x288 with 1 Axes>"
      ]
     },
     "metadata": {
      "needs_background": "light"
     },
     "output_type": "display_data"
    }
   ],
   "source": [
    "filtered_platform_year = games[(games['year_of_release']>2011)]\n",
    "platform_actual = filtered_platform_year.pivot_table(values = ['total_sales'], columns = ['platform'], index = ['year_of_release'],aggfunc = 'sum')\n",
    "\n",
    "platform_actual.columns = platform_actual.columns.droplevel(0)\n",
    "platform_actual = platform_actual.rename_axis(None, axis=1)\n",
    "\n",
    "display(platform_actual)\n",
    "display(platform_actual.columns)\n",
    "platform_actual.plot(kind='bar', stacked=True, width=0.85)\n",
    "plt.title(\"Sales distribution of popular platforms 2012-2016 years\")\n",
    "plt.xlabel(\"Years\")\n",
    "plt.ylabel(\"Number of copies sold, million\")\n",
    "plt.legend(bbox_to_anchor=(1, 1))\n",
    "plt.show()\n",
    "\n"
   ]
  },
  {
   "cell_type": "markdown",
   "metadata": {},
   "source": [
    "2016 turned out to be a difficult year for gaming platforms - sales fell in general. Judging by the plot, it is possible to highlight platforms at their peak in 2017 - XOne and PS4. The rest of the platforms presented are leaving the market."
   ]
  },
  {
   "cell_type": "code",
   "execution_count": 18,
   "metadata": {
    "scrolled": false
   },
   "outputs": [
    {
     "data": {
      "text/plain": [
       "Text(0, 0.5, 'Number of copies sold, million')"
      ]
     },
     "execution_count": 18,
     "metadata": {},
     "output_type": "execute_result"
    },
    {
     "data": {
      "image/png": "[encoded data removed]",
      "text/plain": [
       "<Figure size 1080x720 with 1 Axes>"
      ]
     },
     "metadata": {
      "needs_background": "light"
     },
     "output_type": "display_data"
    }
   ],
   "source": [
    "\n",
    "plt.rcParams['figure.figsize'] = (15,10)\n",
    "sns.boxplot(data=platform_actual)\n",
    "plt.title(\"Distribution of platform sales volumes 2012-2016\")\n",
    "plt.xlabel(\"Platforms\")\n",
    "plt.ylabel(\"Number of copies sold, million\")\n"
   ]
  },
  {
   "cell_type": "markdown",
   "metadata": {},
   "source": [
    "In the graphs we see the distribution of data on platform sales for a selected period of time. The graphs are very different, there are outliers in the WiiU, PC, Wii graph data, with the WiiU platform at the minimum, and the PS and Wii platforms at the maximum. The data for Wii and WiiU are on opposite sides of the graphs. Perhaps this unevenness is due to the fact that WiiU is the next generation of the Wii platform and the decline in popularity of one is due to the rise in popularity of the another. Platforms at the peak of popularity PS4 Let's examine the impact of critics on sales within the popular PS4 platform. Let's build a scatterplot and study the correlationand XOne do not have outlier data, the 1st and 3rd quartiles are approximately symmetrical."
   ]
  },
  {
   "cell_type": "markdown",
   "metadata": {},
   "source": [
    "### Assessing of the dependence of sales on reviews\n",
    "Let's examine the impact of critics on sales within the popular PS4 platform. Let's build a scatterplot and study the correlation."
   ]
  },
  {
   "cell_type": "code",
   "execution_count": 19,
   "metadata": {},
   "outputs": [
    {
     "data": {
      "text/html": [
       "<div>\n",
       "<style scoped>\n",
       "    .dataframe tbody tr th:only-of-type {\n",
       "        vertical-align: middle;\n",
       "    }\n",
       "\n",
       "    .dataframe tbody tr th {\n",
       "        vertical-align: top;\n",
       "    }\n",
       "\n",
       "    .dataframe thead th {\n",
       "        text-align: right;\n",
       "    }\n",
       "</style>\n",
       "<table border=\"1\" class=\"dataframe\">\n",
       "  <thead>\n",
       "    <tr style=\"text-align: right;\">\n",
       "      <th></th>\n",
       "      <th>name</th>\n",
       "      <th>platform</th>\n",
       "      <th>year_of_release</th>\n",
       "      <th>genre</th>\n",
       "      <th>na_sales</th>\n",
       "      <th>eu_sales</th>\n",
       "      <th>jp_sales</th>\n",
       "      <th>other_sales</th>\n",
       "      <th>critic_score</th>\n",
       "      <th>user_score</th>\n",
       "      <th>rating</th>\n",
       "      <th>total_sales</th>\n",
       "    </tr>\n",
       "  </thead>\n",
       "  <tbody>\n",
       "    <tr>\n",
       "      <th>42</th>\n",
       "      <td>Grand Theft Auto V</td>\n",
       "      <td>PS4</td>\n",
       "      <td>2014</td>\n",
       "      <td>Action</td>\n",
       "      <td>3.96</td>\n",
       "      <td>6.31</td>\n",
       "      <td>0.38</td>\n",
       "      <td>1.97</td>\n",
       "      <td>97.0</td>\n",
       "      <td>8.3</td>\n",
       "      <td>M</td>\n",
       "      <td>12.62</td>\n",
       "    </tr>\n",
       "    <tr>\n",
       "      <th>77</th>\n",
       "      <td>FIFA 16</td>\n",
       "      <td>PS4</td>\n",
       "      <td>2015</td>\n",
       "      <td>Sports</td>\n",
       "      <td>1.12</td>\n",
       "      <td>6.12</td>\n",
       "      <td>0.06</td>\n",
       "      <td>1.28</td>\n",
       "      <td>82.0</td>\n",
       "      <td>4.3</td>\n",
       "      <td>E</td>\n",
       "      <td>8.58</td>\n",
       "    </tr>\n",
       "    <tr>\n",
       "      <th>92</th>\n",
       "      <td>Call of Duty: Advanced Warfare</td>\n",
       "      <td>PS4</td>\n",
       "      <td>2014</td>\n",
       "      <td>Shooter</td>\n",
       "      <td>2.81</td>\n",
       "      <td>3.48</td>\n",
       "      <td>0.14</td>\n",
       "      <td>1.23</td>\n",
       "      <td>83.0</td>\n",
       "      <td>5.7</td>\n",
       "      <td>M</td>\n",
       "      <td>7.66</td>\n",
       "    </tr>\n",
       "    <tr>\n",
       "      <th>94</th>\n",
       "      <td>FIFA 17</td>\n",
       "      <td>PS4</td>\n",
       "      <td>2016</td>\n",
       "      <td>Sports</td>\n",
       "      <td>0.66</td>\n",
       "      <td>5.75</td>\n",
       "      <td>0.08</td>\n",
       "      <td>1.11</td>\n",
       "      <td>85.0</td>\n",
       "      <td>5.0</td>\n",
       "      <td>E</td>\n",
       "      <td>7.60</td>\n",
       "    </tr>\n",
       "    <tr>\n",
       "      <th>105</th>\n",
       "      <td>Fallout 4</td>\n",
       "      <td>PS4</td>\n",
       "      <td>2015</td>\n",
       "      <td>Role-Playing</td>\n",
       "      <td>2.53</td>\n",
       "      <td>3.27</td>\n",
       "      <td>0.24</td>\n",
       "      <td>1.13</td>\n",
       "      <td>87.0</td>\n",
       "      <td>6.5</td>\n",
       "      <td>M</td>\n",
       "      <td>7.17</td>\n",
       "    </tr>\n",
       "  </tbody>\n",
       "</table>\n",
       "</div>"
      ],
      "text/plain": [
       "                               name platform  year_of_release         genre  \\\n",
       "42               Grand Theft Auto V      PS4             2014        Action   \n",
       "77                          FIFA 16      PS4             2015        Sports   \n",
       "92   Call of Duty: Advanced Warfare      PS4             2014       Shooter   \n",
       "94                          FIFA 17      PS4             2016        Sports   \n",
       "105                       Fallout 4      PS4             2015  Role-Playing   \n",
       "\n",
       "     na_sales  eu_sales  jp_sales  other_sales  critic_score  user_score  \\\n",
       "42       3.96      6.31      0.38         1.97          97.0         8.3   \n",
       "77       1.12      6.12      0.06         1.28          82.0         4.3   \n",
       "92       2.81      3.48      0.14         1.23          83.0         5.7   \n",
       "94       0.66      5.75      0.08         1.11          85.0         5.0   \n",
       "105      2.53      3.27      0.24         1.13          87.0         6.5   \n",
       "\n",
       "    rating  total_sales  \n",
       "42       M        12.62  \n",
       "77       E         8.58  \n",
       "92       M         7.66  \n",
       "94       E         7.60  \n",
       "105      M         7.17  "
      ]
     },
     "metadata": {},
     "output_type": "display_data"
    },
    {
     "data": {
      "image/png": "[encoded data removed]",
      "text/plain": [
       "<Figure size 1080x720 with 1 Axes>"
      ]
     },
     "metadata": {
      "needs_background": "light"
     },
     "output_type": "display_data"
    },
    {
     "data": {
      "image/png": "[encoded data removed]",
      "text/plain": [
       "<Figure size 720x432 with 2 Axes>"
      ]
     },
     "metadata": {
      "needs_background": "light"
     },
     "output_type": "display_data"
    },
    {
     "name": "stdout",
     "output_type": "stream",
     "text": [
      "Correlation coefficient between sales of games on the PS4 platform and the ratings of critics and users:\n"
     ]
    },
    {
     "data": {
      "text/html": [
       "<div>\n",
       "<style scoped>\n",
       "    .dataframe tbody tr th:only-of-type {\n",
       "        vertical-align: middle;\n",
       "    }\n",
       "\n",
       "    .dataframe tbody tr th {\n",
       "        vertical-align: top;\n",
       "    }\n",
       "\n",
       "    .dataframe thead th {\n",
       "        text-align: right;\n",
       "    }\n",
       "</style>\n",
       "<table border=\"1\" class=\"dataframe\">\n",
       "  <thead>\n",
       "    <tr style=\"text-align: right;\">\n",
       "      <th></th>\n",
       "      <th>total_sales</th>\n",
       "      <th>critic_score</th>\n",
       "      <th>user_score</th>\n",
       "    </tr>\n",
       "  </thead>\n",
       "  <tbody>\n",
       "    <tr>\n",
       "      <th>total_sales</th>\n",
       "      <td>1.000000</td>\n",
       "      <td>0.405895</td>\n",
       "      <td>-0.033625</td>\n",
       "    </tr>\n",
       "    <tr>\n",
       "      <th>critic_score</th>\n",
       "      <td>0.405895</td>\n",
       "      <td>1.000000</td>\n",
       "      <td>0.557654</td>\n",
       "    </tr>\n",
       "    <tr>\n",
       "      <th>user_score</th>\n",
       "      <td>-0.033625</td>\n",
       "      <td>0.557654</td>\n",
       "      <td>1.000000</td>\n",
       "    </tr>\n",
       "  </tbody>\n",
       "</table>\n",
       "</div>"
      ],
      "text/plain": [
       "              total_sales  critic_score  user_score\n",
       "total_sales      1.000000      0.405895   -0.033625\n",
       "critic_score     0.405895      1.000000    0.557654\n",
       "user_score      -0.033625      0.557654    1.000000"
      ]
     },
     "metadata": {},
     "output_type": "display_data"
    }
   ],
   "source": [
    "data_ps4 = games[(games['platform'] =='PS4')&(games['year_of_release'] > 2011)&(games['critic_score']>0)&(games['user_score']>0)]\n",
    "display(data_ps4.head(5))\n",
    "\n",
    "fig = plt.figure()\n",
    "ax = fig.add_subplot(111, projection = '3d')\n",
    "\n",
    "x = data_ps4['total_sales']\n",
    "y = data_ps4['critic_score']\n",
    "z = data_ps4['user_score']\n",
    "\n",
    "ax.scatter(x, y, z)\n",
    "ax.set_xlabel(\"Number of copies sold, million\")\n",
    "ax.set_ylabel(\"Critic scores\")\n",
    "ax.set_zlabel(\"User scores\")\n",
    "\n",
    "plt.show()\n",
    "\n",
    "fig, ax = plt.subplots(2, figsize=(10, 6))\n",
    "ax[0].scatter(x = data_ps4['total_sales'], y = data_ps4['critic_score'])\n",
    "ax[0].set_xlabel(\"Number of copies sold, million\")\n",
    "\n",
    "ax[0].set_ylabel(\"Critic scores\")\n",
    "\n",
    "ax[1].scatter(x = data_ps4['total_sales'], y = data_ps4['user_score'])\n",
    "ax[1].set_xlabel(\"Number of copies sold, million\")\n",
    "ax[1].set_ylabel(\"User scores\")\n",
    "\n",
    "plt.show()\n",
    "\n",
    "\n",
    "corr = data_ps4[['total_sales', 'critic_score', 'user_score']].corr()\n",
    "print('Correlation coefficient between sales of games on the PS4 platform and the ratings of critics and users:' )\n",
    "display(corr)"
   ]
  },
  {
   "cell_type": "markdown",
   "metadata": {},
   "source": [
    "We see approximately the same picture of the dependence of sales on the ratings of critics and users. In the scatterplot, we see a direct correlation in sales between critic ratings and a slight inverse correlation between user ratings and sales. We think that the other platforms have the same picture - sales do not depend on user ratings, but slightly depend on critics' ratings."
   ]
  },
  {
   "cell_type": "code",
   "execution_count": 20,
   "metadata": {
    "scrolled": false
   },
   "outputs": [
    {
     "data": {
      "text/plain": [
       "Text(0, 0.5, 'User scores')"
      ]
     },
     "execution_count": 20,
     "metadata": {},
     "output_type": "execute_result"
    },
    {
     "data": {
      "image/png": "[encoded data removed]",
      "text/plain": [
       "<Figure size 720x432 with 2 Axes>"
      ]
     },
     "metadata": {
      "needs_background": "light"
     },
     "output_type": "display_data"
    }
   ],
   "source": [
    "#Let's check this pattern on all platforms\n",
    "common_data = games[(games['year_of_release'] > 2011)&(games['critic_score']>0)&(games['user_score']>0)]\n",
    "fig, ax = plt.subplots(2, figsize=(10, 6))\n",
    "ax[0].scatter(x = common_data['total_sales'], y = common_data['critic_score'])\n",
    "ax[0].set_xlabel(\"Number of copies sold, million\")\n",
    "\n",
    "ax[0].set_ylabel(\"Critic scores\")\n",
    "\n",
    "ax[1].scatter(x = common_data['total_sales'], y = common_data['user_score'])\n",
    "ax[1].set_xlabel(\"Number of copies sold, million\")\n",
    "ax[1].set_ylabel(\"User scores\")"
   ]
  },
  {
   "cell_type": "code",
   "execution_count": 21,
   "metadata": {
    "scrolled": true
   },
   "outputs": [
    {
     "name": "stdout",
     "output_type": "stream",
     "text": [
      "Correlation coefficient between the sales of all games and the ratings of critics and users:\n"
     ]
    },
    {
     "data": {
      "text/html": [
       "<div>\n",
       "<style scoped>\n",
       "    .dataframe tbody tr th:only-of-type {\n",
       "        vertical-align: middle;\n",
       "    }\n",
       "\n",
       "    .dataframe tbody tr th {\n",
       "        vertical-align: top;\n",
       "    }\n",
       "\n",
       "    .dataframe thead th {\n",
       "        text-align: right;\n",
       "    }\n",
       "</style>\n",
       "<table border=\"1\" class=\"dataframe\">\n",
       "  <thead>\n",
       "    <tr style=\"text-align: right;\">\n",
       "      <th></th>\n",
       "      <th>total_sales</th>\n",
       "      <th>critic_score</th>\n",
       "      <th>user_score</th>\n",
       "    </tr>\n",
       "  </thead>\n",
       "  <tbody>\n",
       "    <tr>\n",
       "      <th>total_sales</th>\n",
       "      <td>1.000000</td>\n",
       "      <td>0.306138</td>\n",
       "      <td>0.000341</td>\n",
       "    </tr>\n",
       "    <tr>\n",
       "      <th>critic_score</th>\n",
       "      <td>0.306138</td>\n",
       "      <td>1.000000</td>\n",
       "      <td>0.518199</td>\n",
       "    </tr>\n",
       "    <tr>\n",
       "      <th>user_score</th>\n",
       "      <td>0.000341</td>\n",
       "      <td>0.518199</td>\n",
       "      <td>1.000000</td>\n",
       "    </tr>\n",
       "  </tbody>\n",
       "</table>\n",
       "</div>"
      ],
      "text/plain": [
       "              total_sales  critic_score  user_score\n",
       "total_sales      1.000000      0.306138    0.000341\n",
       "critic_score     0.306138      1.000000    0.518199\n",
       "user_score       0.000341      0.518199    1.000000"
      ]
     },
     "metadata": {},
     "output_type": "display_data"
    }
   ],
   "source": [
    "corr = common_data[['total_sales', 'critic_score', 'user_score']].corr()\n",
    "print('Correlation coefficient between the sales of all games and the ratings of critics and users:' )\n",
    "display(corr)"
   ]
  },
  {
   "cell_type": "markdown",
   "metadata": {},
   "source": [
    "Our assumptions are correct. The scatter plots of PS4 and all games are similar. The correlation of all games with critics' ratings is even lower - 30%"
   ]
  },
  {
   "cell_type": "markdown",
   "metadata": {},
   "source": [
    "### Analysis of games by genre"
   ]
  },
  {
   "cell_type": "code",
   "execution_count": 22,
   "metadata": {},
   "outputs": [
    {
     "data": {
      "text/html": [
       "<div>\n",
       "<style scoped>\n",
       "    .dataframe tbody tr th:only-of-type {\n",
       "        vertical-align: middle;\n",
       "    }\n",
       "\n",
       "    .dataframe tbody tr th {\n",
       "        vertical-align: top;\n",
       "    }\n",
       "\n",
       "    .dataframe thead th {\n",
       "        text-align: right;\n",
       "    }\n",
       "</style>\n",
       "<table border=\"1\" class=\"dataframe\">\n",
       "  <thead>\n",
       "    <tr style=\"text-align: right;\">\n",
       "      <th></th>\n",
       "      <th>genre</th>\n",
       "      <th>count</th>\n",
       "      <th>sum</th>\n",
       "    </tr>\n",
       "  </thead>\n",
       "  <tbody>\n",
       "    <tr>\n",
       "      <th>0</th>\n",
       "      <td>Action</td>\n",
       "      <td>1032</td>\n",
       "      <td>441.47</td>\n",
       "    </tr>\n",
       "    <tr>\n",
       "      <th>1</th>\n",
       "      <td>Adventure</td>\n",
       "      <td>302</td>\n",
       "      <td>29.43</td>\n",
       "    </tr>\n",
       "    <tr>\n",
       "      <th>2</th>\n",
       "      <td>Fighting</td>\n",
       "      <td>109</td>\n",
       "      <td>44.49</td>\n",
       "    </tr>\n",
       "    <tr>\n",
       "      <th>3</th>\n",
       "      <td>Misc</td>\n",
       "      <td>192</td>\n",
       "      <td>85.04</td>\n",
       "    </tr>\n",
       "    <tr>\n",
       "      <th>4</th>\n",
       "      <td>Platform</td>\n",
       "      <td>85</td>\n",
       "      <td>61.00</td>\n",
       "    </tr>\n",
       "    <tr>\n",
       "      <th>5</th>\n",
       "      <td>Puzzle</td>\n",
       "      <td>28</td>\n",
       "      <td>4.89</td>\n",
       "    </tr>\n",
       "    <tr>\n",
       "      <th>6</th>\n",
       "      <td>Racing</td>\n",
       "      <td>115</td>\n",
       "      <td>53.50</td>\n",
       "    </tr>\n",
       "    <tr>\n",
       "      <th>7</th>\n",
       "      <td>Role-Playing</td>\n",
       "      <td>370</td>\n",
       "      <td>192.80</td>\n",
       "    </tr>\n",
       "    <tr>\n",
       "      <th>8</th>\n",
       "      <td>Shooter</td>\n",
       "      <td>235</td>\n",
       "      <td>304.73</td>\n",
       "    </tr>\n",
       "    <tr>\n",
       "      <th>9</th>\n",
       "      <td>Simulation</td>\n",
       "      <td>80</td>\n",
       "      <td>35.12</td>\n",
       "    </tr>\n",
       "    <tr>\n",
       "      <th>10</th>\n",
       "      <td>Sports</td>\n",
       "      <td>268</td>\n",
       "      <td>181.07</td>\n",
       "    </tr>\n",
       "    <tr>\n",
       "      <th>11</th>\n",
       "      <td>Strategy</td>\n",
       "      <td>71</td>\n",
       "      <td>13.34</td>\n",
       "    </tr>\n",
       "  </tbody>\n",
       "</table>\n",
       "</div>"
      ],
      "text/plain": [
       "           genre  count     sum\n",
       "0         Action   1032  441.47\n",
       "1      Adventure    302   29.43\n",
       "2       Fighting    109   44.49\n",
       "3           Misc    192   85.04\n",
       "4       Platform     85   61.00\n",
       "5         Puzzle     28    4.89\n",
       "6         Racing    115   53.50\n",
       "7   Role-Playing    370  192.80\n",
       "8        Shooter    235  304.73\n",
       "9     Simulation     80   35.12\n",
       "10        Sports    268  181.07\n",
       "11      Strategy     71   13.34"
      ]
     },
     "metadata": {},
     "output_type": "display_data"
    },
    {
     "data": {
      "image/png": "[encoded data removed]",
      "text/plain": [
       "<Figure size 1080x720 with 1 Axes>"
      ]
     },
     "metadata": {
      "needs_background": "light"
     },
     "output_type": "display_data"
    }
   ],
   "source": [
    "actual_genres = filtered_platform_year.pivot_table(values = ['total_sales'], index = ['genre'],aggfunc = ['count', 'sum']).reset_index()\n",
    "actual_genres.columns = actual_genres.columns.droplevel(1)\n",
    "actual_genres = actual_genres.rename_axis(None, axis=1)\n",
    "display(actual_genres)\n",
    "actual_genres['sales_to_release'] = actual_genres['sum']/actual_genres['count']\n",
    "actual_genres.plot(x = 'genre', y = 'sales_to_release', kind='bar', width=0.85)\n",
    "plt.title(\"Distribution of game sales by genre in the current period of time\")\n",
    "plt.xlabel(\"Genres\")\n",
    "plt.ylabel(\"Number of copies sold, million\")\n",
    "plt.legend(bbox_to_anchor=(1, 1)) \n",
    "plt.show()\n"
   ]
  },
  {
   "cell_type": "markdown",
   "metadata": {},
   "source": [
    "The most popular genre is Shooter, after it there are Platform and Sports. The most unpopular genre - Puzzle and Adventure"
   ]
  },
  {
   "cell_type": "markdown",
   "metadata": {},
   "source": [
    "## A portrait of a user in each region\n",
    "\n",
    "Let's define for the user of each region (NA, EU, JP):\n",
    "The most popular platforms (top 5). Describing the differences in sales shares.\n",
    "\n",
    "The most popular genres (top 5). Explaining the difference.\n",
    "\n",
    "Does the ESRB rating affect sales in a particular region?"
   ]
  },
  {
   "cell_type": "code",
   "execution_count": 23,
   "metadata": {},
   "outputs": [
    {
     "data": {
      "text/html": [
       "<div>\n",
       "<style scoped>\n",
       "    .dataframe tbody tr th:only-of-type {\n",
       "        vertical-align: middle;\n",
       "    }\n",
       "\n",
       "    .dataframe tbody tr th {\n",
       "        vertical-align: top;\n",
       "    }\n",
       "\n",
       "    .dataframe thead th {\n",
       "        text-align: right;\n",
       "    }\n",
       "</style>\n",
       "<table border=\"1\" class=\"dataframe\">\n",
       "  <thead>\n",
       "    <tr style=\"text-align: right;\">\n",
       "      <th></th>\n",
       "      <th>eu_sales</th>\n",
       "      <th>jp_sales</th>\n",
       "      <th>na_sales</th>\n",
       "    </tr>\n",
       "    <tr>\n",
       "      <th>platform</th>\n",
       "      <th></th>\n",
       "      <th></th>\n",
       "      <th></th>\n",
       "    </tr>\n",
       "  </thead>\n",
       "  <tbody>\n",
       "    <tr>\n",
       "      <th>3DS</th>\n",
       "      <td>42.64</td>\n",
       "      <td>87.79</td>\n",
       "      <td>55.31</td>\n",
       "    </tr>\n",
       "    <tr>\n",
       "      <th>DS</th>\n",
       "      <td>3.53</td>\n",
       "      <td>3.72</td>\n",
       "      <td>4.59</td>\n",
       "    </tr>\n",
       "    <tr>\n",
       "      <th>PC</th>\n",
       "      <td>38.01</td>\n",
       "      <td>0.00</td>\n",
       "      <td>19.18</td>\n",
       "    </tr>\n",
       "    <tr>\n",
       "      <th>PS3</th>\n",
       "      <td>106.86</td>\n",
       "      <td>35.29</td>\n",
       "      <td>103.38</td>\n",
       "    </tr>\n",
       "    <tr>\n",
       "      <th>PS4</th>\n",
       "      <td>141.09</td>\n",
       "      <td>15.96</td>\n",
       "      <td>108.74</td>\n",
       "    </tr>\n",
       "    <tr>\n",
       "      <th>PSP</th>\n",
       "      <td>0.42</td>\n",
       "      <td>10.47</td>\n",
       "      <td>0.13</td>\n",
       "    </tr>\n",
       "    <tr>\n",
       "      <th>PSV</th>\n",
       "      <td>11.36</td>\n",
       "      <td>21.04</td>\n",
       "      <td>10.98</td>\n",
       "    </tr>\n",
       "    <tr>\n",
       "      <th>Wii</th>\n",
       "      <td>11.92</td>\n",
       "      <td>3.39</td>\n",
       "      <td>17.45</td>\n",
       "    </tr>\n",
       "    <tr>\n",
       "      <th>WiiU</th>\n",
       "      <td>25.13</td>\n",
       "      <td>13.01</td>\n",
       "      <td>38.10</td>\n",
       "    </tr>\n",
       "    <tr>\n",
       "      <th>X360</th>\n",
       "      <td>74.52</td>\n",
       "      <td>1.57</td>\n",
       "      <td>140.05</td>\n",
       "    </tr>\n",
       "    <tr>\n",
       "      <th>XOne</th>\n",
       "      <td>51.59</td>\n",
       "      <td>0.34</td>\n",
       "      <td>93.12</td>\n",
       "    </tr>\n",
       "  </tbody>\n",
       "</table>\n",
       "</div>"
      ],
      "text/plain": [
       "          eu_sales  jp_sales  na_sales\n",
       "platform                              \n",
       "3DS          42.64     87.79     55.31\n",
       "DS            3.53      3.72      4.59\n",
       "PC           38.01      0.00     19.18\n",
       "PS3         106.86     35.29    103.38\n",
       "PS4         141.09     15.96    108.74\n",
       "PSP           0.42     10.47      0.13\n",
       "PSV          11.36     21.04     10.98\n",
       "Wii          11.92      3.39     17.45\n",
       "WiiU         25.13     13.01     38.10\n",
       "X360         74.52      1.57    140.05\n",
       "XOne         51.59      0.34     93.12"
      ]
     },
     "metadata": {},
     "output_type": "display_data"
    },
    {
     "data": {
      "text/plain": [
       "Text(0, 0.5, 'Number of copies sold, million')"
      ]
     },
     "execution_count": 23,
     "metadata": {},
     "output_type": "execute_result"
    },
    {
     "data": {
      "image/png": "[encoded data removed]",
      "text/plain": [
       "<Figure size 1080x720 with 1 Axes>"
      ]
     },
     "metadata": {
      "needs_background": "light"
     },
     "output_type": "display_data"
    }
   ],
   "source": [
    "actual_platforms_region = filtered_platform_year.pivot_table(values = ['na_sales', 'eu_sales', 'jp_sales'], index = ['platform'],aggfunc = 'sum')\n",
    "display(actual_platforms_region)\n",
    "actual_platforms_region.plot(kind='bar', width=0.85)\n",
    "plt.title(\"Distribution of platform sales by region in the actual period\")\n",
    "plt.xlabel(\"Platforms\")\n",
    "plt.ylabel(\"Number of copies sold, million\")\n"
   ]
  },
  {
   "cell_type": "markdown",
   "metadata": {},
   "source": [
    "In general, popular platforms in Europe and North America do not differ from each other. The difference is only in the volume of sales. The highest sales are in North America and Europe. Japan has the lowest sales volumes of various platforms. And here is the main difference in popular platforms, because the Asian market is rather peculiar and the sales rules, which are adopted in the West, do not suit it. We believe this will also be seen in popular game genres.\n",
    "\n",
    "Top 5 platforms in North America:\n",
    "<ol>\n",
    "<li>X360</li>\n",
    "<li>PS4</li>\n",
    "<li>PS3</li>\n",
    "<li>XOne</li>\n",
    "<li>3DS</li> </ol>\n",
    "\n",
    "Top 5 platforms in Europe:\n",
    "<ol>\n",
    "<li>X360</li>\n",
    "<li>PS4</li>\n",
    "<li>PS3</li>\n",
    "<li>3DS</li>\n",
    "<li>XOne</li> </ol>\n",
    "\n",
    "Top 5 platforms in Japan:\n",
    "<ol>\n",
    "<li>3DS</li>\n",
    "<li>PS3</li>\n",
    "<li>PSV</li>\n",
    "<li>PS4</li>\n",
    "<li>WiiU</li> </ol>"
   ]
  },
  {
   "cell_type": "code",
   "execution_count": 24,
   "metadata": {},
   "outputs": [
    {
     "data": {
      "text/html": [
       "<div>\n",
       "<style scoped>\n",
       "    .dataframe tbody tr th:only-of-type {\n",
       "        vertical-align: middle;\n",
       "    }\n",
       "\n",
       "    .dataframe tbody tr th {\n",
       "        vertical-align: top;\n",
       "    }\n",
       "\n",
       "    .dataframe thead th {\n",
       "        text-align: right;\n",
       "    }\n",
       "</style>\n",
       "<table border=\"1\" class=\"dataframe\">\n",
       "  <thead>\n",
       "    <tr style=\"text-align: right;\">\n",
       "      <th></th>\n",
       "      <th>eu_sales</th>\n",
       "      <th>jp_sales</th>\n",
       "      <th>na_sales</th>\n",
       "    </tr>\n",
       "    <tr>\n",
       "      <th>genre</th>\n",
       "      <th></th>\n",
       "      <th></th>\n",
       "      <th></th>\n",
       "    </tr>\n",
       "  </thead>\n",
       "  <tbody>\n",
       "    <tr>\n",
       "      <th>Action</th>\n",
       "      <td>159.59</td>\n",
       "      <td>52.80</td>\n",
       "      <td>177.90</td>\n",
       "    </tr>\n",
       "    <tr>\n",
       "      <th>Adventure</th>\n",
       "      <td>9.46</td>\n",
       "      <td>8.24</td>\n",
       "      <td>8.92</td>\n",
       "    </tr>\n",
       "    <tr>\n",
       "      <th>Fighting</th>\n",
       "      <td>10.79</td>\n",
       "      <td>9.44</td>\n",
       "      <td>19.79</td>\n",
       "    </tr>\n",
       "    <tr>\n",
       "      <th>Misc</th>\n",
       "      <td>26.32</td>\n",
       "      <td>12.86</td>\n",
       "      <td>38.19</td>\n",
       "    </tr>\n",
       "    <tr>\n",
       "      <th>Platform</th>\n",
       "      <td>21.41</td>\n",
       "      <td>8.63</td>\n",
       "      <td>25.38</td>\n",
       "    </tr>\n",
       "    <tr>\n",
       "      <th>Puzzle</th>\n",
       "      <td>1.40</td>\n",
       "      <td>2.14</td>\n",
       "      <td>1.13</td>\n",
       "    </tr>\n",
       "    <tr>\n",
       "      <th>Racing</th>\n",
       "      <td>27.29</td>\n",
       "      <td>2.50</td>\n",
       "      <td>17.22</td>\n",
       "    </tr>\n",
       "    <tr>\n",
       "      <th>Role-Playing</th>\n",
       "      <td>48.53</td>\n",
       "      <td>65.44</td>\n",
       "      <td>64.00</td>\n",
       "    </tr>\n",
       "    <tr>\n",
       "      <th>Shooter</th>\n",
       "      <td>113.47</td>\n",
       "      <td>9.23</td>\n",
       "      <td>144.77</td>\n",
       "    </tr>\n",
       "    <tr>\n",
       "      <th>Simulation</th>\n",
       "      <td>14.55</td>\n",
       "      <td>10.41</td>\n",
       "      <td>7.97</td>\n",
       "    </tr>\n",
       "    <tr>\n",
       "      <th>Sports</th>\n",
       "      <td>69.09</td>\n",
       "      <td>8.01</td>\n",
       "      <td>81.53</td>\n",
       "    </tr>\n",
       "    <tr>\n",
       "      <th>Strategy</th>\n",
       "      <td>5.17</td>\n",
       "      <td>2.88</td>\n",
       "      <td>4.23</td>\n",
       "    </tr>\n",
       "  </tbody>\n",
       "</table>\n",
       "</div>"
      ],
      "text/plain": [
       "              eu_sales  jp_sales  na_sales\n",
       "genre                                     \n",
       "Action          159.59     52.80    177.90\n",
       "Adventure         9.46      8.24      8.92\n",
       "Fighting         10.79      9.44     19.79\n",
       "Misc             26.32     12.86     38.19\n",
       "Platform         21.41      8.63     25.38\n",
       "Puzzle            1.40      2.14      1.13\n",
       "Racing           27.29      2.50     17.22\n",
       "Role-Playing     48.53     65.44     64.00\n",
       "Shooter         113.47      9.23    144.77\n",
       "Simulation       14.55     10.41      7.97\n",
       "Sports           69.09      8.01     81.53\n",
       "Strategy          5.17      2.88      4.23"
      ]
     },
     "metadata": {},
     "output_type": "display_data"
    },
    {
     "data": {
      "text/plain": [
       "Text(0, 0.5, 'Number of copies sold, million')"
      ]
     },
     "execution_count": 24,
     "metadata": {},
     "output_type": "execute_result"
    },
    {
     "data": {
      "image/png": "[encoded data removed]",
      "text/plain": [
       "<Figure size 1080x720 with 1 Axes>"
      ]
     },
     "metadata": {
      "needs_background": "light"
     },
     "output_type": "display_data"
    }
   ],
   "source": [
    "actual_genres_region = filtered_platform_year.pivot_table(values = ['na_sales', 'eu_sales', 'jp_sales'], index = ['genre'],aggfunc = 'sum')\n",
    "display(actual_genres_region)\n",
    "actual_genres_region.plot(kind='bar', width=0.85)\n",
    "plt.title(\"Distribution of platform sales by genres in the actual period\")\n",
    "plt.xlabel(\"Genres\")\n",
    "plt.ylabel(\"Number of copies sold, million\")"
   ]
  },
  {
   "cell_type": "markdown",
   "metadata": {},
   "source": [
    "In this chart we see confirmation that the Japanese gaming market is different from the Western one. In some genres, the regions are similar, but there are also global differences.\n",
    "Top 5 game genres in North America:\n",
    "<ol>\n",
    "<li>Action</li>\n",
    "<li> Shooter</li>\n",
    "<li> Sports</li>\n",
    "<li>Role-playing</li>\n",
    "<li>Misc</li> </ol>\n",
    "\n",
    "Top 5 game genres in Europe:\n",
    "<ol>\n",
    "<li>Action</li>\n",
    "<li> Shooter</li>\n",
    "<li> Sports</li>\n",
    "<li>Role-playing</li>\n",
    "<li> Racing</li> </ol>\n",
    "\n",
    "Top 5 platforms in Japan:\n",
    "<ol>\n",
    "<li>Role-playing</li>\n",
    "<li>Action</li>\n",
    "<li>Misc</li>\n",
    "<li>Simulation</li>\n",
    "<li> Fighting</li> </ol>"
   ]
  },
  {
   "cell_type": "markdown",
   "metadata": {},
   "source": [
    "Let's compile a pivot table of the number of game sales by ratings"
   ]
  },
  {
   "cell_type": "code",
   "execution_count": 25,
   "metadata": {},
   "outputs": [
    {
     "data": {
      "text/html": [
       "<div>\n",
       "<style scoped>\n",
       "    .dataframe tbody tr th:only-of-type {\n",
       "        vertical-align: middle;\n",
       "    }\n",
       "\n",
       "    .dataframe tbody tr th {\n",
       "        vertical-align: top;\n",
       "    }\n",
       "\n",
       "    .dataframe thead th {\n",
       "        text-align: right;\n",
       "    }\n",
       "</style>\n",
       "<table border=\"1\" class=\"dataframe\">\n",
       "  <thead>\n",
       "    <tr style=\"text-align: right;\">\n",
       "      <th></th>\n",
       "      <th>sum_na</th>\n",
       "      <th>sum_eu</th>\n",
       "      <th>sum_jp</th>\n",
       "    </tr>\n",
       "    <tr>\n",
       "      <th>rating</th>\n",
       "      <th></th>\n",
       "      <th></th>\n",
       "      <th></th>\n",
       "    </tr>\n",
       "  </thead>\n",
       "  <tbody>\n",
       "    <tr>\n",
       "      <th>E</th>\n",
       "      <td>113.03</td>\n",
       "      <td>28.33</td>\n",
       "      <td>114.37</td>\n",
       "    </tr>\n",
       "    <tr>\n",
       "      <th>E10+</th>\n",
       "      <td>55.37</td>\n",
       "      <td>8.19</td>\n",
       "      <td>75.70</td>\n",
       "    </tr>\n",
       "    <tr>\n",
       "      <th>M</th>\n",
       "      <td>194.21</td>\n",
       "      <td>21.20</td>\n",
       "      <td>231.63</td>\n",
       "    </tr>\n",
       "    <tr>\n",
       "      <th>T</th>\n",
       "      <td>52.96</td>\n",
       "      <td>26.02</td>\n",
       "      <td>66.02</td>\n",
       "    </tr>\n",
       "  </tbody>\n",
       "</table>\n",
       "</div>"
      ],
      "text/plain": [
       "        sum_na  sum_eu  sum_jp\n",
       "rating                        \n",
       "E       113.03   28.33  114.37\n",
       "E10+     55.37    8.19   75.70\n",
       "M       194.21   21.20  231.63\n",
       "T        52.96   26.02   66.02"
      ]
     },
     "metadata": {},
     "output_type": "display_data"
    }
   ],
   "source": [
    "\n",
    "games_rating = filtered_platform_year[~filtered_platform_year['rating'].isnull()]\n",
    "games_not_rated = filtered_platform_year[filtered_platform_year['rating'].isnull()]\n",
    "actual_rating_region = games_rating.pivot_table(values = ['na_sales', 'eu_sales', 'jp_sales'],\\\n",
    "                                                          index = ['rating'],aggfunc = 'sum')\n",
    "\n",
    "actual_rating_region.columns = ['sum_na', 'sum_eu', 'sum_jp']\n",
    "\n",
    "display(actual_rating_region)"
   ]
  },
  {
   "cell_type": "markdown",
   "metadata": {},
   "source": [
    "Since some games were not sold in some regions, the number of their releases varied. Let's count the number of their releases for each region and merge them into a common table."
   ]
  },
  {
   "cell_type": "code",
   "execution_count": 26,
   "metadata": {},
   "outputs": [],
   "source": [
    "\n",
    "na_rating = games_rating[games_rating['na_sales']!=0]\n",
    "na_rating_count = na_rating.pivot_table(values = 'na_sales',\\\n",
    "                                                          index = ['rating'],aggfunc = 'count')\n",
    "na_rating_count.columns = ['na_count']\n",
    "actual_rating_region = actual_rating_region.merge(na_rating_count, on=['rating'],how='outer')\n",
    "\n",
    "eu_rating = games_rating[games_rating['eu_sales']!=0]\n",
    "eu_rating_count = eu_rating.pivot_table(values = 'eu_sales',\\\n",
    "                                                          index = ['rating'],aggfunc = 'count')\n",
    "eu_rating_count.columns = ['eu_count']\n",
    "actual_rating_region = actual_rating_region.merge(eu_rating_count, on=['rating'],how='left')\n",
    "\n",
    "jp_rating = games_rating[games_rating['jp_sales']!=0]\n",
    "jp_rating_count = jp_rating.pivot_table(values = 'jp_sales',\\\n",
    "                                                          index = ['rating'],aggfunc = 'count')\n",
    "jp_rating_count.columns = ['jp_count']\n",
    "actual_rating_region = actual_rating_region.merge(jp_rating_count, on=['rating'],how='outer')\n",
    "\n"
   ]
  },
  {
   "cell_type": "markdown",
   "metadata": {},
   "source": [
    "Now let's calculate the number of sales for each release by region and build a chart"
   ]
  },
  {
   "cell_type": "code",
   "execution_count": 27,
   "metadata": {},
   "outputs": [
    {
     "data": {
      "text/html": [
       "<div>\n",
       "<style scoped>\n",
       "    .dataframe tbody tr th:only-of-type {\n",
       "        vertical-align: middle;\n",
       "    }\n",
       "\n",
       "    .dataframe tbody tr th {\n",
       "        vertical-align: top;\n",
       "    }\n",
       "\n",
       "    .dataframe thead th {\n",
       "        text-align: right;\n",
       "    }\n",
       "</style>\n",
       "<table border=\"1\" class=\"dataframe\">\n",
       "  <thead>\n",
       "    <tr style=\"text-align: right;\">\n",
       "      <th></th>\n",
       "      <th>sum_na</th>\n",
       "      <th>sum_eu</th>\n",
       "      <th>sum_jp</th>\n",
       "      <th>na_count</th>\n",
       "      <th>eu_count</th>\n",
       "      <th>jp_count</th>\n",
       "      <th>sales_per_release_na</th>\n",
       "      <th>sales_per_release_eu</th>\n",
       "      <th>sales_per_release_jp</th>\n",
       "    </tr>\n",
       "    <tr>\n",
       "      <th>rating</th>\n",
       "      <th></th>\n",
       "      <th></th>\n",
       "      <th></th>\n",
       "      <th></th>\n",
       "      <th></th>\n",
       "      <th></th>\n",
       "      <th></th>\n",
       "      <th></th>\n",
       "      <th></th>\n",
       "    </tr>\n",
       "  </thead>\n",
       "  <tbody>\n",
       "    <tr>\n",
       "      <th>E</th>\n",
       "      <td>113.03</td>\n",
       "      <td>28.33</td>\n",
       "      <td>114.37</td>\n",
       "      <td>297</td>\n",
       "      <td>336</td>\n",
       "      <td>105</td>\n",
       "      <td>0.380572</td>\n",
       "      <td>0.084315</td>\n",
       "      <td>1.089238</td>\n",
       "    </tr>\n",
       "    <tr>\n",
       "      <th>E10+</th>\n",
       "      <td>55.37</td>\n",
       "      <td>8.19</td>\n",
       "      <td>75.70</td>\n",
       "      <td>266</td>\n",
       "      <td>281</td>\n",
       "      <td>67</td>\n",
       "      <td>0.208158</td>\n",
       "      <td>0.029146</td>\n",
       "      <td>1.129851</td>\n",
       "    </tr>\n",
       "    <tr>\n",
       "      <th>M</th>\n",
       "      <td>194.21</td>\n",
       "      <td>21.20</td>\n",
       "      <td>231.63</td>\n",
       "      <td>455</td>\n",
       "      <td>460</td>\n",
       "      <td>227</td>\n",
       "      <td>0.426835</td>\n",
       "      <td>0.046087</td>\n",
       "      <td>1.020396</td>\n",
       "    </tr>\n",
       "    <tr>\n",
       "      <th>T</th>\n",
       "      <td>52.96</td>\n",
       "      <td>26.02</td>\n",
       "      <td>66.02</td>\n",
       "      <td>306</td>\n",
       "      <td>318</td>\n",
       "      <td>228</td>\n",
       "      <td>0.173072</td>\n",
       "      <td>0.081824</td>\n",
       "      <td>0.289561</td>\n",
       "    </tr>\n",
       "  </tbody>\n",
       "</table>\n",
       "</div>"
      ],
      "text/plain": [
       "        sum_na  sum_eu  sum_jp  na_count  eu_count  jp_count  \\\n",
       "rating                                                         \n",
       "E       113.03   28.33  114.37       297       336       105   \n",
       "E10+     55.37    8.19   75.70       266       281        67   \n",
       "M       194.21   21.20  231.63       455       460       227   \n",
       "T        52.96   26.02   66.02       306       318       228   \n",
       "\n",
       "        sales_per_release_na  sales_per_release_eu  sales_per_release_jp  \n",
       "rating                                                                    \n",
       "E                   0.380572              0.084315              1.089238  \n",
       "E10+                0.208158              0.029146              1.129851  \n",
       "M                   0.426835              0.046087              1.020396  \n",
       "T                   0.173072              0.081824              0.289561  "
      ]
     },
     "metadata": {},
     "output_type": "display_data"
    },
    {
     "data": {
      "text/plain": [
       "Text(0, 0.5, 'Number of copies sold, million')"
      ]
     },
     "execution_count": 27,
     "metadata": {},
     "output_type": "execute_result"
    },
    {
     "data": {
      "image/png": "[encoded data removed]",
      "text/plain": [
       "<Figure size 1080x720 with 1 Axes>"
      ]
     },
     "metadata": {
      "needs_background": "light"
     },
     "output_type": "display_data"
    }
   ],
   "source": [
    "#let's calculate the amount of sales for each release by region\n",
    "actual_rating_region['sales_per_release_na'] = actual_rating_region['sum_na']/actual_rating_region['na_count']\n",
    "actual_rating_region['sales_per_release_eu'] = actual_rating_region['sum_eu']/actual_rating_region['eu_count']\n",
    "actual_rating_region['sales_per_release_jp'] = actual_rating_region['sum_jp']/actual_rating_region['jp_count']\n",
    "display(actual_rating_region)\n",
    "\n",
    "actual_rating_region = actual_rating_region.drop(columns=['sum_na', 'sum_eu', 'sum_jp', 'na_count', 'eu_count', 'jp_count'])\n",
    "\n",
    "actual_rating_region.plot(kind='bar', width=0.85)\n",
    "plt.title(\"Distribution of sales by game rating by region in the actual period\")\n",
    "plt.xlabel(\"Rating\")\n",
    "plt.ylabel(\"Number of copies sold, million\")"
   ]
  },
  {
   "cell_type": "markdown",
   "metadata": {},
   "source": [
    "First, let's figure out what the ESRB ratings mean:\n",
    "\n",
    "<ul><li>E - everyone</li>\n",
    "<li>E10+ - everyone 10+</li>\n",
    "<li>T - teen (13+)</li>\n",
    "<li>M - mature (17+)</li>\n",
    "<li>A - adults (18+)</li>\n",
    "<li>RP - rating pending</li></ul>\n",
    "\n",
    "According to our research, Japan breaks records for the number of copies sold of any rating. E, E10+, M are the most popular. And games for teens (T) aren't selling as well.\n",
    "In Europe games for everyone and games for teens (T) are selling a few points better than 17 and 10 year olds (M and E10+).\n",
    "In North America, games for everyone (E) and games with an age limit (M) are the best-selling games."
   ]
  },
  {
   "cell_type": "markdown",
   "metadata": {},
   "source": [
    "Now let's explore unrated games"
   ]
  },
  {
   "cell_type": "code",
   "execution_count": 28,
   "metadata": {
    "scrolled": false
   },
   "outputs": [
    {
     "name": "stdout",
     "output_type": "stream",
     "text": [
      "103.31\n",
      "354\n",
      "91.5\n",
      "417\n",
      "108.84\n",
      "942\n"
     ]
    },
    {
     "data": {
      "text/html": [
       "<div>\n",
       "<style scoped>\n",
       "    .dataframe tbody tr th:only-of-type {\n",
       "        vertical-align: middle;\n",
       "    }\n",
       "\n",
       "    .dataframe tbody tr th {\n",
       "        vertical-align: top;\n",
       "    }\n",
       "\n",
       "    .dataframe thead th {\n",
       "        text-align: right;\n",
       "    }\n",
       "</style>\n",
       "<table border=\"1\" class=\"dataframe\">\n",
       "  <thead>\n",
       "    <tr style=\"text-align: right;\">\n",
       "      <th></th>\n",
       "      <th>sales_per_release_na</th>\n",
       "      <th>sales_per_release_eu</th>\n",
       "      <th>sales_per_release_jp</th>\n",
       "    </tr>\n",
       "  </thead>\n",
       "  <tbody>\n",
       "    <tr>\n",
       "      <th>0</th>\n",
       "      <td>0.291836</td>\n",
       "      <td>0.219424</td>\n",
       "      <td>0.115541</td>\n",
       "    </tr>\n",
       "  </tbody>\n",
       "</table>\n",
       "</div>"
      ],
      "text/plain": [
       "   sales_per_release_na  sales_per_release_eu  sales_per_release_jp\n",
       "0              0.291836              0.219424              0.115541"
      ]
     },
     "metadata": {},
     "output_type": "display_data"
    },
    {
     "data": {
      "text/plain": [
       "Text(0, 0.5, 'Number of copies sold per release, million')"
      ]
     },
     "execution_count": 28,
     "metadata": {},
     "output_type": "execute_result"
    },
    {
     "data": {
      "image/png": "[encoded data removed]",
      "text/plain": [
       "<Figure size 1080x720 with 1 Axes>"
      ]
     },
     "metadata": {
      "needs_background": "light"
     },
     "output_type": "display_data"
    }
   ],
   "source": [
    "#let's create an empty dataframe and give column names\n",
    "games_not_rated_region = pd.DataFrame(columns=['sales_per_release_na',\\\n",
    "                                               'sales_per_release_eu', 'sales_per_release_jp'])\n",
    "\n",
    "#let's calculate the amount of sales and the number of releases for each region\n",
    "not_rated_na_sum = games_not_rated.loc[(games_not_rated['na_sales']!=0), 'na_sales'].sum()\n",
    "not_rated_na_count = games_not_rated.loc[(games_not_rated['na_sales']!=0), 'na_sales'].count()\n",
    "games_not_rated_na = not_rated_na_sum/not_rated_na_count\n",
    "print(not_rated_na_sum)\n",
    "print(not_rated_na_count)\n",
    "\n",
    "not_rated_eu_sum = games_not_rated.loc[(games_not_rated['eu_sales']!=0), 'eu_sales'].sum()\n",
    "not_rated_eu_count = games_not_rated.loc[(games_not_rated['eu_sales']!=0), 'eu_sales'].count()\n",
    "print(not_rated_eu_sum)\n",
    "print(not_rated_eu_count)\n",
    "\n",
    "games_not_rated_eu = not_rated_eu_sum/not_rated_eu_count\n",
    "\n",
    "not_rated_jp_sum = games_not_rated.loc[(games_not_rated['jp_sales']!=0), 'jp_sales'].sum()\n",
    "not_rated_jp_count = games_not_rated.loc[(games_not_rated['jp_sales']!=0), 'jp_sales'].count()\n",
    "print(not_rated_jp_sum)\n",
    "print(not_rated_jp_count)\n",
    "\n",
    "games_not_rated_jp = not_rated_jp_sum/not_rated_jp_count\n",
    "\n",
    "\n",
    "#let's fill the dataset\n",
    "games_not_rated_region = games_not_rated_region.append({'sales_per_release_na': \\\n",
    "                                                        games_not_rated_na, 'sales_per_release_eu':\\\n",
    "                                                        games_not_rated_eu, 'sales_per_release_jp':\\\n",
    "                                                        games_not_rated_jp}, ignore_index=True)\n",
    "\n",
    "display(games_not_rated_region)\n",
    "games_not_rated_region.plot(kind='bar', width=0.85)\n",
    "plt.title(\"Distribution of sales of unrated games by region in the actual period\")\n",
    "plt.xlabel(\"Game Sales Regions: North America, Europe, Japan\")\n",
    "plt.ylabel(\"Number of copies sold per release, million\")"
   ]
  },
  {
   "cell_type": "markdown",
   "metadata": {},
   "source": [
    "Comparing the charts, we can see that across all countries, unrated games are as popular as rated games in all regions except Japan."
   ]
  },
  {
   "cell_type": "markdown",
   "metadata": {},
   "source": [
    "## Hypothesis checking\n",
    "<b>The average user ratings of the Xbox One and PC platforms are the same.</b>\n",
    "\n",
    "Let's formulate the null hypothesis: The average user ratings of the Xbox One and PC platforms in the presented sample are the same.\n",
    "\n",
    "Let's formulate an alternative hypothesis: The average user ratings of the Xbox One and PC platforms in the presented sample are different."
   ]
  },
  {
   "cell_type": "code",
   "execution_count": 29,
   "metadata": {},
   "outputs": [
    {
     "name": "stdout",
     "output_type": "stream",
     "text": [
      "mean XOne:  4.805263157894736\n",
      "mean PC:  5.309960159362547\n",
      "p-value: 0.06093976453551038\n",
      "Failed to reject null hypothesis\n"
     ]
    }
   ],
   "source": [
    "data_actual_xone = filtered_platform_year[(filtered_platform_year['platform'] == 'XOne')&(~filtered_platform_year['user_score'].isnull())]\n",
    "data_actual_pc = filtered_platform_year[(filtered_platform_year['platform'] == 'PC')&(~filtered_platform_year['user_score'].isnull())]\n",
    "print('mean XOne: ', data_actual_xone['user_score'].mean())\n",
    "print('mean PC: ', data_actual_pc['user_score'].mean())\n",
    "\n",
    "alpha = 0.05\n",
    "\n",
    "results = st.ttest_ind(data_actual_xone['user_score'],data_actual_pc['user_score'])\n",
    "\n",
    "print('p-value:', results.pvalue)\n",
    "\n",
    "if results.pvalue < alpha:\n",
    "     print(\"Reject the null hypothesis\")\n",
    "else:\n",
    "     print(\"Failed to reject null hypothesis\")"
   ]
  },
  {
   "cell_type": "markdown",
   "metadata": {},
   "source": [
    "<b>Average user ratings for the Action and Sports genres are different.</b>\n",
    "\n",
    "Let's formulate the null hypothesis: The average user ratings of the Action and Sports genres in the presented sample are the same.\n",
    "\n",
    "Let's formulate an alternative hypothesis: The average user ratings of the Action and Sports genres in the presented sample are different."
   ]
  },
  {
   "cell_type": "code",
   "execution_count": 30,
   "metadata": {},
   "outputs": [
    {
     "name": "stdout",
     "output_type": "stream",
     "text": [
      "mean Action:  3.4670542635658967\n",
      "mean Sports:  3.9697761194029852\n",
      "p-value: 0.032218007641900616\n",
      "Reject the null hypothesis\n"
     ]
    }
   ],
   "source": [
    "data_actual_action = filtered_platform_year[(filtered_platform_year['genre'] == 'Action')&(~filtered_platform_year['user_score'].isnull())]\n",
    "data_actual_sports = filtered_platform_year[(filtered_platform_year['genre'] == 'Sports')&(~filtered_platform_year['user_score'].isnull())]\n",
    "print('mean Action: ', data_actual_action['user_score'].mean())\n",
    "print('mean Sports: ', data_actual_sports['user_score'].mean())\n",
    "\n",
    "alpha = 0.05\n",
    "\n",
    "results = st.ttest_ind(data_actual_action['user_score'],data_actual_sports['user_score'])\n",
    "\n",
    "print('p-value:', results.pvalue)\n",
    "\n",
    "if results.pvalue < alpha:\n",
    "     print(\"Reject the null hypothesis\")\n",
    "else:\n",
    "     print(\"Failed to reject null hypothesis\")"
   ]
  },
  {
   "cell_type": "markdown",
   "metadata": {},
   "source": [
    "### Conclusion\n",
    "When testing the hypothesis that the average user ratings of the Xbox One and PC platforms are the same, the hypothesis of the equality of the averages of the two general populations was true for comparison, because two unequal groups with user ratings of games from different platforms with different features were taken for exploring.\n",
    "\n",
    "The research showed that with a 95% probability, the average user ratings of the Xbox One and PC platforms are the same (we were unable to reject the null hypothesis)\n",
    "\n",
    "When testing the hypothesis that the average user ratings of the Action and Sports genres are different, the hypothesis that the averages of the two populations are equal was true.\n",
    "\n",
    "The research showed that the average user ratings of the Action and Sports genres are different (we rejected the null hypothesis)"
   ]
  },
  {
   "cell_type": "markdown",
   "metadata": {},
   "source": [
    "## Common total:"
   ]
  },
  {
   "cell_type": "markdown",
   "metadata": {},
   "source": [
    "As a result of our research, we have identified the patterns that determine the success of the game:\n",
    "<ol>\n",
    "    <li>Game platform.\n",
    "    At the end of 2016, the PS4 and XBox One platforms are gaining popularity. This statement has implications for the general gaming market and North America and Europe in particular. In Japan, not everything is so clear and majority prefers other platforms not represented in the sample </li>\n",
    "    <li>Game genre.\n",
    "    The most popular genre is Simulation, followed by Platform and Sports. The most unpopular - Puzzle and Adventure</li>\n",
    "    <li>The region in which the game is sold.\n",
    "    The research showed that the game markets of North America and Europe differ little, and in Japan the game market, although it has some common patterns, is generally different from Western ones</li>\n",
    "    <li>Rating\n",
    "    We found that in Japan rated games outsell games that are not rated, but in other regions, rating does not affect success.</li>\n",
    "</ol>"
   ]
  },
  {
   "cell_type": "code",
   "execution_count": null,
   "metadata": {},
   "outputs": [],
   "source": []
  }
 ],
 "metadata": {
  "ExecuteTimeLog": [
   {
    "duration": 75,
    "start_time": "2021-08-07T09:50:34.114Z"
   },
   {
    "duration": 1177,
    "start_time": "2021-08-07T09:52:54.470Z"
   },
   {
    "duration": 4,
    "start_time": "2021-08-07T20:01:09.146Z"
   },
   {
    "duration": 326,
    "start_time": "2021-08-07T20:01:45.958Z"
   },
   {
    "duration": 259,
    "start_time": "2021-08-07T20:01:58.092Z"
   },
   {
    "duration": 1508,
    "start_time": "2021-08-07T20:02:07.595Z"
   },
   {
    "duration": 4,
    "start_time": "2021-08-07T20:02:09.106Z"
   },
   {
    "duration": 19,
    "start_time": "2021-08-07T20:02:31.716Z"
   },
   {
    "duration": 407,
    "start_time": "2021-08-07T20:45:12.724Z"
   },
   {
    "duration": 341,
    "start_time": "2021-08-07T20:45:27.644Z"
   },
   {
    "duration": 5,
    "start_time": "2021-08-07T20:46:01.164Z"
   },
   {
    "duration": 7,
    "start_time": "2021-08-07T20:48:20.313Z"
   },
   {
    "duration": 289,
    "start_time": "2021-08-07T20:49:01.490Z"
   },
   {
    "duration": 5,
    "start_time": "2021-08-07T20:51:54.491Z"
   },
   {
    "duration": 16,
    "start_time": "2021-08-07T20:53:18.754Z"
   },
   {
    "duration": 17,
    "start_time": "2021-08-07T20:54:14.270Z"
   },
   {
    "duration": 16,
    "start_time": "2021-08-07T21:04:49.475Z"
   },
   {
    "duration": 20,
    "start_time": "2021-08-07T21:07:08.959Z"
   },
   {
    "duration": 361,
    "start_time": "2021-08-07T21:18:00.564Z"
   },
   {
    "duration": 14,
    "start_time": "2021-08-07T21:18:15.007Z"
   },
   {
    "duration": 22,
    "start_time": "2021-08-07T21:18:30.719Z"
   },
   {
    "duration": 271,
    "start_time": "2021-08-07T21:19:07.312Z"
   },
   {
    "duration": 15,
    "start_time": "2021-08-07T21:19:54.942Z"
   },
   {
    "duration": 10,
    "start_time": "2021-08-07T21:25:15.326Z"
   },
   {
    "duration": 10,
    "start_time": "2021-08-07T21:25:32.951Z"
   },
   {
    "duration": 651,
    "start_time": "2021-08-07T21:25:58.979Z"
   },
   {
    "duration": 2066,
    "start_time": "2021-08-07T21:26:41.235Z"
   },
   {
    "duration": 1479,
    "start_time": "2021-08-07T21:26:58.411Z"
   },
   {
    "duration": 24,
    "start_time": "2021-08-07T21:26:59.893Z"
   },
   {
    "duration": 16,
    "start_time": "2021-08-07T21:26:59.922Z"
   },
   {
    "duration": 21,
    "start_time": "2021-08-07T21:26:59.941Z"
   },
   {
    "duration": 23,
    "start_time": "2021-08-07T21:27:00.001Z"
   },
   {
    "duration": 411,
    "start_time": "2021-08-07T21:27:00.027Z"
   },
   {
    "duration": 3317,
    "start_time": "2021-08-07T21:27:15.029Z"
   },
   {
    "duration": 3306,
    "start_time": "2021-08-07T21:27:48.979Z"
   },
   {
    "duration": 1603,
    "start_time": "2021-08-07T21:28:15.981Z"
   },
   {
    "duration": 30,
    "start_time": "2021-08-07T21:28:17.587Z"
   },
   {
    "duration": 19,
    "start_time": "2021-08-07T21:28:17.620Z"
   },
   {
    "duration": 19,
    "start_time": "2021-08-07T21:28:17.641Z"
   },
   {
    "duration": 45,
    "start_time": "2021-08-07T21:28:17.663Z"
   },
   {
    "duration": 13,
    "start_time": "2021-08-07T21:28:17.710Z"
   },
   {
    "duration": 14,
    "start_time": "2021-08-07T21:28:51.340Z"
   },
   {
    "duration": 22,
    "start_time": "2021-08-07T21:29:25.438Z"
   },
   {
    "duration": 5093,
    "start_time": "2021-08-07T21:37:36.949Z"
   },
   {
    "duration": 1448,
    "start_time": "2021-08-07T21:37:56.754Z"
   },
   {
    "duration": 19,
    "start_time": "2021-08-07T21:37:58.205Z"
   },
   {
    "duration": 15,
    "start_time": "2021-08-07T21:37:58.227Z"
   },
   {
    "duration": 19,
    "start_time": "2021-08-07T21:37:58.244Z"
   },
   {
    "duration": 55,
    "start_time": "2021-08-07T21:37:58.266Z"
   },
   {
    "duration": 4992,
    "start_time": "2021-08-07T21:37:58.323Z"
   },
   {
    "duration": 285,
    "start_time": "2021-08-07T21:38:32.089Z"
   },
   {
    "duration": 35,
    "start_time": "2021-08-07T21:38:50.768Z"
   },
   {
    "duration": 35,
    "start_time": "2021-08-07T21:39:02.693Z"
   },
   {
    "duration": 1580,
    "start_time": "2021-08-07T21:39:41.405Z"
   },
   {
    "duration": 27,
    "start_time": "2021-08-07T21:39:42.988Z"
   },
   {
    "duration": 17,
    "start_time": "2021-08-07T21:39:43.019Z"
   },
   {
    "duration": 20,
    "start_time": "2021-08-07T21:39:43.038Z"
   },
   {
    "duration": 60,
    "start_time": "2021-08-07T21:39:43.061Z"
   },
   {
    "duration": 396,
    "start_time": "2021-08-07T21:39:43.124Z"
   },
   {
    "duration": 268,
    "start_time": "2021-08-07T21:39:54.962Z"
   },
   {
    "duration": 3366,
    "start_time": "2021-08-07T21:40:25.386Z"
   },
   {
    "duration": 1517,
    "start_time": "2021-08-07T21:40:37.266Z"
   },
   {
    "duration": 27,
    "start_time": "2021-08-07T21:40:38.785Z"
   },
   {
    "duration": 18,
    "start_time": "2021-08-07T21:40:38.815Z"
   },
   {
    "duration": 19,
    "start_time": "2021-08-07T21:40:38.835Z"
   },
   {
    "duration": 49,
    "start_time": "2021-08-07T21:40:38.856Z"
   },
   {
    "duration": 38,
    "start_time": "2021-08-07T21:40:38.908Z"
   },
   {
    "duration": 6,
    "start_time": "2021-08-07T21:42:06.035Z"
   },
   {
    "duration": 15,
    "start_time": "2021-08-07T21:42:19.737Z"
   },
   {
    "duration": 33,
    "start_time": "2021-08-07T21:42:55.059Z"
   },
   {
    "duration": 449,
    "start_time": "2021-08-07T22:22:20.606Z"
   },
   {
    "duration": 68,
    "start_time": "2021-08-07T22:22:48.734Z"
   },
   {
    "duration": 69,
    "start_time": "2021-08-07T22:23:47.707Z"
   },
   {
    "duration": 316,
    "start_time": "2021-08-07T22:30:44.995Z"
   },
   {
    "duration": 500,
    "start_time": "2021-08-07T22:31:12.781Z"
   },
   {
    "duration": 322,
    "start_time": "2021-08-07T22:31:20.042Z"
   },
   {
    "duration": 318,
    "start_time": "2021-08-07T22:31:28.663Z"
   },
   {
    "duration": 70,
    "start_time": "2021-08-07T22:31:58.218Z"
   },
   {
    "duration": 1481,
    "start_time": "2021-08-07T22:32:07.212Z"
   },
   {
    "duration": 20,
    "start_time": "2021-08-07T22:32:08.701Z"
   },
   {
    "duration": 18,
    "start_time": "2021-08-07T22:32:08.724Z"
   },
   {
    "duration": 20,
    "start_time": "2021-08-07T22:32:08.745Z"
   },
   {
    "duration": 21,
    "start_time": "2021-08-07T22:32:08.802Z"
   },
   {
    "duration": 469,
    "start_time": "2021-08-07T22:32:08.826Z"
   },
   {
    "duration": 2981,
    "start_time": "2021-08-07T22:32:06.317Z"
   },
   {
    "duration": 72,
    "start_time": "2021-08-07T22:33:29.824Z"
   },
   {
    "duration": 117,
    "start_time": "2021-08-08T17:02:09.352Z"
   },
   {
    "duration": 353,
    "start_time": "2021-08-08T17:02:16.797Z"
   },
   {
    "duration": 1621,
    "start_time": "2021-08-08T17:02:28.283Z"
   },
   {
    "duration": 21,
    "start_time": "2021-08-08T17:02:29.907Z"
   },
   {
    "duration": 122,
    "start_time": "2021-08-08T17:02:29.932Z"
   },
   {
    "duration": 25,
    "start_time": "2021-08-08T17:02:30.058Z"
   },
   {
    "duration": 47,
    "start_time": "2021-08-08T17:02:30.085Z"
   },
   {
    "duration": 521,
    "start_time": "2021-08-08T17:02:30.135Z"
   },
   {
    "duration": 3854,
    "start_time": "2021-08-08T17:02:26.805Z"
   },
   {
    "duration": 2131,
    "start_time": "2021-08-08T17:03:07.171Z"
   },
   {
    "duration": 2193,
    "start_time": "2021-08-08T17:05:46.607Z"
   },
   {
    "duration": 81,
    "start_time": "2021-08-08T17:06:58.990Z"
   },
   {
    "duration": 84,
    "start_time": "2021-08-08T17:08:32.851Z"
   },
   {
    "duration": 104,
    "start_time": "2021-08-08T17:25:51.983Z"
   },
   {
    "duration": 116,
    "start_time": "2021-08-08T17:26:18.379Z"
   },
   {
    "duration": 108,
    "start_time": "2021-08-08T17:26:55.523Z"
   },
   {
    "duration": 147,
    "start_time": "2021-08-08T17:27:55.713Z"
   },
   {
    "duration": 881,
    "start_time": "2021-08-08T17:28:11.849Z"
   },
   {
    "duration": 107,
    "start_time": "2021-08-08T17:29:40.507Z"
   },
   {
    "duration": 1640,
    "start_time": "2021-08-08T17:29:58.891Z"
   },
   {
    "duration": 20,
    "start_time": "2021-08-08T17:30:00.535Z"
   },
   {
    "duration": 47,
    "start_time": "2021-08-08T17:30:00.558Z"
   },
   {
    "duration": 26,
    "start_time": "2021-08-08T17:30:00.609Z"
   },
   {
    "duration": 49,
    "start_time": "2021-08-08T17:30:00.637Z"
   },
   {
    "duration": 112,
    "start_time": "2021-08-08T17:30:00.689Z"
   },
   {
    "duration": 52,
    "start_time": "2021-08-08T17:30:00.804Z"
   },
   {
    "duration": 127,
    "start_time": "2021-08-08T17:34:27.583Z"
   },
   {
    "duration": 174,
    "start_time": "2021-08-08T17:35:10.439Z"
   },
   {
    "duration": 190,
    "start_time": "2021-08-08T17:37:22.362Z"
   },
   {
    "duration": 130,
    "start_time": "2021-08-08T17:37:37.019Z"
   },
   {
    "duration": 191,
    "start_time": "2021-08-08T17:41:33.862Z"
   },
   {
    "duration": 263,
    "start_time": "2021-08-08T17:42:30.779Z"
   },
   {
    "duration": 136,
    "start_time": "2021-08-08T17:43:09.295Z"
   },
   {
    "duration": 36,
    "start_time": "2021-08-08T17:44:52.977Z"
   },
   {
    "duration": 116,
    "start_time": "2021-08-08T17:49:24.843Z"
   },
   {
    "duration": 464,
    "start_time": "2021-08-08T17:49:31.768Z"
   },
   {
    "duration": 31,
    "start_time": "2021-08-08T17:49:44.254Z"
   },
   {
    "duration": 59,
    "start_time": "2021-08-08T18:00:47.302Z"
   },
   {
    "duration": 13,
    "start_time": "2021-08-08T18:55:29.613Z"
   },
   {
    "duration": 11,
    "start_time": "2021-08-08T18:55:43.400Z"
   },
   {
    "duration": 98,
    "start_time": "2021-08-08T19:57:13.160Z"
   },
   {
    "duration": 5,
    "start_time": "2021-08-08T19:58:27.067Z"
   },
   {
    "duration": 19,
    "start_time": "2021-08-08T20:01:23.892Z"
   },
   {
    "duration": 28,
    "start_time": "2021-08-08T20:01:36.730Z"
   },
   {
    "duration": 2031,
    "start_time": "2021-08-08T20:02:03.079Z"
   },
   {
    "duration": 20,
    "start_time": "2021-08-08T20:02:05.113Z"
   },
   {
    "duration": 51,
    "start_time": "2021-08-08T20:02:05.137Z"
   },
   {
    "duration": 39,
    "start_time": "2021-08-08T20:02:05.191Z"
   },
   {
    "duration": 61,
    "start_time": "2021-08-08T20:02:05.233Z"
   },
   {
    "duration": 142,
    "start_time": "2021-08-08T20:02:05.297Z"
   },
   {
    "duration": 45,
    "start_time": "2021-08-08T20:02:05.442Z"
   },
   {
    "duration": 54,
    "start_time": "2021-08-08T20:02:05.489Z"
   },
   {
    "duration": 9,
    "start_time": "2021-08-08T20:02:05.546Z"
   },
   {
    "duration": 31,
    "start_time": "2021-08-08T20:02:05.586Z"
   },
   {
    "duration": 106,
    "start_time": "2021-08-08T20:03:15.444Z"
   },
   {
    "duration": 29,
    "start_time": "2021-08-08T20:03:42.989Z"
   },
   {
    "duration": 26,
    "start_time": "2021-08-08T20:04:01.028Z"
   },
   {
    "duration": 470,
    "start_time": "2021-08-08T20:10:04.129Z"
   },
   {
    "duration": 29,
    "start_time": "2021-08-08T20:10:11.094Z"
   },
   {
    "duration": 26,
    "start_time": "2021-08-08T20:10:35.870Z"
   },
   {
    "duration": 49,
    "start_time": "2021-08-08T20:11:12.984Z"
   },
   {
    "duration": 54,
    "start_time": "2021-08-08T20:12:02.567Z"
   },
   {
    "duration": 1599,
    "start_time": "2021-08-08T20:12:24.407Z"
   },
   {
    "duration": 23,
    "start_time": "2021-08-08T20:12:26.008Z"
   },
   {
    "duration": 20,
    "start_time": "2021-08-08T20:12:26.035Z"
   },
   {
    "duration": 43,
    "start_time": "2021-08-08T20:12:26.059Z"
   },
   {
    "duration": 28,
    "start_time": "2021-08-08T20:12:26.105Z"
   },
   {
    "duration": 172,
    "start_time": "2021-08-08T20:12:26.136Z"
   },
   {
    "duration": 77,
    "start_time": "2021-08-08T20:12:26.311Z"
   },
   {
    "duration": 113,
    "start_time": "2021-08-08T20:12:26.393Z"
   },
   {
    "duration": 15,
    "start_time": "2021-08-08T20:12:26.510Z"
   },
   {
    "duration": 116,
    "start_time": "2021-08-08T20:12:26.529Z"
   },
   {
    "duration": 55,
    "start_time": "2021-08-08T20:12:42.171Z"
   },
   {
    "duration": 51,
    "start_time": "2021-08-08T20:12:58.920Z"
   },
   {
    "duration": 15,
    "start_time": "2021-08-08T21:28:23.495Z"
   },
   {
    "duration": 31,
    "start_time": "2021-08-08T21:28:48.271Z"
   },
   {
    "duration": 60,
    "start_time": "2021-08-08T21:38:18.888Z"
   },
   {
    "duration": 21,
    "start_time": "2021-08-08T23:19:10.040Z"
   },
   {
    "duration": 23,
    "start_time": "2021-08-08T23:19:27.754Z"
   },
   {
    "duration": 90,
    "start_time": "2021-08-09T19:45:01.421Z"
   },
   {
    "duration": 1565,
    "start_time": "2021-08-09T19:45:09.340Z"
   },
   {
    "duration": 21,
    "start_time": "2021-08-09T19:45:10.908Z"
   },
   {
    "duration": 18,
    "start_time": "2021-08-09T19:45:10.933Z"
   },
   {
    "duration": 53,
    "start_time": "2021-08-09T19:45:10.954Z"
   },
   {
    "duration": 24,
    "start_time": "2021-08-09T19:45:11.010Z"
   },
   {
    "duration": 175,
    "start_time": "2021-08-09T19:45:11.037Z"
   },
   {
    "duration": 41,
    "start_time": "2021-08-09T19:45:11.215Z"
   },
   {
    "duration": 87,
    "start_time": "2021-08-09T19:45:11.259Z"
   },
   {
    "duration": 11,
    "start_time": "2021-08-09T19:45:11.348Z"
   },
   {
    "duration": 85,
    "start_time": "2021-08-09T19:45:11.362Z"
   },
   {
    "duration": 81,
    "start_time": "2021-08-09T19:45:11.450Z"
   },
   {
    "duration": 34,
    "start_time": "2021-08-09T19:45:11.534Z"
   },
   {
    "duration": 99,
    "start_time": "2021-08-09T19:45:11.571Z"
   },
   {
    "duration": 421,
    "start_time": "2021-08-09T19:45:22.399Z"
   },
   {
    "duration": 292,
    "start_time": "2021-08-09T21:17:57.090Z"
   },
   {
    "duration": 1869,
    "start_time": "2021-08-09T21:22:57.469Z"
   },
   {
    "duration": 1895,
    "start_time": "2021-08-09T21:23:21.944Z"
   },
   {
    "duration": 1872,
    "start_time": "2021-08-09T21:23:37.695Z"
   },
   {
    "duration": 89,
    "start_time": "2021-08-09T21:31:44.641Z"
   },
   {
    "duration": 316,
    "start_time": "2021-08-09T21:31:59.743Z"
   },
   {
    "duration": 1968,
    "start_time": "2021-08-09T21:32:14.201Z"
   },
   {
    "duration": 1959,
    "start_time": "2021-08-09T21:32:28.272Z"
   },
   {
    "duration": 1894,
    "start_time": "2021-08-09T21:32:46.945Z"
   },
   {
    "duration": 103,
    "start_time": "2021-08-09T21:35:28.267Z"
   },
   {
    "duration": 1980,
    "start_time": "2021-08-09T21:35:31.942Z"
   },
   {
    "duration": 2041,
    "start_time": "2021-08-09T21:35:39.652Z"
   },
   {
    "duration": 93,
    "start_time": "2021-08-09T21:41:02.390Z"
   },
   {
    "duration": 655,
    "start_time": "2021-08-09T21:41:17.607Z"
   },
   {
    "duration": 668,
    "start_time": "2021-08-09T21:41:31.768Z"
   },
   {
    "duration": 760,
    "start_time": "2021-08-09T21:41:48.069Z"
   },
   {
    "duration": 657,
    "start_time": "2021-08-09T21:41:57.867Z"
   },
   {
    "duration": 675,
    "start_time": "2021-08-09T21:42:06.364Z"
   },
   {
    "duration": 936,
    "start_time": "2021-08-09T21:42:50.808Z"
   },
   {
    "duration": 921,
    "start_time": "2021-08-09T21:43:17.330Z"
   },
   {
    "duration": 774,
    "start_time": "2021-08-09T21:43:49.542Z"
   },
   {
    "duration": 827,
    "start_time": "2021-08-09T21:47:06.887Z"
   },
   {
    "duration": 929,
    "start_time": "2021-08-09T21:47:32.099Z"
   },
   {
    "duration": 85,
    "start_time": "2021-08-09T21:54:40.779Z"
   },
   {
    "duration": 1486,
    "start_time": "2021-08-09T22:00:02.928Z"
   },
   {
    "duration": 21,
    "start_time": "2021-08-09T22:00:04.417Z"
   },
   {
    "duration": 17,
    "start_time": "2021-08-09T22:00:04.442Z"
   },
   {
    "duration": 50,
    "start_time": "2021-08-09T22:00:04.462Z"
   },
   {
    "duration": 22,
    "start_time": "2021-08-09T22:00:04.515Z"
   },
   {
    "duration": 169,
    "start_time": "2021-08-09T22:00:04.540Z"
   },
   {
    "duration": 34,
    "start_time": "2021-08-09T22:00:04.711Z"
   },
   {
    "duration": 82,
    "start_time": "2021-08-09T22:00:04.748Z"
   },
   {
    "duration": 10,
    "start_time": "2021-08-09T22:00:04.834Z"
   },
   {
    "duration": 75,
    "start_time": "2021-08-09T22:00:04.847Z"
   },
   {
    "duration": 49,
    "start_time": "2021-08-09T22:00:04.924Z"
   },
   {
    "duration": 46,
    "start_time": "2021-08-09T22:00:04.975Z"
   },
   {
    "duration": 957,
    "start_time": "2021-08-09T22:00:05.023Z"
   },
   {
    "duration": 1474,
    "start_time": "2021-08-10T19:01:58.097Z"
   },
   {
    "duration": 22,
    "start_time": "2021-08-10T19:01:59.574Z"
   },
   {
    "duration": 18,
    "start_time": "2021-08-10T19:01:59.600Z"
   },
   {
    "duration": 19,
    "start_time": "2021-08-10T19:01:59.620Z"
   },
   {
    "duration": 52,
    "start_time": "2021-08-10T19:01:59.642Z"
   },
   {
    "duration": 129,
    "start_time": "2021-08-10T19:01:59.697Z"
   },
   {
    "duration": 54,
    "start_time": "2021-08-10T19:01:59.828Z"
   },
   {
    "duration": 53,
    "start_time": "2021-08-10T19:01:59.885Z"
   },
   {
    "duration": 9,
    "start_time": "2021-08-10T19:01:59.942Z"
   },
   {
    "duration": 57,
    "start_time": "2021-08-10T19:01:59.981Z"
   },
   {
    "duration": 70,
    "start_time": "2021-08-10T19:02:00.040Z"
   },
   {
    "duration": 23,
    "start_time": "2021-08-10T19:02:00.113Z"
   },
   {
    "duration": 777,
    "start_time": "2021-08-10T19:02:00.138Z"
   },
   {
    "duration": 123,
    "start_time": "2021-08-10T19:17:14.772Z"
   },
   {
    "duration": 490,
    "start_time": "2021-08-10T19:37:43.799Z"
   },
   {
    "duration": 787,
    "start_time": "2021-08-10T19:37:52.163Z"
   },
   {
    "duration": 828,
    "start_time": "2021-08-10T19:38:12.721Z"
   },
   {
    "duration": 855,
    "start_time": "2021-08-10T19:38:20.087Z"
   },
   {
    "duration": 946,
    "start_time": "2021-08-10T19:38:52.905Z"
   },
   {
    "duration": 67,
    "start_time": "2021-08-10T19:39:36.546Z"
   },
   {
    "duration": 21,
    "start_time": "2021-08-10T19:40:02.429Z"
   },
   {
    "duration": 1168,
    "start_time": "2021-08-10T20:08:25.074Z"
   },
   {
    "duration": 733,
    "start_time": "2021-08-10T20:08:37.270Z"
   },
   {
    "duration": 742,
    "start_time": "2021-08-10T20:08:53.987Z"
   },
   {
    "duration": 1251,
    "start_time": "2021-08-10T20:09:46.398Z"
   },
   {
    "duration": 804,
    "start_time": "2021-08-10T20:10:25.304Z"
   },
   {
    "duration": 756,
    "start_time": "2021-08-10T20:10:56.865Z"
   },
   {
    "duration": 38,
    "start_time": "2021-08-10T20:11:54.079Z"
   },
   {
    "duration": 1454,
    "start_time": "2021-08-10T20:12:06.940Z"
   },
   {
    "duration": 19,
    "start_time": "2021-08-10T20:12:08.396Z"
   },
   {
    "duration": 17,
    "start_time": "2021-08-10T20:12:08.418Z"
   },
   {
    "duration": 45,
    "start_time": "2021-08-10T20:12:08.439Z"
   },
   {
    "duration": 33,
    "start_time": "2021-08-10T20:12:08.487Z"
   },
   {
    "duration": 189,
    "start_time": "2021-08-10T20:12:08.523Z"
   },
   {
    "duration": 34,
    "start_time": "2021-08-10T20:12:08.714Z"
   },
   {
    "duration": 75,
    "start_time": "2021-08-10T20:12:08.750Z"
   },
   {
    "duration": 10,
    "start_time": "2021-08-10T20:12:08.829Z"
   },
   {
    "duration": 444,
    "start_time": "2021-08-10T20:12:08.841Z"
   },
   {
    "duration": -645,
    "start_time": "2021-08-10T20:12:09.933Z"
   },
   {
    "duration": -648,
    "start_time": "2021-08-10T20:12:09.937Z"
   },
   {
    "duration": -648,
    "start_time": "2021-08-10T20:12:09.939Z"
   },
   {
    "duration": -647,
    "start_time": "2021-08-10T20:12:09.940Z"
   },
   {
    "duration": 49,
    "start_time": "2021-08-10T20:12:45.071Z"
   },
   {
    "duration": 1474,
    "start_time": "2021-08-10T20:12:57.384Z"
   },
   {
    "duration": 30,
    "start_time": "2021-08-10T20:12:58.861Z"
   },
   {
    "duration": 14,
    "start_time": "2021-08-10T20:12:58.894Z"
   },
   {
    "duration": 18,
    "start_time": "2021-08-10T20:12:58.911Z"
   },
   {
    "duration": 57,
    "start_time": "2021-08-10T20:12:58.931Z"
   },
   {
    "duration": 135,
    "start_time": "2021-08-10T20:12:58.991Z"
   },
   {
    "duration": 33,
    "start_time": "2021-08-10T20:12:59.128Z"
   },
   {
    "duration": 67,
    "start_time": "2021-08-10T20:12:59.163Z"
   },
   {
    "duration": 9,
    "start_time": "2021-08-10T20:12:59.233Z"
   },
   {
    "duration": 47,
    "start_time": "2021-08-10T20:12:59.283Z"
   },
   {
    "duration": 67,
    "start_time": "2021-08-10T20:12:59.333Z"
   },
   {
    "duration": 23,
    "start_time": "2021-08-10T20:12:59.402Z"
   },
   {
    "duration": 896,
    "start_time": "2021-08-10T20:12:59.427Z"
   },
   {
    "duration": 108,
    "start_time": "2021-08-10T20:13:00.326Z"
   },
   {
    "duration": 50,
    "start_time": "2021-08-10T20:13:19.048Z"
   },
   {
    "duration": 40,
    "start_time": "2021-08-10T20:14:23.929Z"
   },
   {
    "duration": 1589,
    "start_time": "2021-08-10T20:14:47.079Z"
   },
   {
    "duration": 27,
    "start_time": "2021-08-10T20:14:48.670Z"
   },
   {
    "duration": 24,
    "start_time": "2021-08-10T20:14:48.700Z"
   },
   {
    "duration": 24,
    "start_time": "2021-08-10T20:14:48.726Z"
   },
   {
    "duration": 39,
    "start_time": "2021-08-10T20:14:48.753Z"
   },
   {
    "duration": 136,
    "start_time": "2021-08-10T20:14:48.794Z"
   },
   {
    "duration": 54,
    "start_time": "2021-08-10T20:14:48.933Z"
   },
   {
    "duration": 49,
    "start_time": "2021-08-10T20:14:48.990Z"
   },
   {
    "duration": 39,
    "start_time": "2021-08-10T20:14:49.043Z"
   },
   {
    "duration": 41,
    "start_time": "2021-08-10T20:14:49.084Z"
   },
   {
    "duration": 61,
    "start_time": "2021-08-10T20:14:49.127Z"
   },
   {
    "duration": 24,
    "start_time": "2021-08-10T20:14:49.191Z"
   },
   {
    "duration": 786,
    "start_time": "2021-08-10T20:14:49.217Z"
   },
   {
    "duration": 104,
    "start_time": "2021-08-10T20:14:50.006Z"
   },
   {
    "duration": 783,
    "start_time": "2021-08-10T20:14:59.920Z"
   },
   {
    "duration": 131,
    "start_time": "2021-08-10T20:16:32.715Z"
   },
   {
    "duration": 25,
    "start_time": "2021-08-10T20:16:44.693Z"
   },
   {
    "duration": 24,
    "start_time": "2021-08-10T20:16:57.346Z"
   },
   {
    "duration": 36,
    "start_time": "2021-08-10T20:17:31.459Z"
   },
   {
    "duration": 1444,
    "start_time": "2021-08-10T20:22:03.714Z"
   },
   {
    "duration": 26,
    "start_time": "2021-08-10T20:22:05.161Z"
   },
   {
    "duration": 16,
    "start_time": "2021-08-10T20:22:05.190Z"
   },
   {
    "duration": 20,
    "start_time": "2021-08-10T20:22:05.209Z"
   },
   {
    "duration": 55,
    "start_time": "2021-08-10T20:22:05.231Z"
   },
   {
    "duration": 138,
    "start_time": "2021-08-10T20:22:05.288Z"
   },
   {
    "duration": 56,
    "start_time": "2021-08-10T20:22:05.428Z"
   },
   {
    "duration": 69,
    "start_time": "2021-08-10T20:22:05.486Z"
   },
   {
    "duration": 33,
    "start_time": "2021-08-10T20:22:05.559Z"
   },
   {
    "duration": 41,
    "start_time": "2021-08-10T20:22:05.594Z"
   },
   {
    "duration": 68,
    "start_time": "2021-08-10T20:22:05.637Z"
   },
   {
    "duration": 25,
    "start_time": "2021-08-10T20:22:05.708Z"
   },
   {
    "duration": 782,
    "start_time": "2021-08-10T20:22:05.737Z"
   },
   {
    "duration": 37,
    "start_time": "2021-08-10T20:22:06.522Z"
   },
   {
    "duration": 731,
    "start_time": "2021-08-10T20:24:59.761Z"
   },
   {
    "duration": 507,
    "start_time": "2021-08-10T20:26:19.280Z"
   },
   {
    "duration": 404,
    "start_time": "2021-08-10T20:27:36.005Z"
   },
   {
    "duration": 38,
    "start_time": "2021-08-10T20:37:56.114Z"
   },
   {
    "duration": 819,
    "start_time": "2021-08-10T20:38:07.200Z"
   },
   {
    "duration": -284,
    "start_time": "2021-08-10T20:43:07.728Z"
   },
   {
    "duration": 8451,
    "start_time": "2021-08-10T20:43:36.072Z"
   },
   {
    "duration": 427,
    "start_time": "2021-08-10T20:46:18.753Z"
   },
   {
    "duration": 8711,
    "start_time": "2021-08-10T20:46:25.443Z"
   },
   {
    "duration": 135,
    "start_time": "2021-08-10T20:53:52.032Z"
   },
   {
    "duration": 1487,
    "start_time": "2021-08-10T20:54:44.060Z"
   },
   {
    "duration": 32,
    "start_time": "2021-08-10T20:54:45.551Z"
   },
   {
    "duration": 14,
    "start_time": "2021-08-10T20:54:45.586Z"
   },
   {
    "duration": 20,
    "start_time": "2021-08-10T20:54:45.602Z"
   },
   {
    "duration": 21,
    "start_time": "2021-08-10T20:54:45.625Z"
   },
   {
    "duration": 139,
    "start_time": "2021-08-10T20:54:45.683Z"
   },
   {
    "duration": 32,
    "start_time": "2021-08-10T20:54:45.825Z"
   },
   {
    "duration": 51,
    "start_time": "2021-08-10T20:54:45.883Z"
   },
   {
    "duration": 9,
    "start_time": "2021-08-10T20:54:45.937Z"
   },
   {
    "duration": 68,
    "start_time": "2021-08-10T20:54:45.949Z"
   },
   {
    "duration": 61,
    "start_time": "2021-08-10T20:54:46.021Z"
   },
   {
    "duration": 25,
    "start_time": "2021-08-10T20:54:46.085Z"
   },
   {
    "duration": 801,
    "start_time": "2021-08-10T20:54:46.112Z"
   },
   {
    "duration": 39,
    "start_time": "2021-08-10T20:54:46.916Z"
   },
   {
    "duration": 9090,
    "start_time": "2021-08-10T20:54:46.982Z"
   },
   {
    "duration": 10597,
    "start_time": "2021-08-10T20:55:23.659Z"
   },
   {
    "duration": 386,
    "start_time": "2021-08-10T20:57:05.801Z"
   },
   {
    "duration": 1476,
    "start_time": "2021-08-10T20:57:19.017Z"
   },
   {
    "duration": 1521,
    "start_time": "2021-08-10T20:58:12.449Z"
   },
   {
    "duration": 31,
    "start_time": "2021-08-10T20:58:42.838Z"
   },
   {
    "duration": 12,
    "start_time": "2021-08-10T20:59:01.541Z"
   },
   {
    "duration": 12,
    "start_time": "2021-08-10T21:00:35.481Z"
   },
   {
    "duration": 12,
    "start_time": "2021-08-10T21:32:51.365Z"
   },
   {
    "duration": 123,
    "start_time": "2021-08-10T21:35:15.491Z"
   },
   {
    "duration": 17,
    "start_time": "2021-08-10T21:35:23.584Z"
   },
   {
    "duration": 35,
    "start_time": "2021-08-10T21:35:59.925Z"
   },
   {
    "duration": 46,
    "start_time": "2021-08-10T21:40:49.082Z"
   },
   {
    "duration": 9455,
    "start_time": "2021-08-10T21:41:25.676Z"
   },
   {
    "duration": 1466,
    "start_time": "2021-08-10T21:42:21.296Z"
   },
   {
    "duration": 30,
    "start_time": "2021-08-10T21:42:22.765Z"
   },
   {
    "duration": 16,
    "start_time": "2021-08-10T21:42:22.800Z"
   },
   {
    "duration": 21,
    "start_time": "2021-08-10T21:42:22.819Z"
   },
   {
    "duration": 59,
    "start_time": "2021-08-10T21:42:22.843Z"
   },
   {
    "duration": 141,
    "start_time": "2021-08-10T21:42:22.904Z"
   },
   {
    "duration": 48,
    "start_time": "2021-08-10T21:42:23.048Z"
   },
   {
    "duration": 49,
    "start_time": "2021-08-10T21:42:23.098Z"
   },
   {
    "duration": 37,
    "start_time": "2021-08-10T21:42:23.150Z"
   },
   {
    "duration": 40,
    "start_time": "2021-08-10T21:42:23.190Z"
   },
   {
    "duration": 58,
    "start_time": "2021-08-10T21:42:23.232Z"
   },
   {
    "duration": 24,
    "start_time": "2021-08-10T21:42:23.292Z"
   },
   {
    "duration": 752,
    "start_time": "2021-08-10T21:42:23.318Z"
   },
   {
    "duration": 37,
    "start_time": "2021-08-10T21:42:24.072Z"
   },
   {
    "duration": 105,
    "start_time": "2021-08-10T21:42:24.112Z"
   },
   {
    "duration": 546,
    "start_time": "2021-08-10T21:46:11.175Z"
   },
   {
    "duration": 403,
    "start_time": "2021-08-10T21:46:31.466Z"
   },
   {
    "duration": 632,
    "start_time": "2021-08-10T21:46:42.246Z"
   },
   {
    "duration": 68,
    "start_time": "2021-08-10T21:47:21.833Z"
   },
   {
    "duration": 1552,
    "start_time": "2021-08-10T21:47:35.703Z"
   },
   {
    "duration": 28,
    "start_time": "2021-08-10T21:47:37.257Z"
   },
   {
    "duration": 15,
    "start_time": "2021-08-10T21:47:37.287Z"
   },
   {
    "duration": 20,
    "start_time": "2021-08-10T21:47:37.304Z"
   },
   {
    "duration": 23,
    "start_time": "2021-08-10T21:47:37.326Z"
   },
   {
    "duration": 132,
    "start_time": "2021-08-10T21:47:37.382Z"
   },
   {
    "duration": 34,
    "start_time": "2021-08-10T21:47:37.517Z"
   },
   {
    "duration": 78,
    "start_time": "2021-08-10T21:47:37.554Z"
   },
   {
    "duration": 12,
    "start_time": "2021-08-10T21:47:37.637Z"
   },
   {
    "duration": 45,
    "start_time": "2021-08-10T21:47:37.684Z"
   },
   {
    "duration": 60,
    "start_time": "2021-08-10T21:47:37.732Z"
   },
   {
    "duration": 27,
    "start_time": "2021-08-10T21:47:37.795Z"
   },
   {
    "duration": 776,
    "start_time": "2021-08-10T21:47:37.825Z"
   },
   {
    "duration": 30,
    "start_time": "2021-08-10T21:47:38.604Z"
   },
   {
    "duration": 860,
    "start_time": "2021-08-10T21:47:38.636Z"
   },
   {
    "duration": 90,
    "start_time": "2021-08-11T16:33:56.718Z"
   },
   {
    "duration": 276,
    "start_time": "2021-08-11T16:34:06.932Z"
   },
   {
    "duration": 1114,
    "start_time": "2021-08-11T16:34:14.187Z"
   },
   {
    "duration": 15,
    "start_time": "2021-08-11T16:34:15.302Z"
   },
   {
    "duration": 26,
    "start_time": "2021-08-11T16:34:15.319Z"
   },
   {
    "duration": 14,
    "start_time": "2021-08-11T16:34:15.348Z"
   },
   {
    "duration": 17,
    "start_time": "2021-08-11T16:34:15.364Z"
   },
   {
    "duration": 112,
    "start_time": "2021-08-11T16:34:15.383Z"
   },
   {
    "duration": 21,
    "start_time": "2021-08-11T16:34:15.496Z"
   },
   {
    "duration": 49,
    "start_time": "2021-08-11T16:34:15.519Z"
   },
   {
    "duration": 6,
    "start_time": "2021-08-11T16:34:15.570Z"
   },
   {
    "duration": 26,
    "start_time": "2021-08-11T16:34:15.578Z"
   },
   {
    "duration": 44,
    "start_time": "2021-08-11T16:34:15.606Z"
   },
   {
    "duration": 16,
    "start_time": "2021-08-11T16:34:15.652Z"
   },
   {
    "duration": 1130,
    "start_time": "2021-08-11T16:34:15.670Z"
   },
   {
    "duration": 20,
    "start_time": "2021-08-11T16:34:16.802Z"
   },
   {
    "duration": 518,
    "start_time": "2021-08-11T16:34:16.824Z"
   },
   {
    "duration": 1173,
    "start_time": "2021-08-11T18:54:16.408Z"
   },
   {
    "duration": 11,
    "start_time": "2021-08-11T18:54:17.582Z"
   },
   {
    "duration": 14,
    "start_time": "2021-08-11T18:54:17.595Z"
   },
   {
    "duration": 31,
    "start_time": "2021-08-11T18:54:17.611Z"
   },
   {
    "duration": 14,
    "start_time": "2021-08-11T18:54:17.643Z"
   },
   {
    "duration": 93,
    "start_time": "2021-08-11T18:54:17.659Z"
   },
   {
    "duration": 21,
    "start_time": "2021-08-11T18:54:17.754Z"
   },
   {
    "duration": 32,
    "start_time": "2021-08-11T18:54:17.777Z"
   },
   {
    "duration": 32,
    "start_time": "2021-08-11T18:54:17.811Z"
   },
   {
    "duration": 26,
    "start_time": "2021-08-11T18:54:17.845Z"
   },
   {
    "duration": 20,
    "start_time": "2021-08-11T18:54:17.872Z"
   },
   {
    "duration": 17,
    "start_time": "2021-08-11T18:54:17.893Z"
   },
   {
    "duration": 20,
    "start_time": "2021-08-11T18:54:17.941Z"
   },
   {
    "duration": 368818,
    "start_time": "2021-08-11T18:54:17.963Z"
   },
   {
    "duration": 1949,
    "start_time": "2021-08-11T19:38:52.591Z"
   },
   {
    "duration": 301,
    "start_time": "2021-08-11T19:46:51.362Z"
   },
   {
    "duration": 292,
    "start_time": "2021-08-11T19:47:05.358Z"
   },
   {
    "duration": 310,
    "start_time": "2021-08-11T19:49:27.337Z"
   },
   {
    "duration": 378,
    "start_time": "2021-08-11T19:50:30.020Z"
   },
   {
    "duration": 1016,
    "start_time": "2021-08-11T19:51:47.603Z"
   },
   {
    "duration": 999,
    "start_time": "2021-08-11T19:53:50.248Z"
   },
   {
    "duration": 2124,
    "start_time": "2021-08-11T19:54:11.411Z"
   },
   {
    "duration": 1667,
    "start_time": "2021-08-11T19:56:06.680Z"
   },
   {
    "duration": 1352,
    "start_time": "2021-08-11T20:01:25.714Z"
   },
   {
    "duration": 1301,
    "start_time": "2021-08-11T20:01:57.035Z"
   },
   {
    "duration": 1658,
    "start_time": "2021-08-11T20:02:49.869Z"
   },
   {
    "duration": 1653,
    "start_time": "2021-08-11T20:03:21.125Z"
   },
   {
    "duration": 441,
    "start_time": "2021-08-11T20:03:59.684Z"
   },
   {
    "duration": 1630,
    "start_time": "2021-08-11T20:04:20.711Z"
   },
   {
    "duration": 92,
    "start_time": "2021-08-11T20:11:10.117Z"
   },
   {
    "duration": 98,
    "start_time": "2021-08-11T20:11:21.039Z"
   },
   {
    "duration": 280,
    "start_time": "2021-08-11T20:11:53.236Z"
   },
   {
    "duration": 49,
    "start_time": "2021-08-11T20:12:30.874Z"
   },
   {
    "duration": 8080,
    "start_time": "2021-08-11T20:12:40.970Z"
   },
   {
    "duration": 1165,
    "start_time": "2021-08-11T20:13:09.635Z"
   },
   {
    "duration": 11,
    "start_time": "2021-08-11T20:13:10.802Z"
   },
   {
    "duration": 14,
    "start_time": "2021-08-11T20:13:10.815Z"
   },
   {
    "duration": 20,
    "start_time": "2021-08-11T20:13:10.830Z"
   },
   {
    "duration": 13,
    "start_time": "2021-08-11T20:13:10.852Z"
   },
   {
    "duration": 99,
    "start_time": "2021-08-11T20:13:10.867Z"
   },
   {
    "duration": 21,
    "start_time": "2021-08-11T20:13:10.968Z"
   },
   {
    "duration": 52,
    "start_time": "2021-08-11T20:13:10.991Z"
   },
   {
    "duration": 6,
    "start_time": "2021-08-11T20:13:11.045Z"
   },
   {
    "duration": 26,
    "start_time": "2021-08-11T20:13:11.053Z"
   },
   {
    "duration": 19,
    "start_time": "2021-08-11T20:13:11.080Z"
   },
   {
    "duration": 53,
    "start_time": "2021-08-11T20:13:11.101Z"
   },
   {
    "duration": 19,
    "start_time": "2021-08-11T20:13:11.155Z"
   },
   {
    "duration": 1686,
    "start_time": "2021-08-11T20:13:11.175Z"
   },
   {
    "duration": 1735,
    "start_time": "2021-08-11T20:15:50.351Z"
   },
   {
    "duration": 1661,
    "start_time": "2021-08-11T20:16:17.162Z"
   },
   {
    "duration": 1681,
    "start_time": "2021-08-11T20:16:45.873Z"
   },
   {
    "duration": 1788,
    "start_time": "2021-08-11T20:17:00.866Z"
   },
   {
    "duration": 1115,
    "start_time": "2021-08-11T20:17:20.188Z"
   },
   {
    "duration": 12,
    "start_time": "2021-08-11T20:17:21.305Z"
   },
   {
    "duration": 23,
    "start_time": "2021-08-11T20:17:21.319Z"
   },
   {
    "duration": 13,
    "start_time": "2021-08-11T20:17:21.344Z"
   },
   {
    "duration": 16,
    "start_time": "2021-08-11T20:17:21.359Z"
   },
   {
    "duration": 92,
    "start_time": "2021-08-11T20:17:21.377Z"
   },
   {
    "duration": 21,
    "start_time": "2021-08-11T20:17:21.470Z"
   },
   {
    "duration": 49,
    "start_time": "2021-08-11T20:17:21.493Z"
   },
   {
    "duration": 7,
    "start_time": "2021-08-11T20:17:21.544Z"
   },
   {
    "duration": 24,
    "start_time": "2021-08-11T20:17:21.553Z"
   },
   {
    "duration": 18,
    "start_time": "2021-08-11T20:17:21.579Z"
   },
   {
    "duration": 47,
    "start_time": "2021-08-11T20:17:21.598Z"
   },
   {
    "duration": 20,
    "start_time": "2021-08-11T20:17:21.646Z"
   },
   {
    "duration": 1678,
    "start_time": "2021-08-11T20:17:21.667Z"
   },
   {
    "duration": 1743,
    "start_time": "2021-08-11T20:18:16.965Z"
   },
   {
    "duration": 1761,
    "start_time": "2021-08-11T20:18:33.236Z"
   },
   {
    "duration": 1610,
    "start_time": "2021-08-11T20:18:44.747Z"
   },
   {
    "duration": 1709,
    "start_time": "2021-08-11T20:19:02.641Z"
   },
   {
    "duration": 1671,
    "start_time": "2021-08-11T20:19:16.096Z"
   },
   {
    "duration": 1323,
    "start_time": "2021-08-11T20:19:33.955Z"
   },
   {
    "duration": 1727,
    "start_time": "2021-08-11T20:20:38.265Z"
   },
   {
    "duration": 2893,
    "start_time": "2021-08-11T20:22:54.369Z"
   },
   {
    "duration": 2709,
    "start_time": "2021-08-11T20:24:55.213Z"
   },
   {
    "duration": 2884,
    "start_time": "2021-08-11T20:29:08.145Z"
   },
   {
    "duration": 2736,
    "start_time": "2021-08-11T20:29:37.935Z"
   },
   {
    "duration": 2785,
    "start_time": "2021-08-11T20:29:59.135Z"
   },
   {
    "duration": 1480,
    "start_time": "2021-08-11T20:32:57.625Z"
   },
   {
    "duration": 462,
    "start_time": "2021-08-11T20:42:40.802Z"
   },
   {
    "duration": 6598,
    "start_time": "2021-08-11T20:43:04.146Z"
   },
   {
    "duration": 81,
    "start_time": "2021-08-11T20:46:03.990Z"
   },
   {
    "duration": 487,
    "start_time": "2021-08-11T20:46:07.623Z"
   },
   {
    "duration": 437,
    "start_time": "2021-08-11T20:46:31.875Z"
   },
   {
    "duration": 1550,
    "start_time": "2021-08-11T20:46:57.329Z"
   },
   {
    "duration": 1398,
    "start_time": "2021-08-11T20:49:55.938Z"
   },
   {
    "duration": 1296,
    "start_time": "2021-08-11T20:50:15.854Z"
   },
   {
    "duration": 6,
    "start_time": "2021-08-11T21:33:53.188Z"
   },
   {
    "duration": 336,
    "start_time": "2021-08-11T21:35:39.803Z"
   },
   {
    "duration": 1726,
    "start_time": "2021-08-11T21:56:44.419Z"
   },
   {
    "duration": 1803,
    "start_time": "2021-08-11T21:57:10.114Z"
   },
   {
    "duration": 1804,
    "start_time": "2021-08-11T22:00:01.470Z"
   },
   {
    "duration": 1828,
    "start_time": "2021-08-11T22:00:05.423Z"
   },
   {
    "duration": 1701,
    "start_time": "2021-08-11T22:00:29.140Z"
   },
   {
    "duration": 1636,
    "start_time": "2021-08-11T22:00:37.281Z"
   },
   {
    "duration": 1597,
    "start_time": "2021-08-11T22:04:31.642Z"
   },
   {
    "duration": 1308,
    "start_time": "2021-08-11T22:07:42.092Z"
   },
   {
    "duration": 450,
    "start_time": "2021-08-11T22:08:28.412Z"
   },
   {
    "duration": 875,
    "start_time": "2021-08-11T22:27:37.894Z"
   },
   {
    "duration": 876,
    "start_time": "2021-08-11T22:28:20.951Z"
   },
   {
    "duration": 859,
    "start_time": "2021-08-11T22:30:10.369Z"
   },
   {
    "duration": 1023,
    "start_time": "2021-08-11T22:36:20.971Z"
   },
   {
    "duration": 985,
    "start_time": "2021-08-11T22:38:04.649Z"
   },
   {
    "duration": 1789,
    "start_time": "2021-08-11T22:41:25.353Z"
   },
   {
    "duration": 691,
    "start_time": "2021-08-11T22:59:20.731Z"
   },
   {
    "duration": 1720,
    "start_time": "2021-08-11T22:59:58.844Z"
   },
   {
    "duration": 1663,
    "start_time": "2021-08-11T23:00:56.010Z"
   },
   {
    "duration": 1801,
    "start_time": "2021-08-11T23:01:01.587Z"
   },
   {
    "duration": 323,
    "start_time": "2021-08-12T13:24:22.048Z"
   },
   {
    "duration": 1729,
    "start_time": "2021-08-12T13:24:33.127Z"
   },
   {
    "duration": 19,
    "start_time": "2021-08-12T13:24:34.859Z"
   },
   {
    "duration": 30,
    "start_time": "2021-08-12T13:24:34.881Z"
   },
   {
    "duration": 21,
    "start_time": "2021-08-12T13:24:34.914Z"
   },
   {
    "duration": 22,
    "start_time": "2021-08-12T13:24:34.954Z"
   },
   {
    "duration": 158,
    "start_time": "2021-08-12T13:24:34.978Z"
   },
   {
    "duration": 46,
    "start_time": "2021-08-12T13:24:35.138Z"
   },
   {
    "duration": 79,
    "start_time": "2021-08-12T13:24:35.188Z"
   },
   {
    "duration": 10,
    "start_time": "2021-08-12T13:24:35.270Z"
   },
   {
    "duration": 72,
    "start_time": "2021-08-12T13:24:35.282Z"
   },
   {
    "duration": 37,
    "start_time": "2021-08-12T13:24:35.357Z"
   },
   {
    "duration": 29,
    "start_time": "2021-08-12T13:24:35.396Z"
   },
   {
    "duration": 53,
    "start_time": "2021-08-12T13:24:35.428Z"
   },
   {
    "duration": 2426,
    "start_time": "2021-08-12T13:24:35.484Z"
   },
   {
    "duration": 57,
    "start_time": "2021-08-12T13:24:37.913Z"
   },
   {
    "duration": 3111,
    "start_time": "2021-08-12T13:24:37.972Z"
   },
   {
    "duration": 598,
    "start_time": "2021-08-12T13:26:18.160Z"
   },
   {
    "duration": 2339,
    "start_time": "2021-08-12T13:26:36.551Z"
   },
   {
    "duration": 2298,
    "start_time": "2021-08-12T13:26:59.352Z"
   },
   {
    "duration": 381,
    "start_time": "2021-08-12T15:16:45.275Z"
   },
   {
    "duration": 6460,
    "start_time": "2021-08-12T15:17:43.891Z"
   },
   {
    "duration": 99,
    "start_time": "2021-08-12T15:19:08.936Z"
   },
   {
    "duration": 8053,
    "start_time": "2021-08-12T15:19:20.011Z"
   },
   {
    "duration": 7228,
    "start_time": "2021-08-12T15:19:58.483Z"
   },
   {
    "duration": 109,
    "start_time": "2021-08-12T15:20:59.598Z"
   },
   {
    "duration": 7600,
    "start_time": "2021-08-12T15:21:16.863Z"
   },
   {
    "duration": 1566,
    "start_time": "2021-08-12T21:02:51.897Z"
   },
   {
    "duration": 18,
    "start_time": "2021-08-12T21:02:53.465Z"
   },
   {
    "duration": 15,
    "start_time": "2021-08-12T21:02:53.487Z"
   },
   {
    "duration": 20,
    "start_time": "2021-08-12T21:02:53.505Z"
   },
   {
    "duration": 22,
    "start_time": "2021-08-12T21:02:53.562Z"
   },
   {
    "duration": 149,
    "start_time": "2021-08-12T21:02:53.587Z"
   },
   {
    "duration": 47,
    "start_time": "2021-08-12T21:02:53.739Z"
   },
   {
    "duration": 84,
    "start_time": "2021-08-12T21:02:53.788Z"
   },
   {
    "duration": 13,
    "start_time": "2021-08-12T21:02:53.877Z"
   },
   {
    "duration": 78,
    "start_time": "2021-08-12T21:02:53.893Z"
   },
   {
    "duration": 39,
    "start_time": "2021-08-12T21:02:53.974Z"
   },
   {
    "duration": 57,
    "start_time": "2021-08-12T21:02:54.016Z"
   },
   {
    "duration": 34,
    "start_time": "2021-08-12T21:02:54.076Z"
   },
   {
    "duration": 2418,
    "start_time": "2021-08-12T21:02:54.113Z"
   },
   {
    "duration": 678,
    "start_time": "2021-08-12T21:02:56.533Z"
   },
   {
    "duration": 2284,
    "start_time": "2021-08-12T21:02:57.213Z"
   },
   {
    "duration": 468,
    "start_time": "2021-08-12T21:02:59.500Z"
   },
   {
    "duration": 349,
    "start_time": "2021-08-12T21:04:54.015Z"
   },
   {
    "duration": 336,
    "start_time": "2021-08-12T21:05:35.309Z"
   },
   {
    "duration": 361,
    "start_time": "2021-08-12T21:09:21.847Z"
   },
   {
    "duration": 26,
    "start_time": "2021-08-12T21:11:09.096Z"
   },
   {
    "duration": 408,
    "start_time": "2021-08-12T21:12:50.722Z"
   },
   {
    "duration": 45,
    "start_time": "2021-08-12T21:17:58.260Z"
   },
   {
    "duration": 409,
    "start_time": "2021-08-12T21:18:04.497Z"
   },
   {
    "duration": 2044,
    "start_time": "2021-08-12T21:18:18.094Z"
   },
   {
    "duration": 35,
    "start_time": "2021-08-12T21:18:20.142Z"
   },
   {
    "duration": 23,
    "start_time": "2021-08-12T21:18:20.181Z"
   },
   {
    "duration": 58,
    "start_time": "2021-08-12T21:18:20.207Z"
   },
   {
    "duration": 30,
    "start_time": "2021-08-12T21:18:20.269Z"
   },
   {
    "duration": 161,
    "start_time": "2021-08-12T21:18:20.302Z"
   },
   {
    "duration": 33,
    "start_time": "2021-08-12T21:18:20.465Z"
   },
   {
    "duration": 77,
    "start_time": "2021-08-12T21:18:20.500Z"
   },
   {
    "duration": 10,
    "start_time": "2021-08-12T21:18:20.581Z"
   },
   {
    "duration": 69,
    "start_time": "2021-08-12T21:18:20.593Z"
   },
   {
    "duration": 39,
    "start_time": "2021-08-12T21:18:20.665Z"
   },
   {
    "duration": 26,
    "start_time": "2021-08-12T21:18:20.707Z"
   },
   {
    "duration": 57,
    "start_time": "2021-08-12T21:18:20.735Z"
   },
   {
    "duration": 2514,
    "start_time": "2021-08-12T21:18:20.794Z"
   },
   {
    "duration": 1022,
    "start_time": "2021-08-12T21:18:23.311Z"
   },
   {
    "duration": 3245,
    "start_time": "2021-08-12T21:18:24.335Z"
   },
   {
    "duration": 669,
    "start_time": "2021-08-12T21:18:27.583Z"
   },
   {
    "duration": 47,
    "start_time": "2021-08-12T21:20:44.552Z"
   },
   {
    "duration": 1674,
    "start_time": "2021-08-12T21:21:57.097Z"
   },
   {
    "duration": 19,
    "start_time": "2021-08-12T21:21:58.773Z"
   },
   {
    "duration": 23,
    "start_time": "2021-08-12T21:21:58.814Z"
   },
   {
    "duration": 42,
    "start_time": "2021-08-12T21:21:58.840Z"
   },
   {
    "duration": 154,
    "start_time": "2021-08-12T21:21:58.885Z"
   },
   {
    "duration": 57,
    "start_time": "2021-08-12T21:21:59.042Z"
   },
   {
    "duration": 88,
    "start_time": "2021-08-12T21:21:59.102Z"
   },
   {
    "duration": 13,
    "start_time": "2021-08-12T21:21:59.193Z"
   },
   {
    "duration": 80,
    "start_time": "2021-08-12T21:21:59.212Z"
   },
   {
    "duration": 42,
    "start_time": "2021-08-12T21:21:59.296Z"
   },
   {
    "duration": 26,
    "start_time": "2021-08-12T21:21:59.362Z"
   },
   {
    "duration": 35,
    "start_time": "2021-08-12T21:21:59.391Z"
   },
   {
    "duration": 2428,
    "start_time": "2021-08-12T21:21:59.461Z"
   },
   {
    "duration": 732,
    "start_time": "2021-08-12T21:22:01.892Z"
   },
   {
    "duration": 2387,
    "start_time": "2021-08-12T21:22:02.626Z"
   },
   {
    "duration": 493,
    "start_time": "2021-08-12T21:22:05.015Z"
   },
   {
    "duration": 78,
    "start_time": "2021-08-12T21:51:23.239Z"
   },
   {
    "duration": 1584,
    "start_time": "2021-08-12T21:51:30.988Z"
   },
   {
    "duration": 19,
    "start_time": "2021-08-12T21:51:32.575Z"
   },
   {
    "duration": 20,
    "start_time": "2021-08-12T21:51:32.597Z"
   },
   {
    "duration": 59,
    "start_time": "2021-08-12T21:51:32.620Z"
   },
   {
    "duration": 209,
    "start_time": "2021-08-12T21:51:32.683Z"
   },
   {
    "duration": 47,
    "start_time": "2021-08-12T21:51:32.895Z"
   },
   {
    "duration": 89,
    "start_time": "2021-08-12T21:51:32.945Z"
   },
   {
    "duration": 14,
    "start_time": "2021-08-12T21:51:33.063Z"
   },
   {
    "duration": 86,
    "start_time": "2021-08-12T21:51:33.080Z"
   },
   {
    "duration": 49,
    "start_time": "2021-08-12T21:51:33.169Z"
   },
   {
    "duration": 59,
    "start_time": "2021-08-12T21:51:33.221Z"
   },
   {
    "duration": 45,
    "start_time": "2021-08-12T21:51:33.284Z"
   },
   {
    "duration": 3950,
    "start_time": "2021-08-12T21:51:33.332Z"
   },
   {
    "duration": 1043,
    "start_time": "2021-08-12T21:51:37.285Z"
   },
   {
    "duration": 2782,
    "start_time": "2021-08-12T21:51:38.331Z"
   },
   {
    "duration": 541,
    "start_time": "2021-08-12T21:51:41.116Z"
   },
   {
    "duration": 472,
    "start_time": "2021-08-12T21:54:31.522Z"
   },
   {
    "duration": 351,
    "start_time": "2021-08-12T21:54:43.567Z"
   },
   {
    "duration": 397,
    "start_time": "2021-08-12T21:56:43.730Z"
   },
   {
    "duration": 1058,
    "start_time": "2021-08-12T22:00:00.822Z"
   },
   {
    "duration": 131,
    "start_time": "2021-08-12T22:01:58.676Z"
   },
   {
    "duration": 2470,
    "start_time": "2021-08-12T22:02:08.987Z"
   },
   {
    "duration": 1066,
    "start_time": "2021-08-12T22:02:53.725Z"
   },
   {
    "duration": 186,
    "start_time": "2021-08-12T22:09:47.471Z"
   },
   {
    "duration": 117,
    "start_time": "2021-08-12T22:19:48.916Z"
   },
   {
    "duration": 1404,
    "start_time": "2021-08-12T22:19:54.437Z"
   },
   {
    "duration": 1109,
    "start_time": "2021-08-12T22:20:11.862Z"
   },
   {
    "duration": 1054,
    "start_time": "2021-08-12T22:21:49.263Z"
   },
   {
    "duration": 1025,
    "start_time": "2021-08-12T22:24:09.931Z"
   },
   {
    "duration": 356,
    "start_time": "2021-08-13T11:52:39.919Z"
   },
   {
    "duration": 1622,
    "start_time": "2021-08-13T11:52:49.003Z"
   },
   {
    "duration": 19,
    "start_time": "2021-08-13T11:52:50.628Z"
   },
   {
    "duration": 30,
    "start_time": "2021-08-13T11:52:50.669Z"
   },
   {
    "duration": 31,
    "start_time": "2021-08-13T11:52:50.703Z"
   },
   {
    "duration": 169,
    "start_time": "2021-08-13T11:52:50.737Z"
   },
   {
    "duration": 34,
    "start_time": "2021-08-13T11:52:50.908Z"
   },
   {
    "duration": 75,
    "start_time": "2021-08-13T11:52:50.945Z"
   },
   {
    "duration": 9,
    "start_time": "2021-08-13T11:52:51.024Z"
   },
   {
    "duration": 87,
    "start_time": "2021-08-13T11:52:51.036Z"
   },
   {
    "duration": 64,
    "start_time": "2021-08-13T11:52:51.126Z"
   },
   {
    "duration": 25,
    "start_time": "2021-08-13T11:52:51.193Z"
   },
   {
    "duration": 60,
    "start_time": "2021-08-13T11:52:51.220Z"
   },
   {
    "duration": 2598,
    "start_time": "2021-08-13T11:52:51.283Z"
   },
   {
    "duration": 826,
    "start_time": "2021-08-13T11:52:53.884Z"
   },
   {
    "duration": 2351,
    "start_time": "2021-08-13T11:52:54.712Z"
   },
   {
    "duration": 1060,
    "start_time": "2021-08-13T11:52:57.065Z"
   },
   {
    "duration": 17,
    "start_time": "2021-08-13T11:52:58.128Z"
   },
   {
    "duration": 22,
    "start_time": "2021-08-13T11:53:22.253Z"
   },
   {
    "duration": 587,
    "start_time": "2021-08-13T12:25:56.702Z"
   },
   {
    "duration": 354,
    "start_time": "2021-08-13T12:26:32.475Z"
   },
   {
    "duration": 345,
    "start_time": "2021-08-13T12:35:06.527Z"
   },
   {
    "duration": 14,
    "start_time": "2021-08-13T13:05:44.752Z"
   },
   {
    "duration": 574,
    "start_time": "2021-08-13T13:09:24.305Z"
   },
   {
    "duration": 525,
    "start_time": "2021-08-13T13:09:49.808Z"
   },
   {
    "duration": 722,
    "start_time": "2021-08-13T13:12:06.876Z"
   },
   {
    "duration": 1142,
    "start_time": "2021-08-13T13:12:24.446Z"
   },
   {
    "duration": 813,
    "start_time": "2021-08-13T13:22:25.315Z"
   },
   {
    "duration": 819,
    "start_time": "2021-08-13T13:24:01.655Z"
   },
   {
    "duration": 457,
    "start_time": "2021-08-13T13:25:31.287Z"
   },
   {
    "duration": 444,
    "start_time": "2021-08-13T13:30:02.026Z"
   },
   {
    "duration": 468,
    "start_time": "2021-08-13T13:39:45.327Z"
   },
   {
    "duration": 447,
    "start_time": "2021-08-13T14:27:38.891Z"
   },
   {
    "duration": 555,
    "start_time": "2021-08-13T14:28:08.801Z"
   },
   {
    "duration": 578,
    "start_time": "2021-08-13T14:28:18.399Z"
   },
   {
    "duration": 8965,
    "start_time": "2021-08-13T15:26:58.833Z"
   },
   {
    "duration": 976,
    "start_time": "2021-08-13T15:27:51.176Z"
   },
   {
    "duration": 749,
    "start_time": "2021-08-13T15:37:42.769Z"
   },
   {
    "duration": 1018,
    "start_time": "2021-08-13T15:39:21.512Z"
   },
   {
    "duration": 946,
    "start_time": "2021-08-13T15:40:08.181Z"
   },
   {
    "duration": 829,
    "start_time": "2021-08-13T15:41:34.596Z"
   },
   {
    "duration": 684,
    "start_time": "2021-08-13T16:00:21.148Z"
   },
   {
    "duration": 754,
    "start_time": "2021-08-13T16:00:55.376Z"
   },
   {
    "duration": 781,
    "start_time": "2021-08-13T16:02:32.573Z"
   },
   {
    "duration": 761,
    "start_time": "2021-08-13T16:02:53.207Z"
   },
   {
    "duration": 746,
    "start_time": "2021-08-13T16:03:51.041Z"
   },
   {
    "duration": 862,
    "start_time": "2021-08-13T16:04:25.387Z"
   },
   {
    "duration": 1231,
    "start_time": "2021-08-13T16:04:29.289Z"
   },
   {
    "duration": 866,
    "start_time": "2021-08-13T16:04:34.014Z"
   },
   {
    "duration": 878,
    "start_time": "2021-08-13T16:06:29.206Z"
   },
   {
    "duration": 1193,
    "start_time": "2021-08-13T16:10:58.730Z"
   },
   {
    "duration": 880,
    "start_time": "2021-08-13T16:12:19.725Z"
   },
   {
    "duration": 765,
    "start_time": "2021-08-13T16:13:02.607Z"
   },
   {
    "duration": 759,
    "start_time": "2021-08-13T16:46:05.320Z"
   },
   {
    "duration": 938,
    "start_time": "2021-08-13T16:47:01.689Z"
   },
   {
    "duration": 46,
    "start_time": "2021-08-13T17:19:42.656Z"
   },
   {
    "duration": 16,
    "start_time": "2021-08-13T17:36:19.869Z"
   },
   {
    "duration": 17,
    "start_time": "2021-08-13T17:47:37.749Z"
   },
   {
    "duration": 20,
    "start_time": "2021-08-13T17:50:54.216Z"
   },
   {
    "duration": 928,
    "start_time": "2021-08-13T18:31:01.477Z"
   },
   {
    "duration": 8096,
    "start_time": "2021-08-13T18:41:44.665Z"
   },
   {
    "duration": 8511,
    "start_time": "2021-08-13T18:42:22.596Z"
   },
   {
    "duration": 8686,
    "start_time": "2021-08-13T18:48:52.574Z"
   },
   {
    "duration": 1681,
    "start_time": "2021-08-13T18:51:09.858Z"
   },
   {
    "duration": 41,
    "start_time": "2021-08-13T18:51:11.542Z"
   },
   {
    "duration": 18,
    "start_time": "2021-08-13T18:51:11.586Z"
   },
   {
    "duration": 20,
    "start_time": "2021-08-13T18:51:11.607Z"
   },
   {
    "duration": 58,
    "start_time": "2021-08-13T18:51:11.629Z"
   },
   {
    "duration": 143,
    "start_time": "2021-08-13T18:51:11.690Z"
   },
   {
    "duration": 49,
    "start_time": "2021-08-13T18:51:11.835Z"
   },
   {
    "duration": 51,
    "start_time": "2021-08-13T18:51:11.887Z"
   },
   {
    "duration": 12,
    "start_time": "2021-08-13T18:51:11.966Z"
   },
   {
    "duration": 45,
    "start_time": "2021-08-13T18:51:11.980Z"
   },
   {
    "duration": 85,
    "start_time": "2021-08-13T18:51:12.028Z"
   },
   {
    "duration": 57,
    "start_time": "2021-08-13T18:51:12.116Z"
   },
   {
    "duration": 50,
    "start_time": "2021-08-13T18:51:12.177Z"
   },
   {
    "duration": 3002,
    "start_time": "2021-08-13T18:51:12.230Z"
   },
   {
    "duration": 706,
    "start_time": "2021-08-13T18:51:15.235Z"
   },
   {
    "duration": 2326,
    "start_time": "2021-08-13T18:51:15.943Z"
   },
   {
    "duration": 1008,
    "start_time": "2021-08-13T18:51:18.272Z"
   },
   {
    "duration": 377,
    "start_time": "2021-08-13T18:51:19.282Z"
   },
   {
    "duration": 529,
    "start_time": "2021-08-13T18:51:19.661Z"
   },
   {
    "duration": 520,
    "start_time": "2021-08-13T18:51:20.193Z"
   },
   {
    "duration": 769,
    "start_time": "2021-08-13T18:51:20.716Z"
   },
   {
    "duration": 16,
    "start_time": "2021-08-13T18:51:21.488Z"
   },
   {
    "duration": 65,
    "start_time": "2021-08-13T18:51:21.507Z"
   },
   {
    "duration": 96,
    "start_time": "2021-08-13T18:51:21.575Z"
   },
   {
    "duration": 2564,
    "start_time": "2021-08-13T18:55:18.812Z"
   },
   {
    "duration": 103,
    "start_time": "2021-08-14T12:42:51.239Z"
   },
   {
    "duration": -2523,
    "start_time": "2021-08-14T13:14:04.672Z"
   },
   {
    "duration": -2534,
    "start_time": "2021-08-14T13:14:04.684Z"
   },
   {
    "duration": -2752,
    "start_time": "2021-08-14T13:14:07.740Z"
   },
   {
    "duration": -2756,
    "start_time": "2021-08-14T13:14:07.746Z"
   },
   {
    "duration": -2758,
    "start_time": "2021-08-14T13:14:07.750Z"
   },
   {
    "duration": -2698,
    "start_time": "2021-08-14T13:14:07.754Z"
   },
   {
    "duration": -2700,
    "start_time": "2021-08-14T13:14:07.757Z"
   },
   {
    "duration": -2706,
    "start_time": "2021-08-14T13:14:07.765Z"
   },
   {
    "duration": -2707,
    "start_time": "2021-08-14T13:14:07.768Z"
   },
   {
    "duration": -2707,
    "start_time": "2021-08-14T13:14:07.770Z"
   },
   {
    "duration": -2708,
    "start_time": "2021-08-14T13:14:07.772Z"
   },
   {
    "duration": -2710,
    "start_time": "2021-08-14T13:14:07.775Z"
   },
   {
    "duration": -2711,
    "start_time": "2021-08-14T13:14:07.777Z"
   },
   {
    "duration": -2716,
    "start_time": "2021-08-14T13:14:07.784Z"
   },
   {
    "duration": -2716,
    "start_time": "2021-08-14T13:14:07.786Z"
   },
   {
    "duration": -2717,
    "start_time": "2021-08-14T13:14:07.789Z"
   },
   {
    "duration": -2718,
    "start_time": "2021-08-14T13:14:07.791Z"
   },
   {
    "duration": -2719,
    "start_time": "2021-08-14T13:14:07.794Z"
   },
   {
    "duration": -2719,
    "start_time": "2021-08-14T13:14:07.796Z"
   },
   {
    "duration": -2723,
    "start_time": "2021-08-14T13:14:07.802Z"
   },
   {
    "duration": -2723,
    "start_time": "2021-08-14T13:14:07.805Z"
   },
   {
    "duration": -2723,
    "start_time": "2021-08-14T13:14:07.807Z"
   },
   {
    "duration": -2724,
    "start_time": "2021-08-14T13:14:07.810Z"
   },
   {
    "duration": -2724,
    "start_time": "2021-08-14T13:14:07.812Z"
   },
   {
    "duration": -2723,
    "start_time": "2021-08-14T13:14:07.813Z"
   },
   {
    "duration": -2661,
    "start_time": "2021-08-14T13:14:07.816Z"
   },
   {
    "duration": -2661,
    "start_time": "2021-08-14T13:14:07.818Z"
   },
   {
    "duration": 1449,
    "start_time": "2021-08-14T13:22:36.592Z"
   },
   {
    "duration": 42,
    "start_time": "2021-08-14T13:22:38.044Z"
   },
   {
    "duration": 19,
    "start_time": "2021-08-14T13:22:38.090Z"
   },
   {
    "duration": 406,
    "start_time": "2021-08-14T13:22:38.113Z"
   },
   {
    "duration": -2596,
    "start_time": "2021-08-14T13:22:41.120Z"
   },
   {
    "duration": -2601,
    "start_time": "2021-08-14T13:22:41.127Z"
   },
   {
    "duration": -2604,
    "start_time": "2021-08-14T13:22:41.132Z"
   },
   {
    "duration": -2607,
    "start_time": "2021-08-14T13:22:41.137Z"
   },
   {
    "duration": -2681,
    "start_time": "2021-08-14T13:22:41.213Z"
   },
   {
    "duration": -2715,
    "start_time": "2021-08-14T13:22:41.249Z"
   },
   {
    "duration": -2720,
    "start_time": "2021-08-14T13:22:41.256Z"
   },
   {
    "duration": -2725,
    "start_time": "2021-08-14T13:22:41.263Z"
   },
   {
    "duration": -2729,
    "start_time": "2021-08-14T13:22:41.269Z"
   },
   {
    "duration": -2731,
    "start_time": "2021-08-14T13:22:41.273Z"
   },
   {
    "duration": -2733,
    "start_time": "2021-08-14T13:22:41.277Z"
   },
   {
    "duration": -2732,
    "start_time": "2021-08-14T13:22:41.279Z"
   },
   {
    "duration": -2733,
    "start_time": "2021-08-14T13:22:41.282Z"
   },
   {
    "duration": -2733,
    "start_time": "2021-08-14T13:22:41.284Z"
   },
   {
    "duration": -2734,
    "start_time": "2021-08-14T13:22:41.287Z"
   },
   {
    "duration": -2734,
    "start_time": "2021-08-14T13:22:41.289Z"
   },
   {
    "duration": -2750,
    "start_time": "2021-08-14T13:22:41.307Z"
   },
   {
    "duration": -2751,
    "start_time": "2021-08-14T13:22:41.310Z"
   },
   {
    "duration": -2751,
    "start_time": "2021-08-14T13:22:41.312Z"
   },
   {
    "duration": -2751,
    "start_time": "2021-08-14T13:22:41.314Z"
   },
   {
    "duration": -2751,
    "start_time": "2021-08-14T13:22:41.316Z"
   },
   {
    "duration": 20,
    "start_time": "2021-08-14T13:22:55.210Z"
   },
   {
    "duration": 22,
    "start_time": "2021-08-14T13:22:55.855Z"
   },
   {
    "duration": 123,
    "start_time": "2021-08-14T13:22:56.280Z"
   },
   {
    "duration": 8,
    "start_time": "2021-08-14T13:22:56.641Z"
   },
   {
    "duration": 34,
    "start_time": "2021-08-14T13:23:10.925Z"
   },
   {
    "duration": 1492,
    "start_time": "2021-08-14T13:23:58.236Z"
   },
   {
    "duration": 44,
    "start_time": "2021-08-14T13:23:59.731Z"
   },
   {
    "duration": 18,
    "start_time": "2021-08-14T13:23:59.778Z"
   },
   {
    "duration": 422,
    "start_time": "2021-08-14T13:23:59.798Z"
   },
   {
    "duration": -2771,
    "start_time": "2021-08-14T13:24:02.995Z"
   },
   {
    "duration": -2773,
    "start_time": "2021-08-14T13:24:02.998Z"
   },
   {
    "duration": -2776,
    "start_time": "2021-08-14T13:24:03.002Z"
   },
   {
    "duration": -2778,
    "start_time": "2021-08-14T13:24:03.005Z"
   },
   {
    "duration": -2778,
    "start_time": "2021-08-14T13:24:03.007Z"
   },
   {
    "duration": -2779,
    "start_time": "2021-08-14T13:24:03.009Z"
   },
   {
    "duration": -2782,
    "start_time": "2021-08-14T13:24:03.013Z"
   },
   {
    "duration": -2782,
    "start_time": "2021-08-14T13:24:03.015Z"
   },
   {
    "duration": -2784,
    "start_time": "2021-08-14T13:24:03.018Z"
   },
   {
    "duration": -2786,
    "start_time": "2021-08-14T13:24:03.021Z"
   },
   {
    "duration": -2787,
    "start_time": "2021-08-14T13:24:03.023Z"
   },
   {
    "duration": -2788,
    "start_time": "2021-08-14T13:24:03.025Z"
   },
   {
    "duration": -2788,
    "start_time": "2021-08-14T13:24:03.027Z"
   },
   {
    "duration": -2789,
    "start_time": "2021-08-14T13:24:03.029Z"
   },
   {
    "duration": -2790,
    "start_time": "2021-08-14T13:24:03.031Z"
   },
   {
    "duration": -2792,
    "start_time": "2021-08-14T13:24:03.034Z"
   },
   {
    "duration": -2794,
    "start_time": "2021-08-14T13:24:03.037Z"
   },
   {
    "duration": -2794,
    "start_time": "2021-08-14T13:24:03.039Z"
   },
   {
    "duration": -2795,
    "start_time": "2021-08-14T13:24:03.041Z"
   },
   {
    "duration": -2796,
    "start_time": "2021-08-14T13:24:03.043Z"
   },
   {
    "duration": 20,
    "start_time": "2021-08-14T13:24:27.680Z"
   },
   {
    "duration": 21,
    "start_time": "2021-08-14T13:24:28.471Z"
   },
   {
    "duration": 131,
    "start_time": "2021-08-14T13:24:29.531Z"
   },
   {
    "duration": 35,
    "start_time": "2021-08-14T13:24:30.331Z"
   },
   {
    "duration": 53,
    "start_time": "2021-08-14T13:24:30.981Z"
   },
   {
    "duration": 10,
    "start_time": "2021-08-14T13:24:32.630Z"
   },
   {
    "duration": 45,
    "start_time": "2021-08-14T13:24:42.293Z"
   },
   {
    "duration": 39,
    "start_time": "2021-08-14T13:24:43.201Z"
   },
   {
    "duration": 25,
    "start_time": "2021-08-14T13:24:45.531Z"
   },
   {
    "duration": 32,
    "start_time": "2021-08-14T13:24:46.011Z"
   },
   {
    "duration": 2340,
    "start_time": "2021-08-14T13:24:46.150Z"
   },
   {
    "duration": 699,
    "start_time": "2021-08-14T13:24:48.494Z"
   },
   {
    "duration": 2402,
    "start_time": "2021-08-14T13:24:49.197Z"
   },
   {
    "duration": 1108,
    "start_time": "2021-08-14T13:24:51.601Z"
   },
   {
    "duration": 5,
    "start_time": "2021-08-14T13:24:59.611Z"
   },
   {
    "duration": 118,
    "start_time": "2021-08-14T13:30:10.090Z"
   },
   {
    "duration": 85,
    "start_time": "2021-08-14T13:32:37.221Z"
   },
   {
    "duration": 1102,
    "start_time": "2021-08-14T13:33:31.771Z"
   },
   {
    "duration": 104,
    "start_time": "2021-08-14T13:37:00.525Z"
   },
   {
    "duration": 92,
    "start_time": "2021-08-14T13:40:45.294Z"
   },
   {
    "duration": 91,
    "start_time": "2021-08-14T13:45:41.330Z"
   },
   {
    "duration": 344,
    "start_time": "2021-08-14T13:52:17.900Z"
   },
   {
    "duration": 443,
    "start_time": "2021-08-14T13:52:18.810Z"
   },
   {
    "duration": 492,
    "start_time": "2021-08-14T13:52:19.257Z"
   },
   {
    "duration": 806,
    "start_time": "2021-08-14T13:52:19.757Z"
   },
   {
    "duration": 16,
    "start_time": "2021-08-14T13:52:20.565Z"
   },
   {
    "duration": 17,
    "start_time": "2021-08-14T13:52:21.290Z"
   },
   {
    "duration": 96,
    "start_time": "2021-08-14T13:57:57.081Z"
   },
   {
    "duration": 1597,
    "start_time": "2021-08-14T14:12:15.852Z"
   },
   {
    "duration": 40,
    "start_time": "2021-08-14T14:12:17.453Z"
   },
   {
    "duration": 19,
    "start_time": "2021-08-14T14:12:17.497Z"
   },
   {
    "duration": 450,
    "start_time": "2021-08-14T14:12:17.518Z"
   },
   {
    "duration": -2755,
    "start_time": "2021-08-14T14:12:20.726Z"
   },
   {
    "duration": -2757,
    "start_time": "2021-08-14T14:12:20.730Z"
   },
   {
    "duration": -2758,
    "start_time": "2021-08-14T14:12:20.733Z"
   },
   {
    "duration": -2760,
    "start_time": "2021-08-14T14:12:20.736Z"
   },
   {
    "duration": -2762,
    "start_time": "2021-08-14T14:12:20.740Z"
   },
   {
    "duration": -2763,
    "start_time": "2021-08-14T14:12:20.743Z"
   },
   {
    "duration": -2764,
    "start_time": "2021-08-14T14:12:20.746Z"
   },
   {
    "duration": -2766,
    "start_time": "2021-08-14T14:12:20.749Z"
   },
   {
    "duration": -2766,
    "start_time": "2021-08-14T14:12:20.751Z"
   },
   {
    "duration": -2768,
    "start_time": "2021-08-14T14:12:20.754Z"
   },
   {
    "duration": -2771,
    "start_time": "2021-08-14T14:12:20.758Z"
   },
   {
    "duration": -2773,
    "start_time": "2021-08-14T14:12:20.761Z"
   },
   {
    "duration": -2774,
    "start_time": "2021-08-14T14:12:20.763Z"
   },
   {
    "duration": -2775,
    "start_time": "2021-08-14T14:12:20.766Z"
   },
   {
    "duration": -2776,
    "start_time": "2021-08-14T14:12:20.768Z"
   },
   {
    "duration": -2778,
    "start_time": "2021-08-14T14:12:20.771Z"
   },
   {
    "duration": -2782,
    "start_time": "2021-08-14T14:12:20.776Z"
   },
   {
    "duration": -2782,
    "start_time": "2021-08-14T14:12:20.778Z"
   },
   {
    "duration": -2784,
    "start_time": "2021-08-14T14:12:20.781Z"
   },
   {
    "duration": -2786,
    "start_time": "2021-08-14T14:12:20.784Z"
   },
   {
    "duration": 28,
    "start_time": "2021-08-14T14:12:25.768Z"
   },
   {
    "duration": 4,
    "start_time": "2021-08-14T14:12:34.121Z"
   },
   {
    "duration": 19,
    "start_time": "2021-08-14T14:12:41.698Z"
   },
   {
    "duration": 22,
    "start_time": "2021-08-14T14:12:42.298Z"
   },
   {
    "duration": 121,
    "start_time": "2021-08-14T14:12:42.878Z"
   },
   {
    "duration": 31,
    "start_time": "2021-08-14T14:12:43.002Z"
   },
   {
    "duration": 71,
    "start_time": "2021-08-14T14:12:43.036Z"
   },
   {
    "duration": 10,
    "start_time": "2021-08-14T14:12:43.110Z"
   },
   {
    "duration": 61,
    "start_time": "2021-08-14T14:12:43.137Z"
   },
   {
    "duration": 49,
    "start_time": "2021-08-14T14:12:43.208Z"
   },
   {
    "duration": 24,
    "start_time": "2021-08-14T14:12:43.400Z"
   },
   {
    "duration": 33,
    "start_time": "2021-08-14T14:12:43.537Z"
   },
   {
    "duration": 2473,
    "start_time": "2021-08-14T14:12:43.617Z"
   },
   {
    "duration": 682,
    "start_time": "2021-08-14T14:12:46.093Z"
   },
   {
    "duration": 2277,
    "start_time": "2021-08-14T14:12:46.778Z"
   },
   {
    "duration": 1038,
    "start_time": "2021-08-14T14:12:49.059Z"
   },
   {
    "duration": 384,
    "start_time": "2021-08-14T14:12:50.099Z"
   },
   {
    "duration": 578,
    "start_time": "2021-08-14T14:12:50.486Z"
   },
   {
    "duration": 588,
    "start_time": "2021-08-14T14:12:51.067Z"
   },
   {
    "duration": 1006,
    "start_time": "2021-08-14T14:12:51.660Z"
   },
   {
    "duration": 15,
    "start_time": "2021-08-14T14:12:52.669Z"
   },
   {
    "duration": 31,
    "start_time": "2021-08-14T14:12:52.686Z"
   },
   {
    "duration": 1448,
    "start_time": "2021-08-14T14:13:12.778Z"
   },
   {
    "duration": 40,
    "start_time": "2021-08-14T14:13:14.229Z"
   },
   {
    "duration": 18,
    "start_time": "2021-08-14T14:13:14.272Z"
   },
   {
    "duration": 424,
    "start_time": "2021-08-14T14:13:14.293Z"
   },
   {
    "duration": -2609,
    "start_time": "2021-08-14T14:13:17.330Z"
   },
   {
    "duration": -2611,
    "start_time": "2021-08-14T14:13:17.333Z"
   },
   {
    "duration": -2612,
    "start_time": "2021-08-14T14:13:17.335Z"
   },
   {
    "duration": -2614,
    "start_time": "2021-08-14T14:13:17.338Z"
   },
   {
    "duration": -2614,
    "start_time": "2021-08-14T14:13:17.340Z"
   },
   {
    "duration": -2616,
    "start_time": "2021-08-14T14:13:17.343Z"
   },
   {
    "duration": -2617,
    "start_time": "2021-08-14T14:13:17.345Z"
   },
   {
    "duration": -2619,
    "start_time": "2021-08-14T14:13:17.348Z"
   },
   {
    "duration": -2621,
    "start_time": "2021-08-14T14:13:17.351Z"
   },
   {
    "duration": -2621,
    "start_time": "2021-08-14T14:13:17.353Z"
   },
   {
    "duration": -2622,
    "start_time": "2021-08-14T14:13:17.355Z"
   },
   {
    "duration": -2623,
    "start_time": "2021-08-14T14:13:17.357Z"
   },
   {
    "duration": -2625,
    "start_time": "2021-08-14T14:13:17.360Z"
   },
   {
    "duration": -2625,
    "start_time": "2021-08-14T14:13:17.362Z"
   },
   {
    "duration": -2626,
    "start_time": "2021-08-14T14:13:17.364Z"
   },
   {
    "duration": -2628,
    "start_time": "2021-08-14T14:13:17.367Z"
   },
   {
    "duration": -2629,
    "start_time": "2021-08-14T14:13:17.369Z"
   },
   {
    "duration": -2631,
    "start_time": "2021-08-14T14:13:17.372Z"
   },
   {
    "duration": -2632,
    "start_time": "2021-08-14T14:13:17.374Z"
   },
   {
    "duration": -2632,
    "start_time": "2021-08-14T14:13:17.376Z"
   },
   {
    "duration": 20,
    "start_time": "2021-08-14T14:13:21.019Z"
   },
   {
    "duration": 22,
    "start_time": "2021-08-14T14:13:22.260Z"
   },
   {
    "duration": 131,
    "start_time": "2021-08-14T14:13:23.688Z"
   },
   {
    "duration": 33,
    "start_time": "2021-08-14T14:13:24.769Z"
   },
   {
    "duration": 48,
    "start_time": "2021-08-14T14:13:25.419Z"
   },
   {
    "duration": 14,
    "start_time": "2021-08-14T14:13:27.119Z"
   },
   {
    "duration": 42,
    "start_time": "2021-08-14T14:13:28.699Z"
   },
   {
    "duration": 36,
    "start_time": "2021-08-14T14:13:29.769Z"
   },
   {
    "duration": 25,
    "start_time": "2021-08-14T14:13:32.669Z"
   },
   {
    "duration": 34,
    "start_time": "2021-08-14T14:13:35.079Z"
   },
   {
    "duration": 2462,
    "start_time": "2021-08-14T14:13:36.129Z"
   },
   {
    "duration": 676,
    "start_time": "2021-08-14T14:13:38.798Z"
   },
   {
    "duration": 2179,
    "start_time": "2021-08-14T14:13:40.969Z"
   },
   {
    "duration": 1041,
    "start_time": "2021-08-14T14:13:43.155Z"
   },
   {
    "duration": 364,
    "start_time": "2021-08-14T14:13:45.649Z"
   },
   {
    "duration": 442,
    "start_time": "2021-08-14T14:13:48.479Z"
   },
   {
    "duration": 491,
    "start_time": "2021-08-14T14:13:55.739Z"
   },
   {
    "duration": 750,
    "start_time": "2021-08-14T14:14:10.829Z"
   },
   {
    "duration": 17,
    "start_time": "2021-08-14T14:14:18.729Z"
   },
   {
    "duration": 16,
    "start_time": "2021-08-14T14:14:20.099Z"
   },
   {
    "duration": 5,
    "start_time": "2021-08-14T14:15:26.439Z"
   },
   {
    "duration": 309,
    "start_time": "2021-08-14T14:26:43.285Z"
   },
   {
    "duration": 1570,
    "start_time": "2021-08-14T14:26:54.464Z"
   },
   {
    "duration": 34,
    "start_time": "2021-08-14T14:26:56.036Z"
   },
   {
    "duration": 18,
    "start_time": "2021-08-14T14:26:56.073Z"
   },
   {
    "duration": 577,
    "start_time": "2021-08-14T14:26:56.093Z"
   },
   {
    "duration": 2356,
    "start_time": "2021-08-14T14:26:54.317Z"
   },
   {
    "duration": 2354,
    "start_time": "2021-08-14T14:26:54.320Z"
   },
   {
    "duration": 2353,
    "start_time": "2021-08-14T14:26:54.323Z"
   },
   {
    "duration": 2352,
    "start_time": "2021-08-14T14:26:54.325Z"
   },
   {
    "duration": 2351,
    "start_time": "2021-08-14T14:26:54.327Z"
   },
   {
    "duration": 2350,
    "start_time": "2021-08-14T14:26:54.330Z"
   },
   {
    "duration": 2349,
    "start_time": "2021-08-14T14:26:54.332Z"
   },
   {
    "duration": 2347,
    "start_time": "2021-08-14T14:26:54.335Z"
   },
   {
    "duration": 2213,
    "start_time": "2021-08-14T14:26:54.470Z"
   },
   {
    "duration": 2210,
    "start_time": "2021-08-14T14:26:54.475Z"
   },
   {
    "duration": 2208,
    "start_time": "2021-08-14T14:26:54.478Z"
   },
   {
    "duration": 2207,
    "start_time": "2021-08-14T14:26:54.480Z"
   },
   {
    "duration": 2206,
    "start_time": "2021-08-14T14:26:54.482Z"
   },
   {
    "duration": 2206,
    "start_time": "2021-08-14T14:26:54.484Z"
   },
   {
    "duration": 2203,
    "start_time": "2021-08-14T14:26:54.488Z"
   },
   {
    "duration": 2201,
    "start_time": "2021-08-14T14:26:54.491Z"
   },
   {
    "duration": 2200,
    "start_time": "2021-08-14T14:26:54.494Z"
   },
   {
    "duration": 2199,
    "start_time": "2021-08-14T14:26:54.496Z"
   },
   {
    "duration": 2198,
    "start_time": "2021-08-14T14:26:54.499Z"
   },
   {
    "duration": 2196,
    "start_time": "2021-08-14T14:26:54.502Z"
   },
   {
    "duration": 6,
    "start_time": "2021-08-14T14:27:21.324Z"
   },
   {
    "duration": 1445,
    "start_time": "2021-08-14T14:27:45.325Z"
   },
   {
    "duration": 43,
    "start_time": "2021-08-14T14:27:46.773Z"
   },
   {
    "duration": 19,
    "start_time": "2021-08-14T14:27:46.820Z"
   },
   {
    "duration": 13,
    "start_time": "2021-08-14T14:27:46.842Z"
   },
   {
    "duration": 32,
    "start_time": "2021-08-14T14:27:46.857Z"
   },
   {
    "duration": 33,
    "start_time": "2021-08-14T14:27:46.891Z"
   },
   {
    "duration": 136,
    "start_time": "2021-08-14T14:27:46.926Z"
   },
   {
    "duration": 54,
    "start_time": "2021-08-14T14:27:47.065Z"
   },
   {
    "duration": 49,
    "start_time": "2021-08-14T14:27:47.123Z"
   },
   {
    "duration": 33,
    "start_time": "2021-08-14T14:27:47.175Z"
   },
   {
    "duration": 42,
    "start_time": "2021-08-14T14:27:47.210Z"
   },
   {
    "duration": 70,
    "start_time": "2021-08-14T14:27:47.254Z"
   },
   {
    "duration": 25,
    "start_time": "2021-08-14T14:27:47.327Z"
   },
   {
    "duration": 61,
    "start_time": "2021-08-14T14:27:47.355Z"
   },
   {
    "duration": 2307,
    "start_time": "2021-08-14T14:27:47.420Z"
   },
   {
    "duration": 683,
    "start_time": "2021-08-14T14:27:49.730Z"
   },
   {
    "duration": 2215,
    "start_time": "2021-08-14T14:27:50.415Z"
   },
   {
    "duration": 1038,
    "start_time": "2021-08-14T14:27:52.633Z"
   },
   {
    "duration": 345,
    "start_time": "2021-08-14T14:27:53.673Z"
   },
   {
    "duration": 452,
    "start_time": "2021-08-14T14:27:54.021Z"
   },
   {
    "duration": 476,
    "start_time": "2021-08-14T14:27:54.476Z"
   },
   {
    "duration": 805,
    "start_time": "2021-08-14T14:27:54.955Z"
   },
   {
    "duration": 14,
    "start_time": "2021-08-14T14:27:55.763Z"
   },
   {
    "duration": 15,
    "start_time": "2021-08-14T14:27:55.802Z"
   },
   {
    "duration": 46,
    "start_time": "2021-08-14T14:40:23.387Z"
   },
   {
    "duration": 349,
    "start_time": "2021-08-14T14:43:32.823Z"
   },
   {
    "duration": 343,
    "start_time": "2021-08-14T14:43:42.857Z"
   },
   {
    "duration": 450,
    "start_time": "2021-08-14T14:43:59.450Z"
   },
   {
    "duration": 399,
    "start_time": "2021-08-14T14:46:36.871Z"
   },
   {
    "duration": 31,
    "start_time": "2021-08-14T14:58:26.944Z"
   },
   {
    "duration": 345,
    "start_time": "2021-08-14T15:08:00.386Z"
   },
   {
    "duration": 2450,
    "start_time": "2021-08-14T16:31:14.852Z"
   },
   {
    "duration": 3833,
    "start_time": "2021-08-14T16:41:44.350Z"
   },
   {
    "duration": 4733,
    "start_time": "2021-08-14T16:42:13.975Z"
   },
   {
    "duration": 4110,
    "start_time": "2021-08-14T16:43:10.065Z"
   },
   {
    "duration": 6439,
    "start_time": "2021-08-14T16:43:39.668Z"
   },
   {
    "duration": 4024,
    "start_time": "2021-08-14T16:44:06.822Z"
   },
   {
    "duration": 4292,
    "start_time": "2021-08-14T16:44:15.453Z"
   },
   {
    "duration": 3966,
    "start_time": "2021-08-14T16:44:59.770Z"
   },
   {
    "duration": 2293,
    "start_time": "2021-08-14T16:45:22.222Z"
   },
   {
    "duration": 2078,
    "start_time": "2021-08-14T16:45:49.625Z"
   },
   {
    "duration": 2164,
    "start_time": "2021-08-14T16:46:44.208Z"
   },
   {
    "duration": 613,
    "start_time": "2021-08-14T16:58:03.708Z"
   },
   {
    "duration": 737,
    "start_time": "2021-08-14T17:01:21.320Z"
   },
   {
    "duration": 292,
    "start_time": "2021-08-14T17:15:36.495Z"
   },
   {
    "duration": 329,
    "start_time": "2021-08-14T17:16:08.464Z"
   },
   {
    "duration": 312,
    "start_time": "2021-08-14T17:17:26.767Z"
   },
   {
    "duration": 321,
    "start_time": "2021-08-14T17:17:33.906Z"
   },
   {
    "duration": 833,
    "start_time": "2021-08-14T17:17:53.420Z"
   },
   {
    "duration": 855,
    "start_time": "2021-08-14T17:18:55.970Z"
   },
   {
    "duration": 292,
    "start_time": "2021-08-14T17:21:22.083Z"
   },
   {
    "duration": 287,
    "start_time": "2021-08-14T17:21:34.822Z"
   },
   {
    "duration": 320,
    "start_time": "2021-08-14T17:21:54.618Z"
   },
   {
    "duration": 481,
    "start_time": "2021-08-14T17:22:18.025Z"
   },
   {
    "duration": 37,
    "start_time": "2021-08-14T17:24:24.410Z"
   },
   {
    "duration": 39,
    "start_time": "2021-08-14T17:24:40.937Z"
   },
   {
    "duration": 733,
    "start_time": "2021-08-14T17:25:52.554Z"
   },
   {
    "duration": 819,
    "start_time": "2021-08-14T17:25:57.614Z"
   },
   {
    "duration": 671,
    "start_time": "2021-08-14T17:26:35.533Z"
   },
   {
    "duration": 1426,
    "start_time": "2021-08-14T17:27:28.359Z"
   },
   {
    "duration": 39,
    "start_time": "2021-08-14T17:27:29.788Z"
   },
   {
    "duration": 19,
    "start_time": "2021-08-14T17:27:29.830Z"
   },
   {
    "duration": 5,
    "start_time": "2021-08-14T17:27:29.852Z"
   },
   {
    "duration": 55,
    "start_time": "2021-08-14T17:27:29.860Z"
   },
   {
    "duration": 20,
    "start_time": "2021-08-14T17:27:29.917Z"
   },
   {
    "duration": 170,
    "start_time": "2021-08-14T17:27:29.940Z"
   },
   {
    "duration": 34,
    "start_time": "2021-08-14T17:27:30.116Z"
   },
   {
    "duration": 86,
    "start_time": "2021-08-14T17:27:30.154Z"
   },
   {
    "duration": 12,
    "start_time": "2021-08-14T17:27:30.243Z"
   },
   {
    "duration": 78,
    "start_time": "2021-08-14T17:27:30.258Z"
   },
   {
    "duration": 31,
    "start_time": "2021-08-14T17:27:30.339Z"
   },
   {
    "duration": 50,
    "start_time": "2021-08-14T17:27:30.373Z"
   },
   {
    "duration": 35,
    "start_time": "2021-08-14T17:27:30.426Z"
   },
   {
    "duration": 2508,
    "start_time": "2021-08-14T17:27:30.464Z"
   },
   {
    "duration": 815,
    "start_time": "2021-08-14T17:27:32.975Z"
   },
   {
    "duration": 767,
    "start_time": "2021-08-14T17:27:33.800Z"
   },
   {
    "duration": 1342,
    "start_time": "2021-08-14T17:27:34.571Z"
   },
   {
    "duration": 607,
    "start_time": "2021-08-14T17:27:35.916Z"
   },
   {
    "duration": 653,
    "start_time": "2021-08-14T17:27:36.526Z"
   },
   {
    "duration": 689,
    "start_time": "2021-08-14T17:27:37.182Z"
   },
   {
    "duration": 795,
    "start_time": "2021-08-14T17:27:37.873Z"
   },
   {
    "duration": 37,
    "start_time": "2021-08-14T17:27:38.672Z"
   },
   {
    "duration": 18,
    "start_time": "2021-08-14T17:27:38.712Z"
   },
   {
    "duration": 812,
    "start_time": "2021-08-14T17:29:45.477Z"
   },
   {
    "duration": 2511,
    "start_time": "2021-08-14T18:13:52.629Z"
   },
   {
    "duration": 2535,
    "start_time": "2021-08-14T18:15:53.517Z"
   },
   {
    "duration": 1439,
    "start_time": "2021-08-14T18:16:03.632Z"
   },
   {
    "duration": 40,
    "start_time": "2021-08-14T18:16:05.073Z"
   },
   {
    "duration": 25,
    "start_time": "2021-08-14T18:16:05.116Z"
   },
   {
    "duration": 11,
    "start_time": "2021-08-14T18:16:05.144Z"
   },
   {
    "duration": 20,
    "start_time": "2021-08-14T18:16:05.157Z"
   },
   {
    "duration": 21,
    "start_time": "2021-08-14T18:16:05.200Z"
   },
   {
    "duration": 139,
    "start_time": "2021-08-14T18:16:05.224Z"
   },
   {
    "duration": 48,
    "start_time": "2021-08-14T18:16:05.366Z"
   },
   {
    "duration": 51,
    "start_time": "2021-08-14T18:16:05.418Z"
   },
   {
    "duration": 36,
    "start_time": "2021-08-14T18:16:05.473Z"
   },
   {
    "duration": 41,
    "start_time": "2021-08-14T18:16:05.511Z"
   },
   {
    "duration": 70,
    "start_time": "2021-08-14T18:16:05.554Z"
   },
   {
    "duration": 25,
    "start_time": "2021-08-14T18:16:05.627Z"
   },
   {
    "duration": 57,
    "start_time": "2021-08-14T18:16:05.654Z"
   },
   {
    "duration": 31,
    "start_time": "2021-08-14T18:16:05.714Z"
   },
   {
    "duration": 2277,
    "start_time": "2021-08-14T18:16:05.747Z"
   },
   {
    "duration": 627,
    "start_time": "2021-08-14T18:16:08.027Z"
   },
   {
    "duration": 728,
    "start_time": "2021-08-14T18:16:08.657Z"
   },
   {
    "duration": 1236,
    "start_time": "2021-08-14T18:16:09.388Z"
   },
   {
    "duration": 674,
    "start_time": "2021-08-14T18:16:10.626Z"
   },
   {
    "duration": 597,
    "start_time": "2021-08-14T18:16:11.303Z"
   },
   {
    "duration": 721,
    "start_time": "2021-08-14T18:16:11.903Z"
   },
   {
    "duration": 725,
    "start_time": "2021-08-14T18:16:12.629Z"
   },
   {
    "duration": 944,
    "start_time": "2021-08-14T18:16:13.357Z"
   },
   {
    "duration": 18,
    "start_time": "2021-08-14T18:16:14.303Z"
   },
   {
    "duration": 23,
    "start_time": "2021-08-14T18:16:14.324Z"
   },
   {
    "duration": 853,
    "start_time": "2021-08-14T18:27:25.383Z"
   },
   {
    "duration": 684,
    "start_time": "2021-08-14T18:27:36.107Z"
   },
   {
    "duration": 710,
    "start_time": "2021-08-14T18:29:03.517Z"
   },
   {
    "duration": 14,
    "start_time": "2021-08-14T18:29:20.663Z"
   },
   {
    "duration": 15,
    "start_time": "2021-08-14T18:31:01.144Z"
   },
   {
    "duration": 535,
    "start_time": "2021-08-14T18:47:41.924Z"
   },
   {
    "duration": 639,
    "start_time": "2021-08-14T18:53:16.155Z"
   },
   {
    "duration": 313,
    "start_time": "2021-08-14T18:53:26.335Z"
   },
   {
    "duration": 291,
    "start_time": "2021-08-14T18:55:02.603Z"
   },
   {
    "duration": 306,
    "start_time": "2021-08-14T18:57:38.780Z"
   },
   {
    "duration": 286,
    "start_time": "2021-08-14T18:58:17.647Z"
   },
   {
    "duration": 6433,
    "start_time": "2021-08-14T18:58:43.255Z"
   },
   {
    "duration": 570,
    "start_time": "2021-08-14T18:59:01.052Z"
   },
   {
    "duration": 27,
    "start_time": "2021-08-14T19:00:19.271Z"
   },
   {
    "duration": 1484,
    "start_time": "2021-08-14T19:00:26.975Z"
   },
   {
    "duration": 46,
    "start_time": "2021-08-14T19:00:28.462Z"
   },
   {
    "duration": 18,
    "start_time": "2021-08-14T19:00:28.511Z"
   },
   {
    "duration": 6,
    "start_time": "2021-08-14T19:00:28.532Z"
   },
   {
    "duration": 24,
    "start_time": "2021-08-14T19:00:28.540Z"
   },
   {
    "duration": 48,
    "start_time": "2021-08-14T19:00:28.566Z"
   },
   {
    "duration": 130,
    "start_time": "2021-08-14T19:00:28.617Z"
   },
   {
    "duration": 53,
    "start_time": "2021-08-14T19:00:28.751Z"
   },
   {
    "duration": 52,
    "start_time": "2021-08-14T19:00:28.807Z"
   },
   {
    "duration": 38,
    "start_time": "2021-08-14T19:00:28.862Z"
   },
   {
    "duration": 43,
    "start_time": "2021-08-14T19:00:28.903Z"
   },
   {
    "duration": 68,
    "start_time": "2021-08-14T19:00:28.949Z"
   },
   {
    "duration": 27,
    "start_time": "2021-08-14T19:00:29.020Z"
   },
   {
    "duration": 65,
    "start_time": "2021-08-14T19:00:29.050Z"
   },
   {
    "duration": 33,
    "start_time": "2021-08-14T19:00:29.118Z"
   },
   {
    "duration": 2203,
    "start_time": "2021-08-14T19:00:29.154Z"
   },
   {
    "duration": 643,
    "start_time": "2021-08-14T19:00:31.360Z"
   },
   {
    "duration": 697,
    "start_time": "2021-08-14T19:00:32.006Z"
   },
   {
    "duration": 1200,
    "start_time": "2021-08-14T19:00:32.706Z"
   },
   {
    "duration": 611,
    "start_time": "2021-08-14T19:00:33.909Z"
   },
   {
    "duration": 14,
    "start_time": "2021-08-14T19:00:34.523Z"
   },
   {
    "duration": 597,
    "start_time": "2021-08-14T19:00:34.539Z"
   },
   {
    "duration": 637,
    "start_time": "2021-08-14T19:00:35.141Z"
   },
   {
    "duration": 686,
    "start_time": "2021-08-14T19:00:35.780Z"
   },
   {
    "duration": 880,
    "start_time": "2021-08-14T19:00:36.469Z"
   },
   {
    "duration": 15,
    "start_time": "2021-08-14T19:00:37.351Z"
   },
   {
    "duration": 42,
    "start_time": "2021-08-14T19:00:37.368Z"
   },
   {
    "duration": 1027,
    "start_time": "2021-08-14T19:26:06.200Z"
   },
   {
    "duration": 825,
    "start_time": "2021-08-14T19:28:21.821Z"
   },
   {
    "duration": 82,
    "start_time": "2021-08-14T19:33:07.868Z"
   },
   {
    "duration": 270,
    "start_time": "2021-08-14T19:33:24.900Z"
   },
   {
    "duration": 611,
    "start_time": "2021-08-14T19:37:43.440Z"
   },
   {
    "duration": 279,
    "start_time": "2021-08-14T19:43:38.014Z"
   },
   {
    "duration": 89,
    "start_time": "2021-08-14T19:43:58.623Z"
   },
   {
    "duration": 85,
    "start_time": "2021-08-14T19:44:14.702Z"
   },
   {
    "duration": 629,
    "start_time": "2021-08-14T19:45:49.771Z"
   },
   {
    "duration": 628,
    "start_time": "2021-08-14T19:45:58.158Z"
   },
   {
    "duration": 1806,
    "start_time": "2021-08-14T19:51:31.352Z"
   },
   {
    "duration": 1784,
    "start_time": "2021-08-14T19:51:39.905Z"
   },
   {
    "duration": 1911,
    "start_time": "2021-08-14T19:52:50.420Z"
   },
   {
    "duration": 3581,
    "start_time": "2021-08-14T19:53:14.126Z"
   },
   {
    "duration": 615,
    "start_time": "2021-08-14T19:54:56.278Z"
   },
   {
    "duration": 112,
    "start_time": "2021-08-14T20:04:26.201Z"
   },
   {
    "duration": 1838,
    "start_time": "2021-08-14T20:04:32.306Z"
   },
   {
    "duration": 282,
    "start_time": "2021-08-14T20:04:48.493Z"
   },
   {
    "duration": 587,
    "start_time": "2021-08-14T20:09:23.649Z"
   },
   {
    "duration": 609,
    "start_time": "2021-08-14T20:10:11.340Z"
   },
   {
    "duration": 724,
    "start_time": "2021-08-14T20:10:41.324Z"
   },
   {
    "duration": 638,
    "start_time": "2021-08-14T20:10:56.378Z"
   },
   {
    "duration": 600,
    "start_time": "2021-08-14T20:11:15.709Z"
   },
   {
    "duration": 580,
    "start_time": "2021-08-14T20:11:26.960Z"
   },
   {
    "duration": 559,
    "start_time": "2021-08-14T20:11:35.045Z"
   },
   {
    "duration": 607,
    "start_time": "2021-08-14T20:15:35.652Z"
   },
   {
    "duration": 298,
    "start_time": "2021-08-14T20:16:44.317Z"
   },
   {
    "duration": 609,
    "start_time": "2021-08-14T20:16:53.633Z"
   },
   {
    "duration": 295,
    "start_time": "2021-08-14T20:21:14.100Z"
   },
   {
    "duration": 582,
    "start_time": "2021-08-14T20:21:30.115Z"
   },
   {
    "duration": 606,
    "start_time": "2021-08-14T20:22:01.423Z"
   },
   {
    "duration": 288,
    "start_time": "2021-08-14T20:29:26.460Z"
   },
   {
    "duration": 279,
    "start_time": "2021-08-14T20:29:38.000Z"
   },
   {
    "duration": 261,
    "start_time": "2021-08-14T20:29:46.739Z"
   },
   {
    "duration": 396,
    "start_time": "2021-08-14T20:30:03.298Z"
   },
   {
    "duration": 503,
    "start_time": "2021-08-14T20:30:42.742Z"
   },
   {
    "duration": 531,
    "start_time": "2021-08-14T20:33:37.209Z"
   },
   {
    "duration": 288,
    "start_time": "2021-08-14T20:34:39.167Z"
   },
   {
    "duration": 667,
    "start_time": "2021-08-14T20:34:48.296Z"
   },
   {
    "duration": 567,
    "start_time": "2021-08-14T20:36:26.937Z"
   },
   {
    "duration": 1044,
    "start_time": "2021-08-14T20:37:21.374Z"
   },
   {
    "duration": 558,
    "start_time": "2021-08-14T20:37:50.240Z"
   },
   {
    "duration": 597,
    "start_time": "2021-08-14T20:40:06.782Z"
   },
   {
    "duration": 562,
    "start_time": "2021-08-14T20:42:08.347Z"
   },
   {
    "duration": 25,
    "start_time": "2021-08-14T20:43:00.334Z"
   },
   {
    "duration": 601,
    "start_time": "2021-08-14T20:53:40.412Z"
   },
   {
    "duration": 685,
    "start_time": "2021-08-14T20:54:11.006Z"
   },
   {
    "duration": 790,
    "start_time": "2021-08-14T20:56:46.128Z"
   },
   {
    "duration": 81,
    "start_time": "2021-08-14T20:57:39.099Z"
   },
   {
    "duration": 773,
    "start_time": "2021-08-14T20:57:54.181Z"
   },
   {
    "duration": 795,
    "start_time": "2021-08-14T20:58:10.378Z"
   },
   {
    "duration": 1478,
    "start_time": "2021-08-14T20:58:21.882Z"
   },
   {
    "duration": 46,
    "start_time": "2021-08-14T20:58:23.362Z"
   },
   {
    "duration": 19,
    "start_time": "2021-08-14T20:58:23.411Z"
   },
   {
    "duration": 5,
    "start_time": "2021-08-14T20:58:23.432Z"
   },
   {
    "duration": 22,
    "start_time": "2021-08-14T20:58:23.440Z"
   },
   {
    "duration": 50,
    "start_time": "2021-08-14T20:58:23.464Z"
   },
   {
    "duration": 139,
    "start_time": "2021-08-14T20:58:23.517Z"
   },
   {
    "duration": 51,
    "start_time": "2021-08-14T20:58:23.660Z"
   },
   {
    "duration": 53,
    "start_time": "2021-08-14T20:58:23.714Z"
   },
   {
    "duration": 35,
    "start_time": "2021-08-14T20:58:23.769Z"
   },
   {
    "duration": 45,
    "start_time": "2021-08-14T20:58:23.807Z"
   },
   {
    "duration": 73,
    "start_time": "2021-08-14T20:58:23.855Z"
   },
   {
    "duration": 25,
    "start_time": "2021-08-14T20:58:23.930Z"
   },
   {
    "duration": 60,
    "start_time": "2021-08-14T20:58:23.957Z"
   },
   {
    "duration": 30,
    "start_time": "2021-08-14T20:58:24.020Z"
   },
   {
    "duration": 2257,
    "start_time": "2021-08-14T20:58:24.052Z"
   },
   {
    "duration": 647,
    "start_time": "2021-08-14T20:58:26.312Z"
   },
   {
    "duration": 754,
    "start_time": "2021-08-14T20:58:26.962Z"
   },
   {
    "duration": 1232,
    "start_time": "2021-08-14T20:58:27.718Z"
   },
   {
    "duration": 658,
    "start_time": "2021-08-14T20:58:28.952Z"
   },
   {
    "duration": 13,
    "start_time": "2021-08-14T20:58:29.613Z"
   },
   {
    "duration": 596,
    "start_time": "2021-08-14T20:58:29.629Z"
   },
   {
    "duration": 666,
    "start_time": "2021-08-14T20:58:30.229Z"
   },
   {
    "duration": 25,
    "start_time": "2021-08-14T20:58:30.900Z"
   },
   {
    "duration": 628,
    "start_time": "2021-08-14T20:58:30.928Z"
   },
   {
    "duration": 17,
    "start_time": "2021-08-14T20:58:31.558Z"
   },
   {
    "duration": 37,
    "start_time": "2021-08-14T20:58:31.577Z"
   },
   {
    "duration": 667,
    "start_time": "2021-08-14T21:01:36.965Z"
   },
   {
    "duration": 1462,
    "start_time": "2021-08-14T21:01:54.489Z"
   },
   {
    "duration": 47,
    "start_time": "2021-08-14T21:01:55.953Z"
   },
   {
    "duration": 17,
    "start_time": "2021-08-14T21:01:56.003Z"
   },
   {
    "duration": 13,
    "start_time": "2021-08-14T21:01:56.023Z"
   },
   {
    "duration": 29,
    "start_time": "2021-08-14T21:01:56.039Z"
   },
   {
    "duration": 34,
    "start_time": "2021-08-14T21:01:56.070Z"
   },
   {
    "duration": 140,
    "start_time": "2021-08-14T21:01:56.107Z"
   },
   {
    "duration": 63,
    "start_time": "2021-08-14T21:01:56.252Z"
   },
   {
    "duration": 89,
    "start_time": "2021-08-14T21:01:56.318Z"
   },
   {
    "duration": 12,
    "start_time": "2021-08-14T21:01:56.411Z"
   },
   {
    "duration": 79,
    "start_time": "2021-08-14T21:01:56.426Z"
   },
   {
    "duration": 30,
    "start_time": "2021-08-14T21:01:56.508Z"
   },
   {
    "duration": 25,
    "start_time": "2021-08-14T21:01:56.540Z"
   },
   {
    "duration": 32,
    "start_time": "2021-08-14T21:01:56.600Z"
   },
   {
    "duration": 30,
    "start_time": "2021-08-14T21:01:56.634Z"
   },
   {
    "duration": 2307,
    "start_time": "2021-08-14T21:01:56.667Z"
   },
   {
    "duration": 628,
    "start_time": "2021-08-14T21:01:58.977Z"
   },
   {
    "duration": 732,
    "start_time": "2021-08-14T21:01:59.607Z"
   },
   {
    "duration": 1389,
    "start_time": "2021-08-14T21:02:00.342Z"
   },
   {
    "duration": 692,
    "start_time": "2021-08-14T21:02:01.733Z"
   },
   {
    "duration": 15,
    "start_time": "2021-08-14T21:02:02.427Z"
   },
   {
    "duration": 604,
    "start_time": "2021-08-14T21:02:02.444Z"
   },
   {
    "duration": 652,
    "start_time": "2021-08-14T21:02:03.052Z"
   },
   {
    "duration": 25,
    "start_time": "2021-08-14T21:02:03.707Z"
   },
   {
    "duration": 642,
    "start_time": "2021-08-14T21:02:03.734Z"
   },
   {
    "duration": 23,
    "start_time": "2021-08-14T21:02:04.379Z"
   },
   {
    "duration": 24,
    "start_time": "2021-08-14T21:02:04.405Z"
   },
   {
    "duration": 673,
    "start_time": "2021-08-14T21:04:45.061Z"
   },
   {
    "duration": 710,
    "start_time": "2021-08-14T21:05:03.269Z"
   },
   {
    "duration": 639,
    "start_time": "2021-08-14T21:06:28.939Z"
   },
   {
    "duration": 533,
    "start_time": "2021-08-14T21:08:26.181Z"
   },
   {
    "duration": 6785,
    "start_time": "2021-08-14T21:08:39.392Z"
   },
   {
    "duration": 6374,
    "start_time": "2021-08-14T21:09:11.901Z"
   },
   {
    "duration": 2964,
    "start_time": "2021-08-14T21:09:27.194Z"
   },
   {
    "duration": 65,
    "start_time": "2021-08-14T21:09:30.162Z"
   },
   {
    "duration": 30,
    "start_time": "2021-08-14T21:09:30.232Z"
   },
   {
    "duration": 34,
    "start_time": "2021-08-14T21:09:30.266Z"
   },
   {
    "duration": 23,
    "start_time": "2021-08-14T21:09:30.303Z"
   },
   {
    "duration": 23,
    "start_time": "2021-08-14T21:09:30.329Z"
   },
   {
    "duration": 165,
    "start_time": "2021-08-14T21:09:30.355Z"
   },
   {
    "duration": 33,
    "start_time": "2021-08-14T21:09:30.524Z"
   },
   {
    "duration": 80,
    "start_time": "2021-08-14T21:09:30.560Z"
   },
   {
    "duration": 11,
    "start_time": "2021-08-14T21:09:30.642Z"
   },
   {
    "duration": 75,
    "start_time": "2021-08-14T21:09:30.655Z"
   },
   {
    "duration": 37,
    "start_time": "2021-08-14T21:09:30.733Z"
   },
   {
    "duration": 46,
    "start_time": "2021-08-14T21:09:30.772Z"
   },
   {
    "duration": 33,
    "start_time": "2021-08-14T21:09:30.821Z"
   },
   {
    "duration": 63,
    "start_time": "2021-08-14T21:09:30.856Z"
   },
   {
    "duration": 2308,
    "start_time": "2021-08-14T21:09:30.922Z"
   },
   {
    "duration": 700,
    "start_time": "2021-08-14T21:09:33.233Z"
   },
   {
    "duration": 767,
    "start_time": "2021-08-14T21:09:33.936Z"
   },
   {
    "duration": 1516,
    "start_time": "2021-08-14T21:09:34.705Z"
   },
   {
    "duration": 700,
    "start_time": "2021-08-14T21:09:36.224Z"
   },
   {
    "duration": 15,
    "start_time": "2021-08-14T21:09:36.927Z"
   },
   {
    "duration": 604,
    "start_time": "2021-08-14T21:09:36.945Z"
   },
   {
    "duration": 649,
    "start_time": "2021-08-14T21:09:37.554Z"
   },
   {
    "duration": 25,
    "start_time": "2021-08-14T21:09:38.206Z"
   },
   {
    "duration": 76,
    "start_time": "2021-08-14T21:09:38.233Z"
   },
   {
    "duration": 553,
    "start_time": "2021-08-14T21:09:38.311Z"
   },
   {
    "duration": 34,
    "start_time": "2021-08-14T21:09:38.866Z"
   },
   {
    "duration": 16,
    "start_time": "2021-08-14T21:09:38.902Z"
   },
   {
    "duration": 1478,
    "start_time": "2021-08-14T21:14:59.281Z"
   },
   {
    "duration": 49,
    "start_time": "2021-08-14T21:15:00.761Z"
   },
   {
    "duration": 19,
    "start_time": "2021-08-14T21:15:00.813Z"
   },
   {
    "duration": 19,
    "start_time": "2021-08-14T21:15:00.834Z"
   },
   {
    "duration": 27,
    "start_time": "2021-08-14T21:15:00.855Z"
   },
   {
    "duration": 36,
    "start_time": "2021-08-14T21:15:00.884Z"
   },
   {
    "duration": 132,
    "start_time": "2021-08-14T21:15:00.922Z"
   },
   {
    "duration": 49,
    "start_time": "2021-08-14T21:15:01.057Z"
   },
   {
    "duration": 51,
    "start_time": "2021-08-14T21:15:01.110Z"
   },
   {
    "duration": 38,
    "start_time": "2021-08-14T21:15:01.165Z"
   },
   {
    "duration": 46,
    "start_time": "2021-08-14T21:15:01.205Z"
   },
   {
    "duration": 67,
    "start_time": "2021-08-14T21:15:01.253Z"
   },
   {
    "duration": 33,
    "start_time": "2021-08-14T21:15:01.323Z"
   },
   {
    "duration": 58,
    "start_time": "2021-08-14T21:15:01.358Z"
   },
   {
    "duration": 38,
    "start_time": "2021-08-14T21:15:01.418Z"
   },
   {
    "duration": 2277,
    "start_time": "2021-08-14T21:15:01.458Z"
   },
   {
    "duration": 740,
    "start_time": "2021-08-14T21:15:03.738Z"
   },
   {
    "duration": 723,
    "start_time": "2021-08-14T21:15:04.481Z"
   },
   {
    "duration": 1208,
    "start_time": "2021-08-14T21:15:05.207Z"
   },
   {
    "duration": 677,
    "start_time": "2021-08-14T21:15:06.417Z"
   },
   {
    "duration": 14,
    "start_time": "2021-08-14T21:15:07.100Z"
   },
   {
    "duration": 587,
    "start_time": "2021-08-14T21:15:07.116Z"
   },
   {
    "duration": 647,
    "start_time": "2021-08-14T21:15:07.706Z"
   },
   {
    "duration": 24,
    "start_time": "2021-08-14T21:15:08.355Z"
   },
   {
    "duration": 62,
    "start_time": "2021-08-14T21:15:08.381Z"
   },
   {
    "duration": 558,
    "start_time": "2021-08-14T21:15:08.445Z"
   },
   {
    "duration": 16,
    "start_time": "2021-08-14T21:15:09.008Z"
   },
   {
    "duration": 20,
    "start_time": "2021-08-14T21:15:09.026Z"
   },
   {
    "duration": 30,
    "start_time": "2021-08-14T21:28:59.401Z"
   },
   {
    "duration": 405,
    "start_time": "2021-08-14T21:31:32.868Z"
   },
   {
    "duration": 20,
    "start_time": "2021-08-14T21:32:01.125Z"
   },
   {
    "duration": 18,
    "start_time": "2021-08-14T21:32:09.483Z"
   },
   {
    "duration": 19,
    "start_time": "2021-08-14T21:32:12.025Z"
   },
   {
    "duration": 42,
    "start_time": "2021-08-14T21:32:43.593Z"
   },
   {
    "duration": 287,
    "start_time": "2021-08-14T21:33:43.185Z"
   },
   {
    "duration": 279,
    "start_time": "2021-08-14T21:34:26.203Z"
   },
   {
    "duration": 268,
    "start_time": "2021-08-14T21:39:52.509Z"
   },
   {
    "duration": 285,
    "start_time": "2021-08-14T21:40:04.401Z"
   },
   {
    "duration": 261,
    "start_time": "2021-08-14T21:42:07.103Z"
   },
   {
    "duration": 251,
    "start_time": "2021-08-14T21:44:28.084Z"
   },
   {
    "duration": 275,
    "start_time": "2021-08-14T21:44:35.260Z"
   },
   {
    "duration": 277,
    "start_time": "2021-08-14T21:45:08.128Z"
   },
   {
    "duration": 6289,
    "start_time": "2021-08-14T21:48:05.283Z"
   },
   {
    "duration": 6175,
    "start_time": "2021-08-14T21:48:12.040Z"
   },
   {
    "duration": 1442,
    "start_time": "2021-08-14T21:48:57.302Z"
   },
   {
    "duration": 36,
    "start_time": "2021-08-14T21:48:58.747Z"
   },
   {
    "duration": 19,
    "start_time": "2021-08-14T21:48:58.802Z"
   },
   {
    "duration": 8,
    "start_time": "2021-08-14T21:48:58.824Z"
   },
   {
    "duration": 22,
    "start_time": "2021-08-14T21:48:58.834Z"
   },
   {
    "duration": 58,
    "start_time": "2021-08-14T21:48:58.859Z"
   },
   {
    "duration": 145,
    "start_time": "2021-08-14T21:48:58.920Z"
   },
   {
    "duration": 52,
    "start_time": "2021-08-14T21:48:59.070Z"
   },
   {
    "duration": 79,
    "start_time": "2021-08-14T21:48:59.126Z"
   },
   {
    "duration": 13,
    "start_time": "2021-08-14T21:48:59.208Z"
   },
   {
    "duration": 82,
    "start_time": "2021-08-14T21:48:59.224Z"
   },
   {
    "duration": 36,
    "start_time": "2021-08-14T21:48:59.310Z"
   },
   {
    "duration": 64,
    "start_time": "2021-08-14T21:48:59.349Z"
   },
   {
    "duration": 34,
    "start_time": "2021-08-14T21:48:59.416Z"
   },
   {
    "duration": 64,
    "start_time": "2021-08-14T21:48:59.453Z"
   },
   {
    "duration": 2376,
    "start_time": "2021-08-14T21:48:59.520Z"
   },
   {
    "duration": 669,
    "start_time": "2021-08-14T21:49:01.901Z"
   },
   {
    "duration": 713,
    "start_time": "2021-08-14T21:49:02.572Z"
   },
   {
    "duration": 1241,
    "start_time": "2021-08-14T21:49:03.287Z"
   },
   {
    "duration": 682,
    "start_time": "2021-08-14T21:49:04.531Z"
   },
   {
    "duration": 14,
    "start_time": "2021-08-14T21:49:05.215Z"
   },
   {
    "duration": 588,
    "start_time": "2021-08-14T21:49:05.231Z"
   },
   {
    "duration": 657,
    "start_time": "2021-08-14T21:49:05.825Z"
   },
   {
    "duration": 35,
    "start_time": "2021-08-14T21:49:06.485Z"
   },
   {
    "duration": 46,
    "start_time": "2021-08-14T21:49:06.523Z"
   },
   {
    "duration": 563,
    "start_time": "2021-08-14T21:49:06.572Z"
   },
   {
    "duration": 6265,
    "start_time": "2021-08-14T21:49:07.138Z"
   },
   {
    "duration": 2760,
    "start_time": "2021-08-14T21:49:10.647Z"
   },
   {
    "duration": 2756,
    "start_time": "2021-08-14T21:49:10.652Z"
   },
   {
    "duration": 12,
    "start_time": "2021-08-14T21:50:15.183Z"
   },
   {
    "duration": 85,
    "start_time": "2021-08-14T21:51:35.716Z"
   },
   {
    "duration": 92,
    "start_time": "2021-08-14T21:51:47.721Z"
   },
   {
    "duration": 6764,
    "start_time": "2021-08-14T21:51:58.567Z"
   },
   {
    "duration": 6756,
    "start_time": "2021-08-14T21:52:55.425Z"
   },
   {
    "duration": 14,
    "start_time": "2021-08-14T21:54:07.564Z"
   },
   {
    "duration": 1859,
    "start_time": "2021-08-14T21:55:10.677Z"
   },
   {
    "duration": 15,
    "start_time": "2021-08-14T21:57:31.170Z"
   },
   {
    "duration": 14,
    "start_time": "2021-08-14T21:58:33.017Z"
   },
   {
    "duration": 15,
    "start_time": "2021-08-14T21:58:57.295Z"
   },
   {
    "duration": 17,
    "start_time": "2021-08-14T21:59:18.186Z"
   },
   {
    "duration": 21,
    "start_time": "2021-08-14T21:59:47.622Z"
   },
   {
    "duration": 264,
    "start_time": "2021-08-14T22:05:24.801Z"
   },
   {
    "duration": 18,
    "start_time": "2021-08-14T22:05:45.707Z"
   },
   {
    "duration": 18,
    "start_time": "2021-08-14T22:06:00.528Z"
   },
   {
    "duration": 19,
    "start_time": "2021-08-14T22:06:22.274Z"
   },
   {
    "duration": 28,
    "start_time": "2021-08-14T22:07:43.710Z"
   },
   {
    "duration": 25,
    "start_time": "2021-08-14T22:08:07.162Z"
   },
   {
    "duration": 31,
    "start_time": "2021-08-14T22:08:27.163Z"
   },
   {
    "duration": 26,
    "start_time": "2021-08-14T22:11:32.468Z"
   },
   {
    "duration": 30,
    "start_time": "2021-08-14T22:14:54.032Z"
   },
   {
    "duration": 30,
    "start_time": "2021-08-14T22:15:16.347Z"
   },
   {
    "duration": 493,
    "start_time": "2021-08-14T22:17:41.165Z"
   },
   {
    "duration": 579,
    "start_time": "2021-08-14T22:18:45.728Z"
   },
   {
    "duration": 665,
    "start_time": "2021-08-14T22:32:20.226Z"
   },
   {
    "duration": 146,
    "start_time": "2021-08-15T17:31:26.809Z"
   },
   {
    "duration": 93,
    "start_time": "2021-08-15T17:31:57.842Z"
   },
   {
    "duration": 99,
    "start_time": "2021-08-15T17:36:36.726Z"
   },
   {
    "duration": 314,
    "start_time": "2021-08-15T17:42:09.349Z"
   },
   {
    "duration": 1507,
    "start_time": "2021-08-15T17:42:16.840Z"
   },
   {
    "duration": 35,
    "start_time": "2021-08-15T17:42:18.349Z"
   },
   {
    "duration": 19,
    "start_time": "2021-08-15T17:42:18.401Z"
   },
   {
    "duration": 5,
    "start_time": "2021-08-15T17:42:18.423Z"
   },
   {
    "duration": 22,
    "start_time": "2021-08-15T17:42:18.431Z"
   },
   {
    "duration": 61,
    "start_time": "2021-08-15T17:42:18.456Z"
   },
   {
    "duration": 150,
    "start_time": "2021-08-15T17:42:18.520Z"
   },
   {
    "duration": 51,
    "start_time": "2021-08-15T17:42:18.672Z"
   },
   {
    "duration": 83,
    "start_time": "2021-08-15T17:42:18.729Z"
   },
   {
    "duration": 14,
    "start_time": "2021-08-15T17:42:18.815Z"
   },
   {
    "duration": 73,
    "start_time": "2021-08-15T17:42:18.832Z"
   },
   {
    "duration": 40,
    "start_time": "2021-08-15T17:42:18.908Z"
   },
   {
    "duration": 57,
    "start_time": "2021-08-15T17:42:18.951Z"
   },
   {
    "duration": 35,
    "start_time": "2021-08-15T17:42:19.011Z"
   },
   {
    "duration": 67,
    "start_time": "2021-08-15T17:42:19.049Z"
   },
   {
    "duration": 3107,
    "start_time": "2021-08-15T17:42:19.119Z"
   },
   {
    "duration": 755,
    "start_time": "2021-08-15T17:42:22.229Z"
   },
   {
    "duration": 875,
    "start_time": "2021-08-15T17:42:22.986Z"
   },
   {
    "duration": 1458,
    "start_time": "2021-08-15T17:42:23.864Z"
   },
   {
    "duration": 793,
    "start_time": "2021-08-15T17:42:25.325Z"
   },
   {
    "duration": 18,
    "start_time": "2021-08-15T17:42:26.121Z"
   },
   {
    "duration": 739,
    "start_time": "2021-08-15T17:42:26.142Z"
   },
   {
    "duration": 749,
    "start_time": "2021-08-15T17:42:26.884Z"
   },
   {
    "duration": 852,
    "start_time": "2021-08-15T17:42:27.638Z"
   },
   {
    "duration": 41,
    "start_time": "2021-08-15T17:42:28.492Z"
   },
   {
    "duration": 81,
    "start_time": "2021-08-15T17:42:28.537Z"
   },
   {
    "duration": 703,
    "start_time": "2021-08-15T17:42:28.626Z"
   },
   {
    "duration": 731,
    "start_time": "2021-08-15T17:42:29.332Z"
   },
   {
    "duration": 16,
    "start_time": "2021-08-15T17:42:30.066Z"
   },
   {
    "duration": 20,
    "start_time": "2021-08-15T17:42:30.102Z"
   },
   {
    "duration": 22,
    "start_time": "2021-08-15T17:42:40.936Z"
   },
   {
    "duration": 25,
    "start_time": "2021-08-15T17:42:49.990Z"
   },
   {
    "duration": 6686,
    "start_time": "2021-08-15T17:45:49.393Z"
   },
   {
    "duration": 44,
    "start_time": "2021-08-15T17:46:13.036Z"
   },
   {
    "duration": 16,
    "start_time": "2021-08-15T17:47:42.671Z"
   },
   {
    "duration": 31,
    "start_time": "2021-08-15T17:47:52.493Z"
   },
   {
    "duration": 6,
    "start_time": "2021-08-15T17:48:00.352Z"
   },
   {
    "duration": 25,
    "start_time": "2021-08-15T17:48:01.706Z"
   }
  ],
  "kernelspec": {
   "display_name": "Python 3",
   "language": "python",
   "name": "python3"
  },
  "language_info": {
   "codemirror_mode": {
    "name": "ipython",
    "version": 3
   },
   "file_extension": ".py",
   "mimetype": "text/x-python",
   "name": "python",
   "nbconvert_exporter": "python",
   "pygments_lexer": "ipython3",
   "version": "3.8.8"
  },
  "toc": {
   "base_numbering": 1,
   "nav_menu": {},
   "number_sections": true,
   "sideBar": true,
   "skip_h1_title": true,
   "title_cell": "Table of Contents",
   "title_sidebar": "Contents",
   "toc_cell": false,
   "toc_position": {
    "height": "calc(100% - 180px)",
    "left": "10px",
    "top": "150px",
    "width": "220.975px"
   },
   "toc_section_display": true,
   "toc_window_display": true
  }
 },
 "nbformat": 4,
 "nbformat_minor": 2
}
