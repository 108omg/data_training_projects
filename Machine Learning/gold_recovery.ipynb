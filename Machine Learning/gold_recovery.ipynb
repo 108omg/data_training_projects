{
 "cells": [
  {
   "cell_type": "markdown",
   "metadata": {
    "toc": true
   },
   "source": [
    "<h1>Содержание<span class=\"tocSkip\"></span></h1>\n",
    "<div class=\"toc\"><ul class=\"toc-item\"><li><span><a href=\"#Подготовка-данных\" data-toc-modified-id=\"Подготовка-данных-1\"><span class=\"toc-item-num\">1&nbsp;&nbsp;</span>Подготовка данных</a></span><ul class=\"toc-item\"><li><span><a href=\"#Вывод:\" data-toc-modified-id=\"Вывод:-1.1\"><span class=\"toc-item-num\">1.1&nbsp;&nbsp;</span>Вывод:</a></span></li></ul></li><li><span><a href=\"#Анализ-данных\" data-toc-modified-id=\"Анализ-данных-2\"><span class=\"toc-item-num\">2&nbsp;&nbsp;</span>Анализ данных</a></span></li><li><span><a href=\"#Модель\" data-toc-modified-id=\"Модель-3\"><span class=\"toc-item-num\">3&nbsp;&nbsp;</span>Модель</a></span></li><li><span><a href=\"#Вывод\" data-toc-modified-id=\"Вывод-4\"><span class=\"toc-item-num\">4&nbsp;&nbsp;</span>Вывод</a></span></li><li><span><a href=\"#Чек-лист-готовности-проекта\" data-toc-modified-id=\"Чек-лист-готовности-проекта-5\"><span class=\"toc-item-num\">5&nbsp;&nbsp;</span>Чек-лист готовности проекта</a></span></li></ul></div>"
   ]
  },
  {
   "cell_type": "markdown",
   "metadata": {},
   "source": [
    "# Восстановление золота из руды"
   ]
  },
  {
   "cell_type": "markdown",
   "metadata": {},
   "source": [
    "Подготовим прототип модели машинного обучения для «Цифры». Компания разрабатывает решения для эффективной работы промышленных предприятий.\n",
    "\n",
    "Модель должна предсказать коэффициент восстановления золота из золотосодержащей руды. Используем данные с параметрами добычи и очистки. \n",
    "\n",
    "Модель поможет оптимизировать производство, чтобы не запускать предприятие с убыточными характеристиками.\n",
    "\n",
    "Нам нужно:\n",
    "\n",
    "1. Подготовить данные;\n",
    "2. Провести исследовательский анализ данных;\n",
    "3. Построить и обучить модель.\n",
    "\n",
    "Чтобы выполнить проект, обращайтесь к библиотекам *pandas*, *matplotlib* и *sklearn.* Вам поможет их документация."
   ]
  },
  {
   "cell_type": "markdown",
   "metadata": {},
   "source": [
    "## Подготовка данных"
   ]
  },
  {
   "cell_type": "markdown",
   "metadata": {},
   "source": [
    "Импортируем библиотеки:"
   ]
  },
  {
   "cell_type": "code",
   "execution_count": 1,
   "metadata": {},
   "outputs": [],
   "source": [
    "import pandas as pd\n",
    "import numpy as np\n",
    "from sklearn.metrics import mean_absolute_error \n",
    "import matplotlib.pyplot as plt\n",
    "import seaborn as sns\n",
    "from sklearn.ensemble import RandomForestRegressor\n",
    "from sklearn.linear_model import LinearRegression\n",
    "from sklearn.model_selection import train_test_split, cross_val_score, GridSearchCV\n",
    "from sklearn.metrics import mean_absolute_error, make_scorer\n",
    "from sklearn.preprocessing import MinMaxScaler\n"
   ]
  },
  {
   "cell_type": "code",
   "execution_count": 2,
   "metadata": {},
   "outputs": [
    {
     "data": {
      "text/html": [
       "<div>\n",
       "<style scoped>\n",
       "    .dataframe tbody tr th:only-of-type {\n",
       "        vertical-align: middle;\n",
       "    }\n",
       "\n",
       "    .dataframe tbody tr th {\n",
       "        vertical-align: top;\n",
       "    }\n",
       "\n",
       "    .dataframe thead th {\n",
       "        text-align: right;\n",
       "    }\n",
       "</style>\n",
       "<table border=\"1\" class=\"dataframe\">\n",
       "  <thead>\n",
       "    <tr style=\"text-align: right;\">\n",
       "      <th></th>\n",
       "      <th>final.output.concentrate_ag</th>\n",
       "      <th>final.output.concentrate_pb</th>\n",
       "      <th>final.output.concentrate_sol</th>\n",
       "      <th>final.output.concentrate_au</th>\n",
       "      <th>final.output.recovery</th>\n",
       "      <th>final.output.tail_ag</th>\n",
       "      <th>final.output.tail_pb</th>\n",
       "      <th>final.output.tail_sol</th>\n",
       "      <th>final.output.tail_au</th>\n",
       "      <th>primary_cleaner.input.sulfate</th>\n",
       "      <th>...</th>\n",
       "      <th>secondary_cleaner.state.floatbank4_a_air</th>\n",
       "      <th>secondary_cleaner.state.floatbank4_a_level</th>\n",
       "      <th>secondary_cleaner.state.floatbank4_b_air</th>\n",
       "      <th>secondary_cleaner.state.floatbank4_b_level</th>\n",
       "      <th>secondary_cleaner.state.floatbank5_a_air</th>\n",
       "      <th>secondary_cleaner.state.floatbank5_a_level</th>\n",
       "      <th>secondary_cleaner.state.floatbank5_b_air</th>\n",
       "      <th>secondary_cleaner.state.floatbank5_b_level</th>\n",
       "      <th>secondary_cleaner.state.floatbank6_a_air</th>\n",
       "      <th>secondary_cleaner.state.floatbank6_a_level</th>\n",
       "    </tr>\n",
       "    <tr>\n",
       "      <th>date</th>\n",
       "      <th></th>\n",
       "      <th></th>\n",
       "      <th></th>\n",
       "      <th></th>\n",
       "      <th></th>\n",
       "      <th></th>\n",
       "      <th></th>\n",
       "      <th></th>\n",
       "      <th></th>\n",
       "      <th></th>\n",
       "      <th></th>\n",
       "      <th></th>\n",
       "      <th></th>\n",
       "      <th></th>\n",
       "      <th></th>\n",
       "      <th></th>\n",
       "      <th></th>\n",
       "      <th></th>\n",
       "      <th></th>\n",
       "      <th></th>\n",
       "      <th></th>\n",
       "    </tr>\n",
       "  </thead>\n",
       "  <tbody>\n",
       "    <tr>\n",
       "      <td>2016-01-15 00:00:00</td>\n",
       "      <td>6.055403</td>\n",
       "      <td>9.889648</td>\n",
       "      <td>5.507324</td>\n",
       "      <td>42.192020</td>\n",
       "      <td>70.541216</td>\n",
       "      <td>10.411962</td>\n",
       "      <td>0.895447</td>\n",
       "      <td>16.904297</td>\n",
       "      <td>2.143149</td>\n",
       "      <td>127.092003</td>\n",
       "      <td>...</td>\n",
       "      <td>14.016835</td>\n",
       "      <td>-502.488007</td>\n",
       "      <td>12.099931</td>\n",
       "      <td>-504.715942</td>\n",
       "      <td>9.925633</td>\n",
       "      <td>-498.310211</td>\n",
       "      <td>8.079666</td>\n",
       "      <td>-500.470978</td>\n",
       "      <td>14.151341</td>\n",
       "      <td>-605.841980</td>\n",
       "    </tr>\n",
       "    <tr>\n",
       "      <td>2016-01-15 01:00:00</td>\n",
       "      <td>6.029369</td>\n",
       "      <td>9.968944</td>\n",
       "      <td>5.257781</td>\n",
       "      <td>42.701629</td>\n",
       "      <td>69.266198</td>\n",
       "      <td>10.462676</td>\n",
       "      <td>0.927452</td>\n",
       "      <td>16.634514</td>\n",
       "      <td>2.224930</td>\n",
       "      <td>125.629232</td>\n",
       "      <td>...</td>\n",
       "      <td>13.992281</td>\n",
       "      <td>-505.503262</td>\n",
       "      <td>11.950531</td>\n",
       "      <td>-501.331529</td>\n",
       "      <td>10.039245</td>\n",
       "      <td>-500.169983</td>\n",
       "      <td>7.984757</td>\n",
       "      <td>-500.582168</td>\n",
       "      <td>13.998353</td>\n",
       "      <td>-599.787184</td>\n",
       "    </tr>\n",
       "    <tr>\n",
       "      <td>2016-01-15 02:00:00</td>\n",
       "      <td>6.055926</td>\n",
       "      <td>10.213995</td>\n",
       "      <td>5.383759</td>\n",
       "      <td>42.657501</td>\n",
       "      <td>68.116445</td>\n",
       "      <td>10.507046</td>\n",
       "      <td>0.953716</td>\n",
       "      <td>16.208849</td>\n",
       "      <td>2.257889</td>\n",
       "      <td>123.819808</td>\n",
       "      <td>...</td>\n",
       "      <td>14.015015</td>\n",
       "      <td>-502.520901</td>\n",
       "      <td>11.912783</td>\n",
       "      <td>-501.133383</td>\n",
       "      <td>10.070913</td>\n",
       "      <td>-500.129135</td>\n",
       "      <td>8.013877</td>\n",
       "      <td>-500.517572</td>\n",
       "      <td>14.028663</td>\n",
       "      <td>-601.427363</td>\n",
       "    </tr>\n",
       "    <tr>\n",
       "      <td>2016-01-15 03:00:00</td>\n",
       "      <td>6.047977</td>\n",
       "      <td>9.977019</td>\n",
       "      <td>4.858634</td>\n",
       "      <td>42.689819</td>\n",
       "      <td>68.347543</td>\n",
       "      <td>10.422762</td>\n",
       "      <td>0.883763</td>\n",
       "      <td>16.532835</td>\n",
       "      <td>2.146849</td>\n",
       "      <td>122.270188</td>\n",
       "      <td>...</td>\n",
       "      <td>14.036510</td>\n",
       "      <td>-500.857308</td>\n",
       "      <td>11.999550</td>\n",
       "      <td>-501.193686</td>\n",
       "      <td>9.970366</td>\n",
       "      <td>-499.201640</td>\n",
       "      <td>7.977324</td>\n",
       "      <td>-500.255908</td>\n",
       "      <td>14.005551</td>\n",
       "      <td>-599.996129</td>\n",
       "    </tr>\n",
       "    <tr>\n",
       "      <td>2016-01-15 04:00:00</td>\n",
       "      <td>6.148599</td>\n",
       "      <td>10.142511</td>\n",
       "      <td>4.939416</td>\n",
       "      <td>42.774141</td>\n",
       "      <td>66.927016</td>\n",
       "      <td>10.360302</td>\n",
       "      <td>0.792826</td>\n",
       "      <td>16.525686</td>\n",
       "      <td>2.055292</td>\n",
       "      <td>117.988169</td>\n",
       "      <td>...</td>\n",
       "      <td>14.027298</td>\n",
       "      <td>-499.838632</td>\n",
       "      <td>11.953070</td>\n",
       "      <td>-501.053894</td>\n",
       "      <td>9.925709</td>\n",
       "      <td>-501.686727</td>\n",
       "      <td>7.894242</td>\n",
       "      <td>-500.356035</td>\n",
       "      <td>13.996647</td>\n",
       "      <td>-601.496691</td>\n",
       "    </tr>\n",
       "  </tbody>\n",
       "</table>\n",
       "<p>5 rows × 86 columns</p>\n",
       "</div>"
      ],
      "text/plain": [
       "                     final.output.concentrate_ag  final.output.concentrate_pb  \\\n",
       "date                                                                            \n",
       "2016-01-15 00:00:00                     6.055403                     9.889648   \n",
       "2016-01-15 01:00:00                     6.029369                     9.968944   \n",
       "2016-01-15 02:00:00                     6.055926                    10.213995   \n",
       "2016-01-15 03:00:00                     6.047977                     9.977019   \n",
       "2016-01-15 04:00:00                     6.148599                    10.142511   \n",
       "\n",
       "                     final.output.concentrate_sol  \\\n",
       "date                                                \n",
       "2016-01-15 00:00:00                      5.507324   \n",
       "2016-01-15 01:00:00                      5.257781   \n",
       "2016-01-15 02:00:00                      5.383759   \n",
       "2016-01-15 03:00:00                      4.858634   \n",
       "2016-01-15 04:00:00                      4.939416   \n",
       "\n",
       "                     final.output.concentrate_au  final.output.recovery  \\\n",
       "date                                                                      \n",
       "2016-01-15 00:00:00                    42.192020              70.541216   \n",
       "2016-01-15 01:00:00                    42.701629              69.266198   \n",
       "2016-01-15 02:00:00                    42.657501              68.116445   \n",
       "2016-01-15 03:00:00                    42.689819              68.347543   \n",
       "2016-01-15 04:00:00                    42.774141              66.927016   \n",
       "\n",
       "                     final.output.tail_ag  final.output.tail_pb  \\\n",
       "date                                                              \n",
       "2016-01-15 00:00:00             10.411962              0.895447   \n",
       "2016-01-15 01:00:00             10.462676              0.927452   \n",
       "2016-01-15 02:00:00             10.507046              0.953716   \n",
       "2016-01-15 03:00:00             10.422762              0.883763   \n",
       "2016-01-15 04:00:00             10.360302              0.792826   \n",
       "\n",
       "                     final.output.tail_sol  final.output.tail_au  \\\n",
       "date                                                               \n",
       "2016-01-15 00:00:00              16.904297              2.143149   \n",
       "2016-01-15 01:00:00              16.634514              2.224930   \n",
       "2016-01-15 02:00:00              16.208849              2.257889   \n",
       "2016-01-15 03:00:00              16.532835              2.146849   \n",
       "2016-01-15 04:00:00              16.525686              2.055292   \n",
       "\n",
       "                     primary_cleaner.input.sulfate  ...  \\\n",
       "date                                                ...   \n",
       "2016-01-15 00:00:00                     127.092003  ...   \n",
       "2016-01-15 01:00:00                     125.629232  ...   \n",
       "2016-01-15 02:00:00                     123.819808  ...   \n",
       "2016-01-15 03:00:00                     122.270188  ...   \n",
       "2016-01-15 04:00:00                     117.988169  ...   \n",
       "\n",
       "                     secondary_cleaner.state.floatbank4_a_air  \\\n",
       "date                                                            \n",
       "2016-01-15 00:00:00                                 14.016835   \n",
       "2016-01-15 01:00:00                                 13.992281   \n",
       "2016-01-15 02:00:00                                 14.015015   \n",
       "2016-01-15 03:00:00                                 14.036510   \n",
       "2016-01-15 04:00:00                                 14.027298   \n",
       "\n",
       "                     secondary_cleaner.state.floatbank4_a_level  \\\n",
       "date                                                              \n",
       "2016-01-15 00:00:00                                 -502.488007   \n",
       "2016-01-15 01:00:00                                 -505.503262   \n",
       "2016-01-15 02:00:00                                 -502.520901   \n",
       "2016-01-15 03:00:00                                 -500.857308   \n",
       "2016-01-15 04:00:00                                 -499.838632   \n",
       "\n",
       "                     secondary_cleaner.state.floatbank4_b_air  \\\n",
       "date                                                            \n",
       "2016-01-15 00:00:00                                 12.099931   \n",
       "2016-01-15 01:00:00                                 11.950531   \n",
       "2016-01-15 02:00:00                                 11.912783   \n",
       "2016-01-15 03:00:00                                 11.999550   \n",
       "2016-01-15 04:00:00                                 11.953070   \n",
       "\n",
       "                     secondary_cleaner.state.floatbank4_b_level  \\\n",
       "date                                                              \n",
       "2016-01-15 00:00:00                                 -504.715942   \n",
       "2016-01-15 01:00:00                                 -501.331529   \n",
       "2016-01-15 02:00:00                                 -501.133383   \n",
       "2016-01-15 03:00:00                                 -501.193686   \n",
       "2016-01-15 04:00:00                                 -501.053894   \n",
       "\n",
       "                     secondary_cleaner.state.floatbank5_a_air  \\\n",
       "date                                                            \n",
       "2016-01-15 00:00:00                                  9.925633   \n",
       "2016-01-15 01:00:00                                 10.039245   \n",
       "2016-01-15 02:00:00                                 10.070913   \n",
       "2016-01-15 03:00:00                                  9.970366   \n",
       "2016-01-15 04:00:00                                  9.925709   \n",
       "\n",
       "                     secondary_cleaner.state.floatbank5_a_level  \\\n",
       "date                                                              \n",
       "2016-01-15 00:00:00                                 -498.310211   \n",
       "2016-01-15 01:00:00                                 -500.169983   \n",
       "2016-01-15 02:00:00                                 -500.129135   \n",
       "2016-01-15 03:00:00                                 -499.201640   \n",
       "2016-01-15 04:00:00                                 -501.686727   \n",
       "\n",
       "                     secondary_cleaner.state.floatbank5_b_air  \\\n",
       "date                                                            \n",
       "2016-01-15 00:00:00                                  8.079666   \n",
       "2016-01-15 01:00:00                                  7.984757   \n",
       "2016-01-15 02:00:00                                  8.013877   \n",
       "2016-01-15 03:00:00                                  7.977324   \n",
       "2016-01-15 04:00:00                                  7.894242   \n",
       "\n",
       "                     secondary_cleaner.state.floatbank5_b_level  \\\n",
       "date                                                              \n",
       "2016-01-15 00:00:00                                 -500.470978   \n",
       "2016-01-15 01:00:00                                 -500.582168   \n",
       "2016-01-15 02:00:00                                 -500.517572   \n",
       "2016-01-15 03:00:00                                 -500.255908   \n",
       "2016-01-15 04:00:00                                 -500.356035   \n",
       "\n",
       "                     secondary_cleaner.state.floatbank6_a_air  \\\n",
       "date                                                            \n",
       "2016-01-15 00:00:00                                 14.151341   \n",
       "2016-01-15 01:00:00                                 13.998353   \n",
       "2016-01-15 02:00:00                                 14.028663   \n",
       "2016-01-15 03:00:00                                 14.005551   \n",
       "2016-01-15 04:00:00                                 13.996647   \n",
       "\n",
       "                     secondary_cleaner.state.floatbank6_a_level  \n",
       "date                                                             \n",
       "2016-01-15 00:00:00                                 -605.841980  \n",
       "2016-01-15 01:00:00                                 -599.787184  \n",
       "2016-01-15 02:00:00                                 -601.427363  \n",
       "2016-01-15 03:00:00                                 -599.996129  \n",
       "2016-01-15 04:00:00                                 -601.496691  \n",
       "\n",
       "[5 rows x 86 columns]"
      ]
     },
     "metadata": {},
     "output_type": "display_data"
    },
    {
     "name": "stdout",
     "output_type": "stream",
     "text": [
      "<class 'pandas.core.frame.DataFrame'>\n",
      "Index: 14149 entries, 2016-01-15 00:00:00 to 2018-08-18 10:59:59\n",
      "Data columns (total 86 columns):\n",
      "final.output.concentrate_ag                           14148 non-null float64\n",
      "final.output.concentrate_pb                           14148 non-null float64\n",
      "final.output.concentrate_sol                          13938 non-null float64\n",
      "final.output.concentrate_au                           14149 non-null float64\n",
      "final.output.recovery                                 14149 non-null float64\n",
      "final.output.tail_ag                                  14149 non-null float64\n",
      "final.output.tail_pb                                  14049 non-null float64\n",
      "final.output.tail_sol                                 14144 non-null float64\n",
      "final.output.tail_au                                  14149 non-null float64\n",
      "primary_cleaner.input.sulfate                         14129 non-null float64\n",
      "primary_cleaner.input.depressant                      14117 non-null float64\n",
      "primary_cleaner.input.feed_size                       14149 non-null float64\n",
      "primary_cleaner.input.xanthate                        14049 non-null float64\n",
      "primary_cleaner.output.concentrate_ag                 14149 non-null float64\n",
      "primary_cleaner.output.concentrate_pb                 14063 non-null float64\n",
      "primary_cleaner.output.concentrate_sol                13863 non-null float64\n",
      "primary_cleaner.output.concentrate_au                 14149 non-null float64\n",
      "primary_cleaner.output.tail_ag                        14148 non-null float64\n",
      "primary_cleaner.output.tail_pb                        14134 non-null float64\n",
      "primary_cleaner.output.tail_sol                       14103 non-null float64\n",
      "primary_cleaner.output.tail_au                        14149 non-null float64\n",
      "primary_cleaner.state.floatbank8_a_air                14145 non-null float64\n",
      "primary_cleaner.state.floatbank8_a_level              14148 non-null float64\n",
      "primary_cleaner.state.floatbank8_b_air                14145 non-null float64\n",
      "primary_cleaner.state.floatbank8_b_level              14148 non-null float64\n",
      "primary_cleaner.state.floatbank8_c_air                14147 non-null float64\n",
      "primary_cleaner.state.floatbank8_c_level              14148 non-null float64\n",
      "primary_cleaner.state.floatbank8_d_air                14146 non-null float64\n",
      "primary_cleaner.state.floatbank8_d_level              14148 non-null float64\n",
      "rougher.calculation.sulfate_to_au_concentrate         14148 non-null float64\n",
      "rougher.calculation.floatbank10_sulfate_to_au_feed    14148 non-null float64\n",
      "rougher.calculation.floatbank11_sulfate_to_au_feed    14148 non-null float64\n",
      "rougher.calculation.au_pb_ratio                       14149 non-null float64\n",
      "rougher.input.feed_ag                                 14149 non-null float64\n",
      "rougher.input.feed_pb                                 14049 non-null float64\n",
      "rougher.input.feed_rate                               14141 non-null float64\n",
      "rougher.input.feed_size                               14005 non-null float64\n",
      "rougher.input.feed_sol                                14071 non-null float64\n",
      "rougher.input.feed_au                                 14149 non-null float64\n",
      "rougher.input.floatbank10_sulfate                     14120 non-null float64\n",
      "rougher.input.floatbank10_xanthate                    14141 non-null float64\n",
      "rougher.input.floatbank11_sulfate                     14113 non-null float64\n",
      "rougher.input.floatbank11_xanthate                    13721 non-null float64\n",
      "rougher.output.concentrate_ag                         14149 non-null float64\n",
      "rougher.output.concentrate_pb                         14149 non-null float64\n",
      "rougher.output.concentrate_sol                        14127 non-null float64\n",
      "rougher.output.concentrate_au                         14149 non-null float64\n",
      "rougher.output.recovery                               14149 non-null float64\n",
      "rougher.output.tail_ag                                14148 non-null float64\n",
      "rougher.output.tail_pb                                14149 non-null float64\n",
      "rougher.output.tail_sol                               14149 non-null float64\n",
      "rougher.output.tail_au                                14149 non-null float64\n",
      "rougher.state.floatbank10_a_air                       14148 non-null float64\n",
      "rougher.state.floatbank10_a_level                     14148 non-null float64\n",
      "rougher.state.floatbank10_b_air                       14148 non-null float64\n",
      "rougher.state.floatbank10_b_level                     14148 non-null float64\n",
      "rougher.state.floatbank10_c_air                       14148 non-null float64\n",
      "rougher.state.floatbank10_c_level                     14148 non-null float64\n",
      "rougher.state.floatbank10_d_air                       14149 non-null float64\n",
      "rougher.state.floatbank10_d_level                     14149 non-null float64\n",
      "rougher.state.floatbank10_e_air                       13713 non-null float64\n",
      "rougher.state.floatbank10_e_level                     14149 non-null float64\n",
      "rougher.state.floatbank10_f_air                       14149 non-null float64\n",
      "rougher.state.floatbank10_f_level                     14149 non-null float64\n",
      "secondary_cleaner.output.tail_ag                      14147 non-null float64\n",
      "secondary_cleaner.output.tail_pb                      14139 non-null float64\n",
      "secondary_cleaner.output.tail_sol                     12544 non-null float64\n",
      "secondary_cleaner.output.tail_au                      14149 non-null float64\n",
      "secondary_cleaner.state.floatbank2_a_air              13932 non-null float64\n",
      "secondary_cleaner.state.floatbank2_a_level            14148 non-null float64\n",
      "secondary_cleaner.state.floatbank2_b_air              14128 non-null float64\n",
      "secondary_cleaner.state.floatbank2_b_level            14148 non-null float64\n",
      "secondary_cleaner.state.floatbank3_a_air              14145 non-null float64\n",
      "secondary_cleaner.state.floatbank3_a_level            14148 non-null float64\n",
      "secondary_cleaner.state.floatbank3_b_air              14148 non-null float64\n",
      "secondary_cleaner.state.floatbank3_b_level            14148 non-null float64\n",
      "secondary_cleaner.state.floatbank4_a_air              14143 non-null float64\n",
      "secondary_cleaner.state.floatbank4_a_level            14148 non-null float64\n",
      "secondary_cleaner.state.floatbank4_b_air              14148 non-null float64\n",
      "secondary_cleaner.state.floatbank4_b_level            14148 non-null float64\n",
      "secondary_cleaner.state.floatbank5_a_air              14148 non-null float64\n",
      "secondary_cleaner.state.floatbank5_a_level            14148 non-null float64\n",
      "secondary_cleaner.state.floatbank5_b_air              14148 non-null float64\n",
      "secondary_cleaner.state.floatbank5_b_level            14148 non-null float64\n",
      "secondary_cleaner.state.floatbank6_a_air              14147 non-null float64\n",
      "secondary_cleaner.state.floatbank6_a_level            14148 non-null float64\n",
      "dtypes: float64(86)\n",
      "memory usage: 9.4+ MB\n"
     ]
    }
   ],
   "source": [
    "data_train=pd.read_csv('/datasets/gold_recovery_train_new.csv', index_col=['date'])\n",
    "\n",
    "display(data_train.head())\n",
    "data_train.info()"
   ]
  },
  {
   "cell_type": "code",
   "execution_count": 3,
   "metadata": {},
   "outputs": [
    {
     "data": {
      "text/html": [
       "<div>\n",
       "<style scoped>\n",
       "    .dataframe tbody tr th:only-of-type {\n",
       "        vertical-align: middle;\n",
       "    }\n",
       "\n",
       "    .dataframe tbody tr th {\n",
       "        vertical-align: top;\n",
       "    }\n",
       "\n",
       "    .dataframe thead th {\n",
       "        text-align: right;\n",
       "    }\n",
       "</style>\n",
       "<table border=\"1\" class=\"dataframe\">\n",
       "  <thead>\n",
       "    <tr style=\"text-align: right;\">\n",
       "      <th></th>\n",
       "      <th>final.output.concentrate_ag</th>\n",
       "      <th>final.output.concentrate_pb</th>\n",
       "      <th>final.output.concentrate_sol</th>\n",
       "      <th>final.output.concentrate_au</th>\n",
       "      <th>final.output.recovery</th>\n",
       "      <th>final.output.tail_ag</th>\n",
       "      <th>final.output.tail_pb</th>\n",
       "      <th>final.output.tail_sol</th>\n",
       "      <th>final.output.tail_au</th>\n",
       "      <th>primary_cleaner.input.sulfate</th>\n",
       "      <th>...</th>\n",
       "      <th>secondary_cleaner.state.floatbank4_a_air</th>\n",
       "      <th>secondary_cleaner.state.floatbank4_a_level</th>\n",
       "      <th>secondary_cleaner.state.floatbank4_b_air</th>\n",
       "      <th>secondary_cleaner.state.floatbank4_b_level</th>\n",
       "      <th>secondary_cleaner.state.floatbank5_a_air</th>\n",
       "      <th>secondary_cleaner.state.floatbank5_a_level</th>\n",
       "      <th>secondary_cleaner.state.floatbank5_b_air</th>\n",
       "      <th>secondary_cleaner.state.floatbank5_b_level</th>\n",
       "      <th>secondary_cleaner.state.floatbank6_a_air</th>\n",
       "      <th>secondary_cleaner.state.floatbank6_a_level</th>\n",
       "    </tr>\n",
       "    <tr>\n",
       "      <th>date</th>\n",
       "      <th></th>\n",
       "      <th></th>\n",
       "      <th></th>\n",
       "      <th></th>\n",
       "      <th></th>\n",
       "      <th></th>\n",
       "      <th></th>\n",
       "      <th></th>\n",
       "      <th></th>\n",
       "      <th></th>\n",
       "      <th></th>\n",
       "      <th></th>\n",
       "      <th></th>\n",
       "      <th></th>\n",
       "      <th></th>\n",
       "      <th></th>\n",
       "      <th></th>\n",
       "      <th></th>\n",
       "      <th></th>\n",
       "      <th></th>\n",
       "      <th></th>\n",
       "    </tr>\n",
       "  </thead>\n",
       "  <tbody>\n",
       "    <tr>\n",
       "      <td>2016-01-15 00:00:00</td>\n",
       "      <td>6.055403</td>\n",
       "      <td>9.889648</td>\n",
       "      <td>5.507324</td>\n",
       "      <td>42.192020</td>\n",
       "      <td>70.541216</td>\n",
       "      <td>10.411962</td>\n",
       "      <td>0.895447</td>\n",
       "      <td>16.904297</td>\n",
       "      <td>2.143149</td>\n",
       "      <td>127.092003</td>\n",
       "      <td>...</td>\n",
       "      <td>14.016835</td>\n",
       "      <td>-502.488007</td>\n",
       "      <td>12.099931</td>\n",
       "      <td>-504.715942</td>\n",
       "      <td>9.925633</td>\n",
       "      <td>-498.310211</td>\n",
       "      <td>8.079666</td>\n",
       "      <td>-500.470978</td>\n",
       "      <td>14.151341</td>\n",
       "      <td>-605.841980</td>\n",
       "    </tr>\n",
       "    <tr>\n",
       "      <td>2016-01-15 01:00:00</td>\n",
       "      <td>6.029369</td>\n",
       "      <td>9.968944</td>\n",
       "      <td>5.257781</td>\n",
       "      <td>42.701629</td>\n",
       "      <td>69.266198</td>\n",
       "      <td>10.462676</td>\n",
       "      <td>0.927452</td>\n",
       "      <td>16.634514</td>\n",
       "      <td>2.224930</td>\n",
       "      <td>125.629232</td>\n",
       "      <td>...</td>\n",
       "      <td>13.992281</td>\n",
       "      <td>-505.503262</td>\n",
       "      <td>11.950531</td>\n",
       "      <td>-501.331529</td>\n",
       "      <td>10.039245</td>\n",
       "      <td>-500.169983</td>\n",
       "      <td>7.984757</td>\n",
       "      <td>-500.582168</td>\n",
       "      <td>13.998353</td>\n",
       "      <td>-599.787184</td>\n",
       "    </tr>\n",
       "    <tr>\n",
       "      <td>2016-01-15 02:00:00</td>\n",
       "      <td>6.055926</td>\n",
       "      <td>10.213995</td>\n",
       "      <td>5.383759</td>\n",
       "      <td>42.657501</td>\n",
       "      <td>68.116445</td>\n",
       "      <td>10.507046</td>\n",
       "      <td>0.953716</td>\n",
       "      <td>16.208849</td>\n",
       "      <td>2.257889</td>\n",
       "      <td>123.819808</td>\n",
       "      <td>...</td>\n",
       "      <td>14.015015</td>\n",
       "      <td>-502.520901</td>\n",
       "      <td>11.912783</td>\n",
       "      <td>-501.133383</td>\n",
       "      <td>10.070913</td>\n",
       "      <td>-500.129135</td>\n",
       "      <td>8.013877</td>\n",
       "      <td>-500.517572</td>\n",
       "      <td>14.028663</td>\n",
       "      <td>-601.427363</td>\n",
       "    </tr>\n",
       "    <tr>\n",
       "      <td>2016-01-15 03:00:00</td>\n",
       "      <td>6.047977</td>\n",
       "      <td>9.977019</td>\n",
       "      <td>4.858634</td>\n",
       "      <td>42.689819</td>\n",
       "      <td>68.347543</td>\n",
       "      <td>10.422762</td>\n",
       "      <td>0.883763</td>\n",
       "      <td>16.532835</td>\n",
       "      <td>2.146849</td>\n",
       "      <td>122.270188</td>\n",
       "      <td>...</td>\n",
       "      <td>14.036510</td>\n",
       "      <td>-500.857308</td>\n",
       "      <td>11.999550</td>\n",
       "      <td>-501.193686</td>\n",
       "      <td>9.970366</td>\n",
       "      <td>-499.201640</td>\n",
       "      <td>7.977324</td>\n",
       "      <td>-500.255908</td>\n",
       "      <td>14.005551</td>\n",
       "      <td>-599.996129</td>\n",
       "    </tr>\n",
       "    <tr>\n",
       "      <td>2016-01-15 04:00:00</td>\n",
       "      <td>6.148599</td>\n",
       "      <td>10.142511</td>\n",
       "      <td>4.939416</td>\n",
       "      <td>42.774141</td>\n",
       "      <td>66.927016</td>\n",
       "      <td>10.360302</td>\n",
       "      <td>0.792826</td>\n",
       "      <td>16.525686</td>\n",
       "      <td>2.055292</td>\n",
       "      <td>117.988169</td>\n",
       "      <td>...</td>\n",
       "      <td>14.027298</td>\n",
       "      <td>-499.838632</td>\n",
       "      <td>11.953070</td>\n",
       "      <td>-501.053894</td>\n",
       "      <td>9.925709</td>\n",
       "      <td>-501.686727</td>\n",
       "      <td>7.894242</td>\n",
       "      <td>-500.356035</td>\n",
       "      <td>13.996647</td>\n",
       "      <td>-601.496691</td>\n",
       "    </tr>\n",
       "  </tbody>\n",
       "</table>\n",
       "<p>5 rows × 86 columns</p>\n",
       "</div>"
      ],
      "text/plain": [
       "                     final.output.concentrate_ag  final.output.concentrate_pb  \\\n",
       "date                                                                            \n",
       "2016-01-15 00:00:00                     6.055403                     9.889648   \n",
       "2016-01-15 01:00:00                     6.029369                     9.968944   \n",
       "2016-01-15 02:00:00                     6.055926                    10.213995   \n",
       "2016-01-15 03:00:00                     6.047977                     9.977019   \n",
       "2016-01-15 04:00:00                     6.148599                    10.142511   \n",
       "\n",
       "                     final.output.concentrate_sol  \\\n",
       "date                                                \n",
       "2016-01-15 00:00:00                      5.507324   \n",
       "2016-01-15 01:00:00                      5.257781   \n",
       "2016-01-15 02:00:00                      5.383759   \n",
       "2016-01-15 03:00:00                      4.858634   \n",
       "2016-01-15 04:00:00                      4.939416   \n",
       "\n",
       "                     final.output.concentrate_au  final.output.recovery  \\\n",
       "date                                                                      \n",
       "2016-01-15 00:00:00                    42.192020              70.541216   \n",
       "2016-01-15 01:00:00                    42.701629              69.266198   \n",
       "2016-01-15 02:00:00                    42.657501              68.116445   \n",
       "2016-01-15 03:00:00                    42.689819              68.347543   \n",
       "2016-01-15 04:00:00                    42.774141              66.927016   \n",
       "\n",
       "                     final.output.tail_ag  final.output.tail_pb  \\\n",
       "date                                                              \n",
       "2016-01-15 00:00:00             10.411962              0.895447   \n",
       "2016-01-15 01:00:00             10.462676              0.927452   \n",
       "2016-01-15 02:00:00             10.507046              0.953716   \n",
       "2016-01-15 03:00:00             10.422762              0.883763   \n",
       "2016-01-15 04:00:00             10.360302              0.792826   \n",
       "\n",
       "                     final.output.tail_sol  final.output.tail_au  \\\n",
       "date                                                               \n",
       "2016-01-15 00:00:00              16.904297              2.143149   \n",
       "2016-01-15 01:00:00              16.634514              2.224930   \n",
       "2016-01-15 02:00:00              16.208849              2.257889   \n",
       "2016-01-15 03:00:00              16.532835              2.146849   \n",
       "2016-01-15 04:00:00              16.525686              2.055292   \n",
       "\n",
       "                     primary_cleaner.input.sulfate  ...  \\\n",
       "date                                                ...   \n",
       "2016-01-15 00:00:00                     127.092003  ...   \n",
       "2016-01-15 01:00:00                     125.629232  ...   \n",
       "2016-01-15 02:00:00                     123.819808  ...   \n",
       "2016-01-15 03:00:00                     122.270188  ...   \n",
       "2016-01-15 04:00:00                     117.988169  ...   \n",
       "\n",
       "                     secondary_cleaner.state.floatbank4_a_air  \\\n",
       "date                                                            \n",
       "2016-01-15 00:00:00                                 14.016835   \n",
       "2016-01-15 01:00:00                                 13.992281   \n",
       "2016-01-15 02:00:00                                 14.015015   \n",
       "2016-01-15 03:00:00                                 14.036510   \n",
       "2016-01-15 04:00:00                                 14.027298   \n",
       "\n",
       "                     secondary_cleaner.state.floatbank4_a_level  \\\n",
       "date                                                              \n",
       "2016-01-15 00:00:00                                 -502.488007   \n",
       "2016-01-15 01:00:00                                 -505.503262   \n",
       "2016-01-15 02:00:00                                 -502.520901   \n",
       "2016-01-15 03:00:00                                 -500.857308   \n",
       "2016-01-15 04:00:00                                 -499.838632   \n",
       "\n",
       "                     secondary_cleaner.state.floatbank4_b_air  \\\n",
       "date                                                            \n",
       "2016-01-15 00:00:00                                 12.099931   \n",
       "2016-01-15 01:00:00                                 11.950531   \n",
       "2016-01-15 02:00:00                                 11.912783   \n",
       "2016-01-15 03:00:00                                 11.999550   \n",
       "2016-01-15 04:00:00                                 11.953070   \n",
       "\n",
       "                     secondary_cleaner.state.floatbank4_b_level  \\\n",
       "date                                                              \n",
       "2016-01-15 00:00:00                                 -504.715942   \n",
       "2016-01-15 01:00:00                                 -501.331529   \n",
       "2016-01-15 02:00:00                                 -501.133383   \n",
       "2016-01-15 03:00:00                                 -501.193686   \n",
       "2016-01-15 04:00:00                                 -501.053894   \n",
       "\n",
       "                     secondary_cleaner.state.floatbank5_a_air  \\\n",
       "date                                                            \n",
       "2016-01-15 00:00:00                                  9.925633   \n",
       "2016-01-15 01:00:00                                 10.039245   \n",
       "2016-01-15 02:00:00                                 10.070913   \n",
       "2016-01-15 03:00:00                                  9.970366   \n",
       "2016-01-15 04:00:00                                  9.925709   \n",
       "\n",
       "                     secondary_cleaner.state.floatbank5_a_level  \\\n",
       "date                                                              \n",
       "2016-01-15 00:00:00                                 -498.310211   \n",
       "2016-01-15 01:00:00                                 -500.169983   \n",
       "2016-01-15 02:00:00                                 -500.129135   \n",
       "2016-01-15 03:00:00                                 -499.201640   \n",
       "2016-01-15 04:00:00                                 -501.686727   \n",
       "\n",
       "                     secondary_cleaner.state.floatbank5_b_air  \\\n",
       "date                                                            \n",
       "2016-01-15 00:00:00                                  8.079666   \n",
       "2016-01-15 01:00:00                                  7.984757   \n",
       "2016-01-15 02:00:00                                  8.013877   \n",
       "2016-01-15 03:00:00                                  7.977324   \n",
       "2016-01-15 04:00:00                                  7.894242   \n",
       "\n",
       "                     secondary_cleaner.state.floatbank5_b_level  \\\n",
       "date                                                              \n",
       "2016-01-15 00:00:00                                 -500.470978   \n",
       "2016-01-15 01:00:00                                 -500.582168   \n",
       "2016-01-15 02:00:00                                 -500.517572   \n",
       "2016-01-15 03:00:00                                 -500.255908   \n",
       "2016-01-15 04:00:00                                 -500.356035   \n",
       "\n",
       "                     secondary_cleaner.state.floatbank6_a_air  \\\n",
       "date                                                            \n",
       "2016-01-15 00:00:00                                 14.151341   \n",
       "2016-01-15 01:00:00                                 13.998353   \n",
       "2016-01-15 02:00:00                                 14.028663   \n",
       "2016-01-15 03:00:00                                 14.005551   \n",
       "2016-01-15 04:00:00                                 13.996647   \n",
       "\n",
       "                     secondary_cleaner.state.floatbank6_a_level  \n",
       "date                                                             \n",
       "2016-01-15 00:00:00                                 -605.841980  \n",
       "2016-01-15 01:00:00                                 -599.787184  \n",
       "2016-01-15 02:00:00                                 -601.427363  \n",
       "2016-01-15 03:00:00                                 -599.996129  \n",
       "2016-01-15 04:00:00                                 -601.496691  \n",
       "\n",
       "[5 rows x 86 columns]"
      ]
     },
     "metadata": {},
     "output_type": "display_data"
    },
    {
     "name": "stdout",
     "output_type": "stream",
     "text": [
      "<class 'pandas.core.frame.DataFrame'>\n",
      "Index: 19439 entries, 2016-01-15 00:00:00 to 2018-08-18 10:59:59\n",
      "Data columns (total 86 columns):\n",
      "final.output.concentrate_ag                           19438 non-null float64\n",
      "final.output.concentrate_pb                           19438 non-null float64\n",
      "final.output.concentrate_sol                          19228 non-null float64\n",
      "final.output.concentrate_au                           19439 non-null float64\n",
      "final.output.recovery                                 19439 non-null float64\n",
      "final.output.tail_ag                                  19438 non-null float64\n",
      "final.output.tail_pb                                  19338 non-null float64\n",
      "final.output.tail_sol                                 19433 non-null float64\n",
      "final.output.tail_au                                  19439 non-null float64\n",
      "primary_cleaner.input.sulfate                         19415 non-null float64\n",
      "primary_cleaner.input.depressant                      19402 non-null float64\n",
      "primary_cleaner.input.feed_size                       19439 non-null float64\n",
      "primary_cleaner.input.xanthate                        19335 non-null float64\n",
      "primary_cleaner.output.concentrate_ag                 19439 non-null float64\n",
      "primary_cleaner.output.concentrate_pb                 19323 non-null float64\n",
      "primary_cleaner.output.concentrate_sol                19069 non-null float64\n",
      "primary_cleaner.output.concentrate_au                 19439 non-null float64\n",
      "primary_cleaner.output.tail_ag                        19435 non-null float64\n",
      "primary_cleaner.output.tail_pb                        19418 non-null float64\n",
      "primary_cleaner.output.tail_sol                       19377 non-null float64\n",
      "primary_cleaner.output.tail_au                        19439 non-null float64\n",
      "primary_cleaner.state.floatbank8_a_air                19435 non-null float64\n",
      "primary_cleaner.state.floatbank8_a_level              19438 non-null float64\n",
      "primary_cleaner.state.floatbank8_b_air                19435 non-null float64\n",
      "primary_cleaner.state.floatbank8_b_level              19438 non-null float64\n",
      "primary_cleaner.state.floatbank8_c_air                19437 non-null float64\n",
      "primary_cleaner.state.floatbank8_c_level              19438 non-null float64\n",
      "primary_cleaner.state.floatbank8_d_air                19436 non-null float64\n",
      "primary_cleaner.state.floatbank8_d_level              19438 non-null float64\n",
      "rougher.calculation.sulfate_to_au_concentrate         19437 non-null float64\n",
      "rougher.calculation.floatbank10_sulfate_to_au_feed    19437 non-null float64\n",
      "rougher.calculation.floatbank11_sulfate_to_au_feed    19437 non-null float64\n",
      "rougher.calculation.au_pb_ratio                       19439 non-null float64\n",
      "rougher.input.feed_ag                                 19439 non-null float64\n",
      "rougher.input.feed_pb                                 19339 non-null float64\n",
      "rougher.input.feed_rate                               19428 non-null float64\n",
      "rougher.input.feed_size                               19294 non-null float64\n",
      "rougher.input.feed_sol                                19340 non-null float64\n",
      "rougher.input.feed_au                                 19439 non-null float64\n",
      "rougher.input.floatbank10_sulfate                     19405 non-null float64\n",
      "rougher.input.floatbank10_xanthate                    19431 non-null float64\n",
      "rougher.input.floatbank11_sulfate                     19395 non-null float64\n",
      "rougher.input.floatbank11_xanthate                    18986 non-null float64\n",
      "rougher.output.concentrate_ag                         19439 non-null float64\n",
      "rougher.output.concentrate_pb                         19439 non-null float64\n",
      "rougher.output.concentrate_sol                        19416 non-null float64\n",
      "rougher.output.concentrate_au                         19439 non-null float64\n",
      "rougher.output.recovery                               19439 non-null float64\n",
      "rougher.output.tail_ag                                19438 non-null float64\n",
      "rougher.output.tail_pb                                19439 non-null float64\n",
      "rougher.output.tail_sol                               19439 non-null float64\n",
      "rougher.output.tail_au                                19439 non-null float64\n",
      "rougher.state.floatbank10_a_air                       19438 non-null float64\n",
      "rougher.state.floatbank10_a_level                     19438 non-null float64\n",
      "rougher.state.floatbank10_b_air                       19438 non-null float64\n",
      "rougher.state.floatbank10_b_level                     19438 non-null float64\n",
      "rougher.state.floatbank10_c_air                       19438 non-null float64\n",
      "rougher.state.floatbank10_c_level                     19438 non-null float64\n",
      "rougher.state.floatbank10_d_air                       19439 non-null float64\n",
      "rougher.state.floatbank10_d_level                     19439 non-null float64\n",
      "rougher.state.floatbank10_e_air                       19003 non-null float64\n",
      "rougher.state.floatbank10_e_level                     19439 non-null float64\n",
      "rougher.state.floatbank10_f_air                       19439 non-null float64\n",
      "rougher.state.floatbank10_f_level                     19439 non-null float64\n",
      "secondary_cleaner.output.tail_ag                      19437 non-null float64\n",
      "secondary_cleaner.output.tail_pb                      19427 non-null float64\n",
      "secondary_cleaner.output.tail_sol                     17691 non-null float64\n",
      "secondary_cleaner.output.tail_au                      19439 non-null float64\n",
      "secondary_cleaner.state.floatbank2_a_air              19219 non-null float64\n",
      "secondary_cleaner.state.floatbank2_a_level            19438 non-null float64\n",
      "secondary_cleaner.state.floatbank2_b_air              19416 non-null float64\n",
      "secondary_cleaner.state.floatbank2_b_level            19438 non-null float64\n",
      "secondary_cleaner.state.floatbank3_a_air              19426 non-null float64\n",
      "secondary_cleaner.state.floatbank3_a_level            19438 non-null float64\n",
      "secondary_cleaner.state.floatbank3_b_air              19438 non-null float64\n",
      "secondary_cleaner.state.floatbank3_b_level            19438 non-null float64\n",
      "secondary_cleaner.state.floatbank4_a_air              19433 non-null float64\n",
      "secondary_cleaner.state.floatbank4_a_level            19438 non-null float64\n",
      "secondary_cleaner.state.floatbank4_b_air              19438 non-null float64\n",
      "secondary_cleaner.state.floatbank4_b_level            19438 non-null float64\n",
      "secondary_cleaner.state.floatbank5_a_air              19438 non-null float64\n",
      "secondary_cleaner.state.floatbank5_a_level            19438 non-null float64\n",
      "secondary_cleaner.state.floatbank5_b_air              19438 non-null float64\n",
      "secondary_cleaner.state.floatbank5_b_level            19438 non-null float64\n",
      "secondary_cleaner.state.floatbank6_a_air              19437 non-null float64\n",
      "secondary_cleaner.state.floatbank6_a_level            19438 non-null float64\n",
      "dtypes: float64(86)\n",
      "memory usage: 12.9+ MB\n"
     ]
    }
   ],
   "source": [
    "data_full=pd.read_csv('/datasets/gold_recovery_full_new.csv', index_col=['date'])\n",
    "\n",
    "display(data_full.head())\n",
    "data_full.info()"
   ]
  },
  {
   "cell_type": "code",
   "execution_count": 4,
   "metadata": {
    "scrolled": true
   },
   "outputs": [
    {
     "data": {
      "text/html": [
       "<div>\n",
       "<style scoped>\n",
       "    .dataframe tbody tr th:only-of-type {\n",
       "        vertical-align: middle;\n",
       "    }\n",
       "\n",
       "    .dataframe tbody tr th {\n",
       "        vertical-align: top;\n",
       "    }\n",
       "\n",
       "    .dataframe thead th {\n",
       "        text-align: right;\n",
       "    }\n",
       "</style>\n",
       "<table border=\"1\" class=\"dataframe\">\n",
       "  <thead>\n",
       "    <tr style=\"text-align: right;\">\n",
       "      <th></th>\n",
       "      <th>primary_cleaner.input.sulfate</th>\n",
       "      <th>primary_cleaner.input.depressant</th>\n",
       "      <th>primary_cleaner.input.feed_size</th>\n",
       "      <th>primary_cleaner.input.xanthate</th>\n",
       "      <th>primary_cleaner.state.floatbank8_a_air</th>\n",
       "      <th>primary_cleaner.state.floatbank8_a_level</th>\n",
       "      <th>primary_cleaner.state.floatbank8_b_air</th>\n",
       "      <th>primary_cleaner.state.floatbank8_b_level</th>\n",
       "      <th>primary_cleaner.state.floatbank8_c_air</th>\n",
       "      <th>primary_cleaner.state.floatbank8_c_level</th>\n",
       "      <th>...</th>\n",
       "      <th>secondary_cleaner.state.floatbank4_a_air</th>\n",
       "      <th>secondary_cleaner.state.floatbank4_a_level</th>\n",
       "      <th>secondary_cleaner.state.floatbank4_b_air</th>\n",
       "      <th>secondary_cleaner.state.floatbank4_b_level</th>\n",
       "      <th>secondary_cleaner.state.floatbank5_a_air</th>\n",
       "      <th>secondary_cleaner.state.floatbank5_a_level</th>\n",
       "      <th>secondary_cleaner.state.floatbank5_b_air</th>\n",
       "      <th>secondary_cleaner.state.floatbank5_b_level</th>\n",
       "      <th>secondary_cleaner.state.floatbank6_a_air</th>\n",
       "      <th>secondary_cleaner.state.floatbank6_a_level</th>\n",
       "    </tr>\n",
       "    <tr>\n",
       "      <th>date</th>\n",
       "      <th></th>\n",
       "      <th></th>\n",
       "      <th></th>\n",
       "      <th></th>\n",
       "      <th></th>\n",
       "      <th></th>\n",
       "      <th></th>\n",
       "      <th></th>\n",
       "      <th></th>\n",
       "      <th></th>\n",
       "      <th></th>\n",
       "      <th></th>\n",
       "      <th></th>\n",
       "      <th></th>\n",
       "      <th></th>\n",
       "      <th></th>\n",
       "      <th></th>\n",
       "      <th></th>\n",
       "      <th></th>\n",
       "      <th></th>\n",
       "      <th></th>\n",
       "    </tr>\n",
       "  </thead>\n",
       "  <tbody>\n",
       "    <tr>\n",
       "      <td>2016-09-01 00:59:59</td>\n",
       "      <td>210.800909</td>\n",
       "      <td>14.993118</td>\n",
       "      <td>8.080000</td>\n",
       "      <td>1.005021</td>\n",
       "      <td>1398.981301</td>\n",
       "      <td>-500.225577</td>\n",
       "      <td>1399.144926</td>\n",
       "      <td>-499.919735</td>\n",
       "      <td>1400.102998</td>\n",
       "      <td>-500.704369</td>\n",
       "      <td>...</td>\n",
       "      <td>12.023554</td>\n",
       "      <td>-497.795834</td>\n",
       "      <td>8.016656</td>\n",
       "      <td>-501.289139</td>\n",
       "      <td>7.946562</td>\n",
       "      <td>-432.317850</td>\n",
       "      <td>4.872511</td>\n",
       "      <td>-500.037437</td>\n",
       "      <td>26.705889</td>\n",
       "      <td>-499.709414</td>\n",
       "    </tr>\n",
       "    <tr>\n",
       "      <td>2016-09-01 01:59:59</td>\n",
       "      <td>215.392455</td>\n",
       "      <td>14.987471</td>\n",
       "      <td>8.080000</td>\n",
       "      <td>0.990469</td>\n",
       "      <td>1398.777912</td>\n",
       "      <td>-500.057435</td>\n",
       "      <td>1398.055362</td>\n",
       "      <td>-499.778182</td>\n",
       "      <td>1396.151033</td>\n",
       "      <td>-499.240168</td>\n",
       "      <td>...</td>\n",
       "      <td>12.058140</td>\n",
       "      <td>-498.695773</td>\n",
       "      <td>8.130979</td>\n",
       "      <td>-499.634209</td>\n",
       "      <td>7.958270</td>\n",
       "      <td>-525.839648</td>\n",
       "      <td>4.878850</td>\n",
       "      <td>-500.162375</td>\n",
       "      <td>25.019940</td>\n",
       "      <td>-499.819438</td>\n",
       "    </tr>\n",
       "    <tr>\n",
       "      <td>2016-09-01 02:59:59</td>\n",
       "      <td>215.259946</td>\n",
       "      <td>12.884934</td>\n",
       "      <td>7.786667</td>\n",
       "      <td>0.996043</td>\n",
       "      <td>1398.493666</td>\n",
       "      <td>-500.868360</td>\n",
       "      <td>1398.860436</td>\n",
       "      <td>-499.764529</td>\n",
       "      <td>1398.075709</td>\n",
       "      <td>-502.151509</td>\n",
       "      <td>...</td>\n",
       "      <td>11.962366</td>\n",
       "      <td>-498.767484</td>\n",
       "      <td>8.096893</td>\n",
       "      <td>-500.827423</td>\n",
       "      <td>8.071056</td>\n",
       "      <td>-500.801673</td>\n",
       "      <td>4.905125</td>\n",
       "      <td>-499.828510</td>\n",
       "      <td>24.994862</td>\n",
       "      <td>-500.622559</td>\n",
       "    </tr>\n",
       "    <tr>\n",
       "      <td>2016-09-01 03:59:59</td>\n",
       "      <td>215.336236</td>\n",
       "      <td>12.006805</td>\n",
       "      <td>7.640000</td>\n",
       "      <td>0.863514</td>\n",
       "      <td>1399.618111</td>\n",
       "      <td>-498.863574</td>\n",
       "      <td>1397.440120</td>\n",
       "      <td>-499.211024</td>\n",
       "      <td>1400.129303</td>\n",
       "      <td>-498.355873</td>\n",
       "      <td>...</td>\n",
       "      <td>12.033091</td>\n",
       "      <td>-498.350935</td>\n",
       "      <td>8.074946</td>\n",
       "      <td>-499.474407</td>\n",
       "      <td>7.897085</td>\n",
       "      <td>-500.868509</td>\n",
       "      <td>4.931400</td>\n",
       "      <td>-499.963623</td>\n",
       "      <td>24.948919</td>\n",
       "      <td>-498.709987</td>\n",
       "    </tr>\n",
       "    <tr>\n",
       "      <td>2016-09-01 04:59:59</td>\n",
       "      <td>199.099327</td>\n",
       "      <td>10.682530</td>\n",
       "      <td>7.530000</td>\n",
       "      <td>0.805575</td>\n",
       "      <td>1401.268123</td>\n",
       "      <td>-500.808305</td>\n",
       "      <td>1398.128818</td>\n",
       "      <td>-499.504543</td>\n",
       "      <td>1402.172226</td>\n",
       "      <td>-500.810606</td>\n",
       "      <td>...</td>\n",
       "      <td>12.025367</td>\n",
       "      <td>-500.786497</td>\n",
       "      <td>8.054678</td>\n",
       "      <td>-500.397500</td>\n",
       "      <td>8.107890</td>\n",
       "      <td>-509.526725</td>\n",
       "      <td>4.957674</td>\n",
       "      <td>-500.360026</td>\n",
       "      <td>25.003331</td>\n",
       "      <td>-500.856333</td>\n",
       "    </tr>\n",
       "  </tbody>\n",
       "</table>\n",
       "<p>5 rows × 52 columns</p>\n",
       "</div>"
      ],
      "text/plain": [
       "                     primary_cleaner.input.sulfate  \\\n",
       "date                                                 \n",
       "2016-09-01 00:59:59                     210.800909   \n",
       "2016-09-01 01:59:59                     215.392455   \n",
       "2016-09-01 02:59:59                     215.259946   \n",
       "2016-09-01 03:59:59                     215.336236   \n",
       "2016-09-01 04:59:59                     199.099327   \n",
       "\n",
       "                     primary_cleaner.input.depressant  \\\n",
       "date                                                    \n",
       "2016-09-01 00:59:59                         14.993118   \n",
       "2016-09-01 01:59:59                         14.987471   \n",
       "2016-09-01 02:59:59                         12.884934   \n",
       "2016-09-01 03:59:59                         12.006805   \n",
       "2016-09-01 04:59:59                         10.682530   \n",
       "\n",
       "                     primary_cleaner.input.feed_size  \\\n",
       "date                                                   \n",
       "2016-09-01 00:59:59                         8.080000   \n",
       "2016-09-01 01:59:59                         8.080000   \n",
       "2016-09-01 02:59:59                         7.786667   \n",
       "2016-09-01 03:59:59                         7.640000   \n",
       "2016-09-01 04:59:59                         7.530000   \n",
       "\n",
       "                     primary_cleaner.input.xanthate  \\\n",
       "date                                                  \n",
       "2016-09-01 00:59:59                        1.005021   \n",
       "2016-09-01 01:59:59                        0.990469   \n",
       "2016-09-01 02:59:59                        0.996043   \n",
       "2016-09-01 03:59:59                        0.863514   \n",
       "2016-09-01 04:59:59                        0.805575   \n",
       "\n",
       "                     primary_cleaner.state.floatbank8_a_air  \\\n",
       "date                                                          \n",
       "2016-09-01 00:59:59                             1398.981301   \n",
       "2016-09-01 01:59:59                             1398.777912   \n",
       "2016-09-01 02:59:59                             1398.493666   \n",
       "2016-09-01 03:59:59                             1399.618111   \n",
       "2016-09-01 04:59:59                             1401.268123   \n",
       "\n",
       "                     primary_cleaner.state.floatbank8_a_level  \\\n",
       "date                                                            \n",
       "2016-09-01 00:59:59                               -500.225577   \n",
       "2016-09-01 01:59:59                               -500.057435   \n",
       "2016-09-01 02:59:59                               -500.868360   \n",
       "2016-09-01 03:59:59                               -498.863574   \n",
       "2016-09-01 04:59:59                               -500.808305   \n",
       "\n",
       "                     primary_cleaner.state.floatbank8_b_air  \\\n",
       "date                                                          \n",
       "2016-09-01 00:59:59                             1399.144926   \n",
       "2016-09-01 01:59:59                             1398.055362   \n",
       "2016-09-01 02:59:59                             1398.860436   \n",
       "2016-09-01 03:59:59                             1397.440120   \n",
       "2016-09-01 04:59:59                             1398.128818   \n",
       "\n",
       "                     primary_cleaner.state.floatbank8_b_level  \\\n",
       "date                                                            \n",
       "2016-09-01 00:59:59                               -499.919735   \n",
       "2016-09-01 01:59:59                               -499.778182   \n",
       "2016-09-01 02:59:59                               -499.764529   \n",
       "2016-09-01 03:59:59                               -499.211024   \n",
       "2016-09-01 04:59:59                               -499.504543   \n",
       "\n",
       "                     primary_cleaner.state.floatbank8_c_air  \\\n",
       "date                                                          \n",
       "2016-09-01 00:59:59                             1400.102998   \n",
       "2016-09-01 01:59:59                             1396.151033   \n",
       "2016-09-01 02:59:59                             1398.075709   \n",
       "2016-09-01 03:59:59                             1400.129303   \n",
       "2016-09-01 04:59:59                             1402.172226   \n",
       "\n",
       "                     primary_cleaner.state.floatbank8_c_level  ...  \\\n",
       "date                                                           ...   \n",
       "2016-09-01 00:59:59                               -500.704369  ...   \n",
       "2016-09-01 01:59:59                               -499.240168  ...   \n",
       "2016-09-01 02:59:59                               -502.151509  ...   \n",
       "2016-09-01 03:59:59                               -498.355873  ...   \n",
       "2016-09-01 04:59:59                               -500.810606  ...   \n",
       "\n",
       "                     secondary_cleaner.state.floatbank4_a_air  \\\n",
       "date                                                            \n",
       "2016-09-01 00:59:59                                 12.023554   \n",
       "2016-09-01 01:59:59                                 12.058140   \n",
       "2016-09-01 02:59:59                                 11.962366   \n",
       "2016-09-01 03:59:59                                 12.033091   \n",
       "2016-09-01 04:59:59                                 12.025367   \n",
       "\n",
       "                     secondary_cleaner.state.floatbank4_a_level  \\\n",
       "date                                                              \n",
       "2016-09-01 00:59:59                                 -497.795834   \n",
       "2016-09-01 01:59:59                                 -498.695773   \n",
       "2016-09-01 02:59:59                                 -498.767484   \n",
       "2016-09-01 03:59:59                                 -498.350935   \n",
       "2016-09-01 04:59:59                                 -500.786497   \n",
       "\n",
       "                     secondary_cleaner.state.floatbank4_b_air  \\\n",
       "date                                                            \n",
       "2016-09-01 00:59:59                                  8.016656   \n",
       "2016-09-01 01:59:59                                  8.130979   \n",
       "2016-09-01 02:59:59                                  8.096893   \n",
       "2016-09-01 03:59:59                                  8.074946   \n",
       "2016-09-01 04:59:59                                  8.054678   \n",
       "\n",
       "                     secondary_cleaner.state.floatbank4_b_level  \\\n",
       "date                                                              \n",
       "2016-09-01 00:59:59                                 -501.289139   \n",
       "2016-09-01 01:59:59                                 -499.634209   \n",
       "2016-09-01 02:59:59                                 -500.827423   \n",
       "2016-09-01 03:59:59                                 -499.474407   \n",
       "2016-09-01 04:59:59                                 -500.397500   \n",
       "\n",
       "                     secondary_cleaner.state.floatbank5_a_air  \\\n",
       "date                                                            \n",
       "2016-09-01 00:59:59                                  7.946562   \n",
       "2016-09-01 01:59:59                                  7.958270   \n",
       "2016-09-01 02:59:59                                  8.071056   \n",
       "2016-09-01 03:59:59                                  7.897085   \n",
       "2016-09-01 04:59:59                                  8.107890   \n",
       "\n",
       "                     secondary_cleaner.state.floatbank5_a_level  \\\n",
       "date                                                              \n",
       "2016-09-01 00:59:59                                 -432.317850   \n",
       "2016-09-01 01:59:59                                 -525.839648   \n",
       "2016-09-01 02:59:59                                 -500.801673   \n",
       "2016-09-01 03:59:59                                 -500.868509   \n",
       "2016-09-01 04:59:59                                 -509.526725   \n",
       "\n",
       "                     secondary_cleaner.state.floatbank5_b_air  \\\n",
       "date                                                            \n",
       "2016-09-01 00:59:59                                  4.872511   \n",
       "2016-09-01 01:59:59                                  4.878850   \n",
       "2016-09-01 02:59:59                                  4.905125   \n",
       "2016-09-01 03:59:59                                  4.931400   \n",
       "2016-09-01 04:59:59                                  4.957674   \n",
       "\n",
       "                     secondary_cleaner.state.floatbank5_b_level  \\\n",
       "date                                                              \n",
       "2016-09-01 00:59:59                                 -500.037437   \n",
       "2016-09-01 01:59:59                                 -500.162375   \n",
       "2016-09-01 02:59:59                                 -499.828510   \n",
       "2016-09-01 03:59:59                                 -499.963623   \n",
       "2016-09-01 04:59:59                                 -500.360026   \n",
       "\n",
       "                     secondary_cleaner.state.floatbank6_a_air  \\\n",
       "date                                                            \n",
       "2016-09-01 00:59:59                                 26.705889   \n",
       "2016-09-01 01:59:59                                 25.019940   \n",
       "2016-09-01 02:59:59                                 24.994862   \n",
       "2016-09-01 03:59:59                                 24.948919   \n",
       "2016-09-01 04:59:59                                 25.003331   \n",
       "\n",
       "                     secondary_cleaner.state.floatbank6_a_level  \n",
       "date                                                             \n",
       "2016-09-01 00:59:59                                 -499.709414  \n",
       "2016-09-01 01:59:59                                 -499.819438  \n",
       "2016-09-01 02:59:59                                 -500.622559  \n",
       "2016-09-01 03:59:59                                 -498.709987  \n",
       "2016-09-01 04:59:59                                 -500.856333  \n",
       "\n",
       "[5 rows x 52 columns]"
      ]
     },
     "metadata": {},
     "output_type": "display_data"
    },
    {
     "name": "stdout",
     "output_type": "stream",
     "text": [
      "<class 'pandas.core.frame.DataFrame'>\n",
      "Index: 5290 entries, 2016-09-01 00:59:59 to 2017-12-31 23:59:59\n",
      "Data columns (total 52 columns):\n",
      "primary_cleaner.input.sulfate                 5286 non-null float64\n",
      "primary_cleaner.input.depressant              5285 non-null float64\n",
      "primary_cleaner.input.feed_size               5290 non-null float64\n",
      "primary_cleaner.input.xanthate                5286 non-null float64\n",
      "primary_cleaner.state.floatbank8_a_air        5290 non-null float64\n",
      "primary_cleaner.state.floatbank8_a_level      5290 non-null float64\n",
      "primary_cleaner.state.floatbank8_b_air        5290 non-null float64\n",
      "primary_cleaner.state.floatbank8_b_level      5290 non-null float64\n",
      "primary_cleaner.state.floatbank8_c_air        5290 non-null float64\n",
      "primary_cleaner.state.floatbank8_c_level      5290 non-null float64\n",
      "primary_cleaner.state.floatbank8_d_air        5290 non-null float64\n",
      "primary_cleaner.state.floatbank8_d_level      5290 non-null float64\n",
      "rougher.input.feed_ag                         5290 non-null float64\n",
      "rougher.input.feed_pb                         5290 non-null float64\n",
      "rougher.input.feed_rate                       5287 non-null float64\n",
      "rougher.input.feed_size                       5289 non-null float64\n",
      "rougher.input.feed_sol                        5269 non-null float64\n",
      "rougher.input.feed_au                         5290 non-null float64\n",
      "rougher.input.floatbank10_sulfate             5285 non-null float64\n",
      "rougher.input.floatbank10_xanthate            5290 non-null float64\n",
      "rougher.input.floatbank11_sulfate             5282 non-null float64\n",
      "rougher.input.floatbank11_xanthate            5265 non-null float64\n",
      "rougher.state.floatbank10_a_air               5290 non-null float64\n",
      "rougher.state.floatbank10_a_level             5290 non-null float64\n",
      "rougher.state.floatbank10_b_air               5290 non-null float64\n",
      "rougher.state.floatbank10_b_level             5290 non-null float64\n",
      "rougher.state.floatbank10_c_air               5290 non-null float64\n",
      "rougher.state.floatbank10_c_level             5290 non-null float64\n",
      "rougher.state.floatbank10_d_air               5290 non-null float64\n",
      "rougher.state.floatbank10_d_level             5290 non-null float64\n",
      "rougher.state.floatbank10_e_air               5290 non-null float64\n",
      "rougher.state.floatbank10_e_level             5290 non-null float64\n",
      "rougher.state.floatbank10_f_air               5290 non-null float64\n",
      "rougher.state.floatbank10_f_level             5290 non-null float64\n",
      "secondary_cleaner.state.floatbank2_a_air      5287 non-null float64\n",
      "secondary_cleaner.state.floatbank2_a_level    5290 non-null float64\n",
      "secondary_cleaner.state.floatbank2_b_air      5288 non-null float64\n",
      "secondary_cleaner.state.floatbank2_b_level    5290 non-null float64\n",
      "secondary_cleaner.state.floatbank3_a_air      5281 non-null float64\n",
      "secondary_cleaner.state.floatbank3_a_level    5290 non-null float64\n",
      "secondary_cleaner.state.floatbank3_b_air      5290 non-null float64\n",
      "secondary_cleaner.state.floatbank3_b_level    5290 non-null float64\n",
      "secondary_cleaner.state.floatbank4_a_air      5290 non-null float64\n",
      "secondary_cleaner.state.floatbank4_a_level    5290 non-null float64\n",
      "secondary_cleaner.state.floatbank4_b_air      5290 non-null float64\n",
      "secondary_cleaner.state.floatbank4_b_level    5290 non-null float64\n",
      "secondary_cleaner.state.floatbank5_a_air      5290 non-null float64\n",
      "secondary_cleaner.state.floatbank5_a_level    5290 non-null float64\n",
      "secondary_cleaner.state.floatbank5_b_air      5290 non-null float64\n",
      "secondary_cleaner.state.floatbank5_b_level    5290 non-null float64\n",
      "secondary_cleaner.state.floatbank6_a_air      5290 non-null float64\n",
      "secondary_cleaner.state.floatbank6_a_level    5290 non-null float64\n",
      "dtypes: float64(52)\n",
      "memory usage: 2.1+ MB\n"
     ]
    }
   ],
   "source": [
    "data_test=pd.read_csv('/datasets/gold_recovery_test_new.csv', index_col=['date'])\n",
    "\n",
    "display(data_test.head())\n",
    "data_test.info()"
   ]
  },
  {
   "cell_type": "markdown",
   "metadata": {},
   "source": [
    "Посмотрим на типы данных. Все типы данных корректные, дата является индексом."
   ]
  },
  {
   "cell_type": "markdown",
   "metadata": {},
   "source": [
    "Рассчитаем эффективность"
   ]
  },
  {
   "cell_type": "code",
   "execution_count": 5,
   "metadata": {},
   "outputs": [
    {
     "data": {
      "text/plain": [
       "date\n",
       "2016-01-15 00:00:00    87.107763\n",
       "2016-01-15 01:00:00    86.843261\n",
       "2016-01-15 02:00:00    86.842308\n",
       "2016-01-15 03:00:00    87.226430\n",
       "2016-01-15 04:00:00    86.688794\n",
       "dtype: float64"
      ]
     },
     "metadata": {},
     "output_type": "display_data"
    }
   ],
   "source": [
    "efficiency = ((data_train['rougher.output.concentrate_au']*\n",
    "                            (data_train['rougher.input.feed_au']- \n",
    "                             data_train['rougher.output.tail_au']))/(data_train['rougher.input.feed_au']*\n",
    "                                                                   (data_train['rougher.output.concentrate_au'] -\n",
    "                                                                    data_train['rougher.output.tail_au'] )))*100\n",
    "display(efficiency.head())\n"
   ]
  },
  {
   "cell_type": "markdown",
   "metadata": {},
   "source": [
    "Вычислим MAE и отдельно выведем средние значения обоих показателей\n"
   ]
  },
  {
   "cell_type": "code",
   "execution_count": 6,
   "metadata": {},
   "outputs": [
    {
     "name": "stdout",
     "output_type": "stream",
     "text": [
      "9.682896147825551e-15\n",
      "Среднее значение эффективности в датасете 82.70450164550293\n",
      "Среднее значение эффективности в датасете 82.70450164550293\n"
     ]
    }
   ],
   "source": [
    "print(mean_absolute_error(data_train['rougher.output.recovery'], efficiency))\n",
    "\n",
    "print('Среднее значение эффективности в датасете', data_train['rougher.output.recovery'].mean())\n",
    "print('Среднее значение эффективности в датасете', efficiency.mean())"
   ]
  },
  {
   "cell_type": "markdown",
   "metadata": {},
   "source": [
    "MAE показывает разницу, но средние значения идентичны, а значит разница скорее всего обусловлена наличием пропусков в данных"
   ]
  },
  {
   "cell_type": "markdown",
   "metadata": {},
   "source": [
    "Заполним пропуски методом interpolate()"
   ]
  },
  {
   "cell_type": "code",
   "execution_count": 7,
   "metadata": {
    "scrolled": true
   },
   "outputs": [
    {
     "name": "stdout",
     "output_type": "stream",
     "text": [
      "<class 'pandas.core.frame.DataFrame'>\n",
      "Index: 14149 entries, 2016-01-15 00:00:00 to 2018-08-18 10:59:59\n",
      "Data columns (total 86 columns):\n",
      "final.output.concentrate_ag                           14149 non-null float64\n",
      "final.output.concentrate_pb                           14149 non-null float64\n",
      "final.output.concentrate_sol                          14149 non-null float64\n",
      "final.output.concentrate_au                           14149 non-null float64\n",
      "final.output.recovery                                 14149 non-null float64\n",
      "final.output.tail_ag                                  14149 non-null float64\n",
      "final.output.tail_pb                                  14149 non-null float64\n",
      "final.output.tail_sol                                 14149 non-null float64\n",
      "final.output.tail_au                                  14149 non-null float64\n",
      "primary_cleaner.input.sulfate                         14149 non-null float64\n",
      "primary_cleaner.input.depressant                      14149 non-null float64\n",
      "primary_cleaner.input.feed_size                       14149 non-null float64\n",
      "primary_cleaner.input.xanthate                        14149 non-null float64\n",
      "primary_cleaner.output.concentrate_ag                 14149 non-null float64\n",
      "primary_cleaner.output.concentrate_pb                 14149 non-null float64\n",
      "primary_cleaner.output.concentrate_sol                14149 non-null float64\n",
      "primary_cleaner.output.concentrate_au                 14149 non-null float64\n",
      "primary_cleaner.output.tail_ag                        14149 non-null float64\n",
      "primary_cleaner.output.tail_pb                        14149 non-null float64\n",
      "primary_cleaner.output.tail_sol                       14149 non-null float64\n",
      "primary_cleaner.output.tail_au                        14149 non-null float64\n",
      "primary_cleaner.state.floatbank8_a_air                14149 non-null float64\n",
      "primary_cleaner.state.floatbank8_a_level              14149 non-null float64\n",
      "primary_cleaner.state.floatbank8_b_air                14149 non-null float64\n",
      "primary_cleaner.state.floatbank8_b_level              14149 non-null float64\n",
      "primary_cleaner.state.floatbank8_c_air                14149 non-null float64\n",
      "primary_cleaner.state.floatbank8_c_level              14149 non-null float64\n",
      "primary_cleaner.state.floatbank8_d_air                14149 non-null float64\n",
      "primary_cleaner.state.floatbank8_d_level              14149 non-null float64\n",
      "rougher.calculation.sulfate_to_au_concentrate         14149 non-null float64\n",
      "rougher.calculation.floatbank10_sulfate_to_au_feed    14149 non-null float64\n",
      "rougher.calculation.floatbank11_sulfate_to_au_feed    14149 non-null float64\n",
      "rougher.calculation.au_pb_ratio                       14149 non-null float64\n",
      "rougher.input.feed_ag                                 14149 non-null float64\n",
      "rougher.input.feed_pb                                 14149 non-null float64\n",
      "rougher.input.feed_rate                               14149 non-null float64\n",
      "rougher.input.feed_size                               14149 non-null float64\n",
      "rougher.input.feed_sol                                14149 non-null float64\n",
      "rougher.input.feed_au                                 14149 non-null float64\n",
      "rougher.input.floatbank10_sulfate                     14149 non-null float64\n",
      "rougher.input.floatbank10_xanthate                    14149 non-null float64\n",
      "rougher.input.floatbank11_sulfate                     14149 non-null float64\n",
      "rougher.input.floatbank11_xanthate                    14149 non-null float64\n",
      "rougher.output.concentrate_ag                         14149 non-null float64\n",
      "rougher.output.concentrate_pb                         14149 non-null float64\n",
      "rougher.output.concentrate_sol                        14149 non-null float64\n",
      "rougher.output.concentrate_au                         14149 non-null float64\n",
      "rougher.output.recovery                               14149 non-null float64\n",
      "rougher.output.tail_ag                                14149 non-null float64\n",
      "rougher.output.tail_pb                                14149 non-null float64\n",
      "rougher.output.tail_sol                               14149 non-null float64\n",
      "rougher.output.tail_au                                14149 non-null float64\n",
      "rougher.state.floatbank10_a_air                       14149 non-null float64\n",
      "rougher.state.floatbank10_a_level                     14149 non-null float64\n",
      "rougher.state.floatbank10_b_air                       14149 non-null float64\n",
      "rougher.state.floatbank10_b_level                     14149 non-null float64\n",
      "rougher.state.floatbank10_c_air                       14149 non-null float64\n",
      "rougher.state.floatbank10_c_level                     14149 non-null float64\n",
      "rougher.state.floatbank10_d_air                       14149 non-null float64\n",
      "rougher.state.floatbank10_d_level                     14149 non-null float64\n",
      "rougher.state.floatbank10_e_air                       14149 non-null float64\n",
      "rougher.state.floatbank10_e_level                     14149 non-null float64\n",
      "rougher.state.floatbank10_f_air                       14149 non-null float64\n",
      "rougher.state.floatbank10_f_level                     14149 non-null float64\n",
      "secondary_cleaner.output.tail_ag                      14149 non-null float64\n",
      "secondary_cleaner.output.tail_pb                      14149 non-null float64\n",
      "secondary_cleaner.output.tail_sol                     14149 non-null float64\n",
      "secondary_cleaner.output.tail_au                      14149 non-null float64\n",
      "secondary_cleaner.state.floatbank2_a_air              14149 non-null float64\n",
      "secondary_cleaner.state.floatbank2_a_level            14149 non-null float64\n",
      "secondary_cleaner.state.floatbank2_b_air              14149 non-null float64\n",
      "secondary_cleaner.state.floatbank2_b_level            14149 non-null float64\n",
      "secondary_cleaner.state.floatbank3_a_air              14149 non-null float64\n",
      "secondary_cleaner.state.floatbank3_a_level            14149 non-null float64\n",
      "secondary_cleaner.state.floatbank3_b_air              14149 non-null float64\n",
      "secondary_cleaner.state.floatbank3_b_level            14149 non-null float64\n",
      "secondary_cleaner.state.floatbank4_a_air              14149 non-null float64\n",
      "secondary_cleaner.state.floatbank4_a_level            14149 non-null float64\n",
      "secondary_cleaner.state.floatbank4_b_air              14149 non-null float64\n",
      "secondary_cleaner.state.floatbank4_b_level            14149 non-null float64\n",
      "secondary_cleaner.state.floatbank5_a_air              14149 non-null float64\n",
      "secondary_cleaner.state.floatbank5_a_level            14149 non-null float64\n",
      "secondary_cleaner.state.floatbank5_b_air              14149 non-null float64\n",
      "secondary_cleaner.state.floatbank5_b_level            14149 non-null float64\n",
      "secondary_cleaner.state.floatbank6_a_air              14149 non-null float64\n",
      "secondary_cleaner.state.floatbank6_a_level            14149 non-null float64\n",
      "dtypes: float64(86)\n",
      "memory usage: 10.0+ MB\n"
     ]
    }
   ],
   "source": [
    "data_train = data_train.interpolate()\n",
    "data_train.info()\n",
    "data_full = data_full.interpolate()\n",
    "data_test = data_test.interpolate()"
   ]
  },
  {
   "cell_type": "markdown",
   "metadata": {},
   "source": [
    "Сравним тренировочную и тестовую выборки:\n"
   ]
  },
  {
   "cell_type": "code",
   "execution_count": 8,
   "metadata": {
    "scrolled": true
   },
   "outputs": [
    {
     "name": "stdout",
     "output_type": "stream",
     "text": [
      "Размер обучающей выборки: (14149, 86) \n",
      "Размер тестовой выборки: (5290, 52) \n"
     ]
    },
    {
     "data": {
      "text/plain": [
       "['primary_cleaner.output.tail_sol',\n",
       " 'secondary_cleaner.output.tail_ag',\n",
       " 'rougher.calculation.floatbank11_sulfate_to_au_feed',\n",
       " 'rougher.calculation.floatbank10_sulfate_to_au_feed',\n",
       " 'rougher.output.concentrate_sol',\n",
       " 'primary_cleaner.output.tail_au',\n",
       " 'primary_cleaner.output.tail_ag',\n",
       " 'primary_cleaner.output.concentrate_ag',\n",
       " 'primary_cleaner.output.concentrate_pb',\n",
       " 'final.output.tail_au',\n",
       " 'rougher.output.concentrate_ag',\n",
       " 'rougher.output.tail_au',\n",
       " 'final.output.tail_ag',\n",
       " 'final.output.concentrate_pb',\n",
       " 'rougher.output.tail_sol',\n",
       " 'primary_cleaner.output.concentrate_au',\n",
       " 'secondary_cleaner.output.tail_sol',\n",
       " 'final.output.concentrate_au',\n",
       " 'secondary_cleaner.output.tail_pb',\n",
       " 'primary_cleaner.output.tail_pb',\n",
       " 'rougher.output.tail_pb',\n",
       " 'rougher.output.concentrate_pb',\n",
       " 'rougher.calculation.sulfate_to_au_concentrate',\n",
       " 'final.output.tail_sol',\n",
       " 'rougher.output.tail_ag',\n",
       " 'rougher.output.concentrate_au',\n",
       " 'final.output.concentrate_sol',\n",
       " 'primary_cleaner.output.concentrate_sol',\n",
       " 'rougher.output.recovery',\n",
       " 'secondary_cleaner.output.tail_au',\n",
       " 'rougher.calculation.au_pb_ratio',\n",
       " 'final.output.recovery',\n",
       " 'final.output.tail_pb',\n",
       " 'final.output.concentrate_ag']"
      ]
     },
     "metadata": {},
     "output_type": "display_data"
    },
    {
     "name": "stdout",
     "output_type": "stream",
     "text": [
      "Размер обучающей выборки: (14149, 52) \n",
      "Размер тестовой выборки: (5290, 52) \n"
     ]
    }
   ],
   "source": [
    "\n",
    "print('Размер обучающей выборки: {} '.format(data_train.shape))\n",
    "print('Размер тестовой выборки: {} '.format(data_test.shape))\n",
    "columns_train = data_train.columns.values.tolist()\n",
    "columns_test = data_test.columns.values.tolist()\n",
    "differences = list(set(columns_train) - set(columns_test))\n",
    "display(differences)\n",
    "\n",
    "data_train = data_train.drop(differences, axis=1)\n",
    "print('Размер обучающей выборки: {} '.format(data_train.shape))\n",
    "print('Размер тестовой выборки: {} '.format(data_test.shape))\n"
   ]
  },
  {
   "cell_type": "markdown",
   "metadata": {},
   "source": [
    "В тестовой выборке нет данных output и калькуляций веществ, так как нам это не потребуется при обучении модели. Мы убрали соответствующие столбцы и в обучающей выборке, чтобы размер данных для обучения и теста был одинаковый."
   ]
  },
  {
   "cell_type": "markdown",
   "metadata": {},
   "source": [
    "Проверим датасеты на дубликаты:"
   ]
  },
  {
   "cell_type": "code",
   "execution_count": 9,
   "metadata": {},
   "outputs": [
    {
     "data": {
      "text/html": [
       "<div>\n",
       "<style scoped>\n",
       "    .dataframe tbody tr th:only-of-type {\n",
       "        vertical-align: middle;\n",
       "    }\n",
       "\n",
       "    .dataframe tbody tr th {\n",
       "        vertical-align: top;\n",
       "    }\n",
       "\n",
       "    .dataframe thead th {\n",
       "        text-align: right;\n",
       "    }\n",
       "</style>\n",
       "<table border=\"1\" class=\"dataframe\">\n",
       "  <thead>\n",
       "    <tr style=\"text-align: right;\">\n",
       "      <th></th>\n",
       "      <th>primary_cleaner.input.sulfate</th>\n",
       "      <th>primary_cleaner.input.depressant</th>\n",
       "      <th>primary_cleaner.input.feed_size</th>\n",
       "      <th>primary_cleaner.input.xanthate</th>\n",
       "      <th>primary_cleaner.state.floatbank8_a_air</th>\n",
       "      <th>primary_cleaner.state.floatbank8_a_level</th>\n",
       "      <th>primary_cleaner.state.floatbank8_b_air</th>\n",
       "      <th>primary_cleaner.state.floatbank8_b_level</th>\n",
       "      <th>primary_cleaner.state.floatbank8_c_air</th>\n",
       "      <th>primary_cleaner.state.floatbank8_c_level</th>\n",
       "      <th>...</th>\n",
       "      <th>secondary_cleaner.state.floatbank4_a_air</th>\n",
       "      <th>secondary_cleaner.state.floatbank4_a_level</th>\n",
       "      <th>secondary_cleaner.state.floatbank4_b_air</th>\n",
       "      <th>secondary_cleaner.state.floatbank4_b_level</th>\n",
       "      <th>secondary_cleaner.state.floatbank5_a_air</th>\n",
       "      <th>secondary_cleaner.state.floatbank5_a_level</th>\n",
       "      <th>secondary_cleaner.state.floatbank5_b_air</th>\n",
       "      <th>secondary_cleaner.state.floatbank5_b_level</th>\n",
       "      <th>secondary_cleaner.state.floatbank6_a_air</th>\n",
       "      <th>secondary_cleaner.state.floatbank6_a_level</th>\n",
       "    </tr>\n",
       "    <tr>\n",
       "      <th>date</th>\n",
       "      <th></th>\n",
       "      <th></th>\n",
       "      <th></th>\n",
       "      <th></th>\n",
       "      <th></th>\n",
       "      <th></th>\n",
       "      <th></th>\n",
       "      <th></th>\n",
       "      <th></th>\n",
       "      <th></th>\n",
       "      <th></th>\n",
       "      <th></th>\n",
       "      <th></th>\n",
       "      <th></th>\n",
       "      <th></th>\n",
       "      <th></th>\n",
       "      <th></th>\n",
       "      <th></th>\n",
       "      <th></th>\n",
       "      <th></th>\n",
       "      <th></th>\n",
       "    </tr>\n",
       "  </thead>\n",
       "  <tbody>\n",
       "  </tbody>\n",
       "</table>\n",
       "<p>0 rows × 52 columns</p>\n",
       "</div>"
      ],
      "text/plain": [
       "Empty DataFrame\n",
       "Columns: [primary_cleaner.input.sulfate, primary_cleaner.input.depressant, primary_cleaner.input.feed_size, primary_cleaner.input.xanthate, primary_cleaner.state.floatbank8_a_air, primary_cleaner.state.floatbank8_a_level, primary_cleaner.state.floatbank8_b_air, primary_cleaner.state.floatbank8_b_level, primary_cleaner.state.floatbank8_c_air, primary_cleaner.state.floatbank8_c_level, primary_cleaner.state.floatbank8_d_air, primary_cleaner.state.floatbank8_d_level, rougher.input.feed_ag, rougher.input.feed_pb, rougher.input.feed_rate, rougher.input.feed_size, rougher.input.feed_sol, rougher.input.feed_au, rougher.input.floatbank10_sulfate, rougher.input.floatbank10_xanthate, rougher.input.floatbank11_sulfate, rougher.input.floatbank11_xanthate, rougher.state.floatbank10_a_air, rougher.state.floatbank10_a_level, rougher.state.floatbank10_b_air, rougher.state.floatbank10_b_level, rougher.state.floatbank10_c_air, rougher.state.floatbank10_c_level, rougher.state.floatbank10_d_air, rougher.state.floatbank10_d_level, rougher.state.floatbank10_e_air, rougher.state.floatbank10_e_level, rougher.state.floatbank10_f_air, rougher.state.floatbank10_f_level, secondary_cleaner.state.floatbank2_a_air, secondary_cleaner.state.floatbank2_a_level, secondary_cleaner.state.floatbank2_b_air, secondary_cleaner.state.floatbank2_b_level, secondary_cleaner.state.floatbank3_a_air, secondary_cleaner.state.floatbank3_a_level, secondary_cleaner.state.floatbank3_b_air, secondary_cleaner.state.floatbank3_b_level, secondary_cleaner.state.floatbank4_a_air, secondary_cleaner.state.floatbank4_a_level, secondary_cleaner.state.floatbank4_b_air, secondary_cleaner.state.floatbank4_b_level, secondary_cleaner.state.floatbank5_a_air, secondary_cleaner.state.floatbank5_a_level, secondary_cleaner.state.floatbank5_b_air, secondary_cleaner.state.floatbank5_b_level, secondary_cleaner.state.floatbank6_a_air, secondary_cleaner.state.floatbank6_a_level]\n",
       "Index: []\n",
       "\n",
       "[0 rows x 52 columns]"
      ]
     },
     "metadata": {},
     "output_type": "display_data"
    }
   ],
   "source": [
    "duplicates_train = data_train[data_train.duplicated()]\n",
    "display(duplicates_train)"
   ]
  },
  {
   "cell_type": "code",
   "execution_count": 10,
   "metadata": {},
   "outputs": [
    {
     "data": {
      "text/html": [
       "<div>\n",
       "<style scoped>\n",
       "    .dataframe tbody tr th:only-of-type {\n",
       "        vertical-align: middle;\n",
       "    }\n",
       "\n",
       "    .dataframe tbody tr th {\n",
       "        vertical-align: top;\n",
       "    }\n",
       "\n",
       "    .dataframe thead th {\n",
       "        text-align: right;\n",
       "    }\n",
       "</style>\n",
       "<table border=\"1\" class=\"dataframe\">\n",
       "  <thead>\n",
       "    <tr style=\"text-align: right;\">\n",
       "      <th></th>\n",
       "      <th>primary_cleaner.input.sulfate</th>\n",
       "      <th>primary_cleaner.input.depressant</th>\n",
       "      <th>primary_cleaner.input.feed_size</th>\n",
       "      <th>primary_cleaner.input.xanthate</th>\n",
       "      <th>primary_cleaner.state.floatbank8_a_air</th>\n",
       "      <th>primary_cleaner.state.floatbank8_a_level</th>\n",
       "      <th>primary_cleaner.state.floatbank8_b_air</th>\n",
       "      <th>primary_cleaner.state.floatbank8_b_level</th>\n",
       "      <th>primary_cleaner.state.floatbank8_c_air</th>\n",
       "      <th>primary_cleaner.state.floatbank8_c_level</th>\n",
       "      <th>...</th>\n",
       "      <th>secondary_cleaner.state.floatbank4_a_air</th>\n",
       "      <th>secondary_cleaner.state.floatbank4_a_level</th>\n",
       "      <th>secondary_cleaner.state.floatbank4_b_air</th>\n",
       "      <th>secondary_cleaner.state.floatbank4_b_level</th>\n",
       "      <th>secondary_cleaner.state.floatbank5_a_air</th>\n",
       "      <th>secondary_cleaner.state.floatbank5_a_level</th>\n",
       "      <th>secondary_cleaner.state.floatbank5_b_air</th>\n",
       "      <th>secondary_cleaner.state.floatbank5_b_level</th>\n",
       "      <th>secondary_cleaner.state.floatbank6_a_air</th>\n",
       "      <th>secondary_cleaner.state.floatbank6_a_level</th>\n",
       "    </tr>\n",
       "    <tr>\n",
       "      <th>date</th>\n",
       "      <th></th>\n",
       "      <th></th>\n",
       "      <th></th>\n",
       "      <th></th>\n",
       "      <th></th>\n",
       "      <th></th>\n",
       "      <th></th>\n",
       "      <th></th>\n",
       "      <th></th>\n",
       "      <th></th>\n",
       "      <th></th>\n",
       "      <th></th>\n",
       "      <th></th>\n",
       "      <th></th>\n",
       "      <th></th>\n",
       "      <th></th>\n",
       "      <th></th>\n",
       "      <th></th>\n",
       "      <th></th>\n",
       "      <th></th>\n",
       "      <th></th>\n",
       "    </tr>\n",
       "  </thead>\n",
       "  <tbody>\n",
       "  </tbody>\n",
       "</table>\n",
       "<p>0 rows × 52 columns</p>\n",
       "</div>"
      ],
      "text/plain": [
       "Empty DataFrame\n",
       "Columns: [primary_cleaner.input.sulfate, primary_cleaner.input.depressant, primary_cleaner.input.feed_size, primary_cleaner.input.xanthate, primary_cleaner.state.floatbank8_a_air, primary_cleaner.state.floatbank8_a_level, primary_cleaner.state.floatbank8_b_air, primary_cleaner.state.floatbank8_b_level, primary_cleaner.state.floatbank8_c_air, primary_cleaner.state.floatbank8_c_level, primary_cleaner.state.floatbank8_d_air, primary_cleaner.state.floatbank8_d_level, rougher.input.feed_ag, rougher.input.feed_pb, rougher.input.feed_rate, rougher.input.feed_size, rougher.input.feed_sol, rougher.input.feed_au, rougher.input.floatbank10_sulfate, rougher.input.floatbank10_xanthate, rougher.input.floatbank11_sulfate, rougher.input.floatbank11_xanthate, rougher.state.floatbank10_a_air, rougher.state.floatbank10_a_level, rougher.state.floatbank10_b_air, rougher.state.floatbank10_b_level, rougher.state.floatbank10_c_air, rougher.state.floatbank10_c_level, rougher.state.floatbank10_d_air, rougher.state.floatbank10_d_level, rougher.state.floatbank10_e_air, rougher.state.floatbank10_e_level, rougher.state.floatbank10_f_air, rougher.state.floatbank10_f_level, secondary_cleaner.state.floatbank2_a_air, secondary_cleaner.state.floatbank2_a_level, secondary_cleaner.state.floatbank2_b_air, secondary_cleaner.state.floatbank2_b_level, secondary_cleaner.state.floatbank3_a_air, secondary_cleaner.state.floatbank3_a_level, secondary_cleaner.state.floatbank3_b_air, secondary_cleaner.state.floatbank3_b_level, secondary_cleaner.state.floatbank4_a_air, secondary_cleaner.state.floatbank4_a_level, secondary_cleaner.state.floatbank4_b_air, secondary_cleaner.state.floatbank4_b_level, secondary_cleaner.state.floatbank5_a_air, secondary_cleaner.state.floatbank5_a_level, secondary_cleaner.state.floatbank5_b_air, secondary_cleaner.state.floatbank5_b_level, secondary_cleaner.state.floatbank6_a_air, secondary_cleaner.state.floatbank6_a_level]\n",
       "Index: []\n",
       "\n",
       "[0 rows x 52 columns]"
      ]
     },
     "metadata": {},
     "output_type": "display_data"
    }
   ],
   "source": [
    "duplicates_test = data_test[data_test.duplicated()]\n",
    "display(duplicates_test)"
   ]
  },
  {
   "cell_type": "code",
   "execution_count": 11,
   "metadata": {},
   "outputs": [
    {
     "data": {
      "text/html": [
       "<div>\n",
       "<style scoped>\n",
       "    .dataframe tbody tr th:only-of-type {\n",
       "        vertical-align: middle;\n",
       "    }\n",
       "\n",
       "    .dataframe tbody tr th {\n",
       "        vertical-align: top;\n",
       "    }\n",
       "\n",
       "    .dataframe thead th {\n",
       "        text-align: right;\n",
       "    }\n",
       "</style>\n",
       "<table border=\"1\" class=\"dataframe\">\n",
       "  <thead>\n",
       "    <tr style=\"text-align: right;\">\n",
       "      <th></th>\n",
       "      <th>final.output.concentrate_ag</th>\n",
       "      <th>final.output.concentrate_pb</th>\n",
       "      <th>final.output.concentrate_sol</th>\n",
       "      <th>final.output.concentrate_au</th>\n",
       "      <th>final.output.recovery</th>\n",
       "      <th>final.output.tail_ag</th>\n",
       "      <th>final.output.tail_pb</th>\n",
       "      <th>final.output.tail_sol</th>\n",
       "      <th>final.output.tail_au</th>\n",
       "      <th>primary_cleaner.input.sulfate</th>\n",
       "      <th>...</th>\n",
       "      <th>secondary_cleaner.state.floatbank4_a_air</th>\n",
       "      <th>secondary_cleaner.state.floatbank4_a_level</th>\n",
       "      <th>secondary_cleaner.state.floatbank4_b_air</th>\n",
       "      <th>secondary_cleaner.state.floatbank4_b_level</th>\n",
       "      <th>secondary_cleaner.state.floatbank5_a_air</th>\n",
       "      <th>secondary_cleaner.state.floatbank5_a_level</th>\n",
       "      <th>secondary_cleaner.state.floatbank5_b_air</th>\n",
       "      <th>secondary_cleaner.state.floatbank5_b_level</th>\n",
       "      <th>secondary_cleaner.state.floatbank6_a_air</th>\n",
       "      <th>secondary_cleaner.state.floatbank6_a_level</th>\n",
       "    </tr>\n",
       "    <tr>\n",
       "      <th>date</th>\n",
       "      <th></th>\n",
       "      <th></th>\n",
       "      <th></th>\n",
       "      <th></th>\n",
       "      <th></th>\n",
       "      <th></th>\n",
       "      <th></th>\n",
       "      <th></th>\n",
       "      <th></th>\n",
       "      <th></th>\n",
       "      <th></th>\n",
       "      <th></th>\n",
       "      <th></th>\n",
       "      <th></th>\n",
       "      <th></th>\n",
       "      <th></th>\n",
       "      <th></th>\n",
       "      <th></th>\n",
       "      <th></th>\n",
       "      <th></th>\n",
       "      <th></th>\n",
       "    </tr>\n",
       "  </thead>\n",
       "  <tbody>\n",
       "  </tbody>\n",
       "</table>\n",
       "<p>0 rows × 86 columns</p>\n",
       "</div>"
      ],
      "text/plain": [
       "Empty DataFrame\n",
       "Columns: [final.output.concentrate_ag, final.output.concentrate_pb, final.output.concentrate_sol, final.output.concentrate_au, final.output.recovery, final.output.tail_ag, final.output.tail_pb, final.output.tail_sol, final.output.tail_au, primary_cleaner.input.sulfate, primary_cleaner.input.depressant, primary_cleaner.input.feed_size, primary_cleaner.input.xanthate, primary_cleaner.output.concentrate_ag, primary_cleaner.output.concentrate_pb, primary_cleaner.output.concentrate_sol, primary_cleaner.output.concentrate_au, primary_cleaner.output.tail_ag, primary_cleaner.output.tail_pb, primary_cleaner.output.tail_sol, primary_cleaner.output.tail_au, primary_cleaner.state.floatbank8_a_air, primary_cleaner.state.floatbank8_a_level, primary_cleaner.state.floatbank8_b_air, primary_cleaner.state.floatbank8_b_level, primary_cleaner.state.floatbank8_c_air, primary_cleaner.state.floatbank8_c_level, primary_cleaner.state.floatbank8_d_air, primary_cleaner.state.floatbank8_d_level, rougher.calculation.sulfate_to_au_concentrate, rougher.calculation.floatbank10_sulfate_to_au_feed, rougher.calculation.floatbank11_sulfate_to_au_feed, rougher.calculation.au_pb_ratio, rougher.input.feed_ag, rougher.input.feed_pb, rougher.input.feed_rate, rougher.input.feed_size, rougher.input.feed_sol, rougher.input.feed_au, rougher.input.floatbank10_sulfate, rougher.input.floatbank10_xanthate, rougher.input.floatbank11_sulfate, rougher.input.floatbank11_xanthate, rougher.output.concentrate_ag, rougher.output.concentrate_pb, rougher.output.concentrate_sol, rougher.output.concentrate_au, rougher.output.recovery, rougher.output.tail_ag, rougher.output.tail_pb, rougher.output.tail_sol, rougher.output.tail_au, rougher.state.floatbank10_a_air, rougher.state.floatbank10_a_level, rougher.state.floatbank10_b_air, rougher.state.floatbank10_b_level, rougher.state.floatbank10_c_air, rougher.state.floatbank10_c_level, rougher.state.floatbank10_d_air, rougher.state.floatbank10_d_level, rougher.state.floatbank10_e_air, rougher.state.floatbank10_e_level, rougher.state.floatbank10_f_air, rougher.state.floatbank10_f_level, secondary_cleaner.output.tail_ag, secondary_cleaner.output.tail_pb, secondary_cleaner.output.tail_sol, secondary_cleaner.output.tail_au, secondary_cleaner.state.floatbank2_a_air, secondary_cleaner.state.floatbank2_a_level, secondary_cleaner.state.floatbank2_b_air, secondary_cleaner.state.floatbank2_b_level, secondary_cleaner.state.floatbank3_a_air, secondary_cleaner.state.floatbank3_a_level, secondary_cleaner.state.floatbank3_b_air, secondary_cleaner.state.floatbank3_b_level, secondary_cleaner.state.floatbank4_a_air, secondary_cleaner.state.floatbank4_a_level, secondary_cleaner.state.floatbank4_b_air, secondary_cleaner.state.floatbank4_b_level, secondary_cleaner.state.floatbank5_a_air, secondary_cleaner.state.floatbank5_a_level, secondary_cleaner.state.floatbank5_b_air, secondary_cleaner.state.floatbank5_b_level, secondary_cleaner.state.floatbank6_a_air, secondary_cleaner.state.floatbank6_a_level]\n",
       "Index: []\n",
       "\n",
       "[0 rows x 86 columns]"
      ]
     },
     "metadata": {},
     "output_type": "display_data"
    }
   ],
   "source": [
    "duplicates_full= data_full[data_full.duplicated()]\n",
    "display(duplicates_full)"
   ]
  },
  {
   "cell_type": "markdown",
   "metadata": {},
   "source": [
    "Видим, что дубликатов нет."
   ]
  },
  {
   "cell_type": "markdown",
   "metadata": {},
   "source": [
    "### Вывод:\n",
    "Были загружены три датасета, содержащие общие данные и данные для обучающей и тестовой выборок. Была проверена корректность расчета эффективности, и доказано, что она рассчитана верно. После первичного осмотра датасетов были найдено, что они содержат пропуски.  Было решено заполнить их методом интерполяции, на основе данных предыдущей и последующей ячейки. Типаы данных корректны, данные, содержащие время, назначены индексом.\n",
    "\n",
    "В тестовой выборке отсутствовали данные, обозначающие результат обработки(output) и расчеты концентраций металлов. Эти признаки не нужны для обучения моделей.\n",
    "В обучающей выборке были удалены данные, отсутствующие в тестовой, чтобы привести выборки в соответствие.\n",
    "Данные были проверены на дубликаты, их в датасетах не выявлено.\n"
   ]
  },
  {
   "cell_type": "markdown",
   "metadata": {},
   "source": [
    "## Анализ данных"
   ]
  },
  {
   "cell_type": "markdown",
   "metadata": {},
   "source": [
    "Посмотрим на распределение металлов на разных стадиях очистки"
   ]
  },
  {
   "cell_type": "code",
   "execution_count": 12,
   "metadata": {
    "scrolled": false
   },
   "outputs": [
    {
     "data": {
      "image/png": "[encoded data removed]",
      "text/plain": [
       "<Figure size 432x288 with 1 Axes>"
      ]
     },
     "metadata": {
      "needs_background": "light"
     },
     "output_type": "display_data"
    }
   ],
   "source": [
    "gold_spreading = data_full[['rougher.input.feed_au', 'rougher.output.concentrate_au', 'primary_cleaner.output.concentrate_au', 'final.output.concentrate_au']]\n",
    "sns.boxplot(x=\"variable\", y=\"value\", data=pd.melt(gold_spreading))\n",
    "sns.set(rc={'figure.figsize':(18,4)})\n",
    "plt.title(\"Концентрация золота на разных стадиях очистки\")\n",
    "plt.xlabel(\"Стадии очистки\")\n",
    "plt.ylabel(\"Показатели концентрации\")\n",
    "plt.show()\n",
    "\n"
   ]
  },
  {
   "cell_type": "markdown",
   "metadata": {},
   "source": [
    "На графике, показывающей концентрацию золота на различных стадиях, мы видим, что концентрация золота постепенно растет и достигает максимального значения к финальному этапу очистки. Однако с каждым этапом растет и количество выбросных результатов. Можем предположить, что возможно, это связано с неправильной работой оборудования или поломкой."
   ]
  },
  {
   "cell_type": "code",
   "execution_count": 13,
   "metadata": {
    "scrolled": true
   },
   "outputs": [
    {
     "data": {
      "image/png": "[encoded data removed]",
      "text/plain": [
       "<Figure size 1296x288 with 1 Axes>"
      ]
     },
     "metadata": {},
     "output_type": "display_data"
    }
   ],
   "source": [
    "ag_spreading = data_full[['rougher.input.feed_ag', 'rougher.output.concentrate_ag', 'primary_cleaner.output.concentrate_ag', 'final.output.concentrate_ag']]\n",
    "sns.boxplot(x=\"variable\", y=\"value\", data=pd.melt(ag_spreading))\n",
    "sns.set(rc={'figure.figsize':(18,5)})\n",
    "plt.title(\"Концентрация серебра на разных стадиях очистки\")\n",
    "plt.xlabel(\"Стадии очистки\")\n",
    "plt.ylabel(\"Показатели концентрации\")\n",
    "plt.show()\n",
    "\n"
   ]
  },
  {
   "cell_type": "markdown",
   "metadata": {},
   "source": [
    "На графике, показывающей концентрацию серебра на различных стадиях, мы видим, что концентрация серебра достигает максимального значения после флотации, а потом концентрация начинает уменьшаться и к финальному этапу очистки концентрация серебра минимальна. Также на графике есть и выбросные значения."
   ]
  },
  {
   "cell_type": "code",
   "execution_count": 14,
   "metadata": {
    "scrolled": false
   },
   "outputs": [
    {
     "data": {
      "image/png": "[encoded data removed]",
      "text/plain": [
       "<Figure size 1296x360 with 1 Axes>"
      ]
     },
     "metadata": {},
     "output_type": "display_data"
    }
   ],
   "source": [
    "pb_spreading = data_full[['rougher.input.feed_pb', 'rougher.output.concentrate_pb', 'primary_cleaner.output.concentrate_pb', 'final.output.concentrate_pb']]\n",
    "sns.boxplot(x=\"variable\", y=\"value\", data=pd.melt(pb_spreading))\n",
    "sns.set(rc={'figure.figsize':(18,5)})\n",
    "plt.title(\"Концентрация свинца на различных этапах очистки\")\n",
    "plt.xlabel(\"Стадии очистки\")\n",
    "plt.ylabel(\"Показатели концентрации\")\n",
    "plt.show()\n",
    "\n"
   ]
  },
  {
   "cell_type": "markdown",
   "metadata": {},
   "source": [
    "На графике, показывающем концентрацию свинца на различных стадиях, мы видим, что концентрация серебра достигает максимального значения после первого этапа очистки, а потом концентрация начинает уменьшатьсяю Выбросные значения растут с каждым этапом."
   ]
  },
  {
   "cell_type": "markdown",
   "metadata": {},
   "source": [
    "Мы видим, что на разных стадиях очистки показатели меняются. У золота постепенно растет концентрация на всех стадиях, достигая наивысшей точки после финальной очистки. А у свинца и серебра показатели возрастают после флотации, но затем после двух очисток показатели концентрации снижаются.\n",
    "Также можно отметить большое количество выбросных данных у показателей концентрации металлов на всех стадиях."
   ]
  },
  {
   "cell_type": "markdown",
   "metadata": {},
   "source": [
    "Теперь проверим распределения гранул на обучающей и тестовой выборке"
   ]
  },
  {
   "cell_type": "code",
   "execution_count": 15,
   "metadata": {},
   "outputs": [
    {
     "data": {
      "image/png": "[encoded data removed]",
      "text/plain": [
       "<Figure size 1296x360 with 1 Axes>"
      ]
     },
     "metadata": {},
     "output_type": "display_data"
    }
   ],
   "source": [
    "\n",
    "data_train.boxplot(column='rougher.input.feed_size', return_type='axes');\n",
    "plt.title(\"Распределение размеров гранул сырья в обучающей выборке\")\n",
    "\n",
    "plt.ylabel(\"Показатели размеров гранул\")\n",
    "plt.show()"
   ]
  },
  {
   "cell_type": "code",
   "execution_count": 16,
   "metadata": {
    "scrolled": false
   },
   "outputs": [
    {
     "data": {
      "image/png": "[encoded data removed]",
      "text/plain": [
       "<Figure size 1296x360 with 1 Axes>"
      ]
     },
     "metadata": {},
     "output_type": "display_data"
    }
   ],
   "source": [
    "data_test.boxplot(column='rougher.input.feed_size', return_type='axes');\n",
    "plt.title(\"Распределение размеров гранул сырья в тестовой выборке\")\n",
    "\n",
    "plt.ylabel(\"Показатели размеров гранул\")\n",
    "plt.show()"
   ]
  },
  {
   "cell_type": "markdown",
   "metadata": {},
   "source": [
    "Основные четверти на графиках похожи, отличие в выбросных данных. Предполагаем, что оценка модели будет корректной"
   ]
  },
  {
   "cell_type": "markdown",
   "metadata": {},
   "source": [
    "Сравним средние размеры частиц в обучающей и тестовой выборках"
   ]
  },
  {
   "cell_type": "code",
   "execution_count": 17,
   "metadata": {
    "scrolled": true
   },
   "outputs": [
    {
     "name": "stdout",
     "output_type": "stream",
     "text": [
      "Средний размер частиц выборки train: 60.09790289839952\n",
      "Средний размер частиц выборки test: 55.95283531239522\n"
     ]
    }
   ],
   "source": [
    "print(\"Средний размер частиц выборки train:\", data_train['rougher.input.feed_size'].mean())\n",
    "print(\"Средний размер частиц выборки test:\", data_test['rougher.input.feed_size'].mean())"
   ]
  },
  {
   "cell_type": "markdown",
   "metadata": {},
   "source": [
    "Видим, что средние размеры частиц в обучающей выборке приблизительно схожи со средними размерами  частиц в тестовой. Отличия незначительны."
   ]
  },
  {
   "cell_type": "markdown",
   "metadata": {},
   "source": [
    "Теперь посмотрим на суммарные концентрации веществ в разных стадиях очистки. Для этого построим три новых столбца для разных стадий обработки в датасете full."
   ]
  },
  {
   "cell_type": "code",
   "execution_count": 18,
   "metadata": {},
   "outputs": [],
   "source": [
    "data_full['input_concentration'] = data_full['rougher.input.feed_ag'] + data_full['rougher.input.feed_pb'] +\\\n",
    "                                data_full['rougher.input.feed_sol'] + data_full['rougher.input.feed_au']\n",
    "data_full['rougher_concentration'] = data_full['rougher.output.concentrate_ag'] + data_full['rougher.output.concentrate_pb'] +\\\n",
    "                                data_full ['rougher.output.concentrate_sol'] + data_full['rougher.output.concentrate_au']\n",
    "data_full['final_concentration'] = data_full['final.output.concentrate_ag'] + data_full['final.output.concentrate_pb'] +\\\n",
    "                                data_full['final.output.concentrate_sol'] + data_full['final.output.concentrate_au']"
   ]
  },
  {
   "cell_type": "code",
   "execution_count": 19,
   "metadata": {},
   "outputs": [
    {
     "data": {
      "image/png": "[encoded data removed]",
      "text/plain": [
       "<Figure size 1296x360 with 1 Axes>"
      ]
     },
     "metadata": {},
     "output_type": "display_data"
    }
   ],
   "source": [
    "general_concentration = data_full[['input_concentration', 'rougher_concentration', 'final_concentration']]\n",
    "sns.boxplot(x=\"variable\", y=\"value\", data=pd.melt(general_concentration))\n",
    "sns.set(rc={'figure.figsize':(18,5)})\n",
    "plt.title(\"Концентрация веществ на разных стадиях очистки\")\n",
    "plt.xlabel(\"Стадии очистки\")\n",
    "plt.ylabel(\"Показатели концентрации\")\n",
    "plt.show()"
   ]
  },
  {
   "cell_type": "markdown",
   "metadata": {},
   "source": [
    "Видим, что к финальной стадии показатели немного возрастают. Также на графиках можно увидеть выбросы около нуля. Возможно, это вызвано ошибками в работе оборудования. Скорее всего, такие выбросы нужно удалить."
   ]
  },
  {
   "cell_type": "markdown",
   "metadata": {},
   "source": [
    "Создадим словарь значений для удаления и перезапишем по нему значения в трех датасетах:"
   ]
  },
  {
   "cell_type": "code",
   "execution_count": 20,
   "metadata": {},
   "outputs": [
    {
     "name": "stdout",
     "output_type": "stream",
     "text": [
      "(19439, 89)\n",
      "(14149, 52)\n",
      "(5290, 52)\n"
     ]
    }
   ],
   "source": [
    "print(data_full.shape)\n",
    "print(data_train.shape)\n",
    "print(data_test.shape)"
   ]
  },
  {
   "cell_type": "code",
   "execution_count": 21,
   "metadata": {
    "scrolled": true
   },
   "outputs": [
    {
     "name": "stdout",
     "output_type": "stream",
     "text": [
      "(18933, 89)\n",
      "(13761, 52)\n",
      "(5172, 52)\n"
     ]
    }
   ],
   "source": [
    "to_delete =data_full[(data_full['input_concentration']<30)|(data_full['rougher_concentration']<30)|(data_full['rougher_concentration']<30)]\n",
    "\n",
    "data_full = data_full[~data_full.index.isin(to_delete.index)]\n",
    "print(data_full.shape)\n",
    "\n",
    "data_train = data_train[~data_train.index.isin(to_delete.index)]\n",
    "print(data_train.shape)\n",
    "\n",
    "data_test = data_test[~data_test.index.isin(to_delete.index)]\n",
    "print(data_test.shape)"
   ]
  },
  {
   "cell_type": "markdown",
   "metadata": {},
   "source": [
    "Были проведены исследования изменения концентраций металлов на разных стадиях очистки и выявлено, что концентрация золота неизменно растет от стадии к стадии, а концентрация остальных металлов падает после флотации.\n",
    "\n",
    "Исследование размеров гранул сырья показало, что их распределение и средние размеры не отличаются значительно друг от друга и оценка моделей будет проведена корректно.\n",
    "\n",
    "Оценив распределение суммарной концентрации веществ на всех стадиях очистки мы видим, что концентрация золота повышается к финальной очистке. \n",
    "Выявленные околонулевые значения концентрации металлов было решено удалить\n"
   ]
  },
  {
   "cell_type": "markdown",
   "metadata": {},
   "source": [
    "## Модель"
   ]
  },
  {
   "cell_type": "markdown",
   "metadata": {},
   "source": [
    "Напишем функции для построения sMAPE и итогового sMAPE"
   ]
  },
  {
   "cell_type": "code",
   "execution_count": 22,
   "metadata": {},
   "outputs": [],
   "source": [
    "def smape (target, predictions):\n",
    "    result = ((1/len(target)) * np.sum((2 * np.abs(target - predictions) / (np.abs(target) + np.abs(predictions))))) * 100\n",
    "    return result\n",
    "\n",
    "def general_smape(smape_rougher, smape_final):\n",
    "    \n",
    "    result = 0.25 * smape_rougher + 0.75 * smape_final\n",
    "    return result"
   ]
  },
  {
   "cell_type": "markdown",
   "metadata": {},
   "source": [
    "Добавим целевые признаки 'rougher.output.recovery' и 'final.output.recovery' в обучающую и тестовую выборки по индексу"
   ]
  },
  {
   "cell_type": "code",
   "execution_count": 23,
   "metadata": {},
   "outputs": [
    {
     "name": "stdout",
     "output_type": "stream",
     "text": [
      "<class 'pandas.core.frame.DataFrame'>\n",
      "Index: 13761 entries, 2016-01-15 00:00:00 to 2018-08-18 10:59:59\n",
      "Data columns (total 53 columns):\n",
      "primary_cleaner.input.sulfate                 13761 non-null float64\n",
      "primary_cleaner.input.depressant              13761 non-null float64\n",
      "primary_cleaner.input.feed_size               13761 non-null float64\n",
      "primary_cleaner.input.xanthate                13761 non-null float64\n",
      "primary_cleaner.state.floatbank8_a_air        13761 non-null float64\n",
      "primary_cleaner.state.floatbank8_a_level      13761 non-null float64\n",
      "primary_cleaner.state.floatbank8_b_air        13761 non-null float64\n",
      "primary_cleaner.state.floatbank8_b_level      13761 non-null float64\n",
      "primary_cleaner.state.floatbank8_c_air        13761 non-null float64\n",
      "primary_cleaner.state.floatbank8_c_level      13761 non-null float64\n",
      "primary_cleaner.state.floatbank8_d_air        13761 non-null float64\n",
      "primary_cleaner.state.floatbank8_d_level      13761 non-null float64\n",
      "rougher.input.feed_ag                         13761 non-null float64\n",
      "rougher.input.feed_pb                         13761 non-null float64\n",
      "rougher.input.feed_rate                       13761 non-null float64\n",
      "rougher.input.feed_size                       13761 non-null float64\n",
      "rougher.input.feed_sol                        13761 non-null float64\n",
      "rougher.input.feed_au                         13761 non-null float64\n",
      "rougher.input.floatbank10_sulfate             13761 non-null float64\n",
      "rougher.input.floatbank10_xanthate            13761 non-null float64\n",
      "rougher.input.floatbank11_sulfate             13761 non-null float64\n",
      "rougher.input.floatbank11_xanthate            13761 non-null float64\n",
      "rougher.state.floatbank10_a_air               13761 non-null float64\n",
      "rougher.state.floatbank10_a_level             13761 non-null float64\n",
      "rougher.state.floatbank10_b_air               13761 non-null float64\n",
      "rougher.state.floatbank10_b_level             13761 non-null float64\n",
      "rougher.state.floatbank10_c_air               13761 non-null float64\n",
      "rougher.state.floatbank10_c_level             13761 non-null float64\n",
      "rougher.state.floatbank10_d_air               13761 non-null float64\n",
      "rougher.state.floatbank10_d_level             13761 non-null float64\n",
      "rougher.state.floatbank10_e_air               13761 non-null float64\n",
      "rougher.state.floatbank10_e_level             13761 non-null float64\n",
      "rougher.state.floatbank10_f_air               13761 non-null float64\n",
      "rougher.state.floatbank10_f_level             13761 non-null float64\n",
      "secondary_cleaner.state.floatbank2_a_air      13761 non-null float64\n",
      "secondary_cleaner.state.floatbank2_a_level    13761 non-null float64\n",
      "secondary_cleaner.state.floatbank2_b_air      13761 non-null float64\n",
      "secondary_cleaner.state.floatbank2_b_level    13761 non-null float64\n",
      "secondary_cleaner.state.floatbank3_a_air      13761 non-null float64\n",
      "secondary_cleaner.state.floatbank3_a_level    13761 non-null float64\n",
      "secondary_cleaner.state.floatbank3_b_air      13761 non-null float64\n",
      "secondary_cleaner.state.floatbank3_b_level    13761 non-null float64\n",
      "secondary_cleaner.state.floatbank4_a_air      13761 non-null float64\n",
      "secondary_cleaner.state.floatbank4_a_level    13761 non-null float64\n",
      "secondary_cleaner.state.floatbank4_b_air      13761 non-null float64\n",
      "secondary_cleaner.state.floatbank4_b_level    13761 non-null float64\n",
      "secondary_cleaner.state.floatbank5_a_air      13761 non-null float64\n",
      "secondary_cleaner.state.floatbank5_a_level    13761 non-null float64\n",
      "secondary_cleaner.state.floatbank5_b_air      13761 non-null float64\n",
      "secondary_cleaner.state.floatbank5_b_level    13761 non-null float64\n",
      "secondary_cleaner.state.floatbank6_a_air      13761 non-null float64\n",
      "secondary_cleaner.state.floatbank6_a_level    13761 non-null float64\n",
      "rougher.output.recovery                       13761 non-null float64\n",
      "dtypes: float64(53)\n",
      "memory usage: 5.7+ MB\n",
      "<class 'pandas.core.frame.DataFrame'>\n",
      "Index: 5172 entries, 2016-09-01 00:59:59 to 2017-12-31 23:59:59\n",
      "Data columns (total 54 columns):\n",
      "primary_cleaner.input.sulfate                 5172 non-null float64\n",
      "primary_cleaner.input.depressant              5172 non-null float64\n",
      "primary_cleaner.input.feed_size               5172 non-null float64\n",
      "primary_cleaner.input.xanthate                5172 non-null float64\n",
      "primary_cleaner.state.floatbank8_a_air        5172 non-null float64\n",
      "primary_cleaner.state.floatbank8_a_level      5172 non-null float64\n",
      "primary_cleaner.state.floatbank8_b_air        5172 non-null float64\n",
      "primary_cleaner.state.floatbank8_b_level      5172 non-null float64\n",
      "primary_cleaner.state.floatbank8_c_air        5172 non-null float64\n",
      "primary_cleaner.state.floatbank8_c_level      5172 non-null float64\n",
      "primary_cleaner.state.floatbank8_d_air        5172 non-null float64\n",
      "primary_cleaner.state.floatbank8_d_level      5172 non-null float64\n",
      "rougher.input.feed_ag                         5172 non-null float64\n",
      "rougher.input.feed_pb                         5172 non-null float64\n",
      "rougher.input.feed_rate                       5172 non-null float64\n",
      "rougher.input.feed_size                       5172 non-null float64\n",
      "rougher.input.feed_sol                        5172 non-null float64\n",
      "rougher.input.feed_au                         5172 non-null float64\n",
      "rougher.input.floatbank10_sulfate             5172 non-null float64\n",
      "rougher.input.floatbank10_xanthate            5172 non-null float64\n",
      "rougher.input.floatbank11_sulfate             5172 non-null float64\n",
      "rougher.input.floatbank11_xanthate            5172 non-null float64\n",
      "rougher.state.floatbank10_a_air               5172 non-null float64\n",
      "rougher.state.floatbank10_a_level             5172 non-null float64\n",
      "rougher.state.floatbank10_b_air               5172 non-null float64\n",
      "rougher.state.floatbank10_b_level             5172 non-null float64\n",
      "rougher.state.floatbank10_c_air               5172 non-null float64\n",
      "rougher.state.floatbank10_c_level             5172 non-null float64\n",
      "rougher.state.floatbank10_d_air               5172 non-null float64\n",
      "rougher.state.floatbank10_d_level             5172 non-null float64\n",
      "rougher.state.floatbank10_e_air               5172 non-null float64\n",
      "rougher.state.floatbank10_e_level             5172 non-null float64\n",
      "rougher.state.floatbank10_f_air               5172 non-null float64\n",
      "rougher.state.floatbank10_f_level             5172 non-null float64\n",
      "secondary_cleaner.state.floatbank2_a_air      5172 non-null float64\n",
      "secondary_cleaner.state.floatbank2_a_level    5172 non-null float64\n",
      "secondary_cleaner.state.floatbank2_b_air      5172 non-null float64\n",
      "secondary_cleaner.state.floatbank2_b_level    5172 non-null float64\n",
      "secondary_cleaner.state.floatbank3_a_air      5172 non-null float64\n",
      "secondary_cleaner.state.floatbank3_a_level    5172 non-null float64\n",
      "secondary_cleaner.state.floatbank3_b_air      5172 non-null float64\n",
      "secondary_cleaner.state.floatbank3_b_level    5172 non-null float64\n",
      "secondary_cleaner.state.floatbank4_a_air      5172 non-null float64\n",
      "secondary_cleaner.state.floatbank4_a_level    5172 non-null float64\n",
      "secondary_cleaner.state.floatbank4_b_air      5172 non-null float64\n",
      "secondary_cleaner.state.floatbank4_b_level    5172 non-null float64\n",
      "secondary_cleaner.state.floatbank5_a_air      5172 non-null float64\n",
      "secondary_cleaner.state.floatbank5_a_level    5172 non-null float64\n",
      "secondary_cleaner.state.floatbank5_b_air      5172 non-null float64\n",
      "secondary_cleaner.state.floatbank5_b_level    5172 non-null float64\n",
      "secondary_cleaner.state.floatbank6_a_air      5172 non-null float64\n",
      "secondary_cleaner.state.floatbank6_a_level    5172 non-null float64\n",
      "rougher.output.recovery                       5172 non-null float64\n",
      "final.output.recovery                         5172 non-null float64\n",
      "dtypes: float64(54)\n",
      "memory usage: 2.2+ MB\n"
     ]
    }
   ],
   "source": [
    "rougher_recovery = data_full['rougher.output.recovery'] \n",
    "\n",
    "data_train = data_train.merge(rougher_recovery , left_index=True, right_index=True)\n",
    "data_train.info()\n",
    "data_test = data_test.merge(rougher_recovery , left_index=True, right_index=True)\n",
    "\n",
    "final_recovery = data_full['final.output.recovery'] \n",
    "\n",
    "data_train = data_train.merge(final_recovery , left_index=True, right_index=True)\n",
    "\n",
    "data_test = data_test.merge(final_recovery , left_index=True, right_index=True)\n",
    "\n",
    "data_test.info()"
   ]
  },
  {
   "cell_type": "markdown",
   "metadata": {},
   "source": [
    "Теперь создадим выборки и разделим на них датасеты\n"
   ]
  },
  {
   "cell_type": "code",
   "execution_count": 24,
   "metadata": {},
   "outputs": [
    {
     "name": "stdout",
     "output_type": "stream",
     "text": [
      "features_train:  (13761, 52)\n",
      "target_rougher_train :   (13761,)\n",
      "target_final_train :   (13761,)\n",
      "features_test:  (5172, 52)\n",
      "target_rougher_test :   (5172,)\n",
      "target_final_test:   (5172,)\n"
     ]
    }
   ],
   "source": [
    "features_train = data_train.drop({'rougher.output.recovery', 'final.output.recovery'}, axis=1)\n",
    "target_rougher_train = data_train['rougher.output.recovery']\n",
    "\n",
    "target_final_train = data_train['final.output.recovery']\n",
    "\n",
    "features_test = data_test.drop({'rougher.output.recovery', 'final.output.recovery'}, axis=1)\n",
    "target_rougher_test = data_test['rougher.output.recovery']\n",
    "\n",
    "target_final_test = data_test['final.output.recovery']\n",
    "\n",
    "print('features_train: ', features_train.shape)\n",
    "print('target_rougher_train :  ', target_rougher_train .shape)\n",
    "print('target_final_train :  ', target_rougher_train .shape)\n",
    "\n",
    "print('features_test: ', features_test.shape)\n",
    "print('target_rougher_test :  ', target_rougher_test.shape)\n",
    "print('target_final_test:  ', target_rougher_test.shape)"
   ]
  },
  {
   "cell_type": "markdown",
   "metadata": {},
   "source": [
    "Масштабируем признаки для обучения моделей:"
   ]
  },
  {
   "cell_type": "code",
   "execution_count": 25,
   "metadata": {},
   "outputs": [],
   "source": [
    "scaler = MinMaxScaler(feature_range=(0, 1))\n",
    "\n",
    "scaler.fit(features_train)\n",
    "\n",
    "features_train = scaler.transform(features_train)\n",
    "features_test = scaler.transform(features_test)"
   ]
  },
  {
   "cell_type": "markdown",
   "metadata": {},
   "source": [
    "Займемся обучением. Обычно рекомендуется начинать с простых, интерпретируемых моделей, таких как линейная регрессия, и если результаты будут неудовлетворительными, то переходить к более сложным, но обычно более точным методам.\n",
    "\n",
    "Линейная регрессия - одна из простых моделей. У нее нет гиперпараметров. Для решения задачи мы ввели новую метрику качества — sMAPE. Она похожа на MAE, но выражается не в абсолютных величинах, а в относительных, и одинаково учитывает масштаб и целевого признака, и предсказания. Линейная регрессия склонна к переобучению."
   ]
  },
  {
   "cell_type": "code",
   "execution_count": 26,
   "metadata": {},
   "outputs": [],
   "source": [
    "linear_rougher = LinearRegression()\n",
    "\n",
    "smape_linear_rougher = cross_val_score(linear_rougher, features_train, target_rougher_train,\\\n",
    "                                        scoring = make_scorer(smape, greater_is_better=False), cv = 20).mean()\n",
    "linear_final = LinearRegression()\n",
    "\n",
    "smape_linear_final = cross_val_score(linear_final, features_train, target_final_train,\\\n",
    "                                        scoring = make_scorer(smape, greater_is_better=False), cv = 20).mean()\n"
   ]
  },
  {
   "cell_type": "code",
   "execution_count": 27,
   "metadata": {
    "scrolled": true
   },
   "outputs": [
    {
     "name": "stdout",
     "output_type": "stream",
     "text": [
      "sMAPE rougher -5.852222022040117\n",
      "sMAPE final -10.489086775774288\n",
      "sMAPE_general -9.329870587340745\n"
     ]
    }
   ],
   "source": [
    "print('sMAPE rougher', smape_linear_rougher)\n",
    "print('sMAPE final', smape_linear_final)\n",
    "print('sMAPE_general', general_smape(smape_linear_rougher, smape_linear_final))"
   ]
  },
  {
   "cell_type": "markdown",
   "metadata": {},
   "source": [
    "Среднее отклонение предсказания модели от целевого признака - всего 9.32%. Попробуем улучшить эти результаты на модели посложнее."
   ]
  },
  {
   "cell_type": "markdown",
   "metadata": {},
   "source": [
    "Для более сложной модели была выбрана модель Случайного леса. \n",
    "В плюсах такой модели то, что она имеет высокую точность предсказания, на большинстве задач будет лучше линейных алгоритмов; практически не чувствительна к выбросам в данных из-за случайного сэмлирования, не чувствительна к масштабированию  значений признаков, не требует тщательной настройки параметров, хорошо работает «из коробки»; способна эффективно обрабатывать данные с большим числом признаков и классов, редко переобучается, хорошо работает с пропущенными данными; сохраняет хорошую точность, если большая часть данных пропущена. \n",
    "Минусы модели Случайный лес в том, что случайный лес не умеет экстраполировать, в отличие от той же линейной регрессии (но это можно считать и плюсом, так как не будет экстремальных значений в случае попадания выброса), алгоритм склонен к переобучению на некоторых задачах, особенно на зашумленных данных, больший размер получающихся моделей. \n",
    "\n",
    "Подберем сразу гиперпараметры для модели. Управляя гиперпараметром, мы влияем на результаты работы модели, меняя баланс между её недообучением и переобучением. \n",
    "Трудность выбора правильных гиперпараметров заключается в том, что для каждой задачи будет уникальный оптимальный набор. Поэтому единственный способ выбрать наилучшие настройки — попробовать разные комбинации на новом датасете. Для этого используем инструмент GridSearchCV"
   ]
  },
  {
   "cell_type": "code",
   "execution_count": 28,
   "metadata": {},
   "outputs": [
    {
     "name": "stdout",
     "output_type": "stream",
     "text": [
      "Fitting 5 folds for each of 171 candidates, totalling 855 fits\n",
      "[CV] max_depth=1, n_estimators=1 .....................................\n",
      "[CV] ....... max_depth=1, n_estimators=1, score=-11.580, total=   0.1s\n",
      "[CV] max_depth=1, n_estimators=1 .....................................\n"
     ]
    },
    {
     "name": "stderr",
     "output_type": "stream",
     "text": [
      "[Parallel(n_jobs=-1)]: Using backend SequentialBackend with 1 concurrent workers.\n",
      "[Parallel(n_jobs=-1)]: Done   1 out of   1 | elapsed:    0.1s remaining:    0.0s\n"
     ]
    },
    {
     "name": "stdout",
     "output_type": "stream",
     "text": [
      "[CV] ........ max_depth=1, n_estimators=1, score=-7.624, total=   0.1s\n",
      "[CV] max_depth=1, n_estimators=1 .....................................\n",
      "[CV] ........ max_depth=1, n_estimators=1, score=-6.262, total=   0.2s\n",
      "[CV] max_depth=1, n_estimators=1 .....................................\n"
     ]
    },
    {
     "name": "stderr",
     "output_type": "stream",
     "text": [
      "[Parallel(n_jobs=-1)]: Done   2 out of   2 | elapsed:    0.2s remaining:    0.0s\n"
     ]
    },
    {
     "name": "stdout",
     "output_type": "stream",
     "text": [
      "[CV] ........ max_depth=1, n_estimators=1, score=-6.512, total=   0.1s\n",
      "[CV] max_depth=1, n_estimators=1 .....................................\n",
      "[CV] ........ max_depth=1, n_estimators=1, score=-8.925, total=   0.1s\n",
      "[CV] max_depth=1, n_estimators=2 .....................................\n",
      "[CV] ........ max_depth=1, n_estimators=2, score=-9.475, total=   0.2s\n",
      "[CV] max_depth=1, n_estimators=2 .....................................\n",
      "[CV] ........ max_depth=1, n_estimators=2, score=-7.512, total=   0.2s\n",
      "[CV] max_depth=1, n_estimators=2 .....................................\n",
      "[CV] ........ max_depth=1, n_estimators=2, score=-6.216, total=   0.3s\n",
      "[CV] max_depth=1, n_estimators=2 .....................................\n",
      "[CV] ........ max_depth=1, n_estimators=2, score=-6.583, total=   0.2s\n",
      "[CV] max_depth=1, n_estimators=2 .....................................\n",
      "[CV] ........ max_depth=1, n_estimators=2, score=-8.963, total=   0.2s\n",
      "[CV] max_depth=1, n_estimators=3 .....................................\n",
      "[CV] ....... max_depth=1, n_estimators=3, score=-10.078, total=   0.3s\n",
      "[CV] max_depth=1, n_estimators=3 .....................................\n",
      "[CV] ........ max_depth=1, n_estimators=3, score=-7.348, total=   0.4s\n",
      "[CV] max_depth=1, n_estimators=3 .....................................\n",
      "[CV] ........ max_depth=1, n_estimators=3, score=-5.693, total=   0.3s\n",
      "[CV] max_depth=1, n_estimators=3 .....................................\n",
      "[CV] ........ max_depth=1, n_estimators=3, score=-6.583, total=   0.3s\n",
      "[CV] max_depth=1, n_estimators=3 .....................................\n",
      "[CV] ........ max_depth=1, n_estimators=3, score=-8.965, total=   0.4s\n",
      "[CV] max_depth=1, n_estimators=4 .....................................\n",
      "[CV] ....... max_depth=1, n_estimators=4, score=-10.411, total=   0.4s\n",
      "[CV] max_depth=1, n_estimators=4 .....................................\n",
      "[CV] ........ max_depth=1, n_estimators=4, score=-7.324, total=   0.4s\n",
      "[CV] max_depth=1, n_estimators=4 .....................................\n",
      "[CV] ........ max_depth=1, n_estimators=4, score=-5.298, total=   0.4s\n",
      "[CV] max_depth=1, n_estimators=4 .....................................\n",
      "[CV] ........ max_depth=1, n_estimators=4, score=-6.576, total=   0.5s\n",
      "[CV] max_depth=1, n_estimators=4 .....................................\n",
      "[CV] ........ max_depth=1, n_estimators=4, score=-8.966, total=   0.4s\n",
      "[CV] max_depth=1, n_estimators=5 .....................................\n",
      "[CV] ....... max_depth=1, n_estimators=5, score=-10.637, total=   0.5s\n",
      "[CV] max_depth=1, n_estimators=5 .....................................\n",
      "[CV] ........ max_depth=1, n_estimators=5, score=-7.318, total=   0.5s\n",
      "[CV] max_depth=1, n_estimators=5 .....................................\n",
      "[CV] ........ max_depth=1, n_estimators=5, score=-5.217, total=   0.6s\n",
      "[CV] max_depth=1, n_estimators=5 .....................................\n",
      "[CV] ........ max_depth=1, n_estimators=5, score=-6.895, total=   0.5s\n",
      "[CV] max_depth=1, n_estimators=5 .....................................\n",
      "[CV] ........ max_depth=1, n_estimators=5, score=-8.401, total=   0.5s\n",
      "[CV] max_depth=1, n_estimators=6 .....................................\n",
      "[CV] ....... max_depth=1, n_estimators=6, score=-10.045, total=   0.6s\n",
      "[CV] max_depth=1, n_estimators=6 .....................................\n",
      "[CV] ........ max_depth=1, n_estimators=6, score=-7.317, total=   0.6s\n",
      "[CV] max_depth=1, n_estimators=6 .....................................\n",
      "[CV] ........ max_depth=1, n_estimators=6, score=-5.066, total=   0.6s\n",
      "[CV] max_depth=1, n_estimators=6 .....................................\n",
      "[CV] ........ max_depth=1, n_estimators=6, score=-6.839, total=   0.6s\n",
      "[CV] max_depth=1, n_estimators=6 .....................................\n",
      "[CV] ........ max_depth=1, n_estimators=6, score=-8.483, total=   0.7s\n",
      "[CV] max_depth=1, n_estimators=7 .....................................\n",
      "[CV] ....... max_depth=1, n_estimators=7, score=-10.255, total=   0.7s\n",
      "[CV] max_depth=1, n_estimators=7 .....................................\n",
      "[CV] ........ max_depth=1, n_estimators=7, score=-7.246, total=   0.7s\n",
      "[CV] max_depth=1, n_estimators=7 .....................................\n",
      "[CV] ........ max_depth=1, n_estimators=7, score=-5.198, total=   0.7s\n",
      "[CV] max_depth=1, n_estimators=7 .....................................\n",
      "[CV] ........ max_depth=1, n_estimators=7, score=-6.807, total=   0.7s\n",
      "[CV] max_depth=1, n_estimators=7 .....................................\n",
      "[CV] ........ max_depth=1, n_estimators=7, score=-8.543, total=   0.7s\n",
      "[CV] max_depth=1, n_estimators=8 .....................................\n",
      "[CV] ....... max_depth=1, n_estimators=8, score=-10.411, total=   0.8s\n",
      "[CV] max_depth=1, n_estimators=8 .....................................\n",
      "[CV] ........ max_depth=1, n_estimators=8, score=-7.199, total=   0.8s\n",
      "[CV] max_depth=1, n_estimators=8 .....................................\n",
      "[CV] ........ max_depth=1, n_estimators=8, score=-5.167, total=   0.8s\n",
      "[CV] max_depth=1, n_estimators=8 .....................................\n",
      "[CV] ........ max_depth=1, n_estimators=8, score=-6.987, total=   0.8s\n",
      "[CV] max_depth=1, n_estimators=8 .....................................\n",
      "[CV] ........ max_depth=1, n_estimators=8, score=-8.587, total=   0.8s\n",
      "[CV] max_depth=1, n_estimators=9 .....................................\n",
      "[CV] ....... max_depth=1, n_estimators=9, score=-10.531, total=   0.9s\n",
      "[CV] max_depth=1, n_estimators=9 .....................................\n",
      "[CV] ........ max_depth=1, n_estimators=9, score=-7.225, total=   1.0s\n",
      "[CV] max_depth=1, n_estimators=9 .....................................\n",
      "[CV] ........ max_depth=1, n_estimators=9, score=-5.080, total=   1.2s\n",
      "[CV] max_depth=1, n_estimators=9 .....................................\n",
      "[CV] ........ max_depth=1, n_estimators=9, score=-6.941, total=   0.9s\n",
      "[CV] max_depth=1, n_estimators=9 .....................................\n",
      "[CV] ........ max_depth=1, n_estimators=9, score=-8.348, total=   0.9s\n",
      "[CV] max_depth=1, n_estimators=10 ....................................\n",
      "[CV] ...... max_depth=1, n_estimators=10, score=-10.624, total=   1.0s\n",
      "[CV] max_depth=1, n_estimators=10 ....................................\n",
      "[CV] ....... max_depth=1, n_estimators=10, score=-7.246, total=   1.0s\n",
      "[CV] max_depth=1, n_estimators=10 ....................................\n",
      "[CV] ....... max_depth=1, n_estimators=10, score=-5.025, total=   1.0s\n",
      "[CV] max_depth=1, n_estimators=10 ....................................\n",
      "[CV] ....... max_depth=1, n_estimators=10, score=-6.892, total=   1.0s\n",
      "[CV] max_depth=1, n_estimators=10 ....................................\n",
      "[CV] ....... max_depth=1, n_estimators=10, score=-8.388, total=   1.1s\n",
      "[CV] max_depth=1, n_estimators=11 ....................................\n",
      "[CV] ...... max_depth=1, n_estimators=11, score=-10.709, total=   1.1s\n",
      "[CV] max_depth=1, n_estimators=11 ....................................\n",
      "[CV] ....... max_depth=1, n_estimators=11, score=-7.237, total=   1.1s\n",
      "[CV] max_depth=1, n_estimators=11 ....................................\n",
      "[CV] ....... max_depth=1, n_estimators=11, score=-5.028, total=   1.1s\n",
      "[CV] max_depth=1, n_estimators=11 ....................................\n",
      "[CV] ....... max_depth=1, n_estimators=11, score=-6.858, total=   1.1s\n",
      "[CV] max_depth=1, n_estimators=11 ....................................\n",
      "[CV] ....... max_depth=1, n_estimators=11, score=-8.435, total=   1.1s\n",
      "[CV] max_depth=1, n_estimators=12 ....................................\n",
      "[CV] ...... max_depth=1, n_estimators=12, score=-10.774, total=   1.2s\n",
      "[CV] max_depth=1, n_estimators=12 ....................................\n",
      "[CV] ....... max_depth=1, n_estimators=12, score=-7.255, total=   1.3s\n",
      "[CV] max_depth=1, n_estimators=12 ....................................\n",
      "[CV] ....... max_depth=1, n_estimators=12, score=-5.086, total=   1.4s\n",
      "[CV] max_depth=1, n_estimators=12 ....................................\n",
      "[CV] ....... max_depth=1, n_estimators=12, score=-6.834, total=   1.2s\n",
      "[CV] max_depth=1, n_estimators=12 ....................................\n",
      "[CV] ....... max_depth=1, n_estimators=12, score=-8.472, total=   1.2s\n",
      "[CV] max_depth=1, n_estimators=13 ....................................\n",
      "[CV] ...... max_depth=1, n_estimators=13, score=-10.843, total=   1.3s\n",
      "[CV] max_depth=1, n_estimators=13 ....................................\n",
      "[CV] ....... max_depth=1, n_estimators=13, score=-7.231, total=   1.3s\n",
      "[CV] max_depth=1, n_estimators=13 ....................................\n",
      "[CV] ....... max_depth=1, n_estimators=13, score=-5.084, total=   1.3s\n",
      "[CV] max_depth=1, n_estimators=13 ....................................\n",
      "[CV] ....... max_depth=1, n_estimators=13, score=-6.805, total=   1.4s\n",
      "[CV] max_depth=1, n_estimators=13 ....................................\n",
      "[CV] ....... max_depth=1, n_estimators=13, score=-8.310, total=   1.3s\n",
      "[CV] max_depth=1, n_estimators=14 ....................................\n",
      "[CV] ...... max_depth=1, n_estimators=14, score=-10.567, total=   1.4s\n",
      "[CV] max_depth=1, n_estimators=14 ....................................\n",
      "[CV] ....... max_depth=1, n_estimators=14, score=-7.249, total=   1.4s\n",
      "[CV] max_depth=1, n_estimators=14 ....................................\n",
      "[CV] ....... max_depth=1, n_estimators=14, score=-5.085, total=   1.4s\n",
      "[CV] max_depth=1, n_estimators=14 ....................................\n",
      "[CV] ....... max_depth=1, n_estimators=14, score=-6.785, total=   1.4s\n",
      "[CV] max_depth=1, n_estimators=14 ....................................\n",
      "[CV] ....... max_depth=1, n_estimators=14, score=-8.347, total=   1.9s\n",
      "[CV] max_depth=1, n_estimators=15 ....................................\n",
      "[CV] ...... max_depth=1, n_estimators=15, score=-10.628, total=   2.0s\n",
      "[CV] max_depth=1, n_estimators=15 ....................................\n",
      "[CV] ....... max_depth=1, n_estimators=15, score=-7.267, total=   2.0s\n",
      "[CV] max_depth=1, n_estimators=15 ....................................\n",
      "[CV] ....... max_depth=1, n_estimators=15, score=-5.130, total=   2.1s\n",
      "[CV] max_depth=1, n_estimators=15 ....................................\n",
      "[CV] ....... max_depth=1, n_estimators=15, score=-6.776, total=   2.0s\n",
      "[CV] max_depth=1, n_estimators=15 ....................................\n",
      "[CV] ....... max_depth=1, n_estimators=15, score=-8.389, total=   2.0s\n",
      "[CV] max_depth=1, n_estimators=16 ....................................\n",
      "[CV] ...... max_depth=1, n_estimators=16, score=-10.685, total=   2.2s\n",
      "[CV] max_depth=1, n_estimators=16 ....................................\n",
      "[CV] ....... max_depth=1, n_estimators=16, score=-7.250, total=   2.2s\n",
      "[CV] max_depth=1, n_estimators=16 ....................................\n",
      "[CV] ....... max_depth=1, n_estimators=16, score=-5.127, total=   2.1s\n",
      "[CV] max_depth=1, n_estimators=16 ....................................\n",
      "[CV] ....... max_depth=1, n_estimators=16, score=-6.762, total=   2.2s\n",
      "[CV] max_depth=1, n_estimators=16 ....................................\n",
      "[CV] ....... max_depth=1, n_estimators=16, score=-8.420, total=   2.2s\n",
      "[CV] max_depth=1, n_estimators=17 ....................................\n",
      "[CV] ...... max_depth=1, n_estimators=17, score=-10.732, total=   2.3s\n",
      "[CV] max_depth=1, n_estimators=17 ....................................\n",
      "[CV] ....... max_depth=1, n_estimators=17, score=-7.267, total=   2.3s\n",
      "[CV] max_depth=1, n_estimators=17 ....................................\n",
      "[CV] ....... max_depth=1, n_estimators=17, score=-5.124, total=   1.7s\n",
      "[CV] max_depth=1, n_estimators=17 ....................................\n",
      "[CV] ....... max_depth=1, n_estimators=17, score=-6.747, total=   1.6s\n",
      "[CV] max_depth=1, n_estimators=17 ....................................\n",
      "[CV] ....... max_depth=1, n_estimators=17, score=-8.447, total=   1.7s\n",
      "[CV] max_depth=1, n_estimators=18 ....................................\n",
      "[CV] ...... max_depth=1, n_estimators=18, score=-10.764, total=   1.8s\n",
      "[CV] max_depth=1, n_estimators=18 ....................................\n",
      "[CV] ....... max_depth=1, n_estimators=18, score=-7.284, total=   1.8s\n",
      "[CV] max_depth=1, n_estimators=18 ....................................\n",
      "[CV] ....... max_depth=1, n_estimators=18, score=-4.995, total=   1.8s\n",
      "[CV] max_depth=1, n_estimators=18 ....................................\n",
      "[CV] ....... max_depth=1, n_estimators=18, score=-6.738, total=   1.8s\n",
      "[CV] max_depth=1, n_estimators=18 ....................................\n",
      "[CV] ....... max_depth=1, n_estimators=18, score=-8.473, total=   1.7s\n",
      "[CV] max_depth=1, n_estimators=19 ....................................\n",
      "[CV] ...... max_depth=1, n_estimators=19, score=-10.806, total=   2.0s\n",
      "[CV] max_depth=1, n_estimators=19 ....................................\n",
      "[CV] ....... max_depth=1, n_estimators=19, score=-7.298, total=   1.8s\n",
      "[CV] max_depth=1, n_estimators=19 ....................................\n",
      "[CV] ....... max_depth=1, n_estimators=19, score=-5.002, total=   1.9s\n",
      "[CV] max_depth=1, n_estimators=19 ....................................\n",
      "[CV] ....... max_depth=1, n_estimators=19, score=-6.728, total=   1.8s\n",
      "[CV] max_depth=1, n_estimators=19 ....................................\n",
      "[CV] ....... max_depth=1, n_estimators=19, score=-8.497, total=   1.9s\n",
      "[CV] max_depth=2, n_estimators=1 .....................................\n",
      "[CV] ....... max_depth=2, n_estimators=1, score=-10.935, total=   0.2s\n",
      "[CV] max_depth=2, n_estimators=1 .....................................\n",
      "[CV] ........ max_depth=2, n_estimators=1, score=-6.876, total=   0.2s\n",
      "[CV] max_depth=2, n_estimators=1 .....................................\n",
      "[CV] ........ max_depth=2, n_estimators=1, score=-6.914, total=   0.2s\n",
      "[CV] max_depth=2, n_estimators=1 .....................................\n",
      "[CV] ........ max_depth=2, n_estimators=1, score=-6.285, total=   0.2s\n",
      "[CV] max_depth=2, n_estimators=1 .....................................\n",
      "[CV] ........ max_depth=2, n_estimators=1, score=-7.845, total=   0.2s\n",
      "[CV] max_depth=2, n_estimators=2 .....................................\n",
      "[CV] ........ max_depth=2, n_estimators=2, score=-8.741, total=   0.4s\n",
      "[CV] max_depth=2, n_estimators=2 .....................................\n",
      "[CV] ........ max_depth=2, n_estimators=2, score=-6.631, total=   0.4s\n",
      "[CV] max_depth=2, n_estimators=2 .....................................\n",
      "[CV] ........ max_depth=2, n_estimators=2, score=-4.943, total=   0.4s\n",
      "[CV] max_depth=2, n_estimators=2 .....................................\n",
      "[CV] ........ max_depth=2, n_estimators=2, score=-6.304, total=   0.4s\n",
      "[CV] max_depth=2, n_estimators=2 .....................................\n",
      "[CV] ........ max_depth=2, n_estimators=2, score=-7.845, total=   0.4s\n",
      "[CV] max_depth=2, n_estimators=3 .....................................\n",
      "[CV] ........ max_depth=2, n_estimators=3, score=-9.362, total=   0.6s\n",
      "[CV] max_depth=2, n_estimators=3 .....................................\n",
      "[CV] ........ max_depth=2, n_estimators=3, score=-6.824, total=   0.6s\n",
      "[CV] max_depth=2, n_estimators=3 .....................................\n",
      "[CV] ........ max_depth=2, n_estimators=3, score=-4.311, total=   0.6s\n",
      "[CV] max_depth=2, n_estimators=3 .....................................\n",
      "[CV] ........ max_depth=2, n_estimators=3, score=-6.292, total=   0.6s\n",
      "[CV] max_depth=2, n_estimators=3 .....................................\n",
      "[CV] ........ max_depth=2, n_estimators=3, score=-7.841, total=   0.6s\n",
      "[CV] max_depth=2, n_estimators=4 .....................................\n",
      "[CV] ........ max_depth=2, n_estimators=4, score=-9.704, total=   0.8s\n",
      "[CV] max_depth=2, n_estimators=4 .....................................\n",
      "[CV] ........ max_depth=2, n_estimators=4, score=-6.822, total=   0.7s\n",
      "[CV] max_depth=2, n_estimators=4 .....................................\n",
      "[CV] ........ max_depth=2, n_estimators=4, score=-4.579, total=   0.8s\n",
      "[CV] max_depth=2, n_estimators=4 .....................................\n",
      "[CV] ........ max_depth=2, n_estimators=4, score=-6.282, total=   0.8s\n",
      "[CV] max_depth=2, n_estimators=4 .....................................\n",
      "[CV] ........ max_depth=2, n_estimators=4, score=-7.840, total=   0.8s\n",
      "[CV] max_depth=2, n_estimators=5 .....................................\n",
      "[CV] ........ max_depth=2, n_estimators=5, score=-9.936, total=   0.9s\n",
      "[CV] max_depth=2, n_estimators=5 .....................................\n",
      "[CV] ........ max_depth=2, n_estimators=5, score=-6.863, total=   0.9s\n",
      "[CV] max_depth=2, n_estimators=5 .....................................\n",
      "[CV] ........ max_depth=2, n_estimators=5, score=-4.702, total=   1.0s\n",
      "[CV] max_depth=2, n_estimators=5 .....................................\n",
      "[CV] ........ max_depth=2, n_estimators=5, score=-6.203, total=   0.9s\n",
      "[CV] max_depth=2, n_estimators=5 .....................................\n",
      "[CV] ........ max_depth=2, n_estimators=5, score=-7.604, total=   0.9s\n",
      "[CV] max_depth=2, n_estimators=6 .....................................\n",
      "[CV] ........ max_depth=2, n_estimators=6, score=-9.323, total=   1.1s\n",
      "[CV] max_depth=2, n_estimators=6 .....................................\n",
      "[CV] ........ max_depth=2, n_estimators=6, score=-6.802, total=   1.4s\n",
      "[CV] max_depth=2, n_estimators=6 .....................................\n",
      "[CV] ........ max_depth=2, n_estimators=6, score=-4.536, total=   1.1s\n",
      "[CV] max_depth=2, n_estimators=6 .....................................\n",
      "[CV] ........ max_depth=2, n_estimators=6, score=-6.193, total=   1.1s\n",
      "[CV] max_depth=2, n_estimators=6 .....................................\n",
      "[CV] ........ max_depth=2, n_estimators=6, score=-7.636, total=   1.1s\n",
      "[CV] max_depth=2, n_estimators=7 .....................................\n",
      "[CV] ........ max_depth=2, n_estimators=7, score=-9.547, total=   1.3s\n",
      "[CV] max_depth=2, n_estimators=7 .....................................\n",
      "[CV] ........ max_depth=2, n_estimators=7, score=-6.716, total=   1.3s\n",
      "[CV] max_depth=2, n_estimators=7 .....................................\n",
      "[CV] ........ max_depth=2, n_estimators=7, score=-4.459, total=   1.4s\n",
      "[CV] max_depth=2, n_estimators=7 .....................................\n",
      "[CV] ........ max_depth=2, n_estimators=7, score=-6.210, total=   1.3s\n",
      "[CV] max_depth=2, n_estimators=7 .....................................\n",
      "[CV] ........ max_depth=2, n_estimators=7, score=-7.666, total=   1.3s\n",
      "[CV] max_depth=2, n_estimators=8 .....................................\n",
      "[CV] ........ max_depth=2, n_estimators=8, score=-9.703, total=   1.4s\n",
      "[CV] max_depth=2, n_estimators=8 .....................................\n",
      "[CV] ........ max_depth=2, n_estimators=8, score=-6.718, total=   1.4s\n",
      "[CV] max_depth=2, n_estimators=8 .....................................\n",
      "[CV] ........ max_depth=2, n_estimators=8, score=-4.555, total=   1.5s\n",
      "[CV] max_depth=2, n_estimators=8 .....................................\n",
      "[CV] ........ max_depth=2, n_estimators=8, score=-6.193, total=   1.4s\n",
      "[CV] max_depth=2, n_estimators=8 .....................................\n",
      "[CV] ........ max_depth=2, n_estimators=8, score=-7.688, total=   1.5s\n",
      "[CV] max_depth=2, n_estimators=9 .....................................\n",
      "[CV] ........ max_depth=2, n_estimators=9, score=-9.829, total=   1.7s\n",
      "[CV] max_depth=2, n_estimators=9 .....................................\n",
      "[CV] ........ max_depth=2, n_estimators=9, score=-6.708, total=   1.7s\n",
      "[CV] max_depth=2, n_estimators=9 .....................................\n",
      "[CV] ........ max_depth=2, n_estimators=9, score=-4.515, total=   1.8s\n",
      "[CV] max_depth=2, n_estimators=9 .....................................\n",
      "[CV] ........ max_depth=2, n_estimators=9, score=-6.178, total=   1.6s\n",
      "[CV] max_depth=2, n_estimators=9 .....................................\n",
      "[CV] ........ max_depth=2, n_estimators=9, score=-7.591, total=   1.6s\n",
      "[CV] max_depth=2, n_estimators=10 ....................................\n",
      "[CV] ....... max_depth=2, n_estimators=10, score=-9.920, total=   1.9s\n",
      "[CV] max_depth=2, n_estimators=10 ....................................\n",
      "[CV] ....... max_depth=2, n_estimators=10, score=-6.703, total=   1.8s\n",
      "[CV] max_depth=2, n_estimators=10 ....................................\n",
      "[CV] ....... max_depth=2, n_estimators=10, score=-4.512, total=   1.8s\n",
      "[CV] max_depth=2, n_estimators=10 ....................................\n",
      "[CV] ....... max_depth=2, n_estimators=10, score=-6.182, total=   1.9s\n",
      "[CV] max_depth=2, n_estimators=10 ....................................\n",
      "[CV] ....... max_depth=2, n_estimators=10, score=-7.606, total=   1.9s\n",
      "[CV] max_depth=2, n_estimators=11 ....................................\n",
      "[CV] ...... max_depth=2, n_estimators=11, score=-10.002, total=   2.0s\n",
      "[CV] max_depth=2, n_estimators=11 ....................................\n",
      "[CV] ....... max_depth=2, n_estimators=11, score=-6.722, total=   2.0s\n",
      "[CV] max_depth=2, n_estimators=11 ....................................\n",
      "[CV] ....... max_depth=2, n_estimators=11, score=-4.536, total=   2.0s\n",
      "[CV] max_depth=2, n_estimators=11 ....................................\n",
      "[CV] ....... max_depth=2, n_estimators=11, score=-6.184, total=   2.1s\n",
      "[CV] max_depth=2, n_estimators=11 ....................................\n",
      "[CV] ....... max_depth=2, n_estimators=11, score=-7.628, total=   2.0s\n",
      "[CV] max_depth=2, n_estimators=12 ....................................\n",
      "[CV] ...... max_depth=2, n_estimators=12, score=-10.023, total=   2.2s\n",
      "[CV] max_depth=2, n_estimators=12 ....................................\n",
      "[CV] ....... max_depth=2, n_estimators=12, score=-6.718, total=   2.2s\n",
      "[CV] max_depth=2, n_estimators=12 ....................................\n",
      "[CV] ....... max_depth=2, n_estimators=12, score=-4.485, total=   2.2s\n",
      "[CV] max_depth=2, n_estimators=12 ....................................\n",
      "[CV] ....... max_depth=2, n_estimators=12, score=-6.181, total=   2.2s\n",
      "[CV] max_depth=2, n_estimators=12 ....................................\n",
      "[CV] ....... max_depth=2, n_estimators=12, score=-7.646, total=   2.2s\n",
      "[CV] max_depth=2, n_estimators=13 ....................................\n",
      "[CV] ...... max_depth=2, n_estimators=13, score=-10.095, total=   2.4s\n",
      "[CV] max_depth=2, n_estimators=13 ....................................\n",
      "[CV] ....... max_depth=2, n_estimators=13, score=-6.691, total=   2.4s\n",
      "[CV] max_depth=2, n_estimators=13 ....................................\n",
      "[CV] ....... max_depth=2, n_estimators=13, score=-4.528, total=   2.4s\n",
      "[CV] max_depth=2, n_estimators=13 ....................................\n",
      "[CV] ....... max_depth=2, n_estimators=13, score=-6.172, total=   2.8s\n",
      "[CV] max_depth=2, n_estimators=13 ....................................\n",
      "[CV] ....... max_depth=2, n_estimators=13, score=-7.587, total=   3.0s\n",
      "[CV] max_depth=2, n_estimators=14 ....................................\n",
      "[CV] ....... max_depth=2, n_estimators=14, score=-9.817, total=   2.5s\n",
      "[CV] max_depth=2, n_estimators=14 ....................................\n",
      "[CV] ....... max_depth=2, n_estimators=14, score=-6.693, total=   2.6s\n",
      "[CV] max_depth=2, n_estimators=14 ....................................\n",
      "[CV] ....... max_depth=2, n_estimators=14, score=-4.568, total=   2.5s\n",
      "[CV] max_depth=2, n_estimators=14 ....................................\n",
      "[CV] ....... max_depth=2, n_estimators=14, score=-6.172, total=   2.9s\n",
      "[CV] max_depth=2, n_estimators=14 ....................................\n",
      "[CV] ....... max_depth=2, n_estimators=14, score=-7.600, total=   3.3s\n",
      "[CV] max_depth=2, n_estimators=15 ....................................\n",
      "[CV] ....... max_depth=2, n_estimators=15, score=-9.886, total=   3.5s\n",
      "[CV] max_depth=2, n_estimators=15 ....................................\n",
      "[CV] ....... max_depth=2, n_estimators=15, score=-6.698, total=   2.6s\n",
      "[CV] max_depth=2, n_estimators=15 ....................................\n",
      "[CV] ....... max_depth=2, n_estimators=15, score=-4.530, total=   2.8s\n",
      "[CV] max_depth=2, n_estimators=15 ....................................\n",
      "[CV] ....... max_depth=2, n_estimators=15, score=-6.179, total=   2.7s\n",
      "[CV] max_depth=2, n_estimators=15 ....................................\n",
      "[CV] ....... max_depth=2, n_estimators=15, score=-7.621, total=   2.8s\n",
      "[CV] max_depth=2, n_estimators=16 ....................................\n",
      "[CV] ....... max_depth=2, n_estimators=16, score=-9.948, total=   2.9s\n",
      "[CV] max_depth=2, n_estimators=16 ....................................\n",
      "[CV] ....... max_depth=2, n_estimators=16, score=-6.699, total=   2.9s\n",
      "[CV] max_depth=2, n_estimators=16 ....................................\n",
      "[CV] ....... max_depth=2, n_estimators=16, score=-4.541, total=   3.0s\n",
      "[CV] max_depth=2, n_estimators=16 ....................................\n",
      "[CV] ....... max_depth=2, n_estimators=16, score=-6.181, total=   3.2s\n",
      "[CV] max_depth=2, n_estimators=16 ....................................\n",
      "[CV] ....... max_depth=2, n_estimators=16, score=-7.632, total=   3.9s\n",
      "[CV] max_depth=2, n_estimators=17 ....................................\n",
      "[CV] ....... max_depth=2, n_estimators=17, score=-9.999, total=   3.2s\n",
      "[CV] max_depth=2, n_estimators=17 ....................................\n",
      "[CV] ....... max_depth=2, n_estimators=17, score=-6.703, total=   3.1s\n",
      "[CV] max_depth=2, n_estimators=17 ....................................\n",
      "[CV] ....... max_depth=2, n_estimators=17, score=-4.580, total=   3.1s\n",
      "[CV] max_depth=2, n_estimators=17 ....................................\n",
      "[CV] ....... max_depth=2, n_estimators=17, score=-6.180, total=   3.2s\n",
      "[CV] max_depth=2, n_estimators=17 ....................................\n",
      "[CV] ....... max_depth=2, n_estimators=17, score=-7.644, total=   3.2s\n",
      "[CV] max_depth=2, n_estimators=18 ....................................\n",
      "[CV] ...... max_depth=2, n_estimators=18, score=-10.046, total=   3.3s\n",
      "[CV] max_depth=2, n_estimators=18 ....................................\n",
      "[CV] ....... max_depth=2, n_estimators=18, score=-6.708, total=   3.3s\n",
      "[CV] max_depth=2, n_estimators=18 ....................................\n",
      "[CV] ....... max_depth=2, n_estimators=18, score=-4.592, total=   3.3s\n",
      "[CV] max_depth=2, n_estimators=18 ....................................\n",
      "[CV] ....... max_depth=2, n_estimators=18, score=-6.185, total=   3.5s\n",
      "[CV] max_depth=2, n_estimators=18 ....................................\n",
      "[CV] ....... max_depth=2, n_estimators=18, score=-7.656, total=   3.3s\n",
      "[CV] max_depth=2, n_estimators=19 ....................................\n",
      "[CV] ...... max_depth=2, n_estimators=19, score=-10.087, total=   3.5s\n",
      "[CV] max_depth=2, n_estimators=19 ....................................\n",
      "[CV] ....... max_depth=2, n_estimators=19, score=-6.711, total=   3.5s\n",
      "[CV] max_depth=2, n_estimators=19 ....................................\n",
      "[CV] ....... max_depth=2, n_estimators=19, score=-4.601, total=   3.4s\n",
      "[CV] max_depth=2, n_estimators=19 ....................................\n",
      "[CV] ....... max_depth=2, n_estimators=19, score=-6.183, total=   3.4s\n",
      "[CV] max_depth=2, n_estimators=19 ....................................\n",
      "[CV] ....... max_depth=2, n_estimators=19, score=-7.668, total=   3.5s\n",
      "[CV] max_depth=3, n_estimators=1 .....................................\n",
      "[CV] ....... max_depth=3, n_estimators=1, score=-10.285, total=   0.3s\n",
      "[CV] max_depth=3, n_estimators=1 .....................................\n",
      "[CV] ........ max_depth=3, n_estimators=1, score=-5.980, total=   0.3s\n",
      "[CV] max_depth=3, n_estimators=1 .....................................\n",
      "[CV] ........ max_depth=3, n_estimators=1, score=-6.218, total=   0.3s\n",
      "[CV] max_depth=3, n_estimators=1 .....................................\n",
      "[CV] ........ max_depth=3, n_estimators=1, score=-5.511, total=   0.2s\n",
      "[CV] max_depth=3, n_estimators=1 .....................................\n",
      "[CV] ........ max_depth=3, n_estimators=1, score=-7.885, total=   0.3s\n",
      "[CV] max_depth=3, n_estimators=2 .....................................\n",
      "[CV] ........ max_depth=3, n_estimators=2, score=-7.938, total=   0.6s\n",
      "[CV] max_depth=3, n_estimators=2 .....................................\n",
      "[CV] ........ max_depth=3, n_estimators=2, score=-6.084, total=   0.5s\n",
      "[CV] max_depth=3, n_estimators=2 .....................................\n",
      "[CV] ........ max_depth=3, n_estimators=2, score=-5.879, total=   0.6s\n",
      "[CV] max_depth=3, n_estimators=2 .....................................\n",
      "[CV] ........ max_depth=3, n_estimators=2, score=-5.545, total=   0.5s\n",
      "[CV] max_depth=3, n_estimators=2 .....................................\n",
      "[CV] ........ max_depth=3, n_estimators=2, score=-8.022, total=   0.6s\n",
      "[CV] max_depth=3, n_estimators=3 .....................................\n",
      "[CV] ........ max_depth=3, n_estimators=3, score=-8.494, total=   0.8s\n",
      "[CV] max_depth=3, n_estimators=3 .....................................\n",
      "[CV] ........ max_depth=3, n_estimators=3, score=-6.538, total=   0.8s\n",
      "[CV] max_depth=3, n_estimators=3 .....................................\n",
      "[CV] ........ max_depth=3, n_estimators=3, score=-5.036, total=   0.8s\n",
      "[CV] max_depth=3, n_estimators=3 .....................................\n",
      "[CV] ........ max_depth=3, n_estimators=3, score=-5.538, total=   0.8s\n",
      "[CV] max_depth=3, n_estimators=3 .....................................\n",
      "[CV] ........ max_depth=3, n_estimators=3, score=-7.878, total=   0.8s\n",
      "[CV] max_depth=3, n_estimators=4 .....................................\n",
      "[CV] ........ max_depth=3, n_estimators=4, score=-8.869, total=   1.1s\n",
      "[CV] max_depth=3, n_estimators=4 .....................................\n",
      "[CV] ........ max_depth=3, n_estimators=4, score=-6.508, total=   1.1s\n",
      "[CV] max_depth=3, n_estimators=4 .....................................\n",
      "[CV] ........ max_depth=3, n_estimators=4, score=-4.951, total=   1.1s\n",
      "[CV] max_depth=3, n_estimators=4 .....................................\n",
      "[CV] ........ max_depth=3, n_estimators=4, score=-5.470, total=   1.0s\n",
      "[CV] max_depth=3, n_estimators=4 .....................................\n",
      "[CV] ........ max_depth=3, n_estimators=4, score=-7.954, total=   1.0s\n",
      "[CV] max_depth=3, n_estimators=5 .....................................\n",
      "[CV] ........ max_depth=3, n_estimators=5, score=-9.110, total=   1.4s\n",
      "[CV] max_depth=3, n_estimators=5 .....................................\n",
      "[CV] ........ max_depth=3, n_estimators=5, score=-6.618, total=   1.3s\n",
      "[CV] max_depth=3, n_estimators=5 .....................................\n",
      "[CV] ........ max_depth=3, n_estimators=5, score=-4.984, total=   1.4s\n",
      "[CV] max_depth=3, n_estimators=5 .....................................\n",
      "[CV] ........ max_depth=3, n_estimators=5, score=-5.533, total=   1.3s\n",
      "[CV] max_depth=3, n_estimators=5 .....................................\n",
      "[CV] ........ max_depth=3, n_estimators=5, score=-7.669, total=   1.3s\n",
      "[CV] max_depth=3, n_estimators=6 .....................................\n",
      "[CV] ........ max_depth=3, n_estimators=6, score=-8.723, total=   1.7s\n",
      "[CV] max_depth=3, n_estimators=6 .....................................\n",
      "[CV] ........ max_depth=3, n_estimators=6, score=-6.417, total=   1.6s\n",
      "[CV] max_depth=3, n_estimators=6 .....................................\n",
      "[CV] ........ max_depth=3, n_estimators=6, score=-5.037, total=   1.6s\n",
      "[CV] max_depth=3, n_estimators=6 .....................................\n",
      "[CV] ........ max_depth=3, n_estimators=6, score=-5.463, total=   1.6s\n",
      "[CV] max_depth=3, n_estimators=6 .....................................\n",
      "[CV] ........ max_depth=3, n_estimators=6, score=-7.680, total=   1.6s\n",
      "[CV] max_depth=3, n_estimators=7 .....................................\n",
      "[CV] ........ max_depth=3, n_estimators=7, score=-8.905, total=   1.8s\n",
      "[CV] max_depth=3, n_estimators=7 .....................................\n",
      "[CV] ........ max_depth=3, n_estimators=7, score=-6.242, total=   1.8s\n",
      "[CV] max_depth=3, n_estimators=7 .....................................\n",
      "[CV] ........ max_depth=3, n_estimators=7, score=-4.983, total=   1.9s\n",
      "[CV] max_depth=3, n_estimators=7 .....................................\n",
      "[CV] ........ max_depth=3, n_estimators=7, score=-5.478, total=   1.8s\n",
      "[CV] max_depth=3, n_estimators=7 .....................................\n",
      "[CV] ........ max_depth=3, n_estimators=7, score=-7.736, total=   1.8s\n",
      "[CV] max_depth=3, n_estimators=8 .....................................\n",
      "[CV] ........ max_depth=3, n_estimators=8, score=-9.039, total=   2.2s\n",
      "[CV] max_depth=3, n_estimators=8 .....................................\n",
      "[CV] ........ max_depth=3, n_estimators=8, score=-6.167, total=   2.1s\n",
      "[CV] max_depth=3, n_estimators=8 .....................................\n",
      "[CV] ........ max_depth=3, n_estimators=8, score=-4.961, total=   2.2s\n",
      "[CV] max_depth=3, n_estimators=8 .....................................\n",
      "[CV] ........ max_depth=3, n_estimators=8, score=-5.504, total=   2.0s\n",
      "[CV] max_depth=3, n_estimators=8 .....................................\n",
      "[CV] ........ max_depth=3, n_estimators=8, score=-7.731, total=   2.2s\n",
      "[CV] max_depth=3, n_estimators=9 .....................................\n",
      "[CV] ........ max_depth=3, n_estimators=9, score=-9.143, total=   2.4s\n",
      "[CV] max_depth=3, n_estimators=9 .....................................\n",
      "[CV] ........ max_depth=3, n_estimators=9, score=-6.208, total=   2.4s\n",
      "[CV] max_depth=3, n_estimators=9 .....................................\n",
      "[CV] ........ max_depth=3, n_estimators=9, score=-4.818, total=   2.4s\n",
      "[CV] max_depth=3, n_estimators=9 .....................................\n",
      "[CV] ........ max_depth=3, n_estimators=9, score=-5.461, total=   2.3s\n",
      "[CV] max_depth=3, n_estimators=9 .....................................\n",
      "[CV] ........ max_depth=3, n_estimators=9, score=-7.624, total=   2.4s\n",
      "[CV] max_depth=3, n_estimators=10 ....................................\n",
      "[CV] ....... max_depth=3, n_estimators=10, score=-9.214, total=   2.6s\n",
      "[CV] max_depth=3, n_estimators=10 ....................................\n",
      "[CV] ....... max_depth=3, n_estimators=10, score=-6.126, total=   2.6s\n",
      "[CV] max_depth=3, n_estimators=10 ....................................\n",
      "[CV] ....... max_depth=3, n_estimators=10, score=-4.866, total=   2.7s\n",
      "[CV] max_depth=3, n_estimators=10 ....................................\n",
      "[CV] ....... max_depth=3, n_estimators=10, score=-5.451, total=   2.6s\n",
      "[CV] max_depth=3, n_estimators=10 ....................................\n",
      "[CV] ....... max_depth=3, n_estimators=10, score=-7.610, total=   2.6s\n",
      "[CV] max_depth=3, n_estimators=11 ....................................\n",
      "[CV] ....... max_depth=3, n_estimators=11, score=-9.290, total=   2.9s\n",
      "[CV] max_depth=3, n_estimators=11 ....................................\n",
      "[CV] ....... max_depth=3, n_estimators=11, score=-6.110, total=   2.9s\n",
      "[CV] max_depth=3, n_estimators=11 ....................................\n",
      "[CV] ....... max_depth=3, n_estimators=11, score=-4.787, total=   2.9s\n",
      "[CV] max_depth=3, n_estimators=11 ....................................\n",
      "[CV] ....... max_depth=3, n_estimators=11, score=-5.431, total=   2.9s\n",
      "[CV] max_depth=3, n_estimators=11 ....................................\n",
      "[CV] ....... max_depth=3, n_estimators=11, score=-7.653, total=   2.9s\n",
      "[CV] max_depth=3, n_estimators=12 ....................................\n",
      "[CV] ....... max_depth=3, n_estimators=12, score=-9.277, total=   3.1s\n",
      "[CV] max_depth=3, n_estimators=12 ....................................\n",
      "[CV] ....... max_depth=3, n_estimators=12, score=-6.064, total=   3.1s\n",
      "[CV] max_depth=3, n_estimators=12 ....................................\n",
      "[CV] ....... max_depth=3, n_estimators=12, score=-4.878, total=   3.2s\n",
      "[CV] max_depth=3, n_estimators=12 ....................................\n",
      "[CV] ....... max_depth=3, n_estimators=12, score=-5.412, total=   3.3s\n",
      "[CV] max_depth=3, n_estimators=12 ....................................\n",
      "[CV] ....... max_depth=3, n_estimators=12, score=-7.689, total=   3.2s\n",
      "[CV] max_depth=3, n_estimators=13 ....................................\n",
      "[CV] ....... max_depth=3, n_estimators=13, score=-9.338, total=   3.4s\n",
      "[CV] max_depth=3, n_estimators=13 ....................................\n",
      "[CV] ....... max_depth=3, n_estimators=13, score=-6.060, total=   4.8s\n",
      "[CV] max_depth=3, n_estimators=13 ....................................\n",
      "[CV] ....... max_depth=3, n_estimators=13, score=-4.947, total=   4.3s\n",
      "[CV] max_depth=3, n_estimators=13 ....................................\n",
      "[CV] ....... max_depth=3, n_estimators=13, score=-5.373, total=   3.8s\n",
      "[CV] max_depth=3, n_estimators=13 ....................................\n",
      "[CV] ....... max_depth=3, n_estimators=13, score=-7.691, total=   3.4s\n",
      "[CV] max_depth=3, n_estimators=14 ....................................\n",
      "[CV] ....... max_depth=3, n_estimators=14, score=-9.152, total=   3.7s\n",
      "[CV] max_depth=3, n_estimators=14 ....................................\n",
      "[CV] ....... max_depth=3, n_estimators=14, score=-6.009, total=   3.8s\n",
      "[CV] max_depth=3, n_estimators=14 ....................................\n",
      "[CV] ....... max_depth=3, n_estimators=14, score=-4.910, total=   8.2s\n",
      "[CV] max_depth=3, n_estimators=14 ....................................\n",
      "[CV] ....... max_depth=3, n_estimators=14, score=-5.355, total=   3.9s\n",
      "[CV] max_depth=3, n_estimators=14 ....................................\n",
      "[CV] ....... max_depth=3, n_estimators=14, score=-7.699, total=   3.8s\n",
      "[CV] max_depth=3, n_estimators=15 ....................................\n",
      "[CV] ....... max_depth=3, n_estimators=15, score=-9.210, total=   2.3s\n",
      "[CV] max_depth=3, n_estimators=15 ....................................\n",
      "[CV] ....... max_depth=3, n_estimators=15, score=-5.991, total=   2.0s\n",
      "[CV] max_depth=3, n_estimators=15 ....................................\n",
      "[CV] ....... max_depth=3, n_estimators=15, score=-4.867, total=   2.0s\n",
      "[CV] max_depth=3, n_estimators=15 ....................................\n",
      "[CV] ....... max_depth=3, n_estimators=15, score=-5.341, total=   2.0s\n",
      "[CV] max_depth=3, n_estimators=15 ....................................\n",
      "[CV] ....... max_depth=3, n_estimators=15, score=-7.705, total=   2.0s\n",
      "[CV] max_depth=3, n_estimators=16 ....................................\n",
      "[CV] ....... max_depth=3, n_estimators=16, score=-9.268, total=   2.1s\n",
      "[CV] max_depth=3, n_estimators=16 ....................................\n",
      "[CV] ....... max_depth=3, n_estimators=16, score=-6.064, total=   2.1s\n",
      "[CV] max_depth=3, n_estimators=16 ....................................\n",
      "[CV] ....... max_depth=3, n_estimators=16, score=-4.822, total=   2.1s\n",
      "[CV] max_depth=3, n_estimators=16 ....................................\n",
      "[CV] ....... max_depth=3, n_estimators=16, score=-5.335, total=   2.1s\n",
      "[CV] max_depth=3, n_estimators=16 ....................................\n",
      "[CV] ....... max_depth=3, n_estimators=16, score=-7.717, total=   2.1s\n",
      "[CV] max_depth=3, n_estimators=17 ....................................\n",
      "[CV] ....... max_depth=3, n_estimators=17, score=-9.310, total=   2.2s\n",
      "[CV] max_depth=3, n_estimators=17 ....................................\n",
      "[CV] ....... max_depth=3, n_estimators=17, score=-5.964, total=   2.2s\n",
      "[CV] max_depth=3, n_estimators=17 ....................................\n",
      "[CV] ....... max_depth=3, n_estimators=17, score=-4.816, total=   2.3s\n",
      "[CV] max_depth=3, n_estimators=17 ....................................\n",
      "[CV] ....... max_depth=3, n_estimators=17, score=-5.326, total=   2.3s\n",
      "[CV] max_depth=3, n_estimators=17 ....................................\n",
      "[CV] ....... max_depth=3, n_estimators=17, score=-7.723, total=   2.2s\n",
      "[CV] max_depth=3, n_estimators=18 ....................................\n",
      "[CV] ....... max_depth=3, n_estimators=18, score=-9.249, total=   2.4s\n",
      "[CV] max_depth=3, n_estimators=18 ....................................\n",
      "[CV] ....... max_depth=3, n_estimators=18, score=-5.946, total=   2.4s\n",
      "[CV] max_depth=3, n_estimators=18 ....................................\n",
      "[CV] ....... max_depth=3, n_estimators=18, score=-4.812, total=   2.4s\n",
      "[CV] max_depth=3, n_estimators=18 ....................................\n",
      "[CV] ....... max_depth=3, n_estimators=18, score=-5.322, total=   2.3s\n",
      "[CV] max_depth=3, n_estimators=18 ....................................\n",
      "[CV] ....... max_depth=3, n_estimators=18, score=-7.750, total=   2.3s\n",
      "[CV] max_depth=3, n_estimators=19 ....................................\n",
      "[CV] ....... max_depth=3, n_estimators=19, score=-9.285, total=   2.5s\n",
      "[CV] max_depth=3, n_estimators=19 ....................................\n",
      "[CV] ....... max_depth=3, n_estimators=19, score=-5.928, total=   2.5s\n",
      "[CV] max_depth=3, n_estimators=19 ....................................\n",
      "[CV] ....... max_depth=3, n_estimators=19, score=-4.767, total=   2.5s\n",
      "[CV] max_depth=3, n_estimators=19 ....................................\n",
      "[CV] ....... max_depth=3, n_estimators=19, score=-5.293, total=   2.5s\n",
      "[CV] max_depth=3, n_estimators=19 ....................................\n",
      "[CV] ....... max_depth=3, n_estimators=19, score=-7.735, total=   2.5s\n",
      "[CV] max_depth=4, n_estimators=1 .....................................\n",
      "[CV] ....... max_depth=4, n_estimators=1, score=-10.834, total=   0.2s\n",
      "[CV] max_depth=4, n_estimators=1 .....................................\n",
      "[CV] ........ max_depth=4, n_estimators=1, score=-7.591, total=   0.2s\n",
      "[CV] max_depth=4, n_estimators=1 .....................................\n",
      "[CV] ........ max_depth=4, n_estimators=1, score=-7.951, total=   0.2s\n",
      "[CV] max_depth=4, n_estimators=1 .....................................\n",
      "[CV] ........ max_depth=4, n_estimators=1, score=-5.106, total=   0.2s\n",
      "[CV] max_depth=4, n_estimators=1 .....................................\n",
      "[CV] ........ max_depth=4, n_estimators=1, score=-6.478, total=   0.2s\n",
      "[CV] max_depth=4, n_estimators=2 .....................................\n",
      "[CV] ........ max_depth=4, n_estimators=2, score=-8.100, total=   0.4s\n",
      "[CV] max_depth=4, n_estimators=2 .....................................\n",
      "[CV] ........ max_depth=4, n_estimators=2, score=-6.128, total=   0.3s\n",
      "[CV] max_depth=4, n_estimators=2 .....................................\n",
      "[CV] ........ max_depth=4, n_estimators=2, score=-6.423, total=   0.3s\n",
      "[CV] max_depth=4, n_estimators=2 .....................................\n",
      "[CV] ........ max_depth=4, n_estimators=2, score=-5.106, total=   0.4s\n",
      "[CV] max_depth=4, n_estimators=2 .....................................\n",
      "[CV] ........ max_depth=4, n_estimators=2, score=-6.505, total=   0.3s\n",
      "[CV] max_depth=4, n_estimators=3 .....................................\n",
      "[CV] ........ max_depth=4, n_estimators=3, score=-8.300, total=   0.5s\n",
      "[CV] max_depth=4, n_estimators=3 .....................................\n",
      "[CV] ........ max_depth=4, n_estimators=3, score=-6.999, total=   0.5s\n",
      "[CV] max_depth=4, n_estimators=3 .....................................\n",
      "[CV] ........ max_depth=4, n_estimators=3, score=-5.527, total=   0.5s\n",
      "[CV] max_depth=4, n_estimators=3 .....................................\n",
      "[CV] ........ max_depth=4, n_estimators=3, score=-5.105, total=   0.5s\n",
      "[CV] max_depth=4, n_estimators=3 .....................................\n",
      "[CV] ........ max_depth=4, n_estimators=3, score=-6.978, total=   0.5s\n",
      "[CV] max_depth=4, n_estimators=4 .....................................\n",
      "[CV] ........ max_depth=4, n_estimators=4, score=-8.754, total=   0.7s\n",
      "[CV] max_depth=4, n_estimators=4 .....................................\n",
      "[CV] ........ max_depth=4, n_estimators=4, score=-6.620, total=   0.7s\n",
      "[CV] max_depth=4, n_estimators=4 .....................................\n",
      "[CV] ........ max_depth=4, n_estimators=4, score=-5.073, total=   0.7s\n",
      "[CV] max_depth=4, n_estimators=4 .....................................\n",
      "[CV] ........ max_depth=4, n_estimators=4, score=-5.087, total=   0.7s\n",
      "[CV] max_depth=4, n_estimators=4 .....................................\n",
      "[CV] ........ max_depth=4, n_estimators=4, score=-7.109, total=   0.7s\n",
      "[CV] max_depth=4, n_estimators=5 .....................................\n",
      "[CV] ........ max_depth=4, n_estimators=5, score=-8.848, total=   0.9s\n",
      "[CV] max_depth=4, n_estimators=5 .....................................\n",
      "[CV] ........ max_depth=4, n_estimators=5, score=-6.657, total=   0.9s\n",
      "[CV] max_depth=4, n_estimators=5 .....................................\n",
      "[CV] ........ max_depth=4, n_estimators=5, score=-4.951, total=   0.9s\n",
      "[CV] max_depth=4, n_estimators=5 .....................................\n",
      "[CV] ........ max_depth=4, n_estimators=5, score=-5.059, total=   0.8s\n",
      "[CV] max_depth=4, n_estimators=5 .....................................\n",
      "[CV] ........ max_depth=4, n_estimators=5, score=-6.907, total=   0.8s\n",
      "[CV] max_depth=4, n_estimators=6 .....................................\n",
      "[CV] ........ max_depth=4, n_estimators=6, score=-8.625, total=   1.0s\n",
      "[CV] max_depth=4, n_estimators=6 .....................................\n",
      "[CV] ........ max_depth=4, n_estimators=6, score=-6.528, total=   1.0s\n",
      "[CV] max_depth=4, n_estimators=6 .....................................\n",
      "[CV] ........ max_depth=4, n_estimators=6, score=-5.055, total=   1.0s\n",
      "[CV] max_depth=4, n_estimators=6 .....................................\n",
      "[CV] ........ max_depth=4, n_estimators=6, score=-4.976, total=   1.0s\n",
      "[CV] max_depth=4, n_estimators=6 .....................................\n",
      "[CV] ........ max_depth=4, n_estimators=6, score=-6.807, total=   1.0s\n",
      "[CV] max_depth=4, n_estimators=7 .....................................\n",
      "[CV] ........ max_depth=4, n_estimators=7, score=-8.810, total=   1.3s\n",
      "[CV] max_depth=4, n_estimators=7 .....................................\n",
      "[CV] ........ max_depth=4, n_estimators=7, score=-6.376, total=   1.2s\n",
      "[CV] max_depth=4, n_estimators=7 .....................................\n",
      "[CV] ........ max_depth=4, n_estimators=7, score=-5.003, total=   1.2s\n",
      "[CV] max_depth=4, n_estimators=7 .....................................\n",
      "[CV] ........ max_depth=4, n_estimators=7, score=-5.005, total=   1.2s\n",
      "[CV] max_depth=4, n_estimators=7 .....................................\n",
      "[CV] ........ max_depth=4, n_estimators=7, score=-6.845, total=   1.2s\n",
      "[CV] max_depth=4, n_estimators=8 .....................................\n",
      "[CV] ........ max_depth=4, n_estimators=8, score=-8.898, total=   1.4s\n",
      "[CV] max_depth=4, n_estimators=8 .....................................\n",
      "[CV] ........ max_depth=4, n_estimators=8, score=-6.363, total=   1.4s\n",
      "[CV] max_depth=4, n_estimators=8 .....................................\n",
      "[CV] ........ max_depth=4, n_estimators=8, score=-5.042, total=   1.3s\n",
      "[CV] max_depth=4, n_estimators=8 .....................................\n",
      "[CV] ........ max_depth=4, n_estimators=8, score=-5.037, total=   1.4s\n",
      "[CV] max_depth=4, n_estimators=8 .....................................\n",
      "[CV] ........ max_depth=4, n_estimators=8, score=-6.939, total=   1.4s\n",
      "[CV] max_depth=4, n_estimators=9 .....................................\n",
      "[CV] ........ max_depth=4, n_estimators=9, score=-9.048, total=   1.5s\n",
      "[CV] max_depth=4, n_estimators=9 .....................................\n",
      "[CV] ........ max_depth=4, n_estimators=9, score=-6.472, total=   1.5s\n",
      "[CV] max_depth=4, n_estimators=9 .....................................\n",
      "[CV] ........ max_depth=4, n_estimators=9, score=-4.875, total=   1.5s\n",
      "[CV] max_depth=4, n_estimators=9 .....................................\n",
      "[CV] ........ max_depth=4, n_estimators=9, score=-5.033, total=   1.5s\n",
      "[CV] max_depth=4, n_estimators=9 .....................................\n",
      "[CV] ........ max_depth=4, n_estimators=9, score=-6.876, total=   1.5s\n",
      "[CV] max_depth=4, n_estimators=10 ....................................\n",
      "[CV] ....... max_depth=4, n_estimators=10, score=-9.172, total=   1.7s\n",
      "[CV] max_depth=4, n_estimators=10 ....................................\n",
      "[CV] ....... max_depth=4, n_estimators=10, score=-6.407, total=   1.7s\n",
      "[CV] max_depth=4, n_estimators=10 ....................................\n",
      "[CV] ....... max_depth=4, n_estimators=10, score=-4.914, total=   1.7s\n",
      "[CV] max_depth=4, n_estimators=10 ....................................\n",
      "[CV] ....... max_depth=4, n_estimators=10, score=-5.042, total=   1.7s\n",
      "[CV] max_depth=4, n_estimators=10 ....................................\n",
      "[CV] ....... max_depth=4, n_estimators=10, score=-6.974, total=   1.7s\n",
      "[CV] max_depth=4, n_estimators=11 ....................................\n",
      "[CV] ....... max_depth=4, n_estimators=11, score=-9.250, total=   1.8s\n",
      "[CV] max_depth=4, n_estimators=11 ....................................\n",
      "[CV] ....... max_depth=4, n_estimators=11, score=-6.382, total=   1.9s\n",
      "[CV] max_depth=4, n_estimators=11 ....................................\n",
      "[CV] ....... max_depth=4, n_estimators=11, score=-4.997, total=   1.8s\n",
      "[CV] max_depth=4, n_estimators=11 ....................................\n",
      "[CV] ....... max_depth=4, n_estimators=11, score=-5.018, total=   1.8s\n",
      "[CV] max_depth=4, n_estimators=11 ....................................\n",
      "[CV] ....... max_depth=4, n_estimators=11, score=-7.006, total=   1.8s\n",
      "[CV] max_depth=4, n_estimators=12 ....................................\n",
      "[CV] ....... max_depth=4, n_estimators=12, score=-9.195, total=   2.0s\n",
      "[CV] max_depth=4, n_estimators=12 ....................................\n",
      "[CV] ....... max_depth=4, n_estimators=12, score=-6.453, total=   2.0s\n",
      "[CV] max_depth=4, n_estimators=12 ....................................\n",
      "[CV] ....... max_depth=4, n_estimators=12, score=-5.046, total=   2.0s\n",
      "[CV] max_depth=4, n_estimators=12 ....................................\n",
      "[CV] ....... max_depth=4, n_estimators=12, score=-5.013, total=   2.0s\n",
      "[CV] max_depth=4, n_estimators=12 ....................................\n",
      "[CV] ....... max_depth=4, n_estimators=12, score=-7.020, total=   2.0s\n",
      "[CV] max_depth=4, n_estimators=13 ....................................\n",
      "[CV] ....... max_depth=4, n_estimators=13, score=-9.221, total=   2.2s\n",
      "[CV] max_depth=4, n_estimators=13 ....................................\n",
      "[CV] ....... max_depth=4, n_estimators=13, score=-6.461, total=   2.2s\n",
      "[CV] max_depth=4, n_estimators=13 ....................................\n",
      "[CV] ....... max_depth=4, n_estimators=13, score=-5.031, total=   2.2s\n",
      "[CV] max_depth=4, n_estimators=13 ....................................\n",
      "[CV] ....... max_depth=4, n_estimators=13, score=-5.019, total=   2.2s\n",
      "[CV] max_depth=4, n_estimators=13 ....................................\n",
      "[CV] ....... max_depth=4, n_estimators=13, score=-7.048, total=   2.2s\n",
      "[CV] max_depth=4, n_estimators=14 ....................................\n",
      "[CV] ....... max_depth=4, n_estimators=14, score=-9.097, total=   2.5s\n",
      "[CV] max_depth=4, n_estimators=14 ....................................\n",
      "[CV] ....... max_depth=4, n_estimators=14, score=-6.529, total=   2.4s\n",
      "[CV] max_depth=4, n_estimators=14 ....................................\n",
      "[CV] ....... max_depth=4, n_estimators=14, score=-5.063, total=   2.4s\n",
      "[CV] max_depth=4, n_estimators=14 ....................................\n",
      "[CV] ....... max_depth=4, n_estimators=14, score=-5.009, total=   2.4s\n",
      "[CV] max_depth=4, n_estimators=14 ....................................\n",
      "[CV] ....... max_depth=4, n_estimators=14, score=-7.112, total=   2.4s\n",
      "[CV] max_depth=4, n_estimators=15 ....................................\n",
      "[CV] ....... max_depth=4, n_estimators=15, score=-9.205, total=   2.6s\n",
      "[CV] max_depth=4, n_estimators=15 ....................................\n",
      "[CV] ....... max_depth=4, n_estimators=15, score=-6.608, total=   2.5s\n",
      "[CV] max_depth=4, n_estimators=15 ....................................\n",
      "[CV] ....... max_depth=4, n_estimators=15, score=-5.033, total=   2.5s\n",
      "[CV] max_depth=4, n_estimators=15 ....................................\n",
      "[CV] ....... max_depth=4, n_estimators=15, score=-4.987, total=   2.5s\n",
      "[CV] max_depth=4, n_estimators=15 ....................................\n",
      "[CV] ....... max_depth=4, n_estimators=15, score=-7.201, total=   2.5s\n",
      "[CV] max_depth=4, n_estimators=16 ....................................\n",
      "[CV] ....... max_depth=4, n_estimators=16, score=-9.244, total=   2.7s\n",
      "[CV] max_depth=4, n_estimators=16 ....................................\n",
      "[CV] ....... max_depth=4, n_estimators=16, score=-6.666, total=   3.0s\n",
      "[CV] max_depth=4, n_estimators=16 ....................................\n",
      "[CV] ....... max_depth=4, n_estimators=16, score=-5.011, total=   4.0s\n",
      "[CV] max_depth=4, n_estimators=16 ....................................\n",
      "[CV] ....... max_depth=4, n_estimators=16, score=-4.979, total=   2.7s\n",
      "[CV] max_depth=4, n_estimators=16 ....................................\n",
      "[CV] ....... max_depth=4, n_estimators=16, score=-7.180, total=   2.7s\n",
      "[CV] max_depth=4, n_estimators=17 ....................................\n",
      "[CV] ....... max_depth=4, n_estimators=17, score=-9.253, total=   3.0s\n",
      "[CV] max_depth=4, n_estimators=17 ....................................\n",
      "[CV] ....... max_depth=4, n_estimators=17, score=-6.611, total=   3.0s\n",
      "[CV] max_depth=4, n_estimators=17 ....................................\n",
      "[CV] ....... max_depth=4, n_estimators=17, score=-5.071, total=   2.9s\n",
      "[CV] max_depth=4, n_estimators=17 ....................................\n",
      "[CV] ....... max_depth=4, n_estimators=17, score=-4.981, total=   2.8s\n",
      "[CV] max_depth=4, n_estimators=17 ....................................\n",
      "[CV] ....... max_depth=4, n_estimators=17, score=-7.215, total=   2.9s\n",
      "[CV] max_depth=4, n_estimators=18 ....................................\n",
      "[CV] ....... max_depth=4, n_estimators=18, score=-9.194, total=   3.0s\n",
      "[CV] max_depth=4, n_estimators=18 ....................................\n",
      "[CV] ....... max_depth=4, n_estimators=18, score=-6.631, total=   3.3s\n",
      "[CV] max_depth=4, n_estimators=18 ....................................\n",
      "[CV] ....... max_depth=4, n_estimators=18, score=-5.056, total=   3.1s\n",
      "[CV] max_depth=4, n_estimators=18 ....................................\n",
      "[CV] ....... max_depth=4, n_estimators=18, score=-4.953, total=   3.0s\n",
      "[CV] max_depth=4, n_estimators=18 ....................................\n",
      "[CV] ....... max_depth=4, n_estimators=18, score=-7.258, total=   3.0s\n",
      "[CV] max_depth=4, n_estimators=19 ....................................\n",
      "[CV] ....... max_depth=4, n_estimators=19, score=-9.188, total=   3.2s\n",
      "[CV] max_depth=4, n_estimators=19 ....................................\n",
      "[CV] ....... max_depth=4, n_estimators=19, score=-6.679, total=   3.3s\n",
      "[CV] max_depth=4, n_estimators=19 ....................................\n",
      "[CV] ....... max_depth=4, n_estimators=19, score=-5.033, total=   3.2s\n",
      "[CV] max_depth=4, n_estimators=19 ....................................\n",
      "[CV] ....... max_depth=4, n_estimators=19, score=-4.913, total=   3.2s\n",
      "[CV] max_depth=4, n_estimators=19 ....................................\n",
      "[CV] ....... max_depth=4, n_estimators=19, score=-7.290, total=   3.3s\n",
      "[CV] max_depth=5, n_estimators=1 .....................................\n",
      "[CV] ....... max_depth=5, n_estimators=1, score=-10.194, total=   0.2s\n",
      "[CV] max_depth=5, n_estimators=1 .....................................\n",
      "[CV] ....... max_depth=5, n_estimators=1, score=-14.329, total=   0.3s\n",
      "[CV] max_depth=5, n_estimators=1 .....................................\n",
      "[CV] ........ max_depth=5, n_estimators=1, score=-7.912, total=   0.2s\n",
      "[CV] max_depth=5, n_estimators=1 .....................................\n",
      "[CV] ........ max_depth=5, n_estimators=1, score=-4.862, total=   0.2s\n",
      "[CV] max_depth=5, n_estimators=1 .....................................\n",
      "[CV] ........ max_depth=5, n_estimators=1, score=-7.143, total=   0.2s\n",
      "[CV] max_depth=5, n_estimators=2 .....................................\n",
      "[CV] ........ max_depth=5, n_estimators=2, score=-8.216, total=   0.4s\n",
      "[CV] max_depth=5, n_estimators=2 .....................................\n",
      "[CV] ........ max_depth=5, n_estimators=2, score=-8.493, total=   0.4s\n",
      "[CV] max_depth=5, n_estimators=2 .....................................\n",
      "[CV] ........ max_depth=5, n_estimators=2, score=-6.500, total=   0.4s\n",
      "[CV] max_depth=5, n_estimators=2 .....................................\n",
      "[CV] ........ max_depth=5, n_estimators=2, score=-4.854, total=   0.5s\n",
      "[CV] max_depth=5, n_estimators=2 .....................................\n",
      "[CV] ........ max_depth=5, n_estimators=2, score=-6.832, total=   0.4s\n",
      "[CV] max_depth=5, n_estimators=3 .....................................\n",
      "[CV] ........ max_depth=5, n_estimators=3, score=-8.751, total=   0.6s\n",
      "[CV] max_depth=5, n_estimators=3 .....................................\n",
      "[CV] ........ max_depth=5, n_estimators=3, score=-7.997, total=   0.6s\n",
      "[CV] max_depth=5, n_estimators=3 .....................................\n",
      "[CV] ........ max_depth=5, n_estimators=3, score=-5.518, total=   0.6s\n",
      "[CV] max_depth=5, n_estimators=3 .....................................\n",
      "[CV] ........ max_depth=5, n_estimators=3, score=-4.755, total=   0.6s\n",
      "[CV] max_depth=5, n_estimators=3 .....................................\n",
      "[CV] ........ max_depth=5, n_estimators=3, score=-6.995, total=   0.6s\n",
      "[CV] max_depth=5, n_estimators=4 .....................................\n",
      "[CV] ........ max_depth=5, n_estimators=4, score=-8.845, total=   0.8s\n",
      "[CV] max_depth=5, n_estimators=4 .....................................\n",
      "[CV] ........ max_depth=5, n_estimators=4, score=-7.250, total=   0.8s\n",
      "[CV] max_depth=5, n_estimators=4 .....................................\n",
      "[CV] ........ max_depth=5, n_estimators=4, score=-5.200, total=   0.8s\n",
      "[CV] max_depth=5, n_estimators=4 .....................................\n",
      "[CV] ........ max_depth=5, n_estimators=4, score=-4.791, total=   0.8s\n",
      "[CV] max_depth=5, n_estimators=4 .....................................\n",
      "[CV] ........ max_depth=5, n_estimators=4, score=-7.035, total=   0.8s\n",
      "[CV] max_depth=5, n_estimators=5 .....................................\n",
      "[CV] ........ max_depth=5, n_estimators=5, score=-8.664, total=   1.0s\n",
      "[CV] max_depth=5, n_estimators=5 .....................................\n",
      "[CV] ........ max_depth=5, n_estimators=5, score=-7.089, total=   1.0s\n",
      "[CV] max_depth=5, n_estimators=5 .....................................\n",
      "[CV] ........ max_depth=5, n_estimators=5, score=-4.963, total=   1.0s\n",
      "[CV] max_depth=5, n_estimators=5 .....................................\n",
      "[CV] ........ max_depth=5, n_estimators=5, score=-4.738, total=   1.0s\n",
      "[CV] max_depth=5, n_estimators=5 .....................................\n",
      "[CV] ........ max_depth=5, n_estimators=5, score=-6.983, total=   1.0s\n",
      "[CV] max_depth=5, n_estimators=6 .....................................\n",
      "[CV] ........ max_depth=5, n_estimators=6, score=-8.430, total=   1.3s\n",
      "[CV] max_depth=5, n_estimators=6 .....................................\n",
      "[CV] ........ max_depth=5, n_estimators=6, score=-7.399, total=   1.2s\n",
      "[CV] max_depth=5, n_estimators=6 .....................................\n",
      "[CV] ........ max_depth=5, n_estimators=6, score=-4.813, total=   1.2s\n",
      "[CV] max_depth=5, n_estimators=6 .....................................\n",
      "[CV] ........ max_depth=5, n_estimators=6, score=-4.667, total=   1.2s\n",
      "[CV] max_depth=5, n_estimators=6 .....................................\n",
      "[CV] ........ max_depth=5, n_estimators=6, score=-6.892, total=   1.2s\n",
      "[CV] max_depth=5, n_estimators=7 .....................................\n",
      "[CV] ........ max_depth=5, n_estimators=7, score=-8.616, total=   1.4s\n",
      "[CV] max_depth=5, n_estimators=7 .....................................\n",
      "[CV] ........ max_depth=5, n_estimators=7, score=-7.338, total=   1.4s\n",
      "[CV] max_depth=5, n_estimators=7 .....................................\n",
      "[CV] ........ max_depth=5, n_estimators=7, score=-4.769, total=   1.4s\n",
      "[CV] max_depth=5, n_estimators=7 .....................................\n",
      "[CV] ........ max_depth=5, n_estimators=7, score=-4.659, total=   1.4s\n",
      "[CV] max_depth=5, n_estimators=7 .....................................\n",
      "[CV] ........ max_depth=5, n_estimators=7, score=-6.894, total=   1.5s\n",
      "[CV] max_depth=5, n_estimators=8 .....................................\n",
      "[CV] ........ max_depth=5, n_estimators=8, score=-8.725, total=   1.7s\n",
      "[CV] max_depth=5, n_estimators=8 .....................................\n",
      "[CV] ........ max_depth=5, n_estimators=8, score=-7.326, total=   1.7s\n",
      "[CV] max_depth=5, n_estimators=8 .....................................\n",
      "[CV] ........ max_depth=5, n_estimators=8, score=-4.780, total=   2.0s\n",
      "[CV] max_depth=5, n_estimators=8 .....................................\n",
      "[CV] ........ max_depth=5, n_estimators=8, score=-4.773, total=   1.8s\n",
      "[CV] max_depth=5, n_estimators=8 .....................................\n",
      "[CV] ........ max_depth=5, n_estimators=8, score=-7.018, total=   1.7s\n",
      "[CV] max_depth=5, n_estimators=9 .....................................\n",
      "[CV] ........ max_depth=5, n_estimators=9, score=-8.801, total=   1.9s\n",
      "[CV] max_depth=5, n_estimators=9 .....................................\n",
      "[CV] ........ max_depth=5, n_estimators=9, score=-8.124, total=   1.9s\n",
      "[CV] max_depth=5, n_estimators=9 .....................................\n",
      "[CV] ........ max_depth=5, n_estimators=9, score=-4.833, total=   1.9s\n",
      "[CV] max_depth=5, n_estimators=9 .....................................\n",
      "[CV] ........ max_depth=5, n_estimators=9, score=-4.805, total=   2.0s\n",
      "[CV] max_depth=5, n_estimators=9 .....................................\n",
      "[CV] ........ max_depth=5, n_estimators=9, score=-6.973, total=   2.1s\n",
      "[CV] max_depth=5, n_estimators=10 ....................................\n",
      "[CV] ....... max_depth=5, n_estimators=10, score=-8.863, total=   2.2s\n",
      "[CV] max_depth=5, n_estimators=10 ....................................\n",
      "[CV] ....... max_depth=5, n_estimators=10, score=-7.871, total=   2.2s\n",
      "[CV] max_depth=5, n_estimators=10 ....................................\n",
      "[CV] ....... max_depth=5, n_estimators=10, score=-4.979, total=   2.0s\n",
      "[CV] max_depth=5, n_estimators=10 ....................................\n",
      "[CV] ....... max_depth=5, n_estimators=10, score=-4.914, total=   2.0s\n",
      "[CV] max_depth=5, n_estimators=10 ....................................\n",
      "[CV] ....... max_depth=5, n_estimators=10, score=-7.082, total=   2.1s\n",
      "[CV] max_depth=5, n_estimators=11 ....................................\n",
      "[CV] ....... max_depth=5, n_estimators=11, score=-8.918, total=   2.2s\n",
      "[CV] max_depth=5, n_estimators=11 ....................................\n",
      "[CV] ....... max_depth=5, n_estimators=11, score=-7.568, total=   2.3s\n",
      "[CV] max_depth=5, n_estimators=11 ....................................\n",
      "[CV] ....... max_depth=5, n_estimators=11, score=-4.943, total=   2.3s\n",
      "[CV] max_depth=5, n_estimators=11 ....................................\n",
      "[CV] ....... max_depth=5, n_estimators=11, score=-4.912, total=   2.2s\n",
      "[CV] max_depth=5, n_estimators=11 ....................................\n",
      "[CV] ....... max_depth=5, n_estimators=11, score=-7.110, total=   2.2s\n",
      "[CV] max_depth=5, n_estimators=12 ....................................\n",
      "[CV] ....... max_depth=5, n_estimators=12, score=-8.913, total=   2.5s\n",
      "[CV] max_depth=5, n_estimators=12 ....................................\n",
      "[CV] ....... max_depth=5, n_estimators=12, score=-7.561, total=   2.5s\n",
      "[CV] max_depth=5, n_estimators=12 ....................................\n",
      "[CV] ....... max_depth=5, n_estimators=12, score=-5.050, total=   2.4s\n",
      "[CV] max_depth=5, n_estimators=12 ....................................\n",
      "[CV] ....... max_depth=5, n_estimators=12, score=-4.888, total=   2.4s\n",
      "[CV] max_depth=5, n_estimators=12 ....................................\n",
      "[CV] ....... max_depth=5, n_estimators=12, score=-7.061, total=   2.6s\n",
      "[CV] max_depth=5, n_estimators=13 ....................................\n",
      "[CV] ....... max_depth=5, n_estimators=13, score=-8.865, total=   2.7s\n",
      "[CV] max_depth=5, n_estimators=13 ....................................\n",
      "[CV] ....... max_depth=5, n_estimators=13, score=-7.383, total=   2.7s\n",
      "[CV] max_depth=5, n_estimators=13 ....................................\n",
      "[CV] ....... max_depth=5, n_estimators=13, score=-4.970, total=   2.7s\n",
      "[CV] max_depth=5, n_estimators=13 ....................................\n",
      "[CV] ....... max_depth=5, n_estimators=13, score=-4.882, total=   2.9s\n",
      "[CV] max_depth=5, n_estimators=13 ....................................\n",
      "[CV] ....... max_depth=5, n_estimators=13, score=-7.339, total=   2.7s\n",
      "[CV] max_depth=5, n_estimators=14 ....................................\n",
      "[CV] ....... max_depth=5, n_estimators=14, score=-8.765, total=   2.9s\n",
      "[CV] max_depth=5, n_estimators=14 ....................................\n",
      "[CV] ....... max_depth=5, n_estimators=14, score=-7.442, total=   2.9s\n",
      "[CV] max_depth=5, n_estimators=14 ....................................\n",
      "[CV] ....... max_depth=5, n_estimators=14, score=-4.903, total=   2.9s\n",
      "[CV] max_depth=5, n_estimators=14 ....................................\n",
      "[CV] ....... max_depth=5, n_estimators=14, score=-4.951, total=   2.9s\n",
      "[CV] max_depth=5, n_estimators=14 ....................................\n",
      "[CV] ....... max_depth=5, n_estimators=14, score=-7.398, total=   3.1s\n",
      "[CV] max_depth=5, n_estimators=15 ....................................\n",
      "[CV] ....... max_depth=5, n_estimators=15, score=-8.837, total=   3.1s\n",
      "[CV] max_depth=5, n_estimators=15 ....................................\n",
      "[CV] ....... max_depth=5, n_estimators=15, score=-7.605, total=   3.2s\n",
      "[CV] max_depth=5, n_estimators=15 ....................................\n",
      "[CV] ....... max_depth=5, n_estimators=15, score=-4.910, total=   3.1s\n",
      "[CV] max_depth=5, n_estimators=15 ....................................\n",
      "[CV] ....... max_depth=5, n_estimators=15, score=-4.935, total=   3.1s\n",
      "[CV] max_depth=5, n_estimators=15 ....................................\n",
      "[CV] ....... max_depth=5, n_estimators=15, score=-7.381, total=   3.0s\n",
      "[CV] max_depth=5, n_estimators=16 ....................................\n",
      "[CV] ....... max_depth=5, n_estimators=16, score=-8.811, total=   3.3s\n",
      "[CV] max_depth=5, n_estimators=16 ....................................\n",
      "[CV] ....... max_depth=5, n_estimators=16, score=-7.519, total=   3.3s\n",
      "[CV] max_depth=5, n_estimators=16 ....................................\n",
      "[CV] ....... max_depth=5, n_estimators=16, score=-4.874, total=   3.3s\n",
      "[CV] max_depth=5, n_estimators=16 ....................................\n",
      "[CV] ....... max_depth=5, n_estimators=16, score=-4.943, total=   3.7s\n",
      "[CV] max_depth=5, n_estimators=16 ....................................\n",
      "[CV] ....... max_depth=5, n_estimators=16, score=-7.379, total=   3.7s\n",
      "[CV] max_depth=5, n_estimators=17 ....................................\n",
      "[CV] ....... max_depth=5, n_estimators=17, score=-8.846, total=   4.5s\n",
      "[CV] max_depth=5, n_estimators=17 ....................................\n",
      "[CV] ....... max_depth=5, n_estimators=17, score=-7.640, total=   3.7s\n",
      "[CV] max_depth=5, n_estimators=17 ....................................\n",
      "[CV] ....... max_depth=5, n_estimators=17, score=-4.891, total=   3.8s\n",
      "[CV] max_depth=5, n_estimators=17 ....................................\n",
      "[CV] ....... max_depth=5, n_estimators=17, score=-4.933, total=   3.4s\n",
      "[CV] max_depth=5, n_estimators=17 ....................................\n",
      "[CV] ....... max_depth=5, n_estimators=17, score=-7.351, total=   3.5s\n",
      "[CV] max_depth=5, n_estimators=18 ....................................\n",
      "[CV] ....... max_depth=5, n_estimators=18, score=-8.784, total=   3.7s\n",
      "[CV] max_depth=5, n_estimators=18 ....................................\n",
      "[CV] ....... max_depth=5, n_estimators=18, score=-7.721, total=   3.9s\n",
      "[CV] max_depth=5, n_estimators=18 ....................................\n",
      "[CV] ....... max_depth=5, n_estimators=18, score=-4.865, total=   3.7s\n",
      "[CV] max_depth=5, n_estimators=18 ....................................\n",
      "[CV] ....... max_depth=5, n_estimators=18, score=-4.964, total=   3.6s\n",
      "[CV] max_depth=5, n_estimators=18 ....................................\n",
      "[CV] ....... max_depth=5, n_estimators=18, score=-7.373, total=   3.8s\n",
      "[CV] max_depth=5, n_estimators=19 ....................................\n",
      "[CV] ....... max_depth=5, n_estimators=19, score=-8.815, total=   4.2s\n",
      "[CV] max_depth=5, n_estimators=19 ....................................\n",
      "[CV] ....... max_depth=5, n_estimators=19, score=-7.729, total=   4.0s\n",
      "[CV] max_depth=5, n_estimators=19 ....................................\n",
      "[CV] ....... max_depth=5, n_estimators=19, score=-4.847, total=   3.8s\n",
      "[CV] max_depth=5, n_estimators=19 ....................................\n",
      "[CV] ....... max_depth=5, n_estimators=19, score=-4.923, total=   4.0s\n",
      "[CV] max_depth=5, n_estimators=19 ....................................\n",
      "[CV] ....... max_depth=5, n_estimators=19, score=-7.510, total=   4.0s\n",
      "[CV] max_depth=6, n_estimators=1 .....................................\n",
      "[CV] ....... max_depth=6, n_estimators=1, score=-10.643, total=   0.3s\n",
      "[CV] max_depth=6, n_estimators=1 .....................................\n",
      "[CV] ....... max_depth=6, n_estimators=1, score=-11.327, total=   0.3s\n",
      "[CV] max_depth=6, n_estimators=1 .....................................\n",
      "[CV] ........ max_depth=6, n_estimators=1, score=-7.751, total=   0.2s\n",
      "[CV] max_depth=6, n_estimators=1 .....................................\n",
      "[CV] ........ max_depth=6, n_estimators=1, score=-5.366, total=   0.3s\n",
      "[CV] max_depth=6, n_estimators=1 .....................................\n",
      "[CV] ........ max_depth=6, n_estimators=1, score=-7.009, total=   0.2s\n",
      "[CV] max_depth=6, n_estimators=2 .....................................\n",
      "[CV] ........ max_depth=6, n_estimators=2, score=-8.287, total=   0.6s\n",
      "[CV] max_depth=6, n_estimators=2 .....................................\n",
      "[CV] ........ max_depth=6, n_estimators=2, score=-7.467, total=   0.5s\n",
      "[CV] max_depth=6, n_estimators=2 .....................................\n",
      "[CV] ........ max_depth=6, n_estimators=2, score=-6.768, total=   0.5s\n",
      "[CV] max_depth=6, n_estimators=2 .....................................\n",
      "[CV] ........ max_depth=6, n_estimators=2, score=-4.995, total=   0.5s\n",
      "[CV] max_depth=6, n_estimators=2 .....................................\n",
      "[CV] ........ max_depth=6, n_estimators=2, score=-6.726, total=   0.5s\n",
      "[CV] max_depth=6, n_estimators=3 .....................................\n",
      "[CV] ........ max_depth=6, n_estimators=3, score=-8.924, total=   0.8s\n",
      "[CV] max_depth=6, n_estimators=3 .....................................\n",
      "[CV] ........ max_depth=6, n_estimators=3, score=-7.161, total=   0.7s\n",
      "[CV] max_depth=6, n_estimators=3 .....................................\n",
      "[CV] ........ max_depth=6, n_estimators=3, score=-5.877, total=   0.7s\n",
      "[CV] max_depth=6, n_estimators=3 .....................................\n",
      "[CV] ........ max_depth=6, n_estimators=3, score=-4.917, total=   0.8s\n",
      "[CV] max_depth=6, n_estimators=3 .....................................\n",
      "[CV] ........ max_depth=6, n_estimators=3, score=-6.961, total=   0.8s\n",
      "[CV] max_depth=6, n_estimators=4 .....................................\n",
      "[CV] ........ max_depth=6, n_estimators=4, score=-8.929, total=   1.0s\n",
      "[CV] max_depth=6, n_estimators=4 .....................................\n",
      "[CV] ........ max_depth=6, n_estimators=4, score=-6.532, total=   1.2s\n",
      "[CV] max_depth=6, n_estimators=4 .....................................\n",
      "[CV] ........ max_depth=6, n_estimators=4, score=-5.613, total=   1.1s\n",
      "[CV] max_depth=6, n_estimators=4 .....................................\n",
      "[CV] ........ max_depth=6, n_estimators=4, score=-4.990, total=   1.0s\n",
      "[CV] max_depth=6, n_estimators=4 .....................................\n",
      "[CV] ........ max_depth=6, n_estimators=4, score=-7.007, total=   1.0s\n",
      "[CV] max_depth=6, n_estimators=5 .....................................\n",
      "[CV] ........ max_depth=6, n_estimators=5, score=-8.684, total=   1.2s\n",
      "[CV] max_depth=6, n_estimators=5 .....................................\n",
      "[CV] ........ max_depth=6, n_estimators=5, score=-6.336, total=   1.2s\n",
      "[CV] max_depth=6, n_estimators=5 .....................................\n",
      "[CV] ........ max_depth=6, n_estimators=5, score=-5.456, total=   1.2s\n",
      "[CV] max_depth=6, n_estimators=5 .....................................\n",
      "[CV] ........ max_depth=6, n_estimators=5, score=-4.844, total=   1.2s\n",
      "[CV] max_depth=6, n_estimators=5 .....................................\n",
      "[CV] ........ max_depth=6, n_estimators=5, score=-6.833, total=   1.2s\n",
      "[CV] max_depth=6, n_estimators=6 .....................................\n",
      "[CV] ........ max_depth=6, n_estimators=6, score=-8.416, total=   1.4s\n",
      "[CV] max_depth=6, n_estimators=6 .....................................\n",
      "[CV] ........ max_depth=6, n_estimators=6, score=-6.737, total=   1.4s\n",
      "[CV] max_depth=6, n_estimators=6 .....................................\n",
      "[CV] ........ max_depth=6, n_estimators=6, score=-5.199, total=   1.4s\n",
      "[CV] max_depth=6, n_estimators=6 .....................................\n",
      "[CV] ........ max_depth=6, n_estimators=6, score=-4.799, total=   1.4s\n",
      "[CV] max_depth=6, n_estimators=6 .....................................\n",
      "[CV] ........ max_depth=6, n_estimators=6, score=-6.852, total=   1.4s\n",
      "[CV] max_depth=6, n_estimators=7 .....................................\n",
      "[CV] ........ max_depth=6, n_estimators=7, score=-8.606, total=   1.7s\n",
      "[CV] max_depth=6, n_estimators=7 .....................................\n",
      "[CV] ........ max_depth=6, n_estimators=7, score=-6.808, total=   1.7s\n",
      "[CV] max_depth=6, n_estimators=7 .....................................\n",
      "[CV] ........ max_depth=6, n_estimators=7, score=-5.079, total=   1.7s\n",
      "[CV] max_depth=6, n_estimators=7 .....................................\n",
      "[CV] ........ max_depth=6, n_estimators=7, score=-4.780, total=   1.7s\n",
      "[CV] max_depth=6, n_estimators=7 .....................................\n",
      "[CV] ........ max_depth=6, n_estimators=7, score=-6.973, total=   1.7s\n",
      "[CV] max_depth=6, n_estimators=8 .....................................\n",
      "[CV] ........ max_depth=6, n_estimators=8, score=-8.728, total=   1.9s\n",
      "[CV] max_depth=6, n_estimators=8 .....................................\n",
      "[CV] ........ max_depth=6, n_estimators=8, score=-7.078, total=   1.9s\n",
      "[CV] max_depth=6, n_estimators=8 .....................................\n",
      "[CV] ........ max_depth=6, n_estimators=8, score=-4.971, total=   1.9s\n",
      "[CV] max_depth=6, n_estimators=8 .....................................\n",
      "[CV] ........ max_depth=6, n_estimators=8, score=-4.935, total=   2.0s\n",
      "[CV] max_depth=6, n_estimators=8 .....................................\n",
      "[CV] ........ max_depth=6, n_estimators=8, score=-7.068, total=   1.9s\n",
      "[CV] max_depth=6, n_estimators=9 .....................................\n",
      "[CV] ........ max_depth=6, n_estimators=9, score=-8.779, total=   2.2s\n",
      "[CV] max_depth=6, n_estimators=9 .....................................\n",
      "[CV] ........ max_depth=6, n_estimators=9, score=-7.767, total=   2.1s\n",
      "[CV] max_depth=6, n_estimators=9 .....................................\n",
      "[CV] ........ max_depth=6, n_estimators=9, score=-4.906, total=   2.1s\n",
      "[CV] max_depth=6, n_estimators=9 .....................................\n",
      "[CV] ........ max_depth=6, n_estimators=9, score=-4.891, total=   2.1s\n",
      "[CV] max_depth=6, n_estimators=9 .....................................\n",
      "[CV] ........ max_depth=6, n_estimators=9, score=-7.023, total=   2.1s\n",
      "[CV] max_depth=6, n_estimators=10 ....................................\n",
      "[CV] ....... max_depth=6, n_estimators=10, score=-8.796, total=   2.4s\n",
      "[CV] max_depth=6, n_estimators=10 ....................................\n",
      "[CV] ....... max_depth=6, n_estimators=10, score=-7.667, total=   2.5s\n",
      "[CV] max_depth=6, n_estimators=10 ....................................\n",
      "[CV] ....... max_depth=6, n_estimators=10, score=-5.124, total=   2.5s\n",
      "[CV] max_depth=6, n_estimators=10 ....................................\n",
      "[CV] ....... max_depth=6, n_estimators=10, score=-4.970, total=   2.5s\n",
      "[CV] max_depth=6, n_estimators=10 ....................................\n",
      "[CV] ....... max_depth=6, n_estimators=10, score=-7.047, total=   2.4s\n",
      "[CV] max_depth=6, n_estimators=11 ....................................\n",
      "[CV] ....... max_depth=6, n_estimators=11, score=-8.788, total=   2.6s\n",
      "[CV] max_depth=6, n_estimators=11 ....................................\n",
      "[CV] ....... max_depth=6, n_estimators=11, score=-7.522, total=   2.7s\n",
      "[CV] max_depth=6, n_estimators=11 ....................................\n",
      "[CV] ....... max_depth=6, n_estimators=11, score=-5.069, total=   2.6s\n",
      "[CV] max_depth=6, n_estimators=11 ....................................\n",
      "[CV] ....... max_depth=6, n_estimators=11, score=-4.979, total=   2.6s\n",
      "[CV] max_depth=6, n_estimators=11 ....................................\n",
      "[CV] ....... max_depth=6, n_estimators=11, score=-7.011, total=   2.6s\n",
      "[CV] max_depth=6, n_estimators=12 ....................................\n",
      "[CV] ....... max_depth=6, n_estimators=12, score=-8.711, total=   2.9s\n",
      "[CV] max_depth=6, n_estimators=12 ....................................\n",
      "[CV] ....... max_depth=6, n_estimators=12, score=-7.599, total=   2.9s\n",
      "[CV] max_depth=6, n_estimators=12 ....................................\n",
      "[CV] ....... max_depth=6, n_estimators=12, score=-5.117, total=   2.9s\n",
      "[CV] max_depth=6, n_estimators=12 ....................................\n",
      "[CV] ....... max_depth=6, n_estimators=12, score=-4.900, total=   2.9s\n",
      "[CV] max_depth=6, n_estimators=12 ....................................\n",
      "[CV] ....... max_depth=6, n_estimators=12, score=-7.005, total=   3.0s\n",
      "[CV] max_depth=6, n_estimators=13 ....................................\n",
      "[CV] ....... max_depth=6, n_estimators=13, score=-8.692, total=   3.1s\n",
      "[CV] max_depth=6, n_estimators=13 ....................................\n",
      "[CV] ....... max_depth=6, n_estimators=13, score=-7.368, total=   3.2s\n",
      "[CV] max_depth=6, n_estimators=13 ....................................\n",
      "[CV] ....... max_depth=6, n_estimators=13, score=-5.030, total=   3.3s\n",
      "[CV] max_depth=6, n_estimators=13 ....................................\n",
      "[CV] ....... max_depth=6, n_estimators=13, score=-4.906, total=   3.1s\n",
      "[CV] max_depth=6, n_estimators=13 ....................................\n",
      "[CV] ....... max_depth=6, n_estimators=13, score=-7.054, total=   3.1s\n",
      "[CV] max_depth=6, n_estimators=14 ....................................\n",
      "[CV] ....... max_depth=6, n_estimators=14, score=-8.590, total=   3.3s\n",
      "[CV] max_depth=6, n_estimators=14 ....................................\n",
      "[CV] ....... max_depth=6, n_estimators=14, score=-7.458, total=   3.5s\n",
      "[CV] max_depth=6, n_estimators=14 ....................................\n",
      "[CV] ....... max_depth=6, n_estimators=14, score=-4.957, total=   3.4s\n",
      "[CV] max_depth=6, n_estimators=14 ....................................\n",
      "[CV] ....... max_depth=6, n_estimators=14, score=-4.995, total=   3.5s\n",
      "[CV] max_depth=6, n_estimators=14 ....................................\n",
      "[CV] ....... max_depth=6, n_estimators=14, score=-7.068, total=   3.4s\n",
      "[CV] max_depth=6, n_estimators=15 ....................................\n",
      "[CV] ....... max_depth=6, n_estimators=15, score=-8.713, total=   3.7s\n",
      "[CV] max_depth=6, n_estimators=15 ....................................\n",
      "[CV] ....... max_depth=6, n_estimators=15, score=-7.579, total=   3.9s\n",
      "[CV] max_depth=6, n_estimators=15 ....................................\n",
      "[CV] ....... max_depth=6, n_estimators=15, score=-4.913, total=   3.5s\n",
      "[CV] max_depth=6, n_estimators=15 ....................................\n",
      "[CV] ....... max_depth=6, n_estimators=15, score=-4.977, total=   4.1s\n",
      "[CV] max_depth=6, n_estimators=15 ....................................\n",
      "[CV] ....... max_depth=6, n_estimators=15, score=-7.102, total=   4.5s\n",
      "[CV] max_depth=6, n_estimators=16 ....................................\n",
      "[CV] ....... max_depth=6, n_estimators=16, score=-8.724, total=   4.2s\n",
      "[CV] max_depth=6, n_estimators=16 ....................................\n",
      "[CV] ....... max_depth=6, n_estimators=16, score=-7.915, total=   3.8s\n",
      "[CV] max_depth=6, n_estimators=16 ....................................\n",
      "[CV] ....... max_depth=6, n_estimators=16, score=-4.975, total=   4.6s\n",
      "[CV] max_depth=6, n_estimators=16 ....................................\n",
      "[CV] ....... max_depth=6, n_estimators=16, score=-4.982, total=   5.2s\n",
      "[CV] max_depth=6, n_estimators=16 ....................................\n",
      "[CV] ....... max_depth=6, n_estimators=16, score=-7.124, total=   5.3s\n",
      "[CV] max_depth=6, n_estimators=17 ....................................\n",
      "[CV] ....... max_depth=6, n_estimators=17, score=-8.766, total=   5.0s\n",
      "[CV] max_depth=6, n_estimators=17 ....................................\n",
      "[CV] ....... max_depth=6, n_estimators=17, score=-8.010, total=   5.0s\n",
      "[CV] max_depth=6, n_estimators=17 ....................................\n",
      "[CV] ....... max_depth=6, n_estimators=17, score=-4.980, total=   4.0s\n",
      "[CV] max_depth=6, n_estimators=17 ....................................\n",
      "[CV] ....... max_depth=6, n_estimators=17, score=-5.028, total=   4.0s\n",
      "[CV] max_depth=6, n_estimators=17 ....................................\n",
      "[CV] ....... max_depth=6, n_estimators=17, score=-7.117, total=   4.2s\n",
      "[CV] max_depth=6, n_estimators=18 ....................................\n",
      "[CV] ....... max_depth=6, n_estimators=18, score=-8.770, total=   4.5s\n",
      "[CV] max_depth=6, n_estimators=18 ....................................\n",
      "[CV] ....... max_depth=6, n_estimators=18, score=-8.051, total=   4.4s\n",
      "[CV] max_depth=6, n_estimators=18 ....................................\n",
      "[CV] ....... max_depth=6, n_estimators=18, score=-5.020, total=   4.2s\n",
      "[CV] max_depth=6, n_estimators=18 ....................................\n",
      "[CV] ....... max_depth=6, n_estimators=18, score=-5.048, total=   4.6s\n",
      "[CV] max_depth=6, n_estimators=18 ....................................\n",
      "[CV] ....... max_depth=6, n_estimators=18, score=-7.143, total=   4.4s\n",
      "[CV] max_depth=6, n_estimators=19 ....................................\n",
      "[CV] ....... max_depth=6, n_estimators=19, score=-8.801, total=   4.6s\n",
      "[CV] max_depth=6, n_estimators=19 ....................................\n",
      "[CV] ....... max_depth=6, n_estimators=19, score=-8.098, total=   4.7s\n",
      "[CV] max_depth=6, n_estimators=19 ....................................\n",
      "[CV] ....... max_depth=6, n_estimators=19, score=-5.058, total=   4.6s\n",
      "[CV] max_depth=6, n_estimators=19 ....................................\n",
      "[CV] ....... max_depth=6, n_estimators=19, score=-4.999, total=   4.5s\n",
      "[CV] max_depth=6, n_estimators=19 ....................................\n",
      "[CV] ....... max_depth=6, n_estimators=19, score=-7.266, total=   4.6s\n",
      "[CV] max_depth=7, n_estimators=1 .....................................\n",
      "[CV] ....... max_depth=7, n_estimators=1, score=-10.176, total=   0.3s\n",
      "[CV] max_depth=7, n_estimators=1 .....................................\n",
      "[CV] ....... max_depth=7, n_estimators=1, score=-16.108, total=   0.3s\n",
      "[CV] max_depth=7, n_estimators=1 .....................................\n",
      "[CV] ........ max_depth=7, n_estimators=1, score=-8.161, total=   0.3s\n",
      "[CV] max_depth=7, n_estimators=1 .....................................\n",
      "[CV] ........ max_depth=7, n_estimators=1, score=-5.821, total=   0.3s\n",
      "[CV] max_depth=7, n_estimators=1 .....................................\n",
      "[CV] ........ max_depth=7, n_estimators=1, score=-6.833, total=   0.3s\n",
      "[CV] max_depth=7, n_estimators=2 .....................................\n",
      "[CV] ........ max_depth=7, n_estimators=2, score=-8.186, total=   0.6s\n",
      "[CV] max_depth=7, n_estimators=2 .....................................\n",
      "[CV] ........ max_depth=7, n_estimators=2, score=-9.010, total=   0.6s\n",
      "[CV] max_depth=7, n_estimators=2 .....................................\n",
      "[CV] ........ max_depth=7, n_estimators=2, score=-6.906, total=   0.6s\n",
      "[CV] max_depth=7, n_estimators=2 .....................................\n",
      "[CV] ........ max_depth=7, n_estimators=2, score=-5.711, total=   0.6s\n",
      "[CV] max_depth=7, n_estimators=2 .....................................\n",
      "[CV] ........ max_depth=7, n_estimators=2, score=-6.769, total=   0.6s\n",
      "[CV] max_depth=7, n_estimators=3 .....................................\n",
      "[CV] ........ max_depth=7, n_estimators=3, score=-8.823, total=   0.9s\n",
      "[CV] max_depth=7, n_estimators=3 .....................................\n",
      "[CV] ........ max_depth=7, n_estimators=3, score=-8.105, total=   0.8s\n",
      "[CV] max_depth=7, n_estimators=3 .....................................\n",
      "[CV] ........ max_depth=7, n_estimators=3, score=-6.806, total=   0.9s\n",
      "[CV] max_depth=7, n_estimators=3 .....................................\n",
      "[CV] ........ max_depth=7, n_estimators=3, score=-5.587, total=   0.8s\n",
      "[CV] max_depth=7, n_estimators=3 .....................................\n",
      "[CV] ........ max_depth=7, n_estimators=3, score=-6.943, total=   0.8s\n",
      "[CV] max_depth=7, n_estimators=4 .....................................\n",
      "[CV] ........ max_depth=7, n_estimators=4, score=-8.804, total=   1.1s\n",
      "[CV] max_depth=7, n_estimators=4 .....................................\n",
      "[CV] ........ max_depth=7, n_estimators=4, score=-6.807, total=   1.1s\n",
      "[CV] max_depth=7, n_estimators=4 .....................................\n",
      "[CV] ........ max_depth=7, n_estimators=4, score=-6.015, total=   1.3s\n",
      "[CV] max_depth=7, n_estimators=4 .....................................\n",
      "[CV] ........ max_depth=7, n_estimators=4, score=-5.492, total=   1.1s\n",
      "[CV] max_depth=7, n_estimators=4 .....................................\n",
      "[CV] ........ max_depth=7, n_estimators=4, score=-6.974, total=   1.1s\n",
      "[CV] max_depth=7, n_estimators=5 .....................................\n",
      "[CV] ........ max_depth=7, n_estimators=5, score=-8.536, total=   1.4s\n",
      "[CV] max_depth=7, n_estimators=5 .....................................\n",
      "[CV] ........ max_depth=7, n_estimators=5, score=-6.279, total=   1.4s\n",
      "[CV] max_depth=7, n_estimators=5 .....................................\n",
      "[CV] ........ max_depth=7, n_estimators=5, score=-6.068, total=   1.4s\n",
      "[CV] max_depth=7, n_estimators=5 .....................................\n",
      "[CV] ........ max_depth=7, n_estimators=5, score=-5.202, total=   1.4s\n",
      "[CV] max_depth=7, n_estimators=5 .....................................\n",
      "[CV] ........ max_depth=7, n_estimators=5, score=-7.003, total=   1.4s\n",
      "[CV] max_depth=7, n_estimators=6 .....................................\n",
      "[CV] ........ max_depth=7, n_estimators=6, score=-8.293, total=   1.6s\n",
      "[CV] max_depth=7, n_estimators=6 .....................................\n",
      "[CV] ........ max_depth=7, n_estimators=6, score=-6.609, total=   1.7s\n",
      "[CV] max_depth=7, n_estimators=6 .....................................\n",
      "[CV] ........ max_depth=7, n_estimators=6, score=-5.695, total=   1.6s\n",
      "[CV] max_depth=7, n_estimators=6 .....................................\n",
      "[CV] ........ max_depth=7, n_estimators=6, score=-5.116, total=   1.8s\n",
      "[CV] max_depth=7, n_estimators=6 .....................................\n",
      "[CV] ........ max_depth=7, n_estimators=6, score=-7.069, total=   1.8s\n",
      "[CV] max_depth=7, n_estimators=7 .....................................\n",
      "[CV] ........ max_depth=7, n_estimators=7, score=-8.541, total=   2.0s\n",
      "[CV] max_depth=7, n_estimators=7 .....................................\n",
      "[CV] ........ max_depth=7, n_estimators=7, score=-6.933, total=   1.9s\n",
      "[CV] max_depth=7, n_estimators=7 .....................................\n",
      "[CV] ........ max_depth=7, n_estimators=7, score=-5.406, total=   2.0s\n",
      "[CV] max_depth=7, n_estimators=7 .....................................\n",
      "[CV] ........ max_depth=7, n_estimators=7, score=-5.071, total=   1.9s\n",
      "[CV] max_depth=7, n_estimators=7 .....................................\n",
      "[CV] ........ max_depth=7, n_estimators=7, score=-7.098, total=   1.9s\n",
      "[CV] max_depth=7, n_estimators=8 .....................................\n",
      "[CV] ........ max_depth=7, n_estimators=8, score=-8.771, total=   2.2s\n",
      "[CV] max_depth=7, n_estimators=8 .....................................\n",
      "[CV] ........ max_depth=7, n_estimators=8, score=-7.185, total=   2.3s\n",
      "[CV] max_depth=7, n_estimators=8 .....................................\n",
      "[CV] ........ max_depth=7, n_estimators=8, score=-5.200, total=   2.1s\n",
      "[CV] max_depth=7, n_estimators=8 .....................................\n",
      "[CV] ........ max_depth=7, n_estimators=8, score=-5.146, total=   2.3s\n",
      "[CV] max_depth=7, n_estimators=8 .....................................\n",
      "[CV] ........ max_depth=7, n_estimators=8, score=-7.088, total=   2.2s\n",
      "[CV] max_depth=7, n_estimators=9 .....................................\n",
      "[CV] ........ max_depth=7, n_estimators=9, score=-8.886, total=   2.5s\n",
      "[CV] max_depth=7, n_estimators=9 .....................................\n",
      "[CV] ........ max_depth=7, n_estimators=9, score=-7.994, total=   2.4s\n",
      "[CV] max_depth=7, n_estimators=9 .....................................\n",
      "[CV] ........ max_depth=7, n_estimators=9, score=-5.356, total=   2.4s\n",
      "[CV] max_depth=7, n_estimators=9 .....................................\n",
      "[CV] ........ max_depth=7, n_estimators=9, score=-5.178, total=   2.5s\n",
      "[CV] max_depth=7, n_estimators=9 .....................................\n",
      "[CV] ........ max_depth=7, n_estimators=9, score=-7.018, total=   2.6s\n",
      "[CV] max_depth=7, n_estimators=10 ....................................\n",
      "[CV] ....... max_depth=7, n_estimators=10, score=-8.853, total=   2.7s\n",
      "[CV] max_depth=7, n_estimators=10 ....................................\n",
      "[CV] ....... max_depth=7, n_estimators=10, score=-7.852, total=   2.7s\n",
      "[CV] max_depth=7, n_estimators=10 ....................................\n",
      "[CV] ....... max_depth=7, n_estimators=10, score=-5.543, total=   2.7s\n",
      "[CV] max_depth=7, n_estimators=10 ....................................\n",
      "[CV] ....... max_depth=7, n_estimators=10, score=-5.266, total=   2.7s\n",
      "[CV] max_depth=7, n_estimators=10 ....................................\n",
      "[CV] ....... max_depth=7, n_estimators=10, score=-7.065, total=   2.7s\n",
      "[CV] max_depth=7, n_estimators=11 ....................................\n",
      "[CV] ....... max_depth=7, n_estimators=11, score=-8.802, total=   3.0s\n",
      "[CV] max_depth=7, n_estimators=11 ....................................\n",
      "[CV] ....... max_depth=7, n_estimators=11, score=-7.750, total=   3.0s\n",
      "[CV] max_depth=7, n_estimators=11 ....................................\n",
      "[CV] ....... max_depth=7, n_estimators=11, score=-5.481, total=   3.0s\n",
      "[CV] max_depth=7, n_estimators=11 ....................................\n",
      "[CV] ....... max_depth=7, n_estimators=11, score=-5.219, total=   3.1s\n",
      "[CV] max_depth=7, n_estimators=11 ....................................\n",
      "[CV] ....... max_depth=7, n_estimators=11, score=-7.078, total=   2.9s\n",
      "[CV] max_depth=7, n_estimators=12 ....................................\n",
      "[CV] ....... max_depth=7, n_estimators=12, score=-8.710, total=   3.5s\n",
      "[CV] max_depth=7, n_estimators=12 ....................................\n",
      "[CV] ....... max_depth=7, n_estimators=12, score=-7.954, total=   3.4s\n",
      "[CV] max_depth=7, n_estimators=12 ....................................\n",
      "[CV] ....... max_depth=7, n_estimators=12, score=-5.515, total=   3.3s\n",
      "[CV] max_depth=7, n_estimators=12 ....................................\n",
      "[CV] ....... max_depth=7, n_estimators=12, score=-5.168, total=   3.3s\n",
      "[CV] max_depth=7, n_estimators=12 ....................................\n",
      "[CV] ....... max_depth=7, n_estimators=12, score=-7.069, total=   3.2s\n",
      "[CV] max_depth=7, n_estimators=13 ....................................\n",
      "[CV] ....... max_depth=7, n_estimators=13, score=-8.690, total=   3.5s\n",
      "[CV] max_depth=7, n_estimators=13 ....................................\n",
      "[CV] ....... max_depth=7, n_estimators=13, score=-7.711, total=   3.6s\n",
      "[CV] max_depth=7, n_estimators=13 ....................................\n",
      "[CV] ....... max_depth=7, n_estimators=13, score=-5.407, total=   3.6s\n",
      "[CV] max_depth=7, n_estimators=13 ....................................\n",
      "[CV] ....... max_depth=7, n_estimators=13, score=-5.116, total=   3.5s\n",
      "[CV] max_depth=7, n_estimators=13 ....................................\n",
      "[CV] ....... max_depth=7, n_estimators=13, score=-7.119, total=   3.5s\n",
      "[CV] max_depth=7, n_estimators=14 ....................................\n",
      "[CV] ....... max_depth=7, n_estimators=14, score=-8.576, total=   3.8s\n",
      "[CV] max_depth=7, n_estimators=14 ....................................\n",
      "[CV] ....... max_depth=7, n_estimators=14, score=-7.709, total=   4.3s\n",
      "[CV] max_depth=7, n_estimators=14 ....................................\n",
      "[CV] ....... max_depth=7, n_estimators=14, score=-5.268, total=   3.9s\n",
      "[CV] max_depth=7, n_estimators=14 ....................................\n",
      "[CV] ....... max_depth=7, n_estimators=14, score=-5.163, total=   3.9s\n",
      "[CV] max_depth=7, n_estimators=14 ....................................\n",
      "[CV] ....... max_depth=7, n_estimators=14, score=-7.149, total=   3.9s\n",
      "[CV] max_depth=7, n_estimators=15 ....................................\n",
      "[CV] ....... max_depth=7, n_estimators=15, score=-8.695, total=   4.2s\n",
      "[CV] max_depth=7, n_estimators=15 ....................................\n",
      "[CV] ....... max_depth=7, n_estimators=15, score=-7.795, total=   4.3s\n",
      "[CV] max_depth=7, n_estimators=15 ....................................\n",
      "[CV] ....... max_depth=7, n_estimators=15, score=-5.215, total=   4.3s\n",
      "[CV] max_depth=7, n_estimators=15 ....................................\n",
      "[CV] ....... max_depth=7, n_estimators=15, score=-5.138, total=   4.1s\n",
      "[CV] max_depth=7, n_estimators=15 ....................................\n",
      "[CV] ....... max_depth=7, n_estimators=15, score=-7.175, total=   4.2s\n",
      "[CV] max_depth=7, n_estimators=16 ....................................\n",
      "[CV] ....... max_depth=7, n_estimators=16, score=-8.662, total=   4.4s\n",
      "[CV] max_depth=7, n_estimators=16 ....................................\n",
      "[CV] ....... max_depth=7, n_estimators=16, score=-7.729, total=   4.4s\n",
      "[CV] max_depth=7, n_estimators=16 ....................................\n",
      "[CV] ....... max_depth=7, n_estimators=16, score=-5.258, total=   4.5s\n",
      "[CV] max_depth=7, n_estimators=16 ....................................\n",
      "[CV] ....... max_depth=7, n_estimators=16, score=-5.149, total=   4.4s\n",
      "[CV] max_depth=7, n_estimators=16 ....................................\n",
      "[CV] ....... max_depth=7, n_estimators=16, score=-7.166, total=   4.3s\n",
      "[CV] max_depth=7, n_estimators=17 ....................................\n",
      "[CV] ....... max_depth=7, n_estimators=17, score=-8.790, total=   4.7s\n",
      "[CV] max_depth=7, n_estimators=17 ....................................\n",
      "[CV] ....... max_depth=7, n_estimators=17, score=-7.953, total=   4.6s\n",
      "[CV] max_depth=7, n_estimators=17 ....................................\n",
      "[CV] ....... max_depth=7, n_estimators=17, score=-5.224, total=   4.7s\n",
      "[CV] max_depth=7, n_estimators=17 ....................................\n",
      "[CV] ....... max_depth=7, n_estimators=17, score=-5.173, total=   4.6s\n",
      "[CV] max_depth=7, n_estimators=17 ....................................\n",
      "[CV] ....... max_depth=7, n_estimators=17, score=-7.200, total=   4.6s\n",
      "[CV] max_depth=7, n_estimators=18 ....................................\n",
      "[CV] ....... max_depth=7, n_estimators=18, score=-8.800, total=   5.3s\n",
      "[CV] max_depth=7, n_estimators=18 ....................................\n",
      "[CV] ....... max_depth=7, n_estimators=18, score=-8.000, total=   4.9s\n",
      "[CV] max_depth=7, n_estimators=18 ....................................\n",
      "[CV] ....... max_depth=7, n_estimators=18, score=-5.216, total=   5.0s\n",
      "[CV] max_depth=7, n_estimators=18 ....................................\n",
      "[CV] ....... max_depth=7, n_estimators=18, score=-5.206, total=   4.8s\n",
      "[CV] max_depth=7, n_estimators=18 ....................................\n",
      "[CV] ....... max_depth=7, n_estimators=18, score=-7.208, total=   4.9s\n",
      "[CV] max_depth=7, n_estimators=19 ....................................\n",
      "[CV] ....... max_depth=7, n_estimators=19, score=-8.817, total=   5.4s\n",
      "[CV] max_depth=7, n_estimators=19 ....................................\n",
      "[CV] ....... max_depth=7, n_estimators=19, score=-7.998, total=   5.1s\n",
      "[CV] max_depth=7, n_estimators=19 ....................................\n",
      "[CV] ....... max_depth=7, n_estimators=19, score=-5.207, total=   5.1s\n",
      "[CV] max_depth=7, n_estimators=19 ....................................\n",
      "[CV] ....... max_depth=7, n_estimators=19, score=-5.196, total=   5.3s\n",
      "[CV] max_depth=7, n_estimators=19 ....................................\n",
      "[CV] ....... max_depth=7, n_estimators=19, score=-7.364, total=   5.2s\n",
      "[CV] max_depth=8, n_estimators=1 .....................................\n",
      "[CV] ....... max_depth=8, n_estimators=1, score=-10.345, total=   0.3s\n",
      "[CV] max_depth=8, n_estimators=1 .....................................\n",
      "[CV] ....... max_depth=8, n_estimators=1, score=-15.335, total=   0.3s\n",
      "[CV] max_depth=8, n_estimators=1 .....................................\n",
      "[CV] ........ max_depth=8, n_estimators=1, score=-6.165, total=   0.3s\n",
      "[CV] max_depth=8, n_estimators=1 .....................................\n",
      "[CV] ........ max_depth=8, n_estimators=1, score=-5.750, total=   0.4s\n",
      "[CV] max_depth=8, n_estimators=1 .....................................\n",
      "[CV] ........ max_depth=8, n_estimators=1, score=-6.648, total=   0.3s\n",
      "[CV] max_depth=8, n_estimators=2 .....................................\n",
      "[CV] ........ max_depth=8, n_estimators=2, score=-8.715, total=   0.7s\n",
      "[CV] max_depth=8, n_estimators=2 .....................................\n",
      "[CV] ........ max_depth=8, n_estimators=2, score=-8.945, total=   0.7s\n",
      "[CV] max_depth=8, n_estimators=2 .....................................\n",
      "[CV] ........ max_depth=8, n_estimators=2, score=-6.083, total=   0.6s\n",
      "[CV] max_depth=8, n_estimators=2 .....................................\n",
      "[CV] ........ max_depth=8, n_estimators=2, score=-5.693, total=   0.8s\n",
      "[CV] max_depth=8, n_estimators=2 .....................................\n",
      "[CV] ........ max_depth=8, n_estimators=2, score=-6.743, total=   0.7s\n",
      "[CV] max_depth=8, n_estimators=3 .....................................\n",
      "[CV] ........ max_depth=8, n_estimators=3, score=-9.342, total=   0.9s\n",
      "[CV] max_depth=8, n_estimators=3 .....................................\n",
      "[CV] ........ max_depth=8, n_estimators=3, score=-8.463, total=   0.9s\n",
      "[CV] max_depth=8, n_estimators=3 .....................................\n",
      "[CV] ........ max_depth=8, n_estimators=3, score=-6.016, total=   0.9s\n",
      "[CV] max_depth=8, n_estimators=3 .....................................\n",
      "[CV] ........ max_depth=8, n_estimators=3, score=-5.459, total=   0.9s\n",
      "[CV] max_depth=8, n_estimators=3 .....................................\n",
      "[CV] ........ max_depth=8, n_estimators=3, score=-6.689, total=   0.9s\n",
      "[CV] max_depth=8, n_estimators=4 .....................................\n",
      "[CV] ........ max_depth=8, n_estimators=4, score=-9.251, total=   1.2s\n",
      "[CV] max_depth=8, n_estimators=4 .....................................\n",
      "[CV] ........ max_depth=8, n_estimators=4, score=-7.131, total=   1.2s\n",
      "[CV] max_depth=8, n_estimators=4 .....................................\n",
      "[CV] ........ max_depth=8, n_estimators=4, score=-5.319, total=   1.2s\n",
      "[CV] max_depth=8, n_estimators=4 .....................................\n",
      "[CV] ........ max_depth=8, n_estimators=4, score=-5.489, total=   1.2s\n",
      "[CV] max_depth=8, n_estimators=4 .....................................\n",
      "[CV] ........ max_depth=8, n_estimators=4, score=-6.966, total=   1.2s\n",
      "[CV] max_depth=8, n_estimators=5 .....................................\n",
      "[CV] ........ max_depth=8, n_estimators=5, score=-8.947, total=   1.5s\n",
      "[CV] max_depth=8, n_estimators=5 .....................................\n",
      "[CV] ........ max_depth=8, n_estimators=5, score=-6.733, total=   1.5s\n",
      "[CV] max_depth=8, n_estimators=5 .....................................\n",
      "[CV] ........ max_depth=8, n_estimators=5, score=-5.327, total=   1.5s\n",
      "[CV] max_depth=8, n_estimators=5 .....................................\n",
      "[CV] ........ max_depth=8, n_estimators=5, score=-5.142, total=   1.5s\n",
      "[CV] max_depth=8, n_estimators=5 .....................................\n",
      "[CV] ........ max_depth=8, n_estimators=5, score=-6.984, total=   1.5s\n",
      "[CV] max_depth=8, n_estimators=6 .....................................\n",
      "[CV] ........ max_depth=8, n_estimators=6, score=-8.516, total=   1.8s\n",
      "[CV] max_depth=8, n_estimators=6 .....................................\n",
      "[CV] ........ max_depth=8, n_estimators=6, score=-7.047, total=   1.8s\n",
      "[CV] max_depth=8, n_estimators=6 .....................................\n",
      "[CV] ........ max_depth=8, n_estimators=6, score=-5.024, total=   1.8s\n",
      "[CV] max_depth=8, n_estimators=6 .....................................\n",
      "[CV] ........ max_depth=8, n_estimators=6, score=-5.037, total=   1.8s\n",
      "[CV] max_depth=8, n_estimators=6 .....................................\n",
      "[CV] ........ max_depth=8, n_estimators=6, score=-6.991, total=   1.8s\n",
      "[CV] max_depth=8, n_estimators=7 .....................................\n",
      "[CV] ........ max_depth=8, n_estimators=7, score=-8.812, total=   2.1s\n",
      "[CV] max_depth=8, n_estimators=7 .....................................\n",
      "[CV] ........ max_depth=8, n_estimators=7, score=-7.266, total=   2.1s\n",
      "[CV] max_depth=8, n_estimators=7 .....................................\n",
      "[CV] ........ max_depth=8, n_estimators=7, score=-4.913, total=   2.1s\n",
      "[CV] max_depth=8, n_estimators=7 .....................................\n",
      "[CV] ........ max_depth=8, n_estimators=7, score=-5.094, total=   2.1s\n",
      "[CV] max_depth=8, n_estimators=7 .....................................\n",
      "[CV] ........ max_depth=8, n_estimators=7, score=-7.023, total=   2.1s\n",
      "[CV] max_depth=8, n_estimators=8 .....................................\n",
      "[CV] ........ max_depth=8, n_estimators=8, score=-8.891, total=   2.4s\n",
      "[CV] max_depth=8, n_estimators=8 .....................................\n",
      "[CV] ........ max_depth=8, n_estimators=8, score=-7.512, total=   2.4s\n",
      "[CV] max_depth=8, n_estimators=8 .....................................\n",
      "[CV] ........ max_depth=8, n_estimators=8, score=-4.828, total=   2.4s\n",
      "[CV] max_depth=8, n_estimators=8 .....................................\n",
      "[CV] ........ max_depth=8, n_estimators=8, score=-5.201, total=   2.4s\n",
      "[CV] max_depth=8, n_estimators=8 .....................................\n",
      "[CV] ........ max_depth=8, n_estimators=8, score=-6.960, total=   2.4s\n",
      "[CV] max_depth=8, n_estimators=9 .....................................\n",
      "[CV] ........ max_depth=8, n_estimators=9, score=-8.981, total=   2.7s\n",
      "[CV] max_depth=8, n_estimators=9 .....................................\n",
      "[CV] ........ max_depth=8, n_estimators=9, score=-7.312, total=   2.7s\n",
      "[CV] max_depth=8, n_estimators=9 .....................................\n",
      "[CV] ........ max_depth=8, n_estimators=9, score=-5.230, total=   2.7s\n",
      "[CV] max_depth=8, n_estimators=9 .....................................\n",
      "[CV] ........ max_depth=8, n_estimators=9, score=-5.162, total=   2.7s\n",
      "[CV] max_depth=8, n_estimators=9 .....................................\n",
      "[CV] ........ max_depth=8, n_estimators=9, score=-6.892, total=   2.7s\n",
      "[CV] max_depth=8, n_estimators=10 ....................................\n",
      "[CV] ....... max_depth=8, n_estimators=10, score=-8.920, total=   3.1s\n",
      "[CV] max_depth=8, n_estimators=10 ....................................\n",
      "[CV] ....... max_depth=8, n_estimators=10, score=-7.223, total=   3.0s\n",
      "[CV] max_depth=8, n_estimators=10 ....................................\n",
      "[CV] ....... max_depth=8, n_estimators=10, score=-5.377, total=   3.0s\n",
      "[CV] max_depth=8, n_estimators=10 ....................................\n",
      "[CV] ....... max_depth=8, n_estimators=10, score=-5.228, total=   3.0s\n",
      "[CV] max_depth=8, n_estimators=10 ....................................\n",
      "[CV] ....... max_depth=8, n_estimators=10, score=-6.963, total=   3.0s\n",
      "[CV] max_depth=8, n_estimators=11 ....................................\n",
      "[CV] ....... max_depth=8, n_estimators=11, score=-8.783, total=   3.3s\n",
      "[CV] max_depth=8, n_estimators=11 ....................................\n",
      "[CV] ....... max_depth=8, n_estimators=11, score=-7.120, total=   3.3s\n",
      "[CV] max_depth=8, n_estimators=11 ....................................\n",
      "[CV] ....... max_depth=8, n_estimators=11, score=-5.277, total=   3.3s\n",
      "[CV] max_depth=8, n_estimators=11 ....................................\n",
      "[CV] ....... max_depth=8, n_estimators=11, score=-5.261, total=   3.3s\n",
      "[CV] max_depth=8, n_estimators=11 ....................................\n",
      "[CV] ....... max_depth=8, n_estimators=11, score=-6.967, total=   3.3s\n",
      "[CV] max_depth=8, n_estimators=12 ....................................\n",
      "[CV] ....... max_depth=8, n_estimators=12, score=-8.708, total=   3.6s\n",
      "[CV] max_depth=8, n_estimators=12 ....................................\n",
      "[CV] ....... max_depth=8, n_estimators=12, score=-7.321, total=   3.7s\n",
      "[CV] max_depth=8, n_estimators=12 ....................................\n",
      "[CV] ....... max_depth=8, n_estimators=12, score=-5.367, total=   3.7s\n",
      "[CV] max_depth=8, n_estimators=12 ....................................\n",
      "[CV] ....... max_depth=8, n_estimators=12, score=-5.160, total=   3.6s\n",
      "[CV] max_depth=8, n_estimators=12 ....................................\n",
      "[CV] ....... max_depth=8, n_estimators=12, score=-6.987, total=   3.6s\n",
      "[CV] max_depth=8, n_estimators=13 ....................................\n",
      "[CV] ....... max_depth=8, n_estimators=13, score=-8.651, total=   3.9s\n",
      "[CV] max_depth=8, n_estimators=13 ....................................\n",
      "[CV] ....... max_depth=8, n_estimators=13, score=-8.007, total=   4.0s\n",
      "[CV] max_depth=8, n_estimators=13 ....................................\n",
      "[CV] ....... max_depth=8, n_estimators=13, score=-5.410, total=   4.0s\n",
      "[CV] max_depth=8, n_estimators=13 ....................................\n",
      "[CV] ....... max_depth=8, n_estimators=13, score=-5.152, total=   4.0s\n",
      "[CV] max_depth=8, n_estimators=13 ....................................\n",
      "[CV] ....... max_depth=8, n_estimators=13, score=-7.104, total=   3.9s\n",
      "[CV] max_depth=8, n_estimators=14 ....................................\n",
      "[CV] ....... max_depth=8, n_estimators=14, score=-8.507, total=   4.2s\n",
      "[CV] max_depth=8, n_estimators=14 ....................................\n",
      "[CV] ....... max_depth=8, n_estimators=14, score=-8.170, total=   4.3s\n",
      "[CV] max_depth=8, n_estimators=14 ....................................\n",
      "[CV] ....... max_depth=8, n_estimators=14, score=-5.251, total=   4.3s\n",
      "[CV] max_depth=8, n_estimators=14 ....................................\n",
      "[CV] ....... max_depth=8, n_estimators=14, score=-5.161, total=   4.2s\n",
      "[CV] max_depth=8, n_estimators=14 ....................................\n",
      "[CV] ....... max_depth=8, n_estimators=14, score=-7.112, total=   4.3s\n",
      "[CV] max_depth=8, n_estimators=15 ....................................\n",
      "[CV] ....... max_depth=8, n_estimators=15, score=-8.612, total=   4.6s\n",
      "[CV] max_depth=8, n_estimators=15 ....................................\n",
      "[CV] ....... max_depth=8, n_estimators=15, score=-8.239, total=   4.5s\n",
      "[CV] max_depth=8, n_estimators=15 ....................................\n",
      "[CV] ....... max_depth=8, n_estimators=15, score=-5.196, total=   4.5s\n",
      "[CV] max_depth=8, n_estimators=15 ....................................\n",
      "[CV] ....... max_depth=8, n_estimators=15, score=-5.116, total=   4.4s\n",
      "[CV] max_depth=8, n_estimators=15 ....................................\n",
      "[CV] ....... max_depth=8, n_estimators=15, score=-7.275, total=   4.5s\n",
      "[CV] max_depth=8, n_estimators=16 ....................................\n",
      "[CV] ....... max_depth=8, n_estimators=16, score=-8.621, total=   4.9s\n",
      "[CV] max_depth=8, n_estimators=16 ....................................\n",
      "[CV] ....... max_depth=8, n_estimators=16, score=-8.220, total=   4.8s\n",
      "[CV] max_depth=8, n_estimators=16 ....................................\n",
      "[CV] ....... max_depth=8, n_estimators=16, score=-5.306, total=   4.8s\n",
      "[CV] max_depth=8, n_estimators=16 ....................................\n",
      "[CV] ....... max_depth=8, n_estimators=16, score=-5.159, total=   4.8s\n",
      "[CV] max_depth=8, n_estimators=16 ....................................\n",
      "[CV] ....... max_depth=8, n_estimators=16, score=-7.257, total=   4.8s\n",
      "[CV] max_depth=8, n_estimators=17 ....................................\n",
      "[CV] ....... max_depth=8, n_estimators=17, score=-8.713, total=   5.1s\n",
      "[CV] max_depth=8, n_estimators=17 ....................................\n",
      "[CV] ....... max_depth=8, n_estimators=17, score=-8.445, total=   5.1s\n",
      "[CV] max_depth=8, n_estimators=17 ....................................\n",
      "[CV] ....... max_depth=8, n_estimators=17, score=-5.266, total=   5.1s\n",
      "[CV] max_depth=8, n_estimators=17 ....................................\n",
      "[CV] ....... max_depth=8, n_estimators=17, score=-5.244, total=   5.1s\n",
      "[CV] max_depth=8, n_estimators=17 ....................................\n",
      "[CV] ....... max_depth=8, n_estimators=17, score=-7.310, total=   5.5s\n",
      "[CV] max_depth=8, n_estimators=18 ....................................\n",
      "[CV] ....... max_depth=8, n_estimators=18, score=-8.764, total=   5.5s\n",
      "[CV] max_depth=8, n_estimators=18 ....................................\n",
      "[CV] ....... max_depth=8, n_estimators=18, score=-8.465, total=   5.4s\n",
      "[CV] max_depth=8, n_estimators=18 ....................................\n",
      "[CV] ....... max_depth=8, n_estimators=18, score=-5.210, total=   5.4s\n",
      "[CV] max_depth=8, n_estimators=18 ....................................\n",
      "[CV] ....... max_depth=8, n_estimators=18, score=-5.259, total=   5.4s\n",
      "[CV] max_depth=8, n_estimators=18 ....................................\n",
      "[CV] ....... max_depth=8, n_estimators=18, score=-7.289, total=   5.4s\n",
      "[CV] max_depth=8, n_estimators=19 ....................................\n",
      "[CV] ....... max_depth=8, n_estimators=19, score=-8.803, total=   5.7s\n",
      "[CV] max_depth=8, n_estimators=19 ....................................\n",
      "[CV] ....... max_depth=8, n_estimators=19, score=-8.393, total=   5.7s\n",
      "[CV] max_depth=8, n_estimators=19 ....................................\n",
      "[CV] ....... max_depth=8, n_estimators=19, score=-5.248, total=   5.7s\n",
      "[CV] max_depth=8, n_estimators=19 ....................................\n",
      "[CV] ....... max_depth=8, n_estimators=19, score=-5.237, total=   5.7s\n",
      "[CV] max_depth=8, n_estimators=19 ....................................\n",
      "[CV] ....... max_depth=8, n_estimators=19, score=-7.449, total=   5.7s\n",
      "[CV] max_depth=9, n_estimators=1 .....................................\n",
      "[CV] ....... max_depth=9, n_estimators=1, score=-11.417, total=   0.3s\n",
      "[CV] max_depth=9, n_estimators=1 .....................................\n",
      "[CV] ....... max_depth=9, n_estimators=1, score=-17.611, total=   0.3s\n",
      "[CV] max_depth=9, n_estimators=1 .....................................\n",
      "[CV] ........ max_depth=9, n_estimators=1, score=-7.433, total=   0.3s\n",
      "[CV] max_depth=9, n_estimators=1 .....................................\n",
      "[CV] ........ max_depth=9, n_estimators=1, score=-6.451, total=   0.3s\n",
      "[CV] max_depth=9, n_estimators=1 .....................................\n",
      "[CV] ........ max_depth=9, n_estimators=1, score=-6.728, total=   0.4s\n",
      "[CV] max_depth=9, n_estimators=2 .....................................\n",
      "[CV] ........ max_depth=9, n_estimators=2, score=-9.046, total=   0.7s\n",
      "[CV] max_depth=9, n_estimators=2 .....................................\n",
      "[CV] ....... max_depth=9, n_estimators=2, score=-10.009, total=   0.7s\n",
      "[CV] max_depth=9, n_estimators=2 .....................................\n",
      "[CV] ........ max_depth=9, n_estimators=2, score=-6.470, total=   0.7s\n",
      "[CV] max_depth=9, n_estimators=2 .....................................\n",
      "[CV] ........ max_depth=9, n_estimators=2, score=-6.134, total=   0.7s\n",
      "[CV] max_depth=9, n_estimators=2 .....................................\n",
      "[CV] ........ max_depth=9, n_estimators=2, score=-6.787, total=   0.7s\n",
      "[CV] max_depth=9, n_estimators=3 .....................................\n",
      "[CV] ........ max_depth=9, n_estimators=3, score=-9.382, total=   1.0s\n",
      "[CV] max_depth=9, n_estimators=3 .....................................\n",
      "[CV] ........ max_depth=9, n_estimators=3, score=-9.393, total=   1.0s\n",
      "[CV] max_depth=9, n_estimators=3 .....................................\n",
      "[CV] ........ max_depth=9, n_estimators=3, score=-6.216, total=   1.0s\n",
      "[CV] max_depth=9, n_estimators=3 .....................................\n",
      "[CV] ........ max_depth=9, n_estimators=3, score=-5.923, total=   1.0s\n",
      "[CV] max_depth=9, n_estimators=3 .....................................\n",
      "[CV] ........ max_depth=9, n_estimators=3, score=-7.440, total=   1.0s\n",
      "[CV] max_depth=9, n_estimators=4 .....................................\n",
      "[CV] ........ max_depth=9, n_estimators=4, score=-9.208, total=   1.3s\n",
      "[CV] max_depth=9, n_estimators=4 .....................................\n",
      "[CV] ........ max_depth=9, n_estimators=4, score=-8.179, total=   1.3s\n",
      "[CV] max_depth=9, n_estimators=4 .....................................\n",
      "[CV] ........ max_depth=9, n_estimators=4, score=-5.558, total=   1.3s\n",
      "[CV] max_depth=9, n_estimators=4 .....................................\n",
      "[CV] ........ max_depth=9, n_estimators=4, score=-5.848, total=   1.3s\n",
      "[CV] max_depth=9, n_estimators=4 .....................................\n",
      "[CV] ........ max_depth=9, n_estimators=4, score=-7.391, total=   1.3s\n",
      "[CV] max_depth=9, n_estimators=5 .....................................\n",
      "[CV] ........ max_depth=9, n_estimators=5, score=-8.888, total=   1.7s\n",
      "[CV] max_depth=9, n_estimators=5 .....................................\n",
      "[CV] ........ max_depth=9, n_estimators=5, score=-8.036, total=   1.7s\n",
      "[CV] max_depth=9, n_estimators=5 .....................................\n",
      "[CV] ........ max_depth=9, n_estimators=5, score=-5.500, total=   1.7s\n",
      "[CV] max_depth=9, n_estimators=5 .....................................\n",
      "[CV] ........ max_depth=9, n_estimators=5, score=-5.412, total=   1.7s\n",
      "[CV] max_depth=9, n_estimators=5 .....................................\n",
      "[CV] ........ max_depth=9, n_estimators=5, score=-7.406, total=   1.8s\n",
      "[CV] max_depth=9, n_estimators=6 .....................................\n",
      "[CV] ........ max_depth=9, n_estimators=6, score=-8.584, total=   2.3s\n",
      "[CV] max_depth=9, n_estimators=6 .....................................\n",
      "[CV] ........ max_depth=9, n_estimators=6, score=-8.240, total=   2.0s\n",
      "[CV] max_depth=9, n_estimators=6 .....................................\n",
      "[CV] ........ max_depth=9, n_estimators=6, score=-5.038, total=   2.0s\n",
      "[CV] max_depth=9, n_estimators=6 .....................................\n",
      "[CV] ........ max_depth=9, n_estimators=6, score=-5.430, total=   2.0s\n",
      "[CV] max_depth=9, n_estimators=6 .....................................\n",
      "[CV] ........ max_depth=9, n_estimators=6, score=-7.491, total=   2.0s\n",
      "[CV] max_depth=9, n_estimators=7 .....................................\n",
      "[CV] ........ max_depth=9, n_estimators=7, score=-8.930, total=   2.3s\n",
      "[CV] max_depth=9, n_estimators=7 .....................................\n",
      "[CV] ........ max_depth=9, n_estimators=7, score=-8.141, total=   2.3s\n",
      "[CV] max_depth=9, n_estimators=7 .....................................\n",
      "[CV] ........ max_depth=9, n_estimators=7, score=-4.898, total=   2.4s\n",
      "[CV] max_depth=9, n_estimators=7 .....................................\n",
      "[CV] ........ max_depth=9, n_estimators=7, score=-5.402, total=   2.4s\n",
      "[CV] max_depth=9, n_estimators=7 .....................................\n",
      "[CV] ........ max_depth=9, n_estimators=7, score=-7.540, total=   2.3s\n",
      "[CV] max_depth=9, n_estimators=8 .....................................\n",
      "[CV] ........ max_depth=9, n_estimators=8, score=-8.963, total=   2.7s\n",
      "[CV] max_depth=9, n_estimators=8 .....................................\n",
      "[CV] ........ max_depth=9, n_estimators=8, score=-8.145, total=   2.7s\n",
      "[CV] max_depth=9, n_estimators=8 .....................................\n",
      "[CV] ........ max_depth=9, n_estimators=8, score=-4.870, total=   2.6s\n",
      "[CV] max_depth=9, n_estimators=8 .....................................\n",
      "[CV] ........ max_depth=9, n_estimators=8, score=-5.461, total=   2.6s\n",
      "[CV] max_depth=9, n_estimators=8 .....................................\n",
      "[CV] ........ max_depth=9, n_estimators=8, score=-7.374, total=   2.7s\n",
      "[CV] max_depth=9, n_estimators=9 .....................................\n",
      "[CV] ........ max_depth=9, n_estimators=9, score=-9.101, total=   3.2s\n",
      "[CV] max_depth=9, n_estimators=9 .....................................\n",
      "[CV] ........ max_depth=9, n_estimators=9, score=-8.753, total=   3.0s\n",
      "[CV] max_depth=9, n_estimators=9 .....................................\n",
      "[CV] ........ max_depth=9, n_estimators=9, score=-5.010, total=   2.9s\n",
      "[CV] max_depth=9, n_estimators=9 .....................................\n",
      "[CV] ........ max_depth=9, n_estimators=9, score=-5.397, total=   3.0s\n",
      "[CV] max_depth=9, n_estimators=9 .....................................\n",
      "[CV] ........ max_depth=9, n_estimators=9, score=-7.273, total=   3.0s\n",
      "[CV] max_depth=9, n_estimators=10 ....................................\n",
      "[CV] ....... max_depth=9, n_estimators=10, score=-9.052, total=   3.3s\n",
      "[CV] max_depth=9, n_estimators=10 ....................................\n",
      "[CV] ....... max_depth=9, n_estimators=10, score=-8.581, total=   3.4s\n",
      "[CV] max_depth=9, n_estimators=10 ....................................\n",
      "[CV] ....... max_depth=9, n_estimators=10, score=-5.245, total=   3.4s\n",
      "[CV] max_depth=9, n_estimators=10 ....................................\n",
      "[CV] ....... max_depth=9, n_estimators=10, score=-5.449, total=   3.3s\n",
      "[CV] max_depth=9, n_estimators=10 ....................................\n",
      "[CV] ....... max_depth=9, n_estimators=10, score=-7.278, total=   3.4s\n",
      "[CV] max_depth=9, n_estimators=11 ....................................\n",
      "[CV] ....... max_depth=9, n_estimators=11, score=-8.967, total=   3.6s\n",
      "[CV] max_depth=9, n_estimators=11 ....................................\n",
      "[CV] ....... max_depth=9, n_estimators=11, score=-8.474, total=   3.7s\n",
      "[CV] max_depth=9, n_estimators=11 ....................................\n",
      "[CV] ....... max_depth=9, n_estimators=11, score=-5.140, total=   3.6s\n",
      "[CV] max_depth=9, n_estimators=11 ....................................\n",
      "[CV] ....... max_depth=9, n_estimators=11, score=-5.447, total=   3.6s\n",
      "[CV] max_depth=9, n_estimators=11 ....................................\n",
      "[CV] ....... max_depth=9, n_estimators=11, score=-7.238, total=   3.7s\n",
      "[CV] max_depth=9, n_estimators=12 ....................................\n",
      "[CV] ....... max_depth=9, n_estimators=12, score=-8.838, total=   4.0s\n",
      "[CV] max_depth=9, n_estimators=12 ....................................\n",
      "[CV] ....... max_depth=9, n_estimators=12, score=-8.503, total=   4.0s\n",
      "[CV] max_depth=9, n_estimators=12 ....................................\n",
      "[CV] ....... max_depth=9, n_estimators=12, score=-5.244, total=   4.1s\n",
      "[CV] max_depth=9, n_estimators=12 ....................................\n",
      "[CV] ....... max_depth=9, n_estimators=12, score=-5.331, total=   4.0s\n",
      "[CV] max_depth=9, n_estimators=12 ....................................\n",
      "[CV] ....... max_depth=9, n_estimators=12, score=-7.261, total=   4.1s\n",
      "[CV] max_depth=9, n_estimators=13 ....................................\n",
      "[CV] ....... max_depth=9, n_estimators=13, score=-8.758, total=   4.4s\n",
      "[CV] max_depth=9, n_estimators=13 ....................................\n",
      "[CV] ....... max_depth=9, n_estimators=13, score=-9.073, total=   4.4s\n",
      "[CV] max_depth=9, n_estimators=13 ....................................\n",
      "[CV] ....... max_depth=9, n_estimators=13, score=-5.252, total=   4.2s\n",
      "[CV] max_depth=9, n_estimators=13 ....................................\n",
      "[CV] ....... max_depth=9, n_estimators=13, score=-5.307, total=   4.4s\n",
      "[CV] max_depth=9, n_estimators=13 ....................................\n",
      "[CV] ....... max_depth=9, n_estimators=13, score=-7.290, total=   4.3s\n",
      "[CV] max_depth=9, n_estimators=14 ....................................\n",
      "[CV] ....... max_depth=9, n_estimators=14, score=-8.632, total=   4.7s\n",
      "[CV] max_depth=9, n_estimators=14 ....................................\n",
      "[CV] ....... max_depth=9, n_estimators=14, score=-9.172, total=   4.9s\n",
      "[CV] max_depth=9, n_estimators=14 ....................................\n",
      "[CV] ....... max_depth=9, n_estimators=14, score=-5.133, total=   4.6s\n",
      "[CV] max_depth=9, n_estimators=14 ....................................\n",
      "[CV] ....... max_depth=9, n_estimators=14, score=-5.308, total=   4.7s\n",
      "[CV] max_depth=9, n_estimators=14 ....................................\n",
      "[CV] ....... max_depth=9, n_estimators=14, score=-7.283, total=   4.8s\n",
      "[CV] max_depth=9, n_estimators=15 ....................................\n",
      "[CV] ....... max_depth=9, n_estimators=15, score=-8.698, total=   5.4s\n",
      "[CV] max_depth=9, n_estimators=15 ....................................\n",
      "[CV] ....... max_depth=9, n_estimators=15, score=-9.154, total=   5.0s\n",
      "[CV] max_depth=9, n_estimators=15 ....................................\n",
      "[CV] ....... max_depth=9, n_estimators=15, score=-4.982, total=   4.9s\n",
      "[CV] max_depth=9, n_estimators=15 ....................................\n",
      "[CV] ....... max_depth=9, n_estimators=15, score=-5.250, total=   5.1s\n",
      "[CV] max_depth=9, n_estimators=15 ....................................\n",
      "[CV] ....... max_depth=9, n_estimators=15, score=-7.505, total=   5.6s\n",
      "[CV] max_depth=9, n_estimators=16 ....................................\n",
      "[CV] ....... max_depth=9, n_estimators=16, score=-8.799, total=   6.8s\n",
      "[CV] max_depth=9, n_estimators=16 ....................................\n",
      "[CV] ....... max_depth=9, n_estimators=16, score=-9.102, total=   5.3s\n",
      "[CV] max_depth=9, n_estimators=16 ....................................\n",
      "[CV] ....... max_depth=9, n_estimators=16, score=-5.079, total=   5.4s\n",
      "[CV] max_depth=9, n_estimators=16 ....................................\n",
      "[CV] ....... max_depth=9, n_estimators=16, score=-5.288, total=   5.4s\n",
      "[CV] max_depth=9, n_estimators=16 ....................................\n",
      "[CV] ....... max_depth=9, n_estimators=16, score=-7.476, total=   5.7s\n",
      "[CV] max_depth=9, n_estimators=17 ....................................\n",
      "[CV] ....... max_depth=9, n_estimators=17, score=-8.855, total=   5.9s\n",
      "[CV] max_depth=9, n_estimators=17 ....................................\n",
      "[CV] ....... max_depth=9, n_estimators=17, score=-9.304, total=   5.7s\n",
      "[CV] max_depth=9, n_estimators=17 ....................................\n",
      "[CV] ....... max_depth=9, n_estimators=17, score=-5.050, total=   5.6s\n",
      "[CV] max_depth=9, n_estimators=17 ....................................\n",
      "[CV] ....... max_depth=9, n_estimators=17, score=-5.350, total=   5.8s\n",
      "[CV] max_depth=9, n_estimators=17 ....................................\n",
      "[CV] ....... max_depth=9, n_estimators=17, score=-7.475, total=   5.8s\n",
      "[CV] max_depth=9, n_estimators=18 ....................................\n",
      "[CV] ....... max_depth=9, n_estimators=18, score=-8.867, total=   6.0s\n",
      "[CV] max_depth=9, n_estimators=18 ....................................\n",
      "[CV] ....... max_depth=9, n_estimators=18, score=-9.253, total=   6.0s\n",
      "[CV] max_depth=9, n_estimators=18 ....................................\n",
      "[CV] ....... max_depth=9, n_estimators=18, score=-5.005, total=   5.9s\n",
      "[CV] max_depth=9, n_estimators=18 ....................................\n",
      "[CV] ....... max_depth=9, n_estimators=18, score=-5.388, total=   5.9s\n",
      "[CV] max_depth=9, n_estimators=18 ....................................\n",
      "[CV] ....... max_depth=9, n_estimators=18, score=-7.501, total=   6.6s\n",
      "[CV] max_depth=9, n_estimators=19 ....................................\n",
      "[CV] ....... max_depth=9, n_estimators=19, score=-8.925, total=   6.6s\n",
      "[CV] max_depth=9, n_estimators=19 ....................................\n",
      "[CV] ....... max_depth=9, n_estimators=19, score=-9.115, total=   6.6s\n",
      "[CV] max_depth=9, n_estimators=19 ....................................\n",
      "[CV] ....... max_depth=9, n_estimators=19, score=-5.019, total=   6.3s\n",
      "[CV] max_depth=9, n_estimators=19 ....................................\n",
      "[CV] ....... max_depth=9, n_estimators=19, score=-5.369, total=   6.4s\n",
      "[CV] max_depth=9, n_estimators=19 ....................................\n",
      "[CV] ....... max_depth=9, n_estimators=19, score=-7.662, total=   6.4s\n"
     ]
    },
    {
     "name": "stderr",
     "output_type": "stream",
     "text": [
      "[Parallel(n_jobs=-1)]: Done 855 out of 855 | elapsed: 32.7min finished\n"
     ]
    },
    {
     "name": "stdout",
     "output_type": "stream",
     "text": [
      "{'max_depth': 4, 'n_estimators': 6}\n"
     ]
    }
   ],
   "source": [
    "forest_rougher = RandomForestRegressor(random_state=12345)\n",
    "parameters = { 'n_estimators': range (1, 20),\n",
    "              'max_depth': range (1, 10) }\n",
    "\n",
    "\n",
    "grid = GridSearchCV(forest_rougher, parameters, cv=5, scoring=make_scorer(smape, greater_is_better=False),\\\n",
    "                    verbose=3, n_jobs=-1, refit=True)\n",
    "grid.fit(features_train, target_rougher_train)\n",
    "\n",
    "print(grid.best_params_)"
   ]
  },
  {
   "cell_type": "markdown",
   "metadata": {},
   "source": [
    "Наиболее подходящие параметры: {'max_depth': 4, 'n_estimators': 6}"
   ]
  },
  {
   "cell_type": "code",
   "execution_count": 29,
   "metadata": {
    "scrolled": true
   },
   "outputs": [
    {
     "name": "stdout",
     "output_type": "stream",
     "text": [
      "building tree 1 of 6\n"
     ]
    },
    {
     "name": "stderr",
     "output_type": "stream",
     "text": [
      "[Parallel(n_jobs=-1)]: Using backend SequentialBackend with 1 concurrent workers.\n",
      "[Parallel(n_jobs=-1)]: Done   1 out of   1 | elapsed:    0.2s remaining:    0.0s\n"
     ]
    },
    {
     "name": "stdout",
     "output_type": "stream",
     "text": [
      "building tree 2 of 6\n"
     ]
    },
    {
     "name": "stderr",
     "output_type": "stream",
     "text": [
      "[Parallel(n_jobs=-1)]: Done   2 out of   2 | elapsed:    0.4s remaining:    0.0s\n"
     ]
    },
    {
     "name": "stdout",
     "output_type": "stream",
     "text": [
      "building tree 3 of 6\n",
      "building tree 4 of 6\n",
      "building tree 5 of 6\n",
      "building tree 6 of 6\n"
     ]
    },
    {
     "name": "stderr",
     "output_type": "stream",
     "text": [
      "[Parallel(n_jobs=-1)]: Done   6 out of   6 | elapsed:    1.3s finished\n",
      "[Parallel(n_jobs=-1)]: Using backend SequentialBackend with 1 concurrent workers.\n",
      "[Parallel(n_jobs=-1)]: Done   1 out of   1 | elapsed:    0.2s remaining:    0.0s\n"
     ]
    },
    {
     "name": "stdout",
     "output_type": "stream",
     "text": [
      "building tree 1 of 6\n",
      "building tree 2 of 6\n"
     ]
    },
    {
     "name": "stderr",
     "output_type": "stream",
     "text": [
      "[Parallel(n_jobs=-1)]: Done   2 out of   2 | elapsed:    0.3s remaining:    0.0s\n"
     ]
    },
    {
     "name": "stdout",
     "output_type": "stream",
     "text": [
      "building tree 3 of 6\n",
      "building tree 4 of 6\n",
      "building tree 5 of 6\n",
      "building tree 6 of 6\n"
     ]
    },
    {
     "name": "stderr",
     "output_type": "stream",
     "text": [
      "[Parallel(n_jobs=-1)]: Done   6 out of   6 | elapsed:    1.0s finished\n",
      "[Parallel(n_jobs=1)]: Using backend SequentialBackend with 1 concurrent workers.\n",
      "[Parallel(n_jobs=1)]: Done   1 out of   1 | elapsed:    0.0s remaining:    0.0s\n",
      "[Parallel(n_jobs=1)]: Done   2 out of   2 | elapsed:    0.0s remaining:    0.0s\n",
      "[Parallel(n_jobs=1)]: Done   6 out of   6 | elapsed:    0.0s finished\n",
      "[Parallel(n_jobs=-1)]: Using backend SequentialBackend with 1 concurrent workers.\n",
      "[Parallel(n_jobs=-1)]: Done   1 out of   1 | elapsed:    0.2s remaining:    0.0s\n"
     ]
    },
    {
     "name": "stdout",
     "output_type": "stream",
     "text": [
      "building tree 1 of 6\n",
      "building tree 2 of 6\n"
     ]
    },
    {
     "name": "stderr",
     "output_type": "stream",
     "text": [
      "[Parallel(n_jobs=-1)]: Done   2 out of   2 | elapsed:    0.3s remaining:    0.0s\n"
     ]
    },
    {
     "name": "stdout",
     "output_type": "stream",
     "text": [
      "building tree 3 of 6\n",
      "building tree 4 of 6\n",
      "building tree 5 of 6\n",
      "building tree 6 of 6\n"
     ]
    },
    {
     "name": "stderr",
     "output_type": "stream",
     "text": [
      "[Parallel(n_jobs=-1)]: Done   6 out of   6 | elapsed:    1.0s finished\n",
      "[Parallel(n_jobs=1)]: Using backend SequentialBackend with 1 concurrent workers.\n",
      "[Parallel(n_jobs=1)]: Done   1 out of   1 | elapsed:    0.0s remaining:    0.0s\n",
      "[Parallel(n_jobs=1)]: Done   2 out of   2 | elapsed:    0.0s remaining:    0.0s\n",
      "[Parallel(n_jobs=1)]: Done   6 out of   6 | elapsed:    0.0s finished\n",
      "[Parallel(n_jobs=-1)]: Using backend SequentialBackend with 1 concurrent workers.\n",
      "[Parallel(n_jobs=-1)]: Done   1 out of   1 | elapsed:    0.2s remaining:    0.0s\n"
     ]
    },
    {
     "name": "stdout",
     "output_type": "stream",
     "text": [
      "building tree 1 of 6\n",
      "building tree 2 of 6\n"
     ]
    },
    {
     "name": "stderr",
     "output_type": "stream",
     "text": [
      "[Parallel(n_jobs=-1)]: Done   2 out of   2 | elapsed:    0.3s remaining:    0.0s\n"
     ]
    },
    {
     "name": "stdout",
     "output_type": "stream",
     "text": [
      "building tree 3 of 6\n",
      "building tree 4 of 6\n",
      "building tree 5 of 6\n",
      "building tree 6 of 6\n"
     ]
    },
    {
     "name": "stderr",
     "output_type": "stream",
     "text": [
      "[Parallel(n_jobs=-1)]: Done   6 out of   6 | elapsed:    1.0s finished\n",
      "[Parallel(n_jobs=1)]: Using backend SequentialBackend with 1 concurrent workers.\n",
      "[Parallel(n_jobs=1)]: Done   1 out of   1 | elapsed:    0.0s remaining:    0.0s\n",
      "[Parallel(n_jobs=1)]: Done   2 out of   2 | elapsed:    0.0s remaining:    0.0s\n",
      "[Parallel(n_jobs=1)]: Done   6 out of   6 | elapsed:    0.0s finished\n",
      "[Parallel(n_jobs=-1)]: Using backend SequentialBackend with 1 concurrent workers.\n",
      "[Parallel(n_jobs=-1)]: Done   1 out of   1 | elapsed:    0.2s remaining:    0.0s\n"
     ]
    },
    {
     "name": "stdout",
     "output_type": "stream",
     "text": [
      "building tree 1 of 6\n",
      "building tree 2 of 6\n"
     ]
    },
    {
     "name": "stderr",
     "output_type": "stream",
     "text": [
      "[Parallel(n_jobs=-1)]: Done   2 out of   2 | elapsed:    0.3s remaining:    0.0s\n"
     ]
    },
    {
     "name": "stdout",
     "output_type": "stream",
     "text": [
      "building tree 3 of 6\n",
      "building tree 4 of 6\n",
      "building tree 5 of 6\n",
      "building tree 6 of 6\n"
     ]
    },
    {
     "name": "stderr",
     "output_type": "stream",
     "text": [
      "[Parallel(n_jobs=-1)]: Done   6 out of   6 | elapsed:    1.0s finished\n",
      "[Parallel(n_jobs=1)]: Using backend SequentialBackend with 1 concurrent workers.\n",
      "[Parallel(n_jobs=1)]: Done   1 out of   1 | elapsed:    0.0s remaining:    0.0s\n",
      "[Parallel(n_jobs=1)]: Done   2 out of   2 | elapsed:    0.0s remaining:    0.0s\n",
      "[Parallel(n_jobs=1)]: Done   6 out of   6 | elapsed:    0.0s finished\n",
      "[Parallel(n_jobs=-1)]: Using backend SequentialBackend with 1 concurrent workers.\n",
      "[Parallel(n_jobs=-1)]: Done   1 out of   1 | elapsed:    0.2s remaining:    0.0s\n"
     ]
    },
    {
     "name": "stdout",
     "output_type": "stream",
     "text": [
      "building tree 1 of 6\n",
      "building tree 2 of 6\n"
     ]
    },
    {
     "name": "stderr",
     "output_type": "stream",
     "text": [
      "[Parallel(n_jobs=-1)]: Done   2 out of   2 | elapsed:    0.3s remaining:    0.0s\n"
     ]
    },
    {
     "name": "stdout",
     "output_type": "stream",
     "text": [
      "building tree 3 of 6\n",
      "building tree 4 of 6\n",
      "building tree 5 of 6\n",
      "building tree 6 of 6\n",
      "-6.3982436599836845\n"
     ]
    },
    {
     "name": "stderr",
     "output_type": "stream",
     "text": [
      "[Parallel(n_jobs=-1)]: Done   6 out of   6 | elapsed:    1.0s finished\n",
      "[Parallel(n_jobs=1)]: Using backend SequentialBackend with 1 concurrent workers.\n",
      "[Parallel(n_jobs=1)]: Done   1 out of   1 | elapsed:    0.0s remaining:    0.0s\n",
      "[Parallel(n_jobs=1)]: Done   2 out of   2 | elapsed:    0.0s remaining:    0.0s\n",
      "[Parallel(n_jobs=1)]: Done   6 out of   6 | elapsed:    0.0s finished\n"
     ]
    }
   ],
   "source": [
    "forest_rougher = RandomForestRegressor(random_state=12345, n_estimators=6, \\\n",
    "                                       max_depth=4, verbose=3, n_jobs=-1).fit(features_train, target_rougher_train)\n",
    "\n",
    "smape_forest_rougher = cross_val_score(forest_rougher, features_train, target_rougher_train,\\\n",
    "                                      scoring = make_scorer(smape, greater_is_better=False), cv = 5).mean()\n",
    "print(smape_forest_rougher)"
   ]
  },
  {
   "cell_type": "markdown",
   "metadata": {},
   "source": [
    "Подберем параметры для случайного леса и проверим их на модели."
   ]
  },
  {
   "cell_type": "code",
   "execution_count": 30,
   "metadata": {},
   "outputs": [
    {
     "name": "stderr",
     "output_type": "stream",
     "text": [
      "[Parallel(n_jobs=-1)]: Using backend SequentialBackend with 1 concurrent workers.\n",
      "[Parallel(n_jobs=-1)]: Done   1 out of   1 | elapsed:    0.1s remaining:    0.0s\n",
      "[Parallel(n_jobs=-1)]: Done   2 out of   2 | elapsed:    0.1s remaining:    0.0s\n"
     ]
    },
    {
     "name": "stdout",
     "output_type": "stream",
     "text": [
      "Fitting 5 folds for each of 171 candidates, totalling 855 fits\n",
      "[CV] max_depth=1, n_estimators=1 .....................................\n",
      "[CV] ........ max_depth=1, n_estimators=1, score=-9.844, total=   0.1s\n",
      "[CV] max_depth=1, n_estimators=1 .....................................\n",
      "[CV] ........ max_depth=1, n_estimators=1, score=-9.228, total=   0.1s\n",
      "[CV] max_depth=1, n_estimators=1 .....................................\n",
      "[CV] ....... max_depth=1, n_estimators=1, score=-11.254, total=   0.1s\n",
      "[CV] max_depth=1, n_estimators=1 .....................................\n",
      "[CV] ....... max_depth=1, n_estimators=1, score=-11.278, total=   0.1s\n",
      "[CV] max_depth=1, n_estimators=1 .....................................\n",
      "[CV] ....... max_depth=1, n_estimators=1, score=-11.419, total=   0.1s\n",
      "[CV] max_depth=1, n_estimators=2 .....................................\n",
      "[CV] ....... max_depth=1, n_estimators=2, score=-10.205, total=   0.1s\n",
      "[CV] max_depth=1, n_estimators=2 .....................................\n",
      "[CV] ........ max_depth=1, n_estimators=2, score=-9.228, total=   0.1s\n",
      "[CV] max_depth=1, n_estimators=2 .....................................\n",
      "[CV] ....... max_depth=1, n_estimators=2, score=-10.950, total=   0.1s\n",
      "[CV] max_depth=1, n_estimators=2 .....................................\n",
      "[CV] ....... max_depth=1, n_estimators=2, score=-11.309, total=   0.1s\n",
      "[CV] max_depth=1, n_estimators=2 .....................................\n",
      "[CV] ....... max_depth=1, n_estimators=2, score=-11.463, total=   0.1s\n",
      "[CV] max_depth=1, n_estimators=3 .....................................\n",
      "[CV] ....... max_depth=1, n_estimators=3, score=-10.144, total=   0.2s\n",
      "[CV] max_depth=1, n_estimators=3 .....................................\n",
      "[CV] ........ max_depth=1, n_estimators=3, score=-9.230, total=   0.2s\n",
      "[CV] max_depth=1, n_estimators=3 .....................................\n",
      "[CV] ....... max_depth=1, n_estimators=3, score=-10.114, total=   0.2s\n",
      "[CV] max_depth=1, n_estimators=3 .....................................\n",
      "[CV] ....... max_depth=1, n_estimators=3, score=-11.292, total=   0.2s\n",
      "[CV] max_depth=1, n_estimators=3 .....................................\n",
      "[CV] ....... max_depth=1, n_estimators=3, score=-11.440, total=   0.2s\n",
      "[CV] max_depth=1, n_estimators=4 .....................................\n",
      "[CV] ........ max_depth=1, n_estimators=4, score=-9.949, total=   0.2s\n",
      "[CV] max_depth=1, n_estimators=4 .....................................\n",
      "[CV] ........ max_depth=1, n_estimators=4, score=-9.225, total=   0.2s\n",
      "[CV] max_depth=1, n_estimators=4 .....................................\n",
      "[CV] ....... max_depth=1, n_estimators=4, score=-10.331, total=   0.2s\n",
      "[CV] max_depth=1, n_estimators=4 .....................................\n",
      "[CV] ....... max_depth=1, n_estimators=4, score=-11.289, total=   0.2s\n",
      "[CV] max_depth=1, n_estimators=4 .....................................\n",
      "[CV] ....... max_depth=1, n_estimators=4, score=-11.437, total=   0.2s\n",
      "[CV] max_depth=1, n_estimators=5 .....................................\n",
      "[CV] ........ max_depth=1, n_estimators=5, score=-9.937, total=   0.3s\n",
      "[CV] max_depth=1, n_estimators=5 .....................................\n",
      "[CV] ........ max_depth=1, n_estimators=5, score=-9.213, total=   0.3s\n",
      "[CV] max_depth=1, n_estimators=5 .....................................\n",
      "[CV] ....... max_depth=1, n_estimators=5, score=-10.483, total=   0.2s\n",
      "[CV] max_depth=1, n_estimators=5 .....................................\n",
      "[CV] ....... max_depth=1, n_estimators=5, score=-11.111, total=   0.2s\n",
      "[CV] max_depth=1, n_estimators=5 .....................................\n",
      "[CV] ....... max_depth=1, n_estimators=5, score=-11.444, total=   0.3s\n",
      "[CV] max_depth=1, n_estimators=6 .....................................\n",
      "[CV] ........ max_depth=1, n_estimators=6, score=-9.858, total=   0.3s\n",
      "[CV] max_depth=1, n_estimators=6 .....................................\n",
      "[CV] ........ max_depth=1, n_estimators=6, score=-9.205, total=   0.3s\n",
      "[CV] max_depth=1, n_estimators=6 .....................................\n",
      "[CV] ....... max_depth=1, n_estimators=6, score=-10.511, total=   0.3s\n",
      "[CV] max_depth=1, n_estimators=6 .....................................\n",
      "[CV] ....... max_depth=1, n_estimators=6, score=-11.020, total=   0.3s\n",
      "[CV] max_depth=1, n_estimators=6 .....................................\n",
      "[CV] ....... max_depth=1, n_estimators=6, score=-11.426, total=   0.3s\n",
      "[CV] max_depth=1, n_estimators=7 .....................................\n",
      "[CV] ........ max_depth=1, n_estimators=7, score=-9.814, total=   0.3s\n",
      "[CV] max_depth=1, n_estimators=7 .....................................\n",
      "[CV] ........ max_depth=1, n_estimators=7, score=-9.198, total=   0.3s\n",
      "[CV] max_depth=1, n_estimators=7 .....................................\n",
      "[CV] ....... max_depth=1, n_estimators=7, score=-10.598, total=   0.3s\n",
      "[CV] max_depth=1, n_estimators=7 .....................................\n",
      "[CV] ....... max_depth=1, n_estimators=7, score=-11.054, total=   0.3s\n",
      "[CV] max_depth=1, n_estimators=7 .....................................\n",
      "[CV] ....... max_depth=1, n_estimators=7, score=-11.459, total=   0.4s\n",
      "[CV] max_depth=1, n_estimators=8 .....................................\n",
      "[CV] ........ max_depth=1, n_estimators=8, score=-9.849, total=   0.4s\n",
      "[CV] max_depth=1, n_estimators=8 .....................................\n",
      "[CV] ........ max_depth=1, n_estimators=8, score=-9.198, total=   0.4s\n",
      "[CV] max_depth=1, n_estimators=8 .....................................\n",
      "[CV] ....... max_depth=1, n_estimators=8, score=-10.664, total=   0.4s\n",
      "[CV] max_depth=1, n_estimators=8 .....................................\n",
      "[CV] ....... max_depth=1, n_estimators=8, score=-11.079, total=   0.4s\n",
      "[CV] max_depth=1, n_estimators=8 .....................................\n",
      "[CV] ....... max_depth=1, n_estimators=8, score=-11.449, total=   0.4s\n",
      "[CV] max_depth=1, n_estimators=9 .....................................\n",
      "[CV] ........ max_depth=1, n_estimators=9, score=-9.866, total=   0.4s\n",
      "[CV] max_depth=1, n_estimators=9 .....................................\n",
      "[CV] ........ max_depth=1, n_estimators=9, score=-9.198, total=   0.4s\n",
      "[CV] max_depth=1, n_estimators=9 .....................................\n",
      "[CV] ....... max_depth=1, n_estimators=9, score=-10.722, total=   0.5s\n",
      "[CV] max_depth=1, n_estimators=9 .....................................\n",
      "[CV] ....... max_depth=1, n_estimators=9, score=-11.097, total=   0.4s\n",
      "[CV] max_depth=1, n_estimators=9 .....................................\n",
      "[CV] ....... max_depth=1, n_estimators=9, score=-11.452, total=   0.4s\n",
      "[CV] max_depth=1, n_estimators=10 ....................................\n",
      "[CV] ....... max_depth=1, n_estimators=10, score=-9.893, total=   0.5s\n",
      "[CV] max_depth=1, n_estimators=10 ....................................\n",
      "[CV] ....... max_depth=1, n_estimators=10, score=-9.201, total=   0.6s\n",
      "[CV] max_depth=1, n_estimators=10 ....................................\n",
      "[CV] ...... max_depth=1, n_estimators=10, score=-10.729, total=   0.5s\n",
      "[CV] max_depth=1, n_estimators=10 ....................................\n",
      "[CV] ...... max_depth=1, n_estimators=10, score=-11.113, total=   0.5s\n",
      "[CV] max_depth=1, n_estimators=10 ....................................\n",
      "[CV] ...... max_depth=1, n_estimators=10, score=-11.452, total=   0.5s\n",
      "[CV] max_depth=1, n_estimators=11 ....................................\n",
      "[CV] ....... max_depth=1, n_estimators=11, score=-9.848, total=   0.5s\n",
      "[CV] max_depth=1, n_estimators=11 ....................................\n",
      "[CV] ....... max_depth=1, n_estimators=11, score=-9.202, total=   0.5s\n",
      "[CV] max_depth=1, n_estimators=11 ....................................\n",
      "[CV] ...... max_depth=1, n_estimators=11, score=-10.770, total=   0.5s\n",
      "[CV] max_depth=1, n_estimators=11 ....................................\n",
      "[CV] ...... max_depth=1, n_estimators=11, score=-11.124, total=   0.6s\n",
      "[CV] max_depth=1, n_estimators=11 ....................................\n",
      "[CV] ...... max_depth=1, n_estimators=11, score=-11.438, total=   0.5s\n",
      "[CV] max_depth=1, n_estimators=12 ....................................\n",
      "[CV] ....... max_depth=1, n_estimators=12, score=-9.881, total=   0.6s\n",
      "[CV] max_depth=1, n_estimators=12 ....................................\n",
      "[CV] ....... max_depth=1, n_estimators=12, score=-9.204, total=   0.6s\n",
      "[CV] max_depth=1, n_estimators=12 ....................................\n",
      "[CV] ...... max_depth=1, n_estimators=12, score=-10.785, total=   0.7s\n",
      "[CV] max_depth=1, n_estimators=12 ....................................\n",
      "[CV] ...... max_depth=1, n_estimators=12, score=-11.138, total=   0.6s\n",
      "[CV] max_depth=1, n_estimators=12 ....................................\n",
      "[CV] ...... max_depth=1, n_estimators=12, score=-11.435, total=   0.6s\n",
      "[CV] max_depth=1, n_estimators=13 ....................................\n",
      "[CV] ....... max_depth=1, n_estimators=13, score=-9.844, total=   0.6s\n",
      "[CV] max_depth=1, n_estimators=13 ....................................\n",
      "[CV] ....... max_depth=1, n_estimators=13, score=-9.208, total=   0.6s\n",
      "[CV] max_depth=1, n_estimators=13 ....................................\n",
      "[CV] ...... max_depth=1, n_estimators=13, score=-10.816, total=   0.6s\n",
      "[CV] max_depth=1, n_estimators=13 ....................................\n",
      "[CV] ...... max_depth=1, n_estimators=13, score=-11.146, total=   0.6s\n",
      "[CV] max_depth=1, n_estimators=13 ....................................\n",
      "[CV] ...... max_depth=1, n_estimators=13, score=-11.432, total=   0.6s\n",
      "[CV] max_depth=1, n_estimators=14 ....................................\n",
      "[CV] ....... max_depth=1, n_estimators=14, score=-9.813, total=   0.7s\n",
      "[CV] max_depth=1, n_estimators=14 ....................................\n",
      "[CV] ....... max_depth=1, n_estimators=14, score=-9.207, total=   0.7s\n",
      "[CV] max_depth=1, n_estimators=14 ....................................\n",
      "[CV] ...... max_depth=1, n_estimators=14, score=-10.835, total=   0.7s\n",
      "[CV] max_depth=1, n_estimators=14 ....................................\n",
      "[CV] ...... max_depth=1, n_estimators=14, score=-11.154, total=   0.7s\n",
      "[CV] max_depth=1, n_estimators=14 ....................................\n",
      "[CV] ...... max_depth=1, n_estimators=14, score=-11.427, total=   0.7s\n",
      "[CV] max_depth=1, n_estimators=15 ....................................\n",
      "[CV] ....... max_depth=1, n_estimators=15, score=-9.826, total=   0.7s\n",
      "[CV] max_depth=1, n_estimators=15 ....................................\n",
      "[CV] ....... max_depth=1, n_estimators=15, score=-9.206, total=   0.7s\n",
      "[CV] max_depth=1, n_estimators=15 ....................................\n",
      "[CV] ...... max_depth=1, n_estimators=15, score=-10.808, total=   0.7s\n",
      "[CV] max_depth=1, n_estimators=15 ....................................\n",
      "[CV] ...... max_depth=1, n_estimators=15, score=-11.166, total=   0.7s\n",
      "[CV] max_depth=1, n_estimators=15 ....................................\n",
      "[CV] ...... max_depth=1, n_estimators=15, score=-11.438, total=   0.7s\n",
      "[CV] max_depth=1, n_estimators=16 ....................................\n",
      "[CV] ....... max_depth=1, n_estimators=16, score=-9.845, total=   0.8s\n",
      "[CV] max_depth=1, n_estimators=16 ....................................\n",
      "[CV] ....... max_depth=1, n_estimators=16, score=-9.207, total=   0.8s\n",
      "[CV] max_depth=1, n_estimators=16 ....................................\n",
      "[CV] ...... max_depth=1, n_estimators=16, score=-10.830, total=   0.8s\n",
      "[CV] max_depth=1, n_estimators=16 ....................................\n",
      "[CV] ...... max_depth=1, n_estimators=16, score=-11.172, total=   0.8s\n",
      "[CV] max_depth=1, n_estimators=16 ....................................\n",
      "[CV] ...... max_depth=1, n_estimators=16, score=-11.430, total=   1.0s\n",
      "[CV] max_depth=1, n_estimators=17 ....................................\n",
      "[CV] ....... max_depth=1, n_estimators=17, score=-9.814, total=   0.8s\n",
      "[CV] max_depth=1, n_estimators=17 ....................................\n",
      "[CV] ....... max_depth=1, n_estimators=17, score=-9.208, total=   0.9s\n",
      "[CV] max_depth=1, n_estimators=17 ....................................\n",
      "[CV] ...... max_depth=1, n_estimators=17, score=-10.849, total=   0.8s\n",
      "[CV] max_depth=1, n_estimators=17 ....................................\n",
      "[CV] ...... max_depth=1, n_estimators=17, score=-11.178, total=   0.8s\n",
      "[CV] max_depth=1, n_estimators=17 ....................................\n",
      "[CV] ...... max_depth=1, n_estimators=17, score=-11.426, total=   0.9s\n",
      "[CV] max_depth=1, n_estimators=18 ....................................\n",
      "[CV] ....... max_depth=1, n_estimators=18, score=-9.789, total=   0.9s\n",
      "[CV] max_depth=1, n_estimators=18 ....................................\n",
      "[CV] ....... max_depth=1, n_estimators=18, score=-9.209, total=   0.9s\n",
      "[CV] max_depth=1, n_estimators=18 ....................................\n",
      "[CV] ...... max_depth=1, n_estimators=18, score=-10.855, total=   0.9s\n",
      "[CV] max_depth=1, n_estimators=18 ....................................\n",
      "[CV] ...... max_depth=1, n_estimators=18, score=-11.182, total=   0.9s\n",
      "[CV] max_depth=1, n_estimators=18 ....................................\n",
      "[CV] ...... max_depth=1, n_estimators=18, score=-11.423, total=   0.9s\n",
      "[CV] max_depth=1, n_estimators=19 ....................................\n",
      "[CV] ....... max_depth=1, n_estimators=19, score=-9.818, total=   1.0s\n",
      "[CV] max_depth=1, n_estimators=19 ....................................\n",
      "[CV] ....... max_depth=1, n_estimators=19, score=-9.209, total=   0.9s\n",
      "[CV] max_depth=1, n_estimators=19 ....................................\n",
      "[CV] ...... max_depth=1, n_estimators=19, score=-10.729, total=   1.0s\n",
      "[CV] max_depth=1, n_estimators=19 ....................................\n",
      "[CV] ...... max_depth=1, n_estimators=19, score=-11.186, total=   0.9s\n",
      "[CV] max_depth=1, n_estimators=19 ....................................\n",
      "[CV] ...... max_depth=1, n_estimators=19, score=-11.421, total=   0.9s\n",
      "[CV] max_depth=2, n_estimators=1 .....................................\n",
      "[CV] ........ max_depth=2, n_estimators=1, score=-9.881, total=   0.1s\n",
      "[CV] max_depth=2, n_estimators=1 .....................................\n",
      "[CV] ........ max_depth=2, n_estimators=1, score=-9.213, total=   0.1s\n",
      "[CV] max_depth=2, n_estimators=1 .....................................\n",
      "[CV] ....... max_depth=2, n_estimators=1, score=-12.438, total=   0.1s\n",
      "[CV] max_depth=2, n_estimators=1 .....................................\n",
      "[CV] ........ max_depth=2, n_estimators=1, score=-9.953, total=   0.1s\n",
      "[CV] max_depth=2, n_estimators=1 .....................................\n",
      "[CV] ....... max_depth=2, n_estimators=1, score=-11.014, total=   0.1s\n",
      "[CV] max_depth=2, n_estimators=2 .....................................\n",
      "[CV] ........ max_depth=2, n_estimators=2, score=-9.774, total=   0.2s\n",
      "[CV] max_depth=2, n_estimators=2 .....................................\n",
      "[CV] ........ max_depth=2, n_estimators=2, score=-9.009, total=   0.2s\n",
      "[CV] max_depth=2, n_estimators=2 .....................................\n",
      "[CV] ....... max_depth=2, n_estimators=2, score=-11.110, total=   0.2s\n",
      "[CV] max_depth=2, n_estimators=2 .....................................\n",
      "[CV] ....... max_depth=2, n_estimators=2, score=-10.055, total=   0.2s\n",
      "[CV] max_depth=2, n_estimators=2 .....................................\n",
      "[CV] ....... max_depth=2, n_estimators=2, score=-10.808, total=   0.2s\n",
      "[CV] max_depth=2, n_estimators=3 .....................................\n",
      "[CV] ........ max_depth=2, n_estimators=3, score=-9.685, total=   0.3s\n",
      "[CV] max_depth=2, n_estimators=3 .....................................\n",
      "[CV] ........ max_depth=2, n_estimators=3, score=-8.805, total=   0.3s\n",
      "[CV] max_depth=2, n_estimators=3 .....................................\n",
      "[CV] ....... max_depth=2, n_estimators=3, score=-10.268, total=   0.3s\n",
      "[CV] max_depth=2, n_estimators=3 .....................................\n",
      "[CV] ....... max_depth=2, n_estimators=3, score=-10.022, total=   0.3s\n",
      "[CV] max_depth=2, n_estimators=3 .....................................\n",
      "[CV] ....... max_depth=2, n_estimators=3, score=-10.733, total=   0.3s\n",
      "[CV] max_depth=2, n_estimators=4 .....................................\n",
      "[CV] ........ max_depth=2, n_estimators=4, score=-9.600, total=   0.4s\n",
      "[CV] max_depth=2, n_estimators=4 .....................................\n",
      "[CV] ........ max_depth=2, n_estimators=4, score=-8.859, total=   0.4s\n",
      "[CV] max_depth=2, n_estimators=4 .....................................\n",
      "[CV] ....... max_depth=2, n_estimators=4, score=-10.338, total=   0.4s\n",
      "[CV] max_depth=2, n_estimators=4 .....................................\n",
      "[CV] ....... max_depth=2, n_estimators=4, score=-10.017, total=   0.4s\n",
      "[CV] max_depth=2, n_estimators=4 .....................................\n",
      "[CV] ....... max_depth=2, n_estimators=4, score=-10.742, total=   0.4s\n",
      "[CV] max_depth=2, n_estimators=5 .....................................\n",
      "[CV] ........ max_depth=2, n_estimators=5, score=-9.577, total=   0.5s\n",
      "[CV] max_depth=2, n_estimators=5 .....................................\n",
      "[CV] ........ max_depth=2, n_estimators=5, score=-8.880, total=   0.5s\n",
      "[CV] max_depth=2, n_estimators=5 .....................................\n",
      "[CV] ....... max_depth=2, n_estimators=5, score=-10.408, total=   0.5s\n",
      "[CV] max_depth=2, n_estimators=5 .....................................\n",
      "[CV] ........ max_depth=2, n_estimators=5, score=-9.957, total=   0.5s\n",
      "[CV] max_depth=2, n_estimators=5 .....................................\n",
      "[CV] ....... max_depth=2, n_estimators=5, score=-10.789, total=   0.5s\n",
      "[CV] max_depth=2, n_estimators=6 .....................................\n",
      "[CV] ........ max_depth=2, n_estimators=6, score=-9.620, total=   0.6s\n",
      "[CV] max_depth=2, n_estimators=6 .....................................\n",
      "[CV] ........ max_depth=2, n_estimators=6, score=-8.895, total=   0.7s\n",
      "[CV] max_depth=2, n_estimators=6 .....................................\n",
      "[CV] ....... max_depth=2, n_estimators=6, score=-10.604, total=   0.6s\n",
      "[CV] max_depth=2, n_estimators=6 .....................................\n",
      "[CV] ........ max_depth=2, n_estimators=6, score=-9.899, total=   0.6s\n",
      "[CV] max_depth=2, n_estimators=6 .....................................\n",
      "[CV] ....... max_depth=2, n_estimators=6, score=-10.776, total=   0.6s\n",
      "[CV] max_depth=2, n_estimators=7 .....................................\n",
      "[CV] ........ max_depth=2, n_estimators=7, score=-9.644, total=   0.6s\n",
      "[CV] max_depth=2, n_estimators=7 .....................................\n",
      "[CV] ........ max_depth=2, n_estimators=7, score=-8.829, total=   0.6s\n",
      "[CV] max_depth=2, n_estimators=7 .....................................\n",
      "[CV] ....... max_depth=2, n_estimators=7, score=-10.808, total=   0.7s\n",
      "[CV] max_depth=2, n_estimators=7 .....................................\n",
      "[CV] ........ max_depth=2, n_estimators=7, score=-9.915, total=   0.6s\n",
      "[CV] max_depth=2, n_estimators=7 .....................................\n",
      "[CV] ....... max_depth=2, n_estimators=7, score=-10.840, total=   0.6s\n",
      "[CV] max_depth=2, n_estimators=8 .....................................\n",
      "[CV] ........ max_depth=2, n_estimators=8, score=-9.633, total=   0.7s\n",
      "[CV] max_depth=2, n_estimators=8 .....................................\n",
      "[CV] ........ max_depth=2, n_estimators=8, score=-8.796, total=   0.7s\n",
      "[CV] max_depth=2, n_estimators=8 .....................................\n",
      "[CV] ....... max_depth=2, n_estimators=8, score=-10.989, total=   0.7s\n",
      "[CV] max_depth=2, n_estimators=8 .....................................\n",
      "[CV] ........ max_depth=2, n_estimators=8, score=-9.928, total=   0.8s\n",
      "[CV] max_depth=2, n_estimators=8 .....................................\n",
      "[CV] ....... max_depth=2, n_estimators=8, score=-10.814, total=   0.7s\n",
      "[CV] max_depth=2, n_estimators=9 .....................................\n",
      "[CV] ........ max_depth=2, n_estimators=9, score=-9.630, total=   0.8s\n",
      "[CV] max_depth=2, n_estimators=9 .....................................\n",
      "[CV] ........ max_depth=2, n_estimators=9, score=-8.806, total=   0.8s\n",
      "[CV] max_depth=2, n_estimators=9 .....................................\n",
      "[CV] ....... max_depth=2, n_estimators=9, score=-11.123, total=   0.9s\n",
      "[CV] max_depth=2, n_estimators=9 .....................................\n",
      "[CV] ........ max_depth=2, n_estimators=9, score=-9.935, total=   0.8s\n",
      "[CV] max_depth=2, n_estimators=9 .....................................\n",
      "[CV] ....... max_depth=2, n_estimators=9, score=-10.840, total=   0.8s\n",
      "[CV] max_depth=2, n_estimators=10 ....................................\n",
      "[CV] ....... max_depth=2, n_estimators=10, score=-9.648, total=   0.9s\n",
      "[CV] max_depth=2, n_estimators=10 ....................................\n",
      "[CV] ....... max_depth=2, n_estimators=10, score=-8.803, total=   0.9s\n",
      "[CV] max_depth=2, n_estimators=10 ....................................\n",
      "[CV] ...... max_depth=2, n_estimators=10, score=-11.221, total=   0.9s\n",
      "[CV] max_depth=2, n_estimators=10 ....................................\n",
      "[CV] ....... max_depth=2, n_estimators=10, score=-9.934, total=   0.9s\n",
      "[CV] max_depth=2, n_estimators=10 ....................................\n",
      "[CV] ...... max_depth=2, n_estimators=10, score=-10.826, total=   0.9s\n",
      "[CV] max_depth=2, n_estimators=11 ....................................\n",
      "[CV] ....... max_depth=2, n_estimators=11, score=-9.660, total=   1.0s\n",
      "[CV] max_depth=2, n_estimators=11 ....................................\n",
      "[CV] ....... max_depth=2, n_estimators=11, score=-8.766, total=   1.0s\n",
      "[CV] max_depth=2, n_estimators=11 ....................................\n",
      "[CV] ...... max_depth=2, n_estimators=11, score=-11.327, total=   1.0s\n",
      "[CV] max_depth=2, n_estimators=11 ....................................\n",
      "[CV] ....... max_depth=2, n_estimators=11, score=-9.927, total=   1.0s\n",
      "[CV] max_depth=2, n_estimators=11 ....................................\n",
      "[CV] ...... max_depth=2, n_estimators=11, score=-10.800, total=   1.0s\n",
      "[CV] max_depth=2, n_estimators=12 ....................................\n",
      "[CV] ....... max_depth=2, n_estimators=12, score=-9.656, total=   1.1s\n",
      "[CV] max_depth=2, n_estimators=12 ....................................\n",
      "[CV] ....... max_depth=2, n_estimators=12, score=-8.746, total=   1.2s\n",
      "[CV] max_depth=2, n_estimators=12 ....................................\n",
      "[CV] ...... max_depth=2, n_estimators=12, score=-11.413, total=   1.1s\n",
      "[CV] max_depth=2, n_estimators=12 ....................................\n",
      "[CV] ....... max_depth=2, n_estimators=12, score=-9.929, total=   1.1s\n",
      "[CV] max_depth=2, n_estimators=12 ....................................\n",
      "[CV] ...... max_depth=2, n_estimators=12, score=-10.794, total=   1.3s\n",
      "[CV] max_depth=2, n_estimators=13 ....................................\n",
      "[CV] ....... max_depth=2, n_estimators=13, score=-9.665, total=   1.2s\n",
      "[CV] max_depth=2, n_estimators=13 ....................................\n",
      "[CV] ....... max_depth=2, n_estimators=13, score=-8.760, total=   1.2s\n",
      "[CV] max_depth=2, n_estimators=13 ....................................\n",
      "[CV] ...... max_depth=2, n_estimators=13, score=-11.348, total=   1.2s\n",
      "[CV] max_depth=2, n_estimators=13 ....................................\n",
      "[CV] ....... max_depth=2, n_estimators=13, score=-9.932, total=   1.3s\n",
      "[CV] max_depth=2, n_estimators=13 ....................................\n",
      "[CV] ...... max_depth=2, n_estimators=13, score=-10.802, total=   1.2s\n",
      "[CV] max_depth=2, n_estimators=14 ....................................\n",
      "[CV] ....... max_depth=2, n_estimators=14, score=-9.662, total=   1.3s\n",
      "[CV] max_depth=2, n_estimators=14 ....................................\n",
      "[CV] ....... max_depth=2, n_estimators=14, score=-8.745, total=   1.6s\n",
      "[CV] max_depth=2, n_estimators=14 ....................................\n",
      "[CV] ...... max_depth=2, n_estimators=14, score=-11.394, total=   1.3s\n",
      "[CV] max_depth=2, n_estimators=14 ....................................\n",
      "[CV] ....... max_depth=2, n_estimators=14, score=-9.933, total=   1.5s\n",
      "[CV] max_depth=2, n_estimators=14 ....................................\n",
      "[CV] ...... max_depth=2, n_estimators=14, score=-10.815, total=   1.3s\n",
      "[CV] max_depth=2, n_estimators=15 ....................................\n",
      "[CV] ....... max_depth=2, n_estimators=15, score=-9.655, total=   1.4s\n",
      "[CV] max_depth=2, n_estimators=15 ....................................\n",
      "[CV] ....... max_depth=2, n_estimators=15, score=-8.733, total=   1.5s\n",
      "[CV] max_depth=2, n_estimators=15 ....................................\n",
      "[CV] ...... max_depth=2, n_estimators=15, score=-11.250, total=   1.5s\n",
      "[CV] max_depth=2, n_estimators=15 ....................................\n",
      "[CV] ....... max_depth=2, n_estimators=15, score=-9.943, total=   1.4s\n",
      "[CV] max_depth=2, n_estimators=15 ....................................\n",
      "[CV] ...... max_depth=2, n_estimators=15, score=-10.811, total=   1.5s\n",
      "[CV] max_depth=2, n_estimators=16 ....................................\n",
      "[CV] ....... max_depth=2, n_estimators=16, score=-9.653, total=   1.4s\n",
      "[CV] max_depth=2, n_estimators=16 ....................................\n",
      "[CV] ....... max_depth=2, n_estimators=16, score=-8.725, total=   1.6s\n",
      "[CV] max_depth=2, n_estimators=16 ....................................\n",
      "[CV] ...... max_depth=2, n_estimators=16, score=-11.319, total=   1.7s\n",
      "[CV] max_depth=2, n_estimators=16 ....................................\n",
      "[CV] ....... max_depth=2, n_estimators=16, score=-9.945, total=   1.5s\n",
      "[CV] max_depth=2, n_estimators=16 ....................................\n",
      "[CV] ...... max_depth=2, n_estimators=16, score=-10.805, total=   1.5s\n",
      "[CV] max_depth=2, n_estimators=17 ....................................\n",
      "[CV] ....... max_depth=2, n_estimators=17, score=-9.654, total=   1.6s\n",
      "[CV] max_depth=2, n_estimators=17 ....................................\n",
      "[CV] ....... max_depth=2, n_estimators=17, score=-8.720, total=   1.6s\n",
      "[CV] max_depth=2, n_estimators=17 ....................................\n",
      "[CV] ...... max_depth=2, n_estimators=17, score=-11.379, total=   1.5s\n",
      "[CV] max_depth=2, n_estimators=17 ....................................\n",
      "[CV] ....... max_depth=2, n_estimators=17, score=-9.947, total=   1.5s\n",
      "[CV] max_depth=2, n_estimators=17 ....................................\n",
      "[CV] ...... max_depth=2, n_estimators=17, score=-10.791, total=   1.6s\n",
      "[CV] max_depth=2, n_estimators=18 ....................................\n",
      "[CV] ....... max_depth=2, n_estimators=18, score=-9.661, total=   1.7s\n",
      "[CV] max_depth=2, n_estimators=18 ....................................\n",
      "[CV] ....... max_depth=2, n_estimators=18, score=-8.718, total=   1.7s\n",
      "[CV] max_depth=2, n_estimators=18 ....................................\n",
      "[CV] ...... max_depth=2, n_estimators=18, score=-11.430, total=   1.7s\n",
      "[CV] max_depth=2, n_estimators=18 ....................................\n",
      "[CV] ....... max_depth=2, n_estimators=18, score=-9.950, total=   1.6s\n",
      "[CV] max_depth=2, n_estimators=18 ....................................\n",
      "[CV] ...... max_depth=2, n_estimators=18, score=-10.791, total=   1.7s\n",
      "[CV] max_depth=2, n_estimators=19 ....................................\n",
      "[CV] ....... max_depth=2, n_estimators=19, score=-9.661, total=   1.7s\n",
      "[CV] max_depth=2, n_estimators=19 ....................................\n",
      "[CV] ....... max_depth=2, n_estimators=19, score=-8.718, total=   1.7s\n",
      "[CV] max_depth=2, n_estimators=19 ....................................\n",
      "[CV] ...... max_depth=2, n_estimators=19, score=-11.274, total=   1.8s\n",
      "[CV] max_depth=2, n_estimators=19 ....................................\n",
      "[CV] ....... max_depth=2, n_estimators=19, score=-9.952, total=   1.7s\n",
      "[CV] max_depth=2, n_estimators=19 ....................................\n",
      "[CV] ...... max_depth=2, n_estimators=19, score=-10.793, total=   1.8s\n",
      "[CV] max_depth=3, n_estimators=1 .....................................\n",
      "[CV] ....... max_depth=3, n_estimators=1, score=-10.037, total=   0.1s\n",
      "[CV] max_depth=3, n_estimators=1 .....................................\n",
      "[CV] ........ max_depth=3, n_estimators=1, score=-9.721, total=   0.1s\n",
      "[CV] max_depth=3, n_estimators=1 .....................................\n",
      "[CV] ....... max_depth=3, n_estimators=1, score=-12.198, total=   0.1s\n",
      "[CV] max_depth=3, n_estimators=1 .....................................\n",
      "[CV] ........ max_depth=3, n_estimators=1, score=-9.610, total=   0.1s\n",
      "[CV] max_depth=3, n_estimators=1 .....................................\n",
      "[CV] ....... max_depth=3, n_estimators=1, score=-11.067, total=   0.1s\n",
      "[CV] max_depth=3, n_estimators=2 .....................................\n",
      "[CV] ....... max_depth=3, n_estimators=2, score=-10.134, total=   0.3s\n",
      "[CV] max_depth=3, n_estimators=2 .....................................\n",
      "[CV] ........ max_depth=3, n_estimators=2, score=-9.479, total=   0.3s\n",
      "[CV] max_depth=3, n_estimators=2 .....................................\n",
      "[CV] ....... max_depth=3, n_estimators=2, score=-11.743, total=   0.3s\n",
      "[CV] max_depth=3, n_estimators=2 .....................................\n",
      "[CV] ........ max_depth=3, n_estimators=2, score=-9.655, total=   0.3s\n",
      "[CV] max_depth=3, n_estimators=2 .....................................\n",
      "[CV] ....... max_depth=3, n_estimators=2, score=-10.250, total=   0.3s\n",
      "[CV] max_depth=3, n_estimators=3 .....................................\n",
      "[CV] ........ max_depth=3, n_estimators=3, score=-9.921, total=   0.4s\n",
      "[CV] max_depth=3, n_estimators=3 .....................................\n",
      "[CV] ........ max_depth=3, n_estimators=3, score=-9.227, total=   0.4s\n",
      "[CV] max_depth=3, n_estimators=3 .....................................\n",
      "[CV] ....... max_depth=3, n_estimators=3, score=-10.964, total=   0.4s\n",
      "[CV] max_depth=3, n_estimators=3 .....................................\n",
      "[CV] ........ max_depth=3, n_estimators=3, score=-9.655, total=   0.4s\n",
      "[CV] max_depth=3, n_estimators=3 .....................................\n",
      "[CV] ....... max_depth=3, n_estimators=3, score=-10.059, total=   0.5s\n",
      "[CV] max_depth=3, n_estimators=4 .....................................\n",
      "[CV] ........ max_depth=3, n_estimators=4, score=-9.828, total=   0.8s\n",
      "[CV] max_depth=3, n_estimators=4 .....................................\n",
      "[CV] ........ max_depth=3, n_estimators=4, score=-9.294, total=   0.7s\n",
      "[CV] max_depth=3, n_estimators=4 .....................................\n",
      "[CV] ....... max_depth=3, n_estimators=4, score=-10.831, total=   0.7s\n",
      "[CV] max_depth=3, n_estimators=4 .....................................\n",
      "[CV] ........ max_depth=3, n_estimators=4, score=-9.677, total=   0.6s\n",
      "[CV] max_depth=3, n_estimators=4 .....................................\n",
      "[CV] ........ max_depth=3, n_estimators=4, score=-9.982, total=   0.5s\n",
      "[CV] max_depth=3, n_estimators=5 .....................................\n",
      "[CV] ........ max_depth=3, n_estimators=5, score=-9.914, total=   0.7s\n",
      "[CV] max_depth=3, n_estimators=5 .....................................\n",
      "[CV] ........ max_depth=3, n_estimators=5, score=-9.284, total=   0.7s\n",
      "[CV] max_depth=3, n_estimators=5 .....................................\n",
      "[CV] ....... max_depth=3, n_estimators=5, score=-11.049, total=   0.7s\n",
      "[CV] max_depth=3, n_estimators=5 .....................................\n",
      "[CV] ........ max_depth=3, n_estimators=5, score=-9.640, total=   0.7s\n",
      "[CV] max_depth=3, n_estimators=5 .....................................\n",
      "[CV] ....... max_depth=3, n_estimators=5, score=-10.172, total=   0.7s\n",
      "[CV] max_depth=3, n_estimators=6 .....................................\n",
      "[CV] ........ max_depth=3, n_estimators=6, score=-9.880, total=   0.8s\n",
      "[CV] max_depth=3, n_estimators=6 .....................................\n",
      "[CV] ........ max_depth=3, n_estimators=6, score=-9.230, total=   0.8s\n",
      "[CV] max_depth=3, n_estimators=6 .....................................\n",
      "[CV] ....... max_depth=3, n_estimators=6, score=-11.139, total=   0.8s\n",
      "[CV] max_depth=3, n_estimators=6 .....................................\n",
      "[CV] ........ max_depth=3, n_estimators=6, score=-9.517, total=   0.8s\n",
      "[CV] max_depth=3, n_estimators=6 .....................................\n",
      "[CV] ....... max_depth=3, n_estimators=6, score=-10.282, total=   0.8s\n",
      "[CV] max_depth=3, n_estimators=7 .....................................\n",
      "[CV] ........ max_depth=3, n_estimators=7, score=-9.863, total=   0.9s\n",
      "[CV] max_depth=3, n_estimators=7 .....................................\n",
      "[CV] ........ max_depth=3, n_estimators=7, score=-9.177, total=   0.9s\n",
      "[CV] max_depth=3, n_estimators=7 .....................................\n",
      "[CV] ....... max_depth=3, n_estimators=7, score=-11.322, total=   0.9s\n",
      "[CV] max_depth=3, n_estimators=7 .....................................\n",
      "[CV] ........ max_depth=3, n_estimators=7, score=-9.491, total=   0.9s\n",
      "[CV] max_depth=3, n_estimators=7 .....................................\n",
      "[CV] ....... max_depth=3, n_estimators=7, score=-10.391, total=   0.9s\n",
      "[CV] max_depth=3, n_estimators=8 .....................................\n",
      "[CV] ........ max_depth=3, n_estimators=8, score=-9.845, total=   1.1s\n",
      "[CV] max_depth=3, n_estimators=8 .....................................\n",
      "[CV] ........ max_depth=3, n_estimators=8, score=-9.110, total=   1.1s\n",
      "[CV] max_depth=3, n_estimators=8 .....................................\n",
      "[CV] ....... max_depth=3, n_estimators=8, score=-11.407, total=   1.1s\n",
      "[CV] max_depth=3, n_estimators=8 .....................................\n",
      "[CV] ........ max_depth=3, n_estimators=8, score=-9.559, total=   1.1s\n",
      "[CV] max_depth=3, n_estimators=8 .....................................\n",
      "[CV] ....... max_depth=3, n_estimators=8, score=-10.302, total=   1.1s\n",
      "[CV] max_depth=3, n_estimators=9 .....................................\n",
      "[CV] ........ max_depth=3, n_estimators=9, score=-9.851, total=   1.2s\n",
      "[CV] max_depth=3, n_estimators=9 .....................................\n",
      "[CV] ........ max_depth=3, n_estimators=9, score=-9.111, total=   1.2s\n",
      "[CV] max_depth=3, n_estimators=9 .....................................\n",
      "[CV] ....... max_depth=3, n_estimators=9, score=-11.456, total=   1.2s\n",
      "[CV] max_depth=3, n_estimators=9 .....................................\n",
      "[CV] ........ max_depth=3, n_estimators=9, score=-9.592, total=   1.2s\n",
      "[CV] max_depth=3, n_estimators=9 .....................................\n",
      "[CV] ....... max_depth=3, n_estimators=9, score=-10.377, total=   1.2s\n",
      "[CV] max_depth=3, n_estimators=10 ....................................\n",
      "[CV] ....... max_depth=3, n_estimators=10, score=-9.841, total=   1.3s\n",
      "[CV] max_depth=3, n_estimators=10 ....................................\n",
      "[CV] ....... max_depth=3, n_estimators=10, score=-9.101, total=   1.3s\n",
      "[CV] max_depth=3, n_estimators=10 ....................................\n",
      "[CV] ...... max_depth=3, n_estimators=10, score=-11.514, total=   1.3s\n",
      "[CV] max_depth=3, n_estimators=10 ....................................\n",
      "[CV] ....... max_depth=3, n_estimators=10, score=-9.568, total=   1.4s\n",
      "[CV] max_depth=3, n_estimators=10 ....................................\n",
      "[CV] ...... max_depth=3, n_estimators=10, score=-10.329, total=   1.4s\n",
      "[CV] max_depth=3, n_estimators=11 ....................................\n",
      "[CV] ....... max_depth=3, n_estimators=11, score=-9.827, total=   1.5s\n",
      "[CV] max_depth=3, n_estimators=11 ....................................\n",
      "[CV] ....... max_depth=3, n_estimators=11, score=-9.075, total=   1.7s\n",
      "[CV] max_depth=3, n_estimators=11 ....................................\n",
      "[CV] ...... max_depth=3, n_estimators=11, score=-11.574, total=   1.4s\n",
      "[CV] max_depth=3, n_estimators=11 ....................................\n",
      "[CV] ....... max_depth=3, n_estimators=11, score=-9.537, total=   1.6s\n",
      "[CV] max_depth=3, n_estimators=11 ....................................\n",
      "[CV] ...... max_depth=3, n_estimators=11, score=-10.248, total=   1.5s\n",
      "[CV] max_depth=3, n_estimators=12 ....................................\n",
      "[CV] ....... max_depth=3, n_estimators=12, score=-9.824, total=   1.6s\n",
      "[CV] max_depth=3, n_estimators=12 ....................................\n",
      "[CV] ....... max_depth=3, n_estimators=12, score=-9.068, total=   1.6s\n",
      "[CV] max_depth=3, n_estimators=12 ....................................\n",
      "[CV] ...... max_depth=3, n_estimators=12, score=-11.582, total=   1.6s\n",
      "[CV] max_depth=3, n_estimators=12 ....................................\n",
      "[CV] ....... max_depth=3, n_estimators=12, score=-9.529, total=   1.6s\n",
      "[CV] max_depth=3, n_estimators=12 ....................................\n",
      "[CV] ...... max_depth=3, n_estimators=12, score=-10.219, total=   1.6s\n",
      "[CV] max_depth=3, n_estimators=13 ....................................\n",
      "[CV] ....... max_depth=3, n_estimators=13, score=-9.820, total=   1.7s\n",
      "[CV] max_depth=3, n_estimators=13 ....................................\n",
      "[CV] ....... max_depth=3, n_estimators=13, score=-9.070, total=   1.8s\n",
      "[CV] max_depth=3, n_estimators=13 ....................................\n",
      "[CV] ...... max_depth=3, n_estimators=13, score=-11.523, total=   1.7s\n",
      "[CV] max_depth=3, n_estimators=13 ....................................\n",
      "[CV] ....... max_depth=3, n_estimators=13, score=-9.532, total=   1.7s\n",
      "[CV] max_depth=3, n_estimators=13 ....................................\n",
      "[CV] ...... max_depth=3, n_estimators=13, score=-10.261, total=   1.7s\n",
      "[CV] max_depth=3, n_estimators=14 ....................................\n",
      "[CV] ....... max_depth=3, n_estimators=14, score=-9.832, total=   1.8s\n",
      "[CV] max_depth=3, n_estimators=14 ....................................\n",
      "[CV] ....... max_depth=3, n_estimators=14, score=-9.060, total=   1.9s\n",
      "[CV] max_depth=3, n_estimators=14 ....................................\n",
      "[CV] ...... max_depth=3, n_estimators=14, score=-11.471, total=   1.8s\n",
      "[CV] max_depth=3, n_estimators=14 ....................................\n",
      "[CV] ....... max_depth=3, n_estimators=14, score=-9.523, total=   1.8s\n",
      "[CV] max_depth=3, n_estimators=14 ....................................\n",
      "[CV] ...... max_depth=3, n_estimators=14, score=-10.299, total=   1.9s\n",
      "[CV] max_depth=3, n_estimators=15 ....................................\n",
      "[CV] ....... max_depth=3, n_estimators=15, score=-9.828, total=   2.1s\n",
      "[CV] max_depth=3, n_estimators=15 ....................................\n",
      "[CV] ....... max_depth=3, n_estimators=15, score=-9.056, total=   2.0s\n",
      "[CV] max_depth=3, n_estimators=15 ....................................\n",
      "[CV] ...... max_depth=3, n_estimators=15, score=-11.309, total=   2.1s\n",
      "[CV] max_depth=3, n_estimators=15 ....................................\n",
      "[CV] ....... max_depth=3, n_estimators=15, score=-9.531, total=   2.2s\n",
      "[CV] max_depth=3, n_estimators=15 ....................................\n",
      "[CV] ...... max_depth=3, n_estimators=15, score=-10.260, total=   2.0s\n",
      "[CV] max_depth=3, n_estimators=16 ....................................\n",
      "[CV] ....... max_depth=3, n_estimators=16, score=-9.821, total=   2.1s\n",
      "[CV] max_depth=3, n_estimators=16 ....................................\n",
      "[CV] ....... max_depth=3, n_estimators=16, score=-9.049, total=   2.1s\n",
      "[CV] max_depth=3, n_estimators=16 ....................................\n",
      "[CV] ...... max_depth=3, n_estimators=16, score=-11.368, total=   2.1s\n",
      "[CV] max_depth=3, n_estimators=16 ....................................\n",
      "[CV] ....... max_depth=3, n_estimators=16, score=-9.530, total=   2.2s\n",
      "[CV] max_depth=3, n_estimators=16 ....................................\n",
      "[CV] ...... max_depth=3, n_estimators=16, score=-10.293, total=   2.1s\n",
      "[CV] max_depth=3, n_estimators=17 ....................................\n",
      "[CV] ....... max_depth=3, n_estimators=17, score=-9.824, total=   2.4s\n",
      "[CV] max_depth=3, n_estimators=17 ....................................\n",
      "[CV] ....... max_depth=3, n_estimators=17, score=-9.043, total=   2.3s\n",
      "[CV] max_depth=3, n_estimators=17 ....................................\n",
      "[CV] ...... max_depth=3, n_estimators=17, score=-11.438, total=   2.3s\n",
      "[CV] max_depth=3, n_estimators=17 ....................................\n",
      "[CV] ....... max_depth=3, n_estimators=17, score=-9.525, total=   2.2s\n",
      "[CV] max_depth=3, n_estimators=17 ....................................\n",
      "[CV] ...... max_depth=3, n_estimators=17, score=-10.307, total=   2.3s\n",
      "[CV] max_depth=3, n_estimators=18 ....................................\n",
      "[CV] ....... max_depth=3, n_estimators=18, score=-9.845, total=   2.4s\n",
      "[CV] max_depth=3, n_estimators=18 ....................................\n",
      "[CV] ....... max_depth=3, n_estimators=18, score=-9.034, total=   2.4s\n",
      "[CV] max_depth=3, n_estimators=18 ....................................\n",
      "[CV] ...... max_depth=3, n_estimators=18, score=-11.456, total=   2.3s\n",
      "[CV] max_depth=3, n_estimators=18 ....................................\n",
      "[CV] ....... max_depth=3, n_estimators=18, score=-9.534, total=   2.4s\n",
      "[CV] max_depth=3, n_estimators=18 ....................................\n",
      "[CV] ...... max_depth=3, n_estimators=18, score=-10.273, total=   2.5s\n",
      "[CV] max_depth=3, n_estimators=19 ....................................\n",
      "[CV] ....... max_depth=3, n_estimators=19, score=-9.835, total=   2.5s\n",
      "[CV] max_depth=3, n_estimators=19 ....................................\n",
      "[CV] ....... max_depth=3, n_estimators=19, score=-9.018, total=   2.7s\n",
      "[CV] max_depth=3, n_estimators=19 ....................................\n",
      "[CV] ...... max_depth=3, n_estimators=19, score=-11.291, total=   2.5s\n",
      "[CV] max_depth=3, n_estimators=19 ....................................\n",
      "[CV] ....... max_depth=3, n_estimators=19, score=-9.540, total=   2.7s\n",
      "[CV] max_depth=3, n_estimators=19 ....................................\n",
      "[CV] ...... max_depth=3, n_estimators=19, score=-10.266, total=   2.7s\n",
      "[CV] max_depth=4, n_estimators=1 .....................................\n",
      "[CV] ....... max_depth=4, n_estimators=1, score=-11.281, total=   0.2s\n",
      "[CV] max_depth=4, n_estimators=1 .....................................\n",
      "[CV] ........ max_depth=4, n_estimators=1, score=-9.724, total=   0.2s\n",
      "[CV] max_depth=4, n_estimators=1 .....................................\n",
      "[CV] ....... max_depth=4, n_estimators=1, score=-12.623, total=   0.2s\n",
      "[CV] max_depth=4, n_estimators=1 .....................................\n",
      "[CV] ........ max_depth=4, n_estimators=1, score=-9.985, total=   0.2s\n",
      "[CV] max_depth=4, n_estimators=1 .....................................\n",
      "[CV] ....... max_depth=4, n_estimators=1, score=-11.508, total=   0.2s\n",
      "[CV] max_depth=4, n_estimators=2 .....................................\n",
      "[CV] ....... max_depth=4, n_estimators=2, score=-10.026, total=   0.3s\n",
      "[CV] max_depth=4, n_estimators=2 .....................................\n",
      "[CV] ........ max_depth=4, n_estimators=2, score=-9.781, total=   0.4s\n",
      "[CV] max_depth=4, n_estimators=2 .....................................\n",
      "[CV] ....... max_depth=4, n_estimators=2, score=-10.898, total=   0.4s\n",
      "[CV] max_depth=4, n_estimators=2 .....................................\n",
      "[CV] ........ max_depth=4, n_estimators=2, score=-9.676, total=   0.4s\n",
      "[CV] max_depth=4, n_estimators=2 .....................................\n",
      "[CV] ....... max_depth=4, n_estimators=2, score=-10.233, total=   0.4s\n",
      "[CV] max_depth=4, n_estimators=3 .....................................\n",
      "[CV] ....... max_depth=4, n_estimators=3, score=-10.181, total=   0.5s\n",
      "[CV] max_depth=4, n_estimators=3 .....................................\n",
      "[CV] ........ max_depth=4, n_estimators=3, score=-9.565, total=   0.5s\n",
      "[CV] max_depth=4, n_estimators=3 .....................................\n",
      "[CV] ....... max_depth=4, n_estimators=3, score=-10.378, total=   0.5s\n",
      "[CV] max_depth=4, n_estimators=3 .....................................\n",
      "[CV] ........ max_depth=4, n_estimators=3, score=-9.565, total=   0.6s\n",
      "[CV] max_depth=4, n_estimators=3 .....................................\n",
      "[CV] ........ max_depth=4, n_estimators=3, score=-9.580, total=   0.6s\n",
      "[CV] max_depth=4, n_estimators=4 .....................................\n",
      "[CV] ....... max_depth=4, n_estimators=4, score=-10.312, total=   0.7s\n",
      "[CV] max_depth=4, n_estimators=4 .....................................\n",
      "[CV] ........ max_depth=4, n_estimators=4, score=-9.645, total=   0.7s\n",
      "[CV] max_depth=4, n_estimators=4 .....................................\n",
      "[CV] ....... max_depth=4, n_estimators=4, score=-10.139, total=   0.8s\n",
      "[CV] max_depth=4, n_estimators=4 .....................................\n",
      "[CV] ........ max_depth=4, n_estimators=4, score=-9.551, total=   0.7s\n",
      "[CV] max_depth=4, n_estimators=4 .....................................\n",
      "[CV] ........ max_depth=4, n_estimators=4, score=-9.639, total=   0.7s\n",
      "[CV] max_depth=4, n_estimators=5 .....................................\n",
      "[CV] ....... max_depth=4, n_estimators=5, score=-10.062, total=   0.9s\n",
      "[CV] max_depth=4, n_estimators=5 .....................................\n",
      "[CV] ........ max_depth=4, n_estimators=5, score=-9.512, total=   0.9s\n",
      "[CV] max_depth=4, n_estimators=5 .....................................\n",
      "[CV] ....... max_depth=4, n_estimators=5, score=-10.081, total=   0.9s\n",
      "[CV] max_depth=4, n_estimators=5 .....................................\n",
      "[CV] ........ max_depth=4, n_estimators=5, score=-9.355, total=   0.9s\n",
      "[CV] max_depth=4, n_estimators=5 .....................................\n",
      "[CV] ........ max_depth=4, n_estimators=5, score=-9.743, total=   0.9s\n",
      "[CV] max_depth=4, n_estimators=6 .....................................\n",
      "[CV] ....... max_depth=4, n_estimators=6, score=-10.138, total=   1.0s\n",
      "[CV] max_depth=4, n_estimators=6 .....................................\n",
      "[CV] ........ max_depth=4, n_estimators=6, score=-9.498, total=   1.1s\n",
      "[CV] max_depth=4, n_estimators=6 .....................................\n",
      "[CV] ....... max_depth=4, n_estimators=6, score=-10.357, total=   1.1s\n",
      "[CV] max_depth=4, n_estimators=6 .....................................\n",
      "[CV] ........ max_depth=4, n_estimators=6, score=-9.336, total=   1.1s\n",
      "[CV] max_depth=4, n_estimators=6 .....................................\n",
      "[CV] ........ max_depth=4, n_estimators=6, score=-9.789, total=   1.0s\n",
      "[CV] max_depth=4, n_estimators=7 .....................................\n",
      "[CV] ....... max_depth=4, n_estimators=7, score=-10.018, total=   1.3s\n",
      "[CV] max_depth=4, n_estimators=7 .....................................\n",
      "[CV] ........ max_depth=4, n_estimators=7, score=-9.422, total=   1.2s\n",
      "[CV] max_depth=4, n_estimators=7 .....................................\n",
      "[CV] ....... max_depth=4, n_estimators=7, score=-10.635, total=   1.2s\n",
      "[CV] max_depth=4, n_estimators=7 .....................................\n",
      "[CV] ........ max_depth=4, n_estimators=7, score=-9.374, total=   1.2s\n",
      "[CV] max_depth=4, n_estimators=7 .....................................\n",
      "[CV] ........ max_depth=4, n_estimators=7, score=-9.861, total=   1.2s\n",
      "[CV] max_depth=4, n_estimators=8 .....................................\n",
      "[CV] ........ max_depth=4, n_estimators=8, score=-9.961, total=   1.4s\n",
      "[CV] max_depth=4, n_estimators=8 .....................................\n",
      "[CV] ........ max_depth=4, n_estimators=8, score=-9.309, total=   1.4s\n",
      "[CV] max_depth=4, n_estimators=8 .....................................\n",
      "[CV] ....... max_depth=4, n_estimators=8, score=-10.823, total=   1.4s\n",
      "[CV] max_depth=4, n_estimators=8 .....................................\n",
      "[CV] ........ max_depth=4, n_estimators=8, score=-9.507, total=   1.4s\n",
      "[CV] max_depth=4, n_estimators=8 .....................................\n",
      "[CV] ........ max_depth=4, n_estimators=8, score=-9.683, total=   1.4s\n",
      "[CV] max_depth=4, n_estimators=9 .....................................\n",
      "[CV] ........ max_depth=4, n_estimators=9, score=-9.929, total=   1.5s\n",
      "[CV] max_depth=4, n_estimators=9 .....................................\n",
      "[CV] ........ max_depth=4, n_estimators=9, score=-9.360, total=   1.5s\n",
      "[CV] max_depth=4, n_estimators=9 .....................................\n",
      "[CV] ....... max_depth=4, n_estimators=9, score=-11.121, total=   1.5s\n",
      "[CV] max_depth=4, n_estimators=9 .....................................\n",
      "[CV] ........ max_depth=4, n_estimators=9, score=-9.436, total=   1.5s\n",
      "[CV] max_depth=4, n_estimators=9 .....................................\n",
      "[CV] ........ max_depth=4, n_estimators=9, score=-9.776, total=   1.6s\n",
      "[CV] max_depth=4, n_estimators=10 ....................................\n",
      "[CV] ....... max_depth=4, n_estimators=10, score=-9.946, total=   1.8s\n",
      "[CV] max_depth=4, n_estimators=10 ....................................\n",
      "[CV] ....... max_depth=4, n_estimators=10, score=-9.321, total=   1.8s\n",
      "[CV] max_depth=4, n_estimators=10 ....................................\n",
      "[CV] ...... max_depth=4, n_estimators=10, score=-11.238, total=   1.7s\n",
      "[CV] max_depth=4, n_estimators=10 ....................................\n",
      "[CV] ....... max_depth=4, n_estimators=10, score=-9.410, total=   1.8s\n",
      "[CV] max_depth=4, n_estimators=10 ....................................\n",
      "[CV] ....... max_depth=4, n_estimators=10, score=-9.807, total=   1.7s\n",
      "[CV] max_depth=4, n_estimators=11 ....................................\n",
      "[CV] ....... max_depth=4, n_estimators=11, score=-9.891, total=   1.9s\n",
      "[CV] max_depth=4, n_estimators=11 ....................................\n",
      "[CV] ....... max_depth=4, n_estimators=11, score=-9.339, total=   1.9s\n",
      "[CV] max_depth=4, n_estimators=11 ....................................\n",
      "[CV] ...... max_depth=4, n_estimators=11, score=-11.363, total=   2.0s\n",
      "[CV] max_depth=4, n_estimators=11 ....................................\n",
      "[CV] ....... max_depth=4, n_estimators=11, score=-9.480, total=   1.9s\n",
      "[CV] max_depth=4, n_estimators=11 ....................................\n",
      "[CV] ....... max_depth=4, n_estimators=11, score=-9.763, total=   2.0s\n",
      "[CV] max_depth=4, n_estimators=12 ....................................\n",
      "[CV] ....... max_depth=4, n_estimators=12, score=-9.943, total=   2.1s\n",
      "[CV] max_depth=4, n_estimators=12 ....................................\n",
      "[CV] ....... max_depth=4, n_estimators=12, score=-9.384, total=   2.0s\n",
      "[CV] max_depth=4, n_estimators=12 ....................................\n",
      "[CV] ...... max_depth=4, n_estimators=12, score=-11.383, total=   2.1s\n",
      "[CV] max_depth=4, n_estimators=12 ....................................\n",
      "[CV] ....... max_depth=4, n_estimators=12, score=-9.471, total=   2.1s\n",
      "[CV] max_depth=4, n_estimators=12 ....................................\n",
      "[CV] ....... max_depth=4, n_estimators=12, score=-9.793, total=   2.3s\n",
      "[CV] max_depth=4, n_estimators=13 ....................................\n",
      "[CV] ....... max_depth=4, n_estimators=13, score=-9.910, total=   2.5s\n",
      "[CV] max_depth=4, n_estimators=13 ....................................\n",
      "[CV] ....... max_depth=4, n_estimators=13, score=-9.363, total=   2.3s\n",
      "[CV] max_depth=4, n_estimators=13 ....................................\n",
      "[CV] ...... max_depth=4, n_estimators=13, score=-11.352, total=   2.2s\n",
      "[CV] max_depth=4, n_estimators=13 ....................................\n",
      "[CV] ....... max_depth=4, n_estimators=13, score=-9.461, total=   2.2s\n",
      "[CV] max_depth=4, n_estimators=13 ....................................\n",
      "[CV] ....... max_depth=4, n_estimators=13, score=-9.834, total=   2.4s\n",
      "[CV] max_depth=4, n_estimators=14 ....................................\n",
      "[CV] ....... max_depth=4, n_estimators=14, score=-9.879, total=   2.4s\n",
      "[CV] max_depth=4, n_estimators=14 ....................................\n",
      "[CV] ....... max_depth=4, n_estimators=14, score=-9.433, total=   2.4s\n",
      "[CV] max_depth=4, n_estimators=14 ....................................\n",
      "[CV] ...... max_depth=4, n_estimators=14, score=-11.238, total=   2.4s\n",
      "[CV] max_depth=4, n_estimators=14 ....................................\n",
      "[CV] ....... max_depth=4, n_estimators=14, score=-9.480, total=   2.4s\n",
      "[CV] max_depth=4, n_estimators=14 ....................................\n",
      "[CV] ....... max_depth=4, n_estimators=14, score=-9.847, total=   2.5s\n",
      "[CV] max_depth=4, n_estimators=15 ....................................\n",
      "[CV] ....... max_depth=4, n_estimators=15, score=-9.917, total=   2.7s\n",
      "[CV] max_depth=4, n_estimators=15 ....................................\n",
      "[CV] ....... max_depth=4, n_estimators=15, score=-9.450, total=   2.6s\n",
      "[CV] max_depth=4, n_estimators=15 ....................................\n",
      "[CV] ...... max_depth=4, n_estimators=15, score=-11.058, total=   2.5s\n",
      "[CV] max_depth=4, n_estimators=15 ....................................\n",
      "[CV] ....... max_depth=4, n_estimators=15, score=-9.477, total=   2.6s\n",
      "[CV] max_depth=4, n_estimators=15 ....................................\n",
      "[CV] ....... max_depth=4, n_estimators=15, score=-9.868, total=   2.5s\n",
      "[CV] max_depth=4, n_estimators=16 ....................................\n",
      "[CV] ....... max_depth=4, n_estimators=16, score=-9.942, total=   2.7s\n",
      "[CV] max_depth=4, n_estimators=16 ....................................\n",
      "[CV] ....... max_depth=4, n_estimators=16, score=-9.438, total=   2.8s\n",
      "[CV] max_depth=4, n_estimators=16 ....................................\n",
      "[CV] ...... max_depth=4, n_estimators=16, score=-11.139, total=   2.8s\n",
      "[CV] max_depth=4, n_estimators=16 ....................................\n",
      "[CV] ....... max_depth=4, n_estimators=16, score=-9.482, total=   2.8s\n",
      "[CV] max_depth=4, n_estimators=16 ....................................\n",
      "[CV] ....... max_depth=4, n_estimators=16, score=-9.898, total=   2.7s\n",
      "[CV] max_depth=4, n_estimators=17 ....................................\n",
      "[CV] ....... max_depth=4, n_estimators=17, score=-9.992, total=   2.9s\n",
      "[CV] max_depth=4, n_estimators=17 ....................................\n",
      "[CV] ....... max_depth=4, n_estimators=17, score=-9.457, total=   2.9s\n",
      "[CV] max_depth=4, n_estimators=17 ....................................\n",
      "[CV] ...... max_depth=4, n_estimators=17, score=-11.177, total=   2.9s\n",
      "[CV] max_depth=4, n_estimators=17 ....................................\n",
      "[CV] ....... max_depth=4, n_estimators=17, score=-9.485, total=   3.1s\n",
      "[CV] max_depth=4, n_estimators=17 ....................................\n",
      "[CV] ....... max_depth=4, n_estimators=17, score=-9.932, total=   2.9s\n",
      "[CV] max_depth=4, n_estimators=18 ....................................\n",
      "[CV] ....... max_depth=4, n_estimators=18, score=-9.933, total=   3.1s\n",
      "[CV] max_depth=4, n_estimators=18 ....................................\n",
      "[CV] ....... max_depth=4, n_estimators=18, score=-9.429, total=   3.2s\n",
      "[CV] max_depth=4, n_estimators=18 ....................................\n",
      "[CV] ...... max_depth=4, n_estimators=18, score=-11.223, total=   3.2s\n",
      "[CV] max_depth=4, n_estimators=18 ....................................\n",
      "[CV] ....... max_depth=4, n_estimators=18, score=-9.457, total=   3.2s\n",
      "[CV] max_depth=4, n_estimators=18 ....................................\n",
      "[CV] ....... max_depth=4, n_estimators=18, score=-9.929, total=   3.4s\n",
      "[CV] max_depth=4, n_estimators=19 ....................................\n",
      "[CV] ....... max_depth=4, n_estimators=19, score=-9.930, total=   3.2s\n",
      "[CV] max_depth=4, n_estimators=19 ....................................\n",
      "[CV] ....... max_depth=4, n_estimators=19, score=-9.395, total=   3.4s\n",
      "[CV] max_depth=4, n_estimators=19 ....................................\n",
      "[CV] ...... max_depth=4, n_estimators=19, score=-11.094, total=   3.2s\n",
      "[CV] max_depth=4, n_estimators=19 ....................................\n",
      "[CV] ....... max_depth=4, n_estimators=19, score=-9.428, total=   3.2s\n",
      "[CV] max_depth=4, n_estimators=19 ....................................\n",
      "[CV] ....... max_depth=4, n_estimators=19, score=-9.960, total=   3.2s\n",
      "[CV] max_depth=5, n_estimators=1 .....................................\n",
      "[CV] ........ max_depth=5, n_estimators=1, score=-9.945, total=   0.2s\n",
      "[CV] max_depth=5, n_estimators=1 .....................................\n",
      "[CV] ....... max_depth=5, n_estimators=1, score=-10.687, total=   0.2s\n",
      "[CV] max_depth=5, n_estimators=1 .....................................\n",
      "[CV] ....... max_depth=5, n_estimators=1, score=-12.317, total=   0.2s\n",
      "[CV] max_depth=5, n_estimators=1 .....................................\n",
      "[CV] ........ max_depth=5, n_estimators=1, score=-9.986, total=   0.2s\n",
      "[CV] max_depth=5, n_estimators=1 .....................................\n",
      "[CV] ....... max_depth=5, n_estimators=1, score=-11.544, total=   0.2s\n",
      "[CV] max_depth=5, n_estimators=2 .....................................\n",
      "[CV] ........ max_depth=5, n_estimators=2, score=-9.970, total=   0.4s\n",
      "[CV] max_depth=5, n_estimators=2 .....................................\n",
      "[CV] ....... max_depth=5, n_estimators=2, score=-10.186, total=   0.4s\n",
      "[CV] max_depth=5, n_estimators=2 .....................................\n",
      "[CV] ....... max_depth=5, n_estimators=2, score=-10.448, total=   0.4s\n",
      "[CV] max_depth=5, n_estimators=2 .....................................\n",
      "[CV] ........ max_depth=5, n_estimators=2, score=-9.723, total=   0.4s\n",
      "[CV] max_depth=5, n_estimators=2 .....................................\n",
      "[CV] ....... max_depth=5, n_estimators=2, score=-10.231, total=   0.4s\n",
      "[CV] max_depth=5, n_estimators=3 .....................................\n",
      "[CV] ........ max_depth=5, n_estimators=3, score=-9.768, total=   0.6s\n",
      "[CV] max_depth=5, n_estimators=3 .....................................\n",
      "[CV] ....... max_depth=5, n_estimators=3, score=-10.974, total=   0.6s\n",
      "[CV] max_depth=5, n_estimators=3 .....................................\n",
      "[CV] ........ max_depth=5, n_estimators=3, score=-9.870, total=   0.7s\n",
      "[CV] max_depth=5, n_estimators=3 .....................................\n",
      "[CV] ........ max_depth=5, n_estimators=3, score=-9.585, total=   0.7s\n",
      "[CV] max_depth=5, n_estimators=3 .....................................\n",
      "[CV] ....... max_depth=5, n_estimators=3, score=-10.453, total=   0.6s\n",
      "[CV] max_depth=5, n_estimators=4 .....................................\n",
      "[CV] ........ max_depth=5, n_estimators=4, score=-9.731, total=   0.8s\n",
      "[CV] max_depth=5, n_estimators=4 .....................................\n",
      "[CV] ....... max_depth=5, n_estimators=4, score=-10.440, total=   0.8s\n",
      "[CV] max_depth=5, n_estimators=4 .....................................\n",
      "[CV] ........ max_depth=5, n_estimators=4, score=-9.678, total=   0.8s\n",
      "[CV] max_depth=5, n_estimators=4 .....................................\n",
      "[CV] ........ max_depth=5, n_estimators=4, score=-9.502, total=   0.9s\n",
      "[CV] max_depth=5, n_estimators=4 .....................................\n",
      "[CV] ........ max_depth=5, n_estimators=4, score=-9.985, total=   0.8s\n",
      "[CV] max_depth=5, n_estimators=5 .....................................\n",
      "[CV] ........ max_depth=5, n_estimators=5, score=-9.855, total=   1.0s\n",
      "[CV] max_depth=5, n_estimators=5 .....................................\n",
      "[CV] ....... max_depth=5, n_estimators=5, score=-10.085, total=   1.2s\n",
      "[CV] max_depth=5, n_estimators=5 .....................................\n",
      "[CV] ........ max_depth=5, n_estimators=5, score=-9.681, total=   1.0s\n",
      "[CV] max_depth=5, n_estimators=5 .....................................\n",
      "[CV] ........ max_depth=5, n_estimators=5, score=-9.384, total=   1.0s\n",
      "[CV] max_depth=5, n_estimators=5 .....................................\n",
      "[CV] ........ max_depth=5, n_estimators=5, score=-9.836, total=   1.1s\n",
      "[CV] max_depth=5, n_estimators=6 .....................................\n",
      "[CV] ........ max_depth=5, n_estimators=6, score=-9.818, total=   1.3s\n",
      "[CV] max_depth=5, n_estimators=6 .....................................\n",
      "[CV] ....... max_depth=5, n_estimators=6, score=-10.031, total=   1.4s\n",
      "[CV] max_depth=5, n_estimators=6 .....................................\n",
      "[CV] ....... max_depth=5, n_estimators=6, score=-10.006, total=   1.3s\n",
      "[CV] max_depth=5, n_estimators=6 .....................................\n",
      "[CV] ........ max_depth=5, n_estimators=6, score=-9.394, total=   1.3s\n",
      "[CV] max_depth=5, n_estimators=6 .....................................\n",
      "[CV] ........ max_depth=5, n_estimators=6, score=-9.724, total=   1.3s\n",
      "[CV] max_depth=5, n_estimators=7 .....................................\n",
      "[CV] ........ max_depth=5, n_estimators=7, score=-9.877, total=   1.6s\n",
      "[CV] max_depth=5, n_estimators=7 .....................................\n",
      "[CV] ....... max_depth=5, n_estimators=7, score=-10.348, total=   1.5s\n",
      "[CV] max_depth=5, n_estimators=7 .....................................\n",
      "[CV] ....... max_depth=5, n_estimators=7, score=-11.181, total=   1.4s\n",
      "[CV] max_depth=5, n_estimators=7 .....................................\n",
      "[CV] ........ max_depth=5, n_estimators=7, score=-9.405, total=   1.5s\n",
      "[CV] max_depth=5, n_estimators=7 .....................................\n",
      "[CV] ........ max_depth=5, n_estimators=7, score=-9.798, total=   1.5s\n",
      "[CV] max_depth=5, n_estimators=8 .....................................\n",
      "[CV] ........ max_depth=5, n_estimators=8, score=-9.933, total=   1.7s\n",
      "[CV] max_depth=5, n_estimators=8 .....................................\n",
      "[CV] ....... max_depth=5, n_estimators=8, score=-10.075, total=   1.7s\n",
      "[CV] max_depth=5, n_estimators=8 .....................................\n",
      "[CV] ....... max_depth=5, n_estimators=8, score=-11.390, total=   1.7s\n",
      "[CV] max_depth=5, n_estimators=8 .....................................\n",
      "[CV] ........ max_depth=5, n_estimators=8, score=-9.492, total=   1.8s\n",
      "[CV] max_depth=5, n_estimators=8 .....................................\n",
      "[CV] ........ max_depth=5, n_estimators=8, score=-9.616, total=   1.7s\n",
      "[CV] max_depth=5, n_estimators=9 .....................................\n",
      "[CV] ........ max_depth=5, n_estimators=9, score=-9.979, total=   1.9s\n",
      "[CV] max_depth=5, n_estimators=9 .....................................\n",
      "[CV] ....... max_depth=5, n_estimators=9, score=-10.321, total=   1.9s\n",
      "[CV] max_depth=5, n_estimators=9 .....................................\n",
      "[CV] ....... max_depth=5, n_estimators=9, score=-11.355, total=   1.9s\n",
      "[CV] max_depth=5, n_estimators=9 .....................................\n",
      "[CV] ........ max_depth=5, n_estimators=9, score=-9.482, total=   1.9s\n",
      "[CV] max_depth=5, n_estimators=9 .....................................\n",
      "[CV] ........ max_depth=5, n_estimators=9, score=-9.634, total=   1.9s\n",
      "[CV] max_depth=5, n_estimators=10 ....................................\n",
      "[CV] ...... max_depth=5, n_estimators=10, score=-10.015, total=   2.2s\n",
      "[CV] max_depth=5, n_estimators=10 ....................................\n",
      "[CV] ...... max_depth=5, n_estimators=10, score=-10.133, total=   2.1s\n",
      "[CV] max_depth=5, n_estimators=10 ....................................\n",
      "[CV] ...... max_depth=5, n_estimators=10, score=-11.442, total=   2.0s\n",
      "[CV] max_depth=5, n_estimators=10 ....................................\n",
      "[CV] ....... max_depth=5, n_estimators=10, score=-9.430, total=   2.1s\n",
      "[CV] max_depth=5, n_estimators=10 ....................................\n",
      "[CV] ....... max_depth=5, n_estimators=10, score=-9.662, total=   2.2s\n",
      "[CV] max_depth=5, n_estimators=11 ....................................\n",
      "[CV] ....... max_depth=5, n_estimators=11, score=-9.905, total=   2.3s\n",
      "[CV] max_depth=5, n_estimators=11 ....................................\n",
      "[CV] ...... max_depth=5, n_estimators=11, score=-10.465, total=   2.3s\n",
      "[CV] max_depth=5, n_estimators=11 ....................................\n",
      "[CV] ...... max_depth=5, n_estimators=11, score=-11.602, total=   2.3s\n",
      "[CV] max_depth=5, n_estimators=11 ....................................\n",
      "[CV] ....... max_depth=5, n_estimators=11, score=-9.543, total=   2.3s\n",
      "[CV] max_depth=5, n_estimators=11 ....................................\n",
      "[CV] ....... max_depth=5, n_estimators=11, score=-9.586, total=   2.4s\n",
      "[CV] max_depth=5, n_estimators=12 ....................................\n",
      "[CV] ....... max_depth=5, n_estimators=12, score=-9.839, total=   2.6s\n",
      "[CV] max_depth=5, n_estimators=12 ....................................\n",
      "[CV] ...... max_depth=5, n_estimators=12, score=-10.674, total=   2.5s\n",
      "[CV] max_depth=5, n_estimators=12 ....................................\n",
      "[CV] ...... max_depth=5, n_estimators=12, score=-11.508, total=   2.4s\n",
      "[CV] max_depth=5, n_estimators=12 ....................................\n",
      "[CV] ....... max_depth=5, n_estimators=12, score=-9.515, total=   2.7s\n",
      "[CV] max_depth=5, n_estimators=12 ....................................\n",
      "[CV] ....... max_depth=5, n_estimators=12, score=-9.591, total=   2.7s\n",
      "[CV] max_depth=5, n_estimators=13 ....................................\n",
      "[CV] ....... max_depth=5, n_estimators=13, score=-9.907, total=   2.8s\n",
      "[CV] max_depth=5, n_estimators=13 ....................................\n",
      "[CV] ...... max_depth=5, n_estimators=13, score=-10.517, total=   2.8s\n",
      "[CV] max_depth=5, n_estimators=13 ....................................\n",
      "[CV] ...... max_depth=5, n_estimators=13, score=-11.518, total=   2.9s\n",
      "[CV] max_depth=5, n_estimators=13 ....................................\n",
      "[CV] ....... max_depth=5, n_estimators=13, score=-9.480, total=   2.8s\n",
      "[CV] max_depth=5, n_estimators=13 ....................................\n",
      "[CV] ....... max_depth=5, n_estimators=13, score=-9.588, total=   2.8s\n",
      "[CV] max_depth=5, n_estimators=14 ....................................\n",
      "[CV] ....... max_depth=5, n_estimators=14, score=-9.891, total=   2.9s\n",
      "[CV] max_depth=5, n_estimators=14 ....................................\n",
      "[CV] ...... max_depth=5, n_estimators=14, score=-10.768, total=   2.9s\n",
      "[CV] max_depth=5, n_estimators=14 ....................................\n",
      "[CV] ...... max_depth=5, n_estimators=14, score=-11.356, total=   2.9s\n",
      "[CV] max_depth=5, n_estimators=14 ....................................\n",
      "[CV] ....... max_depth=5, n_estimators=14, score=-9.524, total=   2.9s\n",
      "[CV] max_depth=5, n_estimators=14 ....................................\n",
      "[CV] ....... max_depth=5, n_estimators=14, score=-9.637, total=   3.0s\n",
      "[CV] max_depth=5, n_estimators=15 ....................................\n",
      "[CV] ....... max_depth=5, n_estimators=15, score=-9.912, total=   3.1s\n",
      "[CV] max_depth=5, n_estimators=15 ....................................\n",
      "[CV] ...... max_depth=5, n_estimators=15, score=-10.687, total=   3.1s\n",
      "[CV] max_depth=5, n_estimators=15 ....................................\n",
      "[CV] ...... max_depth=5, n_estimators=15, score=-11.343, total=   3.1s\n",
      "[CV] max_depth=5, n_estimators=15 ....................................\n",
      "[CV] ....... max_depth=5, n_estimators=15, score=-9.541, total=   3.2s\n",
      "[CV] max_depth=5, n_estimators=15 ....................................\n",
      "[CV] ....... max_depth=5, n_estimators=15, score=-9.586, total=   3.3s\n",
      "[CV] max_depth=5, n_estimators=16 ....................................\n",
      "[CV] ....... max_depth=5, n_estimators=16, score=-9.939, total=   3.3s\n",
      "[CV] max_depth=5, n_estimators=16 ....................................\n",
      "[CV] ...... max_depth=5, n_estimators=16, score=-10.709, total=   3.6s\n",
      "[CV] max_depth=5, n_estimators=16 ....................................\n",
      "[CV] ...... max_depth=5, n_estimators=16, score=-11.418, total=   3.4s\n",
      "[CV] max_depth=5, n_estimators=16 ....................................\n",
      "[CV] ....... max_depth=5, n_estimators=16, score=-9.537, total=   3.4s\n",
      "[CV] max_depth=5, n_estimators=16 ....................................\n",
      "[CV] ....... max_depth=5, n_estimators=16, score=-9.574, total=   3.7s\n",
      "[CV] max_depth=5, n_estimators=17 ....................................\n",
      "[CV] ....... max_depth=5, n_estimators=17, score=-9.922, total=   3.6s\n",
      "[CV] max_depth=5, n_estimators=17 ....................................\n",
      "[CV] ...... max_depth=5, n_estimators=17, score=-10.616, total=   3.5s\n",
      "[CV] max_depth=5, n_estimators=17 ....................................\n",
      "[CV] ...... max_depth=5, n_estimators=17, score=-11.368, total=   3.7s\n",
      "[CV] max_depth=5, n_estimators=17 ....................................\n",
      "[CV] ....... max_depth=5, n_estimators=17, score=-9.551, total=   3.7s\n",
      "[CV] max_depth=5, n_estimators=17 ....................................\n",
      "[CV] ....... max_depth=5, n_estimators=17, score=-9.597, total=   3.5s\n",
      "[CV] max_depth=5, n_estimators=18 ....................................\n",
      "[CV] ....... max_depth=5, n_estimators=18, score=-9.851, total=   3.7s\n",
      "[CV] max_depth=5, n_estimators=18 ....................................\n",
      "[CV] ...... max_depth=5, n_estimators=18, score=-10.573, total=   4.1s\n",
      "[CV] max_depth=5, n_estimators=18 ....................................\n",
      "[CV] ...... max_depth=5, n_estimators=18, score=-11.624, total=   3.8s\n",
      "[CV] max_depth=5, n_estimators=18 ....................................\n",
      "[CV] ....... max_depth=5, n_estimators=18, score=-9.545, total=   3.7s\n",
      "[CV] max_depth=5, n_estimators=18 ....................................\n",
      "[CV] ....... max_depth=5, n_estimators=18, score=-9.608, total=   4.0s\n",
      "[CV] max_depth=5, n_estimators=19 ....................................\n",
      "[CV] ....... max_depth=5, n_estimators=19, score=-9.951, total=   4.3s\n",
      "[CV] max_depth=5, n_estimators=19 ....................................\n",
      "[CV] ...... max_depth=5, n_estimators=19, score=-10.440, total=   3.9s\n",
      "[CV] max_depth=5, n_estimators=19 ....................................\n",
      "[CV] ...... max_depth=5, n_estimators=19, score=-11.455, total=   3.9s\n",
      "[CV] max_depth=5, n_estimators=19 ....................................\n",
      "[CV] ....... max_depth=5, n_estimators=19, score=-9.509, total=   4.2s\n",
      "[CV] max_depth=5, n_estimators=19 ....................................\n",
      "[CV] ....... max_depth=5, n_estimators=19, score=-9.600, total=   4.0s\n",
      "[CV] max_depth=6, n_estimators=1 .....................................\n",
      "[CV] ....... max_depth=6, n_estimators=1, score=-10.852, total=   0.3s\n",
      "[CV] max_depth=6, n_estimators=1 .....................................\n",
      "[CV] ....... max_depth=6, n_estimators=1, score=-11.804, total=   0.3s\n",
      "[CV] max_depth=6, n_estimators=1 .....................................\n",
      "[CV] ....... max_depth=6, n_estimators=1, score=-12.382, total=   0.2s\n",
      "[CV] max_depth=6, n_estimators=1 .....................................\n",
      "[CV] ....... max_depth=6, n_estimators=1, score=-10.543, total=   0.3s\n",
      "[CV] max_depth=6, n_estimators=1 .....................................\n",
      "[CV] ....... max_depth=6, n_estimators=1, score=-11.397, total=   0.3s\n",
      "[CV] max_depth=6, n_estimators=2 .....................................\n",
      "[CV] ....... max_depth=6, n_estimators=2, score=-10.474, total=   0.5s\n",
      "[CV] max_depth=6, n_estimators=2 .....................................\n",
      "[CV] ....... max_depth=6, n_estimators=2, score=-10.699, total=   0.5s\n",
      "[CV] max_depth=6, n_estimators=2 .....................................\n",
      "[CV] ....... max_depth=6, n_estimators=2, score=-10.718, total=   0.5s\n",
      "[CV] max_depth=6, n_estimators=2 .....................................\n",
      "[CV] ....... max_depth=6, n_estimators=2, score=-10.078, total=   0.5s\n",
      "[CV] max_depth=6, n_estimators=2 .....................................\n",
      "[CV] ....... max_depth=6, n_estimators=2, score=-10.587, total=   0.6s\n",
      "[CV] max_depth=6, n_estimators=3 .....................................\n",
      "[CV] ....... max_depth=6, n_estimators=3, score=-10.065, total=   0.7s\n",
      "[CV] max_depth=6, n_estimators=3 .....................................\n",
      "[CV] ....... max_depth=6, n_estimators=3, score=-10.474, total=   0.7s\n",
      "[CV] max_depth=6, n_estimators=3 .....................................\n",
      "[CV] ....... max_depth=6, n_estimators=3, score=-10.048, total=   0.7s\n",
      "[CV] max_depth=6, n_estimators=3 .....................................\n",
      "[CV] ........ max_depth=6, n_estimators=3, score=-9.854, total=   0.8s\n",
      "[CV] max_depth=6, n_estimators=3 .....................................\n",
      "[CV] ....... max_depth=6, n_estimators=3, score=-10.808, total=   0.8s\n",
      "[CV] max_depth=6, n_estimators=4 .....................................\n",
      "[CV] ........ max_depth=6, n_estimators=4, score=-9.889, total=   1.1s\n",
      "[CV] max_depth=6, n_estimators=4 .....................................\n",
      "[CV] ....... max_depth=6, n_estimators=4, score=-10.107, total=   1.0s\n",
      "[CV] max_depth=6, n_estimators=4 .....................................\n",
      "[CV] ....... max_depth=6, n_estimators=4, score=-10.088, total=   1.1s\n",
      "[CV] max_depth=6, n_estimators=4 .....................................\n",
      "[CV] ........ max_depth=6, n_estimators=4, score=-9.722, total=   1.1s\n",
      "[CV] max_depth=6, n_estimators=4 .....................................\n",
      "[CV] ....... max_depth=6, n_estimators=4, score=-10.242, total=   1.1s\n",
      "[CV] max_depth=6, n_estimators=5 .....................................\n",
      "[CV] ........ max_depth=6, n_estimators=5, score=-9.796, total=   1.4s\n",
      "[CV] max_depth=6, n_estimators=5 .....................................\n",
      "[CV] ........ max_depth=6, n_estimators=5, score=-9.719, total=   1.2s\n",
      "[CV] max_depth=6, n_estimators=5 .....................................\n",
      "[CV] ........ max_depth=6, n_estimators=5, score=-9.977, total=   1.3s\n",
      "[CV] max_depth=6, n_estimators=5 .....................................\n",
      "[CV] ........ max_depth=6, n_estimators=5, score=-9.464, total=   1.2s\n",
      "[CV] max_depth=6, n_estimators=5 .....................................\n",
      "[CV] ....... max_depth=6, n_estimators=5, score=-10.234, total=   1.3s\n",
      "[CV] max_depth=6, n_estimators=6 .....................................\n",
      "[CV] ........ max_depth=6, n_estimators=6, score=-9.789, total=   1.5s\n",
      "[CV] max_depth=6, n_estimators=6 .....................................\n",
      "[CV] ........ max_depth=6, n_estimators=6, score=-9.682, total=   1.5s\n",
      "[CV] max_depth=6, n_estimators=6 .....................................\n",
      "[CV] ....... max_depth=6, n_estimators=6, score=-10.254, total=   1.4s\n",
      "[CV] max_depth=6, n_estimators=6 .....................................\n",
      "[CV] ........ max_depth=6, n_estimators=6, score=-9.419, total=   1.6s\n",
      "[CV] max_depth=6, n_estimators=6 .....................................\n",
      "[CV] ....... max_depth=6, n_estimators=6, score=-10.222, total=   1.7s\n",
      "[CV] max_depth=6, n_estimators=7 .....................................\n",
      "[CV] ........ max_depth=6, n_estimators=7, score=-9.759, total=   1.7s\n",
      "[CV] max_depth=6, n_estimators=7 .....................................\n",
      "[CV] ........ max_depth=6, n_estimators=7, score=-9.694, total=   1.8s\n",
      "[CV] max_depth=6, n_estimators=7 .....................................\n",
      "[CV] ....... max_depth=6, n_estimators=7, score=-10.404, total=   1.7s\n",
      "[CV] max_depth=6, n_estimators=7 .....................................\n",
      "[CV] ........ max_depth=6, n_estimators=7, score=-9.408, total=   1.8s\n",
      "[CV] max_depth=6, n_estimators=7 .....................................\n",
      "[CV] ....... max_depth=6, n_estimators=7, score=-10.190, total=   1.8s\n",
      "[CV] max_depth=6, n_estimators=8 .....................................\n",
      "[CV] ........ max_depth=6, n_estimators=8, score=-9.771, total=   1.9s\n",
      "[CV] max_depth=6, n_estimators=8 .....................................\n",
      "[CV] ........ max_depth=6, n_estimators=8, score=-9.562, total=   2.0s\n",
      "[CV] max_depth=6, n_estimators=8 .....................................\n",
      "[CV] ....... max_depth=6, n_estimators=8, score=-11.154, total=   2.1s\n",
      "[CV] max_depth=6, n_estimators=8 .....................................\n",
      "[CV] ........ max_depth=6, n_estimators=8, score=-9.521, total=   2.0s\n",
      "[CV] max_depth=6, n_estimators=8 .....................................\n",
      "[CV] ....... max_depth=6, n_estimators=8, score=-10.071, total=   2.0s\n",
      "[CV] max_depth=6, n_estimators=9 .....................................\n",
      "[CV] ........ max_depth=6, n_estimators=9, score=-9.812, total=   2.2s\n",
      "[CV] max_depth=6, n_estimators=9 .....................................\n",
      "[CV] ........ max_depth=6, n_estimators=9, score=-9.772, total=   2.2s\n",
      "[CV] max_depth=6, n_estimators=9 .....................................\n",
      "[CV] ....... max_depth=6, n_estimators=9, score=-11.326, total=   2.3s\n",
      "[CV] max_depth=6, n_estimators=9 .....................................\n",
      "[CV] ........ max_depth=6, n_estimators=9, score=-9.505, total=   2.3s\n",
      "[CV] max_depth=6, n_estimators=9 .....................................\n",
      "[CV] ....... max_depth=6, n_estimators=9, score=-10.063, total=   2.2s\n",
      "[CV] max_depth=6, n_estimators=10 ....................................\n",
      "[CV] ...... max_depth=6, n_estimators=10, score=-10.905, total=   2.5s\n",
      "[CV] max_depth=6, n_estimators=10 ....................................\n",
      "[CV] ....... max_depth=6, n_estimators=10, score=-9.646, total=   2.7s\n",
      "[CV] max_depth=6, n_estimators=10 ....................................\n",
      "[CV] ...... max_depth=6, n_estimators=10, score=-11.378, total=   2.4s\n",
      "[CV] max_depth=6, n_estimators=10 ....................................\n",
      "[CV] ....... max_depth=6, n_estimators=10, score=-9.396, total=   2.5s\n",
      "[CV] max_depth=6, n_estimators=10 ....................................\n",
      "[CV] ...... max_depth=6, n_estimators=10, score=-10.035, total=   2.4s\n",
      "[CV] max_depth=6, n_estimators=11 ....................................\n",
      "[CV] ...... max_depth=6, n_estimators=11, score=-10.513, total=   2.7s\n",
      "[CV] max_depth=6, n_estimators=11 ....................................\n",
      "[CV] ....... max_depth=6, n_estimators=11, score=-9.752, total=   2.6s\n",
      "[CV] max_depth=6, n_estimators=11 ....................................\n",
      "[CV] ...... max_depth=6, n_estimators=11, score=-11.912, total=   2.7s\n",
      "[CV] max_depth=6, n_estimators=11 ....................................\n",
      "[CV] ....... max_depth=6, n_estimators=11, score=-9.484, total=   2.7s\n",
      "[CV] max_depth=6, n_estimators=11 ....................................\n",
      "[CV] ...... max_depth=6, n_estimators=11, score=-10.038, total=   2.7s\n",
      "[CV] max_depth=6, n_estimators=12 ....................................\n",
      "[CV] ...... max_depth=6, n_estimators=12, score=-10.409, total=   3.0s\n",
      "[CV] max_depth=6, n_estimators=12 ....................................\n",
      "[CV] ....... max_depth=6, n_estimators=12, score=-9.944, total=   2.9s\n",
      "[CV] max_depth=6, n_estimators=12 ....................................\n",
      "[CV] ...... max_depth=6, n_estimators=12, score=-11.822, total=   2.8s\n",
      "[CV] max_depth=6, n_estimators=12 ....................................\n",
      "[CV] ....... max_depth=6, n_estimators=12, score=-9.468, total=   2.9s\n",
      "[CV] max_depth=6, n_estimators=12 ....................................\n",
      "[CV] ...... max_depth=6, n_estimators=12, score=-10.010, total=   2.9s\n",
      "[CV] max_depth=6, n_estimators=13 ....................................\n",
      "[CV] ...... max_depth=6, n_estimators=13, score=-10.362, total=   3.1s\n",
      "[CV] max_depth=6, n_estimators=13 ....................................\n",
      "[CV] ....... max_depth=6, n_estimators=13, score=-9.899, total=   3.2s\n",
      "[CV] max_depth=6, n_estimators=13 ....................................\n",
      "[CV] ...... max_depth=6, n_estimators=13, score=-11.707, total=   3.1s\n",
      "[CV] max_depth=6, n_estimators=13 ....................................\n",
      "[CV] ....... max_depth=6, n_estimators=13, score=-9.451, total=   3.1s\n",
      "[CV] max_depth=6, n_estimators=13 ....................................\n",
      "[CV] ...... max_depth=6, n_estimators=13, score=-10.005, total=   3.3s\n",
      "[CV] max_depth=6, n_estimators=14 ....................................\n",
      "[CV] ...... max_depth=6, n_estimators=14, score=-10.405, total=   3.4s\n",
      "[CV] max_depth=6, n_estimators=14 ....................................\n",
      "[CV] ...... max_depth=6, n_estimators=14, score=-10.000, total=   3.5s\n",
      "[CV] max_depth=6, n_estimators=14 ....................................\n",
      "[CV] ...... max_depth=6, n_estimators=14, score=-11.492, total=   3.3s\n",
      "[CV] max_depth=6, n_estimators=14 ....................................\n",
      "[CV] ....... max_depth=6, n_estimators=14, score=-9.525, total=   3.5s\n",
      "[CV] max_depth=6, n_estimators=14 ....................................\n",
      "[CV] ...... max_depth=6, n_estimators=14, score=-10.047, total=   3.6s\n",
      "[CV] max_depth=6, n_estimators=15 ....................................\n",
      "[CV] ...... max_depth=6, n_estimators=15, score=-11.194, total=   3.8s\n",
      "[CV] max_depth=6, n_estimators=15 ....................................\n",
      "[CV] ...... max_depth=6, n_estimators=15, score=-10.063, total=   3.6s\n",
      "[CV] max_depth=6, n_estimators=15 ....................................\n",
      "[CV] ...... max_depth=6, n_estimators=15, score=-11.460, total=   3.7s\n",
      "[CV] max_depth=6, n_estimators=15 ....................................\n",
      "[CV] ....... max_depth=6, n_estimators=15, score=-9.494, total=   3.7s\n",
      "[CV] max_depth=6, n_estimators=15 ....................................\n",
      "[CV] ...... max_depth=6, n_estimators=15, score=-10.004, total=   3.7s\n",
      "[CV] max_depth=6, n_estimators=16 ....................................\n",
      "[CV] ...... max_depth=6, n_estimators=16, score=-11.086, total=   3.9s\n",
      "[CV] max_depth=6, n_estimators=16 ....................................\n",
      "[CV] ...... max_depth=6, n_estimators=16, score=-10.096, total=   3.9s\n",
      "[CV] max_depth=6, n_estimators=16 ....................................\n",
      "[CV] ...... max_depth=6, n_estimators=16, score=-11.550, total=   3.8s\n",
      "[CV] max_depth=6, n_estimators=16 ....................................\n",
      "[CV] ....... max_depth=6, n_estimators=16, score=-9.486, total=   3.9s\n",
      "[CV] max_depth=6, n_estimators=16 ....................................\n",
      "[CV] ....... max_depth=6, n_estimators=16, score=-9.940, total=   4.0s\n",
      "[CV] max_depth=6, n_estimators=17 ....................................\n",
      "[CV] ...... max_depth=6, n_estimators=17, score=-10.950, total=   4.1s\n",
      "[CV] max_depth=6, n_estimators=17 ....................................\n",
      "[CV] ...... max_depth=6, n_estimators=17, score=-10.040, total=   4.1s\n",
      "[CV] max_depth=6, n_estimators=17 ....................................\n",
      "[CV] ...... max_depth=6, n_estimators=17, score=-11.475, total=   4.3s\n",
      "[CV] max_depth=6, n_estimators=17 ....................................\n",
      "[CV] ....... max_depth=6, n_estimators=17, score=-9.541, total=   4.4s\n",
      "[CV] max_depth=6, n_estimators=17 ....................................\n",
      "[CV] ....... max_depth=6, n_estimators=17, score=-9.893, total=   4.4s\n",
      "[CV] max_depth=6, n_estimators=18 ....................................\n",
      "[CV] ...... max_depth=6, n_estimators=18, score=-10.775, total=   4.4s\n",
      "[CV] max_depth=6, n_estimators=18 ....................................\n",
      "[CV] ....... max_depth=6, n_estimators=18, score=-9.996, total=   4.4s\n",
      "[CV] max_depth=6, n_estimators=18 ....................................\n",
      "[CV] ...... max_depth=6, n_estimators=18, score=-11.791, total=   4.5s\n",
      "[CV] max_depth=6, n_estimators=18 ....................................\n",
      "[CV] ....... max_depth=6, n_estimators=18, score=-9.544, total=   4.4s\n",
      "[CV] max_depth=6, n_estimators=18 ....................................\n",
      "[CV] ....... max_depth=6, n_estimators=18, score=-9.834, total=   4.4s\n",
      "[CV] max_depth=6, n_estimators=19 ....................................\n",
      "[CV] ...... max_depth=6, n_estimators=19, score=-10.635, total=   4.6s\n",
      "[CV] max_depth=6, n_estimators=19 ....................................\n",
      "[CV] ....... max_depth=6, n_estimators=19, score=-9.955, total=   4.8s\n",
      "[CV] max_depth=6, n_estimators=19 ....................................\n",
      "[CV] ...... max_depth=6, n_estimators=19, score=-11.608, total=   4.6s\n",
      "[CV] max_depth=6, n_estimators=19 ....................................\n",
      "[CV] ....... max_depth=6, n_estimators=19, score=-9.517, total=   4.9s\n",
      "[CV] max_depth=6, n_estimators=19 ....................................\n",
      "[CV] ....... max_depth=6, n_estimators=19, score=-9.815, total=   4.6s\n",
      "[CV] max_depth=7, n_estimators=1 .....................................\n",
      "[CV] ....... max_depth=7, n_estimators=1, score=-13.596, total=   0.3s\n",
      "[CV] max_depth=7, n_estimators=1 .....................................\n",
      "[CV] ....... max_depth=7, n_estimators=1, score=-12.469, total=   0.3s\n",
      "[CV] max_depth=7, n_estimators=1 .....................................\n",
      "[CV] ....... max_depth=7, n_estimators=1, score=-12.449, total=   0.3s\n",
      "[CV] max_depth=7, n_estimators=1 .....................................\n",
      "[CV] ....... max_depth=7, n_estimators=1, score=-10.253, total=   0.3s\n",
      "[CV] max_depth=7, n_estimators=1 .....................................\n",
      "[CV] ....... max_depth=7, n_estimators=1, score=-11.746, total=   0.3s\n",
      "[CV] max_depth=7, n_estimators=2 .....................................\n",
      "[CV] ....... max_depth=7, n_estimators=2, score=-10.661, total=   0.6s\n",
      "[CV] max_depth=7, n_estimators=2 .....................................\n",
      "[CV] ....... max_depth=7, n_estimators=2, score=-10.730, total=   0.6s\n",
      "[CV] max_depth=7, n_estimators=2 .....................................\n",
      "[CV] ....... max_depth=7, n_estimators=2, score=-11.168, total=   0.6s\n",
      "[CV] max_depth=7, n_estimators=2 .....................................\n",
      "[CV] ........ max_depth=7, n_estimators=2, score=-9.970, total=   0.6s\n",
      "[CV] max_depth=7, n_estimators=2 .....................................\n",
      "[CV] ....... max_depth=7, n_estimators=2, score=-10.663, total=   0.6s\n",
      "[CV] max_depth=7, n_estimators=3 .....................................\n",
      "[CV] ....... max_depth=7, n_estimators=3, score=-10.039, total=   0.8s\n",
      "[CV] max_depth=7, n_estimators=3 .....................................\n",
      "[CV] ....... max_depth=7, n_estimators=3, score=-10.366, total=   0.8s\n",
      "[CV] max_depth=7, n_estimators=3 .....................................\n",
      "[CV] ....... max_depth=7, n_estimators=3, score=-10.127, total=   0.8s\n",
      "[CV] max_depth=7, n_estimators=3 .....................................\n",
      "[CV] ........ max_depth=7, n_estimators=3, score=-9.910, total=   0.9s\n",
      "[CV] max_depth=7, n_estimators=3 .....................................\n",
      "[CV] ....... max_depth=7, n_estimators=3, score=-11.003, total=   0.9s\n",
      "[CV] max_depth=7, n_estimators=4 .....................................\n",
      "[CV] ........ max_depth=7, n_estimators=4, score=-9.795, total=   1.1s\n",
      "[CV] max_depth=7, n_estimators=4 .....................................\n",
      "[CV] ........ max_depth=7, n_estimators=4, score=-9.884, total=   1.1s\n",
      "[CV] max_depth=7, n_estimators=4 .....................................\n",
      "[CV] ........ max_depth=7, n_estimators=4, score=-9.708, total=   1.1s\n",
      "[CV] max_depth=7, n_estimators=4 .....................................\n",
      "[CV] ........ max_depth=7, n_estimators=4, score=-9.802, total=   1.2s\n",
      "[CV] max_depth=7, n_estimators=4 .....................................\n",
      "[CV] ....... max_depth=7, n_estimators=4, score=-10.445, total=   1.1s\n",
      "[CV] max_depth=7, n_estimators=5 .....................................\n",
      "[CV] ........ max_depth=7, n_estimators=5, score=-9.651, total=   1.4s\n",
      "[CV] max_depth=7, n_estimators=5 .....................................\n",
      "[CV] ........ max_depth=7, n_estimators=5, score=-9.505, total=   1.4s\n",
      "[CV] max_depth=7, n_estimators=5 .....................................\n",
      "[CV] ........ max_depth=7, n_estimators=5, score=-9.545, total=   1.4s\n",
      "[CV] max_depth=7, n_estimators=5 .....................................\n",
      "[CV] ........ max_depth=7, n_estimators=5, score=-9.540, total=   1.4s\n",
      "[CV] max_depth=7, n_estimators=5 .....................................\n",
      "[CV] ....... max_depth=7, n_estimators=5, score=-10.421, total=   1.5s\n",
      "[CV] max_depth=7, n_estimators=6 .....................................\n",
      "[CV] ........ max_depth=7, n_estimators=6, score=-9.542, total=   1.8s\n",
      "[CV] max_depth=7, n_estimators=6 .....................................\n",
      "[CV] ........ max_depth=7, n_estimators=6, score=-9.741, total=   1.7s\n",
      "[CV] max_depth=7, n_estimators=6 .....................................\n",
      "[CV] ........ max_depth=7, n_estimators=6, score=-9.740, total=   1.7s\n",
      "[CV] max_depth=7, n_estimators=6 .....................................\n",
      "[CV] ........ max_depth=7, n_estimators=6, score=-9.488, total=   1.7s\n",
      "[CV] max_depth=7, n_estimators=6 .....................................\n",
      "[CV] ....... max_depth=7, n_estimators=6, score=-10.577, total=   1.8s\n",
      "[CV] max_depth=7, n_estimators=7 .....................................\n",
      "[CV] ....... max_depth=7, n_estimators=7, score=-10.962, total=   2.0s\n",
      "[CV] max_depth=7, n_estimators=7 .....................................\n",
      "[CV] ........ max_depth=7, n_estimators=7, score=-9.834, total=   2.1s\n",
      "[CV] max_depth=7, n_estimators=7 .....................................\n",
      "[CV] ....... max_depth=7, n_estimators=7, score=-10.858, total=   1.9s\n",
      "[CV] max_depth=7, n_estimators=7 .....................................\n",
      "[CV] ........ max_depth=7, n_estimators=7, score=-9.385, total=   2.0s\n",
      "[CV] max_depth=7, n_estimators=7 .....................................\n",
      "[CV] ....... max_depth=7, n_estimators=7, score=-10.465, total=   2.0s\n",
      "[CV] max_depth=7, n_estimators=8 .....................................\n",
      "[CV] ....... max_depth=7, n_estimators=8, score=-10.803, total=   2.2s\n",
      "[CV] max_depth=7, n_estimators=8 .....................................\n",
      "[CV] ........ max_depth=7, n_estimators=8, score=-9.805, total=   2.3s\n",
      "[CV] max_depth=7, n_estimators=8 .....................................\n",
      "[CV] ....... max_depth=7, n_estimators=8, score=-11.075, total=   2.2s\n",
      "[CV] max_depth=7, n_estimators=8 .....................................\n",
      "[CV] ........ max_depth=7, n_estimators=8, score=-9.446, total=   2.2s\n",
      "[CV] max_depth=7, n_estimators=8 .....................................\n",
      "[CV] ....... max_depth=7, n_estimators=8, score=-10.301, total=   2.2s\n",
      "[CV] max_depth=7, n_estimators=9 .....................................\n",
      "[CV] ....... max_depth=7, n_estimators=9, score=-10.694, total=   2.6s\n",
      "[CV] max_depth=7, n_estimators=9 .....................................\n",
      "[CV] ....... max_depth=7, n_estimators=9, score=-10.102, total=   2.6s\n",
      "[CV] max_depth=7, n_estimators=9 .....................................\n",
      "[CV] ....... max_depth=7, n_estimators=9, score=-11.221, total=   2.5s\n",
      "[CV] max_depth=7, n_estimators=9 .....................................\n",
      "[CV] ........ max_depth=7, n_estimators=9, score=-9.420, total=   2.6s\n",
      "[CV] max_depth=7, n_estimators=9 .....................................\n",
      "[CV] ....... max_depth=7, n_estimators=9, score=-10.454, total=   2.8s\n",
      "[CV] max_depth=7, n_estimators=10 ....................................\n",
      "[CV] ...... max_depth=7, n_estimators=10, score=-11.930, total=   3.1s\n",
      "[CV] max_depth=7, n_estimators=10 ....................................\n",
      "[CV] ...... max_depth=7, n_estimators=10, score=-10.044, total=   2.8s\n",
      "[CV] max_depth=7, n_estimators=10 ....................................\n",
      "[CV] ...... max_depth=7, n_estimators=10, score=-11.276, total=   2.7s\n",
      "[CV] max_depth=7, n_estimators=10 ....................................\n",
      "[CV] ....... max_depth=7, n_estimators=10, score=-9.344, total=   2.8s\n",
      "[CV] max_depth=7, n_estimators=10 ....................................\n",
      "[CV] ...... max_depth=7, n_estimators=10, score=-10.372, total=   3.1s\n",
      "[CV] max_depth=7, n_estimators=11 ....................................\n",
      "[CV] ...... max_depth=7, n_estimators=11, score=-11.416, total=   3.2s\n",
      "[CV] max_depth=7, n_estimators=11 ....................................\n",
      "[CV] ...... max_depth=7, n_estimators=11, score=-10.152, total=   3.1s\n",
      "[CV] max_depth=7, n_estimators=11 ....................................\n",
      "[CV] ...... max_depth=7, n_estimators=11, score=-11.594, total=   3.1s\n",
      "[CV] max_depth=7, n_estimators=11 ....................................\n",
      "[CV] ....... max_depth=7, n_estimators=11, score=-9.503, total=   3.2s\n",
      "[CV] max_depth=7, n_estimators=11 ....................................\n",
      "[CV] ...... max_depth=7, n_estimators=11, score=-10.385, total=   3.1s\n",
      "[CV] max_depth=7, n_estimators=12 ....................................\n",
      "[CV] ...... max_depth=7, n_estimators=12, score=-11.199, total=   3.4s\n",
      "[CV] max_depth=7, n_estimators=12 ....................................\n",
      "[CV] ...... max_depth=7, n_estimators=12, score=-10.254, total=   3.4s\n",
      "[CV] max_depth=7, n_estimators=12 ....................................\n",
      "[CV] ...... max_depth=7, n_estimators=12, score=-11.479, total=   3.3s\n",
      "[CV] max_depth=7, n_estimators=12 ....................................\n",
      "[CV] ....... max_depth=7, n_estimators=12, score=-9.493, total=   3.3s\n",
      "[CV] max_depth=7, n_estimators=12 ....................................\n",
      "[CV] ...... max_depth=7, n_estimators=12, score=-10.386, total=   3.3s\n",
      "[CV] max_depth=7, n_estimators=13 ....................................\n",
      "[CV] ...... max_depth=7, n_estimators=13, score=-11.116, total=   3.6s\n",
      "[CV] max_depth=7, n_estimators=13 ....................................\n",
      "[CV] ...... max_depth=7, n_estimators=13, score=-10.246, total=   3.6s\n",
      "[CV] max_depth=7, n_estimators=13 ....................................\n",
      "[CV] ...... max_depth=7, n_estimators=13, score=-11.377, total=   3.7s\n",
      "[CV] max_depth=7, n_estimators=13 ....................................\n",
      "[CV] ....... max_depth=7, n_estimators=13, score=-9.517, total=   3.7s\n",
      "[CV] max_depth=7, n_estimators=13 ....................................\n",
      "[CV] ...... max_depth=7, n_estimators=13, score=-10.310, total=   3.7s\n",
      "[CV] max_depth=7, n_estimators=14 ....................................\n",
      "[CV] ...... max_depth=7, n_estimators=14, score=-11.023, total=   4.1s\n",
      "[CV] max_depth=7, n_estimators=14 ....................................\n",
      "[CV] ...... max_depth=7, n_estimators=14, score=-10.314, total=   4.2s\n",
      "[CV] max_depth=7, n_estimators=14 ....................................\n",
      "[CV] ...... max_depth=7, n_estimators=14, score=-11.280, total=   3.8s\n",
      "[CV] max_depth=7, n_estimators=14 ....................................\n",
      "[CV] ....... max_depth=7, n_estimators=14, score=-9.598, total=   4.1s\n",
      "[CV] max_depth=7, n_estimators=14 ....................................\n",
      "[CV] ...... max_depth=7, n_estimators=14, score=-10.447, total=   4.1s\n",
      "[CV] max_depth=7, n_estimators=15 ....................................\n",
      "[CV] ...... max_depth=7, n_estimators=15, score=-11.825, total=   4.2s\n",
      "[CV] max_depth=7, n_estimators=15 ....................................\n",
      "[CV] ...... max_depth=7, n_estimators=15, score=-10.234, total=   4.2s\n",
      "[CV] max_depth=7, n_estimators=15 ....................................\n",
      "[CV] ...... max_depth=7, n_estimators=15, score=-11.161, total=   4.1s\n",
      "[CV] max_depth=7, n_estimators=15 ....................................\n",
      "[CV] ....... max_depth=7, n_estimators=15, score=-9.601, total=   4.3s\n",
      "[CV] max_depth=7, n_estimators=15 ....................................\n",
      "[CV] ...... max_depth=7, n_estimators=15, score=-10.328, total=   4.3s\n",
      "[CV] max_depth=7, n_estimators=16 ....................................\n",
      "[CV] ...... max_depth=7, n_estimators=16, score=-11.720, total=   4.4s\n",
      "[CV] max_depth=7, n_estimators=16 ....................................\n",
      "[CV] ...... max_depth=7, n_estimators=16, score=-10.400, total=   4.5s\n",
      "[CV] max_depth=7, n_estimators=16 ....................................\n",
      "[CV] ...... max_depth=7, n_estimators=16, score=-11.261, total=   4.6s\n",
      "[CV] max_depth=7, n_estimators=16 ....................................\n",
      "[CV] ....... max_depth=7, n_estimators=16, score=-9.595, total=   4.6s\n",
      "[CV] max_depth=7, n_estimators=16 ....................................\n",
      "[CV] ...... max_depth=7, n_estimators=16, score=-10.313, total=   4.5s\n",
      "[CV] max_depth=7, n_estimators=17 ....................................\n",
      "[CV] ...... max_depth=7, n_estimators=17, score=-11.634, total=   4.8s\n",
      "[CV] max_depth=7, n_estimators=17 ....................................\n",
      "[CV] ...... max_depth=7, n_estimators=17, score=-10.323, total=   4.8s\n",
      "[CV] max_depth=7, n_estimators=17 ....................................\n",
      "[CV] ...... max_depth=7, n_estimators=17, score=-11.148, total=   4.6s\n",
      "[CV] max_depth=7, n_estimators=17 ....................................\n",
      "[CV] ....... max_depth=7, n_estimators=17, score=-9.600, total=   4.7s\n",
      "[CV] max_depth=7, n_estimators=17 ....................................\n",
      "[CV] ...... max_depth=7, n_estimators=17, score=-10.212, total=   4.7s\n",
      "[CV] max_depth=7, n_estimators=18 ....................................\n",
      "[CV] ...... max_depth=7, n_estimators=18, score=-11.448, total=   5.5s\n",
      "[CV] max_depth=7, n_estimators=18 ....................................\n",
      "[CV] ...... max_depth=7, n_estimators=18, score=-10.225, total=   5.1s\n",
      "[CV] max_depth=7, n_estimators=18 ....................................\n",
      "[CV] ...... max_depth=7, n_estimators=18, score=-11.493, total=   5.0s\n",
      "[CV] max_depth=7, n_estimators=18 ....................................\n",
      "[CV] ....... max_depth=7, n_estimators=18, score=-9.613, total=   5.1s\n",
      "[CV] max_depth=7, n_estimators=18 ....................................\n",
      "[CV] ...... max_depth=7, n_estimators=18, score=-10.322, total=   5.1s\n",
      "[CV] max_depth=7, n_estimators=19 ....................................\n",
      "[CV] ...... max_depth=7, n_estimators=19, score=-11.216, total=   5.5s\n",
      "[CV] max_depth=7, n_estimators=19 ....................................\n",
      "[CV] ...... max_depth=7, n_estimators=19, score=-10.185, total=   5.7s\n",
      "[CV] max_depth=7, n_estimators=19 ....................................\n",
      "[CV] ...... max_depth=7, n_estimators=19, score=-11.334, total=   5.4s\n",
      "[CV] max_depth=7, n_estimators=19 ....................................\n",
      "[CV] ....... max_depth=7, n_estimators=19, score=-9.585, total=   5.8s\n",
      "[CV] max_depth=7, n_estimators=19 ....................................\n",
      "[CV] ...... max_depth=7, n_estimators=19, score=-10.279, total=   5.6s\n",
      "[CV] max_depth=8, n_estimators=1 .....................................\n",
      "[CV] ....... max_depth=8, n_estimators=1, score=-14.162, total=   0.3s\n",
      "[CV] max_depth=8, n_estimators=1 .....................................\n",
      "[CV] ....... max_depth=8, n_estimators=1, score=-12.252, total=   0.4s\n",
      "[CV] max_depth=8, n_estimators=1 .....................................\n",
      "[CV] ....... max_depth=8, n_estimators=1, score=-11.337, total=   0.3s\n",
      "[CV] max_depth=8, n_estimators=1 .....................................\n",
      "[CV] ....... max_depth=8, n_estimators=1, score=-10.649, total=   0.3s\n",
      "[CV] max_depth=8, n_estimators=1 .....................................\n",
      "[CV] ....... max_depth=8, n_estimators=1, score=-12.762, total=   0.3s\n",
      "[CV] max_depth=8, n_estimators=2 .....................................\n",
      "[CV] ....... max_depth=8, n_estimators=2, score=-11.398, total=   0.7s\n",
      "[CV] max_depth=8, n_estimators=2 .....................................\n",
      "[CV] ....... max_depth=8, n_estimators=2, score=-11.372, total=   0.6s\n",
      "[CV] max_depth=8, n_estimators=2 .....................................\n",
      "[CV] ....... max_depth=8, n_estimators=2, score=-11.406, total=   0.6s\n",
      "[CV] max_depth=8, n_estimators=2 .....................................\n",
      "[CV] ....... max_depth=8, n_estimators=2, score=-10.134, total=   0.6s\n",
      "[CV] max_depth=8, n_estimators=2 .....................................\n",
      "[CV] ....... max_depth=8, n_estimators=2, score=-10.890, total=   0.6s\n",
      "[CV] max_depth=8, n_estimators=3 .....................................\n",
      "[CV] ....... max_depth=8, n_estimators=3, score=-10.762, total=   0.9s\n",
      "[CV] max_depth=8, n_estimators=3 .....................................\n",
      "[CV] ....... max_depth=8, n_estimators=3, score=-10.663, total=   0.9s\n",
      "[CV] max_depth=8, n_estimators=3 .....................................\n",
      "[CV] ....... max_depth=8, n_estimators=3, score=-10.421, total=   0.9s\n",
      "[CV] max_depth=8, n_estimators=3 .....................................\n",
      "[CV] ....... max_depth=8, n_estimators=3, score=-10.384, total=   0.9s\n",
      "[CV] max_depth=8, n_estimators=3 .....................................\n",
      "[CV] ....... max_depth=8, n_estimators=3, score=-10.427, total=   0.9s\n",
      "[CV] max_depth=8, n_estimators=4 .....................................\n",
      "[CV] ....... max_depth=8, n_estimators=4, score=-10.778, total=   1.2s\n",
      "[CV] max_depth=8, n_estimators=4 .....................................\n",
      "[CV] ....... max_depth=8, n_estimators=4, score=-10.109, total=   1.3s\n",
      "[CV] max_depth=8, n_estimators=4 .....................................\n",
      "[CV] ........ max_depth=8, n_estimators=4, score=-9.901, total=   1.2s\n",
      "[CV] max_depth=8, n_estimators=4 .....................................\n",
      "[CV] ....... max_depth=8, n_estimators=4, score=-10.056, total=   1.3s\n",
      "[CV] max_depth=8, n_estimators=4 .....................................\n",
      "[CV] ....... max_depth=8, n_estimators=4, score=-10.534, total=   1.3s\n",
      "[CV] max_depth=8, n_estimators=5 .....................................\n",
      "[CV] ....... max_depth=8, n_estimators=5, score=-10.231, total=   1.5s\n",
      "[CV] max_depth=8, n_estimators=5 .....................................\n",
      "[CV] ........ max_depth=8, n_estimators=5, score=-9.700, total=   1.6s\n",
      "[CV] max_depth=8, n_estimators=5 .....................................\n",
      "[CV] ........ max_depth=8, n_estimators=5, score=-9.892, total=   1.5s\n",
      "[CV] max_depth=8, n_estimators=5 .....................................\n",
      "[CV] ........ max_depth=8, n_estimators=5, score=-9.624, total=   1.5s\n",
      "[CV] max_depth=8, n_estimators=5 .....................................\n",
      "[CV] ....... max_depth=8, n_estimators=5, score=-10.568, total=   1.6s\n",
      "[CV] max_depth=8, n_estimators=6 .....................................\n",
      "[CV] ....... max_depth=8, n_estimators=6, score=-10.012, total=   1.9s\n",
      "[CV] max_depth=8, n_estimators=6 .....................................\n",
      "[CV] ........ max_depth=8, n_estimators=6, score=-9.911, total=   1.9s\n",
      "[CV] max_depth=8, n_estimators=6 .....................................\n",
      "[CV] ........ max_depth=8, n_estimators=6, score=-9.852, total=   1.8s\n",
      "[CV] max_depth=8, n_estimators=6 .....................................\n",
      "[CV] ........ max_depth=8, n_estimators=6, score=-9.545, total=   1.9s\n",
      "[CV] max_depth=8, n_estimators=6 .....................................\n",
      "[CV] ....... max_depth=8, n_estimators=6, score=-10.528, total=   1.9s\n",
      "[CV] max_depth=8, n_estimators=7 .....................................\n",
      "[CV] ....... max_depth=8, n_estimators=7, score=-11.309, total=   2.5s\n",
      "[CV] max_depth=8, n_estimators=7 .....................................\n",
      "[CV] ....... max_depth=8, n_estimators=7, score=-10.034, total=   2.2s\n",
      "[CV] max_depth=8, n_estimators=7 .....................................\n",
      "[CV] ....... max_depth=8, n_estimators=7, score=-10.121, total=   2.1s\n",
      "[CV] max_depth=8, n_estimators=7 .....................................\n",
      "[CV] ........ max_depth=8, n_estimators=7, score=-9.516, total=   2.2s\n",
      "[CV] max_depth=8, n_estimators=7 .....................................\n",
      "[CV] ....... max_depth=8, n_estimators=7, score=-10.582, total=   2.2s\n",
      "[CV] max_depth=8, n_estimators=8 .....................................\n",
      "[CV] ....... max_depth=8, n_estimators=8, score=-11.134, total=   2.5s\n",
      "[CV] max_depth=8, n_estimators=8 .....................................\n",
      "[CV] ....... max_depth=8, n_estimators=8, score=-10.569, total=   2.6s\n",
      "[CV] max_depth=8, n_estimators=8 .....................................\n",
      "[CV] ....... max_depth=8, n_estimators=8, score=-10.823, total=   2.5s\n",
      "[CV] max_depth=8, n_estimators=8 .....................................\n",
      "[CV] ........ max_depth=8, n_estimators=8, score=-9.579, total=   2.6s\n",
      "[CV] max_depth=8, n_estimators=8 .....................................\n",
      "[CV] ....... max_depth=8, n_estimators=8, score=-10.503, total=   2.6s\n",
      "[CV] max_depth=8, n_estimators=9 .....................................\n",
      "[CV] ....... max_depth=8, n_estimators=9, score=-10.963, total=   2.9s\n",
      "[CV] max_depth=8, n_estimators=9 .....................................\n",
      "[CV] ....... max_depth=8, n_estimators=9, score=-11.210, total=   2.9s\n",
      "[CV] max_depth=8, n_estimators=9 .....................................\n",
      "[CV] ....... max_depth=8, n_estimators=9, score=-11.506, total=   2.9s\n",
      "[CV] max_depth=8, n_estimators=9 .....................................\n",
      "[CV] ........ max_depth=8, n_estimators=9, score=-9.523, total=   2.8s\n",
      "[CV] max_depth=8, n_estimators=9 .....................................\n",
      "[CV] ....... max_depth=8, n_estimators=9, score=-10.693, total=   3.0s\n",
      "[CV] max_depth=8, n_estimators=10 ....................................\n",
      "[CV] ...... max_depth=8, n_estimators=10, score=-12.151, total=   3.1s\n",
      "[CV] max_depth=8, n_estimators=10 ....................................\n",
      "[CV] ...... max_depth=8, n_estimators=10, score=-11.095, total=   3.2s\n",
      "[CV] max_depth=8, n_estimators=10 ....................................\n",
      "[CV] ...... max_depth=8, n_estimators=10, score=-11.575, total=   3.1s\n",
      "[CV] max_depth=8, n_estimators=10 ....................................\n",
      "[CV] ....... max_depth=8, n_estimators=10, score=-9.452, total=   3.2s\n",
      "[CV] max_depth=8, n_estimators=10 ....................................\n",
      "[CV] ...... max_depth=8, n_estimators=10, score=-10.661, total=   3.2s\n",
      "[CV] max_depth=8, n_estimators=11 ....................................\n",
      "[CV] ...... max_depth=8, n_estimators=11, score=-11.591, total=   3.7s\n",
      "[CV] max_depth=8, n_estimators=11 ....................................\n",
      "[CV] ...... max_depth=8, n_estimators=11, score=-11.024, total=   3.4s\n",
      "[CV] max_depth=8, n_estimators=11 ....................................\n",
      "[CV] ...... max_depth=8, n_estimators=11, score=-11.763, total=   3.6s\n",
      "[CV] max_depth=8, n_estimators=11 ....................................\n",
      "[CV] ....... max_depth=8, n_estimators=11, score=-9.522, total=   3.4s\n",
      "[CV] max_depth=8, n_estimators=11 ....................................\n",
      "[CV] ...... max_depth=8, n_estimators=11, score=-10.668, total=   3.5s\n",
      "[CV] max_depth=8, n_estimators=12 ....................................\n",
      "[CV] ...... max_depth=8, n_estimators=12, score=-11.348, total=   3.9s\n",
      "[CV] max_depth=8, n_estimators=12 ....................................\n",
      "[CV] ...... max_depth=8, n_estimators=12, score=-10.914, total=   3.9s\n",
      "[CV] max_depth=8, n_estimators=12 ....................................\n",
      "[CV] ...... max_depth=8, n_estimators=12, score=-11.663, total=   3.7s\n",
      "[CV] max_depth=8, n_estimators=12 ....................................\n",
      "[CV] ....... max_depth=8, n_estimators=12, score=-9.493, total=   3.8s\n",
      "[CV] max_depth=8, n_estimators=12 ....................................\n",
      "[CV] ...... max_depth=8, n_estimators=12, score=-10.598, total=   3.8s\n",
      "[CV] max_depth=8, n_estimators=13 ....................................\n",
      "[CV] ...... max_depth=8, n_estimators=13, score=-11.218, total=   4.0s\n",
      "[CV] max_depth=8, n_estimators=13 ....................................\n",
      "[CV] ...... max_depth=8, n_estimators=13, score=-10.857, total=   4.3s\n",
      "[CV] max_depth=8, n_estimators=13 ....................................\n",
      "[CV] ...... max_depth=8, n_estimators=13, score=-11.514, total=   4.0s\n",
      "[CV] max_depth=8, n_estimators=13 ....................................\n",
      "[CV] ....... max_depth=8, n_estimators=13, score=-9.494, total=   4.1s\n",
      "[CV] max_depth=8, n_estimators=13 ....................................\n",
      "[CV] ...... max_depth=8, n_estimators=13, score=-10.489, total=   4.2s\n",
      "[CV] max_depth=8, n_estimators=14 ....................................\n",
      "[CV] ...... max_depth=8, n_estimators=14, score=-11.028, total=   4.3s\n",
      "[CV] max_depth=8, n_estimators=14 ....................................\n",
      "[CV] ...... max_depth=8, n_estimators=14, score=-10.970, total=   4.4s\n",
      "[CV] max_depth=8, n_estimators=14 ....................................\n",
      "[CV] ...... max_depth=8, n_estimators=14, score=-11.414, total=   4.6s\n",
      "[CV] max_depth=8, n_estimators=14 ....................................\n",
      "[CV] ....... max_depth=8, n_estimators=14, score=-9.557, total=   4.4s\n",
      "[CV] max_depth=8, n_estimators=14 ....................................\n",
      "[CV] ...... max_depth=8, n_estimators=14, score=-10.618, total=   4.5s\n",
      "[CV] max_depth=8, n_estimators=15 ....................................\n",
      "[CV] ...... max_depth=8, n_estimators=15, score=-11.863, total=   4.7s\n",
      "[CV] max_depth=8, n_estimators=15 ....................................\n",
      "[CV] ...... max_depth=8, n_estimators=15, score=-11.133, total=   4.6s\n",
      "[CV] max_depth=8, n_estimators=15 ....................................\n",
      "[CV] ...... max_depth=8, n_estimators=15, score=-11.384, total=   4.7s\n",
      "[CV] max_depth=8, n_estimators=15 ....................................\n",
      "[CV] ....... max_depth=8, n_estimators=15, score=-9.575, total=   4.8s\n",
      "[CV] max_depth=8, n_estimators=15 ....................................\n",
      "[CV] ...... max_depth=8, n_estimators=15, score=-10.531, total=   4.6s\n",
      "[CV] max_depth=8, n_estimators=16 ....................................\n",
      "[CV] ...... max_depth=8, n_estimators=16, score=-11.747, total=   5.2s\n",
      "[CV] max_depth=8, n_estimators=16 ....................................\n",
      "[CV] ...... max_depth=8, n_estimators=16, score=-11.256, total=   5.2s\n",
      "[CV] max_depth=8, n_estimators=16 ....................................\n",
      "[CV] ...... max_depth=8, n_estimators=16, score=-11.483, total=   4.9s\n",
      "[CV] max_depth=8, n_estimators=16 ....................................\n",
      "[CV] ....... max_depth=8, n_estimators=16, score=-9.629, total=   5.1s\n",
      "[CV] max_depth=8, n_estimators=16 ....................................\n",
      "[CV] ...... max_depth=8, n_estimators=16, score=-10.530, total=   5.1s\n",
      "[CV] max_depth=8, n_estimators=17 ....................................\n",
      "[CV] ...... max_depth=8, n_estimators=17, score=-11.698, total=   5.3s\n",
      "[CV] max_depth=8, n_estimators=17 ....................................\n",
      "[CV] ...... max_depth=8, n_estimators=17, score=-11.371, total=   5.3s\n",
      "[CV] max_depth=8, n_estimators=17 ....................................\n",
      "[CV] ...... max_depth=8, n_estimators=17, score=-11.389, total=   5.1s\n",
      "[CV] max_depth=8, n_estimators=17 ....................................\n",
      "[CV] ....... max_depth=8, n_estimators=17, score=-9.641, total=   5.3s\n",
      "[CV] max_depth=8, n_estimators=17 ....................................\n",
      "[CV] ...... max_depth=8, n_estimators=17, score=-10.378, total=   5.3s\n",
      "[CV] max_depth=8, n_estimators=18 ....................................\n",
      "[CV] ...... max_depth=8, n_estimators=18, score=-11.531, total=   5.6s\n",
      "[CV] max_depth=8, n_estimators=18 ....................................\n",
      "[CV] ...... max_depth=8, n_estimators=18, score=-11.169, total=   5.6s\n",
      "[CV] max_depth=8, n_estimators=18 ....................................\n",
      "[CV] ...... max_depth=8, n_estimators=18, score=-11.732, total=   5.4s\n",
      "[CV] max_depth=8, n_estimators=18 ....................................\n",
      "[CV] ....... max_depth=8, n_estimators=18, score=-9.686, total=   5.5s\n",
      "[CV] max_depth=8, n_estimators=18 ....................................\n",
      "[CV] ...... max_depth=8, n_estimators=18, score=-10.499, total=   5.6s\n",
      "[CV] max_depth=8, n_estimators=19 ....................................\n",
      "[CV] ...... max_depth=8, n_estimators=19, score=-11.313, total=   6.2s\n",
      "[CV] max_depth=8, n_estimators=19 ....................................\n",
      "[CV] ...... max_depth=8, n_estimators=19, score=-11.131, total=   5.9s\n",
      "[CV] max_depth=8, n_estimators=19 ....................................\n",
      "[CV] ...... max_depth=8, n_estimators=19, score=-11.577, total=   5.7s\n",
      "[CV] max_depth=8, n_estimators=19 ....................................\n",
      "[CV] ....... max_depth=8, n_estimators=19, score=-9.708, total=   5.9s\n",
      "[CV] max_depth=8, n_estimators=19 ....................................\n",
      "[CV] ...... max_depth=8, n_estimators=19, score=-10.488, total=   5.9s\n",
      "[CV] max_depth=9, n_estimators=1 .....................................\n",
      "[CV] ....... max_depth=9, n_estimators=1, score=-17.216, total=   0.4s\n",
      "[CV] max_depth=9, n_estimators=1 .....................................\n",
      "[CV] ....... max_depth=9, n_estimators=1, score=-13.705, total=   0.4s\n",
      "[CV] max_depth=9, n_estimators=1 .....................................\n",
      "[CV] ....... max_depth=9, n_estimators=1, score=-19.674, total=   0.3s\n",
      "[CV] max_depth=9, n_estimators=1 .....................................\n",
      "[CV] ....... max_depth=9, n_estimators=1, score=-11.288, total=   0.4s\n",
      "[CV] max_depth=9, n_estimators=1 .....................................\n",
      "[CV] ....... max_depth=9, n_estimators=1, score=-14.983, total=   0.4s\n",
      "[CV] max_depth=9, n_estimators=2 .....................................\n",
      "[CV] ....... max_depth=9, n_estimators=2, score=-12.515, total=   0.7s\n",
      "[CV] max_depth=9, n_estimators=2 .....................................\n",
      "[CV] ....... max_depth=9, n_estimators=2, score=-12.800, total=   0.7s\n",
      "[CV] max_depth=9, n_estimators=2 .....................................\n",
      "[CV] ....... max_depth=9, n_estimators=2, score=-14.298, total=   0.7s\n",
      "[CV] max_depth=9, n_estimators=2 .....................................\n",
      "[CV] ....... max_depth=9, n_estimators=2, score=-10.683, total=   0.7s\n",
      "[CV] max_depth=9, n_estimators=2 .....................................\n",
      "[CV] ....... max_depth=9, n_estimators=2, score=-11.726, total=   0.7s\n",
      "[CV] max_depth=9, n_estimators=3 .....................................\n",
      "[CV] ....... max_depth=9, n_estimators=3, score=-11.416, total=   1.0s\n",
      "[CV] max_depth=9, n_estimators=3 .....................................\n",
      "[CV] ....... max_depth=9, n_estimators=3, score=-12.139, total=   1.0s\n",
      "[CV] max_depth=9, n_estimators=3 .....................................\n",
      "[CV] ....... max_depth=9, n_estimators=3, score=-12.313, total=   1.0s\n",
      "[CV] max_depth=9, n_estimators=3 .....................................\n",
      "[CV] ....... max_depth=9, n_estimators=3, score=-10.880, total=   1.0s\n",
      "[CV] max_depth=9, n_estimators=3 .....................................\n",
      "[CV] ....... max_depth=9, n_estimators=3, score=-11.332, total=   1.1s\n",
      "[CV] max_depth=9, n_estimators=4 .....................................\n",
      "[CV] ....... max_depth=9, n_estimators=4, score=-11.299, total=   1.4s\n",
      "[CV] max_depth=9, n_estimators=4 .....................................\n",
      "[CV] ....... max_depth=9, n_estimators=4, score=-11.088, total=   1.4s\n",
      "[CV] max_depth=9, n_estimators=4 .....................................\n",
      "[CV] ....... max_depth=9, n_estimators=4, score=-11.001, total=   1.4s\n",
      "[CV] max_depth=9, n_estimators=4 .....................................\n",
      "[CV] ....... max_depth=9, n_estimators=4, score=-10.474, total=   1.4s\n",
      "[CV] max_depth=9, n_estimators=4 .....................................\n",
      "[CV] ....... max_depth=9, n_estimators=4, score=-11.106, total=   1.4s\n",
      "[CV] max_depth=9, n_estimators=5 .....................................\n",
      "[CV] ....... max_depth=9, n_estimators=5, score=-10.632, total=   1.7s\n",
      "[CV] max_depth=9, n_estimators=5 .....................................\n",
      "[CV] ....... max_depth=9, n_estimators=5, score=-10.502, total=   1.7s\n",
      "[CV] max_depth=9, n_estimators=5 .....................................\n",
      "[CV] ....... max_depth=9, n_estimators=5, score=-11.071, total=   1.7s\n",
      "[CV] max_depth=9, n_estimators=5 .....................................\n",
      "[CV] ........ max_depth=9, n_estimators=5, score=-9.962, total=   1.7s\n",
      "[CV] max_depth=9, n_estimators=5 .....................................\n",
      "[CV] ....... max_depth=9, n_estimators=5, score=-11.210, total=   1.7s\n",
      "[CV] max_depth=9, n_estimators=6 .....................................\n",
      "[CV] ....... max_depth=9, n_estimators=6, score=-10.538, total=   2.1s\n",
      "[CV] max_depth=9, n_estimators=6 .....................................\n",
      "[CV] ....... max_depth=9, n_estimators=6, score=-10.864, total=   2.1s\n",
      "[CV] max_depth=9, n_estimators=6 .....................................\n",
      "[CV] ....... max_depth=9, n_estimators=6, score=-10.427, total=   2.1s\n",
      "[CV] max_depth=9, n_estimators=6 .....................................\n",
      "[CV] ........ max_depth=9, n_estimators=6, score=-9.845, total=   2.1s\n",
      "[CV] max_depth=9, n_estimators=6 .....................................\n",
      "[CV] ....... max_depth=9, n_estimators=6, score=-11.050, total=   2.1s\n",
      "[CV] max_depth=9, n_estimators=7 .....................................\n",
      "[CV] ....... max_depth=9, n_estimators=7, score=-12.049, total=   2.4s\n",
      "[CV] max_depth=9, n_estimators=7 .....................................\n",
      "[CV] ....... max_depth=9, n_estimators=7, score=-10.863, total=   2.4s\n",
      "[CV] max_depth=9, n_estimators=7 .....................................\n",
      "[CV] ....... max_depth=9, n_estimators=7, score=-10.923, total=   2.4s\n",
      "[CV] max_depth=9, n_estimators=7 .....................................\n",
      "[CV] ........ max_depth=9, n_estimators=7, score=-9.787, total=   2.4s\n",
      "[CV] max_depth=9, n_estimators=7 .....................................\n",
      "[CV] ....... max_depth=9, n_estimators=7, score=-11.257, total=   2.4s\n",
      "[CV] max_depth=9, n_estimators=8 .....................................\n",
      "[CV] ....... max_depth=9, n_estimators=8, score=-11.654, total=   2.7s\n",
      "[CV] max_depth=9, n_estimators=8 .....................................\n",
      "[CV] ....... max_depth=9, n_estimators=8, score=-10.905, total=   2.7s\n",
      "[CV] max_depth=9, n_estimators=8 .....................................\n",
      "[CV] ....... max_depth=9, n_estimators=8, score=-11.321, total=   2.7s\n",
      "[CV] max_depth=9, n_estimators=8 .....................................\n",
      "[CV] ........ max_depth=9, n_estimators=8, score=-9.797, total=   2.7s\n",
      "[CV] max_depth=9, n_estimators=8 .....................................\n",
      "[CV] ....... max_depth=9, n_estimators=8, score=-11.118, total=   2.8s\n",
      "[CV] max_depth=9, n_estimators=9 .....................................\n",
      "[CV] ....... max_depth=9, n_estimators=9, score=-11.373, total=   3.1s\n",
      "[CV] max_depth=9, n_estimators=9 .....................................\n",
      "[CV] ....... max_depth=9, n_estimators=9, score=-11.610, total=   3.2s\n",
      "[CV] max_depth=9, n_estimators=9 .....................................\n",
      "[CV] ....... max_depth=9, n_estimators=9, score=-11.797, total=   3.0s\n",
      "[CV] max_depth=9, n_estimators=9 .....................................\n",
      "[CV] ........ max_depth=9, n_estimators=9, score=-9.711, total=   3.3s\n",
      "[CV] max_depth=9, n_estimators=9 .....................................\n",
      "[CV] ....... max_depth=9, n_estimators=9, score=-11.170, total=   3.2s\n",
      "[CV] max_depth=9, n_estimators=10 ....................................\n",
      "[CV] ...... max_depth=9, n_estimators=10, score=-12.601, total=   3.4s\n",
      "[CV] max_depth=9, n_estimators=10 ....................................\n",
      "[CV] ...... max_depth=9, n_estimators=10, score=-11.359, total=   3.4s\n",
      "[CV] max_depth=9, n_estimators=10 ....................................\n",
      "[CV] ...... max_depth=9, n_estimators=10, score=-11.665, total=   3.3s\n",
      "[CV] max_depth=9, n_estimators=10 ....................................\n",
      "[CV] ....... max_depth=9, n_estimators=10, score=-9.532, total=   3.5s\n",
      "[CV] max_depth=9, n_estimators=10 ....................................\n",
      "[CV] ...... max_depth=9, n_estimators=10, score=-11.374, total=   3.7s\n",
      "[CV] max_depth=9, n_estimators=11 ....................................\n",
      "[CV] ...... max_depth=9, n_estimators=11, score=-12.028, total=   3.8s\n",
      "[CV] max_depth=9, n_estimators=11 ....................................\n",
      "[CV] ...... max_depth=9, n_estimators=11, score=-11.277, total=   3.8s\n",
      "[CV] max_depth=9, n_estimators=11 ....................................\n",
      "[CV] ...... max_depth=9, n_estimators=11, score=-12.103, total=   3.7s\n",
      "[CV] max_depth=9, n_estimators=11 ....................................\n",
      "[CV] ....... max_depth=9, n_estimators=11, score=-9.618, total=   3.8s\n",
      "[CV] max_depth=9, n_estimators=11 ....................................\n",
      "[CV] ...... max_depth=9, n_estimators=11, score=-11.251, total=   3.8s\n",
      "[CV] max_depth=9, n_estimators=12 ....................................\n",
      "[CV] ...... max_depth=9, n_estimators=12, score=-11.729, total=   4.1s\n",
      "[CV] max_depth=9, n_estimators=12 ....................................\n",
      "[CV] ...... max_depth=9, n_estimators=12, score=-11.252, total=   4.2s\n",
      "[CV] max_depth=9, n_estimators=12 ....................................\n",
      "[CV] ...... max_depth=9, n_estimators=12, score=-11.926, total=   4.0s\n",
      "[CV] max_depth=9, n_estimators=12 ....................................\n",
      "[CV] ....... max_depth=9, n_estimators=12, score=-9.572, total=   4.1s\n",
      "[CV] max_depth=9, n_estimators=12 ....................................\n",
      "[CV] ...... max_depth=9, n_estimators=12, score=-11.099, total=   4.3s\n",
      "[CV] max_depth=9, n_estimators=13 ....................................\n",
      "[CV] ...... max_depth=9, n_estimators=13, score=-11.580, total=   4.6s\n",
      "[CV] max_depth=9, n_estimators=13 ....................................\n",
      "[CV] ...... max_depth=9, n_estimators=13, score=-11.156, total=   4.6s\n",
      "[CV] max_depth=9, n_estimators=13 ....................................\n",
      "[CV] ...... max_depth=9, n_estimators=13, score=-11.729, total=   4.3s\n",
      "[CV] max_depth=9, n_estimators=13 ....................................\n",
      "[CV] ....... max_depth=9, n_estimators=13, score=-9.586, total=   4.5s\n",
      "[CV] max_depth=9, n_estimators=13 ....................................\n",
      "[CV] ...... max_depth=9, n_estimators=13, score=-10.940, total=   4.6s\n",
      "[CV] max_depth=9, n_estimators=14 ....................................\n",
      "[CV] ...... max_depth=9, n_estimators=14, score=-11.350, total=   5.5s\n",
      "[CV] max_depth=9, n_estimators=14 ....................................\n",
      "[CV] ...... max_depth=9, n_estimators=14, score=-11.590, total=   5.9s\n",
      "[CV] max_depth=9, n_estimators=14 ....................................\n",
      "[CV] ...... max_depth=9, n_estimators=14, score=-11.934, total=   4.7s\n",
      "[CV] max_depth=9, n_estimators=14 ....................................\n",
      "[CV] ....... max_depth=9, n_estimators=14, score=-9.578, total=   4.8s\n",
      "[CV] max_depth=9, n_estimators=14 ....................................\n",
      "[CV] ...... max_depth=9, n_estimators=14, score=-10.985, total=   4.8s\n",
      "[CV] max_depth=9, n_estimators=15 ....................................\n",
      "[CV] ...... max_depth=9, n_estimators=15, score=-12.150, total=   5.2s\n",
      "[CV] max_depth=9, n_estimators=15 ....................................\n",
      "[CV] ...... max_depth=9, n_estimators=15, score=-11.661, total=   5.1s\n",
      "[CV] max_depth=9, n_estimators=15 ....................................\n",
      "[CV] ...... max_depth=9, n_estimators=15, score=-11.760, total=   5.0s\n",
      "[CV] max_depth=9, n_estimators=15 ....................................\n",
      "[CV] ....... max_depth=9, n_estimators=15, score=-9.582, total=   5.1s\n",
      "[CV] max_depth=9, n_estimators=15 ....................................\n",
      "[CV] ...... max_depth=9, n_estimators=15, score=-10.883, total=   5.2s\n",
      "[CV] max_depth=9, n_estimators=16 ....................................\n",
      "[CV] ...... max_depth=9, n_estimators=16, score=-11.970, total=   5.7s\n",
      "[CV] max_depth=9, n_estimators=16 ....................................\n",
      "[CV] ...... max_depth=9, n_estimators=16, score=-11.785, total=   5.5s\n",
      "[CV] max_depth=9, n_estimators=16 ....................................\n",
      "[CV] ...... max_depth=9, n_estimators=16, score=-11.751, total=   5.3s\n",
      "[CV] max_depth=9, n_estimators=16 ....................................\n",
      "[CV] ....... max_depth=9, n_estimators=16, score=-9.630, total=   5.5s\n",
      "[CV] max_depth=9, n_estimators=16 ....................................\n",
      "[CV] ...... max_depth=9, n_estimators=16, score=-10.868, total=   5.5s\n",
      "[CV] max_depth=9, n_estimators=17 ....................................\n",
      "[CV] ...... max_depth=9, n_estimators=17, score=-11.903, total=   5.8s\n",
      "[CV] max_depth=9, n_estimators=17 ....................................\n",
      "[CV] ...... max_depth=9, n_estimators=17, score=-11.952, total=   5.8s\n",
      "[CV] max_depth=9, n_estimators=17 ....................................\n",
      "[CV] ...... max_depth=9, n_estimators=17, score=-11.567, total=   5.6s\n",
      "[CV] max_depth=9, n_estimators=17 ....................................\n",
      "[CV] ....... max_depth=9, n_estimators=17, score=-9.666, total=   5.8s\n",
      "[CV] max_depth=9, n_estimators=17 ....................................\n",
      "[CV] ...... max_depth=9, n_estimators=17, score=-10.687, total=   5.9s\n",
      "[CV] max_depth=9, n_estimators=18 ....................................\n",
      "[CV] ...... max_depth=9, n_estimators=18, score=-11.730, total=   6.2s\n",
      "[CV] max_depth=9, n_estimators=18 ....................................\n",
      "[CV] ...... max_depth=9, n_estimators=18, score=-11.684, total=   6.2s\n",
      "[CV] max_depth=9, n_estimators=18 ....................................\n",
      "[CV] ...... max_depth=9, n_estimators=18, score=-11.940, total=   6.0s\n",
      "[CV] max_depth=9, n_estimators=18 ....................................\n",
      "[CV] ....... max_depth=9, n_estimators=18, score=-9.672, total=   6.1s\n",
      "[CV] max_depth=9, n_estimators=18 ....................................\n",
      "[CV] ...... max_depth=9, n_estimators=18, score=-10.756, total=   6.2s\n",
      "[CV] max_depth=9, n_estimators=19 ....................................\n",
      "[CV] ...... max_depth=9, n_estimators=19, score=-11.328, total=   6.5s\n",
      "[CV] max_depth=9, n_estimators=19 ....................................\n",
      "[CV] ...... max_depth=9, n_estimators=19, score=-11.596, total=   6.5s\n",
      "[CV] max_depth=9, n_estimators=19 ....................................\n",
      "[CV] ...... max_depth=9, n_estimators=19, score=-11.790, total=   6.3s\n",
      "[CV] max_depth=9, n_estimators=19 ....................................\n",
      "[CV] ....... max_depth=9, n_estimators=19, score=-9.688, total=   6.5s\n",
      "[CV] max_depth=9, n_estimators=19 ....................................\n",
      "[CV] ...... max_depth=9, n_estimators=19, score=-10.759, total=   6.6s\n"
     ]
    },
    {
     "name": "stderr",
     "output_type": "stream",
     "text": [
      "[Parallel(n_jobs=-1)]: Done 855 out of 855 | elapsed: 29.5min finished\n"
     ]
    },
    {
     "name": "stdout",
     "output_type": "stream",
     "text": [
      "{'max_depth': 7, 'n_estimators': 5}\n"
     ]
    }
   ],
   "source": [
    "forest_final = RandomForestRegressor(random_state=12345)\n",
    "parameters = { 'n_estimators': range (1, 20),\n",
    "              'max_depth': range (1, 10) }\n",
    "\n",
    "\n",
    "grid = GridSearchCV(forest_final, parameters, cv=5, scoring=make_scorer(smape, greater_is_better=False),\\\n",
    "                    verbose=3, n_jobs=-1, refit=True)\n",
    "grid.fit(features_train, target_final_train)\n",
    "\n",
    "print(grid.best_params_)"
   ]
  },
  {
   "cell_type": "markdown",
   "metadata": {},
   "source": [
    "Наиболее подходящие параметры: {'max_depth': 7, 'n_estimators': 5}"
   ]
  },
  {
   "cell_type": "code",
   "execution_count": 31,
   "metadata": {},
   "outputs": [
    {
     "name": "stdout",
     "output_type": "stream",
     "text": [
      "building tree 1 of 5\n"
     ]
    },
    {
     "name": "stderr",
     "output_type": "stream",
     "text": [
      "[Parallel(n_jobs=-1)]: Using backend SequentialBackend with 1 concurrent workers.\n",
      "[Parallel(n_jobs=-1)]: Done   1 out of   1 | elapsed:    0.5s remaining:    0.0s\n"
     ]
    },
    {
     "name": "stdout",
     "output_type": "stream",
     "text": [
      "building tree 2 of 5\n"
     ]
    },
    {
     "name": "stderr",
     "output_type": "stream",
     "text": [
      "[Parallel(n_jobs=-1)]: Done   2 out of   2 | elapsed:    0.8s remaining:    0.0s\n"
     ]
    },
    {
     "name": "stdout",
     "output_type": "stream",
     "text": [
      "building tree 3 of 5\n",
      "building tree 4 of 5\n",
      "building tree 5 of 5\n"
     ]
    },
    {
     "name": "stderr",
     "output_type": "stream",
     "text": [
      "[Parallel(n_jobs=-1)]: Done   5 out of   5 | elapsed:    1.8s finished\n",
      "[Parallel(n_jobs=-1)]: Using backend SequentialBackend with 1 concurrent workers.\n"
     ]
    },
    {
     "name": "stdout",
     "output_type": "stream",
     "text": [
      "building tree 1 of 5\n"
     ]
    },
    {
     "name": "stderr",
     "output_type": "stream",
     "text": [
      "[Parallel(n_jobs=-1)]: Done   1 out of   1 | elapsed:    0.3s remaining:    0.0s\n"
     ]
    },
    {
     "name": "stdout",
     "output_type": "stream",
     "text": [
      "building tree 2 of 5\n"
     ]
    },
    {
     "name": "stderr",
     "output_type": "stream",
     "text": [
      "[Parallel(n_jobs=-1)]: Done   2 out of   2 | elapsed:    0.6s remaining:    0.0s\n"
     ]
    },
    {
     "name": "stdout",
     "output_type": "stream",
     "text": [
      "building tree 3 of 5\n",
      "building tree 4 of 5\n",
      "building tree 5 of 5\n"
     ]
    },
    {
     "name": "stderr",
     "output_type": "stream",
     "text": [
      "[Parallel(n_jobs=-1)]: Done   5 out of   5 | elapsed:    1.4s finished\n",
      "[Parallel(n_jobs=1)]: Using backend SequentialBackend with 1 concurrent workers.\n",
      "[Parallel(n_jobs=1)]: Done   1 out of   1 | elapsed:    0.0s remaining:    0.0s\n",
      "[Parallel(n_jobs=1)]: Done   2 out of   2 | elapsed:    0.0s remaining:    0.0s\n",
      "[Parallel(n_jobs=1)]: Done   5 out of   5 | elapsed:    0.0s finished\n",
      "[Parallel(n_jobs=-1)]: Using backend SequentialBackend with 1 concurrent workers.\n"
     ]
    },
    {
     "name": "stdout",
     "output_type": "stream",
     "text": [
      "building tree 1 of 5\n"
     ]
    },
    {
     "name": "stderr",
     "output_type": "stream",
     "text": [
      "[Parallel(n_jobs=-1)]: Done   1 out of   1 | elapsed:    0.3s remaining:    0.0s\n"
     ]
    },
    {
     "name": "stdout",
     "output_type": "stream",
     "text": [
      "building tree 2 of 5\n"
     ]
    },
    {
     "name": "stderr",
     "output_type": "stream",
     "text": [
      "[Parallel(n_jobs=-1)]: Done   2 out of   2 | elapsed:    0.6s remaining:    0.0s\n"
     ]
    },
    {
     "name": "stdout",
     "output_type": "stream",
     "text": [
      "building tree 3 of 5\n",
      "building tree 4 of 5\n",
      "building tree 5 of 5\n"
     ]
    },
    {
     "name": "stderr",
     "output_type": "stream",
     "text": [
      "[Parallel(n_jobs=-1)]: Done   5 out of   5 | elapsed:    1.4s finished\n",
      "[Parallel(n_jobs=1)]: Using backend SequentialBackend with 1 concurrent workers.\n",
      "[Parallel(n_jobs=1)]: Done   1 out of   1 | elapsed:    0.0s remaining:    0.0s\n",
      "[Parallel(n_jobs=1)]: Done   2 out of   2 | elapsed:    0.0s remaining:    0.0s\n",
      "[Parallel(n_jobs=1)]: Done   5 out of   5 | elapsed:    0.0s finished\n",
      "[Parallel(n_jobs=-1)]: Using backend SequentialBackend with 1 concurrent workers.\n"
     ]
    },
    {
     "name": "stdout",
     "output_type": "stream",
     "text": [
      "building tree 1 of 5\n"
     ]
    },
    {
     "name": "stderr",
     "output_type": "stream",
     "text": [
      "[Parallel(n_jobs=-1)]: Done   1 out of   1 | elapsed:    0.3s remaining:    0.0s\n"
     ]
    },
    {
     "name": "stdout",
     "output_type": "stream",
     "text": [
      "building tree 2 of 5\n"
     ]
    },
    {
     "name": "stderr",
     "output_type": "stream",
     "text": [
      "[Parallel(n_jobs=-1)]: Done   2 out of   2 | elapsed:    0.5s remaining:    0.0s\n"
     ]
    },
    {
     "name": "stdout",
     "output_type": "stream",
     "text": [
      "building tree 3 of 5\n",
      "building tree 4 of 5\n",
      "building tree 5 of 5\n"
     ]
    },
    {
     "name": "stderr",
     "output_type": "stream",
     "text": [
      "[Parallel(n_jobs=-1)]: Done   5 out of   5 | elapsed:    1.4s finished\n",
      "[Parallel(n_jobs=1)]: Using backend SequentialBackend with 1 concurrent workers.\n",
      "[Parallel(n_jobs=1)]: Done   1 out of   1 | elapsed:    0.0s remaining:    0.0s\n",
      "[Parallel(n_jobs=1)]: Done   2 out of   2 | elapsed:    0.0s remaining:    0.0s\n",
      "[Parallel(n_jobs=1)]: Done   5 out of   5 | elapsed:    0.0s finished\n",
      "[Parallel(n_jobs=-1)]: Using backend SequentialBackend with 1 concurrent workers.\n"
     ]
    },
    {
     "name": "stdout",
     "output_type": "stream",
     "text": [
      "building tree 1 of 5\n"
     ]
    },
    {
     "name": "stderr",
     "output_type": "stream",
     "text": [
      "[Parallel(n_jobs=-1)]: Done   1 out of   1 | elapsed:    0.3s remaining:    0.0s\n"
     ]
    },
    {
     "name": "stdout",
     "output_type": "stream",
     "text": [
      "building tree 2 of 5\n"
     ]
    },
    {
     "name": "stderr",
     "output_type": "stream",
     "text": [
      "[Parallel(n_jobs=-1)]: Done   2 out of   2 | elapsed:    0.6s remaining:    0.0s\n"
     ]
    },
    {
     "name": "stdout",
     "output_type": "stream",
     "text": [
      "building tree 3 of 5\n",
      "building tree 4 of 5\n",
      "building tree 5 of 5\n"
     ]
    },
    {
     "name": "stderr",
     "output_type": "stream",
     "text": [
      "[Parallel(n_jobs=-1)]: Done   5 out of   5 | elapsed:    1.4s finished\n",
      "[Parallel(n_jobs=1)]: Using backend SequentialBackend with 1 concurrent workers.\n",
      "[Parallel(n_jobs=1)]: Done   1 out of   1 | elapsed:    0.0s remaining:    0.0s\n",
      "[Parallel(n_jobs=1)]: Done   2 out of   2 | elapsed:    0.0s remaining:    0.0s\n",
      "[Parallel(n_jobs=1)]: Done   5 out of   5 | elapsed:    0.0s finished\n",
      "[Parallel(n_jobs=-1)]: Using backend SequentialBackend with 1 concurrent workers.\n"
     ]
    },
    {
     "name": "stdout",
     "output_type": "stream",
     "text": [
      "building tree 1 of 5\n"
     ]
    },
    {
     "name": "stderr",
     "output_type": "stream",
     "text": [
      "[Parallel(n_jobs=-1)]: Done   1 out of   1 | elapsed:    0.3s remaining:    0.0s\n"
     ]
    },
    {
     "name": "stdout",
     "output_type": "stream",
     "text": [
      "building tree 2 of 5\n"
     ]
    },
    {
     "name": "stderr",
     "output_type": "stream",
     "text": [
      "[Parallel(n_jobs=-1)]: Done   2 out of   2 | elapsed:    0.6s remaining:    0.0s\n"
     ]
    },
    {
     "name": "stdout",
     "output_type": "stream",
     "text": [
      "building tree 3 of 5\n",
      "building tree 4 of 5\n",
      "building tree 5 of 5\n",
      "-9.732225107749713\n"
     ]
    },
    {
     "name": "stderr",
     "output_type": "stream",
     "text": [
      "[Parallel(n_jobs=-1)]: Done   5 out of   5 | elapsed:    1.4s finished\n",
      "[Parallel(n_jobs=1)]: Using backend SequentialBackend with 1 concurrent workers.\n",
      "[Parallel(n_jobs=1)]: Done   1 out of   1 | elapsed:    0.0s remaining:    0.0s\n",
      "[Parallel(n_jobs=1)]: Done   2 out of   2 | elapsed:    0.0s remaining:    0.0s\n",
      "[Parallel(n_jobs=1)]: Done   5 out of   5 | elapsed:    0.0s finished\n"
     ]
    }
   ],
   "source": [
    "forest_final = RandomForestRegressor(random_state=12345, n_estimators=5, \\\n",
    "                                       max_depth=7, verbose=3, n_jobs=-1).fit(features_train, target_rougher_train)\n",
    "\n",
    "smape_forest_final = cross_val_score(forest_final, features_train, target_final_train,\\\n",
    "                                      scoring = make_scorer(smape, greater_is_better=False), cv = 5).mean()\n",
    "print(smape_forest_final)"
   ]
  },
  {
   "cell_type": "code",
   "execution_count": 32,
   "metadata": {},
   "outputs": [
    {
     "name": "stdout",
     "output_type": "stream",
     "text": [
      "sMAPE forest -6.3982436599836845\n",
      "sMAPE final -9.732225107749713\n",
      "sMAPE_general -8.898729745808206\n"
     ]
    }
   ],
   "source": [
    "print('sMAPE forest', smape_forest_rougher)\n",
    "print('sMAPE final', smape_forest_final)\n",
    "print('sMAPE_general', general_smape(smape_forest_rougher, smape_forest_final))"
   ]
  },
  {
   "cell_type": "markdown",
   "metadata": {},
   "source": [
    "Согласно оценке моделей, Random forest показывает  результат немного лучше, чем линейная регрессия. Протестируем выбранную модель с подобранными гиперпараметрами на тестовой выборке"
   ]
  },
  {
   "cell_type": "code",
   "execution_count": 33,
   "metadata": {},
   "outputs": [
    {
     "name": "stderr",
     "output_type": "stream",
     "text": [
      "[Parallel(n_jobs=-1)]: Using backend SequentialBackend with 1 concurrent workers.\n",
      "[Parallel(n_jobs=-1)]: Done   1 out of   1 | elapsed:    0.1s remaining:    0.0s\n"
     ]
    },
    {
     "name": "stdout",
     "output_type": "stream",
     "text": [
      "building tree 1 of 6\n",
      "building tree 2 of 6\n",
      "building tree 3 of 6\n"
     ]
    },
    {
     "name": "stderr",
     "output_type": "stream",
     "text": [
      "[Parallel(n_jobs=-1)]: Done   2 out of   2 | elapsed:    0.2s remaining:    0.0s\n"
     ]
    },
    {
     "name": "stdout",
     "output_type": "stream",
     "text": [
      "building tree 4 of 6\n",
      "building tree 5 of 6\n",
      "building tree 6 of 6\n"
     ]
    },
    {
     "name": "stderr",
     "output_type": "stream",
     "text": [
      "[Parallel(n_jobs=-1)]: Done   6 out of   6 | elapsed:    0.5s finished\n",
      "[Parallel(n_jobs=-1)]: Using backend SequentialBackend with 1 concurrent workers.\n",
      "[Parallel(n_jobs=-1)]: Done   1 out of   1 | elapsed:    0.1s remaining:    0.0s\n",
      "[Parallel(n_jobs=-1)]: Done   2 out of   2 | elapsed:    0.1s remaining:    0.0s\n"
     ]
    },
    {
     "name": "stdout",
     "output_type": "stream",
     "text": [
      "building tree 1 of 6\n",
      "building tree 2 of 6\n",
      "building tree 3 of 6\n",
      "building tree 4 of 6\n",
      "building tree 5 of 6\n",
      "building tree 6 of 6\n",
      "building tree 1 of 6\n",
      "building tree 2 of 6\n"
     ]
    },
    {
     "name": "stderr",
     "output_type": "stream",
     "text": [
      "[Parallel(n_jobs=-1)]: Done   6 out of   6 | elapsed:    0.4s finished\n",
      "[Parallel(n_jobs=1)]: Using backend SequentialBackend with 1 concurrent workers.\n",
      "[Parallel(n_jobs=1)]: Done   1 out of   1 | elapsed:    0.0s remaining:    0.0s\n",
      "[Parallel(n_jobs=1)]: Done   2 out of   2 | elapsed:    0.0s remaining:    0.0s\n",
      "[Parallel(n_jobs=1)]: Done   6 out of   6 | elapsed:    0.0s finished\n",
      "[Parallel(n_jobs=-1)]: Using backend SequentialBackend with 1 concurrent workers.\n",
      "[Parallel(n_jobs=-1)]: Done   1 out of   1 | elapsed:    0.1s remaining:    0.0s\n",
      "[Parallel(n_jobs=-1)]: Done   2 out of   2 | elapsed:    0.1s remaining:    0.0s\n"
     ]
    },
    {
     "name": "stdout",
     "output_type": "stream",
     "text": [
      "building tree 3 of 6\n",
      "building tree 4 of 6\n",
      "building tree 5 of 6\n",
      "building tree 6 of 6\n"
     ]
    },
    {
     "name": "stderr",
     "output_type": "stream",
     "text": [
      "[Parallel(n_jobs=-1)]: Done   6 out of   6 | elapsed:    0.4s finished\n",
      "[Parallel(n_jobs=1)]: Using backend SequentialBackend with 1 concurrent workers.\n",
      "[Parallel(n_jobs=1)]: Done   1 out of   1 | elapsed:    0.0s remaining:    0.0s\n",
      "[Parallel(n_jobs=1)]: Done   2 out of   2 | elapsed:    0.0s remaining:    0.0s\n",
      "[Parallel(n_jobs=1)]: Done   6 out of   6 | elapsed:    0.0s finished\n",
      "[Parallel(n_jobs=-1)]: Using backend SequentialBackend with 1 concurrent workers.\n",
      "[Parallel(n_jobs=-1)]: Done   1 out of   1 | elapsed:    0.1s remaining:    0.0s\n",
      "[Parallel(n_jobs=-1)]: Done   2 out of   2 | elapsed:    0.1s remaining:    0.0s\n"
     ]
    },
    {
     "name": "stdout",
     "output_type": "stream",
     "text": [
      "building tree 1 of 6\n",
      "building tree 2 of 6\n",
      "building tree 3 of 6\n",
      "building tree 4 of 6\n",
      "building tree 5 of 6\n",
      "building tree 6 of 6\n",
      "building tree 1 of 6\n",
      "building tree 2 of 6\n"
     ]
    },
    {
     "name": "stderr",
     "output_type": "stream",
     "text": [
      "[Parallel(n_jobs=-1)]: Done   6 out of   6 | elapsed:    0.4s finished\n",
      "[Parallel(n_jobs=1)]: Using backend SequentialBackend with 1 concurrent workers.\n",
      "[Parallel(n_jobs=1)]: Done   1 out of   1 | elapsed:    0.0s remaining:    0.0s\n",
      "[Parallel(n_jobs=1)]: Done   2 out of   2 | elapsed:    0.0s remaining:    0.0s\n",
      "[Parallel(n_jobs=1)]: Done   6 out of   6 | elapsed:    0.0s finished\n",
      "[Parallel(n_jobs=-1)]: Using backend SequentialBackend with 1 concurrent workers.\n",
      "[Parallel(n_jobs=-1)]: Done   1 out of   1 | elapsed:    0.1s remaining:    0.0s\n",
      "[Parallel(n_jobs=-1)]: Done   2 out of   2 | elapsed:    0.1s remaining:    0.0s\n"
     ]
    },
    {
     "name": "stdout",
     "output_type": "stream",
     "text": [
      "building tree 3 of 6\n",
      "building tree 4 of 6\n",
      "building tree 5 of 6\n",
      "building tree 6 of 6\n"
     ]
    },
    {
     "name": "stderr",
     "output_type": "stream",
     "text": [
      "[Parallel(n_jobs=-1)]: Done   6 out of   6 | elapsed:    0.4s finished\n",
      "[Parallel(n_jobs=1)]: Using backend SequentialBackend with 1 concurrent workers.\n",
      "[Parallel(n_jobs=1)]: Done   1 out of   1 | elapsed:    0.0s remaining:    0.0s\n",
      "[Parallel(n_jobs=1)]: Done   2 out of   2 | elapsed:    0.0s remaining:    0.0s\n",
      "[Parallel(n_jobs=1)]: Done   6 out of   6 | elapsed:    0.0s finished\n",
      "[Parallel(n_jobs=-1)]: Using backend SequentialBackend with 1 concurrent workers.\n",
      "[Parallel(n_jobs=-1)]: Done   1 out of   1 | elapsed:    0.1s remaining:    0.0s\n",
      "[Parallel(n_jobs=-1)]: Done   2 out of   2 | elapsed:    0.1s remaining:    0.0s\n"
     ]
    },
    {
     "name": "stdout",
     "output_type": "stream",
     "text": [
      "building tree 1 of 6\n",
      "building tree 2 of 6\n",
      "building tree 3 of 6\n",
      "building tree 4 of 6\n",
      "building tree 5 of 6\n",
      "building tree 6 of 6\n",
      "-4.081595159792927\n"
     ]
    },
    {
     "name": "stderr",
     "output_type": "stream",
     "text": [
      "[Parallel(n_jobs=-1)]: Done   6 out of   6 | elapsed:    0.4s finished\n",
      "[Parallel(n_jobs=1)]: Using backend SequentialBackend with 1 concurrent workers.\n",
      "[Parallel(n_jobs=1)]: Done   1 out of   1 | elapsed:    0.0s remaining:    0.0s\n",
      "[Parallel(n_jobs=1)]: Done   2 out of   2 | elapsed:    0.0s remaining:    0.0s\n",
      "[Parallel(n_jobs=1)]: Done   6 out of   6 | elapsed:    0.0s finished\n"
     ]
    }
   ],
   "source": [
    "forest_rougher = RandomForestRegressor(random_state=12345, n_estimators=6, \\\n",
    "                                       max_depth=4, verbose=3, n_jobs=-1).fit(features_test, target_rougher_test)\n",
    "\n",
    "smape_forest_rougher = cross_val_score(forest_rougher, features_test, target_rougher_test,\\\n",
    "                                      scoring = make_scorer(smape, greater_is_better=False), cv = 5).mean()\n",
    "print(smape_forest_rougher)"
   ]
  },
  {
   "cell_type": "code",
   "execution_count": 34,
   "metadata": {
    "scrolled": true
   },
   "outputs": [
    {
     "name": "stdout",
     "output_type": "stream",
     "text": [
      "building tree 1 of 6\n"
     ]
    },
    {
     "name": "stderr",
     "output_type": "stream",
     "text": [
      "[Parallel(n_jobs=-1)]: Using backend SequentialBackend with 1 concurrent workers.\n",
      "[Parallel(n_jobs=-1)]: Done   1 out of   1 | elapsed:    0.1s remaining:    0.0s\n",
      "[Parallel(n_jobs=-1)]: Done   2 out of   2 | elapsed:    0.2s remaining:    0.0s\n"
     ]
    },
    {
     "name": "stdout",
     "output_type": "stream",
     "text": [
      "building tree 2 of 6\n",
      "building tree 3 of 6\n",
      "building tree 4 of 6\n",
      "building tree 5 of 6\n",
      "building tree 6 of 6\n",
      "building tree 1 of 6\n"
     ]
    },
    {
     "name": "stderr",
     "output_type": "stream",
     "text": [
      "[Parallel(n_jobs=-1)]: Done   6 out of   6 | elapsed:    0.5s finished\n",
      "[Parallel(n_jobs=-1)]: Using backend SequentialBackend with 1 concurrent workers.\n",
      "[Parallel(n_jobs=-1)]: Done   1 out of   1 | elapsed:    0.1s remaining:    0.0s\n",
      "[Parallel(n_jobs=-1)]: Done   2 out of   2 | elapsed:    0.1s remaining:    0.0s\n"
     ]
    },
    {
     "name": "stdout",
     "output_type": "stream",
     "text": [
      "building tree 2 of 6\n",
      "building tree 3 of 6\n",
      "building tree 4 of 6\n",
      "building tree 5 of 6\n",
      "building tree 6 of 6\n",
      "building tree 1 of 6\n",
      "building tree 2 of 6\n",
      "building tree 3 of 6\n"
     ]
    },
    {
     "name": "stderr",
     "output_type": "stream",
     "text": [
      "[Parallel(n_jobs=-1)]: Done   6 out of   6 | elapsed:    0.4s finished\n",
      "[Parallel(n_jobs=1)]: Using backend SequentialBackend with 1 concurrent workers.\n",
      "[Parallel(n_jobs=1)]: Done   1 out of   1 | elapsed:    0.0s remaining:    0.0s\n",
      "[Parallel(n_jobs=1)]: Done   2 out of   2 | elapsed:    0.0s remaining:    0.0s\n",
      "[Parallel(n_jobs=1)]: Done   6 out of   6 | elapsed:    0.0s finished\n",
      "[Parallel(n_jobs=-1)]: Using backend SequentialBackend with 1 concurrent workers.\n",
      "[Parallel(n_jobs=-1)]: Done   1 out of   1 | elapsed:    0.1s remaining:    0.0s\n",
      "[Parallel(n_jobs=-1)]: Done   2 out of   2 | elapsed:    0.1s remaining:    0.0s\n"
     ]
    },
    {
     "name": "stdout",
     "output_type": "stream",
     "text": [
      "building tree 4 of 6\n",
      "building tree 5 of 6\n",
      "building tree 6 of 6\n",
      "building tree 1 of 6\n",
      "building tree 2 of 6\n"
     ]
    },
    {
     "name": "stderr",
     "output_type": "stream",
     "text": [
      "[Parallel(n_jobs=-1)]: Done   6 out of   6 | elapsed:    0.4s finished\n",
      "[Parallel(n_jobs=1)]: Using backend SequentialBackend with 1 concurrent workers.\n",
      "[Parallel(n_jobs=1)]: Done   1 out of   1 | elapsed:    0.0s remaining:    0.0s\n",
      "[Parallel(n_jobs=1)]: Done   2 out of   2 | elapsed:    0.0s remaining:    0.0s\n",
      "[Parallel(n_jobs=1)]: Done   6 out of   6 | elapsed:    0.0s finished\n",
      "[Parallel(n_jobs=-1)]: Using backend SequentialBackend with 1 concurrent workers.\n",
      "[Parallel(n_jobs=-1)]: Done   1 out of   1 | elapsed:    0.1s remaining:    0.0s\n",
      "[Parallel(n_jobs=-1)]: Done   2 out of   2 | elapsed:    0.1s remaining:    0.0s\n"
     ]
    },
    {
     "name": "stdout",
     "output_type": "stream",
     "text": [
      "building tree 3 of 6\n",
      "building tree 4 of 6\n",
      "building tree 5 of 6\n",
      "building tree 6 of 6\n",
      "building tree 1 of 6\n",
      "building tree 2 of 6\n"
     ]
    },
    {
     "name": "stderr",
     "output_type": "stream",
     "text": [
      "[Parallel(n_jobs=-1)]: Done   6 out of   6 | elapsed:    0.4s finished\n",
      "[Parallel(n_jobs=1)]: Using backend SequentialBackend with 1 concurrent workers.\n",
      "[Parallel(n_jobs=1)]: Done   1 out of   1 | elapsed:    0.0s remaining:    0.0s\n",
      "[Parallel(n_jobs=1)]: Done   2 out of   2 | elapsed:    0.0s remaining:    0.0s\n",
      "[Parallel(n_jobs=1)]: Done   6 out of   6 | elapsed:    0.0s finished\n",
      "[Parallel(n_jobs=-1)]: Using backend SequentialBackend with 1 concurrent workers.\n",
      "[Parallel(n_jobs=-1)]: Done   1 out of   1 | elapsed:    0.1s remaining:    0.0s\n",
      "[Parallel(n_jobs=-1)]: Done   2 out of   2 | elapsed:    0.1s remaining:    0.0s\n"
     ]
    },
    {
     "name": "stdout",
     "output_type": "stream",
     "text": [
      "building tree 3 of 6\n",
      "building tree 4 of 6\n",
      "building tree 5 of 6\n",
      "building tree 6 of 6\n",
      "building tree 1 of 6\n"
     ]
    },
    {
     "name": "stderr",
     "output_type": "stream",
     "text": [
      "[Parallel(n_jobs=-1)]: Done   6 out of   6 | elapsed:    0.4s finished\n",
      "[Parallel(n_jobs=1)]: Using backend SequentialBackend with 1 concurrent workers.\n",
      "[Parallel(n_jobs=1)]: Done   1 out of   1 | elapsed:    0.0s remaining:    0.0s\n",
      "[Parallel(n_jobs=1)]: Done   2 out of   2 | elapsed:    0.0s remaining:    0.0s\n",
      "[Parallel(n_jobs=1)]: Done   6 out of   6 | elapsed:    0.0s finished\n",
      "[Parallel(n_jobs=-1)]: Using backend SequentialBackend with 1 concurrent workers.\n",
      "[Parallel(n_jobs=-1)]: Done   1 out of   1 | elapsed:    0.1s remaining:    0.0s\n",
      "[Parallel(n_jobs=-1)]: Done   2 out of   2 | elapsed:    0.1s remaining:    0.0s\n"
     ]
    },
    {
     "name": "stdout",
     "output_type": "stream",
     "text": [
      "building tree 2 of 6\n",
      "building tree 3 of 6\n",
      "building tree 4 of 6\n",
      "building tree 5 of 6\n",
      "building tree 6 of 6\n",
      "-10.546737498593503\n"
     ]
    },
    {
     "name": "stderr",
     "output_type": "stream",
     "text": [
      "[Parallel(n_jobs=-1)]: Done   6 out of   6 | elapsed:    0.4s finished\n",
      "[Parallel(n_jobs=1)]: Using backend SequentialBackend with 1 concurrent workers.\n",
      "[Parallel(n_jobs=1)]: Done   1 out of   1 | elapsed:    0.0s remaining:    0.0s\n",
      "[Parallel(n_jobs=1)]: Done   2 out of   2 | elapsed:    0.0s remaining:    0.0s\n",
      "[Parallel(n_jobs=1)]: Done   6 out of   6 | elapsed:    0.0s finished\n"
     ]
    }
   ],
   "source": [
    "forest_final = RandomForestRegressor(random_state=12345, n_estimators=6, \\\n",
    "                                       max_depth=4, verbose=3, n_jobs=-1).fit(features_test, target_final_test)\n",
    "\n",
    "smape_forest_final = cross_val_score(forest_rougher, features_test, target_final_test,\\\n",
    "                                      scoring = make_scorer(smape, greater_is_better=False), cv = 5).mean()\n",
    "print(smape_forest_final)"
   ]
  },
  {
   "cell_type": "code",
   "execution_count": 35,
   "metadata": {},
   "outputs": [
    {
     "name": "stdout",
     "output_type": "stream",
     "text": [
      "sMAPE forest -4.081595159792927\n",
      "sMAPE final -10.546737498593503\n",
      "sMAPE_general -8.930451913893359\n"
     ]
    }
   ],
   "source": [
    "print('sMAPE forest', smape_forest_rougher)\n",
    "print('sMAPE final', smape_forest_final)\n",
    "print('sMAPE_general', general_smape(smape_forest_rougher, smape_forest_final))"
   ]
  },
  {
   "cell_type": "markdown",
   "metadata": {},
   "source": [
    "## Вывод"
   ]
  },
  {
   "cell_type": "markdown",
   "metadata": {},
   "source": [
    "Были загружены три датасета, содержащие общие данные и данные для обучающей и тестовой выборок. Была проверена корректность расчета эффективности, и доказано, что она рассчитана верно. После первичного осмотра датасетов были найдено, что они содержат пропуски. Было решено заполнить их методом интерполяции, на основе данных предыдущей и последующей ячейки. \n",
    "\n",
    "В тестовой выборке отсутствовали данные, обозначающие результат обработки(output) и расчеты концентраций металлов. Эти признаки не нужны для обучения моделей.\n",
    "В обучающей выборке были удалены данные, отсутствующие в тестовой, чтобы привести выборки в соответствие. \n",
    "\n",
    "Были проведены исследования изменения концентраций металлов на разных стадиях очистки и выявлено, что концентрация золота неизменно растет от стадии к стадии, а концентрация остальных металлов падает после флотации.\n",
    "\n",
    "Исследование размеров гранул сырья показало, что их распределение не отличается значительно друг от друга и оценка моделей будет проведена корректно.\n",
    "\n",
    "Оценив распределение суммарной концентрации веществ на всех стадиях очистки мы видим, что концентрация золота повышается к финальной очистке.\n",
    "\n",
    "Для оценки моделей была написана функция  sMAPE с помощью которой оценены модели на основе линейной регрессии и случайного леса. Проведенный подбор параметров помог добиться от модели случайного леса результата -8.93%"
   ]
  }
 ],
 "metadata": {
  "ExecuteTimeLog": [
   {
    "duration": 802,
    "start_time": "2021-11-15T21:16:10.625Z"
   },
   {
    "duration": 1597,
    "start_time": "2021-11-15T21:35:14.691Z"
   },
   {
    "duration": 718,
    "start_time": "2021-11-15T21:35:25.159Z"
   },
   {
    "duration": 388,
    "start_time": "2021-11-15T21:36:13.521Z"
   },
   {
    "duration": 129,
    "start_time": "2021-11-15T21:39:10.907Z"
   },
   {
    "duration": 121,
    "start_time": "2021-11-15T21:39:26.930Z"
   },
   {
    "duration": 121,
    "start_time": "2021-11-15T21:39:47.349Z"
   },
   {
    "duration": 150,
    "start_time": "2021-11-15T21:39:55.044Z"
   },
   {
    "duration": 156,
    "start_time": "2021-11-15T21:40:32.833Z"
   },
   {
    "duration": 385,
    "start_time": "2021-11-15T21:40:52.195Z"
   },
   {
    "duration": 822,
    "start_time": "2021-11-15T21:43:03.737Z"
   },
   {
    "duration": 492,
    "start_time": "2021-11-15T21:43:16.601Z"
   },
   {
    "duration": 124,
    "start_time": "2021-11-15T21:44:36.908Z"
   },
   {
    "duration": 286,
    "start_time": "2021-11-16T20:51:58.336Z"
   },
   {
    "duration": 601,
    "start_time": "2021-11-16T20:52:05.745Z"
   },
   {
    "duration": 305,
    "start_time": "2021-11-16T20:52:06.348Z"
   },
   {
    "duration": 384,
    "start_time": "2021-11-16T20:52:06.655Z"
   },
   {
    "duration": 99,
    "start_time": "2021-11-16T20:52:07.045Z"
   },
   {
    "duration": 763,
    "start_time": "2021-11-16T20:52:07.146Z"
   },
   {
    "duration": 648,
    "start_time": "2021-11-16T20:54:35.787Z"
   },
   {
    "duration": 1699,
    "start_time": "2021-11-16T21:02:09.320Z"
   },
   {
    "duration": 1746,
    "start_time": "2021-11-16T21:02:29.480Z"
   },
   {
    "duration": 314,
    "start_time": "2021-11-16T21:38:10.069Z"
   },
   {
    "duration": 259,
    "start_time": "2021-11-16T21:38:24.154Z"
   },
   {
    "duration": 262,
    "start_time": "2021-11-16T21:39:20.043Z"
   },
   {
    "duration": 5,
    "start_time": "2021-11-16T21:39:27.487Z"
   },
   {
    "duration": 284,
    "start_time": "2021-11-16T21:40:05.748Z"
   },
   {
    "duration": 7,
    "start_time": "2021-11-16T21:40:15.211Z"
   },
   {
    "duration": 441,
    "start_time": "2021-11-16T21:53:17.004Z"
   },
   {
    "duration": 1002,
    "start_time": "2021-11-16T21:53:26.261Z"
   },
   {
    "duration": 326,
    "start_time": "2021-11-16T21:53:27.265Z"
   },
   {
    "duration": 420,
    "start_time": "2021-11-16T21:53:27.594Z"
   },
   {
    "duration": 105,
    "start_time": "2021-11-16T21:53:28.015Z"
   },
   {
    "duration": 1972,
    "start_time": "2021-11-16T21:53:28.122Z"
   },
   {
    "duration": 13,
    "start_time": "2021-11-16T21:53:30.095Z"
   },
   {
    "duration": 8,
    "start_time": "2021-11-16T21:57:39.259Z"
   },
   {
    "duration": 7,
    "start_time": "2021-11-16T21:57:50.098Z"
   },
   {
    "duration": 1039,
    "start_time": "2021-11-16T21:57:57.101Z"
   },
   {
    "duration": 317,
    "start_time": "2021-11-16T21:57:58.142Z"
   },
   {
    "duration": 393,
    "start_time": "2021-11-16T21:57:58.462Z"
   },
   {
    "duration": 108,
    "start_time": "2021-11-16T21:57:58.857Z"
   },
   {
    "duration": 1935,
    "start_time": "2021-11-16T21:57:58.967Z"
   },
   {
    "duration": 11,
    "start_time": "2021-11-16T21:58:00.904Z"
   },
   {
    "duration": 396,
    "start_time": "2021-11-16T21:58:00.917Z"
   },
   {
    "duration": 5,
    "start_time": "2021-11-16T21:58:22.366Z"
   },
   {
    "duration": 8,
    "start_time": "2021-11-16T22:01:01.621Z"
   },
   {
    "duration": 5,
    "start_time": "2021-11-16T22:01:07.061Z"
   },
   {
    "duration": 8,
    "start_time": "2021-11-16T22:06:04.593Z"
   },
   {
    "duration": 8,
    "start_time": "2021-11-16T22:07:22.029Z"
   },
   {
    "duration": 5,
    "start_time": "2021-11-16T22:07:25.826Z"
   },
   {
    "duration": 985,
    "start_time": "2021-11-16T22:07:37.668Z"
   },
   {
    "duration": 329,
    "start_time": "2021-11-16T22:07:38.655Z"
   },
   {
    "duration": 412,
    "start_time": "2021-11-16T22:07:38.986Z"
   },
   {
    "duration": 104,
    "start_time": "2021-11-16T22:07:39.400Z"
   },
   {
    "duration": 11,
    "start_time": "2021-11-16T22:07:39.505Z"
   },
   {
    "duration": 7,
    "start_time": "2021-11-16T22:07:39.518Z"
   },
   {
    "duration": 1971,
    "start_time": "2021-11-16T22:07:39.527Z"
   },
   {
    "duration": 1008,
    "start_time": "2021-11-16T22:08:10.541Z"
   },
   {
    "duration": 318,
    "start_time": "2021-11-16T22:08:11.550Z"
   },
   {
    "duration": 409,
    "start_time": "2021-11-16T22:08:11.870Z"
   },
   {
    "duration": 104,
    "start_time": "2021-11-16T22:08:12.281Z"
   },
   {
    "duration": 12,
    "start_time": "2021-11-16T22:08:12.387Z"
   },
   {
    "duration": 4,
    "start_time": "2021-11-16T22:08:12.401Z"
   },
   {
    "duration": 1937,
    "start_time": "2021-11-16T22:08:12.407Z"
   },
   {
    "duration": 7,
    "start_time": "2021-11-16T22:30:12.061Z"
   },
   {
    "duration": 5,
    "start_time": "2021-11-16T22:30:16.234Z"
   },
   {
    "duration": 972,
    "start_time": "2021-11-16T22:32:55.281Z"
   },
   {
    "duration": 315,
    "start_time": "2021-11-16T22:32:56.255Z"
   },
   {
    "duration": 397,
    "start_time": "2021-11-16T22:32:56.572Z"
   },
   {
    "duration": 107,
    "start_time": "2021-11-16T22:32:56.971Z"
   },
   {
    "duration": 11,
    "start_time": "2021-11-16T22:32:57.080Z"
   },
   {
    "duration": 4,
    "start_time": "2021-11-16T22:32:57.093Z"
   },
   {
    "duration": 1946,
    "start_time": "2021-11-16T22:32:57.100Z"
   },
   {
    "duration": 1138,
    "start_time": "2021-11-16T22:34:25.223Z"
   },
   {
    "duration": 326,
    "start_time": "2021-11-16T22:34:26.363Z"
   },
   {
    "duration": 411,
    "start_time": "2021-11-16T22:34:26.691Z"
   },
   {
    "duration": 115,
    "start_time": "2021-11-16T22:34:27.104Z"
   },
   {
    "duration": 2006,
    "start_time": "2021-11-16T22:34:27.221Z"
   },
   {
    "duration": 16,
    "start_time": "2021-11-16T22:34:29.229Z"
   },
   {
    "duration": 5,
    "start_time": "2021-11-16T22:34:29.247Z"
   },
   {
    "duration": 1901,
    "start_time": "2021-11-16T22:34:29.254Z"
   },
   {
    "duration": 994,
    "start_time": "2021-11-16T22:35:40.163Z"
   },
   {
    "duration": 314,
    "start_time": "2021-11-16T22:35:41.159Z"
   },
   {
    "duration": 398,
    "start_time": "2021-11-16T22:35:41.476Z"
   },
   {
    "duration": 103,
    "start_time": "2021-11-16T22:35:41.875Z"
   },
   {
    "duration": 12,
    "start_time": "2021-11-16T22:35:41.980Z"
   },
   {
    "duration": 5,
    "start_time": "2021-11-16T22:35:41.994Z"
   },
   {
    "duration": 1956,
    "start_time": "2021-11-16T22:35:42.001Z"
   },
   {
    "duration": 88,
    "start_time": "2021-11-17T21:41:10.022Z"
   },
   {
    "duration": 301,
    "start_time": "2021-11-17T21:41:26.114Z"
   },
   {
    "duration": 1015,
    "start_time": "2021-11-17T21:41:35.987Z"
   },
   {
    "duration": 319,
    "start_time": "2021-11-17T21:41:37.004Z"
   },
   {
    "duration": 405,
    "start_time": "2021-11-17T21:41:37.326Z"
   },
   {
    "duration": 106,
    "start_time": "2021-11-17T21:41:37.733Z"
   },
   {
    "duration": 11,
    "start_time": "2021-11-17T21:41:37.841Z"
   },
   {
    "duration": 4,
    "start_time": "2021-11-17T21:41:37.863Z"
   },
   {
    "duration": 2016,
    "start_time": "2021-11-17T21:41:37.869Z"
   },
   {
    "duration": 6,
    "start_time": "2021-11-17T21:44:30.533Z"
   },
   {
    "duration": 1021,
    "start_time": "2021-11-17T21:44:48.903Z"
   },
   {
    "duration": 322,
    "start_time": "2021-11-17T21:44:49.926Z"
   },
   {
    "duration": 413,
    "start_time": "2021-11-17T21:44:50.250Z"
   },
   {
    "duration": 103,
    "start_time": "2021-11-17T21:44:50.666Z"
   },
   {
    "duration": 10,
    "start_time": "2021-11-17T21:44:50.771Z"
   },
   {
    "duration": 5,
    "start_time": "2021-11-17T21:44:50.783Z"
   },
   {
    "duration": 2022,
    "start_time": "2021-11-17T21:44:50.790Z"
   },
   {
    "duration": 336,
    "start_time": "2021-11-17T22:25:08.361Z"
   },
   {
    "duration": 310,
    "start_time": "2021-11-17T22:25:18.867Z"
   },
   {
    "duration": 392,
    "start_time": "2021-11-17T22:25:56.057Z"
   },
   {
    "duration": 101,
    "start_time": "2021-11-17T22:26:02.912Z"
   },
   {
    "duration": 3,
    "start_time": "2021-11-17T22:52:44.533Z"
   },
   {
    "duration": 3,
    "start_time": "2021-11-17T22:53:08.218Z"
   },
   {
    "duration": 336,
    "start_time": "2021-11-17T22:55:47.039Z"
   },
   {
    "duration": 2,
    "start_time": "2021-11-17T22:56:40.355Z"
   },
   {
    "duration": 4,
    "start_time": "2021-11-17T22:56:59.654Z"
   },
   {
    "duration": 248,
    "start_time": "2021-11-17T22:57:19.429Z"
   },
   {
    "duration": 4,
    "start_time": "2021-11-17T22:59:38.341Z"
   },
   {
    "duration": 4,
    "start_time": "2021-11-17T23:05:08.919Z"
   },
   {
    "duration": 4,
    "start_time": "2021-11-17T23:12:52.989Z"
   },
   {
    "duration": 6,
    "start_time": "2021-11-17T23:16:02.078Z"
   },
   {
    "duration": 268,
    "start_time": "2021-11-17T23:24:37.587Z"
   },
   {
    "duration": 251,
    "start_time": "2021-11-17T23:24:53.448Z"
   },
   {
    "duration": 321,
    "start_time": "2021-11-17T23:25:17.815Z"
   },
   {
    "duration": 250,
    "start_time": "2021-11-17T23:25:26.889Z"
   },
   {
    "duration": 254,
    "start_time": "2021-11-17T23:28:24.843Z"
   },
   {
    "duration": 10,
    "start_time": "2021-11-17T23:28:34.844Z"
   },
   {
    "duration": 601,
    "start_time": "2021-11-18T19:46:50.449Z"
   },
   {
    "duration": 1676,
    "start_time": "2021-11-18T19:46:59.518Z"
   },
   {
    "duration": 407,
    "start_time": "2021-11-18T19:47:01.196Z"
   },
   {
    "duration": 519,
    "start_time": "2021-11-18T19:47:01.607Z"
   },
   {
    "duration": 144,
    "start_time": "2021-11-18T19:47:02.129Z"
   },
   {
    "duration": 15,
    "start_time": "2021-11-18T19:47:02.282Z"
   },
   {
    "duration": 12,
    "start_time": "2021-11-18T19:47:02.300Z"
   },
   {
    "duration": 223,
    "start_time": "2021-11-18T19:47:02.316Z"
   },
   {
    "duration": 39,
    "start_time": "2021-11-18T19:47:02.543Z"
   },
   {
    "duration": 448,
    "start_time": "2021-11-18T19:47:02.585Z"
   },
   {
    "duration": 338,
    "start_time": "2021-11-18T19:47:27.426Z"
   },
   {
    "duration": 170,
    "start_time": "2021-11-18T20:07:41.104Z"
   },
   {
    "duration": 9138,
    "start_time": "2021-11-18T20:07:51.038Z"
   },
   {
    "duration": 92,
    "start_time": "2021-11-18T20:09:13.678Z"
   },
   {
    "duration": 125,
    "start_time": "2021-11-18T20:09:29.246Z"
   },
   {
    "duration": 101,
    "start_time": "2021-11-18T20:10:12.640Z"
   },
   {
    "duration": 2018,
    "start_time": "2021-11-18T20:10:25.685Z"
   },
   {
    "duration": 25,
    "start_time": "2021-11-18T20:12:11.104Z"
   },
   {
    "duration": 283,
    "start_time": "2021-11-18T20:13:06.185Z"
   },
   {
    "duration": 532,
    "start_time": "2021-11-18T20:14:13.171Z"
   },
   {
    "duration": 98,
    "start_time": "2021-11-18T20:16:33.947Z"
   },
   {
    "duration": 329,
    "start_time": "2021-11-18T20:16:46.346Z"
   },
   {
    "duration": 592,
    "start_time": "2021-11-18T20:18:56.620Z"
   },
   {
    "duration": 348,
    "start_time": "2021-11-18T20:20:10.867Z"
   },
   {
    "duration": 374,
    "start_time": "2021-11-18T20:20:14.912Z"
   },
   {
    "duration": 494,
    "start_time": "2021-11-18T20:20:25.939Z"
   },
   {
    "duration": 488,
    "start_time": "2021-11-18T20:20:40.151Z"
   },
   {
    "duration": 117,
    "start_time": "2021-11-18T20:20:50.730Z"
   },
   {
    "duration": 439,
    "start_time": "2021-11-18T20:21:06.646Z"
   },
   {
    "duration": 460,
    "start_time": "2021-11-18T20:21:23.022Z"
   },
   {
    "duration": 553,
    "start_time": "2021-11-18T20:21:33.496Z"
   },
   {
    "duration": 369,
    "start_time": "2021-11-18T20:21:37.924Z"
   },
   {
    "duration": 367,
    "start_time": "2021-11-18T20:21:47.547Z"
   },
   {
    "duration": 355,
    "start_time": "2021-11-18T20:21:52.298Z"
   },
   {
    "duration": 363,
    "start_time": "2021-11-18T20:22:00.949Z"
   },
   {
    "duration": 354,
    "start_time": "2021-11-18T20:22:06.625Z"
   },
   {
    "duration": 341,
    "start_time": "2021-11-18T20:22:31.641Z"
   },
   {
    "duration": 582,
    "start_time": "2021-11-18T20:22:47.451Z"
   },
   {
    "duration": 499,
    "start_time": "2021-11-18T20:23:52.422Z"
   },
   {
    "duration": 419,
    "start_time": "2021-11-18T20:24:01.763Z"
   },
   {
    "duration": 480,
    "start_time": "2021-11-18T20:25:02.326Z"
   },
   {
    "duration": 443,
    "start_time": "2021-11-18T20:25:12.573Z"
   },
   {
    "duration": 461,
    "start_time": "2021-11-18T20:25:29.033Z"
   },
   {
    "duration": 99,
    "start_time": "2021-11-18T20:29:29.377Z"
   },
   {
    "duration": 499,
    "start_time": "2021-11-18T20:29:34.346Z"
   },
   {
    "duration": 334,
    "start_time": "2021-11-18T20:30:34.546Z"
   },
   {
    "duration": 335,
    "start_time": "2021-11-18T20:31:40.867Z"
   },
   {
    "duration": 507,
    "start_time": "2021-11-18T20:34:01.225Z"
   },
   {
    "duration": 505,
    "start_time": "2021-11-18T20:34:58.503Z"
   },
   {
    "duration": 813,
    "start_time": "2021-11-18T20:35:19.075Z"
   },
   {
    "duration": 502,
    "start_time": "2021-11-18T20:36:07.005Z"
   },
   {
    "duration": 495,
    "start_time": "2021-11-18T21:15:48.418Z"
   },
   {
    "duration": 590,
    "start_time": "2021-11-18T21:17:27.399Z"
   },
   {
    "duration": 106,
    "start_time": "2021-11-18T21:19:46.209Z"
   },
   {
    "duration": 104,
    "start_time": "2021-11-18T21:19:56.523Z"
   },
   {
    "duration": 499,
    "start_time": "2021-11-18T21:20:05.177Z"
   },
   {
    "duration": 478,
    "start_time": "2021-11-18T21:20:50.297Z"
   },
   {
    "duration": 126,
    "start_time": "2021-11-18T21:43:36.393Z"
   },
   {
    "duration": 300,
    "start_time": "2021-11-18T21:45:16.490Z"
   },
   {
    "duration": 294,
    "start_time": "2021-11-18T21:45:27.950Z"
   },
   {
    "duration": 326,
    "start_time": "2021-11-18T21:45:40.709Z"
   },
   {
    "duration": 300,
    "start_time": "2021-11-18T21:48:27.865Z"
   },
   {
    "duration": 339,
    "start_time": "2021-11-18T21:49:21.741Z"
   },
   {
    "duration": 372,
    "start_time": "2021-11-18T21:49:28.870Z"
   },
   {
    "duration": 318,
    "start_time": "2021-11-18T21:50:09.285Z"
   },
   {
    "duration": 393,
    "start_time": "2021-11-18T21:50:45.639Z"
   },
   {
    "duration": 320,
    "start_time": "2021-11-18T21:51:04.575Z"
   },
   {
    "duration": 358,
    "start_time": "2021-11-18T22:00:47.603Z"
   },
   {
    "duration": 114,
    "start_time": "2021-11-18T22:09:44.675Z"
   },
   {
    "duration": 347,
    "start_time": "2021-11-18T22:10:26.637Z"
   },
   {
    "duration": 573,
    "start_time": "2021-11-18T22:13:49.835Z"
   },
   {
    "duration": 325,
    "start_time": "2021-11-18T22:15:09.656Z"
   },
   {
    "duration": 322,
    "start_time": "2021-11-18T22:15:48.527Z"
   },
   {
    "duration": 321,
    "start_time": "2021-11-18T22:15:57.874Z"
   },
   {
    "duration": 1271,
    "start_time": "2021-11-18T22:19:33.820Z"
   },
   {
    "duration": 307,
    "start_time": "2021-11-18T22:20:38.651Z"
   },
   {
    "duration": 315,
    "start_time": "2021-11-18T22:20:46.826Z"
   },
   {
    "duration": 339,
    "start_time": "2021-11-18T22:23:11.656Z"
   },
   {
    "duration": 340,
    "start_time": "2021-11-18T22:23:54.920Z"
   },
   {
    "duration": 525,
    "start_time": "2021-11-18T22:24:57.360Z"
   },
   {
    "duration": 112,
    "start_time": "2021-11-18T22:40:04.228Z"
   },
   {
    "duration": 13,
    "start_time": "2021-11-18T22:45:22.622Z"
   },
   {
    "duration": 9,
    "start_time": "2021-11-18T22:47:33.860Z"
   },
   {
    "duration": 10,
    "start_time": "2021-11-18T22:47:41.297Z"
   },
   {
    "duration": 9,
    "start_time": "2021-11-18T22:47:57.011Z"
   },
   {
    "duration": 514,
    "start_time": "2021-11-18T22:48:34.363Z"
   },
   {
    "duration": 433,
    "start_time": "2021-11-18T22:49:06.926Z"
   },
   {
    "duration": 491,
    "start_time": "2021-11-18T22:50:17.319Z"
   },
   {
    "duration": 1264,
    "start_time": "2021-11-18T23:07:00.974Z"
   },
   {
    "duration": 8,
    "start_time": "2021-11-18T23:07:46.783Z"
   },
   {
    "duration": 17,
    "start_time": "2021-11-18T23:11:29.083Z"
   },
   {
    "duration": 20,
    "start_time": "2021-11-18T23:12:16.138Z"
   },
   {
    "duration": 17,
    "start_time": "2021-11-18T23:12:22.423Z"
   },
   {
    "duration": 15,
    "start_time": "2021-11-18T23:13:05.912Z"
   },
   {
    "duration": 17,
    "start_time": "2021-11-18T23:13:32.203Z"
   },
   {
    "duration": 22,
    "start_time": "2021-11-18T23:15:03.748Z"
   },
   {
    "duration": 23,
    "start_time": "2021-11-18T23:16:03.423Z"
   },
   {
    "duration": 126,
    "start_time": "2021-11-18T23:16:11.127Z"
   },
   {
    "duration": 22,
    "start_time": "2021-11-18T23:16:18.999Z"
   },
   {
    "duration": 110,
    "start_time": "2021-11-18T23:16:50.232Z"
   },
   {
    "duration": 99,
    "start_time": "2021-11-18T23:16:58.643Z"
   },
   {
    "duration": 21,
    "start_time": "2021-11-18T23:17:11.500Z"
   },
   {
    "duration": 116,
    "start_time": "2021-11-18T23:17:37.051Z"
   },
   {
    "duration": 21,
    "start_time": "2021-11-18T23:17:43.347Z"
   },
   {
    "duration": 22,
    "start_time": "2021-11-18T23:17:52.071Z"
   },
   {
    "duration": 1762,
    "start_time": "2021-11-18T23:18:01.834Z"
   },
   {
    "duration": 397,
    "start_time": "2021-11-18T23:18:03.599Z"
   },
   {
    "duration": 528,
    "start_time": "2021-11-18T23:18:03.999Z"
   },
   {
    "duration": 141,
    "start_time": "2021-11-18T23:18:04.530Z"
   },
   {
    "duration": 20,
    "start_time": "2021-11-18T23:18:04.674Z"
   },
   {
    "duration": 10,
    "start_time": "2021-11-18T23:18:04.697Z"
   },
   {
    "duration": 214,
    "start_time": "2021-11-18T23:18:04.710Z"
   },
   {
    "duration": 16,
    "start_time": "2021-11-18T23:18:04.927Z"
   },
   {
    "duration": 380,
    "start_time": "2021-11-18T23:18:04.945Z"
   },
   {
    "duration": 525,
    "start_time": "2021-11-18T23:18:05.328Z"
   },
   {
    "duration": 509,
    "start_time": "2021-11-18T23:18:05.857Z"
   },
   {
    "duration": 365,
    "start_time": "2021-11-18T23:18:06.369Z"
   },
   {
    "duration": 375,
    "start_time": "2021-11-18T23:18:06.737Z"
   },
   {
    "duration": 11,
    "start_time": "2021-11-18T23:18:07.115Z"
   },
   {
    "duration": 564,
    "start_time": "2021-11-18T23:18:07.128Z"
   },
   {
    "duration": 28,
    "start_time": "2021-11-18T23:18:07.695Z"
   },
   {
    "duration": 27,
    "start_time": "2021-11-18T23:19:08.422Z"
   },
   {
    "duration": 1536,
    "start_time": "2021-11-18T23:19:19.302Z"
   },
   {
    "duration": 412,
    "start_time": "2021-11-18T23:19:20.841Z"
   },
   {
    "duration": 516,
    "start_time": "2021-11-18T23:19:21.256Z"
   },
   {
    "duration": 166,
    "start_time": "2021-11-18T23:19:21.783Z"
   },
   {
    "duration": 15,
    "start_time": "2021-11-18T23:19:21.951Z"
   },
   {
    "duration": 10,
    "start_time": "2021-11-18T23:19:21.982Z"
   },
   {
    "duration": 210,
    "start_time": "2021-11-18T23:19:21.995Z"
   },
   {
    "duration": 17,
    "start_time": "2021-11-18T23:19:22.209Z"
   },
   {
    "duration": 389,
    "start_time": "2021-11-18T23:19:22.229Z"
   },
   {
    "duration": 507,
    "start_time": "2021-11-18T23:19:22.621Z"
   },
   {
    "duration": 528,
    "start_time": "2021-11-18T23:19:23.130Z"
   },
   {
    "duration": 355,
    "start_time": "2021-11-18T23:19:23.661Z"
   },
   {
    "duration": 364,
    "start_time": "2021-11-18T23:19:24.018Z"
   },
   {
    "duration": 14,
    "start_time": "2021-11-18T23:19:24.385Z"
   },
   {
    "duration": 577,
    "start_time": "2021-11-18T23:19:24.402Z"
   },
   {
    "duration": 33,
    "start_time": "2021-11-18T23:19:24.983Z"
   },
   {
    "duration": 28,
    "start_time": "2021-11-18T23:19:54.564Z"
   },
   {
    "duration": 5,
    "start_time": "2021-11-18T23:20:13.355Z"
   },
   {
    "duration": 25,
    "start_time": "2021-11-18T23:20:36.834Z"
   },
   {
    "duration": 1580,
    "start_time": "2021-11-18T23:20:51.475Z"
   },
   {
    "duration": 401,
    "start_time": "2021-11-18T23:20:53.057Z"
   },
   {
    "duration": 609,
    "start_time": "2021-11-18T23:20:53.461Z"
   },
   {
    "duration": 138,
    "start_time": "2021-11-18T23:20:54.082Z"
   },
   {
    "duration": 15,
    "start_time": "2021-11-18T23:20:54.223Z"
   },
   {
    "duration": 10,
    "start_time": "2021-11-18T23:20:54.240Z"
   },
   {
    "duration": 214,
    "start_time": "2021-11-18T23:20:54.253Z"
   },
   {
    "duration": 21,
    "start_time": "2021-11-18T23:20:54.470Z"
   },
   {
    "duration": 390,
    "start_time": "2021-11-18T23:20:54.496Z"
   },
   {
    "duration": 506,
    "start_time": "2021-11-18T23:20:54.889Z"
   },
   {
    "duration": 515,
    "start_time": "2021-11-18T23:20:55.398Z"
   },
   {
    "duration": 374,
    "start_time": "2021-11-18T23:20:55.915Z"
   },
   {
    "duration": 371,
    "start_time": "2021-11-18T23:20:56.292Z"
   },
   {
    "duration": 20,
    "start_time": "2021-11-18T23:20:56.665Z"
   },
   {
    "duration": 559,
    "start_time": "2021-11-18T23:20:56.688Z"
   },
   {
    "duration": 5,
    "start_time": "2021-11-18T23:20:57.249Z"
   },
   {
    "duration": 46,
    "start_time": "2021-11-18T23:20:57.257Z"
   },
   {
    "duration": 4,
    "start_time": "2021-11-18T23:33:26.476Z"
   },
   {
    "duration": 5,
    "start_time": "2021-11-18T23:33:41.363Z"
   },
   {
    "duration": 5,
    "start_time": "2021-11-18T23:36:07.127Z"
   },
   {
    "duration": 494,
    "start_time": "2021-11-18T23:41:47.256Z"
   },
   {
    "duration": 285,
    "start_time": "2021-11-18T23:41:56.319Z"
   },
   {
    "duration": 314,
    "start_time": "2021-11-18T23:42:05.178Z"
   },
   {
    "duration": 7360,
    "start_time": "2021-11-18T23:43:42.822Z"
   },
   {
    "duration": 7261,
    "start_time": "2021-11-18T23:44:35.876Z"
   },
   {
    "duration": 8301,
    "start_time": "2021-11-18T23:44:48.289Z"
   },
   {
    "duration": 359,
    "start_time": "2021-11-18T23:47:50.521Z"
   },
   {
    "duration": 390,
    "start_time": "2021-11-18T23:48:11.143Z"
   },
   {
    "duration": 294,
    "start_time": "2021-11-18T23:48:49.906Z"
   },
   {
    "duration": 361,
    "start_time": "2021-11-18T23:58:01.995Z"
   },
   {
    "duration": 356,
    "start_time": "2021-11-18T23:58:17.402Z"
   },
   {
    "duration": 27,
    "start_time": "2021-11-18T23:58:35.508Z"
   },
   {
    "duration": 51,
    "start_time": "2021-11-18T23:58:57.929Z"
   },
   {
    "duration": 7388,
    "start_time": "2021-11-18T23:59:56.628Z"
   },
   {
    "duration": 341,
    "start_time": "2021-11-19T00:01:24.474Z"
   },
   {
    "duration": 42,
    "start_time": "2021-11-19T00:01:42.319Z"
   },
   {
    "duration": 61,
    "start_time": "2021-11-19T00:02:07.191Z"
   },
   {
    "duration": 61,
    "start_time": "2021-11-19T00:02:30.917Z"
   },
   {
    "duration": 1445,
    "start_time": "2021-11-19T00:03:12.597Z"
   },
   {
    "duration": 398,
    "start_time": "2021-11-19T00:03:14.044Z"
   },
   {
    "duration": 495,
    "start_time": "2021-11-19T00:03:14.445Z"
   },
   {
    "duration": 149,
    "start_time": "2021-11-19T00:03:14.943Z"
   },
   {
    "duration": 16,
    "start_time": "2021-11-19T00:03:15.094Z"
   },
   {
    "duration": 10,
    "start_time": "2021-11-19T00:03:15.113Z"
   },
   {
    "duration": 209,
    "start_time": "2021-11-19T00:03:15.125Z"
   },
   {
    "duration": 16,
    "start_time": "2021-11-19T00:03:15.337Z"
   },
   {
    "duration": 384,
    "start_time": "2021-11-19T00:03:15.356Z"
   },
   {
    "duration": 494,
    "start_time": "2021-11-19T00:03:15.743Z"
   },
   {
    "duration": 513,
    "start_time": "2021-11-19T00:03:16.240Z"
   },
   {
    "duration": 379,
    "start_time": "2021-11-19T00:03:16.755Z"
   },
   {
    "duration": 367,
    "start_time": "2021-11-19T00:03:17.136Z"
   },
   {
    "duration": 12,
    "start_time": "2021-11-19T00:03:17.506Z"
   },
   {
    "duration": 552,
    "start_time": "2021-11-19T00:03:17.521Z"
   },
   {
    "duration": 9,
    "start_time": "2021-11-19T00:03:18.075Z"
   },
   {
    "duration": 31,
    "start_time": "2021-11-19T00:03:18.087Z"
   },
   {
    "duration": 5,
    "start_time": "2021-11-19T00:03:18.120Z"
   },
   {
    "duration": 79,
    "start_time": "2021-11-19T00:03:18.128Z"
   },
   {
    "duration": 40,
    "start_time": "2021-11-19T00:04:14.075Z"
   },
   {
    "duration": 1635,
    "start_time": "2021-11-19T00:04:34.595Z"
   },
   {
    "duration": 392,
    "start_time": "2021-11-19T00:04:36.233Z"
   },
   {
    "duration": 506,
    "start_time": "2021-11-19T00:04:36.628Z"
   },
   {
    "duration": 154,
    "start_time": "2021-11-19T00:04:37.138Z"
   },
   {
    "duration": 16,
    "start_time": "2021-11-19T00:04:37.294Z"
   },
   {
    "duration": 11,
    "start_time": "2021-11-19T00:04:37.312Z"
   },
   {
    "duration": 304,
    "start_time": "2021-11-19T00:04:37.325Z"
   },
   {
    "duration": 22,
    "start_time": "2021-11-19T00:04:37.634Z"
   },
   {
    "duration": 591,
    "start_time": "2021-11-19T00:04:37.659Z"
   },
   {
    "duration": 728,
    "start_time": "2021-11-19T00:04:38.253Z"
   },
   {
    "duration": 768,
    "start_time": "2021-11-19T00:04:38.984Z"
   },
   {
    "duration": 493,
    "start_time": "2021-11-19T00:04:39.755Z"
   },
   {
    "duration": 537,
    "start_time": "2021-11-19T00:04:40.251Z"
   },
   {
    "duration": 15,
    "start_time": "2021-11-19T00:04:40.791Z"
   },
   {
    "duration": 766,
    "start_time": "2021-11-19T00:04:40.809Z"
   },
   {
    "duration": 6,
    "start_time": "2021-11-19T00:04:41.578Z"
   },
   {
    "duration": 36,
    "start_time": "2021-11-19T00:04:41.588Z"
   },
   {
    "duration": 6,
    "start_time": "2021-11-19T00:04:41.628Z"
   },
   {
    "duration": 101,
    "start_time": "2021-11-19T00:04:41.637Z"
   },
   {
    "duration": 82,
    "start_time": "2021-11-19T00:06:58.914Z"
   },
   {
    "duration": 1530,
    "start_time": "2021-11-19T00:07:13.767Z"
   },
   {
    "duration": 409,
    "start_time": "2021-11-19T00:07:15.300Z"
   },
   {
    "duration": 503,
    "start_time": "2021-11-19T00:07:15.711Z"
   },
   {
    "duration": 153,
    "start_time": "2021-11-19T00:07:16.217Z"
   },
   {
    "duration": 22,
    "start_time": "2021-11-19T00:07:16.373Z"
   },
   {
    "duration": 11,
    "start_time": "2021-11-19T00:07:16.397Z"
   },
   {
    "duration": 210,
    "start_time": "2021-11-19T00:07:16.411Z"
   },
   {
    "duration": 15,
    "start_time": "2021-11-19T00:07:16.624Z"
   },
   {
    "duration": 407,
    "start_time": "2021-11-19T00:07:16.642Z"
   },
   {
    "duration": 508,
    "start_time": "2021-11-19T00:07:17.052Z"
   },
   {
    "duration": 506,
    "start_time": "2021-11-19T00:07:17.563Z"
   },
   {
    "duration": 352,
    "start_time": "2021-11-19T00:07:18.071Z"
   },
   {
    "duration": 367,
    "start_time": "2021-11-19T00:07:18.426Z"
   },
   {
    "duration": 11,
    "start_time": "2021-11-19T00:07:18.796Z"
   },
   {
    "duration": 546,
    "start_time": "2021-11-19T00:07:18.809Z"
   },
   {
    "duration": 6,
    "start_time": "2021-11-19T00:07:19.357Z"
   },
   {
    "duration": 41,
    "start_time": "2021-11-19T00:07:19.365Z"
   },
   {
    "duration": 5,
    "start_time": "2021-11-19T00:07:19.408Z"
   },
   {
    "duration": 86,
    "start_time": "2021-11-19T00:07:19.415Z"
   },
   {
    "duration": 51,
    "start_time": "2021-11-19T00:13:15.073Z"
   },
   {
    "duration": 1482,
    "start_time": "2021-11-19T00:13:23.715Z"
   },
   {
    "duration": 398,
    "start_time": "2021-11-19T00:13:25.199Z"
   },
   {
    "duration": 511,
    "start_time": "2021-11-19T00:13:25.600Z"
   },
   {
    "duration": 145,
    "start_time": "2021-11-19T00:13:26.114Z"
   },
   {
    "duration": 24,
    "start_time": "2021-11-19T00:13:26.261Z"
   },
   {
    "duration": 11,
    "start_time": "2021-11-19T00:13:26.287Z"
   },
   {
    "duration": 210,
    "start_time": "2021-11-19T00:13:26.300Z"
   },
   {
    "duration": 17,
    "start_time": "2021-11-19T00:13:26.512Z"
   },
   {
    "duration": 695,
    "start_time": "2021-11-19T00:13:26.533Z"
   },
   {
    "duration": 491,
    "start_time": "2021-11-19T00:13:27.231Z"
   },
   {
    "duration": 517,
    "start_time": "2021-11-19T00:13:27.724Z"
   },
   {
    "duration": 456,
    "start_time": "2021-11-19T00:13:28.243Z"
   },
   {
    "duration": 435,
    "start_time": "2021-11-19T00:13:28.701Z"
   },
   {
    "duration": 14,
    "start_time": "2021-11-19T00:13:29.138Z"
   },
   {
    "duration": 491,
    "start_time": "2021-11-19T00:13:29.155Z"
   },
   {
    "duration": 5,
    "start_time": "2021-11-19T00:13:29.649Z"
   },
   {
    "duration": 52,
    "start_time": "2021-11-19T00:13:29.657Z"
   },
   {
    "duration": 6,
    "start_time": "2021-11-19T00:13:29.712Z"
   },
   {
    "duration": 96,
    "start_time": "2021-11-19T00:13:29.722Z"
   },
   {
    "duration": 473,
    "start_time": "2021-11-19T00:13:29.821Z"
   },
   {
    "duration": 348,
    "start_time": "2021-11-19T00:17:16.709Z"
   },
   {
    "duration": 1440,
    "start_time": "2021-11-19T00:18:09.808Z"
   },
   {
    "duration": 328,
    "start_time": "2021-11-19T00:18:51.423Z"
   },
   {
    "duration": 1547,
    "start_time": "2021-11-19T00:19:38.647Z"
   },
   {
    "duration": 306,
    "start_time": "2021-11-19T00:19:44.709Z"
   },
   {
    "duration": 320,
    "start_time": "2021-11-19T00:20:02.196Z"
   },
   {
    "duration": 322,
    "start_time": "2021-11-19T00:20:55.067Z"
   },
   {
    "duration": 115,
    "start_time": "2021-11-19T00:21:54.441Z"
   },
   {
    "duration": 13,
    "start_time": "2021-11-19T00:22:06.453Z"
   },
   {
    "duration": 12,
    "start_time": "2021-11-19T00:26:04.895Z"
   },
   {
    "duration": 12,
    "start_time": "2021-11-19T00:26:30.397Z"
   },
   {
    "duration": 14,
    "start_time": "2021-11-19T00:27:16.683Z"
   },
   {
    "duration": 75,
    "start_time": "2021-11-19T00:28:24.360Z"
   },
   {
    "duration": 304,
    "start_time": "2021-11-19T00:28:54.856Z"
   },
   {
    "duration": 316,
    "start_time": "2021-11-19T00:28:59.663Z"
   },
   {
    "duration": 1705,
    "start_time": "2021-11-19T00:29:37.787Z"
   },
   {
    "duration": 405,
    "start_time": "2021-11-19T00:29:39.494Z"
   },
   {
    "duration": 509,
    "start_time": "2021-11-19T00:29:39.902Z"
   },
   {
    "duration": 144,
    "start_time": "2021-11-19T00:29:40.414Z"
   },
   {
    "duration": 23,
    "start_time": "2021-11-19T00:29:40.561Z"
   },
   {
    "duration": 11,
    "start_time": "2021-11-19T00:29:40.587Z"
   },
   {
    "duration": 213,
    "start_time": "2021-11-19T00:29:40.600Z"
   },
   {
    "duration": 17,
    "start_time": "2021-11-19T00:29:40.816Z"
   },
   {
    "duration": 388,
    "start_time": "2021-11-19T00:29:40.836Z"
   },
   {
    "duration": 501,
    "start_time": "2021-11-19T00:29:41.227Z"
   },
   {
    "duration": 515,
    "start_time": "2021-11-19T00:29:41.731Z"
   },
   {
    "duration": 350,
    "start_time": "2021-11-19T00:29:42.249Z"
   },
   {
    "duration": 444,
    "start_time": "2021-11-19T00:29:42.601Z"
   },
   {
    "duration": 12,
    "start_time": "2021-11-19T00:29:43.048Z"
   },
   {
    "duration": 470,
    "start_time": "2021-11-19T00:29:43.062Z"
   },
   {
    "duration": 6,
    "start_time": "2021-11-19T00:29:43.534Z"
   },
   {
    "duration": 51,
    "start_time": "2021-11-19T00:29:43.542Z"
   },
   {
    "duration": 5,
    "start_time": "2021-11-19T00:29:43.595Z"
   },
   {
    "duration": 96,
    "start_time": "2021-11-19T00:29:43.602Z"
   },
   {
    "duration": 17,
    "start_time": "2021-11-19T00:29:43.700Z"
   },
   {
    "duration": 493,
    "start_time": "2021-11-19T00:32:48.749Z"
   },
   {
    "duration": 1118,
    "start_time": "2021-11-19T00:33:02.979Z"
   },
   {
    "duration": 1533,
    "start_time": "2021-11-19T00:33:57.709Z"
   },
   {
    "duration": 396,
    "start_time": "2021-11-19T00:33:59.245Z"
   },
   {
    "duration": 509,
    "start_time": "2021-11-19T00:33:59.644Z"
   },
   {
    "duration": 139,
    "start_time": "2021-11-19T00:34:00.155Z"
   },
   {
    "duration": 15,
    "start_time": "2021-11-19T00:34:00.296Z"
   },
   {
    "duration": 12,
    "start_time": "2021-11-19T00:34:00.314Z"
   },
   {
    "duration": 216,
    "start_time": "2021-11-19T00:34:00.328Z"
   },
   {
    "duration": 17,
    "start_time": "2021-11-19T00:34:00.546Z"
   },
   {
    "duration": 597,
    "start_time": "2021-11-19T00:34:00.568Z"
   },
   {
    "duration": 745,
    "start_time": "2021-11-19T00:34:01.169Z"
   },
   {
    "duration": 767,
    "start_time": "2021-11-19T00:34:01.917Z"
   },
   {
    "duration": 511,
    "start_time": "2021-11-19T00:34:02.687Z"
   },
   {
    "duration": 626,
    "start_time": "2021-11-19T00:34:03.201Z"
   },
   {
    "duration": 14,
    "start_time": "2021-11-19T00:34:03.829Z"
   },
   {
    "duration": 678,
    "start_time": "2021-11-19T00:34:03.846Z"
   },
   {
    "duration": 6,
    "start_time": "2021-11-19T00:34:04.527Z"
   },
   {
    "duration": 60,
    "start_time": "2021-11-19T00:34:04.536Z"
   },
   {
    "duration": 7,
    "start_time": "2021-11-19T00:34:04.599Z"
   },
   {
    "duration": 129,
    "start_time": "2021-11-19T00:34:04.609Z"
   },
   {
    "duration": 20,
    "start_time": "2021-11-19T00:34:04.741Z"
   },
   {
    "duration": 11331,
    "start_time": "2021-11-19T00:34:04.764Z"
   },
   {
    "duration": 16241,
    "start_time": "2021-11-19T00:36:21.941Z"
   },
   {
    "duration": 5,
    "start_time": "2021-11-19T00:37:56.013Z"
   },
   {
    "duration": 6,
    "start_time": "2021-11-19T00:40:09.307Z"
   },
   {
    "duration": 111,
    "start_time": "2021-11-19T00:41:33.557Z"
   },
   {
    "duration": 7,
    "start_time": "2021-11-19T00:41:37.084Z"
   },
   {
    "duration": 117,
    "start_time": "2021-11-19T00:42:38.164Z"
   },
   {
    "duration": 7,
    "start_time": "2021-11-19T00:42:51.237Z"
   },
   {
    "duration": 5,
    "start_time": "2021-11-19T00:43:15.749Z"
   },
   {
    "duration": 7,
    "start_time": "2021-11-19T00:43:21.913Z"
   },
   {
    "duration": 374,
    "start_time": "2021-11-19T12:55:33.833Z"
   },
   {
    "duration": 1518,
    "start_time": "2021-11-19T12:55:53.394Z"
   },
   {
    "duration": 376,
    "start_time": "2021-11-19T12:55:54.915Z"
   },
   {
    "duration": 482,
    "start_time": "2021-11-19T12:55:55.294Z"
   },
   {
    "duration": 137,
    "start_time": "2021-11-19T12:55:55.779Z"
   },
   {
    "duration": 15,
    "start_time": "2021-11-19T12:55:55.918Z"
   },
   {
    "duration": 31,
    "start_time": "2021-11-19T12:55:55.936Z"
   },
   {
    "duration": 210,
    "start_time": "2021-11-19T12:55:55.970Z"
   },
   {
    "duration": 18,
    "start_time": "2021-11-19T12:55:56.183Z"
   },
   {
    "duration": 417,
    "start_time": "2021-11-19T12:55:56.207Z"
   },
   {
    "duration": 525,
    "start_time": "2021-11-19T12:55:56.628Z"
   },
   {
    "duration": 535,
    "start_time": "2021-11-19T12:55:57.156Z"
   },
   {
    "duration": 367,
    "start_time": "2021-11-19T12:55:57.693Z"
   },
   {
    "duration": 459,
    "start_time": "2021-11-19T12:55:58.062Z"
   },
   {
    "duration": 12,
    "start_time": "2021-11-19T12:55:58.524Z"
   },
   {
    "duration": 496,
    "start_time": "2021-11-19T12:55:58.539Z"
   },
   {
    "duration": 6,
    "start_time": "2021-11-19T12:55:59.038Z"
   },
   {
    "duration": 47,
    "start_time": "2021-11-19T12:55:59.047Z"
   },
   {
    "duration": 6,
    "start_time": "2021-11-19T12:55:59.097Z"
   },
   {
    "duration": 110,
    "start_time": "2021-11-19T12:55:59.107Z"
   },
   {
    "duration": 18,
    "start_time": "2021-11-19T12:55:59.220Z"
   },
   {
    "duration": 14339,
    "start_time": "2021-11-19T12:55:59.241Z"
   },
   {
    "duration": 87,
    "start_time": "2021-11-19T12:56:13.583Z"
   },
   {
    "duration": 433,
    "start_time": "2021-11-19T12:56:13.673Z"
   },
   {
    "duration": 4078574,
    "start_time": "2021-11-19T12:56:48.063Z"
   },
   {
    "duration": 1637,
    "start_time": "2021-11-19T14:10:32.446Z"
   },
   {
    "duration": 1596,
    "start_time": "2021-11-19T14:11:43.994Z"
   },
   {
    "duration": 7289,
    "start_time": "2021-11-19T14:12:06.359Z"
   },
   {
    "duration": 7032,
    "start_time": "2021-11-19T14:13:41.643Z"
   },
   {
    "duration": 1553,
    "start_time": "2021-11-19T14:17:50.594Z"
   },
   {
    "duration": 505,
    "start_time": "2021-11-19T14:17:52.150Z"
   },
   {
    "duration": 531,
    "start_time": "2021-11-19T14:17:52.666Z"
   },
   {
    "duration": 144,
    "start_time": "2021-11-19T14:17:53.201Z"
   },
   {
    "duration": 31,
    "start_time": "2021-11-19T14:17:53.348Z"
   },
   {
    "duration": 11,
    "start_time": "2021-11-19T14:17:53.381Z"
   },
   {
    "duration": 216,
    "start_time": "2021-11-19T14:17:53.394Z"
   },
   {
    "duration": 16,
    "start_time": "2021-11-19T14:17:53.614Z"
   },
   {
    "duration": 425,
    "start_time": "2021-11-19T14:17:53.633Z"
   },
   {
    "duration": 525,
    "start_time": "2021-11-19T14:17:54.061Z"
   },
   {
    "duration": 632,
    "start_time": "2021-11-19T14:17:54.589Z"
   },
   {
    "duration": 461,
    "start_time": "2021-11-19T14:17:55.223Z"
   },
   {
    "duration": 468,
    "start_time": "2021-11-19T14:17:55.686Z"
   },
   {
    "duration": 17,
    "start_time": "2021-11-19T14:17:56.157Z"
   },
   {
    "duration": 476,
    "start_time": "2021-11-19T14:17:56.177Z"
   },
   {
    "duration": 14,
    "start_time": "2021-11-19T14:17:56.656Z"
   },
   {
    "duration": 31,
    "start_time": "2021-11-19T14:17:56.672Z"
   },
   {
    "duration": 5,
    "start_time": "2021-11-19T14:17:56.705Z"
   },
   {
    "duration": 106,
    "start_time": "2021-11-19T14:17:56.712Z"
   },
   {
    "duration": 17,
    "start_time": "2021-11-19T14:17:56.820Z"
   },
   {
    "duration": 17235,
    "start_time": "2021-11-19T14:17:56.840Z"
   },
   {
    "duration": 91,
    "start_time": "2021-11-19T14:18:14.079Z"
   },
   {
    "duration": 1877912,
    "start_time": "2021-11-19T14:18:14.176Z"
   },
   {
    "duration": 6843,
    "start_time": "2021-11-19T14:49:32.090Z"
   },
   {
    "duration": 1897689,
    "start_time": "2021-11-19T14:49:38.936Z"
   },
   {
    "duration": 9143,
    "start_time": "2021-11-19T15:24:29.472Z"
   },
   {
    "duration": 6,
    "start_time": "2021-11-19T15:30:33.171Z"
   },
   {
    "duration": 2622,
    "start_time": "2021-11-19T15:44:03.952Z"
   },
   {
    "duration": 2502,
    "start_time": "2021-11-19T15:47:08.596Z"
   },
   {
    "duration": 312,
    "start_time": "2021-11-19T15:54:06.963Z"
   },
   {
    "duration": 92,
    "start_time": "2021-11-19T15:54:38.512Z"
   },
   {
    "duration": 99,
    "start_time": "2021-11-19T15:54:45.520Z"
   },
   {
    "duration": 828,
    "start_time": "2021-11-19T15:54:49.389Z"
   },
   {
    "duration": 92,
    "start_time": "2021-11-19T15:54:57.423Z"
   },
   {
    "duration": 194,
    "start_time": "2021-11-19T15:55:00.390Z"
   },
   {
    "duration": 5,
    "start_time": "2021-11-19T15:55:25.146Z"
   },
   {
    "duration": 2487,
    "start_time": "2021-11-19T15:56:08.342Z"
   },
   {
    "duration": 5,
    "start_time": "2021-11-19T15:57:28.584Z"
   },
   {
    "duration": 1559,
    "start_time": "2021-11-19T21:05:15.176Z"
   },
   {
    "duration": 412,
    "start_time": "2021-11-19T21:05:16.738Z"
   },
   {
    "duration": 503,
    "start_time": "2021-11-19T21:05:17.152Z"
   },
   {
    "duration": 143,
    "start_time": "2021-11-19T21:05:17.657Z"
   },
   {
    "duration": 14,
    "start_time": "2021-11-19T21:05:17.802Z"
   },
   {
    "duration": 11,
    "start_time": "2021-11-19T21:05:17.819Z"
   },
   {
    "duration": 261,
    "start_time": "2021-11-19T21:05:17.840Z"
   },
   {
    "duration": 16,
    "start_time": "2021-11-19T21:05:18.105Z"
   },
   {
    "duration": 398,
    "start_time": "2021-11-19T21:05:18.124Z"
   },
   {
    "duration": 509,
    "start_time": "2021-11-19T21:05:18.524Z"
   },
   {
    "duration": 528,
    "start_time": "2021-11-19T21:05:19.036Z"
   },
   {
    "duration": 366,
    "start_time": "2021-11-19T21:05:19.566Z"
   },
   {
    "duration": 450,
    "start_time": "2021-11-19T21:05:19.935Z"
   },
   {
    "duration": 19,
    "start_time": "2021-11-19T21:05:20.388Z"
   },
   {
    "duration": 496,
    "start_time": "2021-11-19T21:05:20.409Z"
   },
   {
    "duration": 5,
    "start_time": "2021-11-19T21:05:20.908Z"
   },
   {
    "duration": 37,
    "start_time": "2021-11-19T21:05:20.916Z"
   },
   {
    "duration": 14,
    "start_time": "2021-11-19T21:05:20.956Z"
   },
   {
    "duration": 98,
    "start_time": "2021-11-19T21:05:20.972Z"
   },
   {
    "duration": 34,
    "start_time": "2021-11-19T21:05:21.072Z"
   },
   {
    "duration": 14096,
    "start_time": "2021-11-19T21:05:21.109Z"
   },
   {
    "duration": 96,
    "start_time": "2021-11-19T21:05:35.208Z"
   },
   {
    "duration": 1768892,
    "start_time": "2021-11-19T21:05:35.309Z"
   },
   {
    "duration": 6646,
    "start_time": "2021-11-19T21:35:04.204Z"
   },
   {
    "duration": 1817512,
    "start_time": "2021-11-19T21:35:10.853Z"
   },
   {
    "duration": 9221,
    "start_time": "2021-11-19T22:05:28.368Z"
   },
   {
    "duration": 10,
    "start_time": "2021-11-19T22:05:37.592Z"
   },
   {
    "duration": 2442,
    "start_time": "2021-11-19T22:05:37.604Z"
   },
   {
    "duration": 2525,
    "start_time": "2021-11-19T22:05:40.049Z"
   },
   {
    "duration": 5,
    "start_time": "2021-11-19T22:05:42.576Z"
   },
   {
    "duration": 1598,
    "start_time": "2021-11-20T08:11:38.473Z"
   },
   {
    "duration": 420,
    "start_time": "2021-11-20T08:11:40.073Z"
   },
   {
    "duration": 531,
    "start_time": "2021-11-20T08:11:40.502Z"
   },
   {
    "duration": 144,
    "start_time": "2021-11-20T08:11:41.036Z"
   },
   {
    "duration": 26,
    "start_time": "2021-11-20T08:11:41.182Z"
   },
   {
    "duration": 13,
    "start_time": "2021-11-20T08:11:41.211Z"
   },
   {
    "duration": 231,
    "start_time": "2021-11-20T08:11:41.226Z"
   },
   {
    "duration": 14,
    "start_time": "2021-11-20T08:11:41.461Z"
   },
   {
    "duration": 441,
    "start_time": "2021-11-20T08:11:41.478Z"
   },
   {
    "duration": 530,
    "start_time": "2021-11-20T08:11:41.922Z"
   },
   {
    "duration": 566,
    "start_time": "2021-11-20T08:11:42.455Z"
   },
   {
    "duration": 380,
    "start_time": "2021-11-20T08:11:43.024Z"
   },
   {
    "duration": 450,
    "start_time": "2021-11-20T08:11:43.407Z"
   },
   {
    "duration": 13,
    "start_time": "2021-11-20T08:11:43.860Z"
   },
   {
    "duration": 496,
    "start_time": "2021-11-20T08:11:43.875Z"
   },
   {
    "duration": 5,
    "start_time": "2021-11-20T08:11:44.374Z"
   },
   {
    "duration": 39,
    "start_time": "2021-11-20T08:11:44.401Z"
   },
   {
    "duration": 5,
    "start_time": "2021-11-20T08:11:44.442Z"
   },
   {
    "duration": 113,
    "start_time": "2021-11-20T08:11:44.449Z"
   },
   {
    "duration": 16,
    "start_time": "2021-11-20T08:11:44.564Z"
   },
   {
    "duration": 13437,
    "start_time": "2021-11-20T08:11:44.583Z"
   },
   {
    "duration": 7,
    "start_time": "2021-11-20T08:11:58.103Z"
   },
   {
    "duration": 1855864,
    "start_time": "2021-11-20T08:11:58.121Z"
   },
   {
    "duration": 6996,
    "start_time": "2021-11-20T08:42:53.987Z"
   },
   {
    "duration": 1874054,
    "start_time": "2021-11-20T08:43:00.986Z"
   },
   {
    "duration": 9732,
    "start_time": "2021-11-20T09:14:15.043Z"
   },
   {
    "duration": 4,
    "start_time": "2021-11-20T09:14:24.777Z"
   },
   {
    "duration": 2610,
    "start_time": "2021-11-20T09:14:24.802Z"
   },
   {
    "duration": 2628,
    "start_time": "2021-11-20T09:14:27.415Z"
   },
   {
    "duration": 5,
    "start_time": "2021-11-20T09:14:30.045Z"
   },
   {
    "duration": 2076,
    "start_time": "2021-11-20T12:11:24.262Z"
   },
   {
    "duration": 622,
    "start_time": "2021-11-20T12:11:26.342Z"
   },
   {
    "duration": 894,
    "start_time": "2021-11-20T12:11:26.968Z"
   },
   {
    "duration": 226,
    "start_time": "2021-11-20T12:11:27.866Z"
   },
   {
    "duration": 19,
    "start_time": "2021-11-20T12:11:28.102Z"
   },
   {
    "duration": 13,
    "start_time": "2021-11-20T12:11:28.124Z"
   },
   {
    "duration": 238,
    "start_time": "2021-11-20T12:11:28.140Z"
   },
   {
    "duration": 27,
    "start_time": "2021-11-20T12:11:28.382Z"
   },
   {
    "duration": 610,
    "start_time": "2021-11-20T12:11:28.414Z"
   },
   {
    "duration": 766,
    "start_time": "2021-11-20T12:11:29.027Z"
   },
   {
    "duration": 824,
    "start_time": "2021-11-20T12:11:29.797Z"
   },
   {
    "duration": 396,
    "start_time": "2021-11-20T12:11:30.624Z"
   },
   {
    "duration": 481,
    "start_time": "2021-11-20T12:11:31.023Z"
   },
   {
    "duration": 16,
    "start_time": "2021-11-20T12:11:31.508Z"
   },
   {
    "duration": 528,
    "start_time": "2021-11-20T12:11:31.527Z"
   },
   {
    "duration": 7,
    "start_time": "2021-11-20T12:11:32.059Z"
   },
   {
    "duration": 64,
    "start_time": "2021-11-20T12:11:32.069Z"
   },
   {
    "duration": 8,
    "start_time": "2021-11-20T12:11:32.136Z"
   },
   {
    "duration": 108,
    "start_time": "2021-11-20T12:11:32.146Z"
   },
   {
    "duration": 21,
    "start_time": "2021-11-20T12:11:32.258Z"
   },
   {
    "duration": 17218,
    "start_time": "2021-11-20T12:11:32.283Z"
   },
   {
    "duration": 9,
    "start_time": "2021-11-20T12:11:49.505Z"
   },
   {
    "duration": 2660432,
    "start_time": "2021-11-20T12:11:49.522Z"
   },
   {
    "duration": 6978,
    "start_time": "2021-11-20T12:56:09.956Z"
   },
   {
    "duration": 1891112,
    "start_time": "2021-11-20T12:56:16.937Z"
   },
   {
    "duration": 9440,
    "start_time": "2021-11-20T13:27:48.052Z"
   },
   {
    "duration": 13,
    "start_time": "2021-11-20T13:27:57.494Z"
   },
   {
    "duration": 2565,
    "start_time": "2021-11-20T13:27:57.509Z"
   },
   {
    "duration": 2952,
    "start_time": "2021-11-20T13:28:00.078Z"
   },
   {
    "duration": 7,
    "start_time": "2021-11-20T13:28:03.033Z"
   },
   {
    "duration": 271,
    "start_time": "2021-11-20T21:02:47.806Z"
   },
   {
    "duration": 232,
    "start_time": "2021-11-20T21:03:32.474Z"
   },
   {
    "duration": 1146,
    "start_time": "2021-11-20T21:04:25.881Z"
   },
   {
    "duration": 314,
    "start_time": "2021-11-20T21:04:27.029Z"
   },
   {
    "duration": 404,
    "start_time": "2021-11-20T21:04:27.346Z"
   },
   {
    "duration": 110,
    "start_time": "2021-11-20T21:04:27.763Z"
   },
   {
    "duration": 7,
    "start_time": "2021-11-20T21:04:27.874Z"
   },
   {
    "duration": 7,
    "start_time": "2021-11-20T21:04:27.883Z"
   },
   {
    "duration": 147,
    "start_time": "2021-11-20T21:04:27.891Z"
   },
   {
    "duration": 12,
    "start_time": "2021-11-20T21:04:28.040Z"
   },
   {
    "duration": 85,
    "start_time": "2021-11-20T21:04:28.065Z"
   },
   {
    "duration": 50,
    "start_time": "2021-11-20T21:04:28.153Z"
   },
   {
    "duration": 100,
    "start_time": "2021-11-20T21:04:28.205Z"
   },
   {
    "duration": 236,
    "start_time": "2021-11-20T21:04:28.307Z"
   },
   {
    "duration": 301,
    "start_time": "2021-11-20T21:04:28.544Z"
   },
   {
    "duration": 339,
    "start_time": "2021-11-20T21:04:28.847Z"
   },
   {
    "duration": 213,
    "start_time": "2021-11-20T21:04:29.188Z"
   },
   {
    "duration": 300,
    "start_time": "2021-11-20T21:04:29.403Z"
   },
   {
    "duration": 7,
    "start_time": "2021-11-20T21:04:29.705Z"
   },
   {
    "duration": 308,
    "start_time": "2021-11-20T21:04:29.713Z"
   },
   {
    "duration": 3,
    "start_time": "2021-11-20T21:04:30.023Z"
   },
   {
    "duration": 31,
    "start_time": "2021-11-20T21:04:30.027Z"
   },
   {
    "duration": 3,
    "start_time": "2021-11-20T21:04:30.060Z"
   },
   {
    "duration": 56,
    "start_time": "2021-11-20T21:04:30.065Z"
   },
   {
    "duration": 15,
    "start_time": "2021-11-20T21:04:30.123Z"
   },
   {
    "duration": 11927,
    "start_time": "2021-11-20T21:04:30.140Z"
   },
   {
    "duration": 4,
    "start_time": "2021-11-20T21:04:42.070Z"
   },
   {
    "duration": 1318679,
    "start_time": "2021-11-20T21:04:42.077Z"
   },
   {
    "duration": 5261,
    "start_time": "2021-11-20T21:26:40.760Z"
   },
   {
    "duration": 1381125,
    "start_time": "2021-11-20T21:26:46.023Z"
   },
   {
    "duration": 6867,
    "start_time": "2021-11-20T21:49:47.149Z"
   },
   {
    "duration": 3,
    "start_time": "2021-11-20T21:49:54.018Z"
   },
   {
    "duration": 1794,
    "start_time": "2021-11-20T21:49:54.023Z"
   },
   {
    "duration": 1867,
    "start_time": "2021-11-20T21:49:55.818Z"
   },
   {
    "duration": 4,
    "start_time": "2021-11-20T21:49:57.686Z"
   },
   {
    "duration": 305,
    "start_time": "2021-11-20T21:49:57.691Z"
   },
   {
    "duration": 43,
    "start_time": "2021-11-20T21:49:58.040Z"
   },
   {
    "duration": 326,
    "start_time": "2021-11-20T22:44:44.113Z"
   },
   {
    "duration": 4,
    "start_time": "2021-11-20T22:44:49.923Z"
   },
   {
    "duration": 5,
    "start_time": "2021-11-20T22:45:14.568Z"
   },
   {
    "duration": 1567,
    "start_time": "2021-11-21T21:47:44.915Z"
   },
   {
    "duration": 633,
    "start_time": "2021-11-21T21:47:46.485Z"
   },
   {
    "duration": 4867,
    "start_time": "2021-11-21T21:47:47.121Z"
   },
   {
    "duration": 528,
    "start_time": "2021-11-21T21:47:51.990Z"
   },
   {
    "duration": 16,
    "start_time": "2021-11-21T21:47:52.521Z"
   },
   {
    "duration": 12,
    "start_time": "2021-11-21T21:47:52.540Z"
   },
   {
    "duration": 205,
    "start_time": "2021-11-21T21:47:52.582Z"
   },
   {
    "duration": 18,
    "start_time": "2021-11-21T21:47:52.792Z"
   },
   {
    "duration": 148,
    "start_time": "2021-11-21T21:47:52.813Z"
   },
   {
    "duration": 58,
    "start_time": "2021-11-21T21:47:52.964Z"
   },
   {
    "duration": 182,
    "start_time": "2021-11-21T21:47:53.024Z"
   },
   {
    "duration": 376,
    "start_time": "2021-11-21T21:47:53.209Z"
   },
   {
    "duration": 487,
    "start_time": "2021-11-21T21:47:53.588Z"
   },
   {
    "duration": 518,
    "start_time": "2021-11-21T21:47:54.078Z"
   },
   {
    "duration": 372,
    "start_time": "2021-11-21T21:47:54.599Z"
   },
   {
    "duration": 448,
    "start_time": "2021-11-21T21:47:54.982Z"
   },
   {
    "duration": 7,
    "start_time": "2021-11-21T21:47:55.433Z"
   },
   {
    "duration": 12,
    "start_time": "2021-11-21T21:47:55.443Z"
   },
   {
    "duration": 525,
    "start_time": "2021-11-21T21:47:55.457Z"
   },
   {
    "duration": 5,
    "start_time": "2021-11-21T21:47:55.985Z"
   },
   {
    "duration": 31,
    "start_time": "2021-11-21T21:47:55.992Z"
   },
   {
    "duration": 6,
    "start_time": "2021-11-21T21:47:56.026Z"
   },
   {
    "duration": 116,
    "start_time": "2021-11-21T21:47:56.082Z"
   },
   {
    "duration": 20,
    "start_time": "2021-11-21T21:47:56.201Z"
   },
   {
    "duration": 469,
    "start_time": "2021-11-21T21:47:56.224Z"
   },
   {
    "duration": 1601,
    "start_time": "2021-11-21T21:47:55.095Z"
   },
   {
    "duration": 1594,
    "start_time": "2021-11-21T21:47:55.103Z"
   },
   {
    "duration": 1590,
    "start_time": "2021-11-21T21:47:55.109Z"
   },
   {
    "duration": 1585,
    "start_time": "2021-11-21T21:47:55.115Z"
   },
   {
    "duration": 1583,
    "start_time": "2021-11-21T21:47:55.119Z"
   },
   {
    "duration": 1578,
    "start_time": "2021-11-21T21:47:55.125Z"
   },
   {
    "duration": 1572,
    "start_time": "2021-11-21T21:47:55.132Z"
   },
   {
    "duration": 1567,
    "start_time": "2021-11-21T21:47:55.139Z"
   },
   {
    "duration": 1557,
    "start_time": "2021-11-21T21:47:55.150Z"
   },
   {
    "duration": 1550,
    "start_time": "2021-11-21T21:47:55.158Z"
   },
   {
    "duration": 6,
    "start_time": "2021-11-21T21:49:17.226Z"
   },
   {
    "duration": 1678,
    "start_time": "2021-11-21T21:49:25.382Z"
   },
   {
    "duration": 409,
    "start_time": "2021-11-21T21:49:27.062Z"
   },
   {
    "duration": 524,
    "start_time": "2021-11-21T21:49:27.474Z"
   },
   {
    "duration": 143,
    "start_time": "2021-11-21T21:49:28.000Z"
   },
   {
    "duration": 13,
    "start_time": "2021-11-21T21:49:28.145Z"
   },
   {
    "duration": 24,
    "start_time": "2021-11-21T21:49:28.161Z"
   },
   {
    "duration": 203,
    "start_time": "2021-11-21T21:49:28.187Z"
   },
   {
    "duration": 15,
    "start_time": "2021-11-21T21:49:28.394Z"
   },
   {
    "duration": 146,
    "start_time": "2021-11-21T21:49:28.412Z"
   },
   {
    "duration": 66,
    "start_time": "2021-11-21T21:49:28.561Z"
   },
   {
    "duration": 176,
    "start_time": "2021-11-21T21:49:28.630Z"
   },
   {
    "duration": 420,
    "start_time": "2021-11-21T21:49:28.809Z"
   },
   {
    "duration": 723,
    "start_time": "2021-11-21T21:49:29.233Z"
   },
   {
    "duration": 527,
    "start_time": "2021-11-21T21:49:29.958Z"
   },
   {
    "duration": 445,
    "start_time": "2021-11-21T21:49:30.488Z"
   },
   {
    "duration": 369,
    "start_time": "2021-11-21T21:49:30.935Z"
   },
   {
    "duration": 6,
    "start_time": "2021-11-21T21:49:31.307Z"
   },
   {
    "duration": 14,
    "start_time": "2021-11-21T21:49:31.316Z"
   },
   {
    "duration": 488,
    "start_time": "2021-11-21T21:49:31.332Z"
   },
   {
    "duration": 6,
    "start_time": "2021-11-21T21:49:31.823Z"
   },
   {
    "duration": 57,
    "start_time": "2021-11-21T21:49:31.845Z"
   },
   {
    "duration": 6,
    "start_time": "2021-11-21T21:49:31.906Z"
   },
   {
    "duration": 137,
    "start_time": "2021-11-21T21:49:31.919Z"
   },
   {
    "duration": 34,
    "start_time": "2021-11-21T21:49:32.060Z"
   },
   {
    "duration": 16,
    "start_time": "2021-11-21T21:49:32.096Z"
   },
   {
    "duration": 15072,
    "start_time": "2021-11-21T21:49:32.114Z"
   },
   {
    "duration": 91,
    "start_time": "2021-11-21T21:49:47.192Z"
   },
   {
    "duration": 1871649,
    "start_time": "2021-11-21T21:49:47.286Z"
   },
   {
    "duration": 8763,
    "start_time": "2021-11-21T22:20:58.937Z"
   },
   {
    "duration": 1540,
    "start_time": "2021-11-21T22:30:27.833Z"
   },
   {
    "duration": 398,
    "start_time": "2021-11-21T22:30:29.375Z"
   },
   {
    "duration": 516,
    "start_time": "2021-11-21T22:30:29.776Z"
   },
   {
    "duration": 143,
    "start_time": "2021-11-21T22:30:30.295Z"
   },
   {
    "duration": 15,
    "start_time": "2021-11-21T22:30:30.441Z"
   },
   {
    "duration": 31,
    "start_time": "2021-11-21T22:30:30.458Z"
   },
   {
    "duration": 210,
    "start_time": "2021-11-21T22:30:30.492Z"
   },
   {
    "duration": 17,
    "start_time": "2021-11-21T22:30:30.707Z"
   },
   {
    "duration": 144,
    "start_time": "2021-11-21T22:30:30.727Z"
   },
   {
    "duration": 56,
    "start_time": "2021-11-21T22:30:30.874Z"
   },
   {
    "duration": 185,
    "start_time": "2021-11-21T22:30:30.932Z"
   },
   {
    "duration": 381,
    "start_time": "2021-11-21T22:30:31.119Z"
   },
   {
    "duration": 584,
    "start_time": "2021-11-21T22:30:31.502Z"
   },
   {
    "duration": 565,
    "start_time": "2021-11-21T22:30:32.089Z"
   },
   {
    "duration": 374,
    "start_time": "2021-11-21T22:30:32.656Z"
   },
   {
    "duration": 445,
    "start_time": "2021-11-21T22:30:33.032Z"
   },
   {
    "duration": 6,
    "start_time": "2021-11-21T22:30:33.482Z"
   },
   {
    "duration": 16,
    "start_time": "2021-11-21T22:30:33.490Z"
   },
   {
    "duration": 479,
    "start_time": "2021-11-21T22:30:33.509Z"
   },
   {
    "duration": 6,
    "start_time": "2021-11-21T22:30:33.990Z"
   },
   {
    "duration": 30,
    "start_time": "2021-11-21T22:30:33.998Z"
   },
   {
    "duration": 5,
    "start_time": "2021-11-21T22:30:34.030Z"
   },
   {
    "duration": 107,
    "start_time": "2021-11-21T22:30:34.040Z"
   },
   {
    "duration": 35,
    "start_time": "2021-11-21T22:30:34.150Z"
   },
   {
    "duration": 14,
    "start_time": "2021-11-21T22:30:34.189Z"
   },
   {
    "duration": 16898,
    "start_time": "2021-11-21T22:30:34.206Z"
   },
   {
    "duration": 7,
    "start_time": "2021-11-21T22:30:51.184Z"
   },
   {
    "duration": 1915680,
    "start_time": "2021-11-21T22:30:51.194Z"
   },
   {
    "duration": 8632,
    "start_time": "2021-11-21T23:02:46.882Z"
   },
   {
    "duration": 1867691,
    "start_time": "2021-11-21T23:02:55.516Z"
   },
   {
    "duration": 8816,
    "start_time": "2021-11-21T23:34:03.209Z"
   },
   {
    "duration": 5,
    "start_time": "2021-11-21T23:34:12.027Z"
   },
   {
    "duration": 2422,
    "start_time": "2021-11-21T23:34:12.035Z"
   },
   {
    "duration": 2439,
    "start_time": "2021-11-21T23:34:14.459Z"
   },
   {
    "duration": 5,
    "start_time": "2021-11-21T23:34:16.900Z"
   },
   {
    "duration": 2815,
    "start_time": "2021-11-22T22:19:44.036Z"
   },
   {
    "duration": 876,
    "start_time": "2021-11-22T22:19:46.854Z"
   },
   {
    "duration": 1036,
    "start_time": "2021-11-22T22:19:47.733Z"
   },
   {
    "duration": 289,
    "start_time": "2021-11-22T22:19:48.772Z"
   },
   {
    "duration": 70,
    "start_time": "2021-11-22T22:19:49.064Z"
   },
   {
    "duration": 12,
    "start_time": "2021-11-22T22:19:49.137Z"
   },
   {
    "duration": 415,
    "start_time": "2021-11-22T22:19:49.151Z"
   },
   {
    "duration": 69,
    "start_time": "2021-11-22T22:19:49.570Z"
   },
   {
    "duration": 289,
    "start_time": "2021-11-22T22:19:49.642Z"
   },
   {
    "duration": 98,
    "start_time": "2021-11-22T22:19:49.933Z"
   },
   {
    "duration": 337,
    "start_time": "2021-11-22T22:19:50.033Z"
   },
   {
    "duration": 791,
    "start_time": "2021-11-22T22:19:50.373Z"
   },
   {
    "duration": 1588,
    "start_time": "2021-11-22T22:19:51.167Z"
   },
   {
    "duration": 1475,
    "start_time": "2021-11-22T22:19:52.758Z"
   },
   {
    "duration": 906,
    "start_time": "2021-11-22T22:19:54.236Z"
   },
   {
    "duration": 1087,
    "start_time": "2021-11-22T22:19:55.145Z"
   },
   {
    "duration": 6,
    "start_time": "2021-11-22T22:19:56.235Z"
   },
   {
    "duration": 92,
    "start_time": "2021-11-22T22:19:56.243Z"
   },
   {
    "duration": 1503,
    "start_time": "2021-11-22T22:19:56.337Z"
   },
   {
    "duration": 5,
    "start_time": "2021-11-22T22:19:57.843Z"
   },
   {
    "duration": 102,
    "start_time": "2021-11-22T22:19:57.850Z"
   },
   {
    "duration": 78,
    "start_time": "2021-11-22T22:19:57.954Z"
   },
   {
    "duration": 210,
    "start_time": "2021-11-22T22:19:58.034Z"
   },
   {
    "duration": 90,
    "start_time": "2021-11-22T22:19:58.246Z"
   },
   {
    "duration": 13,
    "start_time": "2021-11-22T22:19:58.338Z"
   },
   {
    "duration": 18104,
    "start_time": "2021-11-22T22:19:58.429Z"
   },
   {
    "duration": 8,
    "start_time": "2021-11-22T22:20:16.630Z"
   },
   {
    "duration": 1964287,
    "start_time": "2021-11-22T22:20:16.641Z"
   },
   {
    "duration": 6418,
    "start_time": "2021-11-22T22:53:00.930Z"
   },
   {
    "duration": 1770310,
    "start_time": "2021-11-22T22:53:07.351Z"
   },
   {
    "duration": 8970,
    "start_time": "2021-11-22T23:22:37.664Z"
   },
   {
    "duration": 5,
    "start_time": "2021-11-22T23:22:46.637Z"
   },
   {
    "duration": 2358,
    "start_time": "2021-11-22T23:22:46.644Z"
   },
   {
    "duration": 2457,
    "start_time": "2021-11-22T23:22:49.004Z"
   },
   {
    "duration": 5,
    "start_time": "2021-11-22T23:22:51.463Z"
   }
  ],
  "kernelspec": {
   "display_name": "Python 3",
   "language": "python",
   "name": "python3"
  },
  "language_info": {
   "codemirror_mode": {
    "name": "ipython",
    "version": 3
   },
   "file_extension": ".py",
   "mimetype": "text/x-python",
   "name": "python",
   "nbconvert_exporter": "python",
   "pygments_lexer": "ipython3",
   "version": "3.8.8"
  },
  "toc": {
   "base_numbering": 1,
   "nav_menu": {},
   "number_sections": true,
   "sideBar": true,
   "skip_h1_title": true,
   "title_cell": "Содержание",
   "title_sidebar": "Contents",
   "toc_cell": true,
   "toc_position": {},
   "toc_section_display": true,
   "toc_window_display": true
  }
 },
 "nbformat": 4,
 "nbformat_minor": 2
}
